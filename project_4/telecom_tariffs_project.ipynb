{
 "cells": [
  {
   "cell_type": "markdown",
   "metadata": {},
   "source": [
    "# Определение перспективного тарифа для телеком-компании\n",
    "\n",
    "Клиентам предлагают два тарифных плана: «Смарт» и «Ультра». Чтобы скорректировать рекламный бюджет, коммерческий департамент хочет понять, какой тариф приносит больше денег. \n",
    "\n",
    "Предстоит сделать предварительный анализ тарифов на небольшой выборке клиентов. Даны 500 пользователей «Мегалайна»: кто они, откуда, каким тарифом пользуются, сколько звонков и сообщений каждый отправил за 2018 год. Нужно проанализировать поведение клиентов и сделать вывод — какой тариф лучше.\n",
    "\n",
    "**Примечание**\n",
    "\n",
    "«Мегалайн» всегда округляет секунды до минут, а мегабайты — до гигабайт. Каждый звонок округляется отдельно: даже если он длился всего 1 секунду, будет засчитан как 1 минута.\n",
    "Для веб-трафика отдельные сессии не считаются. Вместо этого общая сумма за месяц округляется в бо́льшую сторону. Если абонент использует 1025 мегабайт в этом месяце, с него возьмут плату за 2 гигабайта. Примите, что неиспользованные за предыдущий месяц звонки, смс, интернет на следующий месяц не переносятся."
   ]
  },
  {
   "cell_type": "markdown",
   "metadata": {},
   "source": [
    "**Цель исследования -** установить тариф, который приносит больше денег\n",
    "\n",
    "**Ход исследования**\n",
    "1. Изучение данных.\n",
    "2. Предобработка данных.\n",
    "3. Анализ данных.\n",
    "4. Проверка гипотезы.\n",
    "5. Подготовка общего вывода."
   ]
  },
  {
   "cell_type": "markdown",
   "metadata": {},
   "source": [
    "## Изучение данных"
   ]
  },
  {
   "cell_type": "code",
   "execution_count": 1,
   "metadata": {},
   "outputs": [],
   "source": [
    "import pandas as pd\n",
    "import numpy as np\n",
    "from scipy import stats as st\n",
    "import matplotlib.pyplot as plt"
   ]
  },
  {
   "cell_type": "code",
   "execution_count": 2,
   "metadata": {},
   "outputs": [],
   "source": [
    "calls = pd.read_csv('/datasets/calls.csv')\n",
    "internet = pd.read_csv('/datasets/internet.csv')\n",
    "messages = pd.read_csv('/datasets/messages.csv')\n",
    "tariffs = pd.read_csv('/datasets/tariffs.csv')\n",
    "users = pd.read_csv('/datasets/users.csv')"
   ]
  },
  {
   "cell_type": "markdown",
   "metadata": {},
   "source": [
    "### Звонки"
   ]
  },
  {
   "cell_type": "code",
   "execution_count": 3,
   "metadata": {
    "scrolled": true
   },
   "outputs": [
    {
     "data": {
      "text/html": [
       "<div>\n",
       "<style scoped>\n",
       "    .dataframe tbody tr th:only-of-type {\n",
       "        vertical-align: middle;\n",
       "    }\n",
       "\n",
       "    .dataframe tbody tr th {\n",
       "        vertical-align: top;\n",
       "    }\n",
       "\n",
       "    .dataframe thead th {\n",
       "        text-align: right;\n",
       "    }\n",
       "</style>\n",
       "<table border=\"1\" class=\"dataframe\">\n",
       "  <thead>\n",
       "    <tr style=\"text-align: right;\">\n",
       "      <th></th>\n",
       "      <th>id</th>\n",
       "      <th>call_date</th>\n",
       "      <th>duration</th>\n",
       "      <th>user_id</th>\n",
       "    </tr>\n",
       "  </thead>\n",
       "  <tbody>\n",
       "    <tr>\n",
       "      <th>0</th>\n",
       "      <td>1000_0</td>\n",
       "      <td>2018-07-25</td>\n",
       "      <td>0.00</td>\n",
       "      <td>1000</td>\n",
       "    </tr>\n",
       "    <tr>\n",
       "      <th>1</th>\n",
       "      <td>1000_1</td>\n",
       "      <td>2018-08-17</td>\n",
       "      <td>0.00</td>\n",
       "      <td>1000</td>\n",
       "    </tr>\n",
       "    <tr>\n",
       "      <th>2</th>\n",
       "      <td>1000_2</td>\n",
       "      <td>2018-06-11</td>\n",
       "      <td>2.85</td>\n",
       "      <td>1000</td>\n",
       "    </tr>\n",
       "    <tr>\n",
       "      <th>3</th>\n",
       "      <td>1000_3</td>\n",
       "      <td>2018-09-21</td>\n",
       "      <td>13.80</td>\n",
       "      <td>1000</td>\n",
       "    </tr>\n",
       "    <tr>\n",
       "      <th>4</th>\n",
       "      <td>1000_4</td>\n",
       "      <td>2018-12-15</td>\n",
       "      <td>5.18</td>\n",
       "      <td>1000</td>\n",
       "    </tr>\n",
       "  </tbody>\n",
       "</table>\n",
       "</div>"
      ],
      "text/plain": [
       "       id   call_date  duration  user_id\n",
       "0  1000_0  2018-07-25      0.00     1000\n",
       "1  1000_1  2018-08-17      0.00     1000\n",
       "2  1000_2  2018-06-11      2.85     1000\n",
       "3  1000_3  2018-09-21     13.80     1000\n",
       "4  1000_4  2018-12-15      5.18     1000"
      ]
     },
     "execution_count": 3,
     "metadata": {},
     "output_type": "execute_result"
    }
   ],
   "source": [
    "calls.head()"
   ]
  },
  {
   "cell_type": "code",
   "execution_count": 4,
   "metadata": {},
   "outputs": [
    {
     "name": "stdout",
     "output_type": "stream",
     "text": [
      "<class 'pandas.core.frame.DataFrame'>\n",
      "RangeIndex: 202607 entries, 0 to 202606\n",
      "Data columns (total 4 columns):\n",
      " #   Column     Non-Null Count   Dtype  \n",
      "---  ------     --------------   -----  \n",
      " 0   id         202607 non-null  object \n",
      " 1   call_date  202607 non-null  object \n",
      " 2   duration   202607 non-null  float64\n",
      " 3   user_id    202607 non-null  int64  \n",
      "dtypes: float64(1), int64(1), object(2)\n",
      "memory usage: 6.2+ MB\n"
     ]
    }
   ],
   "source": [
    "calls.info()"
   ]
  },
  {
   "cell_type": "markdown",
   "metadata": {},
   "source": [
    "Согласно документации:\n",
    "\n",
    "* `id` — уникальный номер звонка\n",
    "* `call_date` — дата звонка\n",
    "* `duration` — длительность звонка в минутах\n",
    "* `user_id` — идентификатор пользователя, сделавшего звонок"
   ]
  },
  {
   "cell_type": "markdown",
   "metadata": {},
   "source": [
    "### Интернет"
   ]
  },
  {
   "cell_type": "code",
   "execution_count": 5,
   "metadata": {},
   "outputs": [
    {
     "data": {
      "text/html": [
       "<div>\n",
       "<style scoped>\n",
       "    .dataframe tbody tr th:only-of-type {\n",
       "        vertical-align: middle;\n",
       "    }\n",
       "\n",
       "    .dataframe tbody tr th {\n",
       "        vertical-align: top;\n",
       "    }\n",
       "\n",
       "    .dataframe thead th {\n",
       "        text-align: right;\n",
       "    }\n",
       "</style>\n",
       "<table border=\"1\" class=\"dataframe\">\n",
       "  <thead>\n",
       "    <tr style=\"text-align: right;\">\n",
       "      <th></th>\n",
       "      <th>Unnamed: 0</th>\n",
       "      <th>id</th>\n",
       "      <th>mb_used</th>\n",
       "      <th>session_date</th>\n",
       "      <th>user_id</th>\n",
       "    </tr>\n",
       "  </thead>\n",
       "  <tbody>\n",
       "    <tr>\n",
       "      <th>0</th>\n",
       "      <td>0</td>\n",
       "      <td>1000_0</td>\n",
       "      <td>112.95</td>\n",
       "      <td>2018-11-25</td>\n",
       "      <td>1000</td>\n",
       "    </tr>\n",
       "    <tr>\n",
       "      <th>1</th>\n",
       "      <td>1</td>\n",
       "      <td>1000_1</td>\n",
       "      <td>1052.81</td>\n",
       "      <td>2018-09-07</td>\n",
       "      <td>1000</td>\n",
       "    </tr>\n",
       "    <tr>\n",
       "      <th>2</th>\n",
       "      <td>2</td>\n",
       "      <td>1000_2</td>\n",
       "      <td>1197.26</td>\n",
       "      <td>2018-06-25</td>\n",
       "      <td>1000</td>\n",
       "    </tr>\n",
       "    <tr>\n",
       "      <th>3</th>\n",
       "      <td>3</td>\n",
       "      <td>1000_3</td>\n",
       "      <td>550.27</td>\n",
       "      <td>2018-08-22</td>\n",
       "      <td>1000</td>\n",
       "    </tr>\n",
       "    <tr>\n",
       "      <th>4</th>\n",
       "      <td>4</td>\n",
       "      <td>1000_4</td>\n",
       "      <td>302.56</td>\n",
       "      <td>2018-09-24</td>\n",
       "      <td>1000</td>\n",
       "    </tr>\n",
       "  </tbody>\n",
       "</table>\n",
       "</div>"
      ],
      "text/plain": [
       "   Unnamed: 0      id  mb_used session_date  user_id\n",
       "0           0  1000_0   112.95   2018-11-25     1000\n",
       "1           1  1000_1  1052.81   2018-09-07     1000\n",
       "2           2  1000_2  1197.26   2018-06-25     1000\n",
       "3           3  1000_3   550.27   2018-08-22     1000\n",
       "4           4  1000_4   302.56   2018-09-24     1000"
      ]
     },
     "execution_count": 5,
     "metadata": {},
     "output_type": "execute_result"
    }
   ],
   "source": [
    "internet.head()"
   ]
  },
  {
   "cell_type": "code",
   "execution_count": 6,
   "metadata": {
    "scrolled": false
   },
   "outputs": [
    {
     "name": "stdout",
     "output_type": "stream",
     "text": [
      "<class 'pandas.core.frame.DataFrame'>\n",
      "RangeIndex: 149396 entries, 0 to 149395\n",
      "Data columns (total 5 columns):\n",
      " #   Column        Non-Null Count   Dtype  \n",
      "---  ------        --------------   -----  \n",
      " 0   Unnamed: 0    149396 non-null  int64  \n",
      " 1   id            149396 non-null  object \n",
      " 2   mb_used       149396 non-null  float64\n",
      " 3   session_date  149396 non-null  object \n",
      " 4   user_id       149396 non-null  int64  \n",
      "dtypes: float64(1), int64(2), object(2)\n",
      "memory usage: 5.7+ MB\n"
     ]
    }
   ],
   "source": [
    "internet.info()"
   ]
  },
  {
   "cell_type": "markdown",
   "metadata": {},
   "source": [
    "Согласно документации:\n",
    "\n",
    "* `id` — уникальный номер сессии\n",
    "* `mb_used` — объём потраченного за сессию интернет-трафика (в мегабайтах)\n",
    "* `session_date` — дата интернет-сессии\n",
    "* `user_id` — идентификатор пользователя"
   ]
  },
  {
   "cell_type": "markdown",
   "metadata": {},
   "source": [
    "### Сообщения"
   ]
  },
  {
   "cell_type": "code",
   "execution_count": 7,
   "metadata": {
    "scrolled": false
   },
   "outputs": [
    {
     "data": {
      "text/html": [
       "<div>\n",
       "<style scoped>\n",
       "    .dataframe tbody tr th:only-of-type {\n",
       "        vertical-align: middle;\n",
       "    }\n",
       "\n",
       "    .dataframe tbody tr th {\n",
       "        vertical-align: top;\n",
       "    }\n",
       "\n",
       "    .dataframe thead th {\n",
       "        text-align: right;\n",
       "    }\n",
       "</style>\n",
       "<table border=\"1\" class=\"dataframe\">\n",
       "  <thead>\n",
       "    <tr style=\"text-align: right;\">\n",
       "      <th></th>\n",
       "      <th>id</th>\n",
       "      <th>message_date</th>\n",
       "      <th>user_id</th>\n",
       "    </tr>\n",
       "  </thead>\n",
       "  <tbody>\n",
       "    <tr>\n",
       "      <th>0</th>\n",
       "      <td>1000_0</td>\n",
       "      <td>2018-06-27</td>\n",
       "      <td>1000</td>\n",
       "    </tr>\n",
       "    <tr>\n",
       "      <th>1</th>\n",
       "      <td>1000_1</td>\n",
       "      <td>2018-10-08</td>\n",
       "      <td>1000</td>\n",
       "    </tr>\n",
       "    <tr>\n",
       "      <th>2</th>\n",
       "      <td>1000_2</td>\n",
       "      <td>2018-08-04</td>\n",
       "      <td>1000</td>\n",
       "    </tr>\n",
       "    <tr>\n",
       "      <th>3</th>\n",
       "      <td>1000_3</td>\n",
       "      <td>2018-06-16</td>\n",
       "      <td>1000</td>\n",
       "    </tr>\n",
       "    <tr>\n",
       "      <th>4</th>\n",
       "      <td>1000_4</td>\n",
       "      <td>2018-12-05</td>\n",
       "      <td>1000</td>\n",
       "    </tr>\n",
       "  </tbody>\n",
       "</table>\n",
       "</div>"
      ],
      "text/plain": [
       "       id message_date  user_id\n",
       "0  1000_0   2018-06-27     1000\n",
       "1  1000_1   2018-10-08     1000\n",
       "2  1000_2   2018-08-04     1000\n",
       "3  1000_3   2018-06-16     1000\n",
       "4  1000_4   2018-12-05     1000"
      ]
     },
     "execution_count": 7,
     "metadata": {},
     "output_type": "execute_result"
    }
   ],
   "source": [
    "messages.head()"
   ]
  },
  {
   "cell_type": "code",
   "execution_count": 8,
   "metadata": {
    "scrolled": true
   },
   "outputs": [
    {
     "name": "stdout",
     "output_type": "stream",
     "text": [
      "<class 'pandas.core.frame.DataFrame'>\n",
      "RangeIndex: 123036 entries, 0 to 123035\n",
      "Data columns (total 3 columns):\n",
      " #   Column        Non-Null Count   Dtype \n",
      "---  ------        --------------   ----- \n",
      " 0   id            123036 non-null  object\n",
      " 1   message_date  123036 non-null  object\n",
      " 2   user_id       123036 non-null  int64 \n",
      "dtypes: int64(1), object(2)\n",
      "memory usage: 2.8+ MB\n"
     ]
    }
   ],
   "source": [
    "messages.info()"
   ]
  },
  {
   "cell_type": "markdown",
   "metadata": {},
   "source": [
    "Согласно документации:\n",
    "\n",
    "* `id` — уникальный номер сообщения\n",
    "* `message_date` — дата сообщения\n",
    "* `user_id` — идентификатор пользователя, отправившего сообщение"
   ]
  },
  {
   "cell_type": "markdown",
   "metadata": {},
   "source": [
    "### Тарифы"
   ]
  },
  {
   "cell_type": "code",
   "execution_count": 9,
   "metadata": {
    "scrolled": true
   },
   "outputs": [
    {
     "data": {
      "text/html": [
       "<div>\n",
       "<style scoped>\n",
       "    .dataframe tbody tr th:only-of-type {\n",
       "        vertical-align: middle;\n",
       "    }\n",
       "\n",
       "    .dataframe tbody tr th {\n",
       "        vertical-align: top;\n",
       "    }\n",
       "\n",
       "    .dataframe thead th {\n",
       "        text-align: right;\n",
       "    }\n",
       "</style>\n",
       "<table border=\"1\" class=\"dataframe\">\n",
       "  <thead>\n",
       "    <tr style=\"text-align: right;\">\n",
       "      <th></th>\n",
       "      <th>messages_included</th>\n",
       "      <th>mb_per_month_included</th>\n",
       "      <th>minutes_included</th>\n",
       "      <th>rub_monthly_fee</th>\n",
       "      <th>rub_per_gb</th>\n",
       "      <th>rub_per_message</th>\n",
       "      <th>rub_per_minute</th>\n",
       "      <th>tariff_name</th>\n",
       "    </tr>\n",
       "  </thead>\n",
       "  <tbody>\n",
       "    <tr>\n",
       "      <th>0</th>\n",
       "      <td>50</td>\n",
       "      <td>15360</td>\n",
       "      <td>500</td>\n",
       "      <td>550</td>\n",
       "      <td>200</td>\n",
       "      <td>3</td>\n",
       "      <td>3</td>\n",
       "      <td>smart</td>\n",
       "    </tr>\n",
       "    <tr>\n",
       "      <th>1</th>\n",
       "      <td>1000</td>\n",
       "      <td>30720</td>\n",
       "      <td>3000</td>\n",
       "      <td>1950</td>\n",
       "      <td>150</td>\n",
       "      <td>1</td>\n",
       "      <td>1</td>\n",
       "      <td>ultra</td>\n",
       "    </tr>\n",
       "  </tbody>\n",
       "</table>\n",
       "</div>"
      ],
      "text/plain": [
       "   messages_included  mb_per_month_included  minutes_included  \\\n",
       "0                 50                  15360               500   \n",
       "1               1000                  30720              3000   \n",
       "\n",
       "   rub_monthly_fee  rub_per_gb  rub_per_message  rub_per_minute tariff_name  \n",
       "0              550         200                3               3       smart  \n",
       "1             1950         150                1               1       ultra  "
      ]
     },
     "execution_count": 9,
     "metadata": {},
     "output_type": "execute_result"
    }
   ],
   "source": [
    "tariffs.head()"
   ]
  },
  {
   "cell_type": "code",
   "execution_count": 10,
   "metadata": {
    "scrolled": false
   },
   "outputs": [
    {
     "name": "stdout",
     "output_type": "stream",
     "text": [
      "<class 'pandas.core.frame.DataFrame'>\n",
      "RangeIndex: 2 entries, 0 to 1\n",
      "Data columns (total 8 columns):\n",
      " #   Column                 Non-Null Count  Dtype \n",
      "---  ------                 --------------  ----- \n",
      " 0   messages_included      2 non-null      int64 \n",
      " 1   mb_per_month_included  2 non-null      int64 \n",
      " 2   minutes_included       2 non-null      int64 \n",
      " 3   rub_monthly_fee        2 non-null      int64 \n",
      " 4   rub_per_gb             2 non-null      int64 \n",
      " 5   rub_per_message        2 non-null      int64 \n",
      " 6   rub_per_minute         2 non-null      int64 \n",
      " 7   tariff_name            2 non-null      object\n",
      "dtypes: int64(7), object(1)\n",
      "memory usage: 256.0+ bytes\n"
     ]
    }
   ],
   "source": [
    "tariffs.info()"
   ]
  },
  {
   "cell_type": "markdown",
   "metadata": {},
   "source": [
    "Согласно документации:\n",
    "\n",
    "* `tariff_name` — название тарифа\n",
    "* `rub_monthly_fee` — ежемесячная абонентская плата в рублях\n",
    "* `minutes_included` — количество минут разговора в месяц, включённых в абонентскую плату\n",
    "* `messages_included` — количество сообщений в месяц, включённых в абонентскую плату\n",
    "* `mb_per_month_included` — объём интернет-трафика, включённого в абонентскую плату (в мегабайтах)\n",
    "* `rub_per_minute` — стоимость минуты разговора сверх тарифного пакета (например, если в тарифе 100 минут разговора в месяц, то со 101 минуты будет взиматься плата)\n",
    "* `rub_per_message` — стоимость отправки сообщения сверх тарифного пакета\n",
    "* `rub_per_gb` — стоимость дополнительного гигабайта интернет-трафика сверх тарифного пакета (1 гигабайт = 1024 мегабайта)"
   ]
  },
  {
   "cell_type": "markdown",
   "metadata": {},
   "source": [
    "### Пользователи"
   ]
  },
  {
   "cell_type": "code",
   "execution_count": 11,
   "metadata": {
    "scrolled": false
   },
   "outputs": [
    {
     "data": {
      "text/html": [
       "<div>\n",
       "<style scoped>\n",
       "    .dataframe tbody tr th:only-of-type {\n",
       "        vertical-align: middle;\n",
       "    }\n",
       "\n",
       "    .dataframe tbody tr th {\n",
       "        vertical-align: top;\n",
       "    }\n",
       "\n",
       "    .dataframe thead th {\n",
       "        text-align: right;\n",
       "    }\n",
       "</style>\n",
       "<table border=\"1\" class=\"dataframe\">\n",
       "  <thead>\n",
       "    <tr style=\"text-align: right;\">\n",
       "      <th></th>\n",
       "      <th>user_id</th>\n",
       "      <th>age</th>\n",
       "      <th>churn_date</th>\n",
       "      <th>city</th>\n",
       "      <th>first_name</th>\n",
       "      <th>last_name</th>\n",
       "      <th>reg_date</th>\n",
       "      <th>tariff</th>\n",
       "    </tr>\n",
       "  </thead>\n",
       "  <tbody>\n",
       "    <tr>\n",
       "      <th>0</th>\n",
       "      <td>1000</td>\n",
       "      <td>52</td>\n",
       "      <td>NaN</td>\n",
       "      <td>Краснодар</td>\n",
       "      <td>Рафаил</td>\n",
       "      <td>Верещагин</td>\n",
       "      <td>2018-05-25</td>\n",
       "      <td>ultra</td>\n",
       "    </tr>\n",
       "    <tr>\n",
       "      <th>1</th>\n",
       "      <td>1001</td>\n",
       "      <td>41</td>\n",
       "      <td>NaN</td>\n",
       "      <td>Москва</td>\n",
       "      <td>Иван</td>\n",
       "      <td>Ежов</td>\n",
       "      <td>2018-11-01</td>\n",
       "      <td>smart</td>\n",
       "    </tr>\n",
       "    <tr>\n",
       "      <th>2</th>\n",
       "      <td>1002</td>\n",
       "      <td>59</td>\n",
       "      <td>NaN</td>\n",
       "      <td>Стерлитамак</td>\n",
       "      <td>Евгений</td>\n",
       "      <td>Абрамович</td>\n",
       "      <td>2018-06-17</td>\n",
       "      <td>smart</td>\n",
       "    </tr>\n",
       "    <tr>\n",
       "      <th>3</th>\n",
       "      <td>1003</td>\n",
       "      <td>23</td>\n",
       "      <td>NaN</td>\n",
       "      <td>Москва</td>\n",
       "      <td>Белла</td>\n",
       "      <td>Белякова</td>\n",
       "      <td>2018-08-17</td>\n",
       "      <td>ultra</td>\n",
       "    </tr>\n",
       "    <tr>\n",
       "      <th>4</th>\n",
       "      <td>1004</td>\n",
       "      <td>68</td>\n",
       "      <td>NaN</td>\n",
       "      <td>Новокузнецк</td>\n",
       "      <td>Татьяна</td>\n",
       "      <td>Авдеенко</td>\n",
       "      <td>2018-05-14</td>\n",
       "      <td>ultra</td>\n",
       "    </tr>\n",
       "  </tbody>\n",
       "</table>\n",
       "</div>"
      ],
      "text/plain": [
       "   user_id  age churn_date         city first_name  last_name    reg_date  \\\n",
       "0     1000   52        NaN    Краснодар     Рафаил  Верещагин  2018-05-25   \n",
       "1     1001   41        NaN       Москва       Иван       Ежов  2018-11-01   \n",
       "2     1002   59        NaN  Стерлитамак    Евгений  Абрамович  2018-06-17   \n",
       "3     1003   23        NaN       Москва      Белла   Белякова  2018-08-17   \n",
       "4     1004   68        NaN  Новокузнецк    Татьяна   Авдеенко  2018-05-14   \n",
       "\n",
       "  tariff  \n",
       "0  ultra  \n",
       "1  smart  \n",
       "2  smart  \n",
       "3  ultra  \n",
       "4  ultra  "
      ]
     },
     "execution_count": 11,
     "metadata": {},
     "output_type": "execute_result"
    }
   ],
   "source": [
    "users.head()"
   ]
  },
  {
   "cell_type": "code",
   "execution_count": 12,
   "metadata": {},
   "outputs": [
    {
     "name": "stdout",
     "output_type": "stream",
     "text": [
      "<class 'pandas.core.frame.DataFrame'>\n",
      "RangeIndex: 500 entries, 0 to 499\n",
      "Data columns (total 8 columns):\n",
      " #   Column      Non-Null Count  Dtype \n",
      "---  ------      --------------  ----- \n",
      " 0   user_id     500 non-null    int64 \n",
      " 1   age         500 non-null    int64 \n",
      " 2   churn_date  38 non-null     object\n",
      " 3   city        500 non-null    object\n",
      " 4   first_name  500 non-null    object\n",
      " 5   last_name   500 non-null    object\n",
      " 6   reg_date    500 non-null    object\n",
      " 7   tariff      500 non-null    object\n",
      "dtypes: int64(2), object(6)\n",
      "memory usage: 31.4+ KB\n"
     ]
    }
   ],
   "source": [
    "users.info()"
   ]
  },
  {
   "cell_type": "markdown",
   "metadata": {},
   "source": [
    "Согласно документации:\n",
    "\n",
    "* `user_id` — уникальный идентификатор пользователя\n",
    "* `first_name` — имя пользователя\n",
    "* `last_name` — фамилия пользователя\n",
    "* `age` — возраст пользователя (годы)\n",
    "* `reg_date` — дата подключения тарифа (день, месяц, год)\n",
    "* `churn_date` — дата прекращения пользования тарифом (если значение пропущено, то тариф ещё действовал на момент выгрузки данных)\n",
    "* `city` — город проживания пользователя\n",
    "* `tariff` — название тарифного плана"
   ]
  },
  {
   "cell_type": "markdown",
   "metadata": {},
   "source": [
    "### Вывод"
   ]
  },
  {
   "cell_type": "markdown",
   "metadata": {},
   "source": [
    "Данные состоят из 5 таблиц: 3 таблицы с платными действиями пользователей (звонки, интернет, сообщения), таблица с информацией о пользователях, таблица с информацией о тарифах. Пропуски в данных отсутствуют (кроме столбца churn_date в таблице с пользователями), у некоторых столбцов необходимо изменить тип данных."
   ]
  },
  {
   "cell_type": "markdown",
   "metadata": {},
   "source": [
    "## Предобработка данных"
   ]
  },
  {
   "cell_type": "markdown",
   "metadata": {},
   "source": [
    "### Изменение типов данных"
   ]
  },
  {
   "cell_type": "markdown",
   "metadata": {},
   "source": [
    "Необходимо изменить типы данных для следующих столбцов:\n",
    "* все столбцы с датой - поменять object на datetime\n",
    "* длительность звонков - округлить в большую сторону, сделать целочисленным"
   ]
  },
  {
   "cell_type": "code",
   "execution_count": 13,
   "metadata": {},
   "outputs": [],
   "source": [
    "# меняем тип данных для столбцов с датой\n",
    "calls['call_date'] = pd.to_datetime(calls['call_date'], format='%Y-%m-%d')\n",
    "internet['session_date'] = pd.to_datetime(internet['session_date'], format='%Y-%m-%d')\n",
    "messages['message_date'] = pd.to_datetime(messages['message_date'], format='%Y-%m-%d')\n",
    "users['reg_date'] = pd.to_datetime(users['reg_date'], format='%Y-%m-%d')"
   ]
  },
  {
   "cell_type": "code",
   "execution_count": 14,
   "metadata": {},
   "outputs": [
    {
     "data": {
      "text/html": [
       "<div>\n",
       "<style scoped>\n",
       "    .dataframe tbody tr th:only-of-type {\n",
       "        vertical-align: middle;\n",
       "    }\n",
       "\n",
       "    .dataframe tbody tr th {\n",
       "        vertical-align: top;\n",
       "    }\n",
       "\n",
       "    .dataframe thead th {\n",
       "        text-align: right;\n",
       "    }\n",
       "</style>\n",
       "<table border=\"1\" class=\"dataframe\">\n",
       "  <thead>\n",
       "    <tr style=\"text-align: right;\">\n",
       "      <th></th>\n",
       "      <th>id</th>\n",
       "      <th>call_date</th>\n",
       "      <th>duration</th>\n",
       "      <th>user_id</th>\n",
       "    </tr>\n",
       "  </thead>\n",
       "  <tbody>\n",
       "    <tr>\n",
       "      <th>0</th>\n",
       "      <td>1000_0</td>\n",
       "      <td>2018-07-25</td>\n",
       "      <td>0</td>\n",
       "      <td>1000</td>\n",
       "    </tr>\n",
       "    <tr>\n",
       "      <th>1</th>\n",
       "      <td>1000_1</td>\n",
       "      <td>2018-08-17</td>\n",
       "      <td>0</td>\n",
       "      <td>1000</td>\n",
       "    </tr>\n",
       "    <tr>\n",
       "      <th>2</th>\n",
       "      <td>1000_2</td>\n",
       "      <td>2018-06-11</td>\n",
       "      <td>3</td>\n",
       "      <td>1000</td>\n",
       "    </tr>\n",
       "    <tr>\n",
       "      <th>3</th>\n",
       "      <td>1000_3</td>\n",
       "      <td>2018-09-21</td>\n",
       "      <td>14</td>\n",
       "      <td>1000</td>\n",
       "    </tr>\n",
       "    <tr>\n",
       "      <th>4</th>\n",
       "      <td>1000_4</td>\n",
       "      <td>2018-12-15</td>\n",
       "      <td>6</td>\n",
       "      <td>1000</td>\n",
       "    </tr>\n",
       "  </tbody>\n",
       "</table>\n",
       "</div>"
      ],
      "text/plain": [
       "       id  call_date  duration  user_id\n",
       "0  1000_0 2018-07-25         0     1000\n",
       "1  1000_1 2018-08-17         0     1000\n",
       "2  1000_2 2018-06-11         3     1000\n",
       "3  1000_3 2018-09-21        14     1000\n",
       "4  1000_4 2018-12-15         6     1000"
      ]
     },
     "execution_count": 14,
     "metadata": {},
     "output_type": "execute_result"
    }
   ],
   "source": [
    "calls['duration'] = np.ceil(calls['duration']) # округляем звонки в большую сторону\n",
    "calls['duration'] = calls['duration'].astype('int') # меняем тип данных\n",
    "calls.head() # проверяем"
   ]
  },
  {
   "cell_type": "markdown",
   "metadata": {},
   "source": [
    "### Поиск ошибок в данных"
   ]
  },
  {
   "cell_type": "markdown",
   "metadata": {},
   "source": [
    "Проверим данные на наличие дубликатов и артефактов."
   ]
  },
  {
   "cell_type": "markdown",
   "metadata": {},
   "source": [
    "**Пользователи**"
   ]
  },
  {
   "cell_type": "code",
   "execution_count": 15,
   "metadata": {},
   "outputs": [],
   "source": [
    "# создадим новый столбец с именем и фамилией через пробел\n",
    "users['full_name'] = users['first_name'].map(str) + ' ' + users['last_name'].map(str)"
   ]
  },
  {
   "cell_type": "code",
   "execution_count": 16,
   "metadata": {
    "scrolled": true
   },
   "outputs": [
    {
     "data": {
      "text/plain": [
       "0"
      ]
     },
     "execution_count": 16,
     "metadata": {},
     "output_type": "execute_result"
    }
   ],
   "source": [
    "# проверим наличие дубликатов\n",
    "users['full_name'].duplicated().sum() "
   ]
  },
  {
   "cell_type": "code",
   "execution_count": 17,
   "metadata": {
    "scrolled": true
   },
   "outputs": [
    {
     "data": {
      "text/plain": [
       "count    500.00000\n",
       "mean      46.58800\n",
       "std       16.66763\n",
       "min       18.00000\n",
       "25%       32.00000\n",
       "50%       46.00000\n",
       "75%       62.00000\n",
       "max       75.00000\n",
       "Name: age, dtype: float64"
      ]
     },
     "execution_count": 17,
     "metadata": {},
     "output_type": "execute_result"
    }
   ],
   "source": [
    "users['age'].describe() # проверим наличие выбросов"
   ]
  },
  {
   "cell_type": "code",
   "execution_count": 18,
   "metadata": {
    "scrolled": true
   },
   "outputs": [
    {
     "data": {
      "text/plain": [
       "array(['Архангельск', 'Астрахань', 'Балашиха', 'Барнаул', 'Белгород',\n",
       "       'Брянск', 'Владивосток', 'Владикавказ', 'Владимир', 'Волгоград',\n",
       "       'Волжский', 'Вологда', 'Воронеж', 'Грозный', 'Екатеринбург',\n",
       "       'Иваново', 'Ижевск', 'Иркутск', 'Казань', 'Калининград', 'Калуга',\n",
       "       'Кемерово', 'Киров', 'Кострома', 'Краснодар', 'Красноярск',\n",
       "       'Курган', 'Курск', 'Липецк', 'Магнитогорск', 'Махачкала', 'Москва',\n",
       "       'Мурманск', 'Набережные Челны', 'Нижневартовск', 'Нижний Новгород',\n",
       "       'Нижний Тагил', 'Новокузнецк', 'Новороссийск', 'Новосибирск',\n",
       "       'Омск', 'Оренбург', 'Орёл', 'Пенза', 'Пермь', 'Петрозаводск',\n",
       "       'Подольск', 'Ростов-на-Дону', 'Рязань', 'Самара',\n",
       "       'Санкт-Петербург', 'Саранск', 'Саратов', 'Севастополь', 'Смоленск',\n",
       "       'Сочи', 'Ставрополь', 'Стерлитамак', 'Сургут', 'Тамбов', 'Тверь',\n",
       "       'Тольятти', 'Томск', 'Тула', 'Тюмень', 'Улан-Удэ', 'Ульяновск',\n",
       "       'Уфа', 'Хабаровск', 'Химки', 'Чебоксары', 'Челябинск', 'Череповец',\n",
       "       'Чита', 'Якутск', 'Ярославль'], dtype=object)"
      ]
     },
     "execution_count": 18,
     "metadata": {},
     "output_type": "execute_result"
    }
   ],
   "source": [
    "users['city'].sort_values().unique() # проверим наличие неявных дубликатов"
   ]
  },
  {
   "cell_type": "markdown",
   "metadata": {},
   "source": [
    "**Звонки**"
   ]
  },
  {
   "cell_type": "code",
   "execution_count": 19,
   "metadata": {
    "scrolled": false
   },
   "outputs": [
    {
     "data": {
      "text/plain": [
       "count    202607.000000\n",
       "mean          7.158198\n",
       "std           5.959173\n",
       "min           0.000000\n",
       "25%           2.000000\n",
       "50%           6.000000\n",
       "75%          11.000000\n",
       "max          38.000000\n",
       "Name: duration, dtype: float64"
      ]
     },
     "execution_count": 19,
     "metadata": {},
     "output_type": "execute_result"
    }
   ],
   "source": [
    "calls['duration'].describe()"
   ]
  },
  {
   "cell_type": "markdown",
   "metadata": {},
   "source": [
    "Отрицательные и слишком большие значения отсутствуют. Нулями обозначены пропущенные звонки."
   ]
  },
  {
   "cell_type": "markdown",
   "metadata": {},
   "source": [
    "**Интернет**"
   ]
  },
  {
   "cell_type": "code",
   "execution_count": 20,
   "metadata": {},
   "outputs": [
    {
     "data": {
      "text/plain": [
       "count    149396.000000\n",
       "mean        370.192426\n",
       "std         278.300951\n",
       "min           0.000000\n",
       "25%         138.187500\n",
       "50%         348.015000\n",
       "75%         559.552500\n",
       "max        1724.830000\n",
       "Name: mb_used, dtype: float64"
      ]
     },
     "execution_count": 20,
     "metadata": {},
     "output_type": "execute_result"
    }
   ],
   "source": [
    "internet['mb_used'].describe()"
   ]
  },
  {
   "cell_type": "code",
   "execution_count": 21,
   "metadata": {},
   "outputs": [
    {
     "data": {
      "text/plain": [
       "<AxesSubplot:>"
      ]
     },
     "execution_count": 21,
     "metadata": {},
     "output_type": "execute_result"
    },
    {
     "data": {
      "image/png": "[encoded data removed]",
      "text/plain": [
       "<Figure size 432x288 with 1 Axes>"
      ]
     },
     "metadata": {
      "needs_background": "light"
     },
     "output_type": "display_data"
    }
   ],
   "source": [
    "internet['mb_used'].hist(bins=100)"
   ]
  },
  {
   "cell_type": "markdown",
   "metadata": {},
   "source": [
    "Обнаружены нулевые значения"
   ]
  },
  {
   "cell_type": "code",
   "execution_count": 22,
   "metadata": {},
   "outputs": [
    {
     "data": {
      "text/plain": [
       "19598"
      ]
     },
     "execution_count": 22,
     "metadata": {},
     "output_type": "execute_result"
    }
   ],
   "source": [
    "internet[internet['mb_used'] == 0]['mb_used'].count() # проверим количество нулевых значений"
   ]
  },
  {
   "cell_type": "code",
   "execution_count": 23,
   "metadata": {
    "scrolled": true
   },
   "outputs": [
    {
     "data": {
      "text/plain": [
       "count    129798.000000\n",
       "mean        426.087210\n",
       "std         255.596447\n",
       "min           0.030000\n",
       "25%         227.460000\n",
       "50%         400.540000\n",
       "75%         592.947500\n",
       "max        1724.830000\n",
       "Name: mb_used, dtype: float64"
      ]
     },
     "execution_count": 23,
     "metadata": {},
     "output_type": "execute_result"
    }
   ],
   "source": [
    "internet = internet[internet['mb_used'] != 0] # удаляем все нулевые значения\n",
    "internet['mb_used'].describe() # проверяем"
   ]
  },
  {
   "cell_type": "markdown",
   "metadata": {},
   "source": [
    "**Выводы**\n",
    "\n",
    "Найдены нулевые значения в таблице с интернет-трафиком. В документации нет пояснения, откуда могли появиться подобные значения. Было решено от них избавиться, т.к. они могут помешать анализу. "
   ]
  },
  {
   "cell_type": "markdown",
   "metadata": {},
   "source": [
    "### Подсчет дополнительных характеристик"
   ]
  },
  {
   "cell_type": "markdown",
   "metadata": {},
   "source": [
    "Необходимо подсчитать для каждого пользователя:\n",
    "* количество сделанных звонков и израсходованных минут разговора по месяцам;\n",
    "* количество отправленных сообщений по месяцам;\n",
    "* объем израсходованного интернет-трафика по месяцам;\n",
    "* помесячную выручку с каждого пользователя (вычтите бесплатный лимит из суммарного количества звонков, сообщений и интернет-трафика; остаток умножьте на значение из тарифного плана; прибавьте абонентскую плату, соответствующую тарифному плану)."
   ]
  },
  {
   "cell_type": "code",
   "execution_count": 24,
   "metadata": {},
   "outputs": [],
   "source": [
    "# создаем столбцы с номером месяца\n",
    "calls['month'] = pd.DatetimeIndex(calls['call_date']).month\n",
    "internet['month'] = pd.DatetimeIndex(internet['session_date']).month\n",
    "messages['month'] = pd.DatetimeIndex(messages['message_date']).month"
   ]
  },
  {
   "cell_type": "code",
   "execution_count": 25,
   "metadata": {},
   "outputs": [
    {
     "data": {
      "text/html": [
       "<div>\n",
       "<style scoped>\n",
       "    .dataframe tbody tr th:only-of-type {\n",
       "        vertical-align: middle;\n",
       "    }\n",
       "\n",
       "    .dataframe tbody tr th {\n",
       "        vertical-align: top;\n",
       "    }\n",
       "\n",
       "    .dataframe thead th {\n",
       "        text-align: right;\n",
       "    }\n",
       "</style>\n",
       "<table border=\"1\" class=\"dataframe\">\n",
       "  <thead>\n",
       "    <tr style=\"text-align: right;\">\n",
       "      <th></th>\n",
       "      <th>user_id</th>\n",
       "      <th>month</th>\n",
       "      <th>calls_count</th>\n",
       "      <th>calls_sum</th>\n",
       "    </tr>\n",
       "  </thead>\n",
       "  <tbody>\n",
       "    <tr>\n",
       "      <th>0</th>\n",
       "      <td>1000</td>\n",
       "      <td>5</td>\n",
       "      <td>22</td>\n",
       "      <td>159</td>\n",
       "    </tr>\n",
       "    <tr>\n",
       "      <th>1</th>\n",
       "      <td>1000</td>\n",
       "      <td>6</td>\n",
       "      <td>43</td>\n",
       "      <td>172</td>\n",
       "    </tr>\n",
       "    <tr>\n",
       "      <th>2</th>\n",
       "      <td>1000</td>\n",
       "      <td>7</td>\n",
       "      <td>47</td>\n",
       "      <td>340</td>\n",
       "    </tr>\n",
       "    <tr>\n",
       "      <th>3</th>\n",
       "      <td>1000</td>\n",
       "      <td>8</td>\n",
       "      <td>52</td>\n",
       "      <td>408</td>\n",
       "    </tr>\n",
       "    <tr>\n",
       "      <th>4</th>\n",
       "      <td>1000</td>\n",
       "      <td>9</td>\n",
       "      <td>58</td>\n",
       "      <td>466</td>\n",
       "    </tr>\n",
       "  </tbody>\n",
       "</table>\n",
       "</div>"
      ],
      "text/plain": [
       "   user_id  month  calls_count  calls_sum\n",
       "0     1000      5           22        159\n",
       "1     1000      6           43        172\n",
       "2     1000      7           47        340\n",
       "3     1000      8           52        408\n",
       "4     1000      9           58        466"
      ]
     },
     "execution_count": 25,
     "metadata": {},
     "output_type": "execute_result"
    }
   ],
   "source": [
    "# количество сделанных звонков и израсходованных минут разговора по месяцам\n",
    "calls_pivot = calls.pivot_table(index=['user_id', 'month'], values='duration', aggfunc=('count', 'sum'))\n",
    "calls_pivot = calls_pivot.reset_index()\n",
    "calls_pivot.columns = ['user_id', 'month', 'calls_count', 'calls_sum']\n",
    "calls_pivot.head()"
   ]
  },
  {
   "cell_type": "code",
   "execution_count": 26,
   "metadata": {
    "scrolled": true
   },
   "outputs": [
    {
     "data": {
      "text/html": [
       "<div>\n",
       "<style scoped>\n",
       "    .dataframe tbody tr th:only-of-type {\n",
       "        vertical-align: middle;\n",
       "    }\n",
       "\n",
       "    .dataframe tbody tr th {\n",
       "        vertical-align: top;\n",
       "    }\n",
       "\n",
       "    .dataframe thead th {\n",
       "        text-align: right;\n",
       "    }\n",
       "</style>\n",
       "<table border=\"1\" class=\"dataframe\">\n",
       "  <thead>\n",
       "    <tr style=\"text-align: right;\">\n",
       "      <th></th>\n",
       "      <th>user_id</th>\n",
       "      <th>month</th>\n",
       "      <th>messages_count</th>\n",
       "    </tr>\n",
       "  </thead>\n",
       "  <tbody>\n",
       "    <tr>\n",
       "      <th>0</th>\n",
       "      <td>1000</td>\n",
       "      <td>5</td>\n",
       "      <td>22</td>\n",
       "    </tr>\n",
       "    <tr>\n",
       "      <th>1</th>\n",
       "      <td>1000</td>\n",
       "      <td>6</td>\n",
       "      <td>60</td>\n",
       "    </tr>\n",
       "    <tr>\n",
       "      <th>2</th>\n",
       "      <td>1000</td>\n",
       "      <td>7</td>\n",
       "      <td>75</td>\n",
       "    </tr>\n",
       "    <tr>\n",
       "      <th>3</th>\n",
       "      <td>1000</td>\n",
       "      <td>8</td>\n",
       "      <td>81</td>\n",
       "    </tr>\n",
       "    <tr>\n",
       "      <th>4</th>\n",
       "      <td>1000</td>\n",
       "      <td>9</td>\n",
       "      <td>57</td>\n",
       "    </tr>\n",
       "  </tbody>\n",
       "</table>\n",
       "</div>"
      ],
      "text/plain": [
       "   user_id  month  messages_count\n",
       "0     1000      5              22\n",
       "1     1000      6              60\n",
       "2     1000      7              75\n",
       "3     1000      8              81\n",
       "4     1000      9              57"
      ]
     },
     "execution_count": 26,
     "metadata": {},
     "output_type": "execute_result"
    }
   ],
   "source": [
    "# количество отправленных сообщений по месяцам\n",
    "messages_pivot = messages.pivot_table(index=['user_id', 'month'], values='id', aggfunc='count')\n",
    "messages_pivot = messages_pivot.reset_index()\n",
    "messages_pivot.columns = ['user_id', 'month', 'messages_count']\n",
    "messages_pivot.head()"
   ]
  },
  {
   "cell_type": "code",
   "execution_count": 27,
   "metadata": {
    "scrolled": true
   },
   "outputs": [
    {
     "data": {
      "text/html": [
       "<div>\n",
       "<style scoped>\n",
       "    .dataframe tbody tr th:only-of-type {\n",
       "        vertical-align: middle;\n",
       "    }\n",
       "\n",
       "    .dataframe tbody tr th {\n",
       "        vertical-align: top;\n",
       "    }\n",
       "\n",
       "    .dataframe thead th {\n",
       "        text-align: right;\n",
       "    }\n",
       "</style>\n",
       "<table border=\"1\" class=\"dataframe\">\n",
       "  <thead>\n",
       "    <tr style=\"text-align: right;\">\n",
       "      <th></th>\n",
       "      <th>user_id</th>\n",
       "      <th>month</th>\n",
       "      <th>mb_used</th>\n",
       "    </tr>\n",
       "  </thead>\n",
       "  <tbody>\n",
       "    <tr>\n",
       "      <th>0</th>\n",
       "      <td>1000</td>\n",
       "      <td>5</td>\n",
       "      <td>2253.49</td>\n",
       "    </tr>\n",
       "    <tr>\n",
       "      <th>1</th>\n",
       "      <td>1000</td>\n",
       "      <td>6</td>\n",
       "      <td>23233.77</td>\n",
       "    </tr>\n",
       "    <tr>\n",
       "      <th>2</th>\n",
       "      <td>1000</td>\n",
       "      <td>7</td>\n",
       "      <td>14003.64</td>\n",
       "    </tr>\n",
       "    <tr>\n",
       "      <th>3</th>\n",
       "      <td>1000</td>\n",
       "      <td>8</td>\n",
       "      <td>14055.93</td>\n",
       "    </tr>\n",
       "    <tr>\n",
       "      <th>4</th>\n",
       "      <td>1000</td>\n",
       "      <td>9</td>\n",
       "      <td>14568.91</td>\n",
       "    </tr>\n",
       "  </tbody>\n",
       "</table>\n",
       "</div>"
      ],
      "text/plain": [
       "   user_id  month   mb_used\n",
       "0     1000      5   2253.49\n",
       "1     1000      6  23233.77\n",
       "2     1000      7  14003.64\n",
       "3     1000      8  14055.93\n",
       "4     1000      9  14568.91"
      ]
     },
     "execution_count": 27,
     "metadata": {},
     "output_type": "execute_result"
    }
   ],
   "source": [
    "# объем израсходованного интернет-трафика по месяцам\n",
    "internet_pivot = internet.pivot_table(index=['user_id', 'month'], values='mb_used', aggfunc='sum')\n",
    "internet_pivot = internet_pivot.reset_index()\n",
    "internet_pivot.head()"
   ]
  },
  {
   "cell_type": "code",
   "execution_count": 28,
   "metadata": {},
   "outputs": [],
   "source": [
    "# поменяем название столбца tariff_name в таблице tariffs\n",
    "tariffs.columns = (\n",
    "    ['messages_included',\n",
    "    'mb_per_month_included',\n",
    "    'minutes_included',\n",
    "    'rub_monthly_fee',\n",
    "    'rub_per_gb',\n",
    "    'rub_per_message',\n",
    "    'rub_per_minute',\n",
    "    'tariff']\n",
    ")"
   ]
  },
  {
   "cell_type": "code",
   "execution_count": 29,
   "metadata": {
    "scrolled": false
   },
   "outputs": [
    {
     "data": {
      "text/html": [
       "<div>\n",
       "<style scoped>\n",
       "    .dataframe tbody tr th:only-of-type {\n",
       "        vertical-align: middle;\n",
       "    }\n",
       "\n",
       "    .dataframe tbody tr th {\n",
       "        vertical-align: top;\n",
       "    }\n",
       "\n",
       "    .dataframe thead th {\n",
       "        text-align: right;\n",
       "    }\n",
       "</style>\n",
       "<table border=\"1\" class=\"dataframe\">\n",
       "  <thead>\n",
       "    <tr style=\"text-align: right;\">\n",
       "      <th></th>\n",
       "      <th>user_id</th>\n",
       "      <th>month</th>\n",
       "      <th>calls_count</th>\n",
       "      <th>calls_sum</th>\n",
       "      <th>messages_count</th>\n",
       "      <th>mb_used</th>\n",
       "      <th>age</th>\n",
       "      <th>churn_date</th>\n",
       "      <th>city</th>\n",
       "      <th>first_name</th>\n",
       "      <th>...</th>\n",
       "      <th>reg_date</th>\n",
       "      <th>tariff</th>\n",
       "      <th>full_name</th>\n",
       "      <th>messages_included</th>\n",
       "      <th>mb_per_month_included</th>\n",
       "      <th>minutes_included</th>\n",
       "      <th>rub_monthly_fee</th>\n",
       "      <th>rub_per_gb</th>\n",
       "      <th>rub_per_message</th>\n",
       "      <th>rub_per_minute</th>\n",
       "    </tr>\n",
       "  </thead>\n",
       "  <tbody>\n",
       "    <tr>\n",
       "      <th>0</th>\n",
       "      <td>1000</td>\n",
       "      <td>5</td>\n",
       "      <td>22.0</td>\n",
       "      <td>159.0</td>\n",
       "      <td>22.0</td>\n",
       "      <td>2253.49</td>\n",
       "      <td>52</td>\n",
       "      <td>NaN</td>\n",
       "      <td>Краснодар</td>\n",
       "      <td>Рафаил</td>\n",
       "      <td>...</td>\n",
       "      <td>2018-05-25</td>\n",
       "      <td>ultra</td>\n",
       "      <td>Рафаил Верещагин</td>\n",
       "      <td>1000</td>\n",
       "      <td>30720</td>\n",
       "      <td>3000</td>\n",
       "      <td>1950</td>\n",
       "      <td>150</td>\n",
       "      <td>1</td>\n",
       "      <td>1</td>\n",
       "    </tr>\n",
       "    <tr>\n",
       "      <th>1</th>\n",
       "      <td>1000</td>\n",
       "      <td>6</td>\n",
       "      <td>43.0</td>\n",
       "      <td>172.0</td>\n",
       "      <td>60.0</td>\n",
       "      <td>23233.77</td>\n",
       "      <td>52</td>\n",
       "      <td>NaN</td>\n",
       "      <td>Краснодар</td>\n",
       "      <td>Рафаил</td>\n",
       "      <td>...</td>\n",
       "      <td>2018-05-25</td>\n",
       "      <td>ultra</td>\n",
       "      <td>Рафаил Верещагин</td>\n",
       "      <td>1000</td>\n",
       "      <td>30720</td>\n",
       "      <td>3000</td>\n",
       "      <td>1950</td>\n",
       "      <td>150</td>\n",
       "      <td>1</td>\n",
       "      <td>1</td>\n",
       "    </tr>\n",
       "    <tr>\n",
       "      <th>2</th>\n",
       "      <td>1000</td>\n",
       "      <td>7</td>\n",
       "      <td>47.0</td>\n",
       "      <td>340.0</td>\n",
       "      <td>75.0</td>\n",
       "      <td>14003.64</td>\n",
       "      <td>52</td>\n",
       "      <td>NaN</td>\n",
       "      <td>Краснодар</td>\n",
       "      <td>Рафаил</td>\n",
       "      <td>...</td>\n",
       "      <td>2018-05-25</td>\n",
       "      <td>ultra</td>\n",
       "      <td>Рафаил Верещагин</td>\n",
       "      <td>1000</td>\n",
       "      <td>30720</td>\n",
       "      <td>3000</td>\n",
       "      <td>1950</td>\n",
       "      <td>150</td>\n",
       "      <td>1</td>\n",
       "      <td>1</td>\n",
       "    </tr>\n",
       "    <tr>\n",
       "      <th>3</th>\n",
       "      <td>1000</td>\n",
       "      <td>8</td>\n",
       "      <td>52.0</td>\n",
       "      <td>408.0</td>\n",
       "      <td>81.0</td>\n",
       "      <td>14055.93</td>\n",
       "      <td>52</td>\n",
       "      <td>NaN</td>\n",
       "      <td>Краснодар</td>\n",
       "      <td>Рафаил</td>\n",
       "      <td>...</td>\n",
       "      <td>2018-05-25</td>\n",
       "      <td>ultra</td>\n",
       "      <td>Рафаил Верещагин</td>\n",
       "      <td>1000</td>\n",
       "      <td>30720</td>\n",
       "      <td>3000</td>\n",
       "      <td>1950</td>\n",
       "      <td>150</td>\n",
       "      <td>1</td>\n",
       "      <td>1</td>\n",
       "    </tr>\n",
       "    <tr>\n",
       "      <th>4</th>\n",
       "      <td>1000</td>\n",
       "      <td>9</td>\n",
       "      <td>58.0</td>\n",
       "      <td>466.0</td>\n",
       "      <td>57.0</td>\n",
       "      <td>14568.91</td>\n",
       "      <td>52</td>\n",
       "      <td>NaN</td>\n",
       "      <td>Краснодар</td>\n",
       "      <td>Рафаил</td>\n",
       "      <td>...</td>\n",
       "      <td>2018-05-25</td>\n",
       "      <td>ultra</td>\n",
       "      <td>Рафаил Верещагин</td>\n",
       "      <td>1000</td>\n",
       "      <td>30720</td>\n",
       "      <td>3000</td>\n",
       "      <td>1950</td>\n",
       "      <td>150</td>\n",
       "      <td>1</td>\n",
       "      <td>1</td>\n",
       "    </tr>\n",
       "  </tbody>\n",
       "</table>\n",
       "<p>5 rows × 21 columns</p>\n",
       "</div>"
      ],
      "text/plain": [
       "   user_id  month  calls_count  calls_sum  messages_count   mb_used  age  \\\n",
       "0     1000      5         22.0      159.0            22.0   2253.49   52   \n",
       "1     1000      6         43.0      172.0            60.0  23233.77   52   \n",
       "2     1000      7         47.0      340.0            75.0  14003.64   52   \n",
       "3     1000      8         52.0      408.0            81.0  14055.93   52   \n",
       "4     1000      9         58.0      466.0            57.0  14568.91   52   \n",
       "\n",
       "  churn_date       city first_name  ...   reg_date tariff         full_name  \\\n",
       "0        NaN  Краснодар     Рафаил  ... 2018-05-25  ultra  Рафаил Верещагин   \n",
       "1        NaN  Краснодар     Рафаил  ... 2018-05-25  ultra  Рафаил Верещагин   \n",
       "2        NaN  Краснодар     Рафаил  ... 2018-05-25  ultra  Рафаил Верещагин   \n",
       "3        NaN  Краснодар     Рафаил  ... 2018-05-25  ultra  Рафаил Верещагин   \n",
       "4        NaN  Краснодар     Рафаил  ... 2018-05-25  ultra  Рафаил Верещагин   \n",
       "\n",
       "  messages_included  mb_per_month_included  minutes_included  rub_monthly_fee  \\\n",
       "0              1000                  30720              3000             1950   \n",
       "1              1000                  30720              3000             1950   \n",
       "2              1000                  30720              3000             1950   \n",
       "3              1000                  30720              3000             1950   \n",
       "4              1000                  30720              3000             1950   \n",
       "\n",
       "   rub_per_gb  rub_per_message  rub_per_minute  \n",
       "0         150                1               1  \n",
       "1         150                1               1  \n",
       "2         150                1               1  \n",
       "3         150                1               1  \n",
       "4         150                1               1  \n",
       "\n",
       "[5 rows x 21 columns]"
      ]
     },
     "execution_count": 29,
     "metadata": {},
     "output_type": "execute_result"
    }
   ],
   "source": [
    "# объединим все таблицы\n",
    "data = (\n",
    "    calls_pivot.merge(messages_pivot, on=['user_id', 'month'], how='outer')\n",
    "    .merge(internet_pivot, on=['user_id', 'month'], how='outer')\n",
    "    .merge(users, on='user_id', how='inner')\n",
    "    .merge(tariffs, on='tariff', how='inner')\n",
    ")\n",
    "data.head()"
   ]
  },
  {
   "cell_type": "code",
   "execution_count": 30,
   "metadata": {},
   "outputs": [
    {
     "data": {
      "text/plain": [
       "(498,)"
      ]
     },
     "execution_count": 30,
     "metadata": {},
     "output_type": "execute_result"
    }
   ],
   "source": [
    "# проверим, все ли пользователи добавлены\n",
    "data.user_id.unique().shape "
   ]
  },
  {
   "cell_type": "markdown",
   "metadata": {},
   "source": [
    "В таблицу не попали два пользователя. Необходимо выяснить, кто они и почему не присоединились."
   ]
  },
  {
   "cell_type": "code",
   "execution_count": 31,
   "metadata": {
    "scrolled": true
   },
   "outputs": [
    {
     "data": {
      "text/html": [
       "<div>\n",
       "<style scoped>\n",
       "    .dataframe tbody tr th:only-of-type {\n",
       "        vertical-align: middle;\n",
       "    }\n",
       "\n",
       "    .dataframe tbody tr th {\n",
       "        vertical-align: top;\n",
       "    }\n",
       "\n",
       "    .dataframe thead th {\n",
       "        text-align: right;\n",
       "    }\n",
       "</style>\n",
       "<table border=\"1\" class=\"dataframe\">\n",
       "  <thead>\n",
       "    <tr style=\"text-align: right;\">\n",
       "      <th></th>\n",
       "      <th>user_id</th>\n",
       "      <th>age</th>\n",
       "      <th>churn_date</th>\n",
       "      <th>city</th>\n",
       "      <th>first_name</th>\n",
       "      <th>last_name</th>\n",
       "      <th>reg_date</th>\n",
       "      <th>tariff</th>\n",
       "      <th>full_name</th>\n",
       "    </tr>\n",
       "  </thead>\n",
       "  <tbody>\n",
       "    <tr>\n",
       "      <th>128</th>\n",
       "      <td>1128</td>\n",
       "      <td>51</td>\n",
       "      <td>2018-12-23</td>\n",
       "      <td>Волжский</td>\n",
       "      <td>Ксения</td>\n",
       "      <td>Агаева</td>\n",
       "      <td>2018-12-15</td>\n",
       "      <td>ultra</td>\n",
       "      <td>Ксения Агаева</td>\n",
       "    </tr>\n",
       "    <tr>\n",
       "      <th>371</th>\n",
       "      <td>1371</td>\n",
       "      <td>50</td>\n",
       "      <td>2018-12-30</td>\n",
       "      <td>Омск</td>\n",
       "      <td>Ириней</td>\n",
       "      <td>Трофимов</td>\n",
       "      <td>2018-12-25</td>\n",
       "      <td>smart</td>\n",
       "      <td>Ириней Трофимов</td>\n",
       "    </tr>\n",
       "  </tbody>\n",
       "</table>\n",
       "</div>"
      ],
      "text/plain": [
       "     user_id  age  churn_date      city first_name last_name   reg_date  \\\n",
       "128     1128   51  2018-12-23  Волжский     Ксения    Агаева 2018-12-15   \n",
       "371     1371   50  2018-12-30      Омск     Ириней  Трофимов 2018-12-25   \n",
       "\n",
       "    tariff        full_name  \n",
       "128  ultra    Ксения Агаева  \n",
       "371  smart  Ириней Трофимов  "
      ]
     },
     "execution_count": 31,
     "metadata": {},
     "output_type": "execute_result"
    }
   ],
   "source": [
    "good_users = data.user_id.unique()\n",
    "users.query('user_id not in @good_users')"
   ]
  },
  {
   "cell_type": "code",
   "execution_count": 32,
   "metadata": {
    "scrolled": false
   },
   "outputs": [
    {
     "data": {
      "text/html": [
       "<div>\n",
       "<style scoped>\n",
       "    .dataframe tbody tr th:only-of-type {\n",
       "        vertical-align: middle;\n",
       "    }\n",
       "\n",
       "    .dataframe tbody tr th {\n",
       "        vertical-align: top;\n",
       "    }\n",
       "\n",
       "    .dataframe thead th {\n",
       "        text-align: right;\n",
       "    }\n",
       "</style>\n",
       "<table border=\"1\" class=\"dataframe\">\n",
       "  <thead>\n",
       "    <tr style=\"text-align: right;\">\n",
       "      <th></th>\n",
       "      <th>id</th>\n",
       "      <th>call_date</th>\n",
       "      <th>duration</th>\n",
       "      <th>user_id</th>\n",
       "      <th>month</th>\n",
       "    </tr>\n",
       "  </thead>\n",
       "  <tbody>\n",
       "  </tbody>\n",
       "</table>\n",
       "</div>"
      ],
      "text/plain": [
       "Empty DataFrame\n",
       "Columns: [id, call_date, duration, user_id, month]\n",
       "Index: []"
      ]
     },
     "execution_count": 32,
     "metadata": {},
     "output_type": "execute_result"
    }
   ],
   "source": [
    "calls.query('user_id == 1128')"
   ]
  },
  {
   "cell_type": "code",
   "execution_count": 33,
   "metadata": {},
   "outputs": [
    {
     "data": {
      "text/html": [
       "<div>\n",
       "<style scoped>\n",
       "    .dataframe tbody tr th:only-of-type {\n",
       "        vertical-align: middle;\n",
       "    }\n",
       "\n",
       "    .dataframe tbody tr th {\n",
       "        vertical-align: top;\n",
       "    }\n",
       "\n",
       "    .dataframe thead th {\n",
       "        text-align: right;\n",
       "    }\n",
       "</style>\n",
       "<table border=\"1\" class=\"dataframe\">\n",
       "  <thead>\n",
       "    <tr style=\"text-align: right;\">\n",
       "      <th></th>\n",
       "      <th>id</th>\n",
       "      <th>call_date</th>\n",
       "      <th>duration</th>\n",
       "      <th>user_id</th>\n",
       "      <th>month</th>\n",
       "    </tr>\n",
       "  </thead>\n",
       "  <tbody>\n",
       "  </tbody>\n",
       "</table>\n",
       "</div>"
      ],
      "text/plain": [
       "Empty DataFrame\n",
       "Columns: [id, call_date, duration, user_id, month]\n",
       "Index: []"
      ]
     },
     "execution_count": 33,
     "metadata": {},
     "output_type": "execute_result"
    }
   ],
   "source": [
    "calls.query('user_id == 1371')"
   ]
  },
  {
   "cell_type": "markdown",
   "metadata": {},
   "source": [
    "В выгрузке отсутствуют данные об использовании услуг компании пользователями с id 1128 и 1371. Добавлять их в расчет не имеет смысла."
   ]
  },
  {
   "cell_type": "markdown",
   "metadata": {},
   "source": [
    "В столбцах с звонками, сообщениями и гигабайтами есть пропуски. Они возникли из-за отсутствия активности пользователей в определенные месяцы. Логично будет заполнить пропуски нулями - услуги ведь не потреблялись."
   ]
  },
  {
   "cell_type": "code",
   "execution_count": 36,
   "metadata": {},
   "outputs": [
    {
     "name": "stdout",
     "output_type": "stream",
     "text": [
      "<class 'pandas.core.frame.DataFrame'>\n",
      "Int64Index: 3214 entries, 0 to 3213\n",
      "Data columns (total 21 columns):\n",
      " #   Column                 Non-Null Count  Dtype         \n",
      "---  ------                 --------------  -----         \n",
      " 0   user_id                3214 non-null   int64         \n",
      " 1   month                  3214 non-null   int64         \n",
      " 2   calls_count            3214 non-null   float64       \n",
      " 3   calls_sum              3214 non-null   float64       \n",
      " 4   messages_count         3214 non-null   float64       \n",
      " 5   mb_used                3214 non-null   float64       \n",
      " 6   age                    3214 non-null   int64         \n",
      " 7   churn_date             187 non-null    object        \n",
      " 8   city                   3214 non-null   object        \n",
      " 9   first_name             3214 non-null   object        \n",
      " 10  last_name              3214 non-null   object        \n",
      " 11  reg_date               3214 non-null   datetime64[ns]\n",
      " 12  tariff                 3214 non-null   object        \n",
      " 13  full_name              3214 non-null   object        \n",
      " 14  messages_included      3214 non-null   int64         \n",
      " 15  mb_per_month_included  3214 non-null   int64         \n",
      " 16  minutes_included       3214 non-null   int64         \n",
      " 17  rub_monthly_fee        3214 non-null   int64         \n",
      " 18  rub_per_gb             3214 non-null   int64         \n",
      " 19  rub_per_message        3214 non-null   int64         \n",
      " 20  rub_per_minute         3214 non-null   int64         \n",
      "dtypes: datetime64[ns](1), float64(4), int64(10), object(6)\n",
      "memory usage: 552.4+ KB\n"
     ]
    }
   ],
   "source": [
    "data['calls_count'] = data['calls_count'].fillna(0)\n",
    "data['calls_sum'] = data['calls_sum'].fillna(0)\n",
    "data['messages_count'] = data['messages_count'].fillna(0)\n",
    "data['mb_used'] = data['mb_used'].fillna(0)\n",
    "data.info()"
   ]
  },
  {
   "cell_type": "code",
   "execution_count": 37,
   "metadata": {},
   "outputs": [
    {
     "data": {
      "text/html": [
       "<div>\n",
       "<style scoped>\n",
       "    .dataframe tbody tr th:only-of-type {\n",
       "        vertical-align: middle;\n",
       "    }\n",
       "\n",
       "    .dataframe tbody tr th {\n",
       "        vertical-align: top;\n",
       "    }\n",
       "\n",
       "    .dataframe thead th {\n",
       "        text-align: right;\n",
       "    }\n",
       "</style>\n",
       "<table border=\"1\" class=\"dataframe\">\n",
       "  <thead>\n",
       "    <tr style=\"text-align: right;\">\n",
       "      <th></th>\n",
       "      <th>user_id</th>\n",
       "      <th>month</th>\n",
       "      <th>calls_count</th>\n",
       "      <th>calls_sum</th>\n",
       "      <th>messages_count</th>\n",
       "      <th>mb_used</th>\n",
       "      <th>age</th>\n",
       "      <th>churn_date</th>\n",
       "      <th>city</th>\n",
       "      <th>first_name</th>\n",
       "      <th>...</th>\n",
       "      <th>tariff</th>\n",
       "      <th>full_name</th>\n",
       "      <th>messages_included</th>\n",
       "      <th>mb_per_month_included</th>\n",
       "      <th>minutes_included</th>\n",
       "      <th>rub_monthly_fee</th>\n",
       "      <th>rub_per_gb</th>\n",
       "      <th>rub_per_message</th>\n",
       "      <th>rub_per_minute</th>\n",
       "      <th>income</th>\n",
       "    </tr>\n",
       "  </thead>\n",
       "  <tbody>\n",
       "    <tr>\n",
       "      <th>0</th>\n",
       "      <td>1000</td>\n",
       "      <td>5</td>\n",
       "      <td>22.0</td>\n",
       "      <td>159.0</td>\n",
       "      <td>22.0</td>\n",
       "      <td>2253.49</td>\n",
       "      <td>52</td>\n",
       "      <td>NaN</td>\n",
       "      <td>Краснодар</td>\n",
       "      <td>Рафаил</td>\n",
       "      <td>...</td>\n",
       "      <td>ultra</td>\n",
       "      <td>Рафаил Верещагин</td>\n",
       "      <td>1000</td>\n",
       "      <td>30720</td>\n",
       "      <td>3000</td>\n",
       "      <td>1950</td>\n",
       "      <td>150</td>\n",
       "      <td>1</td>\n",
       "      <td>1</td>\n",
       "      <td>1950.0</td>\n",
       "    </tr>\n",
       "    <tr>\n",
       "      <th>1</th>\n",
       "      <td>1000</td>\n",
       "      <td>6</td>\n",
       "      <td>43.0</td>\n",
       "      <td>172.0</td>\n",
       "      <td>60.0</td>\n",
       "      <td>23233.77</td>\n",
       "      <td>52</td>\n",
       "      <td>NaN</td>\n",
       "      <td>Краснодар</td>\n",
       "      <td>Рафаил</td>\n",
       "      <td>...</td>\n",
       "      <td>ultra</td>\n",
       "      <td>Рафаил Верещагин</td>\n",
       "      <td>1000</td>\n",
       "      <td>30720</td>\n",
       "      <td>3000</td>\n",
       "      <td>1950</td>\n",
       "      <td>150</td>\n",
       "      <td>1</td>\n",
       "      <td>1</td>\n",
       "      <td>1950.0</td>\n",
       "    </tr>\n",
       "    <tr>\n",
       "      <th>2</th>\n",
       "      <td>1000</td>\n",
       "      <td>7</td>\n",
       "      <td>47.0</td>\n",
       "      <td>340.0</td>\n",
       "      <td>75.0</td>\n",
       "      <td>14003.64</td>\n",
       "      <td>52</td>\n",
       "      <td>NaN</td>\n",
       "      <td>Краснодар</td>\n",
       "      <td>Рафаил</td>\n",
       "      <td>...</td>\n",
       "      <td>ultra</td>\n",
       "      <td>Рафаил Верещагин</td>\n",
       "      <td>1000</td>\n",
       "      <td>30720</td>\n",
       "      <td>3000</td>\n",
       "      <td>1950</td>\n",
       "      <td>150</td>\n",
       "      <td>1</td>\n",
       "      <td>1</td>\n",
       "      <td>1950.0</td>\n",
       "    </tr>\n",
       "    <tr>\n",
       "      <th>3</th>\n",
       "      <td>1000</td>\n",
       "      <td>8</td>\n",
       "      <td>52.0</td>\n",
       "      <td>408.0</td>\n",
       "      <td>81.0</td>\n",
       "      <td>14055.93</td>\n",
       "      <td>52</td>\n",
       "      <td>NaN</td>\n",
       "      <td>Краснодар</td>\n",
       "      <td>Рафаил</td>\n",
       "      <td>...</td>\n",
       "      <td>ultra</td>\n",
       "      <td>Рафаил Верещагин</td>\n",
       "      <td>1000</td>\n",
       "      <td>30720</td>\n",
       "      <td>3000</td>\n",
       "      <td>1950</td>\n",
       "      <td>150</td>\n",
       "      <td>1</td>\n",
       "      <td>1</td>\n",
       "      <td>1950.0</td>\n",
       "    </tr>\n",
       "    <tr>\n",
       "      <th>4</th>\n",
       "      <td>1000</td>\n",
       "      <td>9</td>\n",
       "      <td>58.0</td>\n",
       "      <td>466.0</td>\n",
       "      <td>57.0</td>\n",
       "      <td>14568.91</td>\n",
       "      <td>52</td>\n",
       "      <td>NaN</td>\n",
       "      <td>Краснодар</td>\n",
       "      <td>Рафаил</td>\n",
       "      <td>...</td>\n",
       "      <td>ultra</td>\n",
       "      <td>Рафаил Верещагин</td>\n",
       "      <td>1000</td>\n",
       "      <td>30720</td>\n",
       "      <td>3000</td>\n",
       "      <td>1950</td>\n",
       "      <td>150</td>\n",
       "      <td>1</td>\n",
       "      <td>1</td>\n",
       "      <td>1950.0</td>\n",
       "    </tr>\n",
       "  </tbody>\n",
       "</table>\n",
       "<p>5 rows × 22 columns</p>\n",
       "</div>"
      ],
      "text/plain": [
       "   user_id  month  calls_count  calls_sum  messages_count   mb_used  age  \\\n",
       "0     1000      5         22.0      159.0            22.0   2253.49   52   \n",
       "1     1000      6         43.0      172.0            60.0  23233.77   52   \n",
       "2     1000      7         47.0      340.0            75.0  14003.64   52   \n",
       "3     1000      8         52.0      408.0            81.0  14055.93   52   \n",
       "4     1000      9         58.0      466.0            57.0  14568.91   52   \n",
       "\n",
       "  churn_date       city first_name  ... tariff         full_name  \\\n",
       "0        NaN  Краснодар     Рафаил  ...  ultra  Рафаил Верещагин   \n",
       "1        NaN  Краснодар     Рафаил  ...  ultra  Рафаил Верещагин   \n",
       "2        NaN  Краснодар     Рафаил  ...  ultra  Рафаил Верещагин   \n",
       "3        NaN  Краснодар     Рафаил  ...  ultra  Рафаил Верещагин   \n",
       "4        NaN  Краснодар     Рафаил  ...  ultra  Рафаил Верещагин   \n",
       "\n",
       "  messages_included mb_per_month_included  minutes_included  rub_monthly_fee  \\\n",
       "0              1000                 30720              3000             1950   \n",
       "1              1000                 30720              3000             1950   \n",
       "2              1000                 30720              3000             1950   \n",
       "3              1000                 30720              3000             1950   \n",
       "4              1000                 30720              3000             1950   \n",
       "\n",
       "   rub_per_gb  rub_per_message  rub_per_minute  income  \n",
       "0         150                1               1  1950.0  \n",
       "1         150                1               1  1950.0  \n",
       "2         150                1               1  1950.0  \n",
       "3         150                1               1  1950.0  \n",
       "4         150                1               1  1950.0  \n",
       "\n",
       "[5 rows x 22 columns]"
      ]
     },
     "execution_count": 37,
     "metadata": {},
     "output_type": "execute_result"
    }
   ],
   "source": [
    "# создадим функцию, рассчитывающую помесячную выручку с каждого пользователя\n",
    "def income_calc(row):\n",
    "    calls_sum = row['calls_sum']\n",
    "    messages_count = row['messages_count']\n",
    "    mb_used = row['mb_used']\n",
    "    tariff = row['tariff']\n",
    "    messages_included = row['messages_included']\n",
    "    mb_per_month_included = row['mb_per_month_included']\n",
    "    minutes_included = row['minutes_included']\n",
    "    rub_monthly_fee = row['rub_monthly_fee']\n",
    "    rub_per_gb = row['rub_per_gb']\n",
    "    rub_per_message = row['rub_per_message']\n",
    "    rub_per_minute = row['rub_per_minute']\n",
    "    income = 0\n",
    "    if calls_sum > minutes_included:\n",
    "        income += (calls_sum - minutes_included) * rub_per_minute\n",
    "    if messages_count > messages_included:\n",
    "        income += (messages_count - messages_included) * rub_per_message\n",
    "    if mb_used > mb_per_month_included:\n",
    "        income += np.ceil((mb_used - mb_per_month_included) / 1024) * rub_per_gb\n",
    "    income += rub_monthly_fee\n",
    "    return income\n",
    "\n",
    "data['income'] = data.apply(income_calc, axis=1)\n",
    "data.head()"
   ]
  },
  {
   "cell_type": "markdown",
   "metadata": {},
   "source": [
    "## Анализ данных\n",
    "\n",
    "Опишем поведение клиентов оператора, исходя из выборки. Определим, сколько минут разговора, сколько сообщений и какой объём интернет-трафика требуется пользователям каждого тарифа в месяц. Посчитаем среднее количество, дисперсию и стандартное отклонение. Построим гистограммы. Опишем распределения."
   ]
  },
  {
   "cell_type": "code",
   "execution_count": 38,
   "metadata": {},
   "outputs": [
    {
     "data": {
      "text/plain": [
       "'Количество пользователей тарифа ultra'"
      ]
     },
     "metadata": {},
     "output_type": "display_data"
    },
    {
     "data": {
      "text/plain": [
       "148"
      ]
     },
     "metadata": {},
     "output_type": "display_data"
    },
    {
     "data": {
      "text/plain": [
       "'Количество пользователей тарифа smart'"
      ]
     },
     "metadata": {},
     "output_type": "display_data"
    },
    {
     "data": {
      "text/plain": [
       "350"
      ]
     },
     "metadata": {},
     "output_type": "display_data"
    }
   ],
   "source": [
    "# разделим датасет на две части, по названию тарифа\n",
    "data_ultra = data.query('tariff == \"ultra\"')\n",
    "data_smart = data.query('tariff == \"smart\"')\n",
    "# подсчитаем объемы полученных выборок\n",
    "display(\n",
    "    'Количество пользователей тарифа ultra', len(data_ultra['user_id'].unique()),\n",
    "    'Количество пользователей тарифа smart', len(data_smart['user_id'].unique()),\n",
    ")"
   ]
  },
  {
   "cell_type": "markdown",
   "metadata": {},
   "source": [
    "### Звонки"
   ]
  },
  {
   "cell_type": "code",
   "execution_count": 39,
   "metadata": {},
   "outputs": [
    {
     "data": {
      "text/plain": [
       "'Тариф ultra'"
      ]
     },
     "metadata": {},
     "output_type": "display_data"
    },
    {
     "data": {
      "text/plain": [
       "'Среднее'"
      ]
     },
     "metadata": {},
     "output_type": "display_data"
    },
    {
     "data": {
      "text/plain": [
       "526.6233502538071"
      ]
     },
     "metadata": {},
     "output_type": "display_data"
    },
    {
     "data": {
      "text/plain": [
       "'Дисперсия'"
      ]
     },
     "metadata": {},
     "output_type": "display_data"
    },
    {
     "data": {
      "text/plain": [
       "100873.63339730098"
      ]
     },
     "metadata": {},
     "output_type": "display_data"
    },
    {
     "data": {
      "text/plain": [
       "'Стандартное отклонение'"
      ]
     },
     "metadata": {},
     "output_type": "display_data"
    },
    {
     "data": {
      "text/plain": [
       "317.6060978591264"
      ]
     },
     "metadata": {},
     "output_type": "display_data"
    }
   ],
   "source": [
    "# вычислим основные статистические характеристики тарифа ultra\n",
    "display(\n",
    "    'Тариф ultra',\n",
    "    'Среднее', data_ultra['calls_sum'].mean(),\n",
    "    'Дисперсия', np.var(data_ultra['calls_sum'], ddof=1),\n",
    "    'Стандартное отклонение', np.std(data_ultra['calls_sum'], ddof=1)\n",
    ")"
   ]
  },
  {
   "cell_type": "code",
   "execution_count": 40,
   "metadata": {},
   "outputs": [
    {
     "data": {
      "text/plain": [
       "'Тариф smart'"
      ]
     },
     "metadata": {},
     "output_type": "display_data"
    },
    {
     "data": {
      "text/plain": [
       "'Среднее'"
      ]
     },
     "metadata": {},
     "output_type": "display_data"
    },
    {
     "data": {
      "text/plain": [
       "417.9349484073576"
      ]
     },
     "metadata": {},
     "output_type": "display_data"
    },
    {
     "data": {
      "text/plain": [
       "'Дисперсия'"
      ]
     },
     "metadata": {},
     "output_type": "display_data"
    },
    {
     "data": {
      "text/plain": [
       "36219.31578434428"
      ]
     },
     "metadata": {},
     "output_type": "display_data"
    },
    {
     "data": {
      "text/plain": [
       "'Стандартное отклонение'"
      ]
     },
     "metadata": {},
     "output_type": "display_data"
    },
    {
     "data": {
      "text/plain": [
       "190.31372988921288"
      ]
     },
     "metadata": {},
     "output_type": "display_data"
    }
   ],
   "source": [
    "# вычислим основные статистические характеристики тарифа smart\n",
    "display(\n",
    "    'Тариф smart',\n",
    "    'Среднее', data_smart['calls_sum'].mean(),\n",
    "    'Дисперсия', np.var(data_smart['calls_sum'], ddof=1),\n",
    "    'Стандартное отклонение', np.std(data_smart['calls_sum'], ddof=1)\n",
    ")"
   ]
  },
  {
   "cell_type": "code",
   "execution_count": 41,
   "metadata": {},
   "outputs": [
    {
     "data": {
      "text/plain": [
       "<AxesSubplot:ylabel='Frequency'>"
      ]
     },
     "execution_count": 41,
     "metadata": {},
     "output_type": "execute_result"
    },
    {
     "data": {
      "image/png": "[encoded data removed]",
      "text/plain": [
       "<Figure size 432x288 with 1 Axes>"
      ]
     },
     "metadata": {
      "needs_background": "light"
     },
     "output_type": "display_data"
    }
   ],
   "source": [
    "ax = data_ultra.plot(kind='hist', y='calls_sum', range=(1,1750), bins=100, alpha=0.7, label='ultra')\n",
    "data_smart.plot(kind='hist', y='calls_sum', range=(1,1750), bins=100, alpha=0.7, label='smart', ax=ax, grid=True, legend=True)"
   ]
  },
  {
   "cell_type": "markdown",
   "metadata": {},
   "source": [
    "### Сообщения"
   ]
  },
  {
   "cell_type": "code",
   "execution_count": 42,
   "metadata": {},
   "outputs": [
    {
     "data": {
      "text/plain": [
       "'Тариф ultra'"
      ]
     },
     "metadata": {},
     "output_type": "display_data"
    },
    {
     "data": {
      "text/plain": [
       "'Среднее'"
      ]
     },
     "metadata": {},
     "output_type": "display_data"
    },
    {
     "data": {
      "text/plain": [
       "49.36345177664975"
      ]
     },
     "metadata": {},
     "output_type": "display_data"
    },
    {
     "data": {
      "text/plain": [
       "'Дисперсия'"
      ]
     },
     "metadata": {},
     "output_type": "display_data"
    },
    {
     "data": {
      "text/plain": [
       "2285.2661425446736"
      ]
     },
     "metadata": {},
     "output_type": "display_data"
    },
    {
     "data": {
      "text/plain": [
       "'Стандартное отклонение'"
      ]
     },
     "metadata": {},
     "output_type": "display_data"
    },
    {
     "data": {
      "text/plain": [
       "47.804457350174715"
      ]
     },
     "metadata": {},
     "output_type": "display_data"
    }
   ],
   "source": [
    "# вычислим основные статистические характеристики тарифа ultra\n",
    "display(\n",
    "    'Тариф ultra',\n",
    "    'Среднее', data_ultra['messages_count'].mean(),\n",
    "    'Дисперсия', np.var(data_ultra['messages_count'], ddof=1),\n",
    "    'Стандартное отклонение', np.std(data_ultra['messages_count'], ddof=1)\n",
    ")"
   ]
  },
  {
   "cell_type": "code",
   "execution_count": 43,
   "metadata": {},
   "outputs": [
    {
     "data": {
      "text/plain": [
       "'Тариф smart'"
      ]
     },
     "metadata": {},
     "output_type": "display_data"
    },
    {
     "data": {
      "text/plain": [
       "'Среднее'"
      ]
     },
     "metadata": {},
     "output_type": "display_data"
    },
    {
     "data": {
      "text/plain": [
       "33.384028712427096"
      ]
     },
     "metadata": {},
     "output_type": "display_data"
    },
    {
     "data": {
      "text/plain": [
       "'Дисперсия'"
      ]
     },
     "metadata": {},
     "output_type": "display_data"
    },
    {
     "data": {
      "text/plain": [
       "796.8129584480083"
      ]
     },
     "metadata": {},
     "output_type": "display_data"
    },
    {
     "data": {
      "text/plain": [
       "'Стандартное отклонение'"
      ]
     },
     "metadata": {},
     "output_type": "display_data"
    },
    {
     "data": {
      "text/plain": [
       "28.22787555676141"
      ]
     },
     "metadata": {},
     "output_type": "display_data"
    }
   ],
   "source": [
    "# вычислим основные статистические характеристики тарифа smart\n",
    "display(\n",
    "    'Тариф smart',\n",
    "    'Среднее', data_smart['messages_count'].mean(),\n",
    "    'Дисперсия', np.var(data_smart['messages_count'], ddof=1),\n",
    "    'Стандартное отклонение', np.std(data_smart['messages_count'], ddof=1)\n",
    ")"
   ]
  },
  {
   "cell_type": "code",
   "execution_count": 44,
   "metadata": {
    "scrolled": true
   },
   "outputs": [
    {
     "data": {
      "text/plain": [
       "<AxesSubplot:ylabel='Frequency'>"
      ]
     },
     "execution_count": 44,
     "metadata": {},
     "output_type": "execute_result"
    },
    {
     "data": {
      "image/png": "[encoded data removed]",
      "text/plain": [
       "<Figure size 432x288 with 1 Axes>"
      ]
     },
     "metadata": {
      "needs_background": "light"
     },
     "output_type": "display_data"
    }
   ],
   "source": [
    "ax = data_ultra.plot(kind='hist', y='messages_count', range=(1,250), bins=100, alpha=0.7, label='ultra')\n",
    "data_smart.plot(kind='hist', y='messages_count', range=(1,250), bins=100, alpha=0.7, label='smart', ax=ax, grid=True, legend=True)"
   ]
  },
  {
   "cell_type": "markdown",
   "metadata": {},
   "source": [
    "### Интернет"
   ]
  },
  {
   "cell_type": "code",
   "execution_count": 45,
   "metadata": {},
   "outputs": [
    {
     "data": {
      "text/plain": [
       "'Тариф ultra'"
      ]
     },
     "metadata": {},
     "output_type": "display_data"
    },
    {
     "data": {
      "text/plain": [
       "'Среднее'"
      ]
     },
     "metadata": {},
     "output_type": "display_data"
    },
    {
     "data": {
      "text/plain": [
       "19468.805208121827"
      ]
     },
     "metadata": {},
     "output_type": "display_data"
    },
    {
     "data": {
      "text/plain": [
       "'Дисперсия'"
      ]
     },
     "metadata": {},
     "output_type": "display_data"
    },
    {
     "data": {
      "text/plain": [
       "101751013.78335385"
      ]
     },
     "metadata": {},
     "output_type": "display_data"
    },
    {
     "data": {
      "text/plain": [
       "'Стандартное отклонение'"
      ]
     },
     "metadata": {},
     "output_type": "display_data"
    },
    {
     "data": {
      "text/plain": [
       "10087.170752166034"
      ]
     },
     "metadata": {},
     "output_type": "display_data"
    }
   ],
   "source": [
    "# вычислим основные статистические характеристики тарифа ultra\n",
    "display(\n",
    "    'Тариф ultra',\n",
    "    'Среднее', data_ultra['mb_used'].mean(),\n",
    "    'Дисперсия', np.var(data_ultra['mb_used'], ddof=1),\n",
    "    'Стандартное отклонение', np.std(data_ultra['mb_used'], ddof=1)\n",
    ")"
   ]
  },
  {
   "cell_type": "code",
   "execution_count": 46,
   "metadata": {},
   "outputs": [
    {
     "data": {
      "text/plain": [
       "'Тариф smart'"
      ]
     },
     "metadata": {},
     "output_type": "display_data"
    },
    {
     "data": {
      "text/plain": [
       "'Среднее'"
      ]
     },
     "metadata": {},
     "output_type": "display_data"
    },
    {
     "data": {
      "text/plain": [
       "16208.386989681472"
      ]
     },
     "metadata": {},
     "output_type": "display_data"
    },
    {
     "data": {
      "text/plain": [
       "'Дисперсия'"
      ]
     },
     "metadata": {},
     "output_type": "display_data"
    },
    {
     "data": {
      "text/plain": [
       "34462496.46274242"
      ]
     },
     "metadata": {},
     "output_type": "display_data"
    },
    {
     "data": {
      "text/plain": [
       "'Стандартное отклонение'"
      ]
     },
     "metadata": {},
     "output_type": "display_data"
    },
    {
     "data": {
      "text/plain": [
       "5870.476681049199"
      ]
     },
     "metadata": {},
     "output_type": "display_data"
    }
   ],
   "source": [
    "# вычислим основные статистические характеристики тарифа smart\n",
    "display(\n",
    "    'Тариф smart',\n",
    "    'Среднее', data_smart['mb_used'].mean(),\n",
    "    'Дисперсия', np.var(data_smart['mb_used'], ddof=1),\n",
    "    'Стандартное отклонение', np.std(data_smart['mb_used'], ddof=1)\n",
    ")"
   ]
  },
  {
   "cell_type": "code",
   "execution_count": 47,
   "metadata": {
    "scrolled": true
   },
   "outputs": [
    {
     "data": {
      "text/plain": [
       "<AxesSubplot:ylabel='Frequency'>"
      ]
     },
     "execution_count": 47,
     "metadata": {},
     "output_type": "execute_result"
    },
    {
     "data": {
      "image/png": "[encoded data removed]",
      "text/plain": [
       "<Figure size 432x288 with 1 Axes>"
      ]
     },
     "metadata": {
      "needs_background": "light"
     },
     "output_type": "display_data"
    }
   ],
   "source": [
    "ax = data_ultra.plot(kind='hist', y='mb_used', range=(1,50000), bins=100, alpha=0.7, label='ultra')\n",
    "data_smart.plot(kind='hist', y='mb_used', range=(1,50000), bins=100, alpha=0.7, label='smart', ax=ax, grid=True, legend=True)"
   ]
  },
  {
   "cell_type": "markdown",
   "metadata": {},
   "source": [
    "### Выручка"
   ]
  },
  {
   "cell_type": "code",
   "execution_count": 48,
   "metadata": {
    "scrolled": true
   },
   "outputs": [
    {
     "data": {
      "text/plain": [
       "'Тариф ultra'"
      ]
     },
     "metadata": {},
     "output_type": "display_data"
    },
    {
     "data": {
      "text/plain": [
       "'Среднее'"
      ]
     },
     "metadata": {},
     "output_type": "display_data"
    },
    {
     "data": {
      "text/plain": [
       "2070.1522842639592"
      ]
     },
     "metadata": {},
     "output_type": "display_data"
    },
    {
     "data": {
      "text/plain": [
       "'Дисперсия'"
      ]
     },
     "metadata": {},
     "output_type": "display_data"
    },
    {
     "data": {
      "text/plain": [
       "141516.7450786183"
      ]
     },
     "metadata": {},
     "output_type": "display_data"
    },
    {
     "data": {
      "text/plain": [
       "'Стандартное отклонение'"
      ]
     },
     "metadata": {},
     "output_type": "display_data"
    },
    {
     "data": {
      "text/plain": [
       "376.1871144505328"
      ]
     },
     "metadata": {},
     "output_type": "display_data"
    }
   ],
   "source": [
    "# вычислим основные статистические характеристики тарифа ultra\n",
    "display(\n",
    "    'Тариф ultra',\n",
    "    'Среднее', data_ultra['income'].mean(),\n",
    "    'Дисперсия', np.var(data_ultra['income'], ddof=1),\n",
    "    'Стандартное отклонение', np.std(data_ultra['income'], ddof=1)\n",
    ")"
   ]
  },
  {
   "cell_type": "code",
   "execution_count": 49,
   "metadata": {
    "scrolled": true
   },
   "outputs": [
    {
     "data": {
      "text/plain": [
       "'Тариф smart'"
      ]
     },
     "metadata": {},
     "output_type": "display_data"
    },
    {
     "data": {
      "text/plain": [
       "'Среднее'"
      ]
     },
     "metadata": {},
     "output_type": "display_data"
    },
    {
     "data": {
      "text/plain": [
       "1289.9735307312696"
      ]
     },
     "metadata": {},
     "output_type": "display_data"
    },
    {
     "data": {
      "text/plain": [
       "'Дисперсия'"
      ]
     },
     "metadata": {},
     "output_type": "display_data"
    },
    {
     "data": {
      "text/plain": [
       "669785.7080064242"
      ]
     },
     "metadata": {},
     "output_type": "display_data"
    },
    {
     "data": {
      "text/plain": [
       "'Стандартное отклонение'"
      ]
     },
     "metadata": {},
     "output_type": "display_data"
    },
    {
     "data": {
      "text/plain": [
       "818.4043670499469"
      ]
     },
     "metadata": {},
     "output_type": "display_data"
    }
   ],
   "source": [
    "# вычислим основные статистические характеристики тарифа smart\n",
    "display(\n",
    "    'Тариф smart',\n",
    "    'Среднее', data_smart['income'].mean(),\n",
    "    'Дисперсия', np.var(data_smart['income'], ddof=1),\n",
    "    'Стандартное отклонение', np.std(data_smart['income'], ddof=1)\n",
    ")"
   ]
  },
  {
   "cell_type": "code",
   "execution_count": 50,
   "metadata": {
    "scrolled": true
   },
   "outputs": [
    {
     "data": {
      "text/plain": [
       "<AxesSubplot:ylabel='Frequency'>"
      ]
     },
     "execution_count": 50,
     "metadata": {},
     "output_type": "execute_result"
    },
    {
     "data": {
      "image/png": "[encoded data removed]",
      "text/plain": [
       "<Figure size 432x288 with 1 Axes>"
      ]
     },
     "metadata": {
      "needs_background": "light"
     },
     "output_type": "display_data"
    }
   ],
   "source": [
    "# построим гистограмму частоты распределения выручки по обоим тарифам\n",
    "ax = data_ultra.plot(kind='hist', y='income', range=(500, 6000), bins=100, alpha=0.7, label='ultra')\n",
    "data_smart.plot(kind='hist', y='income', range=(500, 6000), bins=100, alpha=0.7, label='smart', ax=ax, grid=True, legend=True)"
   ]
  },
  {
   "cell_type": "code",
   "execution_count": 51,
   "metadata": {
    "scrolled": false
   },
   "outputs": [
    {
     "data": {
      "text/plain": [
       "<AxesSubplot:xlabel='month'>"
      ]
     },
     "execution_count": 51,
     "metadata": {},
     "output_type": "execute_result"
    },
    {
     "data": {
      "image/png": "[encoded data removed]",
      "text/plain": [
       "<Figure size 432x288 with 1 Axes>"
      ]
     },
     "metadata": {
      "needs_background": "light"
     },
     "output_type": "display_data"
    }
   ],
   "source": [
    "# посчитаем среднюю выручку по месяцам\n",
    "data_ultra_month = data_ultra.pivot_table(index='month', values='income', aggfunc='mean')\n",
    "data_ultra_month = data_ultra_month.reset_index()\n",
    "data_smart_month = data_smart.pivot_table(index='month', values='income', aggfunc='mean')\n",
    "data_smart_month = data_smart_month.reset_index()\n",
    "\n",
    "# построим график изменения средней выручки по месяцам\n",
    "ax = data_ultra_month.sort_values('month').plot(x='month', y='income', alpha=0.7, label='ultra')\n",
    "data_smart_month.sort_values('month').plot(x='month', y='income', ax=ax, alpha=0.7, label='smart', grid=True, legend=True)"
   ]
  },
  {
   "cell_type": "code",
   "execution_count": 52,
   "metadata": {},
   "outputs": [
    {
     "data": {
      "text/plain": [
       "<AxesSubplot:xlabel='tariff'>"
      ]
     },
     "execution_count": 52,
     "metadata": {},
     "output_type": "execute_result"
    },
    {
     "data": {
      "image/png": "[encoded data removed]",
      "text/plain": [
       "<Figure size 432x288 with 1 Axes>"
      ]
     },
     "metadata": {
      "needs_background": "light"
     },
     "output_type": "display_data"
    }
   ],
   "source": [
    "# подсчитаем суммарныю выручку за год по двум тарифам\n",
    "data.pivot_table(index='tariff', values='income', aggfunc='sum').plot(y='income', kind='bar')"
   ]
  },
  {
   "cell_type": "markdown",
   "metadata": {},
   "source": [
    "**Выводы**\n",
    "\n",
    "В среднем, пользователям тарифа Ультра требуется примерно на 150 минут, 20 сообщений и 3 гб больше, чем пользователям тарифа Смарт. Средний доход пользователей Ультра составляет 2070, что близко к цене абонплаты. Средний доход Смарт составляет 1289, при этом на графике изменения средней выручки по месяцам видно, что у Смарта наблюдается стабильный рост. Доход Ультра также растет, но не сильно. Суммарная выручка за год показывает преимущество Смарт почти в милллион рублей."
   ]
  },
  {
   "cell_type": "markdown",
   "metadata": {},
   "source": [
    "## Проверка гипотез"
   ]
  },
  {
   "cell_type": "markdown",
   "metadata": {},
   "source": [
    "### Cредняя выручка пользователей тарифов «Ультра» и «Смарт» различается\n",
    "\n",
    "Сформулируем гипотезу. За нулевую гипотезу примем утверждение о том, что средняя выручка пользователей «Ультра» равна средней выручке пользователей «Смарт». Альтернативной гипотезой будет утверждение о том, что средние выручки тарифов не равны. Будем использовать специальный метод для проверки гипотезы о равенстве среднего двух генеральных совокупностей по взятым из них выборкам `ttest_ind`. Так как мы знаем, что выборки разного размера (148 против 350 пользователей), укажем в параметре `equal_var` значение `False`. Критический уровень статистической значимости установим в 5 %."
   ]
  },
  {
   "cell_type": "code",
   "execution_count": 53,
   "metadata": {
    "scrolled": true
   },
   "outputs": [
    {
     "data": {
      "text/plain": [
       "'Средняя выручка тарифа Ультра:'"
      ]
     },
     "metadata": {},
     "output_type": "display_data"
    },
    {
     "data": {
      "text/plain": [
       "2070.1522842639592"
      ]
     },
     "metadata": {},
     "output_type": "display_data"
    },
    {
     "data": {
      "text/plain": [
       "'Средняя выручка тарифа Смарт:'"
      ]
     },
     "metadata": {},
     "output_type": "display_data"
    },
    {
     "data": {
      "text/plain": [
       "1289.9735307312696"
      ]
     },
     "metadata": {},
     "output_type": "display_data"
    },
    {
     "data": {
      "text/plain": [
       "'p-значение:'"
      ]
     },
     "metadata": {},
     "output_type": "display_data"
    },
    {
     "data": {
      "text/plain": [
       "4.2606313931076085e-250"
      ]
     },
     "metadata": {},
     "output_type": "display_data"
    },
    {
     "data": {
      "text/plain": [
       "'Отвергаем нулевую гипотезу'"
      ]
     },
     "metadata": {},
     "output_type": "display_data"
    }
   ],
   "source": [
    "alpha = 0.05 # критический уровень статистической значимости\n",
    "# если p-value окажется меньше него - отвергнем гипотезу\n",
    "\n",
    "results = st.ttest_ind(\n",
    "    data_ultra['income'], \n",
    "    data_smart['income'], equal_var=False)\n",
    "\n",
    "display('Средняя выручка тарифа Ультра:',  data_ultra['income'].mean())\n",
    "display('Средняя выручка тарифа Смарт:',  data_smart['income'].mean())\n",
    "display('p-значение:', results.pvalue)\n",
    "\n",
    "if results.pvalue < alpha:\n",
    "    display(\"Отвергаем нулевую гипотезу\")\n",
    "else:\n",
    "    display(\"Не получилось отвергнуть нулевую гипотезу\") "
   ]
  },
  {
   "cell_type": "markdown",
   "metadata": {},
   "source": [
    "**Вывод:**\n",
    "\n",
    "Так как нулевая гипотеза отвергнута, мы принимаем альтернативную гипотезу - средняя выручка тарифов «Ультра» и «Смарт» различается. Сильное различие в средних подсказывает, в какую стророну направлено различие - среднее «Ультра» больше. "
   ]
  },
  {
   "cell_type": "markdown",
   "metadata": {},
   "source": [
    "### Cредняя выручка пользователей из Москвы отличается от выручки пользователей из других регионов\n",
    "\n",
    "Сформулируем гипотезу. За нулевую гипотезу примем утверждение о том, что средняя выручка пользователей из Москвы равна средней выручке пользователей из других регионов. Альтернативной гипотезой будет утверждение о том, что средняя выручка различается. Методика проверки будет такой же, как в предыдущей проверке."
   ]
  },
  {
   "cell_type": "code",
   "execution_count": 54,
   "metadata": {
    "scrolled": false
   },
   "outputs": [
    {
     "data": {
      "text/plain": [
       "'Средняя выручка в Москве:'"
      ]
     },
     "metadata": {},
     "output_type": "display_data"
    },
    {
     "data": {
      "text/plain": [
       "1546.7135842880523"
      ]
     },
     "metadata": {},
     "output_type": "display_data"
    },
    {
     "data": {
      "text/plain": [
       "'Средняя выручка в регионах:'"
      ]
     },
     "metadata": {},
     "output_type": "display_data"
    },
    {
     "data": {
      "text/plain": [
       "1524.9362274298885"
      ]
     },
     "metadata": {},
     "output_type": "display_data"
    },
    {
     "data": {
      "text/plain": [
       "'p-значение:'"
      ]
     },
     "metadata": {},
     "output_type": "display_data"
    },
    {
     "data": {
      "text/plain": [
       "0.5257376663729298"
      ]
     },
     "metadata": {},
     "output_type": "display_data"
    },
    {
     "data": {
      "text/plain": [
       "'Не получилось отвергнуть нулевую гипотезу'"
      ]
     },
     "metadata": {},
     "output_type": "display_data"
    }
   ],
   "source": [
    "alpha = 0.05 # критический уровень статистической значимости\n",
    "# если p-value окажется меньше него - отвергнем гипотезу\n",
    "\n",
    "results = st.ttest_ind(\n",
    "    data.query('city == \"Москва\"')['income'], \n",
    "    data.query('city != \"Москва\"')['income'], equal_var=False)\n",
    "\n",
    "display('Средняя выручка в Москве:', data.query('city == \"Москва\"')['income'].mean())\n",
    "display('Средняя выручка в регионах:', data.query('city != \"Москва\"')['income'].mean())\n",
    "display('p-значение:', results.pvalue)\n",
    "\n",
    "if (results.pvalue < alpha):\n",
    "    display(\"Отвергаем нулевую гипотезу\")\n",
    "else:\n",
    "    display(\"Не получилось отвергнуть нулевую гипотезу\")"
   ]
  },
  {
   "cell_type": "markdown",
   "metadata": {},
   "source": [
    "Отвергнуть нулевую гипотезу не получилось - средняя выручка пользователей из Москвы не отличается от выручки пользователей из других регионов. Средние значения подтверждают вывод."
   ]
  },
  {
   "cell_type": "markdown",
   "metadata": {},
   "source": [
    "## Общий вывод"
   ]
  },
  {
   "cell_type": "markdown",
   "metadata": {},
   "source": [
    "Проведено исследование доходности тарифных планов телеком оператора. Изучены исходные данные, проведена их предобработка - изменены типы данных в колонках, отброшены артефакты. Рассчитаны дополнительные характеристики, объединены таблицы. Проведен исследовательский анализ. Изучены параметры, влияющие на доходность тарифов - потребление пользователями минут, сообщений и мегабайт. Проведена проверка двух гипотез. \n",
    "\n",
    "1. Было выявлено, что в среднем пользователям тарифа «Ультра» требуется примерно на 150 минут, 20 сообщений и 3 гб больше, чем пользователям тарифа «Смарт».\n",
    "\n",
    "2. Средняя выручка с пользователя выше у тарифа Ультра - 2070 против 1289 у Смарт.\n",
    "\n",
    "3. График изменения средней выручки по месяцам показывает стабильный рост выручки у Смарта - практически в два раза на конец года.\n",
    "\n",
    "4. Суммарная выручка за год показывает преимущество Смарт почти в милллион рублей. Из-за того что тарифом пользуется больше людей, он приносит больший доход.\n",
    "\n",
    "2. Проверена гипотеза о том, что средняя выручка от пользователей тарифа «Ультра» отлична от выручки пользователей тарифа «Смарт». Гипотеза подтвердилась - выручки различаются.\n",
    "\n",
    "3. Проверена гипотеза о том, что средняя выручка пользователей из Москвы отлична от выручки пользователей других регионов. Гипотеза не подтвердилась - средняя выручка не отличается в Москве и регионах."
   ]
  }
 ],
 "metadata": {
  "ExecuteTimeLog": [
   {
    "duration": 648,
    "start_time": "2022-05-25T17:12:00.046Z"
   },
   {
    "duration": 585,
    "start_time": "2022-05-25T17:13:32.186Z"
   },
   {
    "duration": 17,
    "start_time": "2022-05-25T17:13:49.430Z"
   },
   {
    "duration": 146,
    "start_time": "2022-05-25T17:16:46.147Z"
   },
   {
    "duration": 868,
    "start_time": "2022-05-25T17:16:53.410Z"
   },
   {
    "duration": 14,
    "start_time": "2022-05-25T17:16:54.903Z"
   },
   {
    "duration": 15,
    "start_time": "2022-05-25T17:18:16.199Z"
   },
   {
    "duration": 9,
    "start_time": "2022-05-25T17:18:26.735Z"
   },
   {
    "duration": 13,
    "start_time": "2022-05-25T17:18:36.435Z"
   },
   {
    "duration": 11,
    "start_time": "2022-05-25T17:18:51.905Z"
   },
   {
    "duration": 399,
    "start_time": "2022-05-26T18:08:33.572Z"
   },
   {
    "duration": 1085,
    "start_time": "2022-05-26T18:08:33.973Z"
   },
   {
    "duration": 13,
    "start_time": "2022-05-26T18:08:35.059Z"
   },
   {
    "duration": 9,
    "start_time": "2022-05-26T18:08:35.074Z"
   },
   {
    "duration": 8,
    "start_time": "2022-05-26T18:08:35.084Z"
   },
   {
    "duration": 9,
    "start_time": "2022-05-26T18:08:35.093Z"
   },
   {
    "duration": 10,
    "start_time": "2022-05-26T18:08:35.103Z"
   },
   {
    "duration": 25,
    "start_time": "2022-05-26T18:08:35.114Z"
   },
   {
    "duration": 24,
    "start_time": "2022-05-26T18:11:26.922Z"
   },
   {
    "duration": 20,
    "start_time": "2022-05-26T18:11:38.319Z"
   },
   {
    "duration": 18,
    "start_time": "2022-05-26T18:11:51.618Z"
   },
   {
    "duration": 10,
    "start_time": "2022-05-26T18:12:04.955Z"
   },
   {
    "duration": 9,
    "start_time": "2022-05-26T18:12:28.246Z"
   },
   {
    "duration": 6,
    "start_time": "2022-05-26T18:45:20.493Z"
   },
   {
    "duration": 48,
    "start_time": "2022-05-27T05:39:46.515Z"
   },
   {
    "duration": 406,
    "start_time": "2022-05-27T05:39:57.680Z"
   },
   {
    "duration": 1564,
    "start_time": "2022-05-27T05:39:58.088Z"
   },
   {
    "duration": 16,
    "start_time": "2022-05-27T05:39:59.654Z"
   },
   {
    "duration": 33,
    "start_time": "2022-05-27T05:39:59.673Z"
   },
   {
    "duration": 8,
    "start_time": "2022-05-27T05:39:59.708Z"
   },
   {
    "duration": 20,
    "start_time": "2022-05-27T05:39:59.717Z"
   },
   {
    "duration": 6,
    "start_time": "2022-05-27T05:39:59.739Z"
   },
   {
    "duration": 17,
    "start_time": "2022-05-27T05:39:59.759Z"
   },
   {
    "duration": 6,
    "start_time": "2022-05-27T05:39:59.778Z"
   },
   {
    "duration": 12,
    "start_time": "2022-05-27T05:39:59.786Z"
   },
   {
    "duration": 12,
    "start_time": "2022-05-27T05:39:59.800Z"
   },
   {
    "duration": 12,
    "start_time": "2022-05-27T05:39:59.813Z"
   },
   {
    "duration": 48,
    "start_time": "2022-05-27T05:39:59.826Z"
   },
   {
    "duration": 8,
    "start_time": "2022-05-27T06:14:09.228Z"
   },
   {
    "duration": 17,
    "start_time": "2022-05-27T06:14:21.424Z"
   },
   {
    "duration": 58,
    "start_time": "2022-05-27T06:17:09.590Z"
   },
   {
    "duration": 11,
    "start_time": "2022-05-27T06:17:24.211Z"
   },
   {
    "duration": 4,
    "start_time": "2022-05-27T07:26:56.285Z"
   },
   {
    "duration": 8,
    "start_time": "2022-05-27T07:27:15.142Z"
   },
   {
    "duration": 437,
    "start_time": "2022-05-27T07:44:31.563Z"
   },
   {
    "duration": 390,
    "start_time": "2022-05-27T07:44:32.002Z"
   },
   {
    "duration": 14,
    "start_time": "2022-05-27T07:44:32.393Z"
   },
   {
    "duration": 23,
    "start_time": "2022-05-27T07:44:32.409Z"
   },
   {
    "duration": 7,
    "start_time": "2022-05-27T07:44:32.433Z"
   },
   {
    "duration": 25,
    "start_time": "2022-05-27T07:44:32.441Z"
   },
   {
    "duration": 6,
    "start_time": "2022-05-27T07:44:32.468Z"
   },
   {
    "duration": 20,
    "start_time": "2022-05-27T07:44:32.475Z"
   },
   {
    "duration": 6,
    "start_time": "2022-05-27T07:44:32.497Z"
   },
   {
    "duration": 10,
    "start_time": "2022-05-27T07:44:32.505Z"
   },
   {
    "duration": 12,
    "start_time": "2022-05-27T07:44:32.516Z"
   },
   {
    "duration": 31,
    "start_time": "2022-05-27T07:44:32.529Z"
   },
   {
    "duration": 64,
    "start_time": "2022-05-27T07:44:32.561Z"
   },
   {
    "duration": 6,
    "start_time": "2022-05-27T07:44:32.626Z"
   },
   {
    "duration": 8,
    "start_time": "2022-05-27T07:44:32.633Z"
   },
   {
    "duration": 735,
    "start_time": "2022-05-27T07:47:58.653Z"
   },
   {
    "duration": 13,
    "start_time": "2022-05-27T07:48:15.981Z"
   },
   {
    "duration": 13,
    "start_time": "2022-05-27T07:52:08.844Z"
   },
   {
    "duration": 19,
    "start_time": "2022-05-27T07:52:15.558Z"
   },
   {
    "duration": 11,
    "start_time": "2022-05-27T07:52:23.328Z"
   },
   {
    "duration": 6,
    "start_time": "2022-05-27T07:52:29.093Z"
   },
   {
    "duration": 61,
    "start_time": "2022-05-27T07:59:47.553Z"
   },
   {
    "duration": 19,
    "start_time": "2022-05-27T08:00:25.075Z"
   },
   {
    "duration": 25,
    "start_time": "2022-05-27T08:00:34.290Z"
   },
   {
    "duration": 4,
    "start_time": "2022-05-27T08:01:12.277Z"
   },
   {
    "duration": 8,
    "start_time": "2022-05-27T08:01:58.113Z"
   },
   {
    "duration": 5,
    "start_time": "2022-05-27T09:21:28.482Z"
   },
   {
    "duration": 4,
    "start_time": "2022-05-27T09:21:52.256Z"
   },
   {
    "duration": 11,
    "start_time": "2022-05-27T09:22:48.683Z"
   },
   {
    "duration": 10,
    "start_time": "2022-05-27T09:23:28.296Z"
   },
   {
    "duration": 12,
    "start_time": "2022-05-27T09:28:33.045Z"
   },
   {
    "duration": 257,
    "start_time": "2022-05-27T09:34:16.548Z"
   },
   {
    "duration": 5,
    "start_time": "2022-05-27T09:34:42.090Z"
   },
   {
    "duration": 4,
    "start_time": "2022-05-27T09:34:50.443Z"
   },
   {
    "duration": 14,
    "start_time": "2022-05-27T09:38:29.627Z"
   },
   {
    "duration": 11,
    "start_time": "2022-05-27T09:40:40.842Z"
   },
   {
    "duration": 15,
    "start_time": "2022-05-27T09:44:33.542Z"
   },
   {
    "duration": 54,
    "start_time": "2022-05-27T09:44:42.716Z"
   },
   {
    "duration": 13,
    "start_time": "2022-05-27T09:44:56.181Z"
   },
   {
    "duration": 9,
    "start_time": "2022-05-27T09:49:25.776Z"
   },
   {
    "duration": 14,
    "start_time": "2022-05-27T09:49:32.428Z"
   },
   {
    "duration": 12,
    "start_time": "2022-05-27T09:49:52.107Z"
   },
   {
    "duration": 8,
    "start_time": "2022-05-27T09:50:16.344Z"
   },
   {
    "duration": 6,
    "start_time": "2022-05-27T10:05:24.913Z"
   },
   {
    "duration": 9,
    "start_time": "2022-05-27T10:09:08.240Z"
   },
   {
    "duration": 5,
    "start_time": "2022-05-27T10:09:51.202Z"
   },
   {
    "duration": 8,
    "start_time": "2022-05-27T10:11:17.568Z"
   },
   {
    "duration": 8,
    "start_time": "2022-05-27T10:11:56.078Z"
   },
   {
    "duration": 6,
    "start_time": "2022-05-27T10:12:15.614Z"
   },
   {
    "duration": 6,
    "start_time": "2022-05-27T10:12:36.344Z"
   },
   {
    "duration": 55,
    "start_time": "2022-05-27T10:15:07.984Z"
   },
   {
    "duration": 8,
    "start_time": "2022-05-27T10:15:13.273Z"
   },
   {
    "duration": 26,
    "start_time": "2022-05-27T11:31:36.535Z"
   },
   {
    "duration": 36,
    "start_time": "2022-05-27T11:33:44.555Z"
   },
   {
    "duration": 59,
    "start_time": "2022-05-27T11:51:03.442Z"
   },
   {
    "duration": 40,
    "start_time": "2022-05-27T12:01:11.588Z"
   },
   {
    "duration": 26,
    "start_time": "2022-05-27T12:04:05.341Z"
   },
   {
    "duration": 79,
    "start_time": "2022-05-27T12:05:02.184Z"
   },
   {
    "duration": 32,
    "start_time": "2022-05-27T12:05:11.633Z"
   },
   {
    "duration": 11,
    "start_time": "2022-05-27T12:07:33.060Z"
   },
   {
    "duration": 12,
    "start_time": "2022-05-27T12:09:17.022Z"
   },
   {
    "duration": 416,
    "start_time": "2022-05-27T12:12:42.561Z"
   },
   {
    "duration": 762,
    "start_time": "2022-05-27T12:12:42.979Z"
   },
   {
    "duration": 16,
    "start_time": "2022-05-27T12:12:43.743Z"
   },
   {
    "duration": 53,
    "start_time": "2022-05-27T12:12:43.761Z"
   },
   {
    "duration": 9,
    "start_time": "2022-05-27T12:12:43.816Z"
   },
   {
    "duration": 48,
    "start_time": "2022-05-27T12:12:43.827Z"
   },
   {
    "duration": 10,
    "start_time": "2022-05-27T12:12:43.877Z"
   },
   {
    "duration": 44,
    "start_time": "2022-05-27T12:12:43.888Z"
   },
   {
    "duration": 15,
    "start_time": "2022-05-27T12:12:43.934Z"
   },
   {
    "duration": 19,
    "start_time": "2022-05-27T12:12:43.951Z"
   },
   {
    "duration": 39,
    "start_time": "2022-05-27T12:12:43.972Z"
   },
   {
    "duration": 38,
    "start_time": "2022-05-27T12:12:44.012Z"
   },
   {
    "duration": 81,
    "start_time": "2022-05-27T12:12:44.052Z"
   },
   {
    "duration": 11,
    "start_time": "2022-05-27T12:12:44.135Z"
   },
   {
    "duration": 18,
    "start_time": "2022-05-27T12:12:44.147Z"
   },
   {
    "duration": 23,
    "start_time": "2022-05-27T12:12:44.166Z"
   },
   {
    "duration": 12,
    "start_time": "2022-05-27T12:12:44.190Z"
   },
   {
    "duration": 21,
    "start_time": "2022-05-27T12:12:44.204Z"
   },
   {
    "duration": 16,
    "start_time": "2022-05-27T12:12:44.227Z"
   },
   {
    "duration": 36,
    "start_time": "2022-05-27T12:12:44.244Z"
   },
   {
    "duration": 24,
    "start_time": "2022-05-27T12:12:44.281Z"
   },
   {
    "duration": 13,
    "start_time": "2022-05-27T12:12:44.307Z"
   },
   {
    "duration": 27,
    "start_time": "2022-05-27T12:12:44.322Z"
   },
   {
    "duration": 43,
    "start_time": "2022-05-27T12:12:44.350Z"
   },
   {
    "duration": 38,
    "start_time": "2022-05-27T12:12:44.394Z"
   },
   {
    "duration": 38,
    "start_time": "2022-05-27T12:12:44.434Z"
   },
   {
    "duration": 2,
    "start_time": "2022-05-27T12:12:44.473Z"
   },
   {
    "duration": 16,
    "start_time": "2022-05-27T12:13:51.182Z"
   },
   {
    "duration": 20,
    "start_time": "2022-05-27T12:14:19.573Z"
   },
   {
    "duration": 19,
    "start_time": "2022-05-27T12:15:03.836Z"
   },
   {
    "duration": 69,
    "start_time": "2022-05-27T12:42:20.026Z"
   },
   {
    "duration": 9,
    "start_time": "2022-05-27T12:44:08.413Z"
   },
   {
    "duration": 9,
    "start_time": "2022-05-27T12:45:00.936Z"
   },
   {
    "duration": 33,
    "start_time": "2022-05-27T12:46:48.457Z"
   },
   {
    "duration": 175,
    "start_time": "2022-05-27T12:48:22.105Z"
   },
   {
    "duration": 28,
    "start_time": "2022-05-27T12:48:36.514Z"
   },
   {
    "duration": 12,
    "start_time": "2022-05-27T12:52:30.249Z"
   },
   {
    "duration": 11,
    "start_time": "2022-05-27T12:56:28.479Z"
   },
   {
    "duration": 438,
    "start_time": "2022-05-28T12:59:44.994Z"
   },
   {
    "duration": 1135,
    "start_time": "2022-05-28T12:59:45.435Z"
   },
   {
    "duration": 22,
    "start_time": "2022-05-28T12:59:46.572Z"
   },
   {
    "duration": 37,
    "start_time": "2022-05-28T12:59:46.597Z"
   },
   {
    "duration": 9,
    "start_time": "2022-05-28T12:59:46.636Z"
   },
   {
    "duration": 23,
    "start_time": "2022-05-28T12:59:46.647Z"
   },
   {
    "duration": 8,
    "start_time": "2022-05-28T12:59:46.672Z"
   },
   {
    "duration": 18,
    "start_time": "2022-05-28T12:59:46.682Z"
   },
   {
    "duration": 8,
    "start_time": "2022-05-28T12:59:46.702Z"
   },
   {
    "duration": 13,
    "start_time": "2022-05-28T12:59:46.741Z"
   },
   {
    "duration": 12,
    "start_time": "2022-05-28T12:59:46.756Z"
   },
   {
    "duration": 16,
    "start_time": "2022-05-28T12:59:46.770Z"
   },
   {
    "duration": 160,
    "start_time": "2022-05-28T12:59:46.788Z"
   },
   {
    "duration": 15,
    "start_time": "2022-05-28T12:59:46.951Z"
   },
   {
    "duration": 23,
    "start_time": "2022-05-28T12:59:46.968Z"
   },
   {
    "duration": 14,
    "start_time": "2022-05-28T12:59:46.994Z"
   },
   {
    "duration": 11,
    "start_time": "2022-05-28T12:59:47.011Z"
   },
   {
    "duration": 23,
    "start_time": "2022-05-28T12:59:47.024Z"
   },
   {
    "duration": 35,
    "start_time": "2022-05-28T12:59:47.050Z"
   },
   {
    "duration": 33,
    "start_time": "2022-05-28T12:59:47.088Z"
   },
   {
    "duration": 20,
    "start_time": "2022-05-28T12:59:47.123Z"
   },
   {
    "duration": 20,
    "start_time": "2022-05-28T12:59:47.144Z"
   },
   {
    "duration": 19,
    "start_time": "2022-05-28T12:59:47.165Z"
   },
   {
    "duration": 71,
    "start_time": "2022-05-28T12:59:47.186Z"
   },
   {
    "duration": 42,
    "start_time": "2022-05-28T12:59:47.258Z"
   },
   {
    "duration": 43,
    "start_time": "2022-05-28T12:59:47.302Z"
   },
   {
    "duration": 24,
    "start_time": "2022-05-28T12:59:47.347Z"
   },
   {
    "duration": 3,
    "start_time": "2022-05-28T12:59:47.375Z"
   },
   {
    "duration": 33,
    "start_time": "2022-05-28T13:01:28.310Z"
   },
   {
    "duration": 27,
    "start_time": "2022-05-28T13:02:47.817Z"
   },
   {
    "duration": 22,
    "start_time": "2022-05-28T13:03:26.593Z"
   },
   {
    "duration": 20,
    "start_time": "2022-05-28T13:03:41.382Z"
   },
   {
    "duration": 73,
    "start_time": "2022-05-28T13:04:54.458Z"
   },
   {
    "duration": 10,
    "start_time": "2022-05-28T13:05:14.037Z"
   },
   {
    "duration": 10,
    "start_time": "2022-05-28T13:05:20.949Z"
   },
   {
    "duration": 8,
    "start_time": "2022-05-28T13:52:08.678Z"
   },
   {
    "duration": 7,
    "start_time": "2022-05-28T13:52:20.349Z"
   },
   {
    "duration": 7,
    "start_time": "2022-05-28T13:52:30.282Z"
   },
   {
    "duration": 440,
    "start_time": "2022-05-28T13:54:43.560Z"
   },
   {
    "duration": 511,
    "start_time": "2022-05-28T13:54:44.002Z"
   },
   {
    "duration": 20,
    "start_time": "2022-05-28T13:54:44.515Z"
   },
   {
    "duration": 35,
    "start_time": "2022-05-28T13:54:44.538Z"
   },
   {
    "duration": 22,
    "start_time": "2022-05-28T13:54:44.575Z"
   },
   {
    "duration": 52,
    "start_time": "2022-05-28T13:54:44.599Z"
   },
   {
    "duration": 8,
    "start_time": "2022-05-28T13:54:44.653Z"
   },
   {
    "duration": 24,
    "start_time": "2022-05-28T13:54:44.663Z"
   },
   {
    "duration": 12,
    "start_time": "2022-05-28T13:54:44.689Z"
   },
   {
    "duration": 20,
    "start_time": "2022-05-28T13:54:44.704Z"
   },
   {
    "duration": 30,
    "start_time": "2022-05-28T13:54:44.726Z"
   },
   {
    "duration": 17,
    "start_time": "2022-05-28T13:54:44.757Z"
   },
   {
    "duration": 136,
    "start_time": "2022-05-28T13:54:44.776Z"
   },
   {
    "duration": 18,
    "start_time": "2022-05-28T13:54:44.914Z"
   },
   {
    "duration": 22,
    "start_time": "2022-05-28T13:54:44.934Z"
   },
   {
    "duration": 7,
    "start_time": "2022-05-28T13:54:44.957Z"
   },
   {
    "duration": 6,
    "start_time": "2022-05-28T13:54:44.965Z"
   },
   {
    "duration": 16,
    "start_time": "2022-05-28T13:54:44.972Z"
   },
   {
    "duration": 9,
    "start_time": "2022-05-28T13:54:44.990Z"
   },
   {
    "duration": 48,
    "start_time": "2022-05-28T13:54:45.001Z"
   },
   {
    "duration": 14,
    "start_time": "2022-05-28T13:54:45.051Z"
   },
   {
    "duration": 15,
    "start_time": "2022-05-28T13:54:45.067Z"
   },
   {
    "duration": 22,
    "start_time": "2022-05-28T13:54:45.084Z"
   },
   {
    "duration": 50,
    "start_time": "2022-05-28T13:54:45.140Z"
   },
   {
    "duration": 61,
    "start_time": "2022-05-28T13:54:45.192Z"
   },
   {
    "duration": 32,
    "start_time": "2022-05-28T13:54:45.255Z"
   },
   {
    "duration": 26,
    "start_time": "2022-05-28T13:54:45.289Z"
   },
   {
    "duration": 9,
    "start_time": "2022-05-28T13:54:45.340Z"
   },
   {
    "duration": 10,
    "start_time": "2022-05-28T13:54:45.351Z"
   },
   {
    "duration": 12,
    "start_time": "2022-05-28T13:54:45.363Z"
   },
   {
    "duration": 79,
    "start_time": "2022-05-28T13:57:50.331Z"
   },
   {
    "duration": 8,
    "start_time": "2022-05-28T13:58:46.247Z"
   },
   {
    "duration": 12,
    "start_time": "2022-05-28T13:58:50.858Z"
   },
   {
    "duration": 13,
    "start_time": "2022-05-28T13:59:05.614Z"
   },
   {
    "duration": 11,
    "start_time": "2022-05-28T13:59:49.394Z"
   },
   {
    "duration": 10,
    "start_time": "2022-05-28T14:20:07.211Z"
   },
   {
    "duration": 11,
    "start_time": "2022-05-28T14:23:09.126Z"
   },
   {
    "duration": 14,
    "start_time": "2022-05-28T14:27:14.202Z"
   },
   {
    "duration": 14,
    "start_time": "2022-05-28T14:28:49.926Z"
   },
   {
    "duration": 13,
    "start_time": "2022-05-28T14:29:27.150Z"
   },
   {
    "duration": 14,
    "start_time": "2022-05-28T14:30:35.046Z"
   },
   {
    "duration": 13,
    "start_time": "2022-05-28T14:30:55.670Z"
   },
   {
    "duration": 18,
    "start_time": "2022-05-28T14:31:04.502Z"
   },
   {
    "duration": 20,
    "start_time": "2022-05-28T14:35:10.879Z"
   },
   {
    "duration": 17,
    "start_time": "2022-05-28T14:36:55.354Z"
   },
   {
    "duration": 10,
    "start_time": "2022-05-28T14:37:12.499Z"
   },
   {
    "duration": 452,
    "start_time": "2022-05-28T14:44:29.647Z"
   },
   {
    "duration": 424,
    "start_time": "2022-05-28T14:44:30.101Z"
   },
   {
    "duration": 17,
    "start_time": "2022-05-28T14:44:30.527Z"
   },
   {
    "duration": 30,
    "start_time": "2022-05-28T14:44:30.546Z"
   },
   {
    "duration": 10,
    "start_time": "2022-05-28T14:44:30.578Z"
   },
   {
    "duration": 32,
    "start_time": "2022-05-28T14:44:30.589Z"
   },
   {
    "duration": 7,
    "start_time": "2022-05-28T14:44:30.623Z"
   },
   {
    "duration": 23,
    "start_time": "2022-05-28T14:44:30.641Z"
   },
   {
    "duration": 11,
    "start_time": "2022-05-28T14:44:30.666Z"
   },
   {
    "duration": 21,
    "start_time": "2022-05-28T14:44:30.680Z"
   },
   {
    "duration": 20,
    "start_time": "2022-05-28T14:44:30.703Z"
   },
   {
    "duration": 24,
    "start_time": "2022-05-28T14:44:30.724Z"
   },
   {
    "duration": 71,
    "start_time": "2022-05-28T14:44:30.749Z"
   },
   {
    "duration": 22,
    "start_time": "2022-05-28T14:44:30.821Z"
   },
   {
    "duration": 13,
    "start_time": "2022-05-28T14:44:30.845Z"
   },
   {
    "duration": 6,
    "start_time": "2022-05-28T14:44:30.860Z"
   },
   {
    "duration": 10,
    "start_time": "2022-05-28T14:44:30.867Z"
   },
   {
    "duration": 19,
    "start_time": "2022-05-28T14:44:30.879Z"
   },
   {
    "duration": 17,
    "start_time": "2022-05-28T14:44:30.900Z"
   },
   {
    "duration": 27,
    "start_time": "2022-05-28T14:44:30.918Z"
   },
   {
    "duration": 12,
    "start_time": "2022-05-28T14:44:30.946Z"
   },
   {
    "duration": 13,
    "start_time": "2022-05-28T14:44:30.960Z"
   },
   {
    "duration": 20,
    "start_time": "2022-05-28T14:44:30.975Z"
   },
   {
    "duration": 76,
    "start_time": "2022-05-28T14:44:30.996Z"
   },
   {
    "duration": 43,
    "start_time": "2022-05-28T14:44:31.074Z"
   },
   {
    "duration": 50,
    "start_time": "2022-05-28T14:44:31.119Z"
   },
   {
    "duration": 21,
    "start_time": "2022-05-28T14:44:31.171Z"
   },
   {
    "duration": 19,
    "start_time": "2022-05-28T14:44:31.195Z"
   },
   {
    "duration": 711,
    "start_time": "2022-05-28T14:52:13.765Z"
   },
   {
    "duration": 404,
    "start_time": "2022-05-28T14:53:56.464Z"
   },
   {
    "duration": 12,
    "start_time": "2022-05-28T14:55:39.504Z"
   },
   {
    "duration": 6,
    "start_time": "2022-05-28T14:57:10.812Z"
   },
   {
    "duration": 7,
    "start_time": "2022-05-28T14:57:39.954Z"
   },
   {
    "duration": 539,
    "start_time": "2022-05-28T14:57:54.142Z"
   },
   {
    "duration": 485,
    "start_time": "2022-05-28T15:53:18.384Z"
   },
   {
    "duration": 16,
    "start_time": "2022-05-28T15:56:19.101Z"
   },
   {
    "duration": 439,
    "start_time": "2022-05-28T16:33:09.253Z"
   },
   {
    "duration": 450,
    "start_time": "2022-05-28T16:33:09.694Z"
   },
   {
    "duration": 15,
    "start_time": "2022-05-28T16:33:10.145Z"
   },
   {
    "duration": 26,
    "start_time": "2022-05-28T16:33:10.162Z"
   },
   {
    "duration": 8,
    "start_time": "2022-05-28T16:33:10.190Z"
   },
   {
    "duration": 46,
    "start_time": "2022-05-28T16:33:10.200Z"
   },
   {
    "duration": 7,
    "start_time": "2022-05-28T16:33:10.247Z"
   },
   {
    "duration": 21,
    "start_time": "2022-05-28T16:33:10.256Z"
   },
   {
    "duration": 8,
    "start_time": "2022-05-28T16:33:10.278Z"
   },
   {
    "duration": 14,
    "start_time": "2022-05-28T16:33:10.289Z"
   },
   {
    "duration": 14,
    "start_time": "2022-05-28T16:33:10.304Z"
   },
   {
    "duration": 33,
    "start_time": "2022-05-28T16:33:10.320Z"
   },
   {
    "duration": 71,
    "start_time": "2022-05-28T16:33:10.354Z"
   },
   {
    "duration": 21,
    "start_time": "2022-05-28T16:33:10.427Z"
   },
   {
    "duration": 10,
    "start_time": "2022-05-28T16:33:10.450Z"
   },
   {
    "duration": 6,
    "start_time": "2022-05-28T16:33:10.462Z"
   },
   {
    "duration": 5,
    "start_time": "2022-05-28T16:33:10.469Z"
   },
   {
    "duration": 11,
    "start_time": "2022-05-28T16:33:10.476Z"
   },
   {
    "duration": 7,
    "start_time": "2022-05-28T16:33:10.488Z"
   },
   {
    "duration": 53,
    "start_time": "2022-05-28T16:33:10.497Z"
   },
   {
    "duration": 13,
    "start_time": "2022-05-28T16:33:10.551Z"
   },
   {
    "duration": 14,
    "start_time": "2022-05-28T16:33:10.565Z"
   },
   {
    "duration": 19,
    "start_time": "2022-05-28T16:33:10.581Z"
   },
   {
    "duration": 75,
    "start_time": "2022-05-28T16:33:10.602Z"
   },
   {
    "duration": 42,
    "start_time": "2022-05-28T16:33:10.678Z"
   },
   {
    "duration": 44,
    "start_time": "2022-05-28T16:33:10.722Z"
   },
   {
    "duration": 24,
    "start_time": "2022-05-28T16:33:10.768Z"
   },
   {
    "duration": 13,
    "start_time": "2022-05-28T16:33:10.795Z"
   },
   {
    "duration": 43,
    "start_time": "2022-05-28T16:33:10.809Z"
   },
   {
    "duration": 13,
    "start_time": "2022-05-28T16:33:42.797Z"
   },
   {
    "duration": 13,
    "start_time": "2022-05-28T16:36:21.716Z"
   },
   {
    "duration": 20,
    "start_time": "2022-05-28T16:40:12.570Z"
   },
   {
    "duration": 25,
    "start_time": "2022-05-28T16:40:46.318Z"
   },
   {
    "duration": 12,
    "start_time": "2022-05-28T16:40:50.322Z"
   },
   {
    "duration": 14,
    "start_time": "2022-05-28T16:41:06.093Z"
   },
   {
    "duration": 3,
    "start_time": "2022-05-28T17:23:51.420Z"
   },
   {
    "duration": 4,
    "start_time": "2022-05-28T17:24:03.362Z"
   },
   {
    "duration": 4,
    "start_time": "2022-05-28T17:24:09.028Z"
   },
   {
    "duration": 4,
    "start_time": "2022-05-28T17:25:00.980Z"
   },
   {
    "duration": 4,
    "start_time": "2022-05-28T17:25:09.284Z"
   },
   {
    "duration": 4,
    "start_time": "2022-05-28T17:25:21.804Z"
   },
   {
    "duration": 36,
    "start_time": "2022-05-28T17:31:37.757Z"
   },
   {
    "duration": 29,
    "start_time": "2022-05-28T17:31:53.684Z"
   },
   {
    "duration": 61,
    "start_time": "2022-05-28T17:32:14.477Z"
   },
   {
    "duration": 405,
    "start_time": "2022-05-28T17:35:49.069Z"
   },
   {
    "duration": 423,
    "start_time": "2022-05-28T17:35:49.476Z"
   },
   {
    "duration": 22,
    "start_time": "2022-05-28T17:35:49.901Z"
   },
   {
    "duration": 33,
    "start_time": "2022-05-28T17:35:49.927Z"
   },
   {
    "duration": 8,
    "start_time": "2022-05-28T17:35:49.961Z"
   },
   {
    "duration": 23,
    "start_time": "2022-05-28T17:35:49.971Z"
   },
   {
    "duration": 8,
    "start_time": "2022-05-28T17:35:49.995Z"
   },
   {
    "duration": 40,
    "start_time": "2022-05-28T17:35:50.005Z"
   },
   {
    "duration": 9,
    "start_time": "2022-05-28T17:35:50.047Z"
   },
   {
    "duration": 12,
    "start_time": "2022-05-28T17:35:50.059Z"
   },
   {
    "duration": 11,
    "start_time": "2022-05-28T17:35:50.073Z"
   },
   {
    "duration": 12,
    "start_time": "2022-05-28T17:35:50.085Z"
   },
   {
    "duration": 101,
    "start_time": "2022-05-28T17:35:50.099Z"
   },
   {
    "duration": 14,
    "start_time": "2022-05-28T17:35:50.202Z"
   },
   {
    "duration": 35,
    "start_time": "2022-05-28T17:35:50.218Z"
   },
   {
    "duration": 5,
    "start_time": "2022-05-28T17:35:50.255Z"
   },
   {
    "duration": 9,
    "start_time": "2022-05-28T17:35:50.261Z"
   },
   {
    "duration": 9,
    "start_time": "2022-05-28T17:35:50.271Z"
   },
   {
    "duration": 5,
    "start_time": "2022-05-28T17:35:50.281Z"
   },
   {
    "duration": 16,
    "start_time": "2022-05-28T17:35:50.288Z"
   },
   {
    "duration": 37,
    "start_time": "2022-05-28T17:35:50.305Z"
   },
   {
    "duration": 14,
    "start_time": "2022-05-28T17:35:50.344Z"
   },
   {
    "duration": 19,
    "start_time": "2022-05-28T17:35:50.360Z"
   },
   {
    "duration": 73,
    "start_time": "2022-05-28T17:35:50.381Z"
   },
   {
    "duration": 43,
    "start_time": "2022-05-28T17:35:50.456Z"
   },
   {
    "duration": 44,
    "start_time": "2022-05-28T17:35:50.501Z"
   },
   {
    "duration": 24,
    "start_time": "2022-05-28T17:35:50.547Z"
   },
   {
    "duration": 2,
    "start_time": "2022-05-28T17:35:50.574Z"
   },
   {
    "duration": 31,
    "start_time": "2022-05-28T17:35:50.578Z"
   },
   {
    "duration": 127,
    "start_time": "2022-05-28T17:35:50.611Z"
   },
   {
    "duration": 91,
    "start_time": "2022-05-28T17:36:56.928Z"
   },
   {
    "duration": 16,
    "start_time": "2022-05-28T17:38:04.920Z"
   },
   {
    "duration": 8,
    "start_time": "2022-05-28T17:40:31.324Z"
   },
   {
    "duration": 6,
    "start_time": "2022-05-28T17:40:44.832Z"
   },
   {
    "duration": 8,
    "start_time": "2022-05-28T17:40:50.101Z"
   },
   {
    "duration": 391,
    "start_time": "2022-05-29T13:42:58.669Z"
   },
   {
    "duration": 993,
    "start_time": "2022-05-29T13:42:59.062Z"
   },
   {
    "duration": 18,
    "start_time": "2022-05-29T13:43:00.057Z"
   },
   {
    "duration": 26,
    "start_time": "2022-05-29T13:43:00.078Z"
   },
   {
    "duration": 9,
    "start_time": "2022-05-29T13:43:00.107Z"
   },
   {
    "duration": 29,
    "start_time": "2022-05-29T13:43:00.118Z"
   },
   {
    "duration": 6,
    "start_time": "2022-05-29T13:43:00.149Z"
   },
   {
    "duration": 21,
    "start_time": "2022-05-29T13:43:00.157Z"
   },
   {
    "duration": 12,
    "start_time": "2022-05-29T13:43:00.180Z"
   },
   {
    "duration": 41,
    "start_time": "2022-05-29T13:43:00.197Z"
   },
   {
    "duration": 32,
    "start_time": "2022-05-29T13:43:00.240Z"
   },
   {
    "duration": 24,
    "start_time": "2022-05-29T13:43:00.274Z"
   },
   {
    "duration": 123,
    "start_time": "2022-05-29T13:43:00.301Z"
   },
   {
    "duration": 11,
    "start_time": "2022-05-29T13:43:00.426Z"
   },
   {
    "duration": 11,
    "start_time": "2022-05-29T13:43:00.439Z"
   },
   {
    "duration": 23,
    "start_time": "2022-05-29T13:43:00.451Z"
   },
   {
    "duration": 23,
    "start_time": "2022-05-29T13:43:00.476Z"
   },
   {
    "duration": 24,
    "start_time": "2022-05-29T13:43:00.500Z"
   },
   {
    "duration": 23,
    "start_time": "2022-05-29T13:43:00.526Z"
   },
   {
    "duration": 21,
    "start_time": "2022-05-29T13:43:00.551Z"
   },
   {
    "duration": 17,
    "start_time": "2022-05-29T13:43:00.574Z"
   },
   {
    "duration": 31,
    "start_time": "2022-05-29T13:43:00.593Z"
   },
   {
    "duration": 20,
    "start_time": "2022-05-29T13:43:00.626Z"
   },
   {
    "duration": 51,
    "start_time": "2022-05-29T13:43:00.648Z"
   },
   {
    "duration": 64,
    "start_time": "2022-05-29T13:43:00.701Z"
   },
   {
    "duration": 32,
    "start_time": "2022-05-29T13:43:00.766Z"
   },
   {
    "duration": 37,
    "start_time": "2022-05-29T13:43:00.799Z"
   },
   {
    "duration": 2,
    "start_time": "2022-05-29T13:43:00.840Z"
   },
   {
    "duration": 67,
    "start_time": "2022-05-29T13:43:00.844Z"
   },
   {
    "duration": 75,
    "start_time": "2022-05-29T13:43:00.913Z"
   },
   {
    "duration": 21,
    "start_time": "2022-05-29T13:43:00.990Z"
   },
   {
    "duration": 71,
    "start_time": "2022-05-29T13:49:34.377Z"
   },
   {
    "duration": 21,
    "start_time": "2022-05-29T13:49:40.770Z"
   },
   {
    "duration": 75,
    "start_time": "2022-05-29T13:52:35.614Z"
   },
   {
    "duration": 19,
    "start_time": "2022-05-29T13:52:42.771Z"
   },
   {
    "duration": 73,
    "start_time": "2022-05-29T13:55:04.894Z"
   },
   {
    "duration": 21,
    "start_time": "2022-05-29T13:55:08.283Z"
   },
   {
    "duration": 73,
    "start_time": "2022-05-29T13:57:37.071Z"
   },
   {
    "duration": 22,
    "start_time": "2022-05-29T13:57:40.839Z"
   },
   {
    "duration": 76,
    "start_time": "2022-05-29T14:00:32.669Z"
   },
   {
    "duration": 39,
    "start_time": "2022-05-29T14:00:51.594Z"
   },
   {
    "duration": 8,
    "start_time": "2022-05-29T14:01:15.584Z"
   },
   {
    "duration": 21,
    "start_time": "2022-05-29T14:02:23.514Z"
   },
   {
    "duration": 20,
    "start_time": "2022-05-29T15:11:37.542Z"
   },
   {
    "duration": 11,
    "start_time": "2022-05-29T15:11:50.901Z"
   },
   {
    "duration": 70,
    "start_time": "2022-05-29T15:16:07.958Z"
   },
   {
    "duration": 5,
    "start_time": "2022-05-29T15:18:07.625Z"
   },
   {
    "duration": 13,
    "start_time": "2022-05-29T15:21:57.937Z"
   },
   {
    "duration": 12,
    "start_time": "2022-05-29T15:22:09.823Z"
   },
   {
    "duration": 12,
    "start_time": "2022-05-29T15:24:31.399Z"
   },
   {
    "duration": 12,
    "start_time": "2022-05-29T15:25:11.095Z"
   },
   {
    "duration": 11,
    "start_time": "2022-05-29T15:25:24.011Z"
   },
   {
    "duration": 12,
    "start_time": "2022-05-29T15:25:33.387Z"
   },
   {
    "duration": 13,
    "start_time": "2022-05-29T15:26:04.199Z"
   },
   {
    "duration": 8,
    "start_time": "2022-05-29T15:26:49.641Z"
   },
   {
    "duration": 14,
    "start_time": "2022-05-29T15:27:22.023Z"
   },
   {
    "duration": 10,
    "start_time": "2022-05-29T15:28:25.066Z"
   },
   {
    "duration": 18,
    "start_time": "2022-05-29T15:29:52.488Z"
   },
   {
    "duration": 28,
    "start_time": "2022-05-29T15:29:59.956Z"
   },
   {
    "duration": 912,
    "start_time": "2022-05-29T15:33:07.117Z"
   },
   {
    "duration": 417,
    "start_time": "2022-05-29T15:33:27.809Z"
   },
   {
    "duration": 353,
    "start_time": "2022-05-29T15:33:48.664Z"
   },
   {
    "duration": 464,
    "start_time": "2022-05-29T15:34:25.142Z"
   },
   {
    "duration": 450,
    "start_time": "2022-05-29T15:34:36.474Z"
   },
   {
    "duration": 459,
    "start_time": "2022-05-29T15:35:25.245Z"
   },
   {
    "duration": 221,
    "start_time": "2022-05-29T15:43:47.958Z"
   },
   {
    "duration": 341,
    "start_time": "2022-05-29T15:49:26.023Z"
   },
   {
    "duration": 332,
    "start_time": "2022-05-29T15:49:36.258Z"
   },
   {
    "duration": 346,
    "start_time": "2022-05-29T15:50:21.986Z"
   },
   {
    "duration": 237,
    "start_time": "2022-05-29T15:50:24.762Z"
   },
   {
    "duration": 13,
    "start_time": "2022-05-29T16:05:14.346Z"
   },
   {
    "duration": 14,
    "start_time": "2022-05-29T16:05:37.783Z"
   },
   {
    "duration": 252,
    "start_time": "2022-05-29T16:05:50.688Z"
   },
   {
    "duration": 287,
    "start_time": "2022-05-29T16:06:03.688Z"
   },
   {
    "duration": 17,
    "start_time": "2022-05-29T16:07:18.700Z"
   },
   {
    "duration": 13,
    "start_time": "2022-05-29T16:07:39.864Z"
   },
   {
    "duration": 239,
    "start_time": "2022-05-29T16:08:09.436Z"
   },
   {
    "duration": 249,
    "start_time": "2022-05-29T16:08:22.728Z"
   },
   {
    "duration": 33,
    "start_time": "2022-05-29T17:13:59.750Z"
   },
   {
    "duration": 18,
    "start_time": "2022-05-29T17:14:17.374Z"
   },
   {
    "duration": 12,
    "start_time": "2022-05-29T17:14:23.078Z"
   },
   {
    "duration": 10,
    "start_time": "2022-05-29T17:14:57.122Z"
   },
   {
    "duration": 18,
    "start_time": "2022-05-29T17:15:11.298Z"
   },
   {
    "duration": 10,
    "start_time": "2022-05-29T17:17:20.090Z"
   },
   {
    "duration": 12,
    "start_time": "2022-05-29T17:18:36.359Z"
   },
   {
    "duration": 494,
    "start_time": "2022-05-29T17:26:50.865Z"
   },
   {
    "duration": 330,
    "start_time": "2022-05-29T17:26:57.077Z"
   },
   {
    "duration": 223,
    "start_time": "2022-05-29T17:28:49.160Z"
   },
   {
    "duration": 241,
    "start_time": "2022-05-29T17:28:52.590Z"
   },
   {
    "duration": 172,
    "start_time": "2022-05-29T17:29:03.697Z"
   },
   {
    "duration": 141,
    "start_time": "2022-05-29T17:29:13.155Z"
   },
   {
    "duration": 246,
    "start_time": "2022-05-29T17:29:35.026Z"
   },
   {
    "duration": 786,
    "start_time": "2022-05-29T18:54:16.885Z"
   },
   {
    "duration": 425,
    "start_time": "2022-05-29T18:54:17.673Z"
   },
   {
    "duration": 14,
    "start_time": "2022-05-29T18:54:18.100Z"
   },
   {
    "duration": 36,
    "start_time": "2022-05-29T18:54:18.116Z"
   },
   {
    "duration": 8,
    "start_time": "2022-05-29T18:54:18.153Z"
   },
   {
    "duration": 23,
    "start_time": "2022-05-29T18:54:18.163Z"
   },
   {
    "duration": 7,
    "start_time": "2022-05-29T18:54:18.187Z"
   },
   {
    "duration": 41,
    "start_time": "2022-05-29T18:54:18.195Z"
   },
   {
    "duration": 11,
    "start_time": "2022-05-29T18:54:18.239Z"
   },
   {
    "duration": 9,
    "start_time": "2022-05-29T18:54:18.254Z"
   },
   {
    "duration": 10,
    "start_time": "2022-05-29T18:54:18.265Z"
   },
   {
    "duration": 12,
    "start_time": "2022-05-29T18:54:18.276Z"
   },
   {
    "duration": 86,
    "start_time": "2022-05-29T18:54:18.289Z"
   },
   {
    "duration": 12,
    "start_time": "2022-05-29T18:54:18.376Z"
   },
   {
    "duration": 10,
    "start_time": "2022-05-29T18:54:18.389Z"
   },
   {
    "duration": 5,
    "start_time": "2022-05-29T18:54:18.400Z"
   },
   {
    "duration": 21,
    "start_time": "2022-05-29T18:54:18.407Z"
   },
   {
    "duration": 9,
    "start_time": "2022-05-29T18:54:18.432Z"
   },
   {
    "duration": 12,
    "start_time": "2022-05-29T18:54:18.443Z"
   },
   {
    "duration": 17,
    "start_time": "2022-05-29T18:54:18.456Z"
   },
   {
    "duration": 11,
    "start_time": "2022-05-29T18:54:18.474Z"
   },
   {
    "duration": 13,
    "start_time": "2022-05-29T18:54:18.487Z"
   },
   {
    "duration": 44,
    "start_time": "2022-05-29T18:54:18.501Z"
   },
   {
    "duration": 44,
    "start_time": "2022-05-29T18:54:18.547Z"
   },
   {
    "duration": 62,
    "start_time": "2022-05-29T18:54:18.593Z"
   },
   {
    "duration": 29,
    "start_time": "2022-05-29T18:54:18.657Z"
   },
   {
    "duration": 23,
    "start_time": "2022-05-29T18:54:18.687Z"
   },
   {
    "duration": 3,
    "start_time": "2022-05-29T18:54:18.728Z"
   },
   {
    "duration": 39,
    "start_time": "2022-05-29T18:54:18.734Z"
   },
   {
    "duration": 81,
    "start_time": "2022-05-29T18:54:18.775Z"
   },
   {
    "duration": 19,
    "start_time": "2022-05-29T18:54:18.858Z"
   },
   {
    "duration": 13,
    "start_time": "2022-05-29T18:54:18.878Z"
   },
   {
    "duration": 50,
    "start_time": "2022-05-29T18:54:18.893Z"
   },
   {
    "duration": 501,
    "start_time": "2022-05-29T18:54:18.945Z"
   },
   {
    "duration": 322,
    "start_time": "2022-05-29T18:54:19.449Z"
   },
   {
    "duration": 11,
    "start_time": "2022-05-29T18:54:19.772Z"
   },
   {
    "duration": 10,
    "start_time": "2022-05-29T18:54:19.785Z"
   },
   {
    "duration": 265,
    "start_time": "2022-05-29T18:54:19.796Z"
   },
   {
    "duration": 252,
    "start_time": "2022-05-29T18:54:20.062Z"
   },
   {
    "duration": 29,
    "start_time": "2022-05-29T18:54:20.316Z"
   },
   {
    "duration": 12,
    "start_time": "2022-05-29T18:54:20.346Z"
   },
   {
    "duration": 241,
    "start_time": "2022-05-29T18:54:20.359Z"
   },
   {
    "duration": 264,
    "start_time": "2022-05-29T18:54:20.602Z"
   },
   {
    "duration": 8,
    "start_time": "2022-05-29T18:54:20.868Z"
   },
   {
    "duration": 581,
    "start_time": "2022-05-29T19:13:09.757Z"
   },
   {
    "duration": 488,
    "start_time": "2022-05-29T19:13:35.001Z"
   },
   {
    "duration": 8,
    "start_time": "2022-05-29T19:14:43.781Z"
   },
   {
    "duration": 25,
    "start_time": "2022-05-29T19:16:01.525Z"
   },
   {
    "duration": 11,
    "start_time": "2022-05-29T19:32:51.643Z"
   },
   {
    "duration": 5,
    "start_time": "2022-05-29T19:33:18.282Z"
   },
   {
    "duration": 3,
    "start_time": "2022-05-29T19:33:26.288Z"
   },
   {
    "duration": 6,
    "start_time": "2022-05-29T19:33:29.474Z"
   },
   {
    "duration": 29,
    "start_time": "2022-05-29T19:37:59.171Z"
   },
   {
    "duration": 16,
    "start_time": "2022-05-29T19:38:30.143Z"
   },
   {
    "duration": 8,
    "start_time": "2022-05-29T19:38:51.840Z"
   },
   {
    "duration": 7,
    "start_time": "2022-05-29T19:38:58.146Z"
   },
   {
    "duration": 797,
    "start_time": "2022-05-30T00:32:19.985Z"
   },
   {
    "duration": 428,
    "start_time": "2022-05-30T00:32:20.784Z"
   },
   {
    "duration": 16,
    "start_time": "2022-05-30T00:32:21.214Z"
   },
   {
    "duration": 24,
    "start_time": "2022-05-30T00:32:21.232Z"
   },
   {
    "duration": 8,
    "start_time": "2022-05-30T00:32:21.258Z"
   },
   {
    "duration": 21,
    "start_time": "2022-05-30T00:32:21.267Z"
   },
   {
    "duration": 14,
    "start_time": "2022-05-30T00:32:21.290Z"
   },
   {
    "duration": 19,
    "start_time": "2022-05-30T00:32:21.306Z"
   },
   {
    "duration": 8,
    "start_time": "2022-05-30T00:32:21.341Z"
   },
   {
    "duration": 11,
    "start_time": "2022-05-30T00:32:21.352Z"
   },
   {
    "duration": 12,
    "start_time": "2022-05-30T00:32:21.364Z"
   },
   {
    "duration": 18,
    "start_time": "2022-05-30T00:32:21.378Z"
   },
   {
    "duration": 95,
    "start_time": "2022-05-30T00:32:21.397Z"
   },
   {
    "duration": 12,
    "start_time": "2022-05-30T00:32:21.494Z"
   },
   {
    "duration": 11,
    "start_time": "2022-05-30T00:32:21.507Z"
   },
   {
    "duration": 25,
    "start_time": "2022-05-30T00:32:21.520Z"
   },
   {
    "duration": 7,
    "start_time": "2022-05-30T00:32:21.547Z"
   },
   {
    "duration": 11,
    "start_time": "2022-05-30T00:32:21.555Z"
   },
   {
    "duration": 9,
    "start_time": "2022-05-30T00:32:21.568Z"
   },
   {
    "duration": 16,
    "start_time": "2022-05-30T00:32:21.579Z"
   },
   {
    "duration": 13,
    "start_time": "2022-05-30T00:32:21.597Z"
   },
   {
    "duration": 35,
    "start_time": "2022-05-30T00:32:21.611Z"
   },
   {
    "duration": 19,
    "start_time": "2022-05-30T00:32:21.648Z"
   },
   {
    "duration": 45,
    "start_time": "2022-05-30T00:32:21.669Z"
   },
   {
    "duration": 67,
    "start_time": "2022-05-30T00:32:21.716Z"
   },
   {
    "duration": 31,
    "start_time": "2022-05-30T00:32:21.785Z"
   },
   {
    "duration": 47,
    "start_time": "2022-05-30T00:32:21.817Z"
   },
   {
    "duration": 28,
    "start_time": "2022-05-30T00:32:21.868Z"
   },
   {
    "duration": 93,
    "start_time": "2022-05-30T00:32:21.898Z"
   },
   {
    "duration": 17,
    "start_time": "2022-05-30T00:32:21.992Z"
   },
   {
    "duration": 36,
    "start_time": "2022-05-30T00:32:22.011Z"
   },
   {
    "duration": 15,
    "start_time": "2022-05-30T00:32:22.049Z"
   },
   {
    "duration": 518,
    "start_time": "2022-05-30T00:32:22.067Z"
   },
   {
    "duration": 310,
    "start_time": "2022-05-30T00:32:22.587Z"
   },
   {
    "duration": 10,
    "start_time": "2022-05-30T00:32:22.899Z"
   },
   {
    "duration": 35,
    "start_time": "2022-05-30T00:32:22.911Z"
   },
   {
    "duration": 239,
    "start_time": "2022-05-30T00:32:22.947Z"
   },
   {
    "duration": 238,
    "start_time": "2022-05-30T00:32:23.188Z"
   },
   {
    "duration": 20,
    "start_time": "2022-05-30T00:32:23.428Z"
   },
   {
    "duration": 12,
    "start_time": "2022-05-30T00:32:23.449Z"
   },
   {
    "duration": 260,
    "start_time": "2022-05-30T00:32:23.462Z"
   },
   {
    "duration": 243,
    "start_time": "2022-05-30T00:32:23.723Z"
   },
   {
    "duration": 8,
    "start_time": "2022-05-30T00:32:23.968Z"
   },
   {
    "duration": 13,
    "start_time": "2022-05-30T00:32:23.978Z"
   },
   {
    "duration": 4,
    "start_time": "2022-05-30T00:44:10.359Z"
   },
   {
    "duration": 18,
    "start_time": "2022-05-30T00:47:55.831Z"
   },
   {
    "duration": 799,
    "start_time": "2022-05-30T05:20:27.356Z"
   },
   {
    "duration": 951,
    "start_time": "2022-05-30T05:20:28.157Z"
   },
   {
    "duration": 16,
    "start_time": "2022-05-30T05:20:29.110Z"
   },
   {
    "duration": 24,
    "start_time": "2022-05-30T05:20:29.129Z"
   },
   {
    "duration": 9,
    "start_time": "2022-05-30T05:20:29.155Z"
   },
   {
    "duration": 24,
    "start_time": "2022-05-30T05:20:29.165Z"
   },
   {
    "duration": 7,
    "start_time": "2022-05-30T05:20:29.191Z"
   },
   {
    "duration": 40,
    "start_time": "2022-05-30T05:20:29.199Z"
   },
   {
    "duration": 8,
    "start_time": "2022-05-30T05:20:29.240Z"
   },
   {
    "duration": 12,
    "start_time": "2022-05-30T05:20:29.252Z"
   },
   {
    "duration": 12,
    "start_time": "2022-05-30T05:20:29.266Z"
   },
   {
    "duration": 14,
    "start_time": "2022-05-30T05:20:29.279Z"
   },
   {
    "duration": 97,
    "start_time": "2022-05-30T05:20:29.295Z"
   },
   {
    "duration": 11,
    "start_time": "2022-05-30T05:20:29.393Z"
   },
   {
    "duration": 5,
    "start_time": "2022-05-30T05:20:29.406Z"
   },
   {
    "duration": 14,
    "start_time": "2022-05-30T05:20:29.413Z"
   },
   {
    "duration": 21,
    "start_time": "2022-05-30T05:20:29.429Z"
   },
   {
    "duration": 7,
    "start_time": "2022-05-30T05:20:29.452Z"
   },
   {
    "duration": 19,
    "start_time": "2022-05-30T05:20:29.461Z"
   },
   {
    "duration": 13,
    "start_time": "2022-05-30T05:20:29.482Z"
   },
   {
    "duration": 36,
    "start_time": "2022-05-30T05:20:29.497Z"
   },
   {
    "duration": 27,
    "start_time": "2022-05-30T05:20:29.535Z"
   },
   {
    "duration": 62,
    "start_time": "2022-05-30T05:20:29.564Z"
   },
   {
    "duration": 45,
    "start_time": "2022-05-30T05:20:29.628Z"
   },
   {
    "duration": 30,
    "start_time": "2022-05-30T05:20:29.675Z"
   },
   {
    "duration": 41,
    "start_time": "2022-05-30T05:20:29.707Z"
   },
   {
    "duration": 28,
    "start_time": "2022-05-30T05:20:29.749Z"
   },
   {
    "duration": 5,
    "start_time": "2022-05-30T05:20:29.781Z"
   },
   {
    "duration": 52,
    "start_time": "2022-05-30T05:20:29.788Z"
   },
   {
    "duration": 86,
    "start_time": "2022-05-30T05:20:29.842Z"
   },
   {
    "duration": 14,
    "start_time": "2022-05-30T05:20:29.929Z"
   },
   {
    "duration": 20,
    "start_time": "2022-05-30T05:20:29.945Z"
   },
   {
    "duration": 19,
    "start_time": "2022-05-30T05:20:29.966Z"
   },
   {
    "duration": 788,
    "start_time": "2022-05-30T05:20:29.987Z"
   },
   {
    "duration": 257,
    "start_time": "2022-05-30T05:20:30.777Z"
   },
   {
    "duration": 13,
    "start_time": "2022-05-30T05:20:31.036Z"
   },
   {
    "duration": 20,
    "start_time": "2022-05-30T05:20:31.050Z"
   },
   {
    "duration": 250,
    "start_time": "2022-05-30T05:20:31.072Z"
   },
   {
    "duration": 279,
    "start_time": "2022-05-30T05:20:31.326Z"
   },
   {
    "duration": 24,
    "start_time": "2022-05-30T05:20:31.608Z"
   },
   {
    "duration": 17,
    "start_time": "2022-05-30T05:20:31.635Z"
   },
   {
    "duration": 265,
    "start_time": "2022-05-30T05:20:31.654Z"
   },
   {
    "duration": 258,
    "start_time": "2022-05-30T05:20:31.920Z"
   },
   {
    "duration": 8,
    "start_time": "2022-05-30T05:20:32.180Z"
   },
   {
    "duration": 24,
    "start_time": "2022-05-30T05:20:32.189Z"
   },
   {
    "duration": 367,
    "start_time": "2022-05-30T05:21:41.393Z"
   },
   {
    "duration": 131,
    "start_time": "2022-05-30T05:22:17.557Z"
   },
   {
    "duration": 228,
    "start_time": "2022-05-30T05:22:21.799Z"
   },
   {
    "duration": 5,
    "start_time": "2022-05-30T05:30:32.748Z"
   },
   {
    "duration": 6,
    "start_time": "2022-05-30T05:32:41.955Z"
   },
   {
    "duration": 41,
    "start_time": "2022-05-30T05:34:31.896Z"
   },
   {
    "duration": 568,
    "start_time": "2022-05-30T05:34:41.714Z"
   },
   {
    "duration": 34,
    "start_time": "2022-05-30T05:36:17.383Z"
   },
   {
    "duration": 13,
    "start_time": "2022-05-30T05:37:22.368Z"
   },
   {
    "duration": 12,
    "start_time": "2022-05-30T05:39:04.699Z"
   },
   {
    "duration": 10,
    "start_time": "2022-05-30T05:39:24.003Z"
   },
   {
    "duration": 9,
    "start_time": "2022-05-30T05:41:26.098Z"
   },
   {
    "duration": 7,
    "start_time": "2022-05-30T05:50:27.078Z"
   },
   {
    "duration": 7,
    "start_time": "2022-05-30T05:50:56.879Z"
   },
   {
    "duration": 13,
    "start_time": "2022-05-30T05:51:10.241Z"
   },
   {
    "duration": 19,
    "start_time": "2022-05-30T05:52:34.849Z"
   },
   {
    "duration": 3,
    "start_time": "2022-05-30T06:05:19.431Z"
   },
   {
    "duration": 46,
    "start_time": "2022-05-30T06:05:33.981Z"
   },
   {
    "duration": 145,
    "start_time": "2022-05-30T06:11:10.326Z"
   },
   {
    "duration": 818,
    "start_time": "2022-05-30T06:13:12.683Z"
   },
   {
    "duration": 427,
    "start_time": "2022-05-30T06:13:13.504Z"
   },
   {
    "duration": 17,
    "start_time": "2022-05-30T06:13:13.932Z"
   },
   {
    "duration": 30,
    "start_time": "2022-05-30T06:13:13.951Z"
   },
   {
    "duration": 9,
    "start_time": "2022-05-30T06:13:13.984Z"
   },
   {
    "duration": 52,
    "start_time": "2022-05-30T06:13:13.995Z"
   },
   {
    "duration": 8,
    "start_time": "2022-05-30T06:13:14.049Z"
   },
   {
    "duration": 27,
    "start_time": "2022-05-30T06:13:14.059Z"
   },
   {
    "duration": 8,
    "start_time": "2022-05-30T06:13:14.088Z"
   },
   {
    "duration": 32,
    "start_time": "2022-05-30T06:13:14.099Z"
   },
   {
    "duration": 10,
    "start_time": "2022-05-30T06:13:14.133Z"
   },
   {
    "duration": 13,
    "start_time": "2022-05-30T06:13:14.144Z"
   },
   {
    "duration": 84,
    "start_time": "2022-05-30T06:13:14.159Z"
   },
   {
    "duration": 13,
    "start_time": "2022-05-30T06:13:14.245Z"
   },
   {
    "duration": 6,
    "start_time": "2022-05-30T06:13:14.259Z"
   },
   {
    "duration": 7,
    "start_time": "2022-05-30T06:13:14.266Z"
   },
   {
    "duration": 12,
    "start_time": "2022-05-30T06:13:14.274Z"
   },
   {
    "duration": 7,
    "start_time": "2022-05-30T06:13:14.288Z"
   },
   {
    "duration": 39,
    "start_time": "2022-05-30T06:13:14.296Z"
   },
   {
    "duration": 12,
    "start_time": "2022-05-30T06:13:14.337Z"
   },
   {
    "duration": 550,
    "start_time": "2022-05-30T06:13:14.351Z"
   },
   {
    "duration": 9,
    "start_time": "2022-05-30T06:13:14.902Z"
   },
   {
    "duration": 23,
    "start_time": "2022-05-30T06:13:14.926Z"
   },
   {
    "duration": 46,
    "start_time": "2022-05-30T06:13:14.950Z"
   },
   {
    "duration": 71,
    "start_time": "2022-05-30T06:13:14.998Z"
   },
   {
    "duration": 30,
    "start_time": "2022-05-30T06:13:15.071Z"
   },
   {
    "duration": 42,
    "start_time": "2022-05-30T06:13:15.103Z"
   },
   {
    "duration": 3,
    "start_time": "2022-05-30T06:13:15.148Z"
   },
   {
    "duration": 39,
    "start_time": "2022-05-30T06:13:15.153Z"
   },
   {
    "duration": 33,
    "start_time": "2022-05-30T06:13:15.194Z"
   },
   {
    "duration": 13,
    "start_time": "2022-05-30T06:13:15.229Z"
   },
   {
    "duration": 8,
    "start_time": "2022-05-30T06:13:15.244Z"
   },
   {
    "duration": 7,
    "start_time": "2022-05-30T06:13:15.253Z"
   },
   {
    "duration": 8,
    "start_time": "2022-05-30T06:13:15.262Z"
   },
   {
    "duration": 15,
    "start_time": "2022-05-30T06:13:15.272Z"
   },
   {
    "duration": 16,
    "start_time": "2022-05-30T06:13:15.327Z"
   },
   {
    "duration": 141,
    "start_time": "2022-05-30T06:13:15.344Z"
   },
   {
    "duration": 14,
    "start_time": "2022-05-30T06:13:15.487Z"
   },
   {
    "duration": 31,
    "start_time": "2022-05-30T06:13:15.502Z"
   },
   {
    "duration": 11,
    "start_time": "2022-05-30T06:13:15.535Z"
   },
   {
    "duration": 360,
    "start_time": "2022-05-30T06:13:15.547Z"
   },
   {
    "duration": 254,
    "start_time": "2022-05-30T06:13:15.909Z"
   },
   {
    "duration": 14,
    "start_time": "2022-05-30T06:13:16.165Z"
   },
   {
    "duration": 24,
    "start_time": "2022-05-30T06:13:16.181Z"
   },
   {
    "duration": 258,
    "start_time": "2022-05-30T06:13:16.226Z"
   },
   {
    "duration": 257,
    "start_time": "2022-05-30T06:13:16.486Z"
   },
   {
    "duration": 12,
    "start_time": "2022-05-30T06:13:16.745Z"
   },
   {
    "duration": 12,
    "start_time": "2022-05-30T06:13:16.758Z"
   },
   {
    "duration": 268,
    "start_time": "2022-05-30T06:13:16.772Z"
   },
   {
    "duration": 352,
    "start_time": "2022-05-30T06:13:17.042Z"
   },
   {
    "duration": 10,
    "start_time": "2022-05-30T06:13:17.396Z"
   },
   {
    "duration": 28,
    "start_time": "2022-05-30T06:13:17.407Z"
   },
   {
    "duration": 1077,
    "start_time": "2022-05-30T06:19:03.696Z"
   },
   {
    "duration": 408,
    "start_time": "2022-05-30T06:19:04.775Z"
   },
   {
    "duration": 12,
    "start_time": "2022-05-30T06:19:05.185Z"
   },
   {
    "duration": 42,
    "start_time": "2022-05-30T06:19:05.198Z"
   },
   {
    "duration": 8,
    "start_time": "2022-05-30T06:19:05.242Z"
   },
   {
    "duration": 23,
    "start_time": "2022-05-30T06:19:05.251Z"
   },
   {
    "duration": 8,
    "start_time": "2022-05-30T06:19:05.275Z"
   },
   {
    "duration": 20,
    "start_time": "2022-05-30T06:19:05.284Z"
   },
   {
    "duration": 28,
    "start_time": "2022-05-30T06:19:05.306Z"
   },
   {
    "duration": 16,
    "start_time": "2022-05-30T06:19:05.336Z"
   },
   {
    "duration": 16,
    "start_time": "2022-05-30T06:19:05.354Z"
   },
   {
    "duration": 16,
    "start_time": "2022-05-30T06:19:05.372Z"
   },
   {
    "duration": 91,
    "start_time": "2022-05-30T06:19:05.390Z"
   },
   {
    "duration": 12,
    "start_time": "2022-05-30T06:19:05.483Z"
   },
   {
    "duration": 5,
    "start_time": "2022-05-30T06:19:05.497Z"
   },
   {
    "duration": 24,
    "start_time": "2022-05-30T06:19:05.503Z"
   },
   {
    "duration": 10,
    "start_time": "2022-05-30T06:19:05.529Z"
   },
   {
    "duration": 10,
    "start_time": "2022-05-30T06:19:05.542Z"
   },
   {
    "duration": 18,
    "start_time": "2022-05-30T06:19:05.554Z"
   },
   {
    "duration": 12,
    "start_time": "2022-05-30T06:19:05.574Z"
   },
   {
    "duration": 310,
    "start_time": "2022-05-30T06:19:05.587Z"
   },
   {
    "duration": 8,
    "start_time": "2022-05-30T06:19:05.898Z"
   },
   {
    "duration": 35,
    "start_time": "2022-05-30T06:19:05.908Z"
   },
   {
    "duration": 47,
    "start_time": "2022-05-30T06:19:05.944Z"
   },
   {
    "duration": 134,
    "start_time": "2022-05-30T06:19:05.993Z"
   },
   {
    "duration": 30,
    "start_time": "2022-05-30T06:19:06.129Z"
   },
   {
    "duration": 32,
    "start_time": "2022-05-30T06:19:06.161Z"
   },
   {
    "duration": 4,
    "start_time": "2022-05-30T06:19:06.194Z"
   },
   {
    "duration": 50,
    "start_time": "2022-05-30T06:19:06.226Z"
   },
   {
    "duration": 5,
    "start_time": "2022-05-30T06:19:06.278Z"
   },
   {
    "duration": 16,
    "start_time": "2022-05-30T06:19:06.284Z"
   },
   {
    "duration": 33,
    "start_time": "2022-05-30T06:19:06.301Z"
   },
   {
    "duration": 8,
    "start_time": "2022-05-30T06:19:06.335Z"
   },
   {
    "duration": 4,
    "start_time": "2022-05-30T06:19:06.345Z"
   },
   {
    "duration": 20,
    "start_time": "2022-05-30T06:19:06.351Z"
   },
   {
    "duration": 15,
    "start_time": "2022-05-30T06:19:06.373Z"
   },
   {
    "duration": 163,
    "start_time": "2022-05-30T06:19:06.390Z"
   },
   {
    "duration": 16,
    "start_time": "2022-05-30T06:19:06.555Z"
   },
   {
    "duration": 13,
    "start_time": "2022-05-30T06:19:06.573Z"
   },
   {
    "duration": 50,
    "start_time": "2022-05-30T06:19:06.587Z"
   },
   {
    "duration": 413,
    "start_time": "2022-05-30T06:19:06.644Z"
   },
   {
    "duration": 249,
    "start_time": "2022-05-30T06:19:07.059Z"
   },
   {
    "duration": 23,
    "start_time": "2022-05-30T06:19:07.310Z"
   },
   {
    "duration": 15,
    "start_time": "2022-05-30T06:19:07.335Z"
   },
   {
    "duration": 278,
    "start_time": "2022-05-30T06:19:07.352Z"
   },
   {
    "duration": 254,
    "start_time": "2022-05-30T06:19:07.632Z"
   },
   {
    "duration": 12,
    "start_time": "2022-05-30T06:19:07.888Z"
   },
   {
    "duration": 33,
    "start_time": "2022-05-30T06:19:07.902Z"
   },
   {
    "duration": 340,
    "start_time": "2022-05-30T06:19:07.936Z"
   },
   {
    "duration": 251,
    "start_time": "2022-05-30T06:19:08.278Z"
   },
   {
    "duration": 9,
    "start_time": "2022-05-30T06:19:08.531Z"
   },
   {
    "duration": 14,
    "start_time": "2022-05-30T06:19:08.542Z"
   },
   {
    "duration": 279,
    "start_time": "2022-05-30T06:39:45.675Z"
   },
   {
    "duration": 160,
    "start_time": "2022-05-30T06:40:40.078Z"
   },
   {
    "duration": 474,
    "start_time": "2022-05-30T06:41:28.295Z"
   },
   {
    "duration": 483,
    "start_time": "2022-05-30T06:42:52.091Z"
   },
   {
    "duration": 589,
    "start_time": "2022-05-30T06:44:57.690Z"
   },
   {
    "duration": 483,
    "start_time": "2022-05-30T06:45:56.383Z"
   },
   {
    "duration": 13,
    "start_time": "2022-05-30T06:47:15.895Z"
   },
   {
    "duration": 18,
    "start_time": "2022-05-30T06:47:33.321Z"
   },
   {
    "duration": 435,
    "start_time": "2022-05-30T06:48:42.113Z"
   },
   {
    "duration": 608,
    "start_time": "2022-05-30T06:49:03.659Z"
   },
   {
    "duration": 476,
    "start_time": "2022-05-30T06:49:33.142Z"
   },
   {
    "duration": 452,
    "start_time": "2022-05-30T06:49:46.947Z"
   },
   {
    "duration": 9,
    "start_time": "2022-05-30T07:25:33.143Z"
   },
   {
    "duration": 15,
    "start_time": "2022-05-30T07:27:30.734Z"
   },
   {
    "duration": 30,
    "start_time": "2022-05-30T07:29:48.034Z"
   },
   {
    "duration": 14,
    "start_time": "2022-05-30T07:31:26.649Z"
   },
   {
    "duration": 483,
    "start_time": "2022-05-30T07:45:11.002Z"
   },
   {
    "duration": 135,
    "start_time": "2022-05-30T07:48:07.702Z"
   },
   {
    "duration": 131,
    "start_time": "2022-05-30T07:48:17.324Z"
   },
   {
    "duration": 169,
    "start_time": "2022-05-30T07:50:45.330Z"
   },
   {
    "duration": 348,
    "start_time": "2022-05-30T07:51:25.592Z"
   },
   {
    "duration": 27800,
    "start_time": "2022-05-30T07:55:19.239Z"
   },
   {
    "duration": 10681,
    "start_time": "2022-05-30T07:57:35.717Z"
   },
   {
    "duration": 150,
    "start_time": "2022-05-30T07:58:28.105Z"
   },
   {
    "duration": 189,
    "start_time": "2022-05-30T08:03:25.300Z"
   },
   {
    "duration": 15685,
    "start_time": "2022-05-30T08:04:21.116Z"
   },
   {
    "duration": 203,
    "start_time": "2022-05-30T08:04:43.801Z"
   },
   {
    "duration": 221,
    "start_time": "2022-05-30T08:05:16.739Z"
   },
   {
    "duration": 192,
    "start_time": "2022-05-30T08:06:07.772Z"
   },
   {
    "duration": 153,
    "start_time": "2022-05-30T08:06:35.447Z"
   },
   {
    "duration": 195,
    "start_time": "2022-05-30T08:09:07.545Z"
   },
   {
    "duration": 11,
    "start_time": "2022-05-30T08:13:58.190Z"
   },
   {
    "duration": 13,
    "start_time": "2022-05-30T08:51:47.080Z"
   },
   {
    "duration": 570,
    "start_time": "2022-05-30T08:54:53.416Z"
   },
   {
    "duration": 129,
    "start_time": "2022-05-30T08:55:22.451Z"
   },
   {
    "duration": 390,
    "start_time": "2022-05-30T09:02:44.145Z"
   },
   {
    "duration": 121,
    "start_time": "2022-05-30T09:03:12.639Z"
   },
   {
    "duration": 132,
    "start_time": "2022-05-30T09:03:39.387Z"
   },
   {
    "duration": 145,
    "start_time": "2022-05-30T09:03:53.622Z"
   },
   {
    "duration": 1078,
    "start_time": "2022-05-30T09:21:16.298Z"
   },
   {
    "duration": 423,
    "start_time": "2022-05-30T09:21:17.378Z"
   },
   {
    "duration": 14,
    "start_time": "2022-05-30T09:21:17.802Z"
   },
   {
    "duration": 35,
    "start_time": "2022-05-30T09:21:17.818Z"
   },
   {
    "duration": 8,
    "start_time": "2022-05-30T09:21:17.855Z"
   },
   {
    "duration": 24,
    "start_time": "2022-05-30T09:21:17.865Z"
   },
   {
    "duration": 7,
    "start_time": "2022-05-30T09:21:17.890Z"
   },
   {
    "duration": 37,
    "start_time": "2022-05-30T09:21:17.899Z"
   },
   {
    "duration": 8,
    "start_time": "2022-05-30T09:21:17.938Z"
   },
   {
    "duration": 10,
    "start_time": "2022-05-30T09:21:17.949Z"
   },
   {
    "duration": 10,
    "start_time": "2022-05-30T09:21:17.961Z"
   },
   {
    "duration": 14,
    "start_time": "2022-05-30T09:21:17.973Z"
   },
   {
    "duration": 101,
    "start_time": "2022-05-30T09:21:17.989Z"
   },
   {
    "duration": 13,
    "start_time": "2022-05-30T09:21:18.092Z"
   },
   {
    "duration": 23,
    "start_time": "2022-05-30T09:21:18.107Z"
   },
   {
    "duration": 13,
    "start_time": "2022-05-30T09:21:18.132Z"
   },
   {
    "duration": 18,
    "start_time": "2022-05-30T09:21:18.147Z"
   },
   {
    "duration": 15,
    "start_time": "2022-05-30T09:21:18.167Z"
   },
   {
    "duration": 21,
    "start_time": "2022-05-30T09:21:18.184Z"
   },
   {
    "duration": 16,
    "start_time": "2022-05-30T09:21:18.207Z"
   },
   {
    "duration": 275,
    "start_time": "2022-05-30T09:21:18.227Z"
   },
   {
    "duration": 9,
    "start_time": "2022-05-30T09:21:18.505Z"
   },
   {
    "duration": 26,
    "start_time": "2022-05-30T09:21:18.527Z"
   },
   {
    "duration": 52,
    "start_time": "2022-05-30T09:21:18.555Z"
   },
   {
    "duration": 137,
    "start_time": "2022-05-30T09:21:18.608Z"
   },
   {
    "duration": 30,
    "start_time": "2022-05-30T09:21:18.747Z"
   },
   {
    "duration": 23,
    "start_time": "2022-05-30T09:21:18.778Z"
   },
   {
    "duration": 22,
    "start_time": "2022-05-30T09:21:18.805Z"
   },
   {
    "duration": 45,
    "start_time": "2022-05-30T09:21:18.829Z"
   },
   {
    "duration": 4,
    "start_time": "2022-05-30T09:21:18.875Z"
   },
   {
    "duration": 16,
    "start_time": "2022-05-30T09:21:18.881Z"
   },
   {
    "duration": 13,
    "start_time": "2022-05-30T09:21:18.898Z"
   },
   {
    "duration": 9,
    "start_time": "2022-05-30T09:21:18.927Z"
   },
   {
    "duration": 32,
    "start_time": "2022-05-30T09:21:18.937Z"
   },
   {
    "duration": 20,
    "start_time": "2022-05-30T09:21:18.971Z"
   },
   {
    "duration": 15,
    "start_time": "2022-05-30T09:21:18.993Z"
   },
   {
    "duration": 133,
    "start_time": "2022-05-30T09:21:19.010Z"
   },
   {
    "duration": 14,
    "start_time": "2022-05-30T09:21:19.145Z"
   },
   {
    "duration": 12,
    "start_time": "2022-05-30T09:21:19.161Z"
   },
   {
    "duration": 53,
    "start_time": "2022-05-30T09:21:19.175Z"
   },
   {
    "duration": 459,
    "start_time": "2022-05-30T09:21:19.229Z"
   },
   {
    "duration": 10,
    "start_time": "2022-05-30T09:21:19.690Z"
   },
   {
    "duration": 30,
    "start_time": "2022-05-30T09:21:19.701Z"
   },
   {
    "duration": 451,
    "start_time": "2022-05-30T09:21:19.733Z"
   },
   {
    "duration": 11,
    "start_time": "2022-05-30T09:21:20.186Z"
   },
   {
    "duration": 33,
    "start_time": "2022-05-30T09:21:20.198Z"
   },
   {
    "duration": 456,
    "start_time": "2022-05-30T09:21:20.232Z"
   },
   {
    "duration": 10,
    "start_time": "2022-05-30T09:21:20.690Z"
   },
   {
    "duration": 32,
    "start_time": "2022-05-30T09:21:20.701Z"
   },
   {
    "duration": 554,
    "start_time": "2022-05-30T09:21:20.734Z"
   },
   {
    "duration": 196,
    "start_time": "2022-05-30T09:21:21.290Z"
   },
   {
    "duration": 164,
    "start_time": "2022-05-30T09:21:21.488Z"
   },
   {
    "duration": 12,
    "start_time": "2022-05-30T09:21:21.654Z"
   },
   {
    "duration": 30,
    "start_time": "2022-05-30T09:21:21.668Z"
   }
  ],
  "kernelspec": {
   "display_name": "Python 3 (ipykernel)",
   "language": "python",
   "name": "python3"
  },
  "language_info": {
   "codemirror_mode": {
    "name": "ipython",
    "version": 3
   },
   "file_extension": ".py",
   "mimetype": "text/x-python",
   "name": "python",
   "nbconvert_exporter": "python",
   "pygments_lexer": "ipython3",
   "version": "3.9.7"
  },
  "toc": {
   "base_numbering": 1,
   "nav_menu": {},
   "number_sections": true,
   "sideBar": true,
   "skip_h1_title": true,
   "title_cell": "Содержание",
   "title_sidebar": "Contents",
   "toc_cell": true,
   "toc_position": {
    "height": "calc(100% - 180px)",
    "left": "10px",
    "top": "150px",
    "width": "165px"
   },
   "toc_section_display": true,
   "toc_window_display": true
  }
 },
 "nbformat": 4,
 "nbformat_minor": 2
}
