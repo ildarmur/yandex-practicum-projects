{
 "cells": [
  {
   "cell_type": "markdown",
   "metadata": {},
   "source": [
    "# Проверка гипотез по увеличению выручки интернет-магазина\n",
    "\n",
    "Отдел маркетинга крупного интернет-магазина подготовил список гипотез для увеличения выручки.\n",
    "Необходимо приоритизировать гипотезы, запустить A/B-тест и проанализировать результаты.\n",
    "\n",
    "**Описание данных**\n",
    "\n",
    "Данные для первой части\n",
    "\n",
    "Файл /datasets/hypothesis.csv.\n",
    "- Hypothesis — краткое описание гипотезы;\n",
    "- Reach — охват пользователей по 10-балльной шкале;\n",
    "- Impact — влияние на пользователей по 10-балльной шкале;\n",
    "- Confidence — уверенность в гипотезе по 10-балльной шкале;\n",
    "- Efforts — затраты ресурсов на проверку гипотезы по 10-балльной шкале. Чем больше значение Efforts, тем дороже проверка гипотезы.\n",
    "\n",
    "Данные для второй части\n",
    "\n",
    "Файл /datasets/orders.csv.\n",
    "- transactionId — идентификатор заказа;\n",
    "- visitorId — идентификатор пользователя, совершившего заказ;\n",
    "- date — дата, когда был совершён заказ;\n",
    "- revenue — выручка заказа;\n",
    "- group — группа A/B-теста, в которую попал заказ.\n",
    "\n",
    "Файл /datasets/visitors.csv. Скачать датасет\n",
    "- date — дата;\n",
    "- group — группа A/B-теста;\n",
    "- visitors — количество пользователей в указанную дату в указанной группе A/B-теста"
   ]
  },
  {
   "cell_type": "markdown",
   "metadata": {},
   "source": [
    "## Загрузка и предобработка данных\n",
    "\n",
    "Загрузим данные о гипотезах, заказах и визитах в переменные. Оптимизируем данные для анализа. Убедимся, что тип данных в каждой колонке — правильный."
   ]
  },
  {
   "cell_type": "code",
   "execution_count": 1,
   "metadata": {},
   "outputs": [],
   "source": [
    "import pandas as pd\n",
    "import numpy as np\n",
    "import scipy.stats as stats\n",
    "import datetime as dt\n",
    "import os\n",
    "from matplotlib import pyplot as plt\n",
    "from textwrap import fill\n",
    "pd.set_option('display.max_colwidth', None)"
   ]
  },
  {
   "cell_type": "code",
   "execution_count": 2,
   "metadata": {},
   "outputs": [],
   "source": [
    "def read_file(file_name):\n",
    "    path1 = os.path.join('/datasets', file_name)\n",
    "    path2 = os.path.join(file_name)\n",
    "    if os.path.exists(path1):\n",
    "        df = pd.read_csv(path1)\n",
    "        return df\n",
    "    elif os.path.exists(path2):\n",
    "        df = pd.read_csv(path2)\n",
    "        return df\n",
    "    else:\n",
    "        print('File is not found')"
   ]
  },
  {
   "cell_type": "code",
   "execution_count": 3,
   "metadata": {},
   "outputs": [],
   "source": [
    "hypothesis, orders, visitors = (\n",
    "    read_file('hypothesis.csv'),  # гипотезы\n",
    "    read_file('orders.csv'),  # покупки\n",
    "    read_file('visitors.csv') # визиты\n",
    ")"
   ]
  },
  {
   "cell_type": "code",
   "execution_count": 4,
   "metadata": {},
   "outputs": [],
   "source": [
    "def initial_analysis(df):\n",
    "    return (\n",
    "        df.info(),\n",
    "        display(df.head(10)),\n",
    "        display(df.describe())\n",
    "    )"
   ]
  },
  {
   "cell_type": "code",
   "execution_count": 5,
   "metadata": {},
   "outputs": [
    {
     "name": "stdout",
     "output_type": "stream",
     "text": [
      "<class 'pandas.core.frame.DataFrame'>\n",
      "RangeIndex: 9 entries, 0 to 8\n",
      "Data columns (total 5 columns):\n",
      " #   Column      Non-Null Count  Dtype \n",
      "---  ------      --------------  ----- \n",
      " 0   Hypothesis  9 non-null      object\n",
      " 1   Reach       9 non-null      int64 \n",
      " 2   Impact      9 non-null      int64 \n",
      " 3   Confidence  9 non-null      int64 \n",
      " 4   Efforts     9 non-null      int64 \n",
      "dtypes: int64(4), object(1)\n",
      "memory usage: 488.0+ bytes\n"
     ]
    },
    {
     "data": {
      "text/html": [
       "<div>\n",
       "<style scoped>\n",
       "    .dataframe tbody tr th:only-of-type {\n",
       "        vertical-align: middle;\n",
       "    }\n",
       "\n",
       "    .dataframe tbody tr th {\n",
       "        vertical-align: top;\n",
       "    }\n",
       "\n",
       "    .dataframe thead th {\n",
       "        text-align: right;\n",
       "    }\n",
       "</style>\n",
       "<table border=\"1\" class=\"dataframe\">\n",
       "  <thead>\n",
       "    <tr style=\"text-align: right;\">\n",
       "      <th></th>\n",
       "      <th>Hypothesis</th>\n",
       "      <th>Reach</th>\n",
       "      <th>Impact</th>\n",
       "      <th>Confidence</th>\n",
       "      <th>Efforts</th>\n",
       "    </tr>\n",
       "  </thead>\n",
       "  <tbody>\n",
       "    <tr>\n",
       "      <th>0</th>\n",
       "      <td>Добавить два новых канала привлечения трафика, что позволит привлекать на 30% больше пользователей</td>\n",
       "      <td>3</td>\n",
       "      <td>10</td>\n",
       "      <td>8</td>\n",
       "      <td>6</td>\n",
       "    </tr>\n",
       "    <tr>\n",
       "      <th>1</th>\n",
       "      <td>Запустить собственную службу доставки, что сократит срок доставки заказов</td>\n",
       "      <td>2</td>\n",
       "      <td>5</td>\n",
       "      <td>4</td>\n",
       "      <td>10</td>\n",
       "    </tr>\n",
       "    <tr>\n",
       "      <th>2</th>\n",
       "      <td>Добавить блоки рекомендаций товаров на сайт интернет магазина, чтобы повысить конверсию и средний чек заказа</td>\n",
       "      <td>8</td>\n",
       "      <td>3</td>\n",
       "      <td>7</td>\n",
       "      <td>3</td>\n",
       "    </tr>\n",
       "    <tr>\n",
       "      <th>3</th>\n",
       "      <td>Изменить структура категорий, что увеличит конверсию, т.к. пользователи быстрее найдут нужный товар</td>\n",
       "      <td>8</td>\n",
       "      <td>3</td>\n",
       "      <td>3</td>\n",
       "      <td>8</td>\n",
       "    </tr>\n",
       "    <tr>\n",
       "      <th>4</th>\n",
       "      <td>Изменить цвет фона главной страницы, чтобы увеличить вовлеченность пользователей</td>\n",
       "      <td>3</td>\n",
       "      <td>1</td>\n",
       "      <td>1</td>\n",
       "      <td>1</td>\n",
       "    </tr>\n",
       "    <tr>\n",
       "      <th>5</th>\n",
       "      <td>Добавить страницу отзывов клиентов о магазине, что позволит увеличить количество заказов</td>\n",
       "      <td>3</td>\n",
       "      <td>2</td>\n",
       "      <td>2</td>\n",
       "      <td>3</td>\n",
       "    </tr>\n",
       "    <tr>\n",
       "      <th>6</th>\n",
       "      <td>Показать на главной странице баннеры с актуальными акциями и распродажами, чтобы увеличить конверсию</td>\n",
       "      <td>5</td>\n",
       "      <td>3</td>\n",
       "      <td>8</td>\n",
       "      <td>3</td>\n",
       "    </tr>\n",
       "    <tr>\n",
       "      <th>7</th>\n",
       "      <td>Добавить форму подписки на все основные страницы, чтобы собрать базу клиентов для email-рассылок</td>\n",
       "      <td>10</td>\n",
       "      <td>7</td>\n",
       "      <td>8</td>\n",
       "      <td>5</td>\n",
       "    </tr>\n",
       "    <tr>\n",
       "      <th>8</th>\n",
       "      <td>Запустить акцию, дающую скидку на товар в день рождения</td>\n",
       "      <td>1</td>\n",
       "      <td>9</td>\n",
       "      <td>9</td>\n",
       "      <td>5</td>\n",
       "    </tr>\n",
       "  </tbody>\n",
       "</table>\n",
       "</div>"
      ],
      "text/plain": [
       "                                                                                                     Hypothesis  \\\n",
       "0            Добавить два новых канала привлечения трафика, что позволит привлекать на 30% больше пользователей   \n",
       "1                                     Запустить собственную службу доставки, что сократит срок доставки заказов   \n",
       "2  Добавить блоки рекомендаций товаров на сайт интернет магазина, чтобы повысить конверсию и средний чек заказа   \n",
       "3           Изменить структура категорий, что увеличит конверсию, т.к. пользователи быстрее найдут нужный товар   \n",
       "4                              Изменить цвет фона главной страницы, чтобы увеличить вовлеченность пользователей   \n",
       "5                      Добавить страницу отзывов клиентов о магазине, что позволит увеличить количество заказов   \n",
       "6          Показать на главной странице баннеры с актуальными акциями и распродажами, чтобы увеличить конверсию   \n",
       "7              Добавить форму подписки на все основные страницы, чтобы собрать базу клиентов для email-рассылок   \n",
       "8                                                       Запустить акцию, дающую скидку на товар в день рождения   \n",
       "\n",
       "   Reach  Impact  Confidence  Efforts  \n",
       "0      3      10           8        6  \n",
       "1      2       5           4       10  \n",
       "2      8       3           7        3  \n",
       "3      8       3           3        8  \n",
       "4      3       1           1        1  \n",
       "5      3       2           2        3  \n",
       "6      5       3           8        3  \n",
       "7     10       7           8        5  \n",
       "8      1       9           9        5  "
      ]
     },
     "metadata": {},
     "output_type": "display_data"
    },
    {
     "data": {
      "text/html": [
       "<div>\n",
       "<style scoped>\n",
       "    .dataframe tbody tr th:only-of-type {\n",
       "        vertical-align: middle;\n",
       "    }\n",
       "\n",
       "    .dataframe tbody tr th {\n",
       "        vertical-align: top;\n",
       "    }\n",
       "\n",
       "    .dataframe thead th {\n",
       "        text-align: right;\n",
       "    }\n",
       "</style>\n",
       "<table border=\"1\" class=\"dataframe\">\n",
       "  <thead>\n",
       "    <tr style=\"text-align: right;\">\n",
       "      <th></th>\n",
       "      <th>Reach</th>\n",
       "      <th>Impact</th>\n",
       "      <th>Confidence</th>\n",
       "      <th>Efforts</th>\n",
       "    </tr>\n",
       "  </thead>\n",
       "  <tbody>\n",
       "    <tr>\n",
       "      <th>count</th>\n",
       "      <td>9.000000</td>\n",
       "      <td>9.000000</td>\n",
       "      <td>9.000000</td>\n",
       "      <td>9.000000</td>\n",
       "    </tr>\n",
       "    <tr>\n",
       "      <th>mean</th>\n",
       "      <td>4.777778</td>\n",
       "      <td>4.777778</td>\n",
       "      <td>5.555556</td>\n",
       "      <td>4.888889</td>\n",
       "    </tr>\n",
       "    <tr>\n",
       "      <th>std</th>\n",
       "      <td>3.153481</td>\n",
       "      <td>3.192874</td>\n",
       "      <td>3.045944</td>\n",
       "      <td>2.803767</td>\n",
       "    </tr>\n",
       "    <tr>\n",
       "      <th>min</th>\n",
       "      <td>1.000000</td>\n",
       "      <td>1.000000</td>\n",
       "      <td>1.000000</td>\n",
       "      <td>1.000000</td>\n",
       "    </tr>\n",
       "    <tr>\n",
       "      <th>25%</th>\n",
       "      <td>3.000000</td>\n",
       "      <td>3.000000</td>\n",
       "      <td>3.000000</td>\n",
       "      <td>3.000000</td>\n",
       "    </tr>\n",
       "    <tr>\n",
       "      <th>50%</th>\n",
       "      <td>3.000000</td>\n",
       "      <td>3.000000</td>\n",
       "      <td>7.000000</td>\n",
       "      <td>5.000000</td>\n",
       "    </tr>\n",
       "    <tr>\n",
       "      <th>75%</th>\n",
       "      <td>8.000000</td>\n",
       "      <td>7.000000</td>\n",
       "      <td>8.000000</td>\n",
       "      <td>6.000000</td>\n",
       "    </tr>\n",
       "    <tr>\n",
       "      <th>max</th>\n",
       "      <td>10.000000</td>\n",
       "      <td>10.000000</td>\n",
       "      <td>9.000000</td>\n",
       "      <td>10.000000</td>\n",
       "    </tr>\n",
       "  </tbody>\n",
       "</table>\n",
       "</div>"
      ],
      "text/plain": [
       "           Reach     Impact  Confidence    Efforts\n",
       "count   9.000000   9.000000    9.000000   9.000000\n",
       "mean    4.777778   4.777778    5.555556   4.888889\n",
       "std     3.153481   3.192874    3.045944   2.803767\n",
       "min     1.000000   1.000000    1.000000   1.000000\n",
       "25%     3.000000   3.000000    3.000000   3.000000\n",
       "50%     3.000000   3.000000    7.000000   5.000000\n",
       "75%     8.000000   7.000000    8.000000   6.000000\n",
       "max    10.000000  10.000000    9.000000  10.000000"
      ]
     },
     "metadata": {},
     "output_type": "display_data"
    },
    {
     "data": {
      "text/plain": [
       "(None, None, None)"
      ]
     },
     "execution_count": 5,
     "metadata": {},
     "output_type": "execute_result"
    }
   ],
   "source": [
    "initial_analysis(hypothesis)"
   ]
  },
  {
   "cell_type": "code",
   "execution_count": 6,
   "metadata": {
    "scrolled": false
   },
   "outputs": [
    {
     "name": "stdout",
     "output_type": "stream",
     "text": [
      "<class 'pandas.core.frame.DataFrame'>\n",
      "RangeIndex: 1197 entries, 0 to 1196\n",
      "Data columns (total 5 columns):\n",
      " #   Column         Non-Null Count  Dtype \n",
      "---  ------         --------------  ----- \n",
      " 0   transactionId  1197 non-null   int64 \n",
      " 1   visitorId      1197 non-null   int64 \n",
      " 2   date           1197 non-null   object\n",
      " 3   revenue        1197 non-null   int64 \n",
      " 4   group          1197 non-null   object\n",
      "dtypes: int64(3), object(2)\n",
      "memory usage: 46.9+ KB\n"
     ]
    },
    {
     "data": {
      "text/html": [
       "<div>\n",
       "<style scoped>\n",
       "    .dataframe tbody tr th:only-of-type {\n",
       "        vertical-align: middle;\n",
       "    }\n",
       "\n",
       "    .dataframe tbody tr th {\n",
       "        vertical-align: top;\n",
       "    }\n",
       "\n",
       "    .dataframe thead th {\n",
       "        text-align: right;\n",
       "    }\n",
       "</style>\n",
       "<table border=\"1\" class=\"dataframe\">\n",
       "  <thead>\n",
       "    <tr style=\"text-align: right;\">\n",
       "      <th></th>\n",
       "      <th>transactionId</th>\n",
       "      <th>visitorId</th>\n",
       "      <th>date</th>\n",
       "      <th>revenue</th>\n",
       "      <th>group</th>\n",
       "    </tr>\n",
       "  </thead>\n",
       "  <tbody>\n",
       "    <tr>\n",
       "      <th>0</th>\n",
       "      <td>3667963787</td>\n",
       "      <td>3312258926</td>\n",
       "      <td>2019-08-15</td>\n",
       "      <td>1650</td>\n",
       "      <td>B</td>\n",
       "    </tr>\n",
       "    <tr>\n",
       "      <th>1</th>\n",
       "      <td>2804400009</td>\n",
       "      <td>3642806036</td>\n",
       "      <td>2019-08-15</td>\n",
       "      <td>730</td>\n",
       "      <td>B</td>\n",
       "    </tr>\n",
       "    <tr>\n",
       "      <th>2</th>\n",
       "      <td>2961555356</td>\n",
       "      <td>4069496402</td>\n",
       "      <td>2019-08-15</td>\n",
       "      <td>400</td>\n",
       "      <td>A</td>\n",
       "    </tr>\n",
       "    <tr>\n",
       "      <th>3</th>\n",
       "      <td>3797467345</td>\n",
       "      <td>1196621759</td>\n",
       "      <td>2019-08-15</td>\n",
       "      <td>9759</td>\n",
       "      <td>B</td>\n",
       "    </tr>\n",
       "    <tr>\n",
       "      <th>4</th>\n",
       "      <td>2282983706</td>\n",
       "      <td>2322279887</td>\n",
       "      <td>2019-08-15</td>\n",
       "      <td>2308</td>\n",
       "      <td>B</td>\n",
       "    </tr>\n",
       "    <tr>\n",
       "      <th>5</th>\n",
       "      <td>182168103</td>\n",
       "      <td>935554773</td>\n",
       "      <td>2019-08-15</td>\n",
       "      <td>2210</td>\n",
       "      <td>B</td>\n",
       "    </tr>\n",
       "    <tr>\n",
       "      <th>6</th>\n",
       "      <td>398296753</td>\n",
       "      <td>2900797465</td>\n",
       "      <td>2019-08-15</td>\n",
       "      <td>1860</td>\n",
       "      <td>B</td>\n",
       "    </tr>\n",
       "    <tr>\n",
       "      <th>7</th>\n",
       "      <td>2626614568</td>\n",
       "      <td>78758296</td>\n",
       "      <td>2019-08-15</td>\n",
       "      <td>1044</td>\n",
       "      <td>A</td>\n",
       "    </tr>\n",
       "    <tr>\n",
       "      <th>8</th>\n",
       "      <td>1576988021</td>\n",
       "      <td>295230930</td>\n",
       "      <td>2019-08-15</td>\n",
       "      <td>13710</td>\n",
       "      <td>A</td>\n",
       "    </tr>\n",
       "    <tr>\n",
       "      <th>9</th>\n",
       "      <td>1506739906</td>\n",
       "      <td>1882260405</td>\n",
       "      <td>2019-08-15</td>\n",
       "      <td>1855</td>\n",
       "      <td>B</td>\n",
       "    </tr>\n",
       "  </tbody>\n",
       "</table>\n",
       "</div>"
      ],
      "text/plain": [
       "   transactionId   visitorId        date  revenue group\n",
       "0     3667963787  3312258926  2019-08-15     1650     B\n",
       "1     2804400009  3642806036  2019-08-15      730     B\n",
       "2     2961555356  4069496402  2019-08-15      400     A\n",
       "3     3797467345  1196621759  2019-08-15     9759     B\n",
       "4     2282983706  2322279887  2019-08-15     2308     B\n",
       "5      182168103   935554773  2019-08-15     2210     B\n",
       "6      398296753  2900797465  2019-08-15     1860     B\n",
       "7     2626614568    78758296  2019-08-15     1044     A\n",
       "8     1576988021   295230930  2019-08-15    13710     A\n",
       "9     1506739906  1882260405  2019-08-15     1855     B"
      ]
     },
     "metadata": {},
     "output_type": "display_data"
    },
    {
     "data": {
      "text/html": [
       "<div>\n",
       "<style scoped>\n",
       "    .dataframe tbody tr th:only-of-type {\n",
       "        vertical-align: middle;\n",
       "    }\n",
       "\n",
       "    .dataframe tbody tr th {\n",
       "        vertical-align: top;\n",
       "    }\n",
       "\n",
       "    .dataframe thead th {\n",
       "        text-align: right;\n",
       "    }\n",
       "</style>\n",
       "<table border=\"1\" class=\"dataframe\">\n",
       "  <thead>\n",
       "    <tr style=\"text-align: right;\">\n",
       "      <th></th>\n",
       "      <th>transactionId</th>\n",
       "      <th>visitorId</th>\n",
       "      <th>revenue</th>\n",
       "    </tr>\n",
       "  </thead>\n",
       "  <tbody>\n",
       "    <tr>\n",
       "      <th>count</th>\n",
       "      <td>1.197000e+03</td>\n",
       "      <td>1.197000e+03</td>\n",
       "      <td>1.197000e+03</td>\n",
       "    </tr>\n",
       "    <tr>\n",
       "      <th>mean</th>\n",
       "      <td>2.155621e+09</td>\n",
       "      <td>2.165960e+09</td>\n",
       "      <td>8.348006e+03</td>\n",
       "    </tr>\n",
       "    <tr>\n",
       "      <th>std</th>\n",
       "      <td>1.229085e+09</td>\n",
       "      <td>1.236014e+09</td>\n",
       "      <td>3.919113e+04</td>\n",
       "    </tr>\n",
       "    <tr>\n",
       "      <th>min</th>\n",
       "      <td>1.062393e+06</td>\n",
       "      <td>5.114589e+06</td>\n",
       "      <td>5.000000e+01</td>\n",
       "    </tr>\n",
       "    <tr>\n",
       "      <th>25%</th>\n",
       "      <td>1.166776e+09</td>\n",
       "      <td>1.111826e+09</td>\n",
       "      <td>1.220000e+03</td>\n",
       "    </tr>\n",
       "    <tr>\n",
       "      <th>50%</th>\n",
       "      <td>2.145194e+09</td>\n",
       "      <td>2.217985e+09</td>\n",
       "      <td>2.978000e+03</td>\n",
       "    </tr>\n",
       "    <tr>\n",
       "      <th>75%</th>\n",
       "      <td>3.237740e+09</td>\n",
       "      <td>3.177606e+09</td>\n",
       "      <td>8.290000e+03</td>\n",
       "    </tr>\n",
       "    <tr>\n",
       "      <th>max</th>\n",
       "      <td>4.293856e+09</td>\n",
       "      <td>4.283872e+09</td>\n",
       "      <td>1.294500e+06</td>\n",
       "    </tr>\n",
       "  </tbody>\n",
       "</table>\n",
       "</div>"
      ],
      "text/plain": [
       "       transactionId     visitorId       revenue\n",
       "count   1.197000e+03  1.197000e+03  1.197000e+03\n",
       "mean    2.155621e+09  2.165960e+09  8.348006e+03\n",
       "std     1.229085e+09  1.236014e+09  3.919113e+04\n",
       "min     1.062393e+06  5.114589e+06  5.000000e+01\n",
       "25%     1.166776e+09  1.111826e+09  1.220000e+03\n",
       "50%     2.145194e+09  2.217985e+09  2.978000e+03\n",
       "75%     3.237740e+09  3.177606e+09  8.290000e+03\n",
       "max     4.293856e+09  4.283872e+09  1.294500e+06"
      ]
     },
     "metadata": {},
     "output_type": "display_data"
    },
    {
     "data": {
      "text/plain": [
       "(None, None, None)"
      ]
     },
     "execution_count": 6,
     "metadata": {},
     "output_type": "execute_result"
    }
   ],
   "source": [
    "initial_analysis(orders)"
   ]
  },
  {
   "cell_type": "code",
   "execution_count": 7,
   "metadata": {},
   "outputs": [
    {
     "name": "stdout",
     "output_type": "stream",
     "text": [
      "<class 'pandas.core.frame.DataFrame'>\n",
      "RangeIndex: 62 entries, 0 to 61\n",
      "Data columns (total 3 columns):\n",
      " #   Column    Non-Null Count  Dtype \n",
      "---  ------    --------------  ----- \n",
      " 0   date      62 non-null     object\n",
      " 1   group     62 non-null     object\n",
      " 2   visitors  62 non-null     int64 \n",
      "dtypes: int64(1), object(2)\n",
      "memory usage: 1.6+ KB\n"
     ]
    },
    {
     "data": {
      "text/html": [
       "<div>\n",
       "<style scoped>\n",
       "    .dataframe tbody tr th:only-of-type {\n",
       "        vertical-align: middle;\n",
       "    }\n",
       "\n",
       "    .dataframe tbody tr th {\n",
       "        vertical-align: top;\n",
       "    }\n",
       "\n",
       "    .dataframe thead th {\n",
       "        text-align: right;\n",
       "    }\n",
       "</style>\n",
       "<table border=\"1\" class=\"dataframe\">\n",
       "  <thead>\n",
       "    <tr style=\"text-align: right;\">\n",
       "      <th></th>\n",
       "      <th>date</th>\n",
       "      <th>group</th>\n",
       "      <th>visitors</th>\n",
       "    </tr>\n",
       "  </thead>\n",
       "  <tbody>\n",
       "    <tr>\n",
       "      <th>0</th>\n",
       "      <td>2019-08-01</td>\n",
       "      <td>A</td>\n",
       "      <td>719</td>\n",
       "    </tr>\n",
       "    <tr>\n",
       "      <th>1</th>\n",
       "      <td>2019-08-02</td>\n",
       "      <td>A</td>\n",
       "      <td>619</td>\n",
       "    </tr>\n",
       "    <tr>\n",
       "      <th>2</th>\n",
       "      <td>2019-08-03</td>\n",
       "      <td>A</td>\n",
       "      <td>507</td>\n",
       "    </tr>\n",
       "    <tr>\n",
       "      <th>3</th>\n",
       "      <td>2019-08-04</td>\n",
       "      <td>A</td>\n",
       "      <td>717</td>\n",
       "    </tr>\n",
       "    <tr>\n",
       "      <th>4</th>\n",
       "      <td>2019-08-05</td>\n",
       "      <td>A</td>\n",
       "      <td>756</td>\n",
       "    </tr>\n",
       "    <tr>\n",
       "      <th>5</th>\n",
       "      <td>2019-08-06</td>\n",
       "      <td>A</td>\n",
       "      <td>667</td>\n",
       "    </tr>\n",
       "    <tr>\n",
       "      <th>6</th>\n",
       "      <td>2019-08-07</td>\n",
       "      <td>A</td>\n",
       "      <td>644</td>\n",
       "    </tr>\n",
       "    <tr>\n",
       "      <th>7</th>\n",
       "      <td>2019-08-08</td>\n",
       "      <td>A</td>\n",
       "      <td>610</td>\n",
       "    </tr>\n",
       "    <tr>\n",
       "      <th>8</th>\n",
       "      <td>2019-08-09</td>\n",
       "      <td>A</td>\n",
       "      <td>617</td>\n",
       "    </tr>\n",
       "    <tr>\n",
       "      <th>9</th>\n",
       "      <td>2019-08-10</td>\n",
       "      <td>A</td>\n",
       "      <td>406</td>\n",
       "    </tr>\n",
       "  </tbody>\n",
       "</table>\n",
       "</div>"
      ],
      "text/plain": [
       "         date group  visitors\n",
       "0  2019-08-01     A       719\n",
       "1  2019-08-02     A       619\n",
       "2  2019-08-03     A       507\n",
       "3  2019-08-04     A       717\n",
       "4  2019-08-05     A       756\n",
       "5  2019-08-06     A       667\n",
       "6  2019-08-07     A       644\n",
       "7  2019-08-08     A       610\n",
       "8  2019-08-09     A       617\n",
       "9  2019-08-10     A       406"
      ]
     },
     "metadata": {},
     "output_type": "display_data"
    },
    {
     "data": {
      "text/html": [
       "<div>\n",
       "<style scoped>\n",
       "    .dataframe tbody tr th:only-of-type {\n",
       "        vertical-align: middle;\n",
       "    }\n",
       "\n",
       "    .dataframe tbody tr th {\n",
       "        vertical-align: top;\n",
       "    }\n",
       "\n",
       "    .dataframe thead th {\n",
       "        text-align: right;\n",
       "    }\n",
       "</style>\n",
       "<table border=\"1\" class=\"dataframe\">\n",
       "  <thead>\n",
       "    <tr style=\"text-align: right;\">\n",
       "      <th></th>\n",
       "      <th>visitors</th>\n",
       "    </tr>\n",
       "  </thead>\n",
       "  <tbody>\n",
       "    <tr>\n",
       "      <th>count</th>\n",
       "      <td>62.000000</td>\n",
       "    </tr>\n",
       "    <tr>\n",
       "      <th>mean</th>\n",
       "      <td>607.290323</td>\n",
       "    </tr>\n",
       "    <tr>\n",
       "      <th>std</th>\n",
       "      <td>114.400560</td>\n",
       "    </tr>\n",
       "    <tr>\n",
       "      <th>min</th>\n",
       "      <td>361.000000</td>\n",
       "    </tr>\n",
       "    <tr>\n",
       "      <th>25%</th>\n",
       "      <td>534.000000</td>\n",
       "    </tr>\n",
       "    <tr>\n",
       "      <th>50%</th>\n",
       "      <td>624.500000</td>\n",
       "    </tr>\n",
       "    <tr>\n",
       "      <th>75%</th>\n",
       "      <td>710.500000</td>\n",
       "    </tr>\n",
       "    <tr>\n",
       "      <th>max</th>\n",
       "      <td>770.000000</td>\n",
       "    </tr>\n",
       "  </tbody>\n",
       "</table>\n",
       "</div>"
      ],
      "text/plain": [
       "         visitors\n",
       "count   62.000000\n",
       "mean   607.290323\n",
       "std    114.400560\n",
       "min    361.000000\n",
       "25%    534.000000\n",
       "50%    624.500000\n",
       "75%    710.500000\n",
       "max    770.000000"
      ]
     },
     "metadata": {},
     "output_type": "display_data"
    },
    {
     "data": {
      "text/plain": [
       "(None, None, None)"
      ]
     },
     "execution_count": 7,
     "metadata": {},
     "output_type": "execute_result"
    }
   ],
   "source": [
    "initial_analysis(visitors)"
   ]
  },
  {
   "cell_type": "code",
   "execution_count": 8,
   "metadata": {
    "scrolled": true
   },
   "outputs": [
    {
     "data": {
      "text/plain": [
       "B    640\n",
       "A    557\n",
       "Name: group, dtype: int64"
      ]
     },
     "execution_count": 8,
     "metadata": {},
     "output_type": "execute_result"
    }
   ],
   "source": [
    "orders['group'].value_counts()"
   ]
  },
  {
   "cell_type": "code",
   "execution_count": 9,
   "metadata": {},
   "outputs": [
    {
     "data": {
      "text/plain": [
       "A    31\n",
       "B    31\n",
       "Name: group, dtype: int64"
      ]
     },
     "execution_count": 9,
     "metadata": {},
     "output_type": "execute_result"
    }
   ],
   "source": [
    "visitors['group'].value_counts()"
   ]
  },
  {
   "cell_type": "code",
   "execution_count": 10,
   "metadata": {},
   "outputs": [],
   "source": [
    "# преобразование данных о времени\n",
    "visitors['date'] = pd.to_datetime(visitors['date'])\n",
    "orders['date'] = pd.to_datetime(orders['date'])"
   ]
  },
  {
   "cell_type": "code",
   "execution_count": 11,
   "metadata": {},
   "outputs": [
    {
     "data": {
      "text/plain": [
       "0"
      ]
     },
     "metadata": {},
     "output_type": "display_data"
    },
    {
     "data": {
      "text/plain": [
       "0"
      ]
     },
     "metadata": {},
     "output_type": "display_data"
    }
   ],
   "source": [
    "# проверяем наличие дубликатов\n",
    "display(orders.duplicated().sum())\n",
    "display(visitors.duplicated().sum())"
   ]
  },
  {
   "cell_type": "markdown",
   "metadata": {},
   "source": [
    "Проверим исходные данные теста на наличие ошибок."
   ]
  },
  {
   "cell_type": "code",
   "execution_count": 12,
   "metadata": {
    "scrolled": true
   },
   "outputs": [
    {
     "data": {
      "text/plain": [
       "1031"
      ]
     },
     "execution_count": 12,
     "metadata": {},
     "output_type": "execute_result"
    }
   ],
   "source": [
    "# посчитаем количество уникальных пользователей\n",
    "orders['visitorId'].nunique()"
   ]
  },
  {
   "cell_type": "markdown",
   "metadata": {},
   "source": [
    "Всего 1031 уникальный пользователь"
   ]
  },
  {
   "cell_type": "code",
   "execution_count": 13,
   "metadata": {
    "scrolled": false
   },
   "outputs": [
    {
     "data": {
      "text/html": [
       "<div>\n",
       "<style scoped>\n",
       "    .dataframe tbody tr th:only-of-type {\n",
       "        vertical-align: middle;\n",
       "    }\n",
       "\n",
       "    .dataframe tbody tr th {\n",
       "        vertical-align: top;\n",
       "    }\n",
       "\n",
       "    .dataframe thead th {\n",
       "        text-align: right;\n",
       "    }\n",
       "</style>\n",
       "<table border=\"1\" class=\"dataframe\">\n",
       "  <thead>\n",
       "    <tr style=\"text-align: right;\">\n",
       "      <th></th>\n",
       "      <th>visitorId</th>\n",
       "    </tr>\n",
       "    <tr>\n",
       "      <th>group</th>\n",
       "      <th></th>\n",
       "    </tr>\n",
       "  </thead>\n",
       "  <tbody>\n",
       "    <tr>\n",
       "      <th>A</th>\n",
       "      <td>503</td>\n",
       "    </tr>\n",
       "    <tr>\n",
       "      <th>B</th>\n",
       "      <td>586</td>\n",
       "    </tr>\n",
       "  </tbody>\n",
       "</table>\n",
       "</div>"
      ],
      "text/plain": [
       "       visitorId\n",
       "group           \n",
       "A            503\n",
       "B            586"
      ]
     },
     "execution_count": 13,
     "metadata": {},
     "output_type": "execute_result"
    }
   ],
   "source": [
    "# посчитаем количество уникальных пользователей в группах\n",
    "orders.groupby('group').agg({'visitorId': pd.Series.nunique})"
   ]
  },
  {
   "cell_type": "markdown",
   "metadata": {},
   "source": [
    "А вот если разбить по группам, пользователей становится больше - 1089. Видимо, какие-то пользователи затесались в обе группы."
   ]
  },
  {
   "cell_type": "code",
   "execution_count": 14,
   "metadata": {
    "scrolled": false
   },
   "outputs": [
    {
     "data": {
      "text/plain": [
       "58"
      ]
     },
     "execution_count": 14,
     "metadata": {},
     "output_type": "execute_result"
    }
   ],
   "source": [
    "# найдем пользователей, попавших в обе группы\n",
    "bad_visitors = orders.groupby('visitorId').agg({'group': [min, max]}).reset_index().drop_duplicates()\n",
    "bad_visitors.columns = ['visitorId', 'min', 'max']\n",
    "bad_visitors = bad_visitors.query('min != max')['visitorId']\n",
    "bad_visitors.count()"
   ]
  },
  {
   "cell_type": "code",
   "execution_count": 15,
   "metadata": {},
   "outputs": [],
   "source": [
    "# удалим пересекающихся пользователей\n",
    "orders = orders.query('visitorId not in @bad_visitors')"
   ]
  },
  {
   "cell_type": "code",
   "execution_count": 16,
   "metadata": {
    "scrolled": true
   },
   "outputs": [
    {
     "data": {
      "text/html": [
       "<div>\n",
       "<style scoped>\n",
       "    .dataframe tbody tr th:only-of-type {\n",
       "        vertical-align: middle;\n",
       "    }\n",
       "\n",
       "    .dataframe tbody tr th {\n",
       "        vertical-align: top;\n",
       "    }\n",
       "\n",
       "    .dataframe thead th {\n",
       "        text-align: right;\n",
       "    }\n",
       "</style>\n",
       "<table border=\"1\" class=\"dataframe\">\n",
       "  <thead>\n",
       "    <tr style=\"text-align: right;\">\n",
       "      <th></th>\n",
       "      <th>visitorId</th>\n",
       "    </tr>\n",
       "    <tr>\n",
       "      <th>group</th>\n",
       "      <th></th>\n",
       "    </tr>\n",
       "  </thead>\n",
       "  <tbody>\n",
       "    <tr>\n",
       "      <th>A</th>\n",
       "      <td>445</td>\n",
       "    </tr>\n",
       "    <tr>\n",
       "      <th>B</th>\n",
       "      <td>528</td>\n",
       "    </tr>\n",
       "  </tbody>\n",
       "</table>\n",
       "</div>"
      ],
      "text/plain": [
       "       visitorId\n",
       "group           \n",
       "A            445\n",
       "B            528"
      ]
     },
     "execution_count": 16,
     "metadata": {},
     "output_type": "execute_result"
    }
   ],
   "source": [
    "# посчитаем количество уникальных пользователей, без попавших в обе группы\n",
    "orders.groupby('group').agg({'visitorId': pd.Series.nunique})"
   ]
  },
  {
   "cell_type": "markdown",
   "metadata": {},
   "source": [
    "Общее число уникальных пользователей сократилось, теперь их 973. Соотношение при этом не поменялось, 46 и 54 % в группах A и B соответственно. Относительное различие количества пользователей будет равно 1-46/54=0.15 — 15%."
   ]
  },
  {
   "cell_type": "markdown",
   "metadata": {},
   "source": [
    "## Приоритизация гипотез\n",
    "\n",
    "В файле /datasets/hypothesis.csv 9 гипотез по увеличению выручки интернет-магазина с указанными параметрами Reach, Impact, Confidence, Effort.\n",
    "\n",
    "\n",
    "Задача\n",
    "- Применить фреймворк ICE для приоритизации гипотез.\n",
    "- Применить фреймворк RICE для приоритизации гипотез. \n",
    "- Выяснить, как изменилась приоритизация гипотез при применении RICE вместо ICE."
   ]
  },
  {
   "cell_type": "markdown",
   "metadata": {},
   "source": [
    "Формулы для расчета:\n",
    "\n",
    "$$ICE = \\frac{Impact * Confidence}{Efforts}$$\n",
    "\n",
    "$$RICE = \\frac{Rearch * Impact * Confidence}{Efforts}$$\n"
   ]
  },
  {
   "cell_type": "markdown",
   "metadata": {},
   "source": [
    "### Фреймворк ICE"
   ]
  },
  {
   "cell_type": "code",
   "execution_count": 17,
   "metadata": {},
   "outputs": [
    {
     "data": {
      "text/html": [
       "<div>\n",
       "<style scoped>\n",
       "    .dataframe tbody tr th:only-of-type {\n",
       "        vertical-align: middle;\n",
       "    }\n",
       "\n",
       "    .dataframe tbody tr th {\n",
       "        vertical-align: top;\n",
       "    }\n",
       "\n",
       "    .dataframe thead th {\n",
       "        text-align: right;\n",
       "    }\n",
       "</style>\n",
       "<table border=\"1\" class=\"dataframe\">\n",
       "  <thead>\n",
       "    <tr style=\"text-align: right;\">\n",
       "      <th></th>\n",
       "      <th>Hypothesis</th>\n",
       "      <th>ICE</th>\n",
       "    </tr>\n",
       "  </thead>\n",
       "  <tbody>\n",
       "    <tr>\n",
       "      <th>8</th>\n",
       "      <td>Запустить акцию, дающую скидку на товар в день рождения</td>\n",
       "      <td>16.200000</td>\n",
       "    </tr>\n",
       "    <tr>\n",
       "      <th>0</th>\n",
       "      <td>Добавить два новых канала привлечения трафика, что позволит привлекать на 30% больше пользователей</td>\n",
       "      <td>13.333333</td>\n",
       "    </tr>\n",
       "    <tr>\n",
       "      <th>7</th>\n",
       "      <td>Добавить форму подписки на все основные страницы, чтобы собрать базу клиентов для email-рассылок</td>\n",
       "      <td>11.200000</td>\n",
       "    </tr>\n",
       "    <tr>\n",
       "      <th>6</th>\n",
       "      <td>Показать на главной странице баннеры с актуальными акциями и распродажами, чтобы увеличить конверсию</td>\n",
       "      <td>8.000000</td>\n",
       "    </tr>\n",
       "    <tr>\n",
       "      <th>2</th>\n",
       "      <td>Добавить блоки рекомендаций товаров на сайт интернет магазина, чтобы повысить конверсию и средний чек заказа</td>\n",
       "      <td>7.000000</td>\n",
       "    </tr>\n",
       "    <tr>\n",
       "      <th>1</th>\n",
       "      <td>Запустить собственную службу доставки, что сократит срок доставки заказов</td>\n",
       "      <td>2.000000</td>\n",
       "    </tr>\n",
       "    <tr>\n",
       "      <th>5</th>\n",
       "      <td>Добавить страницу отзывов клиентов о магазине, что позволит увеличить количество заказов</td>\n",
       "      <td>1.333333</td>\n",
       "    </tr>\n",
       "    <tr>\n",
       "      <th>3</th>\n",
       "      <td>Изменить структура категорий, что увеличит конверсию, т.к. пользователи быстрее найдут нужный товар</td>\n",
       "      <td>1.125000</td>\n",
       "    </tr>\n",
       "    <tr>\n",
       "      <th>4</th>\n",
       "      <td>Изменить цвет фона главной страницы, чтобы увеличить вовлеченность пользователей</td>\n",
       "      <td>1.000000</td>\n",
       "    </tr>\n",
       "  </tbody>\n",
       "</table>\n",
       "</div>"
      ],
      "text/plain": [
       "                                                                                                     Hypothesis  \\\n",
       "8                                                       Запустить акцию, дающую скидку на товар в день рождения   \n",
       "0            Добавить два новых канала привлечения трафика, что позволит привлекать на 30% больше пользователей   \n",
       "7              Добавить форму подписки на все основные страницы, чтобы собрать базу клиентов для email-рассылок   \n",
       "6          Показать на главной странице баннеры с актуальными акциями и распродажами, чтобы увеличить конверсию   \n",
       "2  Добавить блоки рекомендаций товаров на сайт интернет магазина, чтобы повысить конверсию и средний чек заказа   \n",
       "1                                     Запустить собственную службу доставки, что сократит срок доставки заказов   \n",
       "5                      Добавить страницу отзывов клиентов о магазине, что позволит увеличить количество заказов   \n",
       "3           Изменить структура категорий, что увеличит конверсию, т.к. пользователи быстрее найдут нужный товар   \n",
       "4                              Изменить цвет фона главной страницы, чтобы увеличить вовлеченность пользователей   \n",
       "\n",
       "         ICE  \n",
       "8  16.200000  \n",
       "0  13.333333  \n",
       "7  11.200000  \n",
       "6   8.000000  \n",
       "2   7.000000  \n",
       "1   2.000000  \n",
       "5   1.333333  \n",
       "3   1.125000  \n",
       "4   1.000000  "
      ]
     },
     "execution_count": 17,
     "metadata": {},
     "output_type": "execute_result"
    }
   ],
   "source": [
    "hypothesis['ICE'] = hypothesis['Impact'] * hypothesis['Confidence'] / hypothesis['Efforts']\n",
    "\n",
    "hypothesis[['Hypothesis', 'ICE']].sort_values(by='ICE', ascending=False)"
   ]
  },
  {
   "cell_type": "markdown",
   "metadata": {},
   "source": [
    "### Фреймворк RICE"
   ]
  },
  {
   "cell_type": "code",
   "execution_count": 18,
   "metadata": {
    "scrolled": true
   },
   "outputs": [
    {
     "data": {
      "text/html": [
       "<div>\n",
       "<style scoped>\n",
       "    .dataframe tbody tr th:only-of-type {\n",
       "        vertical-align: middle;\n",
       "    }\n",
       "\n",
       "    .dataframe tbody tr th {\n",
       "        vertical-align: top;\n",
       "    }\n",
       "\n",
       "    .dataframe thead th {\n",
       "        text-align: right;\n",
       "    }\n",
       "</style>\n",
       "<table border=\"1\" class=\"dataframe\">\n",
       "  <thead>\n",
       "    <tr style=\"text-align: right;\">\n",
       "      <th></th>\n",
       "      <th>Hypothesis</th>\n",
       "      <th>RICE</th>\n",
       "    </tr>\n",
       "  </thead>\n",
       "  <tbody>\n",
       "    <tr>\n",
       "      <th>7</th>\n",
       "      <td>Добавить форму подписки на все основные страницы, чтобы собрать базу клиентов для email-рассылок</td>\n",
       "      <td>112.0</td>\n",
       "    </tr>\n",
       "    <tr>\n",
       "      <th>2</th>\n",
       "      <td>Добавить блоки рекомендаций товаров на сайт интернет магазина, чтобы повысить конверсию и средний чек заказа</td>\n",
       "      <td>56.0</td>\n",
       "    </tr>\n",
       "    <tr>\n",
       "      <th>0</th>\n",
       "      <td>Добавить два новых канала привлечения трафика, что позволит привлекать на 30% больше пользователей</td>\n",
       "      <td>40.0</td>\n",
       "    </tr>\n",
       "    <tr>\n",
       "      <th>6</th>\n",
       "      <td>Показать на главной странице баннеры с актуальными акциями и распродажами, чтобы увеличить конверсию</td>\n",
       "      <td>40.0</td>\n",
       "    </tr>\n",
       "    <tr>\n",
       "      <th>8</th>\n",
       "      <td>Запустить акцию, дающую скидку на товар в день рождения</td>\n",
       "      <td>16.2</td>\n",
       "    </tr>\n",
       "    <tr>\n",
       "      <th>3</th>\n",
       "      <td>Изменить структура категорий, что увеличит конверсию, т.к. пользователи быстрее найдут нужный товар</td>\n",
       "      <td>9.0</td>\n",
       "    </tr>\n",
       "    <tr>\n",
       "      <th>1</th>\n",
       "      <td>Запустить собственную службу доставки, что сократит срок доставки заказов</td>\n",
       "      <td>4.0</td>\n",
       "    </tr>\n",
       "    <tr>\n",
       "      <th>5</th>\n",
       "      <td>Добавить страницу отзывов клиентов о магазине, что позволит увеличить количество заказов</td>\n",
       "      <td>4.0</td>\n",
       "    </tr>\n",
       "    <tr>\n",
       "      <th>4</th>\n",
       "      <td>Изменить цвет фона главной страницы, чтобы увеличить вовлеченность пользователей</td>\n",
       "      <td>3.0</td>\n",
       "    </tr>\n",
       "  </tbody>\n",
       "</table>\n",
       "</div>"
      ],
      "text/plain": [
       "                                                                                                     Hypothesis  \\\n",
       "7              Добавить форму подписки на все основные страницы, чтобы собрать базу клиентов для email-рассылок   \n",
       "2  Добавить блоки рекомендаций товаров на сайт интернет магазина, чтобы повысить конверсию и средний чек заказа   \n",
       "0            Добавить два новых канала привлечения трафика, что позволит привлекать на 30% больше пользователей   \n",
       "6          Показать на главной странице баннеры с актуальными акциями и распродажами, чтобы увеличить конверсию   \n",
       "8                                                       Запустить акцию, дающую скидку на товар в день рождения   \n",
       "3           Изменить структура категорий, что увеличит конверсию, т.к. пользователи быстрее найдут нужный товар   \n",
       "1                                     Запустить собственную службу доставки, что сократит срок доставки заказов   \n",
       "5                      Добавить страницу отзывов клиентов о магазине, что позволит увеличить количество заказов   \n",
       "4                              Изменить цвет фона главной страницы, чтобы увеличить вовлеченность пользователей   \n",
       "\n",
       "    RICE  \n",
       "7  112.0  \n",
       "2   56.0  \n",
       "0   40.0  \n",
       "6   40.0  \n",
       "8   16.2  \n",
       "3    9.0  \n",
       "1    4.0  \n",
       "5    4.0  \n",
       "4    3.0  "
      ]
     },
     "execution_count": 18,
     "metadata": {},
     "output_type": "execute_result"
    }
   ],
   "source": [
    "hypothesis['RICE'] = hypothesis['Reach'] * hypothesis['Impact'] * hypothesis['Confidence'] / hypothesis['Efforts']\n",
    "\n",
    "hypothesis[['Hypothesis', 'RICE']].sort_values(by='RICE', ascending=False)"
   ]
  },
  {
   "cell_type": "markdown",
   "metadata": {},
   "source": [
    "Сравним показатели RICE и ICE"
   ]
  },
  {
   "cell_type": "code",
   "execution_count": 19,
   "metadata": {
    "scrolled": false
   },
   "outputs": [
    {
     "data": {
      "text/html": [
       "<style  type=\"text/css\" >\n",
       "#T_5d528_row0_col5{\n",
       "            background-color:  #e65239;\n",
       "            color:  #000000;\n",
       "        }#T_5d528_row0_col6,#T_5d528_row4_col5{\n",
       "            background-color:  #7f0000;\n",
       "            color:  #f1f1f1;\n",
       "        }#T_5d528_row1_col5{\n",
       "            background-color:  #fdb37d;\n",
       "            color:  #000000;\n",
       "        }#T_5d528_row1_col6{\n",
       "            background-color:  #fc925e;\n",
       "            color:  #000000;\n",
       "        }#T_5d528_row2_col5{\n",
       "            background-color:  #c51810;\n",
       "            color:  #f1f1f1;\n",
       "        }#T_5d528_row2_col6,#T_5d528_row3_col6{\n",
       "            background-color:  #fdc38c;\n",
       "            color:  #000000;\n",
       "        }#T_5d528_row3_col5{\n",
       "            background-color:  #fc9c67;\n",
       "            color:  #000000;\n",
       "        }#T_5d528_row4_col6{\n",
       "            background-color:  #fee8c9;\n",
       "            color:  #000000;\n",
       "        }#T_5d528_row5_col5,#T_5d528_row6_col6,#T_5d528_row7_col6{\n",
       "            background-color:  #fff6ea;\n",
       "            color:  #000000;\n",
       "        }#T_5d528_row5_col6{\n",
       "            background-color:  #fff0dc;\n",
       "            color:  #000000;\n",
       "        }#T_5d528_row6_col5{\n",
       "            background-color:  #feefda;\n",
       "            color:  #000000;\n",
       "        }#T_5d528_row7_col5{\n",
       "            background-color:  #fff5e6;\n",
       "            color:  #000000;\n",
       "        }#T_5d528_row8_col5,#T_5d528_row8_col6{\n",
       "            background-color:  #fff7ec;\n",
       "            color:  #000000;\n",
       "        }</style><table id=\"T_5d528_\" ><thead>    <tr>        <th class=\"blank level0\" ></th>        <th class=\"col_heading level0 col0\" >Hypothesis</th>        <th class=\"col_heading level0 col1\" >Reach</th>        <th class=\"col_heading level0 col2\" >Impact</th>        <th class=\"col_heading level0 col3\" >Confidence</th>        <th class=\"col_heading level0 col4\" >Efforts</th>        <th class=\"col_heading level0 col5\" >ICE</th>        <th class=\"col_heading level0 col6\" >RICE</th>    </tr></thead><tbody>\n",
       "                <tr>\n",
       "                        <th id=\"T_5d528_level0_row0\" class=\"row_heading level0 row0\" >7</th>\n",
       "                        <td id=\"T_5d528_row0_col0\" class=\"data row0 col0\" >Добавить форму подписки на все основные страницы, чтобы собрать базу клиентов для email-рассылок</td>\n",
       "                        <td id=\"T_5d528_row0_col1\" class=\"data row0 col1\" >10</td>\n",
       "                        <td id=\"T_5d528_row0_col2\" class=\"data row0 col2\" >7</td>\n",
       "                        <td id=\"T_5d528_row0_col3\" class=\"data row0 col3\" >8</td>\n",
       "                        <td id=\"T_5d528_row0_col4\" class=\"data row0 col4\" >5</td>\n",
       "                        <td id=\"T_5d528_row0_col5\" class=\"data row0 col5\" >11</td>\n",
       "                        <td id=\"T_5d528_row0_col6\" class=\"data row0 col6\" >112</td>\n",
       "            </tr>\n",
       "            <tr>\n",
       "                        <th id=\"T_5d528_level0_row1\" class=\"row_heading level0 row1\" >2</th>\n",
       "                        <td id=\"T_5d528_row1_col0\" class=\"data row1 col0\" >Добавить блоки рекомендаций товаров на сайт интернет магазина, чтобы повысить конверсию и средний чек заказа</td>\n",
       "                        <td id=\"T_5d528_row1_col1\" class=\"data row1 col1\" >8</td>\n",
       "                        <td id=\"T_5d528_row1_col2\" class=\"data row1 col2\" >3</td>\n",
       "                        <td id=\"T_5d528_row1_col3\" class=\"data row1 col3\" >7</td>\n",
       "                        <td id=\"T_5d528_row1_col4\" class=\"data row1 col4\" >3</td>\n",
       "                        <td id=\"T_5d528_row1_col5\" class=\"data row1 col5\" >7</td>\n",
       "                        <td id=\"T_5d528_row1_col6\" class=\"data row1 col6\" >56</td>\n",
       "            </tr>\n",
       "            <tr>\n",
       "                        <th id=\"T_5d528_level0_row2\" class=\"row_heading level0 row2\" >0</th>\n",
       "                        <td id=\"T_5d528_row2_col0\" class=\"data row2 col0\" >Добавить два новых канала привлечения трафика, что позволит привлекать на 30% больше пользователей</td>\n",
       "                        <td id=\"T_5d528_row2_col1\" class=\"data row2 col1\" >3</td>\n",
       "                        <td id=\"T_5d528_row2_col2\" class=\"data row2 col2\" >10</td>\n",
       "                        <td id=\"T_5d528_row2_col3\" class=\"data row2 col3\" >8</td>\n",
       "                        <td id=\"T_5d528_row2_col4\" class=\"data row2 col4\" >6</td>\n",
       "                        <td id=\"T_5d528_row2_col5\" class=\"data row2 col5\" >13</td>\n",
       "                        <td id=\"T_5d528_row2_col6\" class=\"data row2 col6\" >40</td>\n",
       "            </tr>\n",
       "            <tr>\n",
       "                        <th id=\"T_5d528_level0_row3\" class=\"row_heading level0 row3\" >6</th>\n",
       "                        <td id=\"T_5d528_row3_col0\" class=\"data row3 col0\" >Показать на главной странице баннеры с актуальными акциями и распродажами, чтобы увеличить конверсию</td>\n",
       "                        <td id=\"T_5d528_row3_col1\" class=\"data row3 col1\" >5</td>\n",
       "                        <td id=\"T_5d528_row3_col2\" class=\"data row3 col2\" >3</td>\n",
       "                        <td id=\"T_5d528_row3_col3\" class=\"data row3 col3\" >8</td>\n",
       "                        <td id=\"T_5d528_row3_col4\" class=\"data row3 col4\" >3</td>\n",
       "                        <td id=\"T_5d528_row3_col5\" class=\"data row3 col5\" >8</td>\n",
       "                        <td id=\"T_5d528_row3_col6\" class=\"data row3 col6\" >40</td>\n",
       "            </tr>\n",
       "            <tr>\n",
       "                        <th id=\"T_5d528_level0_row4\" class=\"row_heading level0 row4\" >8</th>\n",
       "                        <td id=\"T_5d528_row4_col0\" class=\"data row4 col0\" >Запустить акцию, дающую скидку на товар в день рождения</td>\n",
       "                        <td id=\"T_5d528_row4_col1\" class=\"data row4 col1\" >1</td>\n",
       "                        <td id=\"T_5d528_row4_col2\" class=\"data row4 col2\" >9</td>\n",
       "                        <td id=\"T_5d528_row4_col3\" class=\"data row4 col3\" >9</td>\n",
       "                        <td id=\"T_5d528_row4_col4\" class=\"data row4 col4\" >5</td>\n",
       "                        <td id=\"T_5d528_row4_col5\" class=\"data row4 col5\" >16</td>\n",
       "                        <td id=\"T_5d528_row4_col6\" class=\"data row4 col6\" >16</td>\n",
       "            </tr>\n",
       "            <tr>\n",
       "                        <th id=\"T_5d528_level0_row5\" class=\"row_heading level0 row5\" >3</th>\n",
       "                        <td id=\"T_5d528_row5_col0\" class=\"data row5 col0\" >Изменить структура категорий, что увеличит конверсию, т.к. пользователи быстрее найдут нужный товар</td>\n",
       "                        <td id=\"T_5d528_row5_col1\" class=\"data row5 col1\" >8</td>\n",
       "                        <td id=\"T_5d528_row5_col2\" class=\"data row5 col2\" >3</td>\n",
       "                        <td id=\"T_5d528_row5_col3\" class=\"data row5 col3\" >3</td>\n",
       "                        <td id=\"T_5d528_row5_col4\" class=\"data row5 col4\" >8</td>\n",
       "                        <td id=\"T_5d528_row5_col5\" class=\"data row5 col5\" >1</td>\n",
       "                        <td id=\"T_5d528_row5_col6\" class=\"data row5 col6\" >9</td>\n",
       "            </tr>\n",
       "            <tr>\n",
       "                        <th id=\"T_5d528_level0_row6\" class=\"row_heading level0 row6\" >1</th>\n",
       "                        <td id=\"T_5d528_row6_col0\" class=\"data row6 col0\" >Запустить собственную службу доставки, что сократит срок доставки заказов</td>\n",
       "                        <td id=\"T_5d528_row6_col1\" class=\"data row6 col1\" >2</td>\n",
       "                        <td id=\"T_5d528_row6_col2\" class=\"data row6 col2\" >5</td>\n",
       "                        <td id=\"T_5d528_row6_col3\" class=\"data row6 col3\" >4</td>\n",
       "                        <td id=\"T_5d528_row6_col4\" class=\"data row6 col4\" >10</td>\n",
       "                        <td id=\"T_5d528_row6_col5\" class=\"data row6 col5\" >2</td>\n",
       "                        <td id=\"T_5d528_row6_col6\" class=\"data row6 col6\" >4</td>\n",
       "            </tr>\n",
       "            <tr>\n",
       "                        <th id=\"T_5d528_level0_row7\" class=\"row_heading level0 row7\" >5</th>\n",
       "                        <td id=\"T_5d528_row7_col0\" class=\"data row7 col0\" >Добавить страницу отзывов клиентов о магазине, что позволит увеличить количество заказов</td>\n",
       "                        <td id=\"T_5d528_row7_col1\" class=\"data row7 col1\" >3</td>\n",
       "                        <td id=\"T_5d528_row7_col2\" class=\"data row7 col2\" >2</td>\n",
       "                        <td id=\"T_5d528_row7_col3\" class=\"data row7 col3\" >2</td>\n",
       "                        <td id=\"T_5d528_row7_col4\" class=\"data row7 col4\" >3</td>\n",
       "                        <td id=\"T_5d528_row7_col5\" class=\"data row7 col5\" >1</td>\n",
       "                        <td id=\"T_5d528_row7_col6\" class=\"data row7 col6\" >4</td>\n",
       "            </tr>\n",
       "            <tr>\n",
       "                        <th id=\"T_5d528_level0_row8\" class=\"row_heading level0 row8\" >4</th>\n",
       "                        <td id=\"T_5d528_row8_col0\" class=\"data row8 col0\" >Изменить цвет фона главной страницы, чтобы увеличить вовлеченность пользователей</td>\n",
       "                        <td id=\"T_5d528_row8_col1\" class=\"data row8 col1\" >3</td>\n",
       "                        <td id=\"T_5d528_row8_col2\" class=\"data row8 col2\" >1</td>\n",
       "                        <td id=\"T_5d528_row8_col3\" class=\"data row8 col3\" >1</td>\n",
       "                        <td id=\"T_5d528_row8_col4\" class=\"data row8 col4\" >1</td>\n",
       "                        <td id=\"T_5d528_row8_col5\" class=\"data row8 col5\" >1</td>\n",
       "                        <td id=\"T_5d528_row8_col6\" class=\"data row8 col6\" >3</td>\n",
       "            </tr>\n",
       "    </tbody></table>"
      ],
      "text/plain": [
       "<pandas.io.formats.style.Styler at 0x7fea0b04e4c0>"
      ]
     },
     "execution_count": 19,
     "metadata": {},
     "output_type": "execute_result"
    }
   ],
   "source": [
    "format_dict = {'RICE':'{0:.0f}', 'ICE': '{0:.0f}'}\n",
    "(hypothesis.sort_values(by=['RICE', 'ICE'], ascending=False).style\n",
    " .format(format_dict)\n",
    " .background_gradient(subset=['RICE', 'ICE'], cmap='OrRd'))"
   ]
  },
  {
   "cell_type": "markdown",
   "metadata": {},
   "source": [
    "Построим слоупграф"
   ]
  },
  {
   "cell_type": "code",
   "execution_count": 20,
   "metadata": {
    "scrolled": false
   },
   "outputs": [
    {
     "data": {
      "image/png": "[encoded data removed]",
      "text/plain": [
       "<Figure size 720x720 with 1 Axes>"
      ]
     },
     "metadata": {
      "needs_background": "light"
     },
     "output_type": "display_data"
    }
   ],
   "source": [
    "ICE = hypothesis.loc[:, ['Hypothesis', 'ICE']]\n",
    "ICE['FW'] = 'ICE'\n",
    "ICE = ICE.rename(columns = {'ICE': 'Value'})\n",
    "\n",
    "RICE = hypothesis.loc[:, ['Hypothesis', 'RICE']]\n",
    "RICE['FW'] = 'RICE'\n",
    "RICE = RICE.rename(columns = {'RICE': 'Value'})\n",
    "\n",
    "df = pd.concat([ICE, RICE])\n",
    "\n",
    "hypothesis_names = df.sort_values(by=['FW', 'Value'], ascending=[True, False])['Hypothesis'].head(5)\n",
    "\n",
    "fig, ax = plt.subplots(1, figsize=(10,10))\n",
    "\n",
    "for i in hypothesis_names:\n",
    "    temp = df[df['Hypothesis'] == i]\n",
    "    plt.plot(temp.FW, temp.Value)\n",
    "    \n",
    "    plt.text(temp.FW.values[0], \n",
    "             temp.Value.values[0], \n",
    "             '{:,.0f}'.format(temp.Value.values[0]),  ha='right')\n",
    "    \n",
    "    plt.text(temp.FW.values[1], \n",
    "             temp.Value.values[1], \n",
    "             '{:,.0f}'.format(temp.Value.values[1]), va='center', ha='left')\n",
    "    \n",
    "yticks = plt.yticks()[0]\n",
    "plt.yticks([])\n",
    "\n",
    "ax.xaxis.grid(color='black', linestyle='solid', which='both', alpha=0.9)\n",
    "\n",
    "ax.spines['right'].set_visible(False)\n",
    "ax.spines['left'].set_visible(False)\n",
    "ax.spines['bottom'].set_visible(False)\n",
    "ax.spines['top'].set_visible(False)\n",
    "\n",
    "labels = [fill(l, 30) for l in hypothesis_names]\n",
    "plt.legend(labels, loc='upper left', bbox_to_anchor=(1, 1), frameon=False)\n",
    "plt.show()"
   ]
  },
  {
   "cell_type": "markdown",
   "metadata": {},
   "source": [
    "**Выводы**\n",
    "\n",
    "По фреймворку ICE можно выделить 3 гипотезы с самой высокой оценкой:\n",
    "- Запустить акцию, дающую скидку на товар в день рождения;\n",
    "- Добавить два новых канала привлечения трафика, что позволит привлекать на 30% больше пользователей;\n",
    "- Добавить форму подписки на все основные страницы, чтобы собрать базу клиентов для email-рассылок.\n",
    "\n",
    "По фреймворку RICE можно выделить одну гипотезу, оценка которой почти в два раза превосходит остальные:\n",
    "\n",
    "- Добавить форму подписки на все основные страницы, чтобы собрать базу клиентов для email-рассылок.\n",
    "\n",
    "Две наиболее приоритетные гипотезы по ICE, уступили другой гипотезе в фреймворке RICE. Это можно объяснить влиянием параметра Reach - охват пользователей. Акция со скидкой на день рождения охватит лишь небольшую часть пользвателей, чей день рождения попал в период проведения акции, поэтому параметр Reach низкий. Привлечение дополнительных 30 % пользователей дает соответственно 3 балла по параметру Reach, что также немного. А вот создание базы клиентов для рассылки охватит почти всех пользователей - 10 баллов Reach.\n",
    "\n",
    "Полученные оценки позволили выделить приоритетную гипотезу для проверки - \"Добавить форму подписки на все основные страницы, чтобы собрать базу клиентов для email-рассылок\"."
   ]
  },
  {
   "cell_type": "markdown",
   "metadata": {},
   "source": [
    "## Анализ A/B-теста\n",
    "\n",
    "Проведен A/B-тест и получены результаты, которые описаны в файлах /datasets/orders.csv и /datasets/visitors.csv."
   ]
  },
  {
   "cell_type": "markdown",
   "metadata": {},
   "source": [
    "### Кумулятивные метрики\n",
    "#### График кумулятивной выручки по группам"
   ]
  },
  {
   "cell_type": "code",
   "execution_count": 21,
   "metadata": {},
   "outputs": [
    {
     "data": {
      "text/html": [
       "<div>\n",
       "<style scoped>\n",
       "    .dataframe tbody tr th:only-of-type {\n",
       "        vertical-align: middle;\n",
       "    }\n",
       "\n",
       "    .dataframe tbody tr th {\n",
       "        vertical-align: top;\n",
       "    }\n",
       "\n",
       "    .dataframe thead th {\n",
       "        text-align: right;\n",
       "    }\n",
       "</style>\n",
       "<table border=\"1\" class=\"dataframe\">\n",
       "  <thead>\n",
       "    <tr style=\"text-align: right;\">\n",
       "      <th></th>\n",
       "      <th>date</th>\n",
       "      <th>group</th>\n",
       "      <th>orders</th>\n",
       "      <th>buyers</th>\n",
       "      <th>revenue</th>\n",
       "      <th>visitors</th>\n",
       "    </tr>\n",
       "  </thead>\n",
       "  <tbody>\n",
       "    <tr>\n",
       "      <th>0</th>\n",
       "      <td>2019-08-01</td>\n",
       "      <td>A</td>\n",
       "      <td>23</td>\n",
       "      <td>19</td>\n",
       "      <td>142779</td>\n",
       "      <td>719</td>\n",
       "    </tr>\n",
       "    <tr>\n",
       "      <th>1</th>\n",
       "      <td>2019-08-01</td>\n",
       "      <td>B</td>\n",
       "      <td>17</td>\n",
       "      <td>17</td>\n",
       "      <td>59758</td>\n",
       "      <td>713</td>\n",
       "    </tr>\n",
       "    <tr>\n",
       "      <th>2</th>\n",
       "      <td>2019-08-02</td>\n",
       "      <td>A</td>\n",
       "      <td>42</td>\n",
       "      <td>36</td>\n",
       "      <td>234381</td>\n",
       "      <td>1338</td>\n",
       "    </tr>\n",
       "    <tr>\n",
       "      <th>3</th>\n",
       "      <td>2019-08-02</td>\n",
       "      <td>B</td>\n",
       "      <td>40</td>\n",
       "      <td>39</td>\n",
       "      <td>221801</td>\n",
       "      <td>1294</td>\n",
       "    </tr>\n",
       "    <tr>\n",
       "      <th>4</th>\n",
       "      <td>2019-08-03</td>\n",
       "      <td>A</td>\n",
       "      <td>66</td>\n",
       "      <td>60</td>\n",
       "      <td>346854</td>\n",
       "      <td>1845</td>\n",
       "    </tr>\n",
       "  </tbody>\n",
       "</table>\n",
       "</div>"
      ],
      "text/plain": [
       "        date group  orders  buyers  revenue  visitors\n",
       "0 2019-08-01     A      23      19   142779       719\n",
       "1 2019-08-01     B      17      17    59758       713\n",
       "2 2019-08-02     A      42      36   234381      1338\n",
       "3 2019-08-02     B      40      39   221801      1294\n",
       "4 2019-08-03     A      66      60   346854      1845"
      ]
     },
     "execution_count": 21,
     "metadata": {},
     "output_type": "execute_result"
    }
   ],
   "source": [
    "datesGroups = orders[['date', 'group']].drop_duplicates() # датафрейм с уникальными парами значений 'date' и 'group'\n",
    "\n",
    "# данные по заказам для каждой пары 'date' и 'group'\n",
    "ordersAggregated = (\n",
    "    datesGroups.apply(lambda x: orders[np.logical_and(orders['date'] <= x['date'], orders['group'] == x['group'])]\n",
    "    .agg({'date' : 'max', 'group' : 'max', 'transactionId' : 'nunique', 'visitorId' : 'nunique', 'revenue' : 'sum'}), axis=1)\n",
    "    .sort_values(by=['date','group'])\n",
    ")\n",
    "\n",
    "# данные по посещениям для каждой пары 'date' и 'group'\n",
    "visitorsAggregated = (\n",
    "    datesGroups.apply(lambda x: visitors[np.logical_and(visitors['date'] <= x['date'], visitors['group'] == x['group'])]\n",
    "    .agg({'date' : 'max', 'group' : 'max', 'visitors' : 'sum'}), axis=1)\n",
    "    .sort_values(by=['date','group'])\n",
    ")\n",
    "\n",
    "# объединим заказы и посещения по дате и группе\n",
    "cumulativeData = ordersAggregated.merge(visitorsAggregated, left_on=['date', 'group'], right_on=['date', 'group'])\n",
    "\n",
    "cumulativeData.columns = ['date', 'group', 'orders', 'buyers', 'revenue', 'visitors']\n",
    "\n",
    "cumulativeData.head(5)"
   ]
  },
  {
   "cell_type": "code",
   "execution_count": 22,
   "metadata": {
    "scrolled": false
   },
   "outputs": [
    {
     "data": {
      "image/png": "[encoded data removed]",
      "text/plain": [
       "<Figure size 864x432 with 1 Axes>"
      ]
     },
     "metadata": {
      "needs_background": "light"
     },
     "output_type": "display_data"
    }
   ],
   "source": [
    "# разделим кумулятивные данные по группам на две переменные\n",
    "cumulativeRevenueA = cumulativeData[cumulativeData['group']=='A'][['date','revenue', 'orders']]\n",
    "\n",
    "cumulativeRevenueB = cumulativeData[cumulativeData['group']=='B'][['date','revenue', 'orders']]\n",
    "\n",
    "# построим график кумулятивной выручки по дням по группам \n",
    "\n",
    "plt.figure(figsize=(12, 6))\n",
    "\n",
    "plt.plot(cumulativeRevenueA['date'], cumulativeRevenueA['revenue'], label='A')\n",
    "\n",
    "plt.plot(cumulativeRevenueB['date'], cumulativeRevenueB['revenue'], label='B')\n",
    "\n",
    "plt.xlabel('Дата')\n",
    "plt.ylabel('Кумулятивная выручка')\n",
    "plt.legend()\n",
    "plt.title('Кумулятивная выручка по группам', fontsize=14)\n",
    "plt.show()"
   ]
  },
  {
   "cell_type": "markdown",
   "metadata": {},
   "source": [
    "**Выводы**\n",
    "\n",
    "До середины теста группы шли относительно ровно, однако потом у группы B случился сильный скачок. К концу теста кумулятивная выручка группы B оказалась стабильно выше группы A, что можно объяснить аномальным скачком после середины исследования."
   ]
  },
  {
   "cell_type": "markdown",
   "metadata": {},
   "source": [
    "#### График кумулятивного среднего чека по группам"
   ]
  },
  {
   "cell_type": "code",
   "execution_count": 23,
   "metadata": {
    "scrolled": false
   },
   "outputs": [
    {
     "data": {
      "image/png": "[encoded data removed]",
      "text/plain": [
       "<Figure size 864x432 with 1 Axes>"
      ]
     },
     "metadata": {
      "needs_background": "light"
     },
     "output_type": "display_data"
    }
   ],
   "source": [
    "# построим график кумулятивного среднего чека по группам\n",
    "plt.figure(figsize=(12, 6))\n",
    "plt.plot(cumulativeRevenueA['date'], cumulativeRevenueA['revenue']/cumulativeRevenueA['orders'], label='A')\n",
    "plt.plot(cumulativeRevenueB['date'], cumulativeRevenueB['revenue']/cumulativeRevenueB['orders'], label='B')\n",
    "plt.xlabel('Дата')\n",
    "plt.ylabel('Средний чек')\n",
    "plt.legend()\n",
    "plt.title('Кумулятивный средний чек по группам', fontsize=14)\n",
    "plt.show()"
   ]
  },
  {
   "cell_type": "markdown",
   "metadata": {},
   "source": [
    "**Выводы**\n",
    "\n",
    "По среднему чеку также наблюдается сильный скачок после прохождения середины исследования. К концу теста средний чек группы B оказалась стабильно выше группы A.\n"
   ]
  },
  {
   "cell_type": "markdown",
   "metadata": {},
   "source": [
    "#### График относительного изменения кумулятивного среднего чека группы B к группе A."
   ]
  },
  {
   "cell_type": "code",
   "execution_count": 24,
   "metadata": {
    "scrolled": false
   },
   "outputs": [
    {
     "data": {
      "image/png": "[encoded data removed]",
      "text/plain": [
       "<Figure size 864x432 with 1 Axes>"
      ]
     },
     "metadata": {
      "needs_background": "light"
     },
     "output_type": "display_data"
    }
   ],
   "source": [
    "# объединим кумулятивные данные групп в одну таблицу\n",
    "mergedCumulativeRevenue = (\n",
    "    cumulativeRevenueA.merge(cumulativeRevenueB, left_on='date', right_on='date', how='left', suffixes=['A', 'B'])\n",
    ")\n",
    "\n",
    "# построим график относительного изменения кумулятивного среднего чека группы B к группе A\n",
    "plt.figure(figsize=(12, 6))\n",
    "plt.plot(\n",
    "    mergedCumulativeRevenue['date'], (mergedCumulativeRevenue['revenueB']/mergedCumulativeRevenue['ordersB'])/\n",
    "    (mergedCumulativeRevenue['revenueA']/mergedCumulativeRevenue['ordersA'])-1\n",
    ")\n",
    "plt.axhline(y=0, color='black', linestyle='--')\n",
    "plt.xlabel('Дата')\n",
    "plt.ylabel('Относительное изменение')\n",
    "plt.title('Относительное изменение кумулятивного среднего чека группы B к группе A', fontsize=14)\n",
    "plt.show()"
   ]
  },
  {
   "cell_type": "markdown",
   "metadata": {},
   "source": [
    "**Выводы**\n",
    "\n",
    "График демонстрирует преобладание группы B по среднему чеку, с относительным выравниванием до нуля в середине исследования. Затем случился резкий скачок вверх и дальнейший медленный спад. Так как данные кумулятивные, преобладание группы B к концу исследования может быть вызвано аномальным скачком вверх после прохождения середины исследования."
   ]
  },
  {
   "cell_type": "markdown",
   "metadata": {},
   "source": [
    "#### График кумулятивной конверсии по группам"
   ]
  },
  {
   "cell_type": "code",
   "execution_count": 25,
   "metadata": {
    "scrolled": false
   },
   "outputs": [
    {
     "data": {
      "image/png": "[encoded data removed]",
      "text/plain": [
       "<Figure size 864x432 with 1 Axes>"
      ]
     },
     "metadata": {
      "needs_background": "light"
     },
     "output_type": "display_data"
    }
   ],
   "source": [
    "cumulativeData['conversion'] = cumulativeData['orders']/cumulativeData['visitors']\n",
    "\n",
    "# отделяем данные по группе A\n",
    "cumulativeDataA = cumulativeData[cumulativeData['group']=='A']\n",
    "\n",
    "# отделяем данные по группе B\n",
    "cumulativeDataB = cumulativeData[cumulativeData['group']=='B']\n",
    "\n",
    "# строим графики\n",
    "plt.figure(figsize=(12, 6))\n",
    "plt.plot(cumulativeDataA['date'], cumulativeDataA['conversion'], label='A')\n",
    "plt.plot(cumulativeDataB['date'], cumulativeDataB['conversion'], label='B')\n",
    "\n",
    "# задаем масштаб осей\n",
    "plt.axis([dt.datetime(2019, 8, 1), dt.datetime(2019, 9, 1), 0, 0.04])\n",
    "\n",
    "plt.xlabel('Дата')\n",
    "plt.ylabel('Кумулятивная конверсия')\n",
    "plt.legend()\n",
    "plt.title('Кумулятивная конверсия по группам', fontsize=14)\n",
    "plt.show()"
   ]
  },
  {
   "cell_type": "markdown",
   "metadata": {},
   "source": [
    "**Выводы**\n",
    "\n",
    "В начале наблюдалась неопределенность, однако затем группа B вышла вперед с отрывом около 4%"
   ]
  },
  {
   "cell_type": "markdown",
   "metadata": {},
   "source": [
    "#### График относительного изменения кумулятивной конверсии группы B к группе A."
   ]
  },
  {
   "cell_type": "code",
   "execution_count": 26,
   "metadata": {
    "scrolled": false
   },
   "outputs": [
    {
     "data": {
      "image/png": "[encoded data removed]",
      "text/plain": [
       "<Figure size 864x432 with 1 Axes>"
      ]
     },
     "metadata": {
      "needs_background": "light"
     },
     "output_type": "display_data"
    }
   ],
   "source": [
    "mergedCumulativeConversions = cumulativeDataA[['date','conversion']].merge(cumulativeDataB[['date','conversion']], left_on='date', right_on='date', how='left', suffixes=['A', 'B'])\n",
    "\n",
    "plt.figure(figsize=(12, 6))\n",
    "plt.plot(mergedCumulativeConversions['date'], mergedCumulativeConversions['conversionB']/mergedCumulativeConversions['conversionA']-1, label=\"Относительный прирост конверсии группы B относительно группы A\")\n",
    "plt.legend()\n",
    "\n",
    "plt.axhline(y=0, color='black', linestyle='--')\n",
    "plt.axhline(y=0.15, color='grey', linestyle='--')\n",
    "\n",
    "# задаем масштаб осей\n",
    "plt.axis([dt.datetime(2019, 8, 1), dt.datetime(2019, 9, 1), -0.3, 0.3])\n",
    "\n",
    "plt.xlabel('Дата')\n",
    "plt.ylabel('Относительное изменение')\n",
    "plt.title('Относительное изменение кумулятивной конверсии группы B к группе A', fontsize=14)\n",
    "plt.show()"
   ]
  },
  {
   "cell_type": "markdown",
   "metadata": {},
   "source": [
    "**Выводы**\n",
    "\n",
    "К концу исследования конверсия группы B стабилизировалась со значением в среднем на 15 % выше относительно конверсии группы A."
   ]
  },
  {
   "cell_type": "markdown",
   "metadata": {},
   "source": [
    "### Анализ выбросов и всплесков"
   ]
  },
  {
   "cell_type": "markdown",
   "metadata": {},
   "source": [
    "#### График количества заказов по пользователям"
   ]
  },
  {
   "cell_type": "code",
   "execution_count": 27,
   "metadata": {
    "scrolled": false
   },
   "outputs": [
    {
     "data": {
      "image/png": "[encoded data removed]",
      "text/plain": [
       "<Figure size 432x288 with 1 Axes>"
      ]
     },
     "metadata": {
      "needs_background": "light"
     },
     "output_type": "display_data"
    }
   ],
   "source": [
    "ordersByUsers = (\n",
    "    orders.groupby('visitorId', as_index=False)\n",
    "    .agg({'transactionId': 'nunique'})\n",
    ")\n",
    "ordersByUsers.columns = ['userId', 'orders']\n",
    "\n",
    "x_values = pd.Series(range(0, len(ordersByUsers)))\n",
    "\n",
    "plt.scatter(x_values, ordersByUsers['orders'])\n",
    "\n",
    "plt.ylabel('Количество заказов')\n",
    "plt.title('Количество заказов по пользователям', fontsize=14)\n",
    "plt.show()"
   ]
  },
  {
   "cell_type": "markdown",
   "metadata": {},
   "source": [
    "**Выводы**\n",
    "\n",
    "Существует относительно небольшое количество пользователей с заказами больше 2."
   ]
  },
  {
   "cell_type": "markdown",
   "metadata": {},
   "source": [
    "#### Расчет 95-го и 99-го перцентилей количества заказов на пользователя. Выбор границы для определения аномальных пользователей"
   ]
  },
  {
   "cell_type": "code",
   "execution_count": 28,
   "metadata": {},
   "outputs": [
    {
     "data": {
      "text/plain": [
       "array([1., 2.])"
      ]
     },
     "execution_count": 28,
     "metadata": {},
     "output_type": "execute_result"
    }
   ],
   "source": [
    "np.percentile(ordersByUsers['orders'], [95, 99])"
   ]
  },
  {
   "cell_type": "markdown",
   "metadata": {},
   "source": [
    "**Выводы**\n",
    "\n",
    "Не более 5 % пользователей совершили более 1 заказа, и не более 1 % совершили более 2 заказов. В качестве границы выберем более 2 заказов. "
   ]
  },
  {
   "cell_type": "markdown",
   "metadata": {},
   "source": [
    "#### График стоимостей заказов"
   ]
  },
  {
   "cell_type": "code",
   "execution_count": 29,
   "metadata": {
    "scrolled": true
   },
   "outputs": [
    {
     "data": {
      "image/png": "[encoded data removed]",
      "text/plain": [
       "<Figure size 432x288 with 1 Axes>"
      ]
     },
     "metadata": {
      "needs_background": "light"
     },
     "output_type": "display_data"
    }
   ],
   "source": [
    "x_values = pd.Series(range(0,len(orders['revenue'])))\n",
    "plt.scatter(x_values, orders['revenue'])\n",
    "\n",
    "plt.ylabel('Стоимость заказов')\n",
    "plt.title('Стоимости заказов', fontsize=14)\n",
    "plt.show()"
   ]
  },
  {
   "cell_type": "markdown",
   "metadata": {},
   "source": [
    "**Выводы**\n",
    "\n",
    "Есть небольшое количество очень дорогих заказов."
   ]
  },
  {
   "cell_type": "markdown",
   "metadata": {},
   "source": [
    "#### Расчет 95-го и 99-го перцентилей стоимостей заказов. Выбор границы для определения аномальных заказов"
   ]
  },
  {
   "cell_type": "code",
   "execution_count": 30,
   "metadata": {},
   "outputs": [
    {
     "data": {
      "text/plain": [
       "array([26785., 53904.])"
      ]
     },
     "execution_count": 30,
     "metadata": {},
     "output_type": "execute_result"
    }
   ],
   "source": [
    "np.percentile(orders['revenue'], [95, 99])"
   ]
  },
  {
   "cell_type": "markdown",
   "metadata": {},
   "source": [
    "**Выводы**\n",
    "\n",
    "Не более 5 % пользователей совершили заказы дороже 26 000, и не более 1 % - дороже 53 000. В качестве границы выберем более 60 000. "
   ]
  },
  {
   "cell_type": "markdown",
   "metadata": {},
   "source": [
    "### Расчет статистической значимости "
   ]
  },
  {
   "cell_type": "markdown",
   "metadata": {},
   "source": [
    "Подготовим данные для расчета статистической значимости"
   ]
  },
  {
   "cell_type": "code",
   "execution_count": 31,
   "metadata": {},
   "outputs": [],
   "source": [
    "# посчитем количество пользователей в выбранную дату в группе A\n",
    "visitorsADaily = visitors[visitors['group'] == 'A'][['date', 'visitors']]\n",
    "visitorsADaily.columns = ['date', 'visitorsPerDateA']\n",
    "\n",
    "# посчитем количество пользователей до выбранной даты включительно в группе A\n",
    "visitorsACummulative = visitorsADaily.apply(\n",
    "    lambda x: visitorsADaily[visitorsADaily['date'] <= x['date']].agg(\n",
    "        {'date': 'max', 'visitorsPerDateA': 'sum'}\n",
    "    ),\n",
    "    axis=1,\n",
    ")\n",
    "visitorsACummulative.columns = ['date', 'visitorsCummulativeA']\n",
    "\n",
    "# посчитем количество пользователей в выбранную дату в группе B\n",
    "visitorsBDaily = visitors[visitors['group'] == 'B'][['date', 'visitors']]\n",
    "visitorsBDaily.columns = ['date', 'visitorsPerDateB']\n",
    "\n",
    "# посчитем количество пользователей до выбранной даты включительно в группе B\n",
    "visitorsBCummulative = visitorsBDaily.apply(\n",
    "    lambda x: visitorsBDaily[visitorsBDaily['date'] <= x['date']].agg(\n",
    "        {'date': 'max', 'visitorsPerDateB': 'sum'}\n",
    "    ),\n",
    "    axis=1,\n",
    ")\n",
    "visitorsBCummulative.columns = ['date', 'visitorsCummulativeB']\n",
    "\n",
    "# посчитем количество заказов и выручки в выбранную дату в группе A\n",
    "ordersADaily = (\n",
    "    orders[orders['group'] == 'A'][['date', 'transactionId', 'visitorId', 'revenue']]\n",
    "    .groupby('date', as_index=False)\n",
    "    .agg({'transactionId': pd.Series.nunique, 'revenue': 'sum'})\n",
    ")\n",
    "ordersADaily.columns = ['date', 'ordersPerDateA', 'revenuePerDateA']\n",
    "\n",
    "# посчитем суммарное число заказов и выручки до выбранной даты включительно в группе A\n",
    "ordersACummulative = ordersADaily.apply(\n",
    "    lambda x: ordersADaily[ordersADaily['date'] <= x['date']].agg(\n",
    "        {'date': 'max', 'ordersPerDateA': 'sum', 'revenuePerDateA': 'sum'}\n",
    "    ),\n",
    "    axis=1,\n",
    ").sort_values(by=['date'])\n",
    "ordersACummulative.columns = [\n",
    "    'date',\n",
    "    'ordersCummulativeA',\n",
    "    'revenueCummulativeA',\n",
    "]\n",
    "\n",
    "# посчитем количество заказов и выручки в выбранную дату в группе B\n",
    "ordersBDaily = (\n",
    "    orders[orders['group'] == 'B'][['date', 'transactionId', 'visitorId', 'revenue']]\n",
    "    .groupby('date', as_index=False)\n",
    "    .agg({'transactionId': pd.Series.nunique, 'revenue': 'sum'})\n",
    ")\n",
    "ordersBDaily.columns = ['date', 'ordersPerDateB', 'revenuePerDateB']\n",
    "\n",
    "# посчитем суммарное число заказов и выручки до выбранной даты включительно в группе B\n",
    "ordersBCummulative = ordersBDaily.apply(\n",
    "    lambda x: ordersBDaily[ordersBDaily['date'] <= x['date']].agg(\n",
    "        {'date': 'max', 'ordersPerDateB': 'sum', 'revenuePerDateB': 'sum'}\n",
    "    ),\n",
    "    axis=1,\n",
    ").sort_values(by=['date'])\n",
    "ordersBCummulative.columns = [\n",
    "    'date',\n",
    "    'ordersCummulativeB',\n",
    "    'revenueCummulativeB',\n",
    "]\n",
    "\n",
    "# объединим все данные по дате\n",
    "data = (\n",
    "    ordersADaily.merge(\n",
    "        ordersBDaily, left_on='date', right_on='date', how='left'\n",
    "    )\n",
    "    .merge(ordersACummulative, left_on='date', right_on='date', how='left')\n",
    "    .merge(ordersBCummulative, left_on='date', right_on='date', how='left')\n",
    "    .merge(visitorsADaily, left_on='date', right_on='date', how='left')\n",
    "    .merge(visitorsBDaily, left_on='date', right_on='date', how='left')\n",
    "    .merge(visitorsACummulative, left_on='date', right_on='date', how='left')\n",
    "    .merge(visitorsBCummulative, left_on='date', right_on='date', how='left')\n",
    ")\n",
    "\n",
    "# посчитем число совершённых заказов в группе A\n",
    "ordersByUsersA = (\n",
    "    orders[orders['group'] == 'A']\n",
    "    .groupby('visitorId', as_index=False)\n",
    "    .agg({'transactionId': pd.Series.nunique})\n",
    ")\n",
    "ordersByUsersA.columns = ['userId', 'orders']\n",
    "\n",
    "# посчитем число совершённых заказов в группе B\n",
    "ordersByUsersB = (\n",
    "    orders[orders['group'] == 'B']\n",
    "    .groupby('visitorId', as_index=False)\n",
    "    .agg({'transactionId': pd.Series.nunique})\n",
    ")\n",
    "ordersByUsersB.columns = ['userId', 'orders']"
   ]
  },
  {
   "cell_type": "markdown",
   "metadata": {},
   "source": [
    "#### Расчет статистической значимости различий в конверсии между группами по «сырым» данным"
   ]
  },
  {
   "cell_type": "markdown",
   "metadata": {},
   "source": [
    "Проверим распределение на нормальность с использованием критерия Шапиро-Уилка (st.shapiro(x)). За нулевую гипотезу примем утверждение о том, что распределение не нормально. Альтернативной гипотезой будет утверждение о том, что данные распределены нормально. Критический уровень статистической значимости установим в 5 %."
   ]
  },
  {
   "cell_type": "code",
   "execution_count": 32,
   "metadata": {
    "scrolled": true
   },
   "outputs": [
    {
     "name": "stderr",
     "output_type": "stream",
     "text": [
      "/opt/conda/lib/python3.9/site-packages/scipy/stats/_morestats.py:1761: UserWarning: p-value may not be accurate for N > 5000.\n",
      "  warnings.warn(\"p-value may not be accurate for N > 5000.\")\n"
     ]
    },
    {
     "data": {
      "text/plain": [
       "('p-значение: ', 0.0)"
      ]
     },
     "execution_count": 32,
     "metadata": {},
     "output_type": "execute_result"
    }
   ],
   "source": [
    "# создадим списки с количеством заказов для каждого из пользователей и\n",
    "# нулями для пользователей, которые ничего не заказывали, для каждой группы\n",
    "sampleA = pd.concat(\n",
    "    [\n",
    "        ordersByUsersA['orders'],\n",
    "        pd.Series(\n",
    "            0,\n",
    "            index=np.arange(\n",
    "                data['visitorsPerDateA'].sum() - len(ordersByUsersA['orders'])\n",
    "            ),\n",
    "            name='orders',\n",
    "        ),\n",
    "    ],\n",
    "    axis=0,\n",
    ")\n",
    "\n",
    "sampleB = pd.concat(\n",
    "    [\n",
    "        ordersByUsersB['orders'],\n",
    "        pd.Series(\n",
    "            0,\n",
    "            index=np.arange(\n",
    "                data['visitorsPerDateB'].sum() - len(ordersByUsersB['orders'])\n",
    "            ),\n",
    "            name='orders',\n",
    "        ),\n",
    "    ],\n",
    "    axis=0,\n",
    ")\n",
    "\n",
    "# проверка критерием Шапиро-Уилка\n",
    "('p-значение: ', (stats.shapiro(sampleA)[1]))"
   ]
  },
  {
   "cell_type": "markdown",
   "metadata": {},
   "source": [
    "Сформулируем гипотезу. За нулевую гипотезу примем утверждение о том, что конверсия группы B равна конверсии группы A. Альтернативной гипотезой будет утверждение о том, что конверсии групп не равны. Проверку гипотез проведем с использованием критерия Манна-Уитни. Критический уровень статистической значимости установим в 5 %."
   ]
  },
  {
   "cell_type": "code",
   "execution_count": 33,
   "metadata": {},
   "outputs": [
    {
     "data": {
      "text/plain": [
       "'p-значение: '"
      ]
     },
     "metadata": {},
     "output_type": "display_data"
    },
    {
     "data": {
      "text/plain": [
       "'0.01102'"
      ]
     },
     "metadata": {},
     "output_type": "display_data"
    },
    {
     "data": {
      "text/plain": [
       "'относительный прирост конверсии: '"
      ]
     },
     "metadata": {},
     "output_type": "display_data"
    },
    {
     "data": {
      "text/plain": [
       "'0.160'"
      ]
     },
     "metadata": {},
     "output_type": "display_data"
    }
   ],
   "source": [
    "# проверка критерием Манна-Уитни\n",
    "display('p-значение: ', \"{0:.5f}\".format(stats.mannwhitneyu(sampleA, sampleB, alternative=\"two-sided\")[1]))\n",
    "\n",
    "# относительный прирост конверсии\n",
    "display('относительный прирост конверсии: ', \"{0:.3f}\".format(sampleB.mean() / sampleA.mean() - 1))"
   ]
  },
  {
   "cell_type": "markdown",
   "metadata": {},
   "source": [
    "**Выводы**\n",
    "\n",
    "P-value меньше 0.05, нулевую гипотезу отвергаем. По сырым данным между группами есть статистически значимые различия. Конверсия группы B выше на 16 % относительно группы A."
   ]
  },
  {
   "cell_type": "markdown",
   "metadata": {},
   "source": [
    "#### Расчет статистической значимости различий в среднем чеке заказа между группами по «сырым» данным"
   ]
  },
  {
   "cell_type": "markdown",
   "metadata": {},
   "source": [
    "Сформулируем гипотезу. За нулевую гипотезу примем утверждение о том, что средний чек заказа группы B равен среднему чеку заказа  группы A. Альтернативной гипотезой будет утверждение о том, что средние чеки групп не равны. Проверку гипотез проведем с использованием критерия Манна-Уитни. Критический уровень статистической значимости установим в 5 %."
   ]
  },
  {
   "cell_type": "code",
   "execution_count": 34,
   "metadata": {
    "scrolled": true
   },
   "outputs": [
    {
     "data": {
      "text/plain": [
       "'p-значение: '"
      ]
     },
     "metadata": {},
     "output_type": "display_data"
    },
    {
     "data": {
      "text/plain": [
       "'0.829'"
      ]
     },
     "metadata": {},
     "output_type": "display_data"
    },
    {
     "data": {
      "text/plain": [
       "'относительный прирост среднего чека: '"
      ]
     },
     "metadata": {},
     "output_type": "display_data"
    },
    {
     "data": {
      "text/plain": [
       "'0.287'"
      ]
     },
     "metadata": {},
     "output_type": "display_data"
    }
   ],
   "source": [
    "# проверка критерием Манна-Уитни\n",
    "display('p-значение: ', '{0:.3f}'.format(stats.mannwhitneyu(orders[orders['group']=='A']['revenue'], orders[orders['group']=='B']['revenue'], alternative=\"two-sided\")[1]))\n",
    "\n",
    "# относительный прирост среднего чека группы B\n",
    "display('относительный прирост среднего чека: ', '{0:.3f}'.format(orders[orders['group']=='B']['revenue'].mean()/orders[orders['group']=='A']['revenue'].mean()-1))"
   ]
  },
  {
   "cell_type": "markdown",
   "metadata": {},
   "source": [
    "**Выводы**\n",
    "\n",
    "P-value больше 0.05, статистически значимых отличий нет. При этом средний чек группы B выше на 28.7 % относительно группы A."
   ]
  },
  {
   "cell_type": "markdown",
   "metadata": {},
   "source": [
    "#### Расчет статистической значимости различий в конверсии между группами по «очищенным» данным"
   ]
  },
  {
   "cell_type": "markdown",
   "metadata": {},
   "source": [
    "Сформулируем гипотезу. За нулевую гипотезу примем утверждение о том, что конверсия группы B равна конверсии группы A. Альтернативной гипотезой будет утверждение о том, что конверсии групп не равны. Проверку гипотез проведем с использованием критерия Манна-Уитни. Критический уровень статистической значимости установим в 5 %."
   ]
  },
  {
   "cell_type": "code",
   "execution_count": 35,
   "metadata": {
    "scrolled": false
   },
   "outputs": [
    {
     "data": {
      "text/plain": [
       "15"
      ]
     },
     "execution_count": 35,
     "metadata": {},
     "output_type": "execute_result"
    }
   ],
   "source": [
    "# выделим пользователей с большим количеством зказов\n",
    "usersWithManyOrders = pd.concat(\n",
    "    [\n",
    "        ordersByUsersA[ordersByUsersA['orders'] > 2]['userId'],\n",
    "        ordersByUsersB[ordersByUsersB['orders'] > 2]['userId'],\n",
    "    ],\n",
    "    axis=0,\n",
    ")\n",
    "\n",
    "# выделим пользователей с дорогими зказами\n",
    "usersWithExpensiveOrders = orders[orders['revenue'] > 60000]['visitorId']\n",
    "\n",
    "# объединим пользователей с аномальными заказами, удалим дубликаты\n",
    "abnormalUsers = (\n",
    "    pd.concat([usersWithManyOrders, usersWithExpensiveOrders], axis=0)\n",
    "    .drop_duplicates()\n",
    "    .sort_values()\n",
    ")\n",
    "len(abnormalUsers)"
   ]
  },
  {
   "cell_type": "markdown",
   "metadata": {},
   "source": [
    "Всего получилось 15 аномальных пользователей."
   ]
  },
  {
   "cell_type": "code",
   "execution_count": 36,
   "metadata": {},
   "outputs": [],
   "source": [
    "# создадим отфильтрованный набор данных по заказам для каждой группы  \n",
    "sampleAFiltered = pd.concat(\n",
    "    [\n",
    "        ordersByUsersA[\n",
    "            np.logical_not(ordersByUsersA['userId'].isin(abnormalUsers))\n",
    "        ]['orders'],\n",
    "        pd.Series(\n",
    "            0,\n",
    "            index=np.arange(\n",
    "                data['visitorsPerDateA'].sum() - len(ordersByUsersA['orders'])\n",
    "            ),\n",
    "            name='orders',\n",
    "        ),\n",
    "    ],\n",
    "    axis=0,\n",
    ")\n",
    "\n",
    "sampleBFiltered = pd.concat(\n",
    "    [\n",
    "        ordersByUsersB[\n",
    "            np.logical_not(ordersByUsersB['userId'].isin(abnormalUsers))\n",
    "        ]['orders'],\n",
    "        pd.Series(\n",
    "            0,\n",
    "            index=np.arange(\n",
    "                data['visitorsPerDateB'].sum() - len(ordersByUsersB['orders'])\n",
    "            ),\n",
    "            name='orders',\n",
    "        ),\n",
    "    ],\n",
    "    axis=0,\n",
    ")\n"
   ]
  },
  {
   "cell_type": "code",
   "execution_count": 37,
   "metadata": {
    "scrolled": true
   },
   "outputs": [
    {
     "data": {
      "text/plain": [
       "'p-значение: '"
      ]
     },
     "metadata": {},
     "output_type": "display_data"
    },
    {
     "data": {
      "text/plain": [
       "'0.00641'"
      ]
     },
     "metadata": {},
     "output_type": "display_data"
    },
    {
     "data": {
      "text/plain": [
       "'относительный прирост конверсии: '"
      ]
     },
     "metadata": {},
     "output_type": "display_data"
    },
    {
     "data": {
      "text/plain": [
       "'0.191'"
      ]
     },
     "metadata": {},
     "output_type": "display_data"
    }
   ],
   "source": [
    "# проверка критерием Манна-Уитни\n",
    "display('p-значение: ', '{0:.5f}'.format(stats.mannwhitneyu(sampleAFiltered, sampleBFiltered, alternative=\"two-sided\")[1]))\n",
    "\n",
    "# относительный прирост конверсии группы B\n",
    "display('относительный прирост конверсии: ', '{0:.3f}'.format(sampleBFiltered.mean()/sampleAFiltered.mean()-1))"
   ]
  },
  {
   "cell_type": "markdown",
   "metadata": {},
   "source": [
    "P-value меньше 0.05, нулевую гипотезу отвергаем. По отфильтрованным данным между группами также есть статистически значимые различия. Конверсия группы B выше на 19.1 % относительно группы A, что выше на 3 % чем по сырым данным."
   ]
  },
  {
   "cell_type": "markdown",
   "metadata": {},
   "source": [
    "#### Расчет статистической значимости различий в среднем чеке заказа между группами по «очищенным» данным"
   ]
  },
  {
   "cell_type": "markdown",
   "metadata": {},
   "source": [
    "Сформулируем гипотезу. За нулевую гипотезу примем утверждение о том, что средний чек заказа группы B равен среднему чеку заказа  группы A. Альтернативной гипотезой будет утверждение о том, что средние чеки групп не равны. Проверку гипотез проведем с использованием критерия Манна-Уитни. Критический уровень статистической значимости установим в 5 %."
   ]
  },
  {
   "cell_type": "code",
   "execution_count": 38,
   "metadata": {},
   "outputs": [
    {
     "data": {
      "text/plain": [
       "'p-значение: '"
      ]
     },
     "metadata": {},
     "output_type": "display_data"
    },
    {
     "data": {
      "text/plain": [
       "'0.827'"
      ]
     },
     "metadata": {},
     "output_type": "display_data"
    },
    {
     "data": {
      "text/plain": [
       "'относительное различие среднего чека: '"
      ]
     },
     "metadata": {},
     "output_type": "display_data"
    },
    {
     "data": {
      "text/plain": [
       "'-0.017'"
      ]
     },
     "metadata": {},
     "output_type": "display_data"
    }
   ],
   "source": [
    "# проверка критерием Манна-Уитни\n",
    "display('p-значение: ',\n",
    "    '{0:.3f}'.format(\n",
    "        stats.mannwhitneyu(\n",
    "            orders[\n",
    "                np.logical_and(\n",
    "                    orders['group'] == 'A',\n",
    "                    np.logical_not(orders['visitorId'].isin(abnormalUsers)),\n",
    "                )\n",
    "            ]['revenue'],\n",
    "            orders[\n",
    "                np.logical_and(\n",
    "                    orders['group'] == 'B',\n",
    "                    np.logical_not(orders['visitorId'].isin(abnormalUsers)),\n",
    "                )\n",
    "            ]['revenue'], alternative=\"two-sided\"\n",
    "        )[1]\n",
    "    )\n",
    ")\n",
    "\n",
    "# относительное различие среднего чека группы B\n",
    "display('относительное различие среднего чека: ',\n",
    "        \"{0:.3f}\".format(\n",
    "        orders[\n",
    "            np.logical_and(\n",
    "                orders['group'] == 'B',\n",
    "                np.logical_not(orders['visitorId'].isin(abnormalUsers)),\n",
    "            )\n",
    "        ]['revenue'].mean()\n",
    "        / orders[\n",
    "            np.logical_and(\n",
    "                orders['group'] == 'A',\n",
    "                np.logical_not(orders['visitorId'].isin(abnormalUsers)),\n",
    "            )\n",
    "        ]['revenue'].mean()\n",
    "        - 1)\n",
    "    )"
   ]
  },
  {
   "cell_type": "markdown",
   "metadata": {},
   "source": [
    "**Выводы**\n",
    "\n",
    "P-value больше 0.05, статистически значимых отличий нет. При этом средний чек группы B меньше на 1 % относительно группы A. Прирост среденего чека в 28 % по сырым данным объясняется наличием аномальных заказов."
   ]
  },
  {
   "cell_type": "markdown",
   "metadata": {},
   "source": [
    "## Общий вывод"
   ]
  },
  {
   "cell_type": "markdown",
   "metadata": {},
   "source": [
    "По результатам исследования можно сделать следующие выводы:\n",
    "- Приоритизация гипотез по фреймворкам ICE и RICE позволила выделить приоритетную гипотезу для проверки - \"Добавить форму подписки на все основные страницы, чтобы собрать базу клиентов для email-рассылок\".\n",
    "- Есть статистически значимое различие по конверсии между группами как по сырым данным, так и после фильтрации аномалий.\n",
    "- По сырым данным нет статистически значимого различия по среднему чеку между группами, однако средний чек группы B выше на 29 %. После удаления аномалий статистически значимого различия нет, относительное различие среднего чека -1 %.\n",
    "- График различия конверсии между группами сообщает, что результаты группы B лучше группы A: имеют тенденцию к росту, либо зафиксировались около среднего значения.\n",
    "- График различия среднего чека колеблется, было выявлено, что колебания связаны с аномалиями\n",
    "- Обнаружена серьезная ошибка в тесте - группы имеют разное количество пользователей. Группа B больше по относительному количеству пользователей на 15 %. Также имеются пользователи, попавшие в обе группы сразу. \n",
    "\n",
    "По результатам A/B-теста можно принять решение об остановке теста и зафиксировать отсутствие различий между группами. Конверсия группы B показала статистически значимое различие в 19 %, однако это различие может быть связано с превышением размера группы на 15 %. Средний чек не показал статистически значимого различия.\n"
   ]
  }
 ],
 "metadata": {
  "ExecuteTimeLog": [
   {
    "duration": 764,
    "start_time": "2022-08-10T07:35:14.931Z"
   },
   {
    "duration": 182,
    "start_time": "2022-08-10T07:37:53.762Z"
   },
   {
    "duration": 24,
    "start_time": "2022-08-10T07:38:19.821Z"
   },
   {
    "duration": 20,
    "start_time": "2022-08-10T07:39:50.429Z"
   },
   {
    "duration": 17,
    "start_time": "2022-08-10T07:40:10.905Z"
   },
   {
    "duration": 616,
    "start_time": "2022-08-10T07:46:02.825Z"
   },
   {
    "duration": 73,
    "start_time": "2022-08-10T07:46:03.443Z"
   },
   {
    "duration": 31,
    "start_time": "2022-08-10T07:46:03.518Z"
   },
   {
    "duration": 20,
    "start_time": "2022-08-10T07:46:03.552Z"
   },
   {
    "duration": 68,
    "start_time": "2022-08-10T07:46:03.573Z"
   },
   {
    "duration": 1007,
    "start_time": "2022-08-10T07:56:41.890Z"
   },
   {
    "duration": 128,
    "start_time": "2022-08-10T07:56:42.899Z"
   },
   {
    "duration": 23,
    "start_time": "2022-08-10T07:56:43.029Z"
   },
   {
    "duration": 33,
    "start_time": "2022-08-10T07:56:43.054Z"
   },
   {
    "duration": 49,
    "start_time": "2022-08-10T07:56:43.089Z"
   },
   {
    "duration": 0,
    "start_time": "2022-08-10T07:56:43.139Z"
   },
   {
    "duration": 16,
    "start_time": "2022-08-10T07:57:24.722Z"
   },
   {
    "duration": 9,
    "start_time": "2022-08-10T07:57:27.329Z"
   },
   {
    "duration": 12,
    "start_time": "2022-08-10T07:57:42.787Z"
   },
   {
    "duration": 10,
    "start_time": "2022-08-10T07:58:04.234Z"
   },
   {
    "duration": 1035,
    "start_time": "2022-08-10T08:14:04.190Z"
   },
   {
    "duration": 127,
    "start_time": "2022-08-10T08:14:05.227Z"
   },
   {
    "duration": 25,
    "start_time": "2022-08-10T08:14:05.356Z"
   },
   {
    "duration": 26,
    "start_time": "2022-08-10T08:14:05.383Z"
   },
   {
    "duration": 7,
    "start_time": "2022-08-10T08:14:05.410Z"
   },
   {
    "duration": 14,
    "start_time": "2022-08-10T08:14:05.418Z"
   },
   {
    "duration": 15,
    "start_time": "2022-08-10T08:14:05.434Z"
   },
   {
    "duration": 12,
    "start_time": "2022-08-10T10:46:19.620Z"
   },
   {
    "duration": 3,
    "start_time": "2022-08-10T10:46:53.900Z"
   },
   {
    "duration": 11,
    "start_time": "2022-08-10T10:48:13.372Z"
   },
   {
    "duration": 321,
    "start_time": "2022-08-10T12:13:59.478Z"
   },
   {
    "duration": 246,
    "start_time": "2022-08-10T12:22:54.329Z"
   },
   {
    "duration": 233,
    "start_time": "2022-08-10T12:24:22.957Z"
   },
   {
    "duration": 188,
    "start_time": "2022-08-10T12:24:37.121Z"
   },
   {
    "duration": 163,
    "start_time": "2022-08-10T12:26:39.590Z"
   },
   {
    "duration": 170,
    "start_time": "2022-08-10T12:27:49.838Z"
   },
   {
    "duration": 177,
    "start_time": "2022-08-10T12:28:05.154Z"
   },
   {
    "duration": 266,
    "start_time": "2022-08-10T12:35:46.750Z"
   },
   {
    "duration": 241,
    "start_time": "2022-08-10T12:36:02.132Z"
   },
   {
    "duration": 255,
    "start_time": "2022-08-10T12:36:34.498Z"
   },
   {
    "duration": 45,
    "start_time": "2022-08-10T12:36:48.447Z"
   },
   {
    "duration": 353,
    "start_time": "2022-08-10T12:36:59.826Z"
   },
   {
    "duration": 173,
    "start_time": "2022-08-10T12:42:38.304Z"
   },
   {
    "duration": 197,
    "start_time": "2022-08-10T12:43:57.867Z"
   },
   {
    "duration": 309,
    "start_time": "2022-08-10T12:44:45.280Z"
   },
   {
    "duration": 198,
    "start_time": "2022-08-10T12:44:54.047Z"
   },
   {
    "duration": 279,
    "start_time": "2022-08-10T12:47:29.619Z"
   },
   {
    "duration": 98,
    "start_time": "2022-08-10T17:06:53.682Z"
   },
   {
    "duration": 100,
    "start_time": "2022-08-10T17:07:20.194Z"
   },
   {
    "duration": 51,
    "start_time": "2022-08-12T10:02:38.261Z"
   },
   {
    "duration": 1253,
    "start_time": "2022-08-12T10:02:49.124Z"
   },
   {
    "duration": 265,
    "start_time": "2022-08-12T10:02:50.380Z"
   },
   {
    "duration": 28,
    "start_time": "2022-08-12T10:02:50.646Z"
   },
   {
    "duration": 29,
    "start_time": "2022-08-12T10:02:50.676Z"
   },
   {
    "duration": 7,
    "start_time": "2022-08-12T10:02:50.708Z"
   },
   {
    "duration": 13,
    "start_time": "2022-08-12T10:02:50.716Z"
   },
   {
    "duration": 38,
    "start_time": "2022-08-12T10:02:50.731Z"
   },
   {
    "duration": 14,
    "start_time": "2022-08-12T10:02:50.772Z"
   },
   {
    "duration": 345,
    "start_time": "2022-08-12T10:02:50.788Z"
   },
   {
    "duration": 302,
    "start_time": "2022-08-12T10:02:51.135Z"
   },
   {
    "duration": 242,
    "start_time": "2022-08-12T10:02:51.440Z"
   },
   {
    "duration": 355,
    "start_time": "2022-08-12T10:02:51.684Z"
   },
   {
    "duration": 243,
    "start_time": "2022-08-12T10:02:52.041Z"
   },
   {
    "duration": 327,
    "start_time": "2022-08-12T10:02:52.286Z"
   },
   {
    "duration": 165,
    "start_time": "2022-08-12T10:02:52.615Z"
   },
   {
    "duration": 7,
    "start_time": "2022-08-12T10:02:52.782Z"
   },
   {
    "duration": 158,
    "start_time": "2022-08-12T10:06:39.784Z"
   },
   {
    "duration": 6,
    "start_time": "2022-08-12T10:07:59.331Z"
   },
   {
    "duration": 217,
    "start_time": "2022-08-12T11:46:26.099Z"
   },
   {
    "duration": 374,
    "start_time": "2022-08-12T11:48:19.541Z"
   },
   {
    "duration": 10,
    "start_time": "2022-08-12T11:53:41.097Z"
   },
   {
    "duration": 1367,
    "start_time": "2022-08-12T12:00:54.727Z"
   },
   {
    "duration": 1292,
    "start_time": "2022-08-12T12:01:22.137Z"
   },
   {
    "duration": 9,
    "start_time": "2022-08-12T12:02:04.526Z"
   },
   {
    "duration": 9,
    "start_time": "2022-08-12T12:04:13.637Z"
   },
   {
    "duration": 20,
    "start_time": "2022-08-12T12:04:25.157Z"
   },
   {
    "duration": 26,
    "start_time": "2022-08-12T12:06:51.556Z"
   },
   {
    "duration": 88,
    "start_time": "2022-08-12T12:07:10.895Z"
   },
   {
    "duration": 1789,
    "start_time": "2022-08-12T12:07:19.024Z"
   },
   {
    "duration": 20,
    "start_time": "2022-08-12T12:07:52.124Z"
   },
   {
    "duration": 51,
    "start_time": "2022-08-12T17:34:30.055Z"
   },
   {
    "duration": 1185,
    "start_time": "2022-08-12T17:34:45.678Z"
   },
   {
    "duration": 270,
    "start_time": "2022-08-12T17:34:46.866Z"
   },
   {
    "duration": 23,
    "start_time": "2022-08-12T17:34:47.137Z"
   },
   {
    "duration": 22,
    "start_time": "2022-08-12T17:34:47.162Z"
   },
   {
    "duration": 6,
    "start_time": "2022-08-12T17:34:47.186Z"
   },
   {
    "duration": 15,
    "start_time": "2022-08-12T17:34:47.193Z"
   },
   {
    "duration": 10,
    "start_time": "2022-08-12T17:34:47.210Z"
   },
   {
    "duration": 9,
    "start_time": "2022-08-12T17:34:47.221Z"
   },
   {
    "duration": 274,
    "start_time": "2022-08-12T17:34:47.232Z"
   },
   {
    "duration": 253,
    "start_time": "2022-08-12T17:34:47.508Z"
   },
   {
    "duration": 176,
    "start_time": "2022-08-12T17:34:47.763Z"
   },
   {
    "duration": 290,
    "start_time": "2022-08-12T17:34:47.940Z"
   },
   {
    "duration": 198,
    "start_time": "2022-08-12T17:34:48.232Z"
   },
   {
    "duration": 274,
    "start_time": "2022-08-12T17:34:48.433Z"
   },
   {
    "duration": 107,
    "start_time": "2022-08-12T17:34:48.709Z"
   },
   {
    "duration": 5,
    "start_time": "2022-08-12T17:34:48.817Z"
   },
   {
    "duration": 126,
    "start_time": "2022-08-12T17:34:48.823Z"
   },
   {
    "duration": 5,
    "start_time": "2022-08-12T17:34:48.950Z"
   },
   {
    "duration": 330,
    "start_time": "2022-08-12T17:34:48.957Z"
   },
   {
    "duration": 15,
    "start_time": "2022-08-12T17:34:49.288Z"
   },
   {
    "duration": 8,
    "start_time": "2022-08-12T17:34:49.304Z"
   },
   {
    "duration": 8,
    "start_time": "2022-08-12T17:34:49.313Z"
   },
   {
    "duration": 25,
    "start_time": "2022-08-12T17:34:49.323Z"
   },
   {
    "duration": 15,
    "start_time": "2022-08-12T17:34:49.349Z"
   },
   {
    "duration": 180,
    "start_time": "2022-08-12T17:37:33.345Z"
   },
   {
    "duration": 395,
    "start_time": "2022-08-12T17:42:30.621Z"
   },
   {
    "duration": 322,
    "start_time": "2022-08-12T17:42:52.997Z"
   },
   {
    "duration": 288,
    "start_time": "2022-08-12T17:42:59.821Z"
   },
   {
    "duration": 287,
    "start_time": "2022-08-12T17:43:30.821Z"
   },
   {
    "duration": 360,
    "start_time": "2022-08-12T18:18:10.176Z"
   },
   {
    "duration": 13,
    "start_time": "2022-08-12T18:18:15.475Z"
   },
   {
    "duration": 10,
    "start_time": "2022-08-12T18:23:58.637Z"
   },
   {
    "duration": 10,
    "start_time": "2022-08-12T18:27:05.401Z"
   },
   {
    "duration": 12,
    "start_time": "2022-08-12T18:28:16.854Z"
   },
   {
    "duration": 94,
    "start_time": "2022-08-12T18:28:39.471Z"
   },
   {
    "duration": 14,
    "start_time": "2022-08-12T18:28:48.454Z"
   },
   {
    "duration": 10,
    "start_time": "2022-08-12T18:29:42.035Z"
   },
   {
    "duration": 11,
    "start_time": "2022-08-12T18:30:30.059Z"
   },
   {
    "duration": 5,
    "start_time": "2022-08-12T19:05:18.019Z"
   },
   {
    "duration": 4,
    "start_time": "2022-08-12T19:06:18.599Z"
   },
   {
    "duration": 12,
    "start_time": "2022-08-12T19:09:24.957Z"
   },
   {
    "duration": 11,
    "start_time": "2022-08-12T19:09:34.774Z"
   },
   {
    "duration": 1094,
    "start_time": "2022-08-13T11:19:46.930Z"
   },
   {
    "duration": 245,
    "start_time": "2022-08-13T11:19:48.026Z"
   },
   {
    "duration": 22,
    "start_time": "2022-08-13T11:19:48.273Z"
   },
   {
    "duration": 21,
    "start_time": "2022-08-13T11:19:48.297Z"
   },
   {
    "duration": 5,
    "start_time": "2022-08-13T11:19:48.319Z"
   },
   {
    "duration": 10,
    "start_time": "2022-08-13T11:19:48.325Z"
   },
   {
    "duration": 10,
    "start_time": "2022-08-13T11:19:48.337Z"
   },
   {
    "duration": 9,
    "start_time": "2022-08-13T11:19:48.348Z"
   },
   {
    "duration": 284,
    "start_time": "2022-08-13T11:19:48.359Z"
   },
   {
    "duration": 241,
    "start_time": "2022-08-13T11:19:48.646Z"
   },
   {
    "duration": 172,
    "start_time": "2022-08-13T11:19:48.888Z"
   },
   {
    "duration": 355,
    "start_time": "2022-08-13T11:19:49.062Z"
   },
   {
    "duration": 178,
    "start_time": "2022-08-13T11:19:49.419Z"
   },
   {
    "duration": 318,
    "start_time": "2022-08-13T11:19:49.599Z"
   },
   {
    "duration": 109,
    "start_time": "2022-08-13T11:19:49.918Z"
   },
   {
    "duration": 5,
    "start_time": "2022-08-13T11:19:50.028Z"
   },
   {
    "duration": 128,
    "start_time": "2022-08-13T11:19:50.034Z"
   },
   {
    "duration": 5,
    "start_time": "2022-08-13T11:19:50.163Z"
   },
   {
    "duration": 334,
    "start_time": "2022-08-13T11:19:50.169Z"
   },
   {
    "duration": 10,
    "start_time": "2022-08-13T11:19:50.506Z"
   },
   {
    "duration": 8,
    "start_time": "2022-08-13T11:19:50.517Z"
   },
   {
    "duration": 11,
    "start_time": "2022-08-13T11:19:50.526Z"
   },
   {
    "duration": 20,
    "start_time": "2022-08-13T11:19:50.539Z"
   },
   {
    "duration": 14,
    "start_time": "2022-08-13T11:19:50.560Z"
   },
   {
    "duration": 31,
    "start_time": "2022-08-13T11:19:50.575Z"
   },
   {
    "duration": 9,
    "start_time": "2022-08-13T11:19:50.607Z"
   },
   {
    "duration": 4,
    "start_time": "2022-08-13T11:36:03.533Z"
   },
   {
    "duration": 90,
    "start_time": "2022-08-13T11:36:14.920Z"
   },
   {
    "duration": 8,
    "start_time": "2022-08-13T11:36:43.503Z"
   },
   {
    "duration": 4,
    "start_time": "2022-08-13T11:36:52.092Z"
   },
   {
    "duration": 4,
    "start_time": "2022-08-13T11:37:11.741Z"
   },
   {
    "duration": 4,
    "start_time": "2022-08-13T11:39:26.697Z"
   },
   {
    "duration": 3,
    "start_time": "2022-08-13T11:41:42.142Z"
   },
   {
    "duration": 8,
    "start_time": "2022-08-13T11:42:26.333Z"
   },
   {
    "duration": 93,
    "start_time": "2022-08-13T11:43:24.124Z"
   },
   {
    "duration": 141,
    "start_time": "2022-08-13T11:45:47.933Z"
   },
   {
    "duration": 460,
    "start_time": "2022-08-13T11:49:51.357Z"
   },
   {
    "duration": 168,
    "start_time": "2022-08-13T11:50:15.317Z"
   },
   {
    "duration": 195,
    "start_time": "2022-08-13T11:50:28.828Z"
   },
   {
    "duration": 144,
    "start_time": "2022-08-13T11:51:27.731Z"
   },
   {
    "duration": 166,
    "start_time": "2022-08-13T11:51:39.973Z"
   },
   {
    "duration": 151,
    "start_time": "2022-08-13T11:51:59.529Z"
   },
   {
    "duration": 156,
    "start_time": "2022-08-13T11:59:22.499Z"
   },
   {
    "duration": 192,
    "start_time": "2022-08-13T11:59:40.158Z"
   },
   {
    "duration": 165,
    "start_time": "2022-08-13T12:00:20.049Z"
   },
   {
    "duration": 154,
    "start_time": "2022-08-13T12:00:47.528Z"
   },
   {
    "duration": 154,
    "start_time": "2022-08-13T12:01:02.735Z"
   },
   {
    "duration": 146,
    "start_time": "2022-08-13T12:01:15.850Z"
   },
   {
    "duration": 156,
    "start_time": "2022-08-13T12:02:18.777Z"
   },
   {
    "duration": 147,
    "start_time": "2022-08-13T12:02:46.899Z"
   },
   {
    "duration": 144,
    "start_time": "2022-08-13T12:03:17.733Z"
   },
   {
    "duration": 156,
    "start_time": "2022-08-13T12:03:40.799Z"
   },
   {
    "duration": 171,
    "start_time": "2022-08-13T12:06:04.721Z"
   },
   {
    "duration": 5,
    "start_time": "2022-08-13T12:08:41.028Z"
   },
   {
    "duration": 158,
    "start_time": "2022-08-13T12:09:38.738Z"
   },
   {
    "duration": 5,
    "start_time": "2022-08-13T12:09:45.889Z"
   },
   {
    "duration": 12,
    "start_time": "2022-08-13T12:18:24.691Z"
   },
   {
    "duration": 931,
    "start_time": "2022-08-13T12:27:59.664Z"
   },
   {
    "duration": 127,
    "start_time": "2022-08-13T12:28:00.597Z"
   },
   {
    "duration": 21,
    "start_time": "2022-08-13T12:28:00.726Z"
   },
   {
    "duration": 18,
    "start_time": "2022-08-13T12:28:00.749Z"
   },
   {
    "duration": 7,
    "start_time": "2022-08-13T12:28:00.769Z"
   },
   {
    "duration": 14,
    "start_time": "2022-08-13T12:28:00.778Z"
   },
   {
    "duration": 22,
    "start_time": "2022-08-13T12:28:00.794Z"
   },
   {
    "duration": 9,
    "start_time": "2022-08-13T12:28:00.818Z"
   },
   {
    "duration": 266,
    "start_time": "2022-08-13T12:28:00.828Z"
   },
   {
    "duration": 252,
    "start_time": "2022-08-13T12:28:01.095Z"
   },
   {
    "duration": 198,
    "start_time": "2022-08-13T12:28:01.349Z"
   },
   {
    "duration": 277,
    "start_time": "2022-08-13T12:28:01.549Z"
   },
   {
    "duration": 176,
    "start_time": "2022-08-13T12:28:01.828Z"
   },
   {
    "duration": 311,
    "start_time": "2022-08-13T12:28:02.007Z"
   },
   {
    "duration": 129,
    "start_time": "2022-08-13T12:28:02.320Z"
   },
   {
    "duration": 5,
    "start_time": "2022-08-13T12:28:02.450Z"
   },
   {
    "duration": 143,
    "start_time": "2022-08-13T12:28:02.457Z"
   },
   {
    "duration": 7,
    "start_time": "2022-08-13T12:28:02.601Z"
   },
   {
    "duration": 374,
    "start_time": "2022-08-13T12:28:02.610Z"
   },
   {
    "duration": 27,
    "start_time": "2022-08-13T12:28:02.985Z"
   },
   {
    "duration": 9,
    "start_time": "2022-08-13T12:28:03.014Z"
   },
   {
    "duration": 10,
    "start_time": "2022-08-13T12:28:03.025Z"
   },
   {
    "duration": 25,
    "start_time": "2022-08-13T12:28:03.037Z"
   },
   {
    "duration": 44,
    "start_time": "2022-08-13T12:28:03.063Z"
   },
   {
    "duration": 4,
    "start_time": "2022-08-13T12:28:03.109Z"
   },
   {
    "duration": 12,
    "start_time": "2022-08-13T12:28:03.115Z"
   },
   {
    "duration": 170,
    "start_time": "2022-08-13T12:28:03.128Z"
   },
   {
    "duration": 9,
    "start_time": "2022-08-13T12:28:03.306Z"
   },
   {
    "duration": 1029,
    "start_time": "2022-08-13T12:28:36.786Z"
   },
   {
    "duration": 125,
    "start_time": "2022-08-13T12:28:37.817Z"
   },
   {
    "duration": 21,
    "start_time": "2022-08-13T12:28:37.943Z"
   },
   {
    "duration": 19,
    "start_time": "2022-08-13T12:28:37.965Z"
   },
   {
    "duration": 5,
    "start_time": "2022-08-13T12:28:37.986Z"
   },
   {
    "duration": 9,
    "start_time": "2022-08-13T12:28:37.993Z"
   },
   {
    "duration": 10,
    "start_time": "2022-08-13T12:28:38.004Z"
   },
   {
    "duration": 9,
    "start_time": "2022-08-13T12:28:38.015Z"
   },
   {
    "duration": 291,
    "start_time": "2022-08-13T12:28:38.025Z"
   },
   {
    "duration": 256,
    "start_time": "2022-08-13T12:28:38.317Z"
   },
   {
    "duration": 164,
    "start_time": "2022-08-13T12:28:38.574Z"
   },
   {
    "duration": 254,
    "start_time": "2022-08-13T12:28:38.740Z"
   },
   {
    "duration": 185,
    "start_time": "2022-08-13T12:28:38.996Z"
   },
   {
    "duration": 317,
    "start_time": "2022-08-13T12:28:39.183Z"
   },
   {
    "duration": 117,
    "start_time": "2022-08-13T12:28:39.501Z"
   },
   {
    "duration": 4,
    "start_time": "2022-08-13T12:28:39.620Z"
   },
   {
    "duration": 126,
    "start_time": "2022-08-13T12:28:39.626Z"
   },
   {
    "duration": 5,
    "start_time": "2022-08-13T12:28:39.754Z"
   },
   {
    "duration": 351,
    "start_time": "2022-08-13T12:28:39.761Z"
   },
   {
    "duration": 10,
    "start_time": "2022-08-13T12:28:40.114Z"
   },
   {
    "duration": 7,
    "start_time": "2022-08-13T12:28:40.126Z"
   },
   {
    "duration": 7,
    "start_time": "2022-08-13T12:28:40.135Z"
   },
   {
    "duration": 35,
    "start_time": "2022-08-13T12:28:40.144Z"
   },
   {
    "duration": 35,
    "start_time": "2022-08-13T12:28:40.181Z"
   },
   {
    "duration": 4,
    "start_time": "2022-08-13T12:28:40.218Z"
   },
   {
    "duration": 10,
    "start_time": "2022-08-13T12:28:40.224Z"
   },
   {
    "duration": 215,
    "start_time": "2022-08-13T12:28:40.236Z"
   },
   {
    "duration": 11,
    "start_time": "2022-08-13T12:28:40.452Z"
   },
   {
    "duration": 920,
    "start_time": "2022-08-13T12:45:50.248Z"
   },
   {
    "duration": 125,
    "start_time": "2022-08-13T12:45:51.170Z"
   },
   {
    "duration": 21,
    "start_time": "2022-08-13T12:45:51.297Z"
   },
   {
    "duration": 21,
    "start_time": "2022-08-13T12:45:51.320Z"
   },
   {
    "duration": 5,
    "start_time": "2022-08-13T12:45:51.343Z"
   },
   {
    "duration": 10,
    "start_time": "2022-08-13T12:45:51.349Z"
   },
   {
    "duration": 10,
    "start_time": "2022-08-13T12:45:51.360Z"
   },
   {
    "duration": 36,
    "start_time": "2022-08-13T12:45:51.371Z"
   },
   {
    "duration": 255,
    "start_time": "2022-08-13T12:45:51.408Z"
   },
   {
    "duration": 257,
    "start_time": "2022-08-13T12:45:51.665Z"
   },
   {
    "duration": 175,
    "start_time": "2022-08-13T12:45:51.924Z"
   },
   {
    "duration": 286,
    "start_time": "2022-08-13T12:45:52.105Z"
   },
   {
    "duration": 183,
    "start_time": "2022-08-13T12:45:52.393Z"
   },
   {
    "duration": 323,
    "start_time": "2022-08-13T12:45:52.577Z"
   },
   {
    "duration": 120,
    "start_time": "2022-08-13T12:45:52.901Z"
   },
   {
    "duration": 5,
    "start_time": "2022-08-13T12:45:53.022Z"
   },
   {
    "duration": 135,
    "start_time": "2022-08-13T12:45:53.028Z"
   },
   {
    "duration": 5,
    "start_time": "2022-08-13T12:45:53.164Z"
   },
   {
    "duration": 330,
    "start_time": "2022-08-13T12:45:53.170Z"
   },
   {
    "duration": 12,
    "start_time": "2022-08-13T12:45:53.501Z"
   },
   {
    "duration": 7,
    "start_time": "2022-08-13T12:45:53.515Z"
   },
   {
    "duration": 8,
    "start_time": "2022-08-13T12:45:53.524Z"
   },
   {
    "duration": 21,
    "start_time": "2022-08-13T12:45:53.533Z"
   },
   {
    "duration": 13,
    "start_time": "2022-08-13T12:45:53.555Z"
   },
   {
    "duration": 37,
    "start_time": "2022-08-13T12:45:53.570Z"
   },
   {
    "duration": 11,
    "start_time": "2022-08-13T12:45:53.608Z"
   },
   {
    "duration": 205,
    "start_time": "2022-08-13T12:45:53.620Z"
   },
   {
    "duration": 10,
    "start_time": "2022-08-13T12:45:53.828Z"
   },
   {
    "duration": 1012,
    "start_time": "2022-08-13T19:38:54.519Z"
   },
   {
    "duration": 113,
    "start_time": "2022-08-13T19:38:55.533Z"
   },
   {
    "duration": 19,
    "start_time": "2022-08-13T19:38:55.648Z"
   },
   {
    "duration": 29,
    "start_time": "2022-08-13T19:38:55.669Z"
   },
   {
    "duration": 6,
    "start_time": "2022-08-13T19:38:55.700Z"
   },
   {
    "duration": 30,
    "start_time": "2022-08-13T19:38:55.707Z"
   },
   {
    "duration": 25,
    "start_time": "2022-08-13T19:38:55.739Z"
   },
   {
    "duration": 15,
    "start_time": "2022-08-13T19:38:55.765Z"
   },
   {
    "duration": 263,
    "start_time": "2022-08-13T19:38:55.782Z"
   },
   {
    "duration": 245,
    "start_time": "2022-08-13T19:38:56.048Z"
   },
   {
    "duration": 172,
    "start_time": "2022-08-13T19:38:56.295Z"
   },
   {
    "duration": 293,
    "start_time": "2022-08-13T19:38:56.469Z"
   },
   {
    "duration": 183,
    "start_time": "2022-08-13T19:38:56.764Z"
   },
   {
    "duration": 271,
    "start_time": "2022-08-13T19:38:56.949Z"
   },
   {
    "duration": 104,
    "start_time": "2022-08-13T19:38:57.222Z"
   },
   {
    "duration": 5,
    "start_time": "2022-08-13T19:38:57.327Z"
   },
   {
    "duration": 115,
    "start_time": "2022-08-13T19:38:57.333Z"
   },
   {
    "duration": 4,
    "start_time": "2022-08-13T19:38:57.450Z"
   },
   {
    "duration": 339,
    "start_time": "2022-08-13T19:38:57.455Z"
   },
   {
    "duration": 10,
    "start_time": "2022-08-13T19:38:57.797Z"
   },
   {
    "duration": 7,
    "start_time": "2022-08-13T19:38:57.808Z"
   },
   {
    "duration": 15,
    "start_time": "2022-08-13T19:38:57.817Z"
   },
   {
    "duration": 20,
    "start_time": "2022-08-13T19:38:57.834Z"
   },
   {
    "duration": 13,
    "start_time": "2022-08-13T19:38:57.855Z"
   },
   {
    "duration": 30,
    "start_time": "2022-08-13T19:38:57.869Z"
   },
   {
    "duration": 9,
    "start_time": "2022-08-13T19:38:57.900Z"
   },
   {
    "duration": 179,
    "start_time": "2022-08-13T19:38:57.910Z"
   },
   {
    "duration": 10,
    "start_time": "2022-08-13T19:38:58.097Z"
   },
   {
    "duration": 1086,
    "start_time": "2022-08-14T07:03:53.047Z"
   },
   {
    "duration": 4,
    "start_time": "2022-08-14T07:03:54.135Z"
   },
   {
    "duration": 156,
    "start_time": "2022-08-14T07:03:54.140Z"
   },
   {
    "duration": 0,
    "start_time": "2022-08-14T07:03:54.298Z"
   },
   {
    "duration": 0,
    "start_time": "2022-08-14T07:03:54.299Z"
   },
   {
    "duration": 0,
    "start_time": "2022-08-14T07:03:54.301Z"
   },
   {
    "duration": 0,
    "start_time": "2022-08-14T07:03:54.302Z"
   },
   {
    "duration": 0,
    "start_time": "2022-08-14T07:03:54.303Z"
   },
   {
    "duration": 0,
    "start_time": "2022-08-14T07:03:54.304Z"
   },
   {
    "duration": 0,
    "start_time": "2022-08-14T07:03:54.305Z"
   },
   {
    "duration": 0,
    "start_time": "2022-08-14T07:03:54.306Z"
   },
   {
    "duration": 0,
    "start_time": "2022-08-14T07:03:54.307Z"
   },
   {
    "duration": 0,
    "start_time": "2022-08-14T07:03:54.308Z"
   },
   {
    "duration": 0,
    "start_time": "2022-08-14T07:03:54.309Z"
   },
   {
    "duration": 0,
    "start_time": "2022-08-14T07:03:54.310Z"
   },
   {
    "duration": 0,
    "start_time": "2022-08-14T07:03:54.312Z"
   },
   {
    "duration": 0,
    "start_time": "2022-08-14T07:03:54.313Z"
   },
   {
    "duration": 0,
    "start_time": "2022-08-14T07:03:54.314Z"
   },
   {
    "duration": 0,
    "start_time": "2022-08-14T07:03:54.315Z"
   },
   {
    "duration": 0,
    "start_time": "2022-08-14T07:03:54.317Z"
   },
   {
    "duration": 0,
    "start_time": "2022-08-14T07:03:54.318Z"
   },
   {
    "duration": 0,
    "start_time": "2022-08-14T07:03:54.319Z"
   },
   {
    "duration": 0,
    "start_time": "2022-08-14T07:03:54.320Z"
   },
   {
    "duration": 0,
    "start_time": "2022-08-14T07:03:54.321Z"
   },
   {
    "duration": 0,
    "start_time": "2022-08-14T07:03:54.322Z"
   },
   {
    "duration": 0,
    "start_time": "2022-08-14T07:03:54.323Z"
   },
   {
    "duration": 0,
    "start_time": "2022-08-14T07:03:54.325Z"
   },
   {
    "duration": 0,
    "start_time": "2022-08-14T07:03:54.326Z"
   },
   {
    "duration": 0,
    "start_time": "2022-08-14T07:03:54.327Z"
   },
   {
    "duration": 4,
    "start_time": "2022-08-14T07:07:16.649Z"
   },
   {
    "duration": 7,
    "start_time": "2022-08-14T07:07:20.239Z"
   },
   {
    "duration": 3,
    "start_time": "2022-08-14T07:09:52.771Z"
   },
   {
    "duration": 69,
    "start_time": "2022-08-14T07:09:53.738Z"
   },
   {
    "duration": 173,
    "start_time": "2022-08-14T07:10:19.050Z"
   },
   {
    "duration": 9,
    "start_time": "2022-08-14T07:10:33.829Z"
   },
   {
    "duration": 8,
    "start_time": "2022-08-14T07:11:31.208Z"
   },
   {
    "duration": 4,
    "start_time": "2022-08-14T07:14:02.792Z"
   },
   {
    "duration": 33,
    "start_time": "2022-08-14T07:14:03.438Z"
   },
   {
    "duration": 84,
    "start_time": "2022-08-14T07:15:02.938Z"
   },
   {
    "duration": 8,
    "start_time": "2022-08-14T07:15:09.368Z"
   },
   {
    "duration": 10,
    "start_time": "2022-08-14T07:15:22.709Z"
   },
   {
    "duration": 1005,
    "start_time": "2022-08-14T07:15:35.344Z"
   },
   {
    "duration": 4,
    "start_time": "2022-08-14T07:15:36.351Z"
   },
   {
    "duration": 151,
    "start_time": "2022-08-14T07:15:36.357Z"
   },
   {
    "duration": 0,
    "start_time": "2022-08-14T07:15:36.510Z"
   },
   {
    "duration": 0,
    "start_time": "2022-08-14T07:15:36.511Z"
   },
   {
    "duration": 0,
    "start_time": "2022-08-14T07:15:36.512Z"
   },
   {
    "duration": 0,
    "start_time": "2022-08-14T07:15:36.513Z"
   },
   {
    "duration": 0,
    "start_time": "2022-08-14T07:15:36.514Z"
   },
   {
    "duration": 0,
    "start_time": "2022-08-14T07:15:36.515Z"
   },
   {
    "duration": 0,
    "start_time": "2022-08-14T07:15:36.516Z"
   },
   {
    "duration": 0,
    "start_time": "2022-08-14T07:15:36.517Z"
   },
   {
    "duration": 0,
    "start_time": "2022-08-14T07:15:36.517Z"
   },
   {
    "duration": 0,
    "start_time": "2022-08-14T07:15:36.518Z"
   },
   {
    "duration": 0,
    "start_time": "2022-08-14T07:15:36.519Z"
   },
   {
    "duration": 0,
    "start_time": "2022-08-14T07:15:36.520Z"
   },
   {
    "duration": 0,
    "start_time": "2022-08-14T07:15:36.521Z"
   },
   {
    "duration": 0,
    "start_time": "2022-08-14T07:15:36.522Z"
   },
   {
    "duration": 0,
    "start_time": "2022-08-14T07:15:36.523Z"
   },
   {
    "duration": 0,
    "start_time": "2022-08-14T07:15:36.524Z"
   },
   {
    "duration": 0,
    "start_time": "2022-08-14T07:15:36.524Z"
   },
   {
    "duration": 0,
    "start_time": "2022-08-14T07:15:36.525Z"
   },
   {
    "duration": 0,
    "start_time": "2022-08-14T07:15:36.526Z"
   },
   {
    "duration": 0,
    "start_time": "2022-08-14T07:15:36.527Z"
   },
   {
    "duration": 0,
    "start_time": "2022-08-14T07:15:36.528Z"
   },
   {
    "duration": 0,
    "start_time": "2022-08-14T07:15:36.529Z"
   },
   {
    "duration": 0,
    "start_time": "2022-08-14T07:15:36.530Z"
   },
   {
    "duration": 0,
    "start_time": "2022-08-14T07:15:36.531Z"
   },
   {
    "duration": 0,
    "start_time": "2022-08-14T07:15:36.532Z"
   },
   {
    "duration": 0,
    "start_time": "2022-08-14T07:15:36.533Z"
   },
   {
    "duration": 3,
    "start_time": "2022-08-14T07:23:50.403Z"
   },
   {
    "duration": 82,
    "start_time": "2022-08-14T07:23:53.003Z"
   },
   {
    "duration": 79,
    "start_time": "2022-08-14T07:24:39.094Z"
   },
   {
    "duration": 24,
    "start_time": "2022-08-14T07:24:43.054Z"
   },
   {
    "duration": 29,
    "start_time": "2022-08-14T07:24:46.259Z"
   },
   {
    "duration": 163,
    "start_time": "2022-08-14T08:02:18.383Z"
   },
   {
    "duration": 12,
    "start_time": "2022-08-14T08:20:21.141Z"
   },
   {
    "duration": 5,
    "start_time": "2022-08-14T08:20:47.410Z"
   },
   {
    "duration": 9,
    "start_time": "2022-08-14T08:39:00.366Z"
   },
   {
    "duration": 10,
    "start_time": "2022-08-14T08:40:50.227Z"
   },
   {
    "duration": 20,
    "start_time": "2022-08-14T08:41:58.599Z"
   },
   {
    "duration": 12,
    "start_time": "2022-08-14T08:45:21.209Z"
   },
   {
    "duration": 5,
    "start_time": "2022-08-14T08:54:29.301Z"
   },
   {
    "duration": 9,
    "start_time": "2022-08-14T08:55:00.012Z"
   },
   {
    "duration": 9,
    "start_time": "2022-08-14T08:55:35.897Z"
   },
   {
    "duration": 5,
    "start_time": "2022-08-14T08:55:56.742Z"
   },
   {
    "duration": 8,
    "start_time": "2022-08-14T09:03:05.419Z"
   },
   {
    "duration": 7,
    "start_time": "2022-08-14T09:03:09.244Z"
   },
   {
    "duration": 4,
    "start_time": "2022-08-14T09:03:10.473Z"
   },
   {
    "duration": 3,
    "start_time": "2022-08-14T09:06:55.256Z"
   },
   {
    "duration": 15,
    "start_time": "2022-08-14T09:07:07.589Z"
   },
   {
    "duration": 5,
    "start_time": "2022-08-14T09:07:39.810Z"
   },
   {
    "duration": 14,
    "start_time": "2022-08-14T09:07:42.703Z"
   },
   {
    "duration": 18,
    "start_time": "2022-08-14T09:08:53.638Z"
   },
   {
    "duration": 5,
    "start_time": "2022-08-14T09:09:21.263Z"
   },
   {
    "duration": 9,
    "start_time": "2022-08-14T09:09:29.766Z"
   },
   {
    "duration": 3,
    "start_time": "2022-08-14T09:09:37.767Z"
   },
   {
    "duration": 10,
    "start_time": "2022-08-14T09:09:38.247Z"
   },
   {
    "duration": 3,
    "start_time": "2022-08-14T09:09:59.876Z"
   },
   {
    "duration": 13,
    "start_time": "2022-08-14T09:10:01.525Z"
   },
   {
    "duration": 3,
    "start_time": "2022-08-14T09:11:30.702Z"
   },
   {
    "duration": 18,
    "start_time": "2022-08-14T09:11:32.327Z"
   },
   {
    "duration": 3,
    "start_time": "2022-08-14T09:12:34.236Z"
   },
   {
    "duration": 38,
    "start_time": "2022-08-14T09:12:36.314Z"
   },
   {
    "duration": 3,
    "start_time": "2022-08-14T09:14:06.055Z"
   },
   {
    "duration": 41,
    "start_time": "2022-08-14T09:14:07.076Z"
   },
   {
    "duration": 3,
    "start_time": "2022-08-14T09:16:06.714Z"
   },
   {
    "duration": 45,
    "start_time": "2022-08-14T09:16:09.474Z"
   },
   {
    "duration": 4,
    "start_time": "2022-08-14T09:19:27.061Z"
   },
   {
    "duration": 33,
    "start_time": "2022-08-14T09:19:27.742Z"
   },
   {
    "duration": 59,
    "start_time": "2022-08-14T09:19:57.687Z"
   },
   {
    "duration": 4,
    "start_time": "2022-08-14T09:20:08.483Z"
   },
   {
    "duration": 46,
    "start_time": "2022-08-14T09:20:09.282Z"
   },
   {
    "duration": 6,
    "start_time": "2022-08-14T09:20:42.160Z"
   },
   {
    "duration": 52,
    "start_time": "2022-08-14T09:20:44.200Z"
   },
   {
    "duration": 9,
    "start_time": "2022-08-14T09:33:44.909Z"
   },
   {
    "duration": 4,
    "start_time": "2022-08-14T09:39:27.269Z"
   },
   {
    "duration": 10,
    "start_time": "2022-08-14T09:40:38.812Z"
   },
   {
    "duration": 115,
    "start_time": "2022-08-14T09:45:11.469Z"
   },
   {
    "duration": 53,
    "start_time": "2022-08-14T09:52:40.002Z"
   },
   {
    "duration": 5,
    "start_time": "2022-08-14T09:53:37.558Z"
   },
   {
    "duration": 37,
    "start_time": "2022-08-14T09:53:50.631Z"
   },
   {
    "duration": 4,
    "start_time": "2022-08-14T09:55:18.359Z"
   },
   {
    "duration": 39,
    "start_time": "2022-08-14T09:55:20.503Z"
   },
   {
    "duration": 146,
    "start_time": "2022-08-14T09:56:16.301Z"
   },
   {
    "duration": 44,
    "start_time": "2022-08-14T10:08:26.471Z"
   },
   {
    "duration": 4,
    "start_time": "2022-08-14T11:09:22.138Z"
   },
   {
    "duration": 38,
    "start_time": "2022-08-14T11:09:25.497Z"
   },
   {
    "duration": 5,
    "start_time": "2022-08-14T11:41:50.132Z"
   },
   {
    "duration": 43,
    "start_time": "2022-08-14T11:41:52.942Z"
   },
   {
    "duration": 21,
    "start_time": "2022-08-14T11:50:31.633Z"
   },
   {
    "duration": 1185,
    "start_time": "2022-08-14T11:57:08.028Z"
   },
   {
    "duration": 4,
    "start_time": "2022-08-14T11:57:09.216Z"
   },
   {
    "duration": 150,
    "start_time": "2022-08-14T11:57:09.221Z"
   },
   {
    "duration": 3,
    "start_time": "2022-08-14T11:57:09.373Z"
   },
   {
    "duration": 48,
    "start_time": "2022-08-14T11:57:09.377Z"
   },
   {
    "duration": 5,
    "start_time": "2022-08-14T11:57:09.428Z"
   },
   {
    "duration": 12,
    "start_time": "2022-08-14T11:57:09.434Z"
   },
   {
    "duration": 13,
    "start_time": "2022-08-14T11:57:09.448Z"
   },
   {
    "duration": 29,
    "start_time": "2022-08-14T11:57:09.463Z"
   },
   {
    "duration": 31,
    "start_time": "2022-08-14T11:57:09.495Z"
   },
   {
    "duration": 244,
    "start_time": "2022-08-14T11:57:09.528Z"
   },
   {
    "duration": 27,
    "start_time": "2022-08-14T11:57:09.774Z"
   },
   {
    "duration": 40,
    "start_time": "2022-08-14T11:57:09.803Z"
   },
   {
    "duration": 16,
    "start_time": "2022-08-14T11:57:09.845Z"
   },
   {
    "duration": 367,
    "start_time": "2022-08-14T11:57:09.864Z"
   },
   {
    "duration": 408,
    "start_time": "2022-08-14T11:57:10.233Z"
   },
   {
    "duration": 257,
    "start_time": "2022-08-14T11:57:10.643Z"
   },
   {
    "duration": 348,
    "start_time": "2022-08-14T11:57:10.902Z"
   },
   {
    "duration": 248,
    "start_time": "2022-08-14T11:57:11.251Z"
   },
   {
    "duration": 364,
    "start_time": "2022-08-14T11:57:11.501Z"
   },
   {
    "duration": 203,
    "start_time": "2022-08-14T11:57:11.867Z"
   },
   {
    "duration": 17,
    "start_time": "2022-08-14T11:57:12.072Z"
   },
   {
    "duration": 205,
    "start_time": "2022-08-14T11:57:12.098Z"
   },
   {
    "duration": 10,
    "start_time": "2022-08-14T11:57:12.305Z"
   },
   {
    "duration": 408,
    "start_time": "2022-08-14T11:57:12.317Z"
   },
   {
    "duration": 13,
    "start_time": "2022-08-14T11:57:12.727Z"
   },
   {
    "duration": 10,
    "start_time": "2022-08-14T11:57:12.742Z"
   },
   {
    "duration": 68,
    "start_time": "2022-08-14T11:57:12.755Z"
   },
   {
    "duration": 26,
    "start_time": "2022-08-14T11:57:12.825Z"
   },
   {
    "duration": 17,
    "start_time": "2022-08-14T11:57:12.852Z"
   },
   {
    "duration": 41,
    "start_time": "2022-08-14T11:58:28.250Z"
   },
   {
    "duration": 34,
    "start_time": "2022-08-14T11:58:34.442Z"
   },
   {
    "duration": 8,
    "start_time": "2022-08-14T11:59:41.127Z"
   },
   {
    "duration": 15,
    "start_time": "2022-08-14T12:47:58.481Z"
   },
   {
    "duration": 84,
    "start_time": "2022-08-14T12:51:04.148Z"
   },
   {
    "duration": 18,
    "start_time": "2022-08-14T12:51:21.381Z"
   },
   {
    "duration": 20,
    "start_time": "2022-08-14T12:52:13.683Z"
   },
   {
    "duration": 19,
    "start_time": "2022-08-14T12:53:32.982Z"
   },
   {
    "duration": 20,
    "start_time": "2022-08-14T12:56:11.725Z"
   },
   {
    "duration": 21,
    "start_time": "2022-08-14T12:56:33.341Z"
   },
   {
    "duration": 22,
    "start_time": "2022-08-14T12:58:57.850Z"
   },
   {
    "duration": 21,
    "start_time": "2022-08-14T14:08:17.877Z"
   },
   {
    "duration": 10,
    "start_time": "2022-08-14T14:14:35.919Z"
   },
   {
    "duration": 12,
    "start_time": "2022-08-14T14:17:54.203Z"
   },
   {
    "duration": 63,
    "start_time": "2022-08-14T14:19:46.147Z"
   },
   {
    "duration": 10,
    "start_time": "2022-08-14T14:24:45.740Z"
   },
   {
    "duration": 14,
    "start_time": "2022-08-14T14:30:26.123Z"
   },
   {
    "duration": 14,
    "start_time": "2022-08-14T14:37:25.722Z"
   },
   {
    "duration": 6,
    "start_time": "2022-08-14T14:41:37.317Z"
   },
   {
    "duration": 12,
    "start_time": "2022-08-14T14:41:44.058Z"
   },
   {
    "duration": 21,
    "start_time": "2022-08-14T14:43:37.938Z"
   },
   {
    "duration": 139,
    "start_time": "2022-08-14T14:44:01.557Z"
   },
   {
    "duration": 20,
    "start_time": "2022-08-14T14:46:25.685Z"
   },
   {
    "duration": 126,
    "start_time": "2022-08-14T14:54:30.816Z"
   },
   {
    "duration": 10,
    "start_time": "2022-08-14T15:08:41.437Z"
   },
   {
    "duration": 230,
    "start_time": "2022-08-14T15:09:26.519Z"
   },
   {
    "duration": 112,
    "start_time": "2022-08-14T15:11:22.309Z"
   },
   {
    "duration": 112,
    "start_time": "2022-08-14T15:11:57.569Z"
   },
   {
    "duration": 1310,
    "start_time": "2022-08-14T16:31:26.113Z"
   },
   {
    "duration": 4,
    "start_time": "2022-08-14T16:31:27.425Z"
   },
   {
    "duration": 306,
    "start_time": "2022-08-14T16:31:27.430Z"
   },
   {
    "duration": 3,
    "start_time": "2022-08-14T16:31:27.738Z"
   },
   {
    "duration": 39,
    "start_time": "2022-08-14T16:31:27.743Z"
   },
   {
    "duration": 28,
    "start_time": "2022-08-14T16:31:27.784Z"
   },
   {
    "duration": 22,
    "start_time": "2022-08-14T16:31:27.814Z"
   },
   {
    "duration": 5,
    "start_time": "2022-08-14T16:31:27.837Z"
   },
   {
    "duration": 13,
    "start_time": "2022-08-14T16:31:27.843Z"
   },
   {
    "duration": 6,
    "start_time": "2022-08-14T16:31:27.858Z"
   },
   {
    "duration": 9,
    "start_time": "2022-08-14T16:31:27.865Z"
   },
   {
    "duration": 6,
    "start_time": "2022-08-14T16:31:27.876Z"
   },
   {
    "duration": 10,
    "start_time": "2022-08-14T16:31:27.906Z"
   },
   {
    "duration": 204,
    "start_time": "2022-08-14T16:31:27.918Z"
   },
   {
    "duration": 9,
    "start_time": "2022-08-14T16:31:28.124Z"
   },
   {
    "duration": 9,
    "start_time": "2022-08-14T16:31:28.135Z"
   },
   {
    "duration": 9,
    "start_time": "2022-08-14T16:31:28.145Z"
   },
   {
    "duration": 68,
    "start_time": "2022-08-14T16:31:28.156Z"
   },
   {
    "duration": 113,
    "start_time": "2022-08-14T16:31:28.226Z"
   },
   {
    "duration": 275,
    "start_time": "2022-08-14T16:31:28.340Z"
   },
   {
    "duration": 238,
    "start_time": "2022-08-14T16:31:28.616Z"
   },
   {
    "duration": 175,
    "start_time": "2022-08-14T16:31:28.857Z"
   },
   {
    "duration": 295,
    "start_time": "2022-08-14T16:31:29.034Z"
   },
   {
    "duration": 198,
    "start_time": "2022-08-14T16:31:29.331Z"
   },
   {
    "duration": 308,
    "start_time": "2022-08-14T16:31:29.531Z"
   },
   {
    "duration": 121,
    "start_time": "2022-08-14T16:31:29.841Z"
   },
   {
    "duration": 5,
    "start_time": "2022-08-14T16:31:29.964Z"
   },
   {
    "duration": 147,
    "start_time": "2022-08-14T16:31:29.971Z"
   },
   {
    "duration": 5,
    "start_time": "2022-08-14T16:31:30.119Z"
   },
   {
    "duration": 422,
    "start_time": "2022-08-14T16:31:30.125Z"
   },
   {
    "duration": 10,
    "start_time": "2022-08-14T16:31:30.549Z"
   },
   {
    "duration": 16,
    "start_time": "2022-08-14T16:31:30.560Z"
   },
   {
    "duration": 26,
    "start_time": "2022-08-14T16:31:30.577Z"
   },
   {
    "duration": 24,
    "start_time": "2022-08-14T16:31:30.604Z"
   },
   {
    "duration": 15,
    "start_time": "2022-08-14T16:31:30.629Z"
   },
   {
    "duration": 9,
    "start_time": "2022-08-14T16:34:14.855Z"
   },
   {
    "duration": 117,
    "start_time": "2022-08-14T16:34:51.376Z"
   },
   {
    "duration": 413,
    "start_time": "2022-08-14T16:35:44.824Z"
   },
   {
    "duration": 127,
    "start_time": "2022-08-14T16:36:07.084Z"
   },
   {
    "duration": 132,
    "start_time": "2022-08-14T16:36:59.296Z"
   },
   {
    "duration": 267,
    "start_time": "2022-08-14T16:41:43.621Z"
   },
   {
    "duration": 271,
    "start_time": "2022-08-14T16:43:24.045Z"
   },
   {
    "duration": 229,
    "start_time": "2022-08-14T16:44:29.587Z"
   },
   {
    "duration": 197,
    "start_time": "2022-08-14T16:46:30.046Z"
   },
   {
    "duration": 121,
    "start_time": "2022-08-14T16:47:24.858Z"
   },
   {
    "duration": 322,
    "start_time": "2022-08-14T16:48:06.366Z"
   },
   {
    "duration": 249,
    "start_time": "2022-08-14T16:48:35.516Z"
   },
   {
    "duration": 10,
    "start_time": "2022-08-14T16:54:52.697Z"
   },
   {
    "duration": 9,
    "start_time": "2022-08-14T16:55:53.616Z"
   },
   {
    "duration": 7,
    "start_time": "2022-08-14T16:56:12.415Z"
   },
   {
    "duration": 8,
    "start_time": "2022-08-14T16:56:23.886Z"
   },
   {
    "duration": 286,
    "start_time": "2022-08-14T16:57:22.465Z"
   },
   {
    "duration": 131,
    "start_time": "2022-08-14T16:59:46.526Z"
   },
   {
    "duration": 127,
    "start_time": "2022-08-14T17:00:02.796Z"
   },
   {
    "duration": 234,
    "start_time": "2022-08-14T17:00:26.987Z"
   },
   {
    "duration": 212,
    "start_time": "2022-08-14T17:01:09.847Z"
   },
   {
    "duration": 207,
    "start_time": "2022-08-14T17:01:52.727Z"
   },
   {
    "duration": 231,
    "start_time": "2022-08-14T17:02:07.703Z"
   },
   {
    "duration": 227,
    "start_time": "2022-08-14T17:02:45.519Z"
   },
   {
    "duration": 251,
    "start_time": "2022-08-14T17:03:04.806Z"
   },
   {
    "duration": 211,
    "start_time": "2022-08-14T17:08:47.142Z"
   },
   {
    "duration": 212,
    "start_time": "2022-08-14T17:09:15.243Z"
   },
   {
    "duration": 247,
    "start_time": "2022-08-14T17:10:06.773Z"
   },
   {
    "duration": 208,
    "start_time": "2022-08-14T17:10:31.029Z"
   },
   {
    "duration": 224,
    "start_time": "2022-08-14T17:11:06.868Z"
   },
   {
    "duration": 221,
    "start_time": "2022-08-14T17:15:12.875Z"
   },
   {
    "duration": 245,
    "start_time": "2022-08-14T17:19:04.869Z"
   },
   {
    "duration": 205,
    "start_time": "2022-08-14T17:19:25.055Z"
   },
   {
    "duration": 182,
    "start_time": "2022-08-14T17:35:57.427Z"
   },
   {
    "duration": 186,
    "start_time": "2022-08-14T17:36:12.287Z"
   },
   {
    "duration": 181,
    "start_time": "2022-08-14T17:36:28.480Z"
   },
   {
    "duration": 184,
    "start_time": "2022-08-14T17:36:35.019Z"
   },
   {
    "duration": 217,
    "start_time": "2022-08-14T17:36:40.228Z"
   },
   {
    "duration": 268,
    "start_time": "2022-08-14T17:37:47.053Z"
   },
   {
    "duration": 284,
    "start_time": "2022-08-14T17:39:24.033Z"
   },
   {
    "duration": 268,
    "start_time": "2022-08-14T17:39:39.152Z"
   },
   {
    "duration": 219,
    "start_time": "2022-08-14T17:40:05.204Z"
   },
   {
    "duration": 181,
    "start_time": "2022-08-14T17:40:21.664Z"
   },
   {
    "duration": 219,
    "start_time": "2022-08-14T17:41:10.114Z"
   },
   {
    "duration": 199,
    "start_time": "2022-08-14T17:41:50.744Z"
   },
   {
    "duration": 320,
    "start_time": "2022-08-14T17:42:36.524Z"
   },
   {
    "duration": 195,
    "start_time": "2022-08-14T17:45:16.864Z"
   },
   {
    "duration": 243,
    "start_time": "2022-08-14T17:49:06.900Z"
   },
   {
    "duration": 202,
    "start_time": "2022-08-14T17:50:20.109Z"
   },
   {
    "duration": 354,
    "start_time": "2022-08-14T17:50:54.335Z"
   },
   {
    "duration": 250,
    "start_time": "2022-08-14T17:51:06.251Z"
   },
   {
    "duration": 188,
    "start_time": "2022-08-14T17:52:42.584Z"
   },
   {
    "duration": 220,
    "start_time": "2022-08-14T17:52:51.781Z"
   },
   {
    "duration": 138,
    "start_time": "2022-08-14T17:59:31.807Z"
   },
   {
    "duration": 141,
    "start_time": "2022-08-14T18:04:06.772Z"
   },
   {
    "duration": 126,
    "start_time": "2022-08-14T18:05:48.257Z"
   },
   {
    "duration": 918,
    "start_time": "2022-08-14T18:05:59.669Z"
   },
   {
    "duration": 3,
    "start_time": "2022-08-14T18:06:00.589Z"
   },
   {
    "duration": 141,
    "start_time": "2022-08-14T18:06:00.593Z"
   },
   {
    "duration": 3,
    "start_time": "2022-08-14T18:06:00.735Z"
   },
   {
    "duration": 51,
    "start_time": "2022-08-14T18:06:00.740Z"
   },
   {
    "duration": 28,
    "start_time": "2022-08-14T18:06:00.792Z"
   },
   {
    "duration": 23,
    "start_time": "2022-08-14T18:06:00.821Z"
   },
   {
    "duration": 5,
    "start_time": "2022-08-14T18:06:00.845Z"
   },
   {
    "duration": 16,
    "start_time": "2022-08-14T18:06:00.852Z"
   },
   {
    "duration": 21,
    "start_time": "2022-08-14T18:06:00.870Z"
   },
   {
    "duration": 36,
    "start_time": "2022-08-14T18:06:00.893Z"
   },
   {
    "duration": 8,
    "start_time": "2022-08-14T18:06:00.930Z"
   },
   {
    "duration": 17,
    "start_time": "2022-08-14T18:06:00.940Z"
   },
   {
    "duration": 172,
    "start_time": "2022-08-14T18:06:00.961Z"
   },
   {
    "duration": 12,
    "start_time": "2022-08-14T18:06:01.134Z"
   },
   {
    "duration": 11,
    "start_time": "2022-08-14T18:06:01.147Z"
   },
   {
    "duration": 11,
    "start_time": "2022-08-14T18:06:01.160Z"
   },
   {
    "duration": 76,
    "start_time": "2022-08-14T18:06:01.173Z"
   },
   {
    "duration": 245,
    "start_time": "2022-08-14T18:06:01.251Z"
   },
   {
    "duration": 252,
    "start_time": "2022-08-14T18:06:01.498Z"
   },
   {
    "duration": 257,
    "start_time": "2022-08-14T18:06:01.752Z"
   },
   {
    "duration": 190,
    "start_time": "2022-08-14T18:06:02.010Z"
   },
   {
    "duration": 299,
    "start_time": "2022-08-14T18:06:02.201Z"
   },
   {
    "duration": 182,
    "start_time": "2022-08-14T18:06:02.505Z"
   },
   {
    "duration": 336,
    "start_time": "2022-08-14T18:06:02.689Z"
   },
   {
    "duration": 109,
    "start_time": "2022-08-14T18:06:03.026Z"
   },
   {
    "duration": 4,
    "start_time": "2022-08-14T18:06:03.137Z"
   },
   {
    "duration": 140,
    "start_time": "2022-08-14T18:06:03.142Z"
   },
   {
    "duration": 6,
    "start_time": "2022-08-14T18:06:03.283Z"
   },
   {
    "duration": 388,
    "start_time": "2022-08-14T18:06:03.290Z"
   },
   {
    "duration": 13,
    "start_time": "2022-08-14T18:06:03.680Z"
   },
   {
    "duration": 9,
    "start_time": "2022-08-14T18:06:03.706Z"
   },
   {
    "duration": 12,
    "start_time": "2022-08-14T18:06:03.716Z"
   },
   {
    "duration": 25,
    "start_time": "2022-08-14T18:06:03.730Z"
   },
   {
    "duration": 15,
    "start_time": "2022-08-14T18:06:03.757Z"
   },
   {
    "duration": 205,
    "start_time": "2022-08-14T18:06:30.855Z"
   },
   {
    "duration": 211,
    "start_time": "2022-08-14T18:07:33.543Z"
   },
   {
    "duration": 207,
    "start_time": "2022-08-14T18:09:03.534Z"
   },
   {
    "duration": 932,
    "start_time": "2022-08-14T18:13:17.866Z"
   },
   {
    "duration": 3,
    "start_time": "2022-08-14T18:13:18.805Z"
   },
   {
    "duration": 128,
    "start_time": "2022-08-14T18:13:18.810Z"
   },
   {
    "duration": 3,
    "start_time": "2022-08-14T18:13:18.940Z"
   },
   {
    "duration": 38,
    "start_time": "2022-08-14T18:13:18.945Z"
   },
   {
    "duration": 26,
    "start_time": "2022-08-14T18:13:18.984Z"
   },
   {
    "duration": 20,
    "start_time": "2022-08-14T18:13:19.011Z"
   },
   {
    "duration": 5,
    "start_time": "2022-08-14T18:13:19.032Z"
   },
   {
    "duration": 6,
    "start_time": "2022-08-14T18:13:19.039Z"
   },
   {
    "duration": 8,
    "start_time": "2022-08-14T18:13:19.047Z"
   },
   {
    "duration": 9,
    "start_time": "2022-08-14T18:13:19.056Z"
   },
   {
    "duration": 4,
    "start_time": "2022-08-14T18:13:19.067Z"
   },
   {
    "duration": 35,
    "start_time": "2022-08-14T18:13:19.073Z"
   },
   {
    "duration": 188,
    "start_time": "2022-08-14T18:13:19.109Z"
   },
   {
    "duration": 8,
    "start_time": "2022-08-14T18:13:19.299Z"
   },
   {
    "duration": 11,
    "start_time": "2022-08-14T18:13:19.308Z"
   },
   {
    "duration": 9,
    "start_time": "2022-08-14T18:13:19.320Z"
   },
   {
    "duration": 9,
    "start_time": "2022-08-14T18:13:19.330Z"
   },
   {
    "duration": 48,
    "start_time": "2022-08-14T18:13:19.341Z"
   },
   {
    "duration": 290,
    "start_time": "2022-08-14T18:13:19.390Z"
   },
   {
    "duration": 258,
    "start_time": "2022-08-14T18:13:19.705Z"
   },
   {
    "duration": 255,
    "start_time": "2022-08-14T18:13:19.965Z"
   },
   {
    "duration": 191,
    "start_time": "2022-08-14T18:13:20.222Z"
   },
   {
    "duration": 292,
    "start_time": "2022-08-14T18:13:20.414Z"
   },
   {
    "duration": 187,
    "start_time": "2022-08-14T18:13:20.707Z"
   },
   {
    "duration": 320,
    "start_time": "2022-08-14T18:13:20.895Z"
   },
   {
    "duration": 128,
    "start_time": "2022-08-14T18:13:21.217Z"
   },
   {
    "duration": 4,
    "start_time": "2022-08-14T18:13:21.348Z"
   },
   {
    "duration": 123,
    "start_time": "2022-08-14T18:13:21.353Z"
   },
   {
    "duration": 4,
    "start_time": "2022-08-14T18:13:21.477Z"
   },
   {
    "duration": 403,
    "start_time": "2022-08-14T18:13:21.483Z"
   },
   {
    "duration": 19,
    "start_time": "2022-08-14T18:13:21.887Z"
   },
   {
    "duration": 10,
    "start_time": "2022-08-14T18:13:21.908Z"
   },
   {
    "duration": 20,
    "start_time": "2022-08-14T18:13:21.920Z"
   },
   {
    "duration": 28,
    "start_time": "2022-08-14T18:13:21.941Z"
   },
   {
    "duration": 24,
    "start_time": "2022-08-14T18:13:21.971Z"
   },
   {
    "duration": 263,
    "start_time": "2022-08-14T18:20:43.358Z"
   },
   {
    "duration": 323,
    "start_time": "2022-08-14T18:20:59.217Z"
   },
   {
    "duration": 170,
    "start_time": "2022-08-14T18:24:36.485Z"
   },
   {
    "duration": 121,
    "start_time": "2022-08-14T18:25:36.340Z"
   },
   {
    "duration": 13,
    "start_time": "2022-08-14T19:18:16.225Z"
   },
   {
    "duration": 1135,
    "start_time": "2022-08-15T05:57:34.183Z"
   },
   {
    "duration": 3,
    "start_time": "2022-08-15T05:57:35.320Z"
   },
   {
    "duration": 264,
    "start_time": "2022-08-15T05:57:35.325Z"
   },
   {
    "duration": 3,
    "start_time": "2022-08-15T05:57:35.591Z"
   },
   {
    "duration": 61,
    "start_time": "2022-08-15T05:57:35.596Z"
   },
   {
    "duration": 29,
    "start_time": "2022-08-15T05:57:35.658Z"
   },
   {
    "duration": 26,
    "start_time": "2022-08-15T05:57:35.688Z"
   },
   {
    "duration": 16,
    "start_time": "2022-08-15T05:57:35.716Z"
   },
   {
    "duration": 10,
    "start_time": "2022-08-15T05:57:35.733Z"
   },
   {
    "duration": 16,
    "start_time": "2022-08-15T05:57:35.745Z"
   },
   {
    "duration": 18,
    "start_time": "2022-08-15T05:57:35.762Z"
   },
   {
    "duration": 7,
    "start_time": "2022-08-15T05:57:35.782Z"
   },
   {
    "duration": 14,
    "start_time": "2022-08-15T05:57:35.791Z"
   },
   {
    "duration": 183,
    "start_time": "2022-08-15T05:57:35.807Z"
   },
   {
    "duration": 5,
    "start_time": "2022-08-15T05:57:35.991Z"
   },
   {
    "duration": 36,
    "start_time": "2022-08-15T05:57:35.998Z"
   },
   {
    "duration": 26,
    "start_time": "2022-08-15T05:57:36.036Z"
   },
   {
    "duration": 20,
    "start_time": "2022-08-15T05:57:36.064Z"
   },
   {
    "duration": 72,
    "start_time": "2022-08-15T05:57:36.086Z"
   },
   {
    "duration": 358,
    "start_time": "2022-08-15T05:57:36.160Z"
   },
   {
    "duration": 278,
    "start_time": "2022-08-15T05:57:36.520Z"
   },
   {
    "duration": 269,
    "start_time": "2022-08-15T05:57:36.802Z"
   },
   {
    "duration": 190,
    "start_time": "2022-08-15T05:57:37.073Z"
   },
   {
    "duration": 367,
    "start_time": "2022-08-15T05:57:37.264Z"
   },
   {
    "duration": 200,
    "start_time": "2022-08-15T05:57:37.634Z"
   },
   {
    "duration": 292,
    "start_time": "2022-08-15T05:57:37.836Z"
   },
   {
    "duration": 141,
    "start_time": "2022-08-15T05:57:38.130Z"
   },
   {
    "duration": 6,
    "start_time": "2022-08-15T05:57:38.274Z"
   },
   {
    "duration": 132,
    "start_time": "2022-08-15T05:57:38.287Z"
   },
   {
    "duration": 5,
    "start_time": "2022-08-15T05:57:38.421Z"
   },
   {
    "duration": 381,
    "start_time": "2022-08-15T05:57:38.427Z"
   },
   {
    "duration": 106,
    "start_time": "2022-08-15T05:57:38.809Z"
   },
   {
    "duration": 0,
    "start_time": "2022-08-15T05:57:38.917Z"
   },
   {
    "duration": 0,
    "start_time": "2022-08-15T05:57:38.918Z"
   },
   {
    "duration": 0,
    "start_time": "2022-08-15T05:57:38.919Z"
   },
   {
    "duration": 0,
    "start_time": "2022-08-15T05:57:38.921Z"
   },
   {
    "duration": 0,
    "start_time": "2022-08-15T05:57:38.922Z"
   },
   {
    "duration": 0,
    "start_time": "2022-08-15T05:57:38.923Z"
   },
   {
    "duration": 26,
    "start_time": "2022-08-15T05:58:20.041Z"
   },
   {
    "duration": 956,
    "start_time": "2022-08-15T05:58:50.220Z"
   },
   {
    "duration": 3,
    "start_time": "2022-08-15T05:58:51.178Z"
   },
   {
    "duration": 140,
    "start_time": "2022-08-15T05:58:51.183Z"
   },
   {
    "duration": 3,
    "start_time": "2022-08-15T05:58:51.325Z"
   },
   {
    "duration": 40,
    "start_time": "2022-08-15T05:58:51.330Z"
   },
   {
    "duration": 29,
    "start_time": "2022-08-15T05:58:51.372Z"
   },
   {
    "duration": 22,
    "start_time": "2022-08-15T05:58:51.403Z"
   },
   {
    "duration": 9,
    "start_time": "2022-08-15T05:58:51.427Z"
   },
   {
    "duration": 9,
    "start_time": "2022-08-15T05:58:51.437Z"
   },
   {
    "duration": 10,
    "start_time": "2022-08-15T05:58:51.449Z"
   },
   {
    "duration": 36,
    "start_time": "2022-08-15T05:58:51.461Z"
   },
   {
    "duration": 5,
    "start_time": "2022-08-15T05:58:51.499Z"
   },
   {
    "duration": 10,
    "start_time": "2022-08-15T05:58:51.505Z"
   },
   {
    "duration": 193,
    "start_time": "2022-08-15T05:58:51.516Z"
   },
   {
    "duration": 5,
    "start_time": "2022-08-15T05:58:51.710Z"
   },
   {
    "duration": 15,
    "start_time": "2022-08-15T05:58:51.716Z"
   },
   {
    "duration": 10,
    "start_time": "2022-08-15T05:58:51.733Z"
   },
   {
    "duration": 12,
    "start_time": "2022-08-15T05:58:51.745Z"
   },
   {
    "duration": 74,
    "start_time": "2022-08-15T05:58:51.758Z"
   },
   {
    "duration": 289,
    "start_time": "2022-08-15T05:58:51.833Z"
   },
   {
    "duration": 271,
    "start_time": "2022-08-15T05:58:52.124Z"
   },
   {
    "duration": 265,
    "start_time": "2022-08-15T05:58:52.397Z"
   },
   {
    "duration": 199,
    "start_time": "2022-08-15T05:58:52.664Z"
   },
   {
    "duration": 336,
    "start_time": "2022-08-15T05:58:52.864Z"
   },
   {
    "duration": 217,
    "start_time": "2022-08-15T05:58:53.202Z"
   },
   {
    "duration": 295,
    "start_time": "2022-08-15T05:58:53.421Z"
   },
   {
    "duration": 146,
    "start_time": "2022-08-15T05:58:53.717Z"
   },
   {
    "duration": 5,
    "start_time": "2022-08-15T05:58:53.866Z"
   },
   {
    "duration": 133,
    "start_time": "2022-08-15T05:58:53.872Z"
   },
   {
    "duration": 6,
    "start_time": "2022-08-15T05:58:54.007Z"
   },
   {
    "duration": 420,
    "start_time": "2022-08-15T05:58:54.015Z"
   },
   {
    "duration": 10,
    "start_time": "2022-08-15T05:58:54.437Z"
   },
   {
    "duration": 39,
    "start_time": "2022-08-15T05:58:54.448Z"
   },
   {
    "duration": 13,
    "start_time": "2022-08-15T05:58:54.489Z"
   },
   {
    "duration": 9,
    "start_time": "2022-08-15T05:58:54.504Z"
   },
   {
    "duration": 8,
    "start_time": "2022-08-15T05:58:54.514Z"
   },
   {
    "duration": 26,
    "start_time": "2022-08-15T05:58:54.524Z"
   },
   {
    "duration": 47,
    "start_time": "2022-08-15T05:58:54.552Z"
   },
   {
    "duration": 4,
    "start_time": "2022-08-15T06:01:05.667Z"
   },
   {
    "duration": 5,
    "start_time": "2022-08-15T06:01:26.227Z"
   },
   {
    "duration": 5,
    "start_time": "2022-08-15T06:03:05.346Z"
   },
   {
    "duration": 3,
    "start_time": "2022-08-15T06:04:04.177Z"
   },
   {
    "duration": 10,
    "start_time": "2022-08-15T06:17:19.549Z"
   },
   {
    "duration": 6,
    "start_time": "2022-08-15T06:26:29.925Z"
   },
   {
    "duration": 9,
    "start_time": "2022-08-15T06:51:08.886Z"
   },
   {
    "duration": 6,
    "start_time": "2022-08-15T06:51:54.605Z"
   },
   {
    "duration": 6,
    "start_time": "2022-08-15T06:52:09.565Z"
   },
   {
    "duration": 5,
    "start_time": "2022-08-15T06:52:25.205Z"
   },
   {
    "duration": 9,
    "start_time": "2022-08-15T06:53:28.693Z"
   },
   {
    "duration": 8,
    "start_time": "2022-08-15T06:53:58.455Z"
   },
   {
    "duration": 95,
    "start_time": "2022-08-15T07:02:29.706Z"
   },
   {
    "duration": 11,
    "start_time": "2022-08-15T07:02:36.447Z"
   },
   {
    "duration": 25,
    "start_time": "2022-08-15T07:08:05.855Z"
   },
   {
    "duration": 25,
    "start_time": "2022-08-15T07:08:42.524Z"
   },
   {
    "duration": 25,
    "start_time": "2022-08-15T07:11:22.075Z"
   },
   {
    "duration": 24,
    "start_time": "2022-08-15T07:13:38.545Z"
   },
   {
    "duration": 16,
    "start_time": "2022-08-15T07:15:43.100Z"
   },
   {
    "duration": 16,
    "start_time": "2022-08-15T07:16:19.256Z"
   },
   {
    "duration": 26,
    "start_time": "2022-08-15T07:19:29.157Z"
   },
   {
    "duration": 15,
    "start_time": "2022-08-15T07:19:54.166Z"
   },
   {
    "duration": 27,
    "start_time": "2022-08-15T07:20:09.400Z"
   },
   {
    "duration": 15,
    "start_time": "2022-08-15T07:20:53.110Z"
   },
   {
    "duration": 26,
    "start_time": "2022-08-15T07:30:23.237Z"
   },
   {
    "duration": 17,
    "start_time": "2022-08-15T07:30:46.544Z"
   },
   {
    "duration": 26,
    "start_time": "2022-08-15T07:31:56.897Z"
   },
   {
    "duration": 25,
    "start_time": "2022-08-15T07:32:10.546Z"
   },
   {
    "duration": 25,
    "start_time": "2022-08-15T07:32:27.926Z"
   },
   {
    "duration": 25,
    "start_time": "2022-08-15T07:32:38.980Z"
   },
   {
    "duration": 17,
    "start_time": "2022-08-15T07:33:23.831Z"
   },
   {
    "duration": 975,
    "start_time": "2022-08-15T07:35:53.527Z"
   },
   {
    "duration": 3,
    "start_time": "2022-08-15T07:35:54.504Z"
   },
   {
    "duration": 147,
    "start_time": "2022-08-15T07:35:54.509Z"
   },
   {
    "duration": 3,
    "start_time": "2022-08-15T07:35:54.658Z"
   },
   {
    "duration": 43,
    "start_time": "2022-08-15T07:35:54.662Z"
   },
   {
    "duration": 29,
    "start_time": "2022-08-15T07:35:54.706Z"
   },
   {
    "duration": 22,
    "start_time": "2022-08-15T07:35:54.737Z"
   },
   {
    "duration": 10,
    "start_time": "2022-08-15T07:35:54.787Z"
   },
   {
    "duration": 7,
    "start_time": "2022-08-15T07:35:54.802Z"
   },
   {
    "duration": 7,
    "start_time": "2022-08-15T07:35:54.812Z"
   },
   {
    "duration": 13,
    "start_time": "2022-08-15T07:35:54.821Z"
   },
   {
    "duration": 5,
    "start_time": "2022-08-15T07:35:54.835Z"
   },
   {
    "duration": 15,
    "start_time": "2022-08-15T07:35:54.841Z"
   },
   {
    "duration": 188,
    "start_time": "2022-08-15T07:35:54.857Z"
   },
   {
    "duration": 5,
    "start_time": "2022-08-15T07:35:55.046Z"
   },
   {
    "duration": 14,
    "start_time": "2022-08-15T07:35:55.053Z"
   },
   {
    "duration": 24,
    "start_time": "2022-08-15T07:35:55.069Z"
   },
   {
    "duration": 18,
    "start_time": "2022-08-15T07:35:55.095Z"
   },
   {
    "duration": 56,
    "start_time": "2022-08-15T07:35:55.115Z"
   },
   {
    "duration": 266,
    "start_time": "2022-08-15T07:35:55.172Z"
   },
   {
    "duration": 269,
    "start_time": "2022-08-15T07:35:55.440Z"
   },
   {
    "duration": 291,
    "start_time": "2022-08-15T07:35:55.710Z"
   },
   {
    "duration": 225,
    "start_time": "2022-08-15T07:35:56.003Z"
   },
   {
    "duration": 334,
    "start_time": "2022-08-15T07:35:56.230Z"
   },
   {
    "duration": 244,
    "start_time": "2022-08-15T07:35:56.566Z"
   },
   {
    "duration": 333,
    "start_time": "2022-08-15T07:35:56.812Z"
   },
   {
    "duration": 157,
    "start_time": "2022-08-15T07:35:57.147Z"
   },
   {
    "duration": 5,
    "start_time": "2022-08-15T07:35:57.307Z"
   },
   {
    "duration": 125,
    "start_time": "2022-08-15T07:35:57.314Z"
   },
   {
    "duration": 4,
    "start_time": "2022-08-15T07:35:57.440Z"
   },
   {
    "duration": 400,
    "start_time": "2022-08-15T07:35:57.446Z"
   },
   {
    "duration": 9,
    "start_time": "2022-08-15T07:35:57.848Z"
   },
   {
    "duration": 46,
    "start_time": "2022-08-15T07:35:57.858Z"
   },
   {
    "duration": 13,
    "start_time": "2022-08-15T07:35:57.906Z"
   },
   {
    "duration": 8,
    "start_time": "2022-08-15T07:35:57.920Z"
   },
   {
    "duration": 8,
    "start_time": "2022-08-15T07:35:57.929Z"
   },
   {
    "duration": 28,
    "start_time": "2022-08-15T07:35:57.938Z"
   },
   {
    "duration": 18,
    "start_time": "2022-08-15T07:35:57.988Z"
   },
   {
    "duration": 1296,
    "start_time": "2022-08-15T15:53:31.739Z"
   },
   {
    "duration": 5,
    "start_time": "2022-08-15T15:53:33.037Z"
   },
   {
    "duration": 279,
    "start_time": "2022-08-15T15:53:33.044Z"
   },
   {
    "duration": 3,
    "start_time": "2022-08-15T15:53:33.325Z"
   },
   {
    "duration": 56,
    "start_time": "2022-08-15T15:53:33.330Z"
   },
   {
    "duration": 35,
    "start_time": "2022-08-15T15:53:33.388Z"
   },
   {
    "duration": 33,
    "start_time": "2022-08-15T15:53:33.426Z"
   },
   {
    "duration": 7,
    "start_time": "2022-08-15T15:53:33.460Z"
   },
   {
    "duration": 35,
    "start_time": "2022-08-15T15:53:33.469Z"
   },
   {
    "duration": 6,
    "start_time": "2022-08-15T15:53:33.507Z"
   },
   {
    "duration": 14,
    "start_time": "2022-08-15T15:53:33.515Z"
   },
   {
    "duration": 5,
    "start_time": "2022-08-15T15:53:33.531Z"
   },
   {
    "duration": 24,
    "start_time": "2022-08-15T15:53:33.539Z"
   },
   {
    "duration": 257,
    "start_time": "2022-08-15T15:53:33.565Z"
   },
   {
    "duration": 5,
    "start_time": "2022-08-15T15:53:33.824Z"
   },
   {
    "duration": 16,
    "start_time": "2022-08-15T15:53:33.830Z"
   },
   {
    "duration": 14,
    "start_time": "2022-08-15T15:53:33.848Z"
   },
   {
    "duration": 14,
    "start_time": "2022-08-15T15:53:33.864Z"
   },
   {
    "duration": 57,
    "start_time": "2022-08-15T15:53:33.903Z"
   },
   {
    "duration": 350,
    "start_time": "2022-08-15T15:53:33.963Z"
   },
   {
    "duration": 305,
    "start_time": "2022-08-15T15:53:34.315Z"
   },
   {
    "duration": 305,
    "start_time": "2022-08-15T15:53:34.622Z"
   },
   {
    "duration": 245,
    "start_time": "2022-08-15T15:53:34.929Z"
   },
   {
    "duration": 402,
    "start_time": "2022-08-15T15:53:35.176Z"
   },
   {
    "duration": 249,
    "start_time": "2022-08-15T15:53:35.580Z"
   },
   {
    "duration": 334,
    "start_time": "2022-08-15T15:53:35.831Z"
   },
   {
    "duration": 165,
    "start_time": "2022-08-15T15:53:36.167Z"
   },
   {
    "duration": 6,
    "start_time": "2022-08-15T15:53:36.335Z"
   },
   {
    "duration": 163,
    "start_time": "2022-08-15T15:53:36.342Z"
   },
   {
    "duration": 5,
    "start_time": "2022-08-15T15:53:36.506Z"
   },
   {
    "duration": 453,
    "start_time": "2022-08-15T15:53:36.513Z"
   },
   {
    "duration": 17,
    "start_time": "2022-08-15T15:53:36.968Z"
   },
   {
    "duration": 38,
    "start_time": "2022-08-15T15:53:36.987Z"
   },
   {
    "duration": 14,
    "start_time": "2022-08-15T15:53:37.027Z"
   },
   {
    "duration": 10,
    "start_time": "2022-08-15T15:53:37.042Z"
   },
   {
    "duration": 11,
    "start_time": "2022-08-15T15:53:37.054Z"
   },
   {
    "duration": 61,
    "start_time": "2022-08-15T15:53:37.067Z"
   },
   {
    "duration": 21,
    "start_time": "2022-08-15T15:53:37.130Z"
   },
   {
    "duration": 103,
    "start_time": "2022-08-15T16:04:50.730Z"
   },
   {
    "duration": 9,
    "start_time": "2022-08-15T16:04:57.490Z"
   }
  ],
  "kernelspec": {
   "display_name": "Python 3 (ipykernel)",
   "language": "python",
   "name": "python3"
  },
  "language_info": {
   "codemirror_mode": {
    "name": "ipython",
    "version": 3
   },
   "file_extension": ".py",
   "mimetype": "text/x-python",
   "name": "python",
   "nbconvert_exporter": "python",
   "pygments_lexer": "ipython3",
   "version": "3.9.7"
  },
  "toc": {
   "base_numbering": 1,
   "nav_menu": {},
   "number_sections": true,
   "sideBar": true,
   "skip_h1_title": true,
   "title_cell": "Table of Contents",
   "title_sidebar": "Contents",
   "toc_cell": false,
   "toc_position": {
    "height": "calc(100% - 180px)",
    "left": "10px",
    "top": "150px",
    "width": "286.237px"
   },
   "toc_section_display": true,
   "toc_window_display": true
  }
 },
 "nbformat": 4,
 "nbformat_minor": 2
}
