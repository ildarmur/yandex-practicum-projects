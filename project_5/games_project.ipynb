{
 "cells": [
  {
   "cell_type": "markdown",
   "metadata": {},
   "source": [
    "# Определение закономерностей, влияющих на успех продаж видеоигр "
   ]
  },
  {
   "cell_type": "markdown",
   "metadata": {},
   "source": [
    "Заказчик - интернет-магазин «Стримчик», который продаёт по всему миру компьютерные игры. Из открытых источников доступны исторические данные о продажах игр, оценки пользователей и экспертов, жанры и платформы (например, Xbox или PlayStation). Нужно выявить определяющие успешность игры закономерности. Это позволит сделать ставку на потенциально популярный продукт и спланировать рекламные кампании. Представлены данные до 2016 года. Необходимо спланировать кампанию на 2017-й.\n",
    "\n",
    "**Цель исследования** - установить, какие игры лучше всего продаются и выявить закономерности\n",
    "\n",
    "**Ход исследования**\n",
    "\n",
    "1. Изучение данных.\n",
    "2. Предобработка данных.\n",
    "3. Анализ данных.\n",
    "4. Проверка гипотезы.\n",
    "5. Подготовка общего вывода."
   ]
  },
  {
   "cell_type": "markdown",
   "metadata": {},
   "source": [
    "## Изучение данных"
   ]
  },
  {
   "cell_type": "code",
   "execution_count": 1,
   "metadata": {},
   "outputs": [],
   "source": [
    "import pandas as pd\n",
    "import numpy as np\n",
    "from scipy import stats as st\n",
    "import matplotlib.pyplot as plt\n",
    "import seaborn as sns"
   ]
  },
  {
   "cell_type": "code",
   "execution_count": 2,
   "metadata": {},
   "outputs": [],
   "source": [
    "data = pd.read_csv('/datasets/games.csv')"
   ]
  },
  {
   "cell_type": "code",
   "execution_count": 3,
   "metadata": {},
   "outputs": [
    {
     "data": {
      "text/html": [
       "<div>\n",
       "<style scoped>\n",
       "    .dataframe tbody tr th:only-of-type {\n",
       "        vertical-align: middle;\n",
       "    }\n",
       "\n",
       "    .dataframe tbody tr th {\n",
       "        vertical-align: top;\n",
       "    }\n",
       "\n",
       "    .dataframe thead th {\n",
       "        text-align: right;\n",
       "    }\n",
       "</style>\n",
       "<table border=\"1\" class=\"dataframe\">\n",
       "  <thead>\n",
       "    <tr style=\"text-align: right;\">\n",
       "      <th></th>\n",
       "      <th>Name</th>\n",
       "      <th>Platform</th>\n",
       "      <th>Year_of_Release</th>\n",
       "      <th>Genre</th>\n",
       "      <th>NA_sales</th>\n",
       "      <th>EU_sales</th>\n",
       "      <th>JP_sales</th>\n",
       "      <th>Other_sales</th>\n",
       "      <th>Critic_Score</th>\n",
       "      <th>User_Score</th>\n",
       "      <th>Rating</th>\n",
       "    </tr>\n",
       "  </thead>\n",
       "  <tbody>\n",
       "    <tr>\n",
       "      <th>0</th>\n",
       "      <td>Wii Sports</td>\n",
       "      <td>Wii</td>\n",
       "      <td>2006.0</td>\n",
       "      <td>Sports</td>\n",
       "      <td>41.36</td>\n",
       "      <td>28.96</td>\n",
       "      <td>3.77</td>\n",
       "      <td>8.45</td>\n",
       "      <td>76.0</td>\n",
       "      <td>8</td>\n",
       "      <td>E</td>\n",
       "    </tr>\n",
       "    <tr>\n",
       "      <th>1</th>\n",
       "      <td>Super Mario Bros.</td>\n",
       "      <td>NES</td>\n",
       "      <td>1985.0</td>\n",
       "      <td>Platform</td>\n",
       "      <td>29.08</td>\n",
       "      <td>3.58</td>\n",
       "      <td>6.81</td>\n",
       "      <td>0.77</td>\n",
       "      <td>NaN</td>\n",
       "      <td>NaN</td>\n",
       "      <td>NaN</td>\n",
       "    </tr>\n",
       "    <tr>\n",
       "      <th>2</th>\n",
       "      <td>Mario Kart Wii</td>\n",
       "      <td>Wii</td>\n",
       "      <td>2008.0</td>\n",
       "      <td>Racing</td>\n",
       "      <td>15.68</td>\n",
       "      <td>12.76</td>\n",
       "      <td>3.79</td>\n",
       "      <td>3.29</td>\n",
       "      <td>82.0</td>\n",
       "      <td>8.3</td>\n",
       "      <td>E</td>\n",
       "    </tr>\n",
       "    <tr>\n",
       "      <th>3</th>\n",
       "      <td>Wii Sports Resort</td>\n",
       "      <td>Wii</td>\n",
       "      <td>2009.0</td>\n",
       "      <td>Sports</td>\n",
       "      <td>15.61</td>\n",
       "      <td>10.93</td>\n",
       "      <td>3.28</td>\n",
       "      <td>2.95</td>\n",
       "      <td>80.0</td>\n",
       "      <td>8</td>\n",
       "      <td>E</td>\n",
       "    </tr>\n",
       "    <tr>\n",
       "      <th>4</th>\n",
       "      <td>Pokemon Red/Pokemon Blue</td>\n",
       "      <td>GB</td>\n",
       "      <td>1996.0</td>\n",
       "      <td>Role-Playing</td>\n",
       "      <td>11.27</td>\n",
       "      <td>8.89</td>\n",
       "      <td>10.22</td>\n",
       "      <td>1.00</td>\n",
       "      <td>NaN</td>\n",
       "      <td>NaN</td>\n",
       "      <td>NaN</td>\n",
       "    </tr>\n",
       "  </tbody>\n",
       "</table>\n",
       "</div>"
      ],
      "text/plain": [
       "                       Name Platform  Year_of_Release         Genre  NA_sales  \\\n",
       "0                Wii Sports      Wii           2006.0        Sports     41.36   \n",
       "1         Super Mario Bros.      NES           1985.0      Platform     29.08   \n",
       "2            Mario Kart Wii      Wii           2008.0        Racing     15.68   \n",
       "3         Wii Sports Resort      Wii           2009.0        Sports     15.61   \n",
       "4  Pokemon Red/Pokemon Blue       GB           1996.0  Role-Playing     11.27   \n",
       "\n",
       "   EU_sales  JP_sales  Other_sales  Critic_Score User_Score Rating  \n",
       "0     28.96      3.77         8.45          76.0          8      E  \n",
       "1      3.58      6.81         0.77           NaN        NaN    NaN  \n",
       "2     12.76      3.79         3.29          82.0        8.3      E  \n",
       "3     10.93      3.28         2.95          80.0          8      E  \n",
       "4      8.89     10.22         1.00           NaN        NaN    NaN  "
      ]
     },
     "execution_count": 3,
     "metadata": {},
     "output_type": "execute_result"
    }
   ],
   "source": [
    "data.head()"
   ]
  },
  {
   "cell_type": "code",
   "execution_count": 4,
   "metadata": {},
   "outputs": [
    {
     "name": "stdout",
     "output_type": "stream",
     "text": [
      "<class 'pandas.core.frame.DataFrame'>\n",
      "RangeIndex: 16715 entries, 0 to 16714\n",
      "Data columns (total 11 columns):\n",
      " #   Column           Non-Null Count  Dtype  \n",
      "---  ------           --------------  -----  \n",
      " 0   Name             16713 non-null  object \n",
      " 1   Platform         16715 non-null  object \n",
      " 2   Year_of_Release  16446 non-null  float64\n",
      " 3   Genre            16713 non-null  object \n",
      " 4   NA_sales         16715 non-null  float64\n",
      " 5   EU_sales         16715 non-null  float64\n",
      " 6   JP_sales         16715 non-null  float64\n",
      " 7   Other_sales      16715 non-null  float64\n",
      " 8   Critic_Score     8137 non-null   float64\n",
      " 9   User_Score       10014 non-null  object \n",
      " 10  Rating           9949 non-null   object \n",
      "dtypes: float64(6), object(5)\n",
      "memory usage: 1.4+ MB\n"
     ]
    }
   ],
   "source": [
    "data.info()"
   ]
  },
  {
   "cell_type": "markdown",
   "metadata": {},
   "source": [
    "Согласно документации:\n",
    "\n",
    "* `Name` — название игры\n",
    "* `Platform` — платформа\n",
    "* `Year_of_Release` — год выпуска\n",
    "* `Genre` — жанр игры\n",
    "* `NA_sales` — продажи в Северной Америке (миллионы проданных копий)\n",
    "* `EU_sales` — продажи в Европе (миллионы проданных копий)\n",
    "* `JP_sales` — продажи в Японии (миллионы проданных копий)\n",
    "* `Other_sales` — продажи в других странах (миллионы проданных копий)\n",
    "* `Critic_Score` — оценка критиков (максимум 100)\n",
    "* `User_Score` — оценка пользователей (максимум 10)\n",
    "* `Rating` — рейтинг от организации ESRB (англ. Entertainment Software Rating Board). Эта ассоциация определяет рейтинг компьютерных игр и присваивает им подходящую возрастную категорию.\n",
    "\n",
    "Данные за 2016 год могут быть неполными."
   ]
  },
  {
   "cell_type": "markdown",
   "metadata": {},
   "source": [
    "**Вывод**\n",
    "\n",
    "Всего 11 столбцов - 5 текстовых, 6 вещественных. Имеются пропуски в данных, у столбцов с датой релиза и оценкой критиков необходимо изменить тип данных. Возможны дубликаты. Названия столбцов необходимо привести к нижнему регистру."
   ]
  },
  {
   "cell_type": "markdown",
   "metadata": {},
   "source": [
    "## Предобработка данных"
   ]
  },
  {
   "cell_type": "code",
   "execution_count": 5,
   "metadata": {
    "scrolled": true
   },
   "outputs": [
    {
     "data": {
      "text/plain": [
       "Index(['name', 'platform', 'year_of_release', 'genre', 'na_sales', 'eu_sales',\n",
       "       'jp_sales', 'other_sales', 'critic_score', 'user_score', 'rating'],\n",
       "      dtype='object')"
      ]
     },
     "execution_count": 5,
     "metadata": {},
     "output_type": "execute_result"
    }
   ],
   "source": [
    "# приведем названия столбцов к нижнему регистру\n",
    "data.columns = data.columns.str.lower()\n",
    "data.columns"
   ]
  },
  {
   "cell_type": "code",
   "execution_count": 6,
   "metadata": {},
   "outputs": [
    {
     "data": {
      "text/plain": [
       "name                  2\n",
       "platform              0\n",
       "year_of_release     269\n",
       "genre                 2\n",
       "na_sales              0\n",
       "eu_sales              0\n",
       "jp_sales              0\n",
       "other_sales           0\n",
       "critic_score       8578\n",
       "user_score         6701\n",
       "rating             6766\n",
       "dtype: int64"
      ]
     },
     "execution_count": 6,
     "metadata": {},
     "output_type": "execute_result"
    }
   ],
   "source": [
    "# посчитаем количество пропусков\n",
    "data.isna().sum()"
   ]
  },
  {
   "cell_type": "code",
   "execution_count": 7,
   "metadata": {
    "scrolled": true
   },
   "outputs": [
    {
     "data": {
      "text/html": [
       "<div>\n",
       "<style scoped>\n",
       "    .dataframe tbody tr th:only-of-type {\n",
       "        vertical-align: middle;\n",
       "    }\n",
       "\n",
       "    .dataframe tbody tr th {\n",
       "        vertical-align: top;\n",
       "    }\n",
       "\n",
       "    .dataframe thead th {\n",
       "        text-align: right;\n",
       "    }\n",
       "</style>\n",
       "<table border=\"1\" class=\"dataframe\">\n",
       "  <thead>\n",
       "    <tr style=\"text-align: right;\">\n",
       "      <th></th>\n",
       "      <th>name</th>\n",
       "      <th>platform</th>\n",
       "      <th>year_of_release</th>\n",
       "      <th>genre</th>\n",
       "      <th>na_sales</th>\n",
       "      <th>eu_sales</th>\n",
       "      <th>jp_sales</th>\n",
       "      <th>other_sales</th>\n",
       "      <th>critic_score</th>\n",
       "      <th>user_score</th>\n",
       "      <th>rating</th>\n",
       "    </tr>\n",
       "  </thead>\n",
       "  <tbody>\n",
       "    <tr>\n",
       "      <th>659</th>\n",
       "      <td>NaN</td>\n",
       "      <td>GEN</td>\n",
       "      <td>1993.0</td>\n",
       "      <td>NaN</td>\n",
       "      <td>1.78</td>\n",
       "      <td>0.53</td>\n",
       "      <td>0.00</td>\n",
       "      <td>0.08</td>\n",
       "      <td>NaN</td>\n",
       "      <td>NaN</td>\n",
       "      <td>NaN</td>\n",
       "    </tr>\n",
       "    <tr>\n",
       "      <th>14244</th>\n",
       "      <td>NaN</td>\n",
       "      <td>GEN</td>\n",
       "      <td>1993.0</td>\n",
       "      <td>NaN</td>\n",
       "      <td>0.00</td>\n",
       "      <td>0.00</td>\n",
       "      <td>0.03</td>\n",
       "      <td>0.00</td>\n",
       "      <td>NaN</td>\n",
       "      <td>NaN</td>\n",
       "      <td>NaN</td>\n",
       "    </tr>\n",
       "    <tr>\n",
       "      <th>9134</th>\n",
       "      <td>¡Shin Chan Flipa en colores!</td>\n",
       "      <td>DS</td>\n",
       "      <td>2007.0</td>\n",
       "      <td>Platform</td>\n",
       "      <td>0.00</td>\n",
       "      <td>0.00</td>\n",
       "      <td>0.14</td>\n",
       "      <td>0.00</td>\n",
       "      <td>NaN</td>\n",
       "      <td>NaN</td>\n",
       "      <td>NaN</td>\n",
       "    </tr>\n",
       "    <tr>\n",
       "      <th>475</th>\n",
       "      <td>wwe Smackdown vs. Raw 2006</td>\n",
       "      <td>PS2</td>\n",
       "      <td>NaN</td>\n",
       "      <td>Fighting</td>\n",
       "      <td>1.57</td>\n",
       "      <td>1.02</td>\n",
       "      <td>0.00</td>\n",
       "      <td>0.41</td>\n",
       "      <td>NaN</td>\n",
       "      <td>NaN</td>\n",
       "      <td>NaN</td>\n",
       "    </tr>\n",
       "    <tr>\n",
       "      <th>15612</th>\n",
       "      <td>uDraw Studio: Instant Artist</td>\n",
       "      <td>X360</td>\n",
       "      <td>2011.0</td>\n",
       "      <td>Misc</td>\n",
       "      <td>0.01</td>\n",
       "      <td>0.01</td>\n",
       "      <td>0.00</td>\n",
       "      <td>0.00</td>\n",
       "      <td>54.0</td>\n",
       "      <td>5.7</td>\n",
       "      <td>E</td>\n",
       "    </tr>\n",
       "  </tbody>\n",
       "</table>\n",
       "</div>"
      ],
      "text/plain": [
       "                               name platform  year_of_release     genre  \\\n",
       "659                             NaN      GEN           1993.0       NaN   \n",
       "14244                           NaN      GEN           1993.0       NaN   \n",
       "9134   ¡Shin Chan Flipa en colores!       DS           2007.0  Platform   \n",
       "475      wwe Smackdown vs. Raw 2006      PS2              NaN  Fighting   \n",
       "15612  uDraw Studio: Instant Artist     X360           2011.0      Misc   \n",
       "\n",
       "       na_sales  eu_sales  jp_sales  other_sales  critic_score user_score  \\\n",
       "659        1.78      0.53      0.00         0.08           NaN        NaN   \n",
       "14244      0.00      0.00      0.03         0.00           NaN        NaN   \n",
       "9134       0.00      0.00      0.14         0.00           NaN        NaN   \n",
       "475        1.57      1.02      0.00         0.41           NaN        NaN   \n",
       "15612      0.01      0.01      0.00         0.00          54.0        5.7   \n",
       "\n",
       "      rating  \n",
       "659      NaN  \n",
       "14244    NaN  \n",
       "9134     NaN  \n",
       "475      NaN  \n",
       "15612      E  "
      ]
     },
     "execution_count": 7,
     "metadata": {},
     "output_type": "execute_result"
    }
   ],
   "source": [
    "data.sort_values('name', ascending=False, na_position='first').head() "
   ]
  },
  {
   "cell_type": "markdown",
   "metadata": {},
   "source": [
    "У двух игр есть информация только о годе, платформе и продажах. Можно их удалить."
   ]
  },
  {
   "cell_type": "code",
   "execution_count": 8,
   "metadata": {},
   "outputs": [],
   "source": [
    "data = data.dropna(subset=['name'])"
   ]
  },
  {
   "cell_type": "code",
   "execution_count": 9,
   "metadata": {
    "scrolled": false
   },
   "outputs": [
    {
     "data": {
      "text/html": [
       "<div>\n",
       "<style scoped>\n",
       "    .dataframe tbody tr th:only-of-type {\n",
       "        vertical-align: middle;\n",
       "    }\n",
       "\n",
       "    .dataframe tbody tr th {\n",
       "        vertical-align: top;\n",
       "    }\n",
       "\n",
       "    .dataframe thead th {\n",
       "        text-align: right;\n",
       "    }\n",
       "</style>\n",
       "<table border=\"1\" class=\"dataframe\">\n",
       "  <thead>\n",
       "    <tr style=\"text-align: right;\">\n",
       "      <th></th>\n",
       "      <th>name</th>\n",
       "      <th>platform</th>\n",
       "      <th>year_of_release</th>\n",
       "      <th>genre</th>\n",
       "      <th>na_sales</th>\n",
       "      <th>eu_sales</th>\n",
       "      <th>jp_sales</th>\n",
       "      <th>other_sales</th>\n",
       "      <th>critic_score</th>\n",
       "      <th>user_score</th>\n",
       "      <th>rating</th>\n",
       "    </tr>\n",
       "  </thead>\n",
       "  <tbody>\n",
       "    <tr>\n",
       "      <th>183</th>\n",
       "      <td>Madden NFL 2004</td>\n",
       "      <td>PS2</td>\n",
       "      <td>NaN</td>\n",
       "      <td>Sports</td>\n",
       "      <td>4.26</td>\n",
       "      <td>0.26</td>\n",
       "      <td>0.01</td>\n",
       "      <td>0.71</td>\n",
       "      <td>94.0</td>\n",
       "      <td>8.5</td>\n",
       "      <td>E</td>\n",
       "    </tr>\n",
       "    <tr>\n",
       "      <th>377</th>\n",
       "      <td>FIFA Soccer 2004</td>\n",
       "      <td>PS2</td>\n",
       "      <td>NaN</td>\n",
       "      <td>Sports</td>\n",
       "      <td>0.59</td>\n",
       "      <td>2.36</td>\n",
       "      <td>0.04</td>\n",
       "      <td>0.51</td>\n",
       "      <td>84.0</td>\n",
       "      <td>6.4</td>\n",
       "      <td>E</td>\n",
       "    </tr>\n",
       "    <tr>\n",
       "      <th>456</th>\n",
       "      <td>LEGO Batman: The Videogame</td>\n",
       "      <td>Wii</td>\n",
       "      <td>NaN</td>\n",
       "      <td>Action</td>\n",
       "      <td>1.80</td>\n",
       "      <td>0.97</td>\n",
       "      <td>0.00</td>\n",
       "      <td>0.29</td>\n",
       "      <td>74.0</td>\n",
       "      <td>7.9</td>\n",
       "      <td>E10+</td>\n",
       "    </tr>\n",
       "    <tr>\n",
       "      <th>475</th>\n",
       "      <td>wwe Smackdown vs. Raw 2006</td>\n",
       "      <td>PS2</td>\n",
       "      <td>NaN</td>\n",
       "      <td>Fighting</td>\n",
       "      <td>1.57</td>\n",
       "      <td>1.02</td>\n",
       "      <td>0.00</td>\n",
       "      <td>0.41</td>\n",
       "      <td>NaN</td>\n",
       "      <td>NaN</td>\n",
       "      <td>NaN</td>\n",
       "    </tr>\n",
       "    <tr>\n",
       "      <th>609</th>\n",
       "      <td>Space Invaders</td>\n",
       "      <td>2600</td>\n",
       "      <td>NaN</td>\n",
       "      <td>Shooter</td>\n",
       "      <td>2.36</td>\n",
       "      <td>0.14</td>\n",
       "      <td>0.00</td>\n",
       "      <td>0.03</td>\n",
       "      <td>NaN</td>\n",
       "      <td>NaN</td>\n",
       "      <td>NaN</td>\n",
       "    </tr>\n",
       "  </tbody>\n",
       "</table>\n",
       "</div>"
      ],
      "text/plain": [
       "                           name platform  year_of_release     genre  na_sales  \\\n",
       "183             Madden NFL 2004      PS2              NaN    Sports      4.26   \n",
       "377            FIFA Soccer 2004      PS2              NaN    Sports      0.59   \n",
       "456  LEGO Batman: The Videogame      Wii              NaN    Action      1.80   \n",
       "475  wwe Smackdown vs. Raw 2006      PS2              NaN  Fighting      1.57   \n",
       "609              Space Invaders     2600              NaN   Shooter      2.36   \n",
       "\n",
       "     eu_sales  jp_sales  other_sales  critic_score user_score rating  \n",
       "183      0.26      0.01         0.71          94.0        8.5      E  \n",
       "377      2.36      0.04         0.51          84.0        6.4      E  \n",
       "456      0.97      0.00         0.29          74.0        7.9   E10+  \n",
       "475      1.02      0.00         0.41           NaN        NaN    NaN  \n",
       "609      0.14      0.00         0.03           NaN        NaN    NaN  "
      ]
     },
     "execution_count": 9,
     "metadata": {},
     "output_type": "execute_result"
    }
   ],
   "source": [
    "data.sort_values('year_of_release', ascending=False, na_position='first').head()"
   ]
  },
  {
   "cell_type": "code",
   "execution_count": 10,
   "metadata": {
    "scrolled": true
   },
   "outputs": [
    {
     "data": {
      "text/plain": [
       "1.6358550231087325"
      ]
     },
     "execution_count": 10,
     "metadata": {},
     "output_type": "execute_result"
    }
   ],
   "source": [
    "# посчитаем процент пропусков в дате релиза\n",
    "data['year_of_release'].isna().sum() / data['year_of_release'].count() * 100"
   ]
  },
  {
   "cell_type": "markdown",
   "metadata": {},
   "source": [
    "Пропуски в дате релиза составляют около 1.6 %. Можно их удалить."
   ]
  },
  {
   "cell_type": "code",
   "execution_count": 11,
   "metadata": {},
   "outputs": [],
   "source": [
    "data = data.dropna(subset=['year_of_release'])"
   ]
  },
  {
   "cell_type": "code",
   "execution_count": 12,
   "metadata": {
    "scrolled": false
   },
   "outputs": [
    {
     "data": {
      "text/html": [
       "<div>\n",
       "<style scoped>\n",
       "    .dataframe tbody tr th:only-of-type {\n",
       "        vertical-align: middle;\n",
       "    }\n",
       "\n",
       "    .dataframe tbody tr th {\n",
       "        vertical-align: top;\n",
       "    }\n",
       "\n",
       "    .dataframe thead th {\n",
       "        text-align: right;\n",
       "    }\n",
       "</style>\n",
       "<table border=\"1\" class=\"dataframe\">\n",
       "  <thead>\n",
       "    <tr style=\"text-align: right;\">\n",
       "      <th></th>\n",
       "      <th>name</th>\n",
       "      <th>platform</th>\n",
       "      <th>year_of_release</th>\n",
       "      <th>genre</th>\n",
       "      <th>na_sales</th>\n",
       "      <th>eu_sales</th>\n",
       "      <th>jp_sales</th>\n",
       "      <th>other_sales</th>\n",
       "      <th>critic_score</th>\n",
       "      <th>user_score</th>\n",
       "      <th>rating</th>\n",
       "    </tr>\n",
       "  </thead>\n",
       "  <tbody>\n",
       "    <tr>\n",
       "      <th>1</th>\n",
       "      <td>Super Mario Bros.</td>\n",
       "      <td>NES</td>\n",
       "      <td>1985.0</td>\n",
       "      <td>Platform</td>\n",
       "      <td>29.08</td>\n",
       "      <td>3.58</td>\n",
       "      <td>6.81</td>\n",
       "      <td>0.77</td>\n",
       "      <td>NaN</td>\n",
       "      <td>NaN</td>\n",
       "      <td>NaN</td>\n",
       "    </tr>\n",
       "    <tr>\n",
       "      <th>4</th>\n",
       "      <td>Pokemon Red/Pokemon Blue</td>\n",
       "      <td>GB</td>\n",
       "      <td>1996.0</td>\n",
       "      <td>Role-Playing</td>\n",
       "      <td>11.27</td>\n",
       "      <td>8.89</td>\n",
       "      <td>10.22</td>\n",
       "      <td>1.00</td>\n",
       "      <td>NaN</td>\n",
       "      <td>NaN</td>\n",
       "      <td>NaN</td>\n",
       "    </tr>\n",
       "    <tr>\n",
       "      <th>5</th>\n",
       "      <td>Tetris</td>\n",
       "      <td>GB</td>\n",
       "      <td>1989.0</td>\n",
       "      <td>Puzzle</td>\n",
       "      <td>23.20</td>\n",
       "      <td>2.26</td>\n",
       "      <td>4.22</td>\n",
       "      <td>0.58</td>\n",
       "      <td>NaN</td>\n",
       "      <td>NaN</td>\n",
       "      <td>NaN</td>\n",
       "    </tr>\n",
       "    <tr>\n",
       "      <th>9</th>\n",
       "      <td>Duck Hunt</td>\n",
       "      <td>NES</td>\n",
       "      <td>1984.0</td>\n",
       "      <td>Shooter</td>\n",
       "      <td>26.93</td>\n",
       "      <td>0.63</td>\n",
       "      <td>0.28</td>\n",
       "      <td>0.47</td>\n",
       "      <td>NaN</td>\n",
       "      <td>NaN</td>\n",
       "      <td>NaN</td>\n",
       "    </tr>\n",
       "    <tr>\n",
       "      <th>10</th>\n",
       "      <td>Nintendogs</td>\n",
       "      <td>DS</td>\n",
       "      <td>2005.0</td>\n",
       "      <td>Simulation</td>\n",
       "      <td>9.05</td>\n",
       "      <td>10.95</td>\n",
       "      <td>1.93</td>\n",
       "      <td>2.74</td>\n",
       "      <td>NaN</td>\n",
       "      <td>NaN</td>\n",
       "      <td>NaN</td>\n",
       "    </tr>\n",
       "    <tr>\n",
       "      <th>12</th>\n",
       "      <td>Pokemon Gold/Pokemon Silver</td>\n",
       "      <td>GB</td>\n",
       "      <td>1999.0</td>\n",
       "      <td>Role-Playing</td>\n",
       "      <td>9.00</td>\n",
       "      <td>6.18</td>\n",
       "      <td>7.20</td>\n",
       "      <td>0.71</td>\n",
       "      <td>NaN</td>\n",
       "      <td>NaN</td>\n",
       "      <td>NaN</td>\n",
       "    </tr>\n",
       "    <tr>\n",
       "      <th>18</th>\n",
       "      <td>Super Mario World</td>\n",
       "      <td>SNES</td>\n",
       "      <td>1990.0</td>\n",
       "      <td>Platform</td>\n",
       "      <td>12.78</td>\n",
       "      <td>3.75</td>\n",
       "      <td>3.54</td>\n",
       "      <td>0.55</td>\n",
       "      <td>NaN</td>\n",
       "      <td>NaN</td>\n",
       "      <td>NaN</td>\n",
       "    </tr>\n",
       "    <tr>\n",
       "      <th>20</th>\n",
       "      <td>Pokemon Diamond/Pokemon Pearl</td>\n",
       "      <td>DS</td>\n",
       "      <td>2006.0</td>\n",
       "      <td>Role-Playing</td>\n",
       "      <td>6.38</td>\n",
       "      <td>4.46</td>\n",
       "      <td>6.04</td>\n",
       "      <td>1.36</td>\n",
       "      <td>NaN</td>\n",
       "      <td>NaN</td>\n",
       "      <td>NaN</td>\n",
       "    </tr>\n",
       "    <tr>\n",
       "      <th>21</th>\n",
       "      <td>Super Mario Land</td>\n",
       "      <td>GB</td>\n",
       "      <td>1989.0</td>\n",
       "      <td>Platform</td>\n",
       "      <td>10.83</td>\n",
       "      <td>2.71</td>\n",
       "      <td>4.18</td>\n",
       "      <td>0.42</td>\n",
       "      <td>NaN</td>\n",
       "      <td>NaN</td>\n",
       "      <td>NaN</td>\n",
       "    </tr>\n",
       "    <tr>\n",
       "      <th>22</th>\n",
       "      <td>Super Mario Bros. 3</td>\n",
       "      <td>NES</td>\n",
       "      <td>1988.0</td>\n",
       "      <td>Platform</td>\n",
       "      <td>9.54</td>\n",
       "      <td>3.44</td>\n",
       "      <td>3.84</td>\n",
       "      <td>0.46</td>\n",
       "      <td>NaN</td>\n",
       "      <td>NaN</td>\n",
       "      <td>NaN</td>\n",
       "    </tr>\n",
       "  </tbody>\n",
       "</table>\n",
       "</div>"
      ],
      "text/plain": [
       "                             name platform  year_of_release         genre  \\\n",
       "1               Super Mario Bros.      NES           1985.0      Platform   \n",
       "4        Pokemon Red/Pokemon Blue       GB           1996.0  Role-Playing   \n",
       "5                          Tetris       GB           1989.0        Puzzle   \n",
       "9                       Duck Hunt      NES           1984.0       Shooter   \n",
       "10                     Nintendogs       DS           2005.0    Simulation   \n",
       "12    Pokemon Gold/Pokemon Silver       GB           1999.0  Role-Playing   \n",
       "18              Super Mario World     SNES           1990.0      Platform   \n",
       "20  Pokemon Diamond/Pokemon Pearl       DS           2006.0  Role-Playing   \n",
       "21               Super Mario Land       GB           1989.0      Platform   \n",
       "22            Super Mario Bros. 3      NES           1988.0      Platform   \n",
       "\n",
       "    na_sales  eu_sales  jp_sales  other_sales  critic_score user_score rating  \n",
       "1      29.08      3.58      6.81         0.77           NaN        NaN    NaN  \n",
       "4      11.27      8.89     10.22         1.00           NaN        NaN    NaN  \n",
       "5      23.20      2.26      4.22         0.58           NaN        NaN    NaN  \n",
       "9      26.93      0.63      0.28         0.47           NaN        NaN    NaN  \n",
       "10      9.05     10.95      1.93         2.74           NaN        NaN    NaN  \n",
       "12      9.00      6.18      7.20         0.71           NaN        NaN    NaN  \n",
       "18     12.78      3.75      3.54         0.55           NaN        NaN    NaN  \n",
       "20      6.38      4.46      6.04         1.36           NaN        NaN    NaN  \n",
       "21     10.83      2.71      4.18         0.42           NaN        NaN    NaN  \n",
       "22      9.54      3.44      3.84         0.46           NaN        NaN    NaN  "
      ]
     },
     "execution_count": 12,
     "metadata": {},
     "output_type": "execute_result"
    }
   ],
   "source": [
    "data.sort_values('critic_score', ascending=False, na_position='first').head(10)"
   ]
  },
  {
   "cell_type": "markdown",
   "metadata": {},
   "source": [
    "Многие пропуски в трех столбцах совпадают. Скорее всего это неслучайные пропуски, поэтому необходимо обратится к источнику данных."
   ]
  },
  {
   "cell_type": "code",
   "execution_count": 13,
   "metadata": {},
   "outputs": [
    {
     "data": {
      "text/plain": [
       "array(['0', '0.2', '0.3', '0.5', '0.6', '0.7', '0.9', '1', '1.1', '1.2',\n",
       "       '1.3', '1.4', '1.5', '1.6', '1.7', '1.8', '1.9', '2', '2.1', '2.2',\n",
       "       '2.3', '2.4', '2.5', '2.6', '2.7', '2.8', '2.9', '3', '3.1', '3.2',\n",
       "       '3.3', '3.4', '3.5', '3.6', '3.7', '3.8', '3.9', '4', '4.1', '4.2',\n",
       "       '4.3', '4.4', '4.5', '4.6', '4.7', '4.8', '4.9', '5', '5.1', '5.2',\n",
       "       '5.3', '5.4', '5.5', '5.6', '5.7', '5.8', '5.9', '6', '6.1', '6.2',\n",
       "       '6.3', '6.4', '6.5', '6.6', '6.7', '6.8', '6.9', '7', '7.1', '7.2',\n",
       "       '7.3', '7.4', '7.5', '7.6', '7.7', '7.8', '7.9', '8', '8.1', '8.2',\n",
       "       '8.3', '8.4', '8.5', '8.6', '8.7', '8.8', '8.9', '9', '9.1', '9.2',\n",
       "       '9.3', '9.4', '9.5', '9.6', '9.7', 'tbd', nan], dtype=object)"
      ]
     },
     "execution_count": 13,
     "metadata": {},
     "output_type": "execute_result"
    }
   ],
   "source": [
    "data['user_score'].sort_values().unique()"
   ]
  },
  {
   "cell_type": "code",
   "execution_count": 14,
   "metadata": {},
   "outputs": [
    {
     "data": {
      "text/html": [
       "<div>\n",
       "<style scoped>\n",
       "    .dataframe tbody tr th:only-of-type {\n",
       "        vertical-align: middle;\n",
       "    }\n",
       "\n",
       "    .dataframe tbody tr th {\n",
       "        vertical-align: top;\n",
       "    }\n",
       "\n",
       "    .dataframe thead th {\n",
       "        text-align: right;\n",
       "    }\n",
       "</style>\n",
       "<table border=\"1\" class=\"dataframe\">\n",
       "  <thead>\n",
       "    <tr style=\"text-align: right;\">\n",
       "      <th></th>\n",
       "      <th>name</th>\n",
       "      <th>platform</th>\n",
       "      <th>year_of_release</th>\n",
       "      <th>genre</th>\n",
       "      <th>na_sales</th>\n",
       "      <th>eu_sales</th>\n",
       "      <th>jp_sales</th>\n",
       "      <th>other_sales</th>\n",
       "      <th>critic_score</th>\n",
       "      <th>user_score</th>\n",
       "      <th>rating</th>\n",
       "    </tr>\n",
       "  </thead>\n",
       "  <tbody>\n",
       "    <tr>\n",
       "      <th>119</th>\n",
       "      <td>Zumba Fitness</td>\n",
       "      <td>Wii</td>\n",
       "      <td>2010.0</td>\n",
       "      <td>Sports</td>\n",
       "      <td>3.45</td>\n",
       "      <td>2.59</td>\n",
       "      <td>0.0</td>\n",
       "      <td>0.66</td>\n",
       "      <td>NaN</td>\n",
       "      <td>tbd</td>\n",
       "      <td>E</td>\n",
       "    </tr>\n",
       "    <tr>\n",
       "      <th>301</th>\n",
       "      <td>Namco Museum: 50th Anniversary</td>\n",
       "      <td>PS2</td>\n",
       "      <td>2005.0</td>\n",
       "      <td>Misc</td>\n",
       "      <td>2.08</td>\n",
       "      <td>1.35</td>\n",
       "      <td>0.0</td>\n",
       "      <td>0.54</td>\n",
       "      <td>61.0</td>\n",
       "      <td>tbd</td>\n",
       "      <td>E10+</td>\n",
       "    </tr>\n",
       "    <tr>\n",
       "      <th>520</th>\n",
       "      <td>Zumba Fitness 2</td>\n",
       "      <td>Wii</td>\n",
       "      <td>2011.0</td>\n",
       "      <td>Sports</td>\n",
       "      <td>1.51</td>\n",
       "      <td>1.03</td>\n",
       "      <td>0.0</td>\n",
       "      <td>0.27</td>\n",
       "      <td>NaN</td>\n",
       "      <td>tbd</td>\n",
       "      <td>T</td>\n",
       "    </tr>\n",
       "    <tr>\n",
       "      <th>645</th>\n",
       "      <td>uDraw Studio</td>\n",
       "      <td>Wii</td>\n",
       "      <td>2010.0</td>\n",
       "      <td>Misc</td>\n",
       "      <td>1.65</td>\n",
       "      <td>0.57</td>\n",
       "      <td>0.0</td>\n",
       "      <td>0.20</td>\n",
       "      <td>71.0</td>\n",
       "      <td>tbd</td>\n",
       "      <td>E</td>\n",
       "    </tr>\n",
       "    <tr>\n",
       "      <th>718</th>\n",
       "      <td>Just Dance Kids</td>\n",
       "      <td>Wii</td>\n",
       "      <td>2010.0</td>\n",
       "      <td>Misc</td>\n",
       "      <td>1.52</td>\n",
       "      <td>0.54</td>\n",
       "      <td>0.0</td>\n",
       "      <td>0.18</td>\n",
       "      <td>NaN</td>\n",
       "      <td>tbd</td>\n",
       "      <td>E</td>\n",
       "    </tr>\n",
       "  </tbody>\n",
       "</table>\n",
       "</div>"
      ],
      "text/plain": [
       "                               name platform  year_of_release   genre  \\\n",
       "119                   Zumba Fitness      Wii           2010.0  Sports   \n",
       "301  Namco Museum: 50th Anniversary      PS2           2005.0    Misc   \n",
       "520                 Zumba Fitness 2      Wii           2011.0  Sports   \n",
       "645                    uDraw Studio      Wii           2010.0    Misc   \n",
       "718                 Just Dance Kids      Wii           2010.0    Misc   \n",
       "\n",
       "     na_sales  eu_sales  jp_sales  other_sales  critic_score user_score rating  \n",
       "119      3.45      2.59       0.0         0.66           NaN        tbd      E  \n",
       "301      2.08      1.35       0.0         0.54          61.0        tbd   E10+  \n",
       "520      1.51      1.03       0.0         0.27           NaN        tbd      T  \n",
       "645      1.65      0.57       0.0         0.20          71.0        tbd      E  \n",
       "718      1.52      0.54       0.0         0.18           NaN        tbd      E  "
      ]
     },
     "execution_count": 14,
     "metadata": {},
     "output_type": "execute_result"
    }
   ],
   "source": [
    "data[data['user_score'] == 'tbd'].head()"
   ]
  },
  {
   "cell_type": "markdown",
   "metadata": {},
   "source": [
    "Кэмбриджский словарь утверждает, что абрревиатура tbd используется, когда что-то еще не решено или еще не известно. Соответственно, можно приравнять это значение к NaN. Остальные значения переведем в числовой тип."
   ]
  },
  {
   "cell_type": "code",
   "execution_count": 15,
   "metadata": {},
   "outputs": [],
   "source": [
    "# Переводим в числовой тип, заменяем 'tbd' на NaN, округляем до целых\n",
    "data['user_score'] = pd.to_numeric(data['user_score'], errors='coerce')"
   ]
  },
  {
   "cell_type": "code",
   "execution_count": 16,
   "metadata": {
    "scrolled": true
   },
   "outputs": [
    {
     "data": {
      "text/plain": [
       "array(['AO', 'E', 'E10+', 'EC', 'K-A', 'M', 'RP', 'T', nan], dtype=object)"
      ]
     },
     "execution_count": 16,
     "metadata": {},
     "output_type": "execute_result"
    }
   ],
   "source": [
    "data['rating'].sort_values().unique()"
   ]
  },
  {
   "cell_type": "code",
   "execution_count": 17,
   "metadata": {},
   "outputs": [],
   "source": [
    "# заменим пропуски в возрастном рейтинге на 'unknown'\n",
    "data['rating'] = data['rating'].fillna('unknown')"
   ]
  },
  {
   "cell_type": "code",
   "execution_count": 18,
   "metadata": {},
   "outputs": [],
   "source": [
    "# заменяем оставшиеся пропуски заглушкой\n",
    "data = data.fillna(-999)"
   ]
  },
  {
   "cell_type": "code",
   "execution_count": 19,
   "metadata": {},
   "outputs": [
    {
     "data": {
      "text/html": [
       "<div>\n",
       "<style scoped>\n",
       "    .dataframe tbody tr th:only-of-type {\n",
       "        vertical-align: middle;\n",
       "    }\n",
       "\n",
       "    .dataframe tbody tr th {\n",
       "        vertical-align: top;\n",
       "    }\n",
       "\n",
       "    .dataframe thead th {\n",
       "        text-align: right;\n",
       "    }\n",
       "</style>\n",
       "<table border=\"1\" class=\"dataframe\">\n",
       "  <thead>\n",
       "    <tr style=\"text-align: right;\">\n",
       "      <th></th>\n",
       "      <th>name</th>\n",
       "      <th>platform</th>\n",
       "      <th>year_of_release</th>\n",
       "      <th>genre</th>\n",
       "      <th>na_sales</th>\n",
       "      <th>eu_sales</th>\n",
       "      <th>jp_sales</th>\n",
       "      <th>other_sales</th>\n",
       "      <th>critic_score</th>\n",
       "      <th>user_score</th>\n",
       "      <th>rating</th>\n",
       "    </tr>\n",
       "  </thead>\n",
       "  <tbody>\n",
       "    <tr>\n",
       "      <th>0</th>\n",
       "      <td>Wii Sports</td>\n",
       "      <td>Wii</td>\n",
       "      <td>2006.0</td>\n",
       "      <td>Sports</td>\n",
       "      <td>41.36</td>\n",
       "      <td>28.96</td>\n",
       "      <td>3.77</td>\n",
       "      <td>8.45</td>\n",
       "      <td>76.0</td>\n",
       "      <td>8.0</td>\n",
       "      <td>E</td>\n",
       "    </tr>\n",
       "    <tr>\n",
       "      <th>1</th>\n",
       "      <td>Super Mario Bros.</td>\n",
       "      <td>NES</td>\n",
       "      <td>1985.0</td>\n",
       "      <td>Platform</td>\n",
       "      <td>29.08</td>\n",
       "      <td>3.58</td>\n",
       "      <td>6.81</td>\n",
       "      <td>0.77</td>\n",
       "      <td>-999.0</td>\n",
       "      <td>-999.0</td>\n",
       "      <td>unknown</td>\n",
       "    </tr>\n",
       "    <tr>\n",
       "      <th>2</th>\n",
       "      <td>Mario Kart Wii</td>\n",
       "      <td>Wii</td>\n",
       "      <td>2008.0</td>\n",
       "      <td>Racing</td>\n",
       "      <td>15.68</td>\n",
       "      <td>12.76</td>\n",
       "      <td>3.79</td>\n",
       "      <td>3.29</td>\n",
       "      <td>82.0</td>\n",
       "      <td>8.3</td>\n",
       "      <td>E</td>\n",
       "    </tr>\n",
       "    <tr>\n",
       "      <th>3</th>\n",
       "      <td>Wii Sports Resort</td>\n",
       "      <td>Wii</td>\n",
       "      <td>2009.0</td>\n",
       "      <td>Sports</td>\n",
       "      <td>15.61</td>\n",
       "      <td>10.93</td>\n",
       "      <td>3.28</td>\n",
       "      <td>2.95</td>\n",
       "      <td>80.0</td>\n",
       "      <td>8.0</td>\n",
       "      <td>E</td>\n",
       "    </tr>\n",
       "    <tr>\n",
       "      <th>4</th>\n",
       "      <td>Pokemon Red/Pokemon Blue</td>\n",
       "      <td>GB</td>\n",
       "      <td>1996.0</td>\n",
       "      <td>Role-Playing</td>\n",
       "      <td>11.27</td>\n",
       "      <td>8.89</td>\n",
       "      <td>10.22</td>\n",
       "      <td>1.00</td>\n",
       "      <td>-999.0</td>\n",
       "      <td>-999.0</td>\n",
       "      <td>unknown</td>\n",
       "    </tr>\n",
       "  </tbody>\n",
       "</table>\n",
       "</div>"
      ],
      "text/plain": [
       "                       name platform  year_of_release         genre  na_sales  \\\n",
       "0                Wii Sports      Wii           2006.0        Sports     41.36   \n",
       "1         Super Mario Bros.      NES           1985.0      Platform     29.08   \n",
       "2            Mario Kart Wii      Wii           2008.0        Racing     15.68   \n",
       "3         Wii Sports Resort      Wii           2009.0        Sports     15.61   \n",
       "4  Pokemon Red/Pokemon Blue       GB           1996.0  Role-Playing     11.27   \n",
       "\n",
       "   eu_sales  jp_sales  other_sales  critic_score  user_score   rating  \n",
       "0     28.96      3.77         8.45          76.0         8.0        E  \n",
       "1      3.58      6.81         0.77        -999.0      -999.0  unknown  \n",
       "2     12.76      3.79         3.29          82.0         8.3        E  \n",
       "3     10.93      3.28         2.95          80.0         8.0        E  \n",
       "4      8.89     10.22         1.00        -999.0      -999.0  unknown  "
      ]
     },
     "execution_count": 19,
     "metadata": {},
     "output_type": "execute_result"
    }
   ],
   "source": [
    "data.head()"
   ]
  },
  {
   "cell_type": "code",
   "execution_count": 20,
   "metadata": {},
   "outputs": [
    {
     "data": {
      "text/plain": [
       "name               0\n",
       "platform           0\n",
       "year_of_release    0\n",
       "genre              0\n",
       "na_sales           0\n",
       "eu_sales           0\n",
       "jp_sales           0\n",
       "other_sales        0\n",
       "critic_score       0\n",
       "user_score         0\n",
       "rating             0\n",
       "dtype: int64"
      ]
     },
     "execution_count": 20,
     "metadata": {},
     "output_type": "execute_result"
    }
   ],
   "source": [
    "data.isna().sum()"
   ]
  },
  {
   "cell_type": "code",
   "execution_count": 21,
   "metadata": {},
   "outputs": [],
   "source": [
    "# меняем типы данных на целочисленные\n",
    "data['year_of_release'] = data['year_of_release'].astype('int')\n",
    "data['critic_score'] = data['critic_score'].astype('int')"
   ]
  },
  {
   "cell_type": "code",
   "execution_count": 22,
   "metadata": {},
   "outputs": [
    {
     "data": {
      "text/plain": [
       "0"
      ]
     },
     "execution_count": 22,
     "metadata": {},
     "output_type": "execute_result"
    }
   ],
   "source": [
    "# проверим наличие дубликатов\n",
    "data.duplicated().sum()"
   ]
  },
  {
   "cell_type": "code",
   "execution_count": 23,
   "metadata": {},
   "outputs": [],
   "source": [
    "# посчитаем суммарные продажи\n",
    "data['all_sales'] = data['na_sales'] + data['eu_sales'] + data['jp_sales'] + data['other_sales']"
   ]
  },
  {
   "cell_type": "markdown",
   "metadata": {},
   "source": [
    "**Выводы**\n",
    "\n",
    "Были удалены две игры без названия и жанра и года выхода игр. Остальные пропуски в данном столбце заполнены заглушкой. Пропуски с оценкой критиков, игроков и рейтингом совпадают, поэтому являются неслучайными. Необходимо обратится к источнику данных. Пропуски были заполнены заглушками, т.к. достоверно заполнить их нельзя."
   ]
  },
  {
   "cell_type": "markdown",
   "metadata": {},
   "source": [
    "## Анализ данных"
   ]
  },
  {
   "cell_type": "markdown",
   "metadata": {},
   "source": [
    "### Количество игр в разные годы"
   ]
  },
  {
   "cell_type": "code",
   "execution_count": 25,
   "metadata": {
    "scrolled": false
   },
   "outputs": [
    {
     "data": {
      "text/plain": [
       "year_of_release\n",
       "1980       9\n",
       "1981      46\n",
       "1982      36\n",
       "1983      17\n",
       "1984      14\n",
       "1985      14\n",
       "1986      21\n",
       "1987      16\n",
       "1988      15\n",
       "1989      17\n",
       "1990      16\n",
       "1991      41\n",
       "1992      43\n",
       "1993      60\n",
       "1994     121\n",
       "1995     219\n",
       "1996     263\n",
       "1997     289\n",
       "1998     379\n",
       "1999     338\n",
       "2000     350\n",
       "2001     482\n",
       "2002     829\n",
       "2003     775\n",
       "2004     762\n",
       "2005     939\n",
       "2006    1006\n",
       "2007    1197\n",
       "2008    1427\n",
       "2009    1426\n",
       "2010    1255\n",
       "2011    1136\n",
       "2012     653\n",
       "2013     544\n",
       "2014     581\n",
       "2015     606\n",
       "2016     502\n",
       "Name: year_of_release, dtype: int64"
      ]
     },
     "metadata": {},
     "output_type": "display_data"
    },
    {
     "data": {
      "text/plain": [
       "(1980.0, 2017.0)"
      ]
     },
     "execution_count": 25,
     "metadata": {},
     "output_type": "execute_result"
    },
    {
     "data": {
      "image/png": "[encoded data removed]",
      "text/plain": [
       "<Figure size 432x288 with 1 Axes>"
      ]
     },
     "metadata": {
      "needs_background": "light"
     },
     "output_type": "display_data"
    }
   ],
   "source": [
    "# посчитаем количество игр за каждый год\n",
    "display(data.groupby('year_of_release')['year_of_release'].count())\n",
    "data.groupby('year_of_release')['year_of_release'].count().plot(ylabel='count')\n",
    "plt.xlim(1980, 2017)"
   ]
  },
  {
   "cell_type": "markdown",
   "metadata": {},
   "source": [
    "До 1994 года выходило менее 100 игр в год, затем начался рост. С 2006 по 2011 наблюдается пик роста, выходило более 1000 игр каждый год. С 2012 года число игр стабилизировалось со средним значением около 550 игр в год."
   ]
  },
  {
   "cell_type": "markdown",
   "metadata": {},
   "source": [
    "### Продажи по платформам"
   ]
  },
  {
   "cell_type": "code",
   "execution_count": 26,
   "metadata": {},
   "outputs": [
    {
     "data": {
      "text/html": [
       "<div>\n",
       "<style scoped>\n",
       "    .dataframe tbody tr th:only-of-type {\n",
       "        vertical-align: middle;\n",
       "    }\n",
       "\n",
       "    .dataframe tbody tr th {\n",
       "        vertical-align: top;\n",
       "    }\n",
       "\n",
       "    .dataframe thead th {\n",
       "        text-align: right;\n",
       "    }\n",
       "</style>\n",
       "<table border=\"1\" class=\"dataframe\">\n",
       "  <thead>\n",
       "    <tr style=\"text-align: right;\">\n",
       "      <th></th>\n",
       "      <th>all_sales</th>\n",
       "    </tr>\n",
       "    <tr>\n",
       "      <th>platform</th>\n",
       "      <th></th>\n",
       "    </tr>\n",
       "  </thead>\n",
       "  <tbody>\n",
       "    <tr>\n",
       "      <th>PS2</th>\n",
       "      <td>1233.56</td>\n",
       "    </tr>\n",
       "    <tr>\n",
       "      <th>X360</th>\n",
       "      <td>961.24</td>\n",
       "    </tr>\n",
       "    <tr>\n",
       "      <th>PS3</th>\n",
       "      <td>931.34</td>\n",
       "    </tr>\n",
       "    <tr>\n",
       "      <th>Wii</th>\n",
       "      <td>891.18</td>\n",
       "    </tr>\n",
       "    <tr>\n",
       "      <th>DS</th>\n",
       "      <td>802.78</td>\n",
       "    </tr>\n",
       "    <tr>\n",
       "      <th>PS</th>\n",
       "      <td>727.58</td>\n",
       "    </tr>\n",
       "    <tr>\n",
       "      <th>PS4</th>\n",
       "      <td>314.14</td>\n",
       "    </tr>\n",
       "    <tr>\n",
       "      <th>GBA</th>\n",
       "      <td>312.88</td>\n",
       "    </tr>\n",
       "    <tr>\n",
       "      <th>PSP</th>\n",
       "      <td>289.53</td>\n",
       "    </tr>\n",
       "    <tr>\n",
       "      <th>3DS</th>\n",
       "      <td>257.81</td>\n",
       "    </tr>\n",
       "    <tr>\n",
       "      <th>PC</th>\n",
       "      <td>255.76</td>\n",
       "    </tr>\n",
       "    <tr>\n",
       "      <th>GB</th>\n",
       "      <td>254.43</td>\n",
       "    </tr>\n",
       "    <tr>\n",
       "      <th>XB</th>\n",
       "      <td>251.57</td>\n",
       "    </tr>\n",
       "    <tr>\n",
       "      <th>NES</th>\n",
       "      <td>251.05</td>\n",
       "    </tr>\n",
       "    <tr>\n",
       "      <th>N64</th>\n",
       "      <td>218.01</td>\n",
       "    </tr>\n",
       "    <tr>\n",
       "      <th>SNES</th>\n",
       "      <td>200.04</td>\n",
       "    </tr>\n",
       "    <tr>\n",
       "      <th>GC</th>\n",
       "      <td>196.73</td>\n",
       "    </tr>\n",
       "    <tr>\n",
       "      <th>XOne</th>\n",
       "      <td>159.32</td>\n",
       "    </tr>\n",
       "    <tr>\n",
       "      <th>2600</th>\n",
       "      <td>86.48</td>\n",
       "    </tr>\n",
       "    <tr>\n",
       "      <th>WiiU</th>\n",
       "      <td>82.19</td>\n",
       "    </tr>\n",
       "    <tr>\n",
       "      <th>PSV</th>\n",
       "      <td>53.81</td>\n",
       "    </tr>\n",
       "    <tr>\n",
       "      <th>SAT</th>\n",
       "      <td>33.59</td>\n",
       "    </tr>\n",
       "    <tr>\n",
       "      <th>GEN</th>\n",
       "      <td>28.35</td>\n",
       "    </tr>\n",
       "    <tr>\n",
       "      <th>DC</th>\n",
       "      <td>15.95</td>\n",
       "    </tr>\n",
       "    <tr>\n",
       "      <th>SCD</th>\n",
       "      <td>1.86</td>\n",
       "    </tr>\n",
       "    <tr>\n",
       "      <th>NG</th>\n",
       "      <td>1.44</td>\n",
       "    </tr>\n",
       "    <tr>\n",
       "      <th>WS</th>\n",
       "      <td>1.42</td>\n",
       "    </tr>\n",
       "    <tr>\n",
       "      <th>TG16</th>\n",
       "      <td>0.16</td>\n",
       "    </tr>\n",
       "    <tr>\n",
       "      <th>3DO</th>\n",
       "      <td>0.10</td>\n",
       "    </tr>\n",
       "    <tr>\n",
       "      <th>GG</th>\n",
       "      <td>0.04</td>\n",
       "    </tr>\n",
       "    <tr>\n",
       "      <th>PCFX</th>\n",
       "      <td>0.03</td>\n",
       "    </tr>\n",
       "  </tbody>\n",
       "</table>\n",
       "</div>"
      ],
      "text/plain": [
       "          all_sales\n",
       "platform           \n",
       "PS2         1233.56\n",
       "X360         961.24\n",
       "PS3          931.34\n",
       "Wii          891.18\n",
       "DS           802.78\n",
       "PS           727.58\n",
       "PS4          314.14\n",
       "GBA          312.88\n",
       "PSP          289.53\n",
       "3DS          257.81\n",
       "PC           255.76\n",
       "GB           254.43\n",
       "XB           251.57\n",
       "NES          251.05\n",
       "N64          218.01\n",
       "SNES         200.04\n",
       "GC           196.73\n",
       "XOne         159.32\n",
       "2600          86.48\n",
       "WiiU          82.19\n",
       "PSV           53.81\n",
       "SAT           33.59\n",
       "GEN           28.35\n",
       "DC            15.95\n",
       "SCD            1.86\n",
       "NG             1.44\n",
       "WS             1.42\n",
       "TG16           0.16\n",
       "3DO            0.10\n",
       "GG             0.04\n",
       "PCFX           0.03"
      ]
     },
     "execution_count": 26,
     "metadata": {},
     "output_type": "execute_result"
    }
   ],
   "source": [
    "# Посчитаем суммарные продажи по каждой платформе\n",
    "data.pivot_table(index='platform', values='all_sales', aggfunc=sum).sort_values(by='all_sales', ascending=False)"
   ]
  },
  {
   "cell_type": "code",
   "execution_count": 27,
   "metadata": {},
   "outputs": [
    {
     "data": {
      "text/plain": [
       "<AxesSubplot:xlabel='year_of_release', ylabel='platform'>"
      ]
     },
     "execution_count": 27,
     "metadata": {},
     "output_type": "execute_result"
    },
    {
     "data": {
      "image/png": "[encoded data removed]",
      "text/plain": [
       "<Figure size 432x288 with 2 Axes>"
      ]
     },
     "metadata": {
      "needs_background": "light"
     },
     "output_type": "display_data"
    }
   ],
   "source": [
    "# построим тепловую карту для 6 платформ - лидеров продаж\n",
    "top_platforms = ['PS2', 'X360', 'PS3', 'Wii', 'DS', 'PS']\n",
    "\n",
    "sns.heatmap(\n",
    "    data.query('platform in @top_platforms')\n",
    "    .pivot_table(index='platform', columns='year_of_release', values='all_sales', aggfunc=sum)\n",
    ")"
   ]
  },
  {
   "cell_type": "markdown",
   "metadata": {},
   "source": [
    "Средний срок \"жизни\" платформы составляет примерно 10 лет. Новое поколение платформ появляется каждые 5 лет."
   ]
  },
  {
   "cell_type": "markdown",
   "metadata": {},
   "source": [
    "### Выбор актуального периода"
   ]
  },
  {
   "cell_type": "markdown",
   "metadata": {},
   "source": [
    "В качестве нижней границы актуального периода можно взять 2012 год. С этого года стабилизировалось число выпускаемых игр, и прошло уже 5 лет с выхода последних консолей, а значит этот период будет включать уже данные по новому поколению консолей."
   ]
  },
  {
   "cell_type": "code",
   "execution_count": 28,
   "metadata": {},
   "outputs": [],
   "source": [
    "good_data = data.query('year_of_release >= 2012')"
   ]
  },
  {
   "cell_type": "markdown",
   "metadata": {},
   "source": [
    "### Потенциально прибыльные платформы"
   ]
  },
  {
   "cell_type": "code",
   "execution_count": 29,
   "metadata": {
    "scrolled": true
   },
   "outputs": [
    {
     "data": {
      "text/plain": [
       "<AxesSubplot:xlabel='year_of_release', ylabel='platform'>"
      ]
     },
     "execution_count": 29,
     "metadata": {},
     "output_type": "execute_result"
    },
    {
     "data": {
      "image/png": "[encoded data removed]",
      "text/plain": [
       "<Figure size 432x288 with 2 Axes>"
      ]
     },
     "metadata": {
      "needs_background": "light"
     },
     "output_type": "display_data"
    }
   ],
   "source": [
    "# Построим тепловую карту продаж платформ\n",
    "sns.heatmap(\n",
    "    good_data.pivot_table(index='platform', columns='year_of_release', values='all_sales', aggfunc=sum)\n",
    ")"
   ]
  },
  {
   "cell_type": "markdown",
   "metadata": {},
   "source": [
    "Выводы:\n",
    "* Лидерами продаж за последние 5 лет были платформы 3DS, PS3, PS4, X360, XOne;\n",
    "* Спад продаж наблюдается у платформ 3DS, PC, PS3, PSV, Wii, WiiU, X360;\n",
    "* Рост демонстрируют PS4 и XOne*.\n",
    "\n",
    "*в 2016 году у этих платформ спад, однако мы знаем, что данные за этот год могут быть неполными, а платформы демонстрировали рост в предыдущие годы. \n",
    "\n",
    "В качестве потенциально прибыльных платформ можно выбрать PS4 и XOne."
   ]
  },
  {
   "cell_type": "markdown",
   "metadata": {},
   "source": [
    "###  Глобальные продажи игр в разбивке по платформам"
   ]
  },
  {
   "cell_type": "code",
   "execution_count": 30,
   "metadata": {
    "scrolled": true
   },
   "outputs": [
    {
     "data": {
      "text/plain": [
       "<AxesSubplot:title={'center':'all_sales'}, xlabel='platform'>"
      ]
     },
     "execution_count": 30,
     "metadata": {},
     "output_type": "execute_result"
    },
    {
     "data": {
      "image/png": "[encoded data removed]",
      "text/plain": [
       "<Figure size 432x288 with 1 Axes>"
      ]
     },
     "metadata": {
      "needs_background": "light"
     },
     "output_type": "display_data"
    }
   ],
   "source": [
    "# построим диаграмму размаха для 5 самых продаваемых платформ\n",
    "leaders = ['3DS', 'PS3', 'PS4', 'X360', 'XOne']\n",
    "good_data.query('platform in @leaders').boxplot(column='all_sales', by='platform')"
   ]
  },
  {
   "cell_type": "code",
   "execution_count": 31,
   "metadata": {},
   "outputs": [
    {
     "data": {
      "text/plain": [
       "(0.0, 1.0)"
      ]
     },
     "execution_count": 31,
     "metadata": {},
     "output_type": "execute_result"
    },
    {
     "data": {
      "image/png": "[encoded data removed]",
      "text/plain": [
       "<Figure size 432x288 with 1 Axes>"
      ]
     },
     "metadata": {
      "needs_background": "light"
     },
     "output_type": "display_data"
    }
   ],
   "source": [
    "good_data.query('platform in @leaders').boxplot(column='all_sales', by='platform')\n",
    "plt.ylim(0, 1)"
   ]
  },
  {
   "cell_type": "markdown",
   "metadata": {},
   "source": [
    "Медианное значение лежит в пределах 0.2. Самый маленький разброс у DS, самый большой - у X360. Большой разброс показывает большое количество игр с аномально высокими суммарными продажами, что говорит о популярности платформы и игр на ней. "
   ]
  },
  {
   "cell_type": "markdown",
   "metadata": {},
   "source": [
    "### Влияние отзывов на продажи "
   ]
  },
  {
   "cell_type": "code",
   "execution_count": 32,
   "metadata": {
    "scrolled": false
   },
   "outputs": [
    {
     "data": {
      "text/plain": [
       "'Корреляция продаж с оценками критиков составила:'"
      ]
     },
     "metadata": {},
     "output_type": "display_data"
    },
    {
     "data": {
      "text/plain": [
       "0.3605734888507336"
      ]
     },
     "metadata": {},
     "output_type": "display_data"
    },
    {
     "data": {
      "text/plain": [
       "'Корреляция продаж с оценками пользователей составила:'"
      ]
     },
     "metadata": {},
     "output_type": "display_data"
    },
    {
     "data": {
      "text/plain": [
       "0.006163978646213326"
      ]
     },
     "metadata": {},
     "output_type": "display_data"
    },
    {
     "data": {
      "text/plain": [
       "<AxesSubplot:xlabel='user_score', ylabel='all_sales'>"
      ]
     },
     "execution_count": 32,
     "metadata": {},
     "output_type": "execute_result"
    },
    {
     "data": {
      "image/png": "[encoded data removed]",
      "text/plain": [
       "<Figure size 432x288 with 1 Axes>"
      ]
     },
     "metadata": {
      "needs_background": "light"
     },
     "output_type": "display_data"
    },
    {
     "data": {
      "image/png": "[encoded data removed]",
      "text/plain": [
       "<Figure size 432x288 with 1 Axes>"
      ]
     },
     "metadata": {
      "needs_background": "light"
     },
     "output_type": "display_data"
    }
   ],
   "source": [
    "# возьмем самую популярную платформу за рассматриваемый период - X360\n",
    "x360_critic_data = good_data.query('platform == \"X360\" and critic_score > 0')\n",
    "x360_user_data = good_data.query('platform == \"X360\" and user_score > 0')\n",
    "\n",
    "display('Корреляция продаж с оценками критиков составила:', x360_critic_data['critic_score'].corr(x360_critic_data['all_sales']))\n",
    "display('Корреляция продаж с оценками пользователей составила:', x360_user_data['user_score'].corr(x360_user_data['all_sales']))\n",
    "\n",
    "x360_critic_data.sort_values('all_sales').plot(kind='scatter', x='critic_score', y='all_sales', alpha=0.3, grid=True)\n",
    "x360_user_data.sort_values('all_sales').plot(kind='scatter', x='user_score', y='all_sales', alpha=0.3, grid=True)"
   ]
  },
  {
   "cell_type": "code",
   "execution_count": 33,
   "metadata": {},
   "outputs": [
    {
     "name": "stdout",
     "output_type": "stream",
     "text": [
      "171\n",
      "235\n",
      "171\n"
     ]
    }
   ],
   "source": [
    "print(len(good_data.query('platform == \"X360\" and critic_score > 0')))\n",
    "print(len(good_data.query('platform == \"X360\" and user_score > 0')))\n",
    "print(len(good_data.query('platform == \"X360\" and critic_score > 0 and user_score > 0')))"
   ]
  },
  {
   "cell_type": "markdown",
   "metadata": {},
   "source": [
    "Величина корреляции для отзывов от критиков и пользователей составила 0.36 и 0 соответственно, что говорит скорее об отсутствии взаимосвязи между оценками и продажами игры. Графики показывают, что высокие продажи могут демонстрировать игры с невысокой оценкой. Однако основная масса значений распределена равномерно. "
   ]
  },
  {
   "cell_type": "code",
   "execution_count": 34,
   "metadata": {
    "scrolled": true
   },
   "outputs": [
    {
     "data": {
      "text/plain": [
       "'3DS'"
      ]
     },
     "metadata": {},
     "output_type": "display_data"
    },
    {
     "data": {
      "text/plain": [
       "0.3208028695360785"
      ]
     },
     "metadata": {},
     "output_type": "display_data"
    },
    {
     "data": {
      "text/plain": [
       "'PS3'"
      ]
     },
     "metadata": {},
     "output_type": "display_data"
    },
    {
     "data": {
      "text/plain": [
       "0.3314972592629587"
      ]
     },
     "metadata": {},
     "output_type": "display_data"
    },
    {
     "data": {
      "text/plain": [
       "'PS4'"
      ]
     },
     "metadata": {},
     "output_type": "display_data"
    },
    {
     "data": {
      "text/plain": [
       "0.40656790206178095"
      ]
     },
     "metadata": {},
     "output_type": "display_data"
    },
    {
     "data": {
      "text/plain": [
       "'X360'"
      ]
     },
     "metadata": {},
     "output_type": "display_data"
    },
    {
     "data": {
      "text/plain": [
       "0.3605734888507336"
      ]
     },
     "metadata": {},
     "output_type": "display_data"
    },
    {
     "data": {
      "text/plain": [
       "'XOne'"
      ]
     },
     "metadata": {},
     "output_type": "display_data"
    },
    {
     "data": {
      "text/plain": [
       "0.4169983280084017"
      ]
     },
     "metadata": {},
     "output_type": "display_data"
    },
    {
     "data": {
      "image/png": "[encoded data removed]",
      "text/plain": [
       "<Figure size 432x288 with 1 Axes>"
      ]
     },
     "metadata": {
      "needs_background": "light"
     },
     "output_type": "display_data"
    },
    {
     "data": {
      "image/png": "[encoded data removed]",
      "text/plain": [
       "<Figure size 432x288 with 1 Axes>"
      ]
     },
     "metadata": {
      "needs_background": "light"
     },
     "output_type": "display_data"
    },
    {
     "data": {
      "image/png": "[encoded data removed]",
      "text/plain": [
       "<Figure size 432x288 with 1 Axes>"
      ]
     },
     "metadata": {
      "needs_background": "light"
     },
     "output_type": "display_data"
    },
    {
     "data": {
      "image/png": "[encoded data removed]",
      "text/plain": [
       "<Figure size 432x288 with 1 Axes>"
      ]
     },
     "metadata": {
      "needs_background": "light"
     },
     "output_type": "display_data"
    },
    {
     "data": {
      "image/png": "[encoded data removed]",
      "text/plain": [
       "<Figure size 432x288 with 1 Axes>"
      ]
     },
     "metadata": {
      "needs_background": "light"
     },
     "output_type": "display_data"
    }
   ],
   "source": [
    "# проверим корреляцию оценки критиков для других платформ\n",
    "for platform, platform_sales in good_data.query('platform in @leaders and critic_score > 0').groupby('platform'):\n",
    "    display(platform, platform_sales['critic_score'].corr(platform_sales['all_sales']))\n",
    "    platform_sales.sort_values('all_sales').plot(kind='scatter', x='critic_score', y='all_sales', alpha=0.3, label=platform, grid=True)\n",
    "    plt.ylim(0, 20)\n",
    "    plt.xlim(0, 100)\n"
   ]
  },
  {
   "cell_type": "markdown",
   "metadata": {},
   "source": [
    "Все платформы демонстрируют слабую корреляцию."
   ]
  },
  {
   "cell_type": "markdown",
   "metadata": {},
   "source": [
    "### Распределение игр по жанрам"
   ]
  },
  {
   "cell_type": "code",
   "execution_count": 35,
   "metadata": {},
   "outputs": [
    {
     "data": {
      "text/plain": [
       "<AxesSubplot:title={'center':'all_sales'}, xlabel='genre'>"
      ]
     },
     "execution_count": 35,
     "metadata": {},
     "output_type": "execute_result"
    },
    {
     "data": {
      "image/png": "[encoded data removed]",
      "text/plain": [
       "<Figure size 1080x360 with 1 Axes>"
      ]
     },
     "metadata": {
      "needs_background": "light"
     },
     "output_type": "display_data"
    }
   ],
   "source": [
    "# Построим сводную таблицу продаж игр по жанрам и диаграмму размаха\n",
    "genre_sales = good_data.pivot_table(index='genre', values='all_sales', aggfunc=['median', 'sum', 'count'])\n",
    "genre_sales.columns = ['median', 'sum', 'count']\n",
    "genre_sales.sort_values(by='median', ascending=False)\n",
    "\n",
    "good_data.boxplot(column='all_sales', by='genre', figsize=(15, 5))"
   ]
  },
  {
   "cell_type": "markdown",
   "metadata": {},
   "source": [
    "Самые высокие медианные продажи у жанра Shooter, затем идут Sports и Platform. Наименее популярные жанры Puzzle и Adventure. Жанр Action имеет самые высокие суммарные продажи, однако на диаграмме размаха видно, что это произошло благодаря всего трем супер популярным играм. У жанра Shooter ниже суммарные продажи, но больше игр, приносящих стабильно высокие доходы."
   ]
  },
  {
   "cell_type": "markdown",
   "metadata": {},
   "source": [
    "### Составление портрета пользователя каждого региона"
   ]
  },
  {
   "cell_type": "markdown",
   "metadata": {},
   "source": [
    "**Платформы**"
   ]
  },
  {
   "cell_type": "code",
   "execution_count": 36,
   "metadata": {
    "scrolled": true
   },
   "outputs": [
    {
     "data": {
      "text/html": [
       "<div>\n",
       "<style scoped>\n",
       "    .dataframe tbody tr th:only-of-type {\n",
       "        vertical-align: middle;\n",
       "    }\n",
       "\n",
       "    .dataframe tbody tr th {\n",
       "        vertical-align: top;\n",
       "    }\n",
       "\n",
       "    .dataframe thead th {\n",
       "        text-align: right;\n",
       "    }\n",
       "</style>\n",
       "<table border=\"1\" class=\"dataframe\">\n",
       "  <thead>\n",
       "    <tr style=\"text-align: right;\">\n",
       "      <th></th>\n",
       "      <th>eu_sales_ratio</th>\n",
       "      <th>median</th>\n",
       "    </tr>\n",
       "    <tr>\n",
       "      <th>platform</th>\n",
       "      <th></th>\n",
       "      <th></th>\n",
       "    </tr>\n",
       "  </thead>\n",
       "  <tbody>\n",
       "    <tr>\n",
       "      <th>PS4</th>\n",
       "      <td>0.278383</td>\n",
       "      <td>0.08</td>\n",
       "    </tr>\n",
       "    <tr>\n",
       "      <th>PS3</th>\n",
       "      <td>0.210844</td>\n",
       "      <td>0.03</td>\n",
       "    </tr>\n",
       "    <tr>\n",
       "      <th>other_platforms</th>\n",
       "      <td>0.177815</td>\n",
       "      <td>0.19</td>\n",
       "    </tr>\n",
       "    <tr>\n",
       "      <th>X360</th>\n",
       "      <td>0.147034</td>\n",
       "      <td>0.10</td>\n",
       "    </tr>\n",
       "    <tr>\n",
       "      <th>XOne</th>\n",
       "      <td>0.101792</td>\n",
       "      <td>0.07</td>\n",
       "    </tr>\n",
       "    <tr>\n",
       "      <th>3DS</th>\n",
       "      <td>0.084132</td>\n",
       "      <td>0.00</td>\n",
       "    </tr>\n",
       "  </tbody>\n",
       "</table>\n",
       "</div>"
      ],
      "text/plain": [
       "                 eu_sales_ratio  median\n",
       "platform                               \n",
       "PS4                    0.278383    0.08\n",
       "PS3                    0.210844    0.03\n",
       "other_platforms        0.177815    0.19\n",
       "X360                   0.147034    0.10\n",
       "XOne                   0.101792    0.07\n",
       "3DS                    0.084132    0.00"
      ]
     },
     "metadata": {},
     "output_type": "display_data"
    },
    {
     "data": {
      "text/html": [
       "<div>\n",
       "<style scoped>\n",
       "    .dataframe tbody tr th:only-of-type {\n",
       "        vertical-align: middle;\n",
       "    }\n",
       "\n",
       "    .dataframe tbody tr th {\n",
       "        vertical-align: top;\n",
       "    }\n",
       "\n",
       "    .dataframe thead th {\n",
       "        text-align: right;\n",
       "    }\n",
       "</style>\n",
       "<table border=\"1\" class=\"dataframe\">\n",
       "  <thead>\n",
       "    <tr style=\"text-align: right;\">\n",
       "      <th></th>\n",
       "      <th>jp_sales_ratio</th>\n",
       "      <th>median</th>\n",
       "    </tr>\n",
       "    <tr>\n",
       "      <th>platform</th>\n",
       "      <th></th>\n",
       "      <th></th>\n",
       "    </tr>\n",
       "  </thead>\n",
       "  <tbody>\n",
       "    <tr>\n",
       "      <th>3DS</th>\n",
       "      <td>0.455862</td>\n",
       "      <td>0.06</td>\n",
       "    </tr>\n",
       "    <tr>\n",
       "      <th>PS3</th>\n",
       "      <td>0.183249</td>\n",
       "      <td>0.03</td>\n",
       "    </tr>\n",
       "    <tr>\n",
       "      <th>PSV</th>\n",
       "      <td>0.109253</td>\n",
       "      <td>0.03</td>\n",
       "    </tr>\n",
       "    <tr>\n",
       "      <th>other_platforms</th>\n",
       "      <td>0.101205</td>\n",
       "      <td>0.03</td>\n",
       "    </tr>\n",
       "    <tr>\n",
       "      <th>PS4</th>\n",
       "      <td>0.082875</td>\n",
       "      <td>0.01</td>\n",
       "    </tr>\n",
       "    <tr>\n",
       "      <th>WiiU</th>\n",
       "      <td>0.067556</td>\n",
       "      <td>0.00</td>\n",
       "    </tr>\n",
       "  </tbody>\n",
       "</table>\n",
       "</div>"
      ],
      "text/plain": [
       "                 jp_sales_ratio  median\n",
       "platform                               \n",
       "3DS                    0.455862    0.06\n",
       "PS3                    0.183249    0.03\n",
       "PSV                    0.109253    0.03\n",
       "other_platforms        0.101205    0.03\n",
       "PS4                    0.082875    0.01\n",
       "WiiU                   0.067556    0.00"
      ]
     },
     "metadata": {},
     "output_type": "display_data"
    },
    {
     "data": {
      "text/html": [
       "<div>\n",
       "<style scoped>\n",
       "    .dataframe tbody tr th:only-of-type {\n",
       "        vertical-align: middle;\n",
       "    }\n",
       "\n",
       "    .dataframe tbody tr th {\n",
       "        vertical-align: top;\n",
       "    }\n",
       "\n",
       "    .dataframe thead th {\n",
       "        text-align: right;\n",
       "    }\n",
       "</style>\n",
       "<table border=\"1\" class=\"dataframe\">\n",
       "  <thead>\n",
       "    <tr style=\"text-align: right;\">\n",
       "      <th></th>\n",
       "      <th>median</th>\n",
       "      <th>na_sales_ratio</th>\n",
       "    </tr>\n",
       "    <tr>\n",
       "      <th>platform</th>\n",
       "      <th></th>\n",
       "      <th></th>\n",
       "    </tr>\n",
       "  </thead>\n",
       "  <tbody>\n",
       "    <tr>\n",
       "      <th>X360</th>\n",
       "      <td>0.170</td>\n",
       "      <td>0.236983</td>\n",
       "    </tr>\n",
       "    <tr>\n",
       "      <th>PS4</th>\n",
       "      <td>0.060</td>\n",
       "      <td>0.184003</td>\n",
       "    </tr>\n",
       "    <tr>\n",
       "      <th>PS3</th>\n",
       "      <td>0.050</td>\n",
       "      <td>0.174933</td>\n",
       "    </tr>\n",
       "    <tr>\n",
       "      <th>XOne</th>\n",
       "      <td>0.120</td>\n",
       "      <td>0.157571</td>\n",
       "    </tr>\n",
       "    <tr>\n",
       "      <th>other_platforms</th>\n",
       "      <td>0.155</td>\n",
       "      <td>0.152918</td>\n",
       "    </tr>\n",
       "    <tr>\n",
       "      <th>3DS</th>\n",
       "      <td>0.000</td>\n",
       "      <td>0.093592</td>\n",
       "    </tr>\n",
       "  </tbody>\n",
       "</table>\n",
       "</div>"
      ],
      "text/plain": [
       "                 median  na_sales_ratio\n",
       "platform                               \n",
       "X360              0.170        0.236983\n",
       "PS4               0.060        0.184003\n",
       "PS3               0.050        0.174933\n",
       "XOne              0.120        0.157571\n",
       "other_platforms   0.155        0.152918\n",
       "3DS               0.000        0.093592"
      ]
     },
     "metadata": {},
     "output_type": "display_data"
    },
    {
     "data": {
      "image/png": "[encoded data removed]",
      "text/plain": [
       "<Figure size 432x288 with 1 Axes>"
      ]
     },
     "metadata": {},
     "output_type": "display_data"
    },
    {
     "data": {
      "image/png": "[encoded data removed]",
      "text/plain": [
       "<Figure size 432x288 with 1 Axes>"
      ]
     },
     "metadata": {},
     "output_type": "display_data"
    },
    {
     "data": {
      "image/png": "[encoded data removed]",
      "text/plain": [
       "<Figure size 432x288 with 1 Axes>"
      ]
     },
     "metadata": {},
     "output_type": "display_data"
    }
   ],
   "source": [
    "# Построим сводную таблицу продаж игр по платформам для каждого региона\n",
    "regions_sales = ['eu_sales', 'jp_sales', 'na_sales']\n",
    "\n",
    "for region in regions_sales:\n",
    "    sales = good_data.pivot_table(index='platform', values=region, aggfunc=('sum', 'median'))\n",
    "    sales = sales.reset_index()\n",
    "    sales[region + '_ratio'] = sales['sum'] / sales['sum'].sum()\n",
    "    ind = sales.sort_values(by=region + '_ratio', ascending=False).head()['platform']\n",
    "    sales['platform'] = sales.where(sales['platform'].isin(ind), 'other_platforms')\n",
    "    sales = sales.pivot_table(index='platform', values=[region + '_ratio', 'median'], aggfunc='sum')\n",
    "    display(sales.sort_values(by=region + '_ratio', ascending=False))\n",
    "    sales.plot(kind='pie', y=region + '_ratio', legend=False)\n",
    "\n",
    "\n"
   ]
  },
  {
   "cell_type": "markdown",
   "metadata": {},
   "source": [
    "Выводы\n",
    "\n",
    "* В регионе eu лидирует платформа PS4.\n",
    "* В регионе jp лидирует платформа 3DS.\n",
    "* В регионе na лидирует платформа X360.\n",
    "\n",
    "В каждом регионе есть своя предпочтительная платформа."
   ]
  },
  {
   "cell_type": "markdown",
   "metadata": {},
   "source": [
    "**Жанры**"
   ]
  },
  {
   "cell_type": "code",
   "execution_count": 37,
   "metadata": {
    "scrolled": false
   },
   "outputs": [
    {
     "data": {
      "text/html": [
       "<div>\n",
       "<style scoped>\n",
       "    .dataframe tbody tr th:only-of-type {\n",
       "        vertical-align: middle;\n",
       "    }\n",
       "\n",
       "    .dataframe tbody tr th {\n",
       "        vertical-align: top;\n",
       "    }\n",
       "\n",
       "    .dataframe thead th {\n",
       "        text-align: right;\n",
       "    }\n",
       "</style>\n",
       "<table border=\"1\" class=\"dataframe\">\n",
       "  <thead>\n",
       "    <tr style=\"text-align: right;\">\n",
       "      <th></th>\n",
       "      <th>eu_sales_ratio</th>\n",
       "      <th>median</th>\n",
       "    </tr>\n",
       "    <tr>\n",
       "      <th>genre</th>\n",
       "      <th></th>\n",
       "      <th></th>\n",
       "    </tr>\n",
       "  </thead>\n",
       "  <tbody>\n",
       "    <tr>\n",
       "      <th>Action</th>\n",
       "      <td>0.314392</td>\n",
       "      <td>0.020</td>\n",
       "    </tr>\n",
       "    <tr>\n",
       "      <th>Shooter</th>\n",
       "      <td>0.223886</td>\n",
       "      <td>0.170</td>\n",
       "    </tr>\n",
       "    <tr>\n",
       "      <th>other_genres</th>\n",
       "      <td>0.175802</td>\n",
       "      <td>0.165</td>\n",
       "    </tr>\n",
       "    <tr>\n",
       "      <th>Sports</th>\n",
       "      <td>0.136321</td>\n",
       "      <td>0.050</td>\n",
       "    </tr>\n",
       "    <tr>\n",
       "      <th>Role-Playing</th>\n",
       "      <td>0.095754</td>\n",
       "      <td>0.010</td>\n",
       "    </tr>\n",
       "    <tr>\n",
       "      <th>Racing</th>\n",
       "      <td>0.053846</td>\n",
       "      <td>0.090</td>\n",
       "    </tr>\n",
       "  </tbody>\n",
       "</table>\n",
       "</div>"
      ],
      "text/plain": [
       "              eu_sales_ratio  median\n",
       "genre                               \n",
       "Action              0.314392   0.020\n",
       "Shooter             0.223886   0.170\n",
       "other_genres        0.175802   0.165\n",
       "Sports              0.136321   0.050\n",
       "Role-Playing        0.095754   0.010\n",
       "Racing              0.053846   0.090"
      ]
     },
     "metadata": {},
     "output_type": "display_data"
    },
    {
     "data": {
      "text/html": [
       "<div>\n",
       "<style scoped>\n",
       "    .dataframe tbody tr th:only-of-type {\n",
       "        vertical-align: middle;\n",
       "    }\n",
       "\n",
       "    .dataframe tbody tr th {\n",
       "        vertical-align: top;\n",
       "    }\n",
       "\n",
       "    .dataframe thead th {\n",
       "        text-align: right;\n",
       "    }\n",
       "</style>\n",
       "<table border=\"1\" class=\"dataframe\">\n",
       "  <thead>\n",
       "    <tr style=\"text-align: right;\">\n",
       "      <th></th>\n",
       "      <th>jp_sales_ratio</th>\n",
       "      <th>median</th>\n",
       "    </tr>\n",
       "    <tr>\n",
       "      <th>genre</th>\n",
       "      <th></th>\n",
       "      <th></th>\n",
       "    </tr>\n",
       "  </thead>\n",
       "  <tbody>\n",
       "    <tr>\n",
       "      <th>Role-Playing</th>\n",
       "      <td>0.339807</td>\n",
       "      <td>0.06</td>\n",
       "    </tr>\n",
       "    <tr>\n",
       "      <th>Action</th>\n",
       "      <td>0.274172</td>\n",
       "      <td>0.01</td>\n",
       "    </tr>\n",
       "    <tr>\n",
       "      <th>other_genres</th>\n",
       "      <td>0.216170</td>\n",
       "      <td>0.01</td>\n",
       "    </tr>\n",
       "    <tr>\n",
       "      <th>Misc</th>\n",
       "      <td>0.066777</td>\n",
       "      <td>0.02</td>\n",
       "    </tr>\n",
       "    <tr>\n",
       "      <th>Simulation</th>\n",
       "      <td>0.054055</td>\n",
       "      <td>0.00</td>\n",
       "    </tr>\n",
       "    <tr>\n",
       "      <th>Fighting</th>\n",
       "      <td>0.049019</td>\n",
       "      <td>0.03</td>\n",
       "    </tr>\n",
       "  </tbody>\n",
       "</table>\n",
       "</div>"
      ],
      "text/plain": [
       "              jp_sales_ratio  median\n",
       "genre                               \n",
       "Role-Playing        0.339807    0.06\n",
       "Action              0.274172    0.01\n",
       "other_genres        0.216170    0.01\n",
       "Misc                0.066777    0.02\n",
       "Simulation          0.054055    0.00\n",
       "Fighting            0.049019    0.03"
      ]
     },
     "metadata": {},
     "output_type": "display_data"
    },
    {
     "data": {
      "text/html": [
       "<div>\n",
       "<style scoped>\n",
       "    .dataframe tbody tr th:only-of-type {\n",
       "        vertical-align: middle;\n",
       "    }\n",
       "\n",
       "    .dataframe tbody tr th {\n",
       "        vertical-align: top;\n",
       "    }\n",
       "\n",
       "    .dataframe thead th {\n",
       "        text-align: right;\n",
       "    }\n",
       "</style>\n",
       "<table border=\"1\" class=\"dataframe\">\n",
       "  <thead>\n",
       "    <tr style=\"text-align: right;\">\n",
       "      <th></th>\n",
       "      <th>median</th>\n",
       "      <th>na_sales_ratio</th>\n",
       "    </tr>\n",
       "    <tr>\n",
       "      <th>genre</th>\n",
       "      <th></th>\n",
       "      <th></th>\n",
       "    </tr>\n",
       "  </thead>\n",
       "  <tbody>\n",
       "    <tr>\n",
       "      <th>Action</th>\n",
       "      <td>0.02</td>\n",
       "      <td>0.300929</td>\n",
       "    </tr>\n",
       "    <tr>\n",
       "      <th>Shooter</th>\n",
       "      <td>0.20</td>\n",
       "      <td>0.244970</td>\n",
       "    </tr>\n",
       "    <tr>\n",
       "      <th>other_genres</th>\n",
       "      <td>0.18</td>\n",
       "      <td>0.143222</td>\n",
       "    </tr>\n",
       "    <tr>\n",
       "      <th>Sports</th>\n",
       "      <td>0.08</td>\n",
       "      <td>0.137960</td>\n",
       "    </tr>\n",
       "    <tr>\n",
       "      <th>Role-Playing</th>\n",
       "      <td>0.02</td>\n",
       "      <td>0.108297</td>\n",
       "    </tr>\n",
       "    <tr>\n",
       "      <th>Misc</th>\n",
       "      <td>0.01</td>\n",
       "      <td>0.064623</td>\n",
       "    </tr>\n",
       "  </tbody>\n",
       "</table>\n",
       "</div>"
      ],
      "text/plain": [
       "              median  na_sales_ratio\n",
       "genre                               \n",
       "Action          0.02        0.300929\n",
       "Shooter         0.20        0.244970\n",
       "other_genres    0.18        0.143222\n",
       "Sports          0.08        0.137960\n",
       "Role-Playing    0.02        0.108297\n",
       "Misc            0.01        0.064623"
      ]
     },
     "metadata": {},
     "output_type": "display_data"
    },
    {
     "data": {
      "image/png": "[encoded data removed]",
      "text/plain": [
       "<Figure size 432x288 with 1 Axes>"
      ]
     },
     "metadata": {},
     "output_type": "display_data"
    },
    {
     "data": {
      "image/png": "[encoded data removed]",
      "text/plain": [
       "<Figure size 432x288 with 1 Axes>"
      ]
     },
     "metadata": {},
     "output_type": "display_data"
    },
    {
     "data": {
      "image/png": "[encoded data removed]",
      "text/plain": [
       "<Figure size 432x288 with 1 Axes>"
      ]
     },
     "metadata": {},
     "output_type": "display_data"
    }
   ],
   "source": [
    "# Построим сводную таблицу продаж игр по жанрам для каждого региона\n",
    "for region in regions_sales:\n",
    "    sales = good_data.pivot_table(index='genre', values=region, aggfunc=('sum', 'median'))\n",
    "    sales = sales.reset_index()\n",
    "    sales[region + '_ratio'] = sales['sum'] / sales['sum'].sum()\n",
    "    ind = sales.sort_values(by=region + '_ratio', ascending=False).head()['genre']\n",
    "    sales['genre'] = sales.where(sales['genre'].isin(ind), 'other_genres')\n",
    "    sales = sales.pivot_table(index='genre', values=[region + '_ratio', 'median'], aggfunc='sum')\n",
    "    display(sales.sort_values(by=region + '_ratio', ascending=False))\n",
    "    sales.plot(kind='pie', y=region + '_ratio', legend=False, normalize=False)"
   ]
  },
  {
   "cell_type": "markdown",
   "metadata": {},
   "source": [
    "Выводы\n",
    "* Предпочтения пользователей из eu и na практически одинаковые. Самый продаваемый жанр по медиане - Shooter, по суммарным продажам - Action.\n",
    "* В регионе jp самый популярный жанр Role-Playing."
   ]
  },
  {
   "cell_type": "code",
   "execution_count": 38,
   "metadata": {},
   "outputs": [],
   "source": [
    "for region in regions_sales:\n",
    "    sales = good_data.pivot_table(index='genre', values=region, aggfunc=('sum', 'median'))\n",
    "    sales = sales.reset_index()"
   ]
  },
  {
   "cell_type": "markdown",
   "metadata": {},
   "source": [
    "**Рейтинг ESRB**"
   ]
  },
  {
   "cell_type": "code",
   "execution_count": 39,
   "metadata": {},
   "outputs": [
    {
     "data": {
      "text/html": [
       "<div>\n",
       "<style scoped>\n",
       "    .dataframe tbody tr th:only-of-type {\n",
       "        vertical-align: middle;\n",
       "    }\n",
       "\n",
       "    .dataframe tbody tr th {\n",
       "        vertical-align: top;\n",
       "    }\n",
       "\n",
       "    .dataframe thead th {\n",
       "        text-align: right;\n",
       "    }\n",
       "</style>\n",
       "<table border=\"1\" class=\"dataframe\">\n",
       "  <thead>\n",
       "    <tr style=\"text-align: right;\">\n",
       "      <th></th>\n",
       "      <th>eu_sales_ratio</th>\n",
       "    </tr>\n",
       "    <tr>\n",
       "      <th>rating</th>\n",
       "      <th></th>\n",
       "    </tr>\n",
       "  </thead>\n",
       "  <tbody>\n",
       "    <tr>\n",
       "      <th>M</th>\n",
       "      <td>0.382700</td>\n",
       "    </tr>\n",
       "    <tr>\n",
       "      <th>E</th>\n",
       "      <td>0.223018</td>\n",
       "    </tr>\n",
       "    <tr>\n",
       "      <th>unknown</th>\n",
       "      <td>0.180537</td>\n",
       "    </tr>\n",
       "    <tr>\n",
       "      <th>E10+</th>\n",
       "      <td>0.109250</td>\n",
       "    </tr>\n",
       "    <tr>\n",
       "      <th>T</th>\n",
       "      <td>0.104495</td>\n",
       "    </tr>\n",
       "  </tbody>\n",
       "</table>\n",
       "</div>"
      ],
      "text/plain": [
       "         eu_sales_ratio\n",
       "rating                 \n",
       "M              0.382700\n",
       "E              0.223018\n",
       "unknown        0.180537\n",
       "E10+           0.109250\n",
       "T              0.104495"
      ]
     },
     "metadata": {},
     "output_type": "display_data"
    },
    {
     "data": {
      "text/html": [
       "<div>\n",
       "<style scoped>\n",
       "    .dataframe tbody tr th:only-of-type {\n",
       "        vertical-align: middle;\n",
       "    }\n",
       "\n",
       "    .dataframe tbody tr th {\n",
       "        vertical-align: top;\n",
       "    }\n",
       "\n",
       "    .dataframe thead th {\n",
       "        text-align: right;\n",
       "    }\n",
       "</style>\n",
       "<table border=\"1\" class=\"dataframe\">\n",
       "  <thead>\n",
       "    <tr style=\"text-align: right;\">\n",
       "      <th></th>\n",
       "      <th>jp_sales_ratio</th>\n",
       "    </tr>\n",
       "    <tr>\n",
       "      <th>rating</th>\n",
       "      <th></th>\n",
       "    </tr>\n",
       "  </thead>\n",
       "  <tbody>\n",
       "    <tr>\n",
       "      <th>unknown</th>\n",
       "      <td>0.565168</td>\n",
       "    </tr>\n",
       "    <tr>\n",
       "      <th>E</th>\n",
       "      <td>0.147108</td>\n",
       "    </tr>\n",
       "    <tr>\n",
       "      <th>T</th>\n",
       "      <td>0.135113</td>\n",
       "    </tr>\n",
       "    <tr>\n",
       "      <th>M</th>\n",
       "      <td>0.110084</td>\n",
       "    </tr>\n",
       "    <tr>\n",
       "      <th>E10+</th>\n",
       "      <td>0.042528</td>\n",
       "    </tr>\n",
       "  </tbody>\n",
       "</table>\n",
       "</div>"
      ],
      "text/plain": [
       "         jp_sales_ratio\n",
       "rating                 \n",
       "unknown        0.565168\n",
       "E              0.147108\n",
       "T              0.135113\n",
       "M              0.110084\n",
       "E10+           0.042528"
      ]
     },
     "metadata": {},
     "output_type": "display_data"
    },
    {
     "data": {
      "text/html": [
       "<div>\n",
       "<style scoped>\n",
       "    .dataframe tbody tr th:only-of-type {\n",
       "        vertical-align: middle;\n",
       "    }\n",
       "\n",
       "    .dataframe tbody tr th {\n",
       "        vertical-align: top;\n",
       "    }\n",
       "\n",
       "    .dataframe thead th {\n",
       "        text-align: right;\n",
       "    }\n",
       "</style>\n",
       "<table border=\"1\" class=\"dataframe\">\n",
       "  <thead>\n",
       "    <tr style=\"text-align: right;\">\n",
       "      <th></th>\n",
       "      <th>na_sales_ratio</th>\n",
       "    </tr>\n",
       "    <tr>\n",
       "      <th>rating</th>\n",
       "      <th></th>\n",
       "    </tr>\n",
       "  </thead>\n",
       "  <tbody>\n",
       "    <tr>\n",
       "      <th>M</th>\n",
       "      <td>0.391847</td>\n",
       "    </tr>\n",
       "    <tr>\n",
       "      <th>E</th>\n",
       "      <td>0.193529</td>\n",
       "    </tr>\n",
       "    <tr>\n",
       "      <th>unknown</th>\n",
       "      <td>0.174814</td>\n",
       "    </tr>\n",
       "    <tr>\n",
       "      <th>E10+</th>\n",
       "      <td>0.128094</td>\n",
       "    </tr>\n",
       "    <tr>\n",
       "      <th>T</th>\n",
       "      <td>0.111715</td>\n",
       "    </tr>\n",
       "  </tbody>\n",
       "</table>\n",
       "</div>"
      ],
      "text/plain": [
       "         na_sales_ratio\n",
       "rating                 \n",
       "M              0.391847\n",
       "E              0.193529\n",
       "unknown        0.174814\n",
       "E10+           0.128094\n",
       "T              0.111715"
      ]
     },
     "metadata": {},
     "output_type": "display_data"
    },
    {
     "data": {
      "image/png": "[encoded data removed]",
      "text/plain": [
       "<Figure size 432x288 with 1 Axes>"
      ]
     },
     "metadata": {},
     "output_type": "display_data"
    },
    {
     "data": {
      "image/png": "[encoded data removed]",
      "text/plain": [
       "<Figure size 432x288 with 1 Axes>"
      ]
     },
     "metadata": {},
     "output_type": "display_data"
    },
    {
     "data": {
      "image/png": "[encoded data removed]",
      "text/plain": [
       "<Figure size 432x288 with 1 Axes>"
      ]
     },
     "metadata": {},
     "output_type": "display_data"
    }
   ],
   "source": [
    "# Построим сводную таблицу продаж игр по рейтингу для каждого региона\n",
    "for region in regions_sales:\n",
    "    rating_sales = good_data.pivot_table(index='rating', values=region, aggfunc='sum')\n",
    "    rating_sales[region + '_ratio'] = rating_sales[region] / rating_sales[region].sum()\n",
    "    display(rating_sales[[region + '_ratio']].sort_values(by=region + '_ratio', ascending=False))\n",
    "    rating_sales.plot(kind='pie', y=region + '_ratio', legend=False)"
   ]
  },
  {
   "cell_type": "markdown",
   "metadata": {},
   "source": [
    "Выводы\n",
    "* Самая популярная категория в регионе na M - \"для взрослых\".\n",
    "* В регионе jp более чем у половины игр отсутствует рейтинг. \n",
    "* Рейтинг ESRB используется только в регионе na, для остальных регионов его можно не принимать во внимание  "
   ]
  },
  {
   "cell_type": "markdown",
   "metadata": {},
   "source": [
    "## Проверка гипотез"
   ]
  },
  {
   "cell_type": "markdown",
   "metadata": {},
   "source": [
    "### Средние пользовательские рейтинги платформ Xbox One и PC одинаковые"
   ]
  },
  {
   "cell_type": "code",
   "execution_count": 40,
   "metadata": {
    "scrolled": true
   },
   "outputs": [
    {
     "data": {
      "text/plain": [
       "182"
      ]
     },
     "metadata": {},
     "output_type": "display_data"
    },
    {
     "data": {
      "text/plain": [
       "206"
      ]
     },
     "metadata": {},
     "output_type": "display_data"
    }
   ],
   "source": [
    "# подсчитаем объемы выборок XOne и PC\n",
    "display(good_data.query('platform == \"XOne\" and user_score > 0')['user_score'].count())\n",
    "display(good_data.query('platform == \"PC\" and user_score > 0')['user_score'].count())"
   ]
  },
  {
   "cell_type": "markdown",
   "metadata": {},
   "source": [
    "Сформулируем гипотезу. За нулевую гипотезу примем утверждение о том, что средний пользовательский рейтинг платформы Xbox One равен среднему пользовательскому рейтингу платформы PC. Альтернативной гипотезой будет утверждение о том, что средние пользовательскиие рейтинги не равны. Будем использовать специальный метод для проверки гипотезы о равенстве среднего двух генеральных совокупностей по взятым из них выборкам `ttest_ind`. Так как мы знаем, что выборки разного размера (182 против 753), укажем в параметре `equal_var` значение `False`. Критический уровень статистической значимости установим в 5 %."
   ]
  },
  {
   "cell_type": "code",
   "execution_count": 41,
   "metadata": {},
   "outputs": [
    {
     "data": {
      "text/plain": [
       "'Средняя оценка XOne:'"
      ]
     },
     "metadata": {},
     "output_type": "display_data"
    },
    {
     "data": {
      "text/plain": [
       "6.521428571428572"
      ]
     },
     "metadata": {},
     "output_type": "display_data"
    },
    {
     "data": {
      "text/plain": [
       "'Средняя оценка PC:'"
      ]
     },
     "metadata": {},
     "output_type": "display_data"
    },
    {
     "data": {
      "text/plain": [
       "6.4286407766990274"
      ]
     },
     "metadata": {},
     "output_type": "display_data"
    },
    {
     "data": {
      "text/plain": [
       "'p-значение:'"
      ]
     },
     "metadata": {},
     "output_type": "display_data"
    },
    {
     "data": {
      "text/plain": [
       "0.5489537965134912"
      ]
     },
     "metadata": {},
     "output_type": "display_data"
    },
    {
     "data": {
      "text/plain": [
       "'Не получилось отвергнуть нулевую гипотезу'"
      ]
     },
     "metadata": {},
     "output_type": "display_data"
    }
   ],
   "source": [
    "alpha = 0.05 # критический уровень статистической значимости\n",
    "# если p-value окажется меньше него - отвергнем гипотезу\n",
    "\n",
    "results = st.ttest_ind(\n",
    "    good_data.query('platform == \"XOne\" and user_score > 0')['user_score'], \n",
    "    good_data.query('platform == \"PC\" and user_score > 0')['user_score'], equal_var=False)\n",
    "\n",
    "display('Средняя оценка XOne:',  good_data.query('platform == \"XOne\" and user_score > 0')['user_score'].mean())\n",
    "display('Средняя оценка PC:',  good_data.query('platform == \"PC\" and user_score > 0')['user_score'].mean())\n",
    "display('p-значение:', results.pvalue)\n",
    "\n",
    "if results.pvalue < alpha:\n",
    "    display(\"Отвергаем нулевую гипотезу\")\n",
    "else:\n",
    "    display(\"Не получилось отвергнуть нулевую гипотезу\") "
   ]
  },
  {
   "cell_type": "markdown",
   "metadata": {},
   "source": [
    "**Вывод:**\n",
    "\n",
    "Так как нулевая гипотеза отвергнута, мы принимаем альтернативную гипотезу - средний пользовательский рейтинг платформ Xbox One и PC различается. Сильное различие в средних подсказывает, в какую стророну направлено различие - среднее PC больше. "
   ]
  },
  {
   "cell_type": "markdown",
   "metadata": {},
   "source": [
    "### Средние пользовательские рейтинги жанров Action и Sports разные"
   ]
  },
  {
   "cell_type": "code",
   "execution_count": 42,
   "metadata": {},
   "outputs": [
    {
     "data": {
      "text/plain": [
       "523"
      ]
     },
     "metadata": {},
     "output_type": "display_data"
    },
    {
     "data": {
      "text/plain": [
       "195"
      ]
     },
     "metadata": {},
     "output_type": "display_data"
    }
   ],
   "source": [
    "# подсчитаем объемы выборок Action и Sports\n",
    "display(good_data.query('genre == \"Action\" and user_score > 0')['user_score'].count())\n",
    "display(good_data.query('genre == \"Sports\" and user_score > 0')['user_score'].count())"
   ]
  },
  {
   "cell_type": "markdown",
   "metadata": {},
   "source": [
    "Сформулируем гипотезу. За нулевую гипотезу примем утверждение о том, что средний пользовательский рейтинг жанра Action равен среднему пользовательскому рейтингу жанра Sports. Альтернативной гипотезой будет утверждение о том, что средние пользовательскиие рейтинги не равны. Будем использовать специальный метод для проверки гипотезы о равенстве среднего двух генеральных совокупностей по взятым из них выборкам `ttest_ind`. Так как мы знаем, что выборки разного размера (1797 против 1088), укажем в параметре `equal_var` значение `False`. Критический уровень статистической значимости установим в 5 %."
   ]
  },
  {
   "cell_type": "code",
   "execution_count": 43,
   "metadata": {},
   "outputs": [
    {
     "data": {
      "text/plain": [
       "'Средняя оценка Action:'"
      ]
     },
     "metadata": {},
     "output_type": "display_data"
    },
    {
     "data": {
      "text/plain": [
       "6.825047801147227"
      ]
     },
     "metadata": {},
     "output_type": "display_data"
    },
    {
     "data": {
      "text/plain": [
       "'Средняя оценка Sports:'"
      ]
     },
     "metadata": {},
     "output_type": "display_data"
    },
    {
     "data": {
      "text/plain": [
       "5.455897435897437"
      ]
     },
     "metadata": {},
     "output_type": "display_data"
    },
    {
     "data": {
      "text/plain": [
       "'p-значение:'"
      ]
     },
     "metadata": {},
     "output_type": "display_data"
    },
    {
     "data": {
      "text/plain": [
       "4.24307776572644e-20"
      ]
     },
     "metadata": {},
     "output_type": "display_data"
    },
    {
     "data": {
      "text/plain": [
       "'Отвергаем нулевую гипотезу'"
      ]
     },
     "metadata": {},
     "output_type": "display_data"
    }
   ],
   "source": [
    "alpha = 0.05 # критический уровень статистической значимости\n",
    "# если p-value окажется меньше него - отвергнем гипотезу\n",
    "\n",
    "results = st.ttest_ind(\n",
    "    good_data.query('genre == \"Action\" and user_score > 0')['user_score'], \n",
    "    good_data.query('genre == \"Sports\" and user_score > 0')['user_score'], equal_var=False)\n",
    "\n",
    "display('Средняя оценка Action:',  good_data.query('genre == \"Action\" and user_score > 0')['user_score'].mean())\n",
    "display('Средняя оценка Sports:',  good_data.query('genre == \"Sports\" and user_score > 0')['user_score'].mean())\n",
    "display('p-значение:', results.pvalue)\n",
    "\n",
    "if results.pvalue < alpha:\n",
    "    display(\"Отвергаем нулевую гипотезу\")\n",
    "else:\n",
    "    display(\"Не получилось отвергнуть нулевую гипотезу\") "
   ]
  },
  {
   "cell_type": "markdown",
   "metadata": {},
   "source": [
    "**Вывод:**\n",
    "\n",
    "Отвергнуть нулевую гипотезу не получилось - средний пользовательский рейтинг жанра Action равен среднему пользовательскому рейтингу жанра Sports. Средние значения подтверждают вывод."
   ]
  },
  {
   "cell_type": "markdown",
   "metadata": {},
   "source": [
    "## Общий вывод"
   ]
  },
  {
   "cell_type": "markdown",
   "metadata": {},
   "source": [
    "Проведено исследование параметров, влияющих на успех продаж видеоигр. Изучены исходные данные, проведена их предобработка - изменены типы данных в колонках, отброшены артефакты. Рассчитаны дополнительные характеристики. Проведен исследовательский анализ. Проведена проверка двух гипотез. \n",
    "\n",
    "1. До 1994 года выходило менее 100 игр в год, затем начался рост. С 2006 по 2011 наблюдается пик роста, выходило более 1000 игр каждый год. С 2012 года число игр стабилизировалось со средним значением около 550 игр в год.\n",
    "\n",
    "2. Средний срок \"жизни\" платформы составляет примерно 10 лет. Новое поколение платформ появляется каждые 5 лет.\n",
    "\n",
    "3. В качестве периода для построения прогноза выбран период 2012-2016 гг.\n",
    "\n",
    "4. Потенциально прибыльными платформами были выбраны PS4 и XOne.\n",
    "\n",
    "5. Не выявлено взаимосвязи между оценками критиков и пользователей и продажами игр.\n",
    "\n",
    "6. Самые высокие продажи у жанра Shooter.\n",
    "\n",
    "7. Портрет пользователя региона eu: платформа - PS4, жанр - Shooter.\n",
    "\n",
    "8. Портрет пользователя региона jp: платформа - 3DS, жанр - Role-Playing.\n",
    "\n",
    "9. Портрет пользователя региона na: платформа - X360, жанр - Shooter, рейтинг - M.\n",
    "\n",
    "10. Проверена гипотеза о том, что средний пользовательский рейтинг платформ Xbox One и PC одинаковый. Гипотеза не подтвердилась - среднее PC больше.\n",
    "\n",
    "11. Проверена гипотеза о том, что средний пользовательский рейтинг жанров Action и Sports разный. Гипотеза не подтвердилась - средние значения не отличаются.\n",
    "\n",
    "\n",
    "В качестве рекомендаций для планирования рекламных кампаний можно выделить следующее: \n",
    "* регион eu: платформа - PS4, жанр - Shooter;\n",
    "* регион jp: платформа - PS4, жанр - Role-Playing;\n",
    "* регион na: платформа - XOne, жанр - Shooter, рейтинг - M.\n"
   ]
  }
 ],
 "metadata": {
  "ExecuteTimeLog": [
   {
    "duration": 1357,
    "start_time": "2022-05-31T17:41:12.704Z"
   },
   {
    "duration": 96,
    "start_time": "2022-05-31T17:41:51.172Z"
   },
   {
    "duration": 20,
    "start_time": "2022-05-31T17:42:09.563Z"
   },
   {
    "duration": 16,
    "start_time": "2022-05-31T17:42:20.355Z"
   },
   {
    "duration": 3,
    "start_time": "2022-05-31T18:01:26.905Z"
   },
   {
    "duration": 6,
    "start_time": "2022-05-31T18:01:39.886Z"
   },
   {
    "duration": 105,
    "start_time": "2022-05-31T18:04:43.841Z"
   },
   {
    "duration": 9,
    "start_time": "2022-05-31T18:09:52.656Z"
   },
   {
    "duration": 6,
    "start_time": "2022-05-31T18:10:08.268Z"
   },
   {
    "duration": 6,
    "start_time": "2022-05-31T18:13:36.061Z"
   },
   {
    "duration": 6,
    "start_time": "2022-05-31T18:14:06.794Z"
   },
   {
    "duration": 5,
    "start_time": "2022-05-31T18:15:40.992Z"
   },
   {
    "duration": 8,
    "start_time": "2022-05-31T18:15:47.016Z"
   },
   {
    "duration": 31,
    "start_time": "2022-05-31T18:19:18.456Z"
   },
   {
    "duration": 9,
    "start_time": "2022-05-31T18:19:26.277Z"
   },
   {
    "duration": 7,
    "start_time": "2022-05-31T18:20:14.584Z"
   },
   {
    "duration": 58,
    "start_time": "2022-05-31T18:20:54.638Z"
   },
   {
    "duration": 15,
    "start_time": "2022-05-31T18:21:01.652Z"
   },
   {
    "duration": 11,
    "start_time": "2022-05-31T18:24:33.744Z"
   },
   {
    "duration": 24,
    "start_time": "2022-05-31T18:26:53.612Z"
   },
   {
    "duration": 49,
    "start_time": "2022-05-31T18:27:24.220Z"
   },
   {
    "duration": 17,
    "start_time": "2022-05-31T19:23:00.983Z"
   },
   {
    "duration": 330,
    "start_time": "2022-05-31T19:23:15.399Z"
   },
   {
    "duration": 9,
    "start_time": "2022-05-31T19:23:23.642Z"
   },
   {
    "duration": 19,
    "start_time": "2022-05-31T19:24:12.742Z"
   },
   {
    "duration": 9,
    "start_time": "2022-05-31T19:27:56.774Z"
   },
   {
    "duration": 7,
    "start_time": "2022-05-31T19:38:32.582Z"
   },
   {
    "duration": 28,
    "start_time": "2022-05-31T19:58:22.047Z"
   },
   {
    "duration": 31,
    "start_time": "2022-05-31T19:58:26.655Z"
   },
   {
    "duration": 23,
    "start_time": "2022-05-31T19:58:31.703Z"
   },
   {
    "duration": 6,
    "start_time": "2022-05-31T19:59:02.795Z"
   },
   {
    "duration": 7,
    "start_time": "2022-05-31T19:59:14.143Z"
   },
   {
    "duration": 8,
    "start_time": "2022-05-31T20:13:26.075Z"
   },
   {
    "duration": 7,
    "start_time": "2022-05-31T20:14:11.227Z"
   },
   {
    "duration": 7,
    "start_time": "2022-05-31T20:14:27.523Z"
   },
   {
    "duration": 26,
    "start_time": "2022-05-31T20:29:58.814Z"
   },
   {
    "duration": 51,
    "start_time": "2022-05-31T20:33:01.120Z"
   },
   {
    "duration": 25,
    "start_time": "2022-05-31T20:34:11.219Z"
   },
   {
    "duration": 8,
    "start_time": "2022-05-31T20:36:23.681Z"
   },
   {
    "duration": 1255,
    "start_time": "2022-06-02T16:29:20.362Z"
   },
   {
    "duration": 99,
    "start_time": "2022-06-02T16:29:21.620Z"
   },
   {
    "duration": 20,
    "start_time": "2022-06-02T16:29:21.721Z"
   },
   {
    "duration": 14,
    "start_time": "2022-06-02T16:29:21.743Z"
   },
   {
    "duration": 5,
    "start_time": "2022-06-02T16:29:21.759Z"
   },
   {
    "duration": 9,
    "start_time": "2022-06-02T16:29:21.765Z"
   },
   {
    "duration": 17,
    "start_time": "2022-06-02T16:29:21.776Z"
   },
   {
    "duration": 28,
    "start_time": "2022-06-02T16:29:21.795Z"
   },
   {
    "duration": 113,
    "start_time": "2022-06-02T16:29:21.825Z"
   },
   {
    "duration": 0,
    "start_time": "2022-06-02T16:29:21.940Z"
   },
   {
    "duration": 0,
    "start_time": "2022-06-02T16:29:21.941Z"
   },
   {
    "duration": 0,
    "start_time": "2022-06-02T16:29:21.942Z"
   },
   {
    "duration": 8,
    "start_time": "2022-06-02T16:29:59.405Z"
   },
   {
    "duration": 261,
    "start_time": "2022-06-02T16:33:25.097Z"
   },
   {
    "duration": 27,
    "start_time": "2022-06-02T16:33:32.957Z"
   },
   {
    "duration": 7,
    "start_time": "2022-06-02T16:33:39.274Z"
   },
   {
    "duration": 9,
    "start_time": "2022-06-02T16:33:42.290Z"
   },
   {
    "duration": 7,
    "start_time": "2022-06-02T16:34:53.132Z"
   },
   {
    "duration": 13,
    "start_time": "2022-06-02T16:35:07.385Z"
   },
   {
    "duration": 1218,
    "start_time": "2022-06-02T16:36:05.038Z"
   },
   {
    "duration": 59,
    "start_time": "2022-06-02T16:36:06.258Z"
   },
   {
    "duration": 19,
    "start_time": "2022-06-02T16:36:06.319Z"
   },
   {
    "duration": 14,
    "start_time": "2022-06-02T16:36:06.340Z"
   },
   {
    "duration": 5,
    "start_time": "2022-06-02T16:36:06.356Z"
   },
   {
    "duration": 4,
    "start_time": "2022-06-02T16:36:06.365Z"
   },
   {
    "duration": 16,
    "start_time": "2022-06-02T16:36:06.371Z"
   },
   {
    "duration": 33,
    "start_time": "2022-06-02T16:36:06.389Z"
   },
   {
    "duration": 8,
    "start_time": "2022-06-02T16:36:06.423Z"
   },
   {
    "duration": 39,
    "start_time": "2022-06-02T16:36:06.434Z"
   },
   {
    "duration": 7,
    "start_time": "2022-06-02T16:36:06.475Z"
   },
   {
    "duration": 10,
    "start_time": "2022-06-02T16:36:06.483Z"
   },
   {
    "duration": 13,
    "start_time": "2022-06-02T16:36:06.495Z"
   },
   {
    "duration": 17,
    "start_time": "2022-06-02T16:36:06.509Z"
   },
   {
    "duration": 15,
    "start_time": "2022-06-02T16:38:11.503Z"
   },
   {
    "duration": 16,
    "start_time": "2022-06-02T16:38:16.902Z"
   },
   {
    "duration": 6,
    "start_time": "2022-06-02T16:41:42.403Z"
   },
   {
    "duration": 5,
    "start_time": "2022-06-02T16:42:08.498Z"
   },
   {
    "duration": 11,
    "start_time": "2022-06-02T16:42:15.934Z"
   },
   {
    "duration": 21,
    "start_time": "2022-06-02T16:51:42.135Z"
   },
   {
    "duration": 11,
    "start_time": "2022-06-02T16:55:23.549Z"
   },
   {
    "duration": 15,
    "start_time": "2022-06-02T16:56:51.526Z"
   },
   {
    "duration": 118,
    "start_time": "2022-06-02T17:09:53.989Z"
   },
   {
    "duration": 7,
    "start_time": "2022-06-02T17:10:17.605Z"
   },
   {
    "duration": 5,
    "start_time": "2022-06-02T17:10:33.501Z"
   },
   {
    "duration": 11,
    "start_time": "2022-06-02T17:10:39.597Z"
   },
   {
    "duration": 4,
    "start_time": "2022-06-02T17:11:12.873Z"
   },
   {
    "duration": 12,
    "start_time": "2022-06-02T17:12:56.389Z"
   },
   {
    "duration": 1102,
    "start_time": "2022-06-02T17:15:37.885Z"
   },
   {
    "duration": 62,
    "start_time": "2022-06-02T17:15:38.989Z"
   },
   {
    "duration": 23,
    "start_time": "2022-06-02T17:15:39.053Z"
   },
   {
    "duration": 29,
    "start_time": "2022-06-02T17:15:39.078Z"
   },
   {
    "duration": 7,
    "start_time": "2022-06-02T17:15:39.110Z"
   },
   {
    "duration": 15,
    "start_time": "2022-06-02T17:15:39.119Z"
   },
   {
    "duration": 17,
    "start_time": "2022-06-02T17:15:39.136Z"
   },
   {
    "duration": 34,
    "start_time": "2022-06-02T17:15:39.154Z"
   },
   {
    "duration": 8,
    "start_time": "2022-06-02T17:15:39.190Z"
   },
   {
    "duration": 17,
    "start_time": "2022-06-02T17:15:39.199Z"
   },
   {
    "duration": 7,
    "start_time": "2022-06-02T17:15:39.217Z"
   },
   {
    "duration": 9,
    "start_time": "2022-06-02T17:15:39.225Z"
   },
   {
    "duration": 29,
    "start_time": "2022-06-02T17:15:39.236Z"
   },
   {
    "duration": 5,
    "start_time": "2022-06-02T17:15:39.267Z"
   },
   {
    "duration": 34,
    "start_time": "2022-06-02T17:15:39.274Z"
   },
   {
    "duration": 23,
    "start_time": "2022-06-02T17:15:39.309Z"
   },
   {
    "duration": 12,
    "start_time": "2022-06-02T17:15:39.334Z"
   },
   {
    "duration": 34,
    "start_time": "2022-06-02T17:15:39.348Z"
   },
   {
    "duration": 18,
    "start_time": "2022-06-02T17:15:39.384Z"
   },
   {
    "duration": 8,
    "start_time": "2022-06-02T17:16:01.880Z"
   },
   {
    "duration": 110,
    "start_time": "2022-06-02T17:16:48.689Z"
   },
   {
    "duration": 3,
    "start_time": "2022-06-02T17:17:11.913Z"
   },
   {
    "duration": 5,
    "start_time": "2022-06-02T17:17:17.677Z"
   },
   {
    "duration": 13,
    "start_time": "2022-06-02T17:18:09.500Z"
   },
   {
    "duration": 1165,
    "start_time": "2022-06-02T17:23:18.956Z"
   },
   {
    "duration": 64,
    "start_time": "2022-06-02T17:23:20.123Z"
   },
   {
    "duration": 22,
    "start_time": "2022-06-02T17:23:20.189Z"
   },
   {
    "duration": 18,
    "start_time": "2022-06-02T17:23:20.213Z"
   },
   {
    "duration": 5,
    "start_time": "2022-06-02T17:23:20.233Z"
   },
   {
    "duration": 24,
    "start_time": "2022-06-02T17:23:20.240Z"
   },
   {
    "duration": 28,
    "start_time": "2022-06-02T17:23:20.267Z"
   },
   {
    "duration": 36,
    "start_time": "2022-06-02T17:23:20.297Z"
   },
   {
    "duration": 9,
    "start_time": "2022-06-02T17:23:20.338Z"
   },
   {
    "duration": 31,
    "start_time": "2022-06-02T17:23:20.350Z"
   },
   {
    "duration": 6,
    "start_time": "2022-06-02T17:23:20.383Z"
   },
   {
    "duration": 7,
    "start_time": "2022-06-02T17:23:20.390Z"
   },
   {
    "duration": 8,
    "start_time": "2022-06-02T17:23:20.399Z"
   },
   {
    "duration": 5,
    "start_time": "2022-06-02T17:23:20.408Z"
   },
   {
    "duration": 26,
    "start_time": "2022-06-02T17:23:20.414Z"
   },
   {
    "duration": 42,
    "start_time": "2022-06-02T17:23:20.442Z"
   },
   {
    "duration": 10,
    "start_time": "2022-06-02T17:23:20.487Z"
   },
   {
    "duration": 15,
    "start_time": "2022-06-02T17:23:20.498Z"
   },
   {
    "duration": 14,
    "start_time": "2022-06-02T17:23:20.514Z"
   },
   {
    "duration": 12,
    "start_time": "2022-06-02T17:23:20.529Z"
   },
   {
    "duration": 10,
    "start_time": "2022-06-02T17:42:20.700Z"
   },
   {
    "duration": 9,
    "start_time": "2022-06-02T17:57:15.311Z"
   },
   {
    "duration": 11,
    "start_time": "2022-06-02T17:57:31.796Z"
   },
   {
    "duration": 2,
    "start_time": "2022-06-02T17:59:34.072Z"
   },
   {
    "duration": 53,
    "start_time": "2022-06-04T08:51:11.446Z"
   },
   {
    "duration": 1216,
    "start_time": "2022-06-04T08:51:24.204Z"
   },
   {
    "duration": 94,
    "start_time": "2022-06-04T08:51:25.422Z"
   },
   {
    "duration": 19,
    "start_time": "2022-06-04T08:51:25.517Z"
   },
   {
    "duration": 15,
    "start_time": "2022-06-04T08:51:25.538Z"
   },
   {
    "duration": 5,
    "start_time": "2022-06-04T08:51:25.555Z"
   },
   {
    "duration": 4,
    "start_time": "2022-06-04T08:51:25.561Z"
   },
   {
    "duration": 9,
    "start_time": "2022-06-04T08:51:25.567Z"
   },
   {
    "duration": 26,
    "start_time": "2022-06-04T08:51:25.578Z"
   },
   {
    "duration": 9,
    "start_time": "2022-06-04T08:51:25.605Z"
   },
   {
    "duration": 45,
    "start_time": "2022-06-04T08:51:25.615Z"
   },
   {
    "duration": 7,
    "start_time": "2022-06-04T08:51:25.662Z"
   },
   {
    "duration": 11,
    "start_time": "2022-06-04T08:51:25.671Z"
   },
   {
    "duration": 19,
    "start_time": "2022-06-04T08:51:25.684Z"
   },
   {
    "duration": 4,
    "start_time": "2022-06-04T08:51:25.706Z"
   },
   {
    "duration": 36,
    "start_time": "2022-06-04T08:51:25.712Z"
   },
   {
    "duration": 12,
    "start_time": "2022-06-04T08:51:25.750Z"
   },
   {
    "duration": 16,
    "start_time": "2022-06-04T08:51:25.763Z"
   },
   {
    "duration": 12,
    "start_time": "2022-06-04T08:51:25.781Z"
   },
   {
    "duration": 13,
    "start_time": "2022-06-04T08:51:25.795Z"
   },
   {
    "duration": 12,
    "start_time": "2022-06-04T08:51:25.809Z"
   },
   {
    "duration": 8,
    "start_time": "2022-06-04T08:51:25.822Z"
   },
   {
    "duration": 28,
    "start_time": "2022-06-04T08:51:25.831Z"
   },
   {
    "duration": 7,
    "start_time": "2022-06-04T08:51:25.861Z"
   },
   {
    "duration": 7,
    "start_time": "2022-06-04T08:52:01.504Z"
   },
   {
    "duration": 20,
    "start_time": "2022-06-04T08:52:32.206Z"
   },
   {
    "duration": 15,
    "start_time": "2022-06-04T08:55:59.445Z"
   },
   {
    "duration": 12,
    "start_time": "2022-06-04T08:56:06.819Z"
   },
   {
    "duration": 6,
    "start_time": "2022-06-04T08:58:04.368Z"
   },
   {
    "duration": 24,
    "start_time": "2022-06-04T08:58:18.024Z"
   },
   {
    "duration": 6,
    "start_time": "2022-06-04T09:07:11.337Z"
   },
   {
    "duration": 6,
    "start_time": "2022-06-04T09:07:31.300Z"
   },
   {
    "duration": 8,
    "start_time": "2022-06-04T09:09:57.228Z"
   },
   {
    "duration": 8,
    "start_time": "2022-06-04T09:10:16.722Z"
   },
   {
    "duration": 5,
    "start_time": "2022-06-04T09:20:40.530Z"
   },
   {
    "duration": 109,
    "start_time": "2022-06-04T09:21:44.856Z"
   },
   {
    "duration": 10,
    "start_time": "2022-06-04T09:21:51.502Z"
   },
   {
    "duration": 6,
    "start_time": "2022-06-04T09:21:57.898Z"
   },
   {
    "duration": 5,
    "start_time": "2022-06-04T09:22:09.306Z"
   },
   {
    "duration": 12,
    "start_time": "2022-06-04T09:28:43.051Z"
   },
   {
    "duration": 6,
    "start_time": "2022-06-04T09:28:57.190Z"
   },
   {
    "duration": 12,
    "start_time": "2022-06-04T09:30:14.190Z"
   },
   {
    "duration": 4,
    "start_time": "2022-06-04T09:30:26.020Z"
   },
   {
    "duration": 6,
    "start_time": "2022-06-04T09:34:22.628Z"
   },
   {
    "duration": 169,
    "start_time": "2022-06-04T09:35:32.194Z"
   },
   {
    "duration": 8,
    "start_time": "2022-06-04T09:35:53.317Z"
   },
   {
    "duration": 127,
    "start_time": "2022-06-04T09:39:33.428Z"
   },
   {
    "duration": 7,
    "start_time": "2022-06-04T09:42:16.012Z"
   },
   {
    "duration": 14,
    "start_time": "2022-06-04T09:43:02.603Z"
   },
   {
    "duration": 13,
    "start_time": "2022-06-04T09:43:17.004Z"
   },
   {
    "duration": 41,
    "start_time": "2022-06-04T09:43:24.323Z"
   },
   {
    "duration": 20,
    "start_time": "2022-06-04T09:46:11.347Z"
   },
   {
    "duration": 7,
    "start_time": "2022-06-04T09:46:33.508Z"
   },
   {
    "duration": 211,
    "start_time": "2022-06-04T09:46:59.492Z"
   },
   {
    "duration": 7,
    "start_time": "2022-06-04T09:47:08.592Z"
   },
   {
    "duration": 128,
    "start_time": "2022-06-04T09:52:20.425Z"
   },
   {
    "duration": 130,
    "start_time": "2022-06-04T09:52:47.515Z"
   },
   {
    "duration": 149,
    "start_time": "2022-06-04T09:55:15.614Z"
   },
   {
    "duration": 137,
    "start_time": "2022-06-04T09:55:27.822Z"
   },
   {
    "duration": 166,
    "start_time": "2022-06-04T09:55:35.229Z"
   },
   {
    "duration": 139,
    "start_time": "2022-06-04T09:56:16.666Z"
   },
   {
    "duration": 149,
    "start_time": "2022-06-04T09:56:58.927Z"
   },
   {
    "duration": 190,
    "start_time": "2022-06-04T09:57:48.794Z"
   },
   {
    "duration": 128,
    "start_time": "2022-06-04T09:58:33.179Z"
   },
   {
    "duration": 133,
    "start_time": "2022-06-04T09:58:50.302Z"
   },
   {
    "duration": 125,
    "start_time": "2022-06-04T10:00:25.578Z"
   },
   {
    "duration": 139,
    "start_time": "2022-06-04T10:00:38.982Z"
   },
   {
    "duration": 210,
    "start_time": "2022-06-04T10:00:46.562Z"
   },
   {
    "duration": 129,
    "start_time": "2022-06-04T10:00:53.130Z"
   },
   {
    "duration": 123,
    "start_time": "2022-06-04T10:01:41.206Z"
   },
   {
    "duration": 137,
    "start_time": "2022-06-04T10:01:55.456Z"
   },
   {
    "duration": 12,
    "start_time": "2022-06-04T10:30:16.339Z"
   },
   {
    "duration": 54,
    "start_time": "2022-06-04T10:30:21.731Z"
   },
   {
    "duration": 16,
    "start_time": "2022-06-04T10:31:44.983Z"
   },
   {
    "duration": 22,
    "start_time": "2022-06-04T10:32:15.408Z"
   },
   {
    "duration": 22,
    "start_time": "2022-06-04T10:32:49.812Z"
   },
   {
    "duration": 25,
    "start_time": "2022-06-04T10:43:43.920Z"
   },
   {
    "duration": 25,
    "start_time": "2022-06-04T10:43:54.583Z"
   },
   {
    "duration": 33,
    "start_time": "2022-06-04T10:47:34.188Z"
   },
   {
    "duration": 1147,
    "start_time": "2022-06-04T10:57:37.323Z"
   },
   {
    "duration": 51,
    "start_time": "2022-06-04T10:57:38.472Z"
   },
   {
    "duration": 17,
    "start_time": "2022-06-04T10:57:38.525Z"
   },
   {
    "duration": 14,
    "start_time": "2022-06-04T10:57:38.545Z"
   },
   {
    "duration": 4,
    "start_time": "2022-06-04T10:57:38.560Z"
   },
   {
    "duration": 10,
    "start_time": "2022-06-04T10:57:38.566Z"
   },
   {
    "duration": 12,
    "start_time": "2022-06-04T10:57:38.577Z"
   },
   {
    "duration": 27,
    "start_time": "2022-06-04T10:57:38.590Z"
   },
   {
    "duration": 8,
    "start_time": "2022-06-04T10:57:38.619Z"
   },
   {
    "duration": 34,
    "start_time": "2022-06-04T10:57:38.629Z"
   },
   {
    "duration": 7,
    "start_time": "2022-06-04T10:57:38.664Z"
   },
   {
    "duration": 6,
    "start_time": "2022-06-04T10:57:38.672Z"
   },
   {
    "duration": 9,
    "start_time": "2022-06-04T10:57:38.680Z"
   },
   {
    "duration": 5,
    "start_time": "2022-06-04T10:57:38.690Z"
   },
   {
    "duration": 23,
    "start_time": "2022-06-04T10:57:38.696Z"
   },
   {
    "duration": 35,
    "start_time": "2022-06-04T10:57:38.721Z"
   },
   {
    "duration": 14,
    "start_time": "2022-06-04T10:57:38.757Z"
   },
   {
    "duration": 8,
    "start_time": "2022-06-04T10:57:38.773Z"
   },
   {
    "duration": 9,
    "start_time": "2022-06-04T10:57:38.783Z"
   },
   {
    "duration": 14,
    "start_time": "2022-06-04T10:57:38.793Z"
   },
   {
    "duration": 18,
    "start_time": "2022-06-04T10:57:38.809Z"
   },
   {
    "duration": 24,
    "start_time": "2022-06-04T10:57:38.829Z"
   },
   {
    "duration": 6,
    "start_time": "2022-06-04T10:57:38.855Z"
   },
   {
    "duration": 24,
    "start_time": "2022-06-04T10:57:38.862Z"
   },
   {
    "duration": 4,
    "start_time": "2022-06-04T10:57:38.888Z"
   },
   {
    "duration": 147,
    "start_time": "2022-06-04T10:57:38.894Z"
   },
   {
    "duration": 17,
    "start_time": "2022-06-04T10:57:39.052Z"
   },
   {
    "duration": 4,
    "start_time": "2022-06-04T10:57:39.072Z"
   },
   {
    "duration": 4,
    "start_time": "2022-06-04T10:58:14.919Z"
   },
   {
    "duration": 184,
    "start_time": "2022-06-04T10:58:21.130Z"
   },
   {
    "duration": 420,
    "start_time": "2022-06-04T11:00:06.826Z"
   },
   {
    "duration": 7,
    "start_time": "2022-06-04T11:47:45.027Z"
   },
   {
    "duration": 57,
    "start_time": "2022-06-04T11:51:17.320Z"
   },
   {
    "duration": 484,
    "start_time": "2022-06-04T11:51:24.410Z"
   },
   {
    "duration": 391,
    "start_time": "2022-06-04T11:53:08.794Z"
   },
   {
    "duration": 370,
    "start_time": "2022-06-04T11:54:36.103Z"
   },
   {
    "duration": 390,
    "start_time": "2022-06-04T11:58:14.332Z"
   },
   {
    "duration": 385,
    "start_time": "2022-06-04T11:59:27.647Z"
   },
   {
    "duration": 398,
    "start_time": "2022-06-04T12:00:33.381Z"
   },
   {
    "duration": 348,
    "start_time": "2022-06-04T12:09:50.684Z"
   },
   {
    "duration": 289,
    "start_time": "2022-06-04T12:14:26.945Z"
   },
   {
    "duration": 402,
    "start_time": "2022-06-04T12:16:33.831Z"
   },
   {
    "duration": 321,
    "start_time": "2022-06-04T12:16:43.807Z"
   },
   {
    "duration": 204,
    "start_time": "2022-06-04T12:35:36.163Z"
   },
   {
    "duration": 15,
    "start_time": "2022-06-04T12:36:53.346Z"
   },
   {
    "duration": 31,
    "start_time": "2022-06-04T12:38:08.134Z"
   },
   {
    "duration": 13,
    "start_time": "2022-06-04T12:38:19.704Z"
   },
   {
    "duration": 199,
    "start_time": "2022-06-04T12:44:31.167Z"
   },
   {
    "duration": 8,
    "start_time": "2022-06-04T12:45:00.409Z"
   },
   {
    "duration": 8,
    "start_time": "2022-06-04T12:47:46.731Z"
   },
   {
    "duration": 16,
    "start_time": "2022-06-04T12:58:36.086Z"
   },
   {
    "duration": 102,
    "start_time": "2022-06-04T12:59:00.628Z"
   },
   {
    "duration": 119,
    "start_time": "2022-06-04T13:00:18.190Z"
   },
   {
    "duration": 17,
    "start_time": "2022-06-04T16:31:44.320Z"
   },
   {
    "duration": 138,
    "start_time": "2022-06-04T17:35:48.957Z"
   },
   {
    "duration": 155,
    "start_time": "2022-06-04T17:36:27.058Z"
   },
   {
    "duration": 176,
    "start_time": "2022-06-04T17:37:17.100Z"
   },
   {
    "duration": 162,
    "start_time": "2022-06-04T17:38:28.722Z"
   },
   {
    "duration": 212,
    "start_time": "2022-06-04T17:41:56.415Z"
   },
   {
    "duration": 187,
    "start_time": "2022-06-04T17:43:58.143Z"
   },
   {
    "duration": 15526,
    "start_time": "2022-06-04T17:44:27.915Z"
   },
   {
    "duration": 175,
    "start_time": "2022-06-04T17:45:10.093Z"
   },
   {
    "duration": 224,
    "start_time": "2022-06-04T17:46:06.924Z"
   },
   {
    "duration": 139,
    "start_time": "2022-06-04T17:47:19.898Z"
   },
   {
    "duration": 231,
    "start_time": "2022-06-04T17:47:42.005Z"
   },
   {
    "duration": 237,
    "start_time": "2022-06-04T17:47:52.961Z"
   },
   {
    "duration": 226,
    "start_time": "2022-06-04T17:47:58.721Z"
   },
   {
    "duration": 282,
    "start_time": "2022-06-04T17:49:20.012Z"
   },
   {
    "duration": 273,
    "start_time": "2022-06-04T17:50:05.439Z"
   },
   {
    "duration": 90,
    "start_time": "2022-06-04T17:54:47.797Z"
   },
   {
    "duration": 32,
    "start_time": "2022-06-04T17:57:36.805Z"
   },
   {
    "duration": 19,
    "start_time": "2022-06-04T17:57:57.008Z"
   },
   {
    "duration": 8,
    "start_time": "2022-06-04T17:59:37.598Z"
   },
   {
    "duration": 447,
    "start_time": "2022-06-04T17:59:53.048Z"
   },
   {
    "duration": 475,
    "start_time": "2022-06-04T18:00:03.001Z"
   },
   {
    "duration": 13,
    "start_time": "2022-06-04T18:08:00.502Z"
   },
   {
    "duration": 28,
    "start_time": "2022-06-04T18:08:33.766Z"
   },
   {
    "duration": 16,
    "start_time": "2022-06-04T18:08:59.409Z"
   },
   {
    "duration": 15,
    "start_time": "2022-06-04T18:09:12.115Z"
   },
   {
    "duration": 96,
    "start_time": "2022-06-04T18:09:41.628Z"
   },
   {
    "duration": 35,
    "start_time": "2022-06-04T18:10:07.464Z"
   },
   {
    "duration": 94,
    "start_time": "2022-06-04T18:10:13.203Z"
   },
   {
    "duration": 98,
    "start_time": "2022-06-04T18:10:20.666Z"
   },
   {
    "duration": 125,
    "start_time": "2022-06-04T18:10:29.525Z"
   },
   {
    "duration": 303,
    "start_time": "2022-06-04T18:11:12.867Z"
   },
   {
    "duration": 306,
    "start_time": "2022-06-04T18:12:04.923Z"
   },
   {
    "duration": 139,
    "start_time": "2022-06-04T18:14:13.136Z"
   },
   {
    "duration": 201,
    "start_time": "2022-06-04T18:16:15.245Z"
   },
   {
    "duration": 116,
    "start_time": "2022-06-04T18:18:12.209Z"
   },
   {
    "duration": 147,
    "start_time": "2022-06-04T18:19:02.505Z"
   },
   {
    "duration": 123,
    "start_time": "2022-06-04T18:20:04.882Z"
   },
   {
    "duration": 285,
    "start_time": "2022-06-04T18:22:20.507Z"
   },
   {
    "duration": 290,
    "start_time": "2022-06-04T18:24:17.029Z"
   },
   {
    "duration": 1213,
    "start_time": "2022-06-06T11:59:08.949Z"
   },
   {
    "duration": 98,
    "start_time": "2022-06-06T11:59:10.164Z"
   },
   {
    "duration": 22,
    "start_time": "2022-06-06T11:59:10.264Z"
   },
   {
    "duration": 14,
    "start_time": "2022-06-06T11:59:10.288Z"
   },
   {
    "duration": 4,
    "start_time": "2022-06-06T11:59:10.303Z"
   },
   {
    "duration": 8,
    "start_time": "2022-06-06T11:59:10.309Z"
   },
   {
    "duration": 17,
    "start_time": "2022-06-06T11:59:10.318Z"
   },
   {
    "duration": 27,
    "start_time": "2022-06-06T11:59:10.337Z"
   },
   {
    "duration": 7,
    "start_time": "2022-06-06T11:59:10.365Z"
   },
   {
    "duration": 21,
    "start_time": "2022-06-06T11:59:10.375Z"
   },
   {
    "duration": 5,
    "start_time": "2022-06-06T11:59:10.397Z"
   },
   {
    "duration": 24,
    "start_time": "2022-06-06T11:59:10.404Z"
   },
   {
    "duration": 16,
    "start_time": "2022-06-06T11:59:10.429Z"
   },
   {
    "duration": 6,
    "start_time": "2022-06-06T11:59:10.447Z"
   },
   {
    "duration": 23,
    "start_time": "2022-06-06T11:59:10.454Z"
   },
   {
    "duration": 11,
    "start_time": "2022-06-06T11:59:10.479Z"
   },
   {
    "duration": 37,
    "start_time": "2022-06-06T11:59:10.492Z"
   },
   {
    "duration": 9,
    "start_time": "2022-06-06T11:59:10.530Z"
   },
   {
    "duration": 9,
    "start_time": "2022-06-06T11:59:10.540Z"
   },
   {
    "duration": 12,
    "start_time": "2022-06-06T11:59:10.551Z"
   },
   {
    "duration": 11,
    "start_time": "2022-06-06T11:59:10.564Z"
   },
   {
    "duration": 9,
    "start_time": "2022-06-06T11:59:10.576Z"
   },
   {
    "duration": 8,
    "start_time": "2022-06-06T11:59:10.586Z"
   },
   {
    "duration": 44,
    "start_time": "2022-06-06T11:59:10.595Z"
   },
   {
    "duration": 5,
    "start_time": "2022-06-06T11:59:10.641Z"
   },
   {
    "duration": 158,
    "start_time": "2022-06-06T11:59:10.648Z"
   },
   {
    "duration": 23,
    "start_time": "2022-06-06T11:59:10.808Z"
   },
   {
    "duration": 551,
    "start_time": "2022-06-06T11:59:10.834Z"
   },
   {
    "duration": 7,
    "start_time": "2022-06-06T11:59:11.386Z"
   },
   {
    "duration": 401,
    "start_time": "2022-06-06T11:59:11.395Z"
   },
   {
    "duration": 364,
    "start_time": "2022-06-06T11:59:11.798Z"
   },
   {
    "duration": 285,
    "start_time": "2022-06-06T11:59:12.163Z"
   },
   {
    "duration": 117,
    "start_time": "2022-06-06T11:59:12.450Z"
   },
   {
    "duration": 281,
    "start_time": "2022-06-06T11:59:12.569Z"
   },
   {
    "duration": 132,
    "start_time": "2022-06-06T12:00:18.713Z"
   },
   {
    "duration": 158,
    "start_time": "2022-06-06T12:00:55.321Z"
   },
   {
    "duration": 19,
    "start_time": "2022-06-06T12:16:34.481Z"
   },
   {
    "duration": 9,
    "start_time": "2022-06-06T12:24:54.205Z"
   },
   {
    "duration": 8,
    "start_time": "2022-06-06T12:27:26.089Z"
   },
   {
    "duration": 1204,
    "start_time": "2022-06-06T12:31:33.285Z"
   },
   {
    "duration": 170,
    "start_time": "2022-06-06T12:33:20.053Z"
   },
   {
    "duration": 112,
    "start_time": "2022-06-06T12:53:06.489Z"
   },
   {
    "duration": 158,
    "start_time": "2022-06-06T12:57:20.952Z"
   },
   {
    "duration": 171,
    "start_time": "2022-06-06T12:58:02.864Z"
   },
   {
    "duration": 7170,
    "start_time": "2022-06-06T13:12:49.388Z"
   },
   {
    "duration": 1581,
    "start_time": "2022-06-06T13:13:52.044Z"
   },
   {
    "duration": 1455,
    "start_time": "2022-06-06T13:14:28.764Z"
   },
   {
    "duration": 1413,
    "start_time": "2022-06-06T13:15:52.140Z"
   },
   {
    "duration": 1224,
    "start_time": "2022-06-06T13:16:13.048Z"
   },
   {
    "duration": 1003,
    "start_time": "2022-06-06T13:17:42.000Z"
   },
   {
    "duration": 935,
    "start_time": "2022-06-06T13:20:11.996Z"
   },
   {
    "duration": 908,
    "start_time": "2022-06-06T13:21:05.052Z"
   },
   {
    "duration": 459,
    "start_time": "2022-06-06T13:25:12.296Z"
   },
   {
    "duration": 435,
    "start_time": "2022-06-06T13:26:03.576Z"
   },
   {
    "duration": 443,
    "start_time": "2022-06-06T13:27:14.180Z"
   },
   {
    "duration": 214,
    "start_time": "2022-06-06T13:28:15.781Z"
   },
   {
    "duration": 129,
    "start_time": "2022-06-06T13:28:28.247Z"
   },
   {
    "duration": 15,
    "start_time": "2022-06-06T13:28:54.019Z"
   },
   {
    "duration": 16,
    "start_time": "2022-06-06T13:29:13.192Z"
   },
   {
    "duration": 17,
    "start_time": "2022-06-06T13:29:28.564Z"
   },
   {
    "duration": 14,
    "start_time": "2022-06-06T13:29:42.540Z"
   },
   {
    "duration": 32,
    "start_time": "2022-06-06T13:36:08.688Z"
   },
   {
    "duration": 955,
    "start_time": "2022-06-06T13:37:07.372Z"
   },
   {
    "duration": 933,
    "start_time": "2022-06-06T13:37:42.572Z"
   },
   {
    "duration": 1079,
    "start_time": "2022-06-06T13:46:15.267Z"
   },
   {
    "duration": 246,
    "start_time": "2022-06-06T13:47:50.495Z"
   },
   {
    "duration": 274,
    "start_time": "2022-06-06T13:48:39.623Z"
   },
   {
    "duration": 24,
    "start_time": "2022-06-06T13:49:25.463Z"
   },
   {
    "duration": 23,
    "start_time": "2022-06-06T13:49:44.647Z"
   },
   {
    "duration": 259,
    "start_time": "2022-06-06T13:51:45.951Z"
   },
   {
    "duration": 302,
    "start_time": "2022-06-06T20:29:00.215Z"
   },
   {
    "duration": 259,
    "start_time": "2022-06-06T20:29:43.363Z"
   },
   {
    "duration": 1009,
    "start_time": "2022-06-06T20:41:04.303Z"
   },
   {
    "duration": 919,
    "start_time": "2022-06-06T20:41:49.800Z"
   },
   {
    "duration": 1255,
    "start_time": "2022-06-06T20:42:13.072Z"
   },
   {
    "duration": 9,
    "start_time": "2022-06-06T20:50:39.274Z"
   },
   {
    "duration": 14,
    "start_time": "2022-06-06T20:50:56.494Z"
   },
   {
    "duration": 17,
    "start_time": "2022-06-06T20:51:39.053Z"
   },
   {
    "duration": 26,
    "start_time": "2022-06-06T20:52:01.197Z"
   },
   {
    "duration": 22,
    "start_time": "2022-06-06T20:52:30.082Z"
   },
   {
    "duration": 28,
    "start_time": "2022-06-06T20:53:53.366Z"
   },
   {
    "duration": 28,
    "start_time": "2022-06-06T20:55:31.714Z"
   },
   {
    "duration": 30,
    "start_time": "2022-06-06T20:55:54.857Z"
   },
   {
    "duration": 39,
    "start_time": "2022-06-06T20:57:31.854Z"
   },
   {
    "duration": 37,
    "start_time": "2022-06-06T20:59:17.335Z"
   },
   {
    "duration": 98,
    "start_time": "2022-06-06T21:02:22.974Z"
   },
   {
    "duration": 26,
    "start_time": "2022-06-06T21:02:30.963Z"
   },
   {
    "duration": 2546,
    "start_time": "2022-06-07T07:09:59.155Z"
   },
   {
    "duration": 422,
    "start_time": "2022-06-07T07:10:01.704Z"
   },
   {
    "duration": 52,
    "start_time": "2022-06-07T07:10:02.128Z"
   },
   {
    "duration": 75,
    "start_time": "2022-06-07T07:10:02.185Z"
   },
   {
    "duration": 81,
    "start_time": "2022-06-07T07:10:02.265Z"
   },
   {
    "duration": 244,
    "start_time": "2022-06-07T07:10:02.349Z"
   },
   {
    "duration": 236,
    "start_time": "2022-06-07T07:10:02.606Z"
   },
   {
    "duration": 56,
    "start_time": "2022-06-07T07:10:02.847Z"
   },
   {
    "duration": 44,
    "start_time": "2022-06-07T07:10:02.911Z"
   },
   {
    "duration": 29,
    "start_time": "2022-06-07T07:10:02.965Z"
   },
   {
    "duration": 27,
    "start_time": "2022-06-07T07:10:03.002Z"
   },
   {
    "duration": 24,
    "start_time": "2022-06-07T07:10:03.038Z"
   },
   {
    "duration": 75,
    "start_time": "2022-06-07T07:10:03.068Z"
   },
   {
    "duration": 119,
    "start_time": "2022-06-07T07:10:03.150Z"
   },
   {
    "duration": 99,
    "start_time": "2022-06-07T07:10:03.275Z"
   },
   {
    "duration": 129,
    "start_time": "2022-06-07T07:10:03.381Z"
   },
   {
    "duration": 164,
    "start_time": "2022-06-07T07:10:03.522Z"
   },
   {
    "duration": 112,
    "start_time": "2022-06-07T07:10:03.701Z"
   },
   {
    "duration": 218,
    "start_time": "2022-06-07T07:10:03.821Z"
   },
   {
    "duration": 85,
    "start_time": "2022-06-07T07:10:04.053Z"
   },
   {
    "duration": 134,
    "start_time": "2022-06-07T07:10:04.147Z"
   },
   {
    "duration": 126,
    "start_time": "2022-06-07T07:10:04.289Z"
   },
   {
    "duration": 236,
    "start_time": "2022-06-07T07:10:04.422Z"
   },
   {
    "duration": 75,
    "start_time": "2022-06-07T07:10:04.667Z"
   },
   {
    "duration": 412,
    "start_time": "2022-06-07T07:10:04.750Z"
   },
   {
    "duration": 32,
    "start_time": "2022-06-07T07:10:05.170Z"
   },
   {
    "duration": 919,
    "start_time": "2022-06-07T07:10:05.210Z"
   },
   {
    "duration": 7,
    "start_time": "2022-06-07T07:10:06.133Z"
   },
   {
    "duration": 816,
    "start_time": "2022-06-07T07:10:06.142Z"
   },
   {
    "duration": 568,
    "start_time": "2022-06-07T07:10:06.961Z"
   },
   {
    "duration": 428,
    "start_time": "2022-06-07T07:10:07.543Z"
   },
   {
    "duration": 318,
    "start_time": "2022-06-07T07:10:07.979Z"
   },
   {
    "duration": 480,
    "start_time": "2022-06-07T07:10:08.303Z"
   },
   {
    "duration": 1582,
    "start_time": "2022-06-07T07:10:08.790Z"
   },
   {
    "duration": 88,
    "start_time": "2022-06-07T07:10:10.381Z"
   },
   {
    "duration": 267,
    "start_time": "2022-06-07T07:10:39.995Z"
   },
   {
    "duration": 52,
    "start_time": "2022-06-07T07:10:51.972Z"
   },
   {
    "duration": 666,
    "start_time": "2022-06-07T07:11:54.199Z"
   },
   {
    "duration": 920,
    "start_time": "2022-06-07T07:12:28.181Z"
   },
   {
    "duration": 900,
    "start_time": "2022-06-07T07:12:37.260Z"
   },
   {
    "duration": 573,
    "start_time": "2022-06-07T07:12:48.421Z"
   },
   {
    "duration": 816,
    "start_time": "2022-06-07T07:13:00.511Z"
   },
   {
    "duration": 519,
    "start_time": "2022-06-07T07:13:06.943Z"
   },
   {
    "duration": 619,
    "start_time": "2022-06-07T07:13:14.365Z"
   },
   {
    "duration": 39,
    "start_time": "2022-06-07T07:19:39.364Z"
   },
   {
    "duration": 1339,
    "start_time": "2022-06-07T13:49:42.472Z"
   },
   {
    "duration": 93,
    "start_time": "2022-06-07T13:49:43.814Z"
   },
   {
    "duration": 21,
    "start_time": "2022-06-07T13:49:43.909Z"
   },
   {
    "duration": 13,
    "start_time": "2022-06-07T13:49:43.932Z"
   },
   {
    "duration": 11,
    "start_time": "2022-06-07T13:49:43.947Z"
   },
   {
    "duration": 15,
    "start_time": "2022-06-07T13:49:43.960Z"
   },
   {
    "duration": 43,
    "start_time": "2022-06-07T13:49:43.977Z"
   },
   {
    "duration": 12,
    "start_time": "2022-06-07T13:49:44.022Z"
   },
   {
    "duration": 23,
    "start_time": "2022-06-07T13:49:44.037Z"
   },
   {
    "duration": 11,
    "start_time": "2022-06-07T13:49:44.062Z"
   },
   {
    "duration": 15,
    "start_time": "2022-06-07T13:49:44.075Z"
   },
   {
    "duration": 10,
    "start_time": "2022-06-07T13:49:44.092Z"
   },
   {
    "duration": 4,
    "start_time": "2022-06-07T13:49:44.103Z"
   },
   {
    "duration": 24,
    "start_time": "2022-06-07T13:49:44.110Z"
   },
   {
    "duration": 11,
    "start_time": "2022-06-07T13:49:44.153Z"
   },
   {
    "duration": 18,
    "start_time": "2022-06-07T13:49:44.166Z"
   },
   {
    "duration": 10,
    "start_time": "2022-06-07T13:49:44.186Z"
   },
   {
    "duration": 15,
    "start_time": "2022-06-07T13:49:44.198Z"
   },
   {
    "duration": 20,
    "start_time": "2022-06-07T13:49:44.214Z"
   },
   {
    "duration": 24,
    "start_time": "2022-06-07T13:49:44.236Z"
   },
   {
    "duration": 15,
    "start_time": "2022-06-07T13:49:44.262Z"
   },
   {
    "duration": 12,
    "start_time": "2022-06-07T13:49:44.279Z"
   },
   {
    "duration": 22,
    "start_time": "2022-06-07T13:49:44.293Z"
   },
   {
    "duration": 5,
    "start_time": "2022-06-07T13:49:44.317Z"
   },
   {
    "duration": 219,
    "start_time": "2022-06-07T13:49:44.324Z"
   },
   {
    "duration": 24,
    "start_time": "2022-06-07T13:49:44.545Z"
   },
   {
    "duration": 632,
    "start_time": "2022-06-07T13:49:44.571Z"
   },
   {
    "duration": 6,
    "start_time": "2022-06-07T13:49:45.205Z"
   },
   {
    "duration": 521,
    "start_time": "2022-06-07T13:49:45.212Z"
   },
   {
    "duration": 458,
    "start_time": "2022-06-07T13:49:45.735Z"
   },
   {
    "duration": 355,
    "start_time": "2022-06-07T13:49:46.197Z"
   },
   {
    "duration": 219,
    "start_time": "2022-06-07T13:49:46.554Z"
   },
   {
    "duration": 384,
    "start_time": "2022-06-07T13:49:46.775Z"
   },
   {
    "duration": 1218,
    "start_time": "2022-06-07T13:49:47.161Z"
   },
   {
    "duration": 23,
    "start_time": "2022-06-07T13:49:48.381Z"
   },
   {
    "duration": 24,
    "start_time": "2022-06-07T13:49:48.406Z"
   },
   {
    "duration": 21,
    "start_time": "2022-06-07T14:45:39.534Z"
   },
   {
    "duration": 18,
    "start_time": "2022-06-07T14:48:39.530Z"
   },
   {
    "duration": 176,
    "start_time": "2022-06-07T14:49:24.031Z"
   },
   {
    "duration": 174,
    "start_time": "2022-06-07T14:49:46.902Z"
   },
   {
    "duration": 168,
    "start_time": "2022-06-07T14:50:42.810Z"
   },
   {
    "duration": 250,
    "start_time": "2022-06-07T14:51:06.573Z"
   },
   {
    "duration": 12,
    "start_time": "2022-06-07T14:54:53.862Z"
   },
   {
    "duration": 19,
    "start_time": "2022-06-07T14:55:13.995Z"
   },
   {
    "duration": 26,
    "start_time": "2022-06-07T14:55:32.165Z"
   },
   {
    "duration": 23,
    "start_time": "2022-06-07T14:59:34.917Z"
   },
   {
    "duration": 26,
    "start_time": "2022-06-07T15:01:03.448Z"
   },
   {
    "duration": 23,
    "start_time": "2022-06-07T15:35:26.632Z"
   },
   {
    "duration": 109,
    "start_time": "2022-06-07T15:37:37.559Z"
   },
   {
    "duration": 79,
    "start_time": "2022-06-07T15:37:54.933Z"
   },
   {
    "duration": 29,
    "start_time": "2022-06-07T15:38:51.311Z"
   },
   {
    "duration": 278,
    "start_time": "2022-06-07T15:39:45.149Z"
   },
   {
    "duration": 30,
    "start_time": "2022-06-07T15:57:55.478Z"
   },
   {
    "duration": 37,
    "start_time": "2022-06-07T16:13:00.426Z"
   },
   {
    "duration": 30,
    "start_time": "2022-06-07T16:14:11.879Z"
   },
   {
    "duration": 56,
    "start_time": "2022-06-07T16:14:20.238Z"
   },
   {
    "duration": 40,
    "start_time": "2022-06-07T16:14:28.270Z"
   },
   {
    "duration": 8,
    "start_time": "2022-06-07T17:18:49.309Z"
   },
   {
    "duration": 16,
    "start_time": "2022-06-07T17:19:05.328Z"
   },
   {
    "duration": 12,
    "start_time": "2022-06-07T17:19:25.522Z"
   },
   {
    "duration": 27,
    "start_time": "2022-06-07T17:24:02.800Z"
   },
   {
    "duration": 15,
    "start_time": "2022-06-07T17:27:48.056Z"
   },
   {
    "duration": 25,
    "start_time": "2022-06-07T17:29:41.281Z"
   },
   {
    "duration": 29,
    "start_time": "2022-06-07T17:30:56.868Z"
   },
   {
    "duration": 1089,
    "start_time": "2022-06-07T18:27:43.169Z"
   },
   {
    "duration": 51,
    "start_time": "2022-06-07T18:27:44.270Z"
   },
   {
    "duration": 17,
    "start_time": "2022-06-07T18:27:44.322Z"
   },
   {
    "duration": 14,
    "start_time": "2022-06-07T18:27:44.341Z"
   },
   {
    "duration": 7,
    "start_time": "2022-06-07T18:27:44.365Z"
   },
   {
    "duration": 11,
    "start_time": "2022-06-07T18:27:44.373Z"
   },
   {
    "duration": 32,
    "start_time": "2022-06-07T18:27:44.386Z"
   },
   {
    "duration": 7,
    "start_time": "2022-06-07T18:27:44.420Z"
   },
   {
    "duration": 26,
    "start_time": "2022-06-07T18:27:44.428Z"
   },
   {
    "duration": 7,
    "start_time": "2022-06-07T18:27:44.464Z"
   },
   {
    "duration": 13,
    "start_time": "2022-06-07T18:27:44.472Z"
   },
   {
    "duration": 10,
    "start_time": "2022-06-07T18:27:44.487Z"
   },
   {
    "duration": 5,
    "start_time": "2022-06-07T18:27:44.499Z"
   },
   {
    "duration": 21,
    "start_time": "2022-06-07T18:27:44.506Z"
   },
   {
    "duration": 10,
    "start_time": "2022-06-07T18:27:44.528Z"
   },
   {
    "duration": 27,
    "start_time": "2022-06-07T18:27:44.539Z"
   },
   {
    "duration": 8,
    "start_time": "2022-06-07T18:27:44.568Z"
   },
   {
    "duration": 12,
    "start_time": "2022-06-07T18:27:44.577Z"
   },
   {
    "duration": 11,
    "start_time": "2022-06-07T18:27:44.591Z"
   },
   {
    "duration": 8,
    "start_time": "2022-06-07T18:27:44.603Z"
   },
   {
    "duration": 11,
    "start_time": "2022-06-07T18:27:44.612Z"
   },
   {
    "duration": 9,
    "start_time": "2022-06-07T18:27:44.625Z"
   },
   {
    "duration": 35,
    "start_time": "2022-06-07T18:27:44.635Z"
   },
   {
    "duration": 4,
    "start_time": "2022-06-07T18:27:44.672Z"
   },
   {
    "duration": 163,
    "start_time": "2022-06-07T18:27:44.678Z"
   },
   {
    "duration": 25,
    "start_time": "2022-06-07T18:27:44.842Z"
   },
   {
    "duration": 504,
    "start_time": "2022-06-07T18:27:44.871Z"
   },
   {
    "duration": 5,
    "start_time": "2022-06-07T18:27:45.379Z"
   },
   {
    "duration": 387,
    "start_time": "2022-06-07T18:27:45.385Z"
   },
   {
    "duration": 360,
    "start_time": "2022-06-07T18:27:45.774Z"
   },
   {
    "duration": 338,
    "start_time": "2022-06-07T18:27:46.136Z"
   },
   {
    "duration": 205,
    "start_time": "2022-06-07T18:27:46.478Z"
   },
   {
    "duration": 304,
    "start_time": "2022-06-07T18:27:46.685Z"
   },
   {
    "duration": 1024,
    "start_time": "2022-06-07T18:27:46.990Z"
   },
   {
    "duration": 19,
    "start_time": "2022-06-07T18:27:48.016Z"
   },
   {
    "duration": 44,
    "start_time": "2022-06-07T18:27:48.037Z"
   },
   {
    "duration": 28,
    "start_time": "2022-06-07T18:27:48.082Z"
   },
   {
    "duration": 60,
    "start_time": "2022-06-07T18:27:48.112Z"
   },
   {
    "duration": 12,
    "start_time": "2022-06-07T18:27:48.174Z"
   },
   {
    "duration": 34,
    "start_time": "2022-06-07T18:27:48.188Z"
   },
   {
    "duration": 41,
    "start_time": "2022-06-07T18:27:48.224Z"
   },
   {
    "duration": 21,
    "start_time": "2022-06-07T18:27:48.267Z"
   },
   {
    "duration": 1004,
    "start_time": "2022-06-07T20:04:43.689Z"
   },
   {
    "duration": 169,
    "start_time": "2022-06-07T20:04:44.695Z"
   },
   {
    "duration": 15,
    "start_time": "2022-06-07T20:04:44.865Z"
   },
   {
    "duration": 11,
    "start_time": "2022-06-07T20:04:44.881Z"
   },
   {
    "duration": 4,
    "start_time": "2022-06-07T20:04:44.893Z"
   },
   {
    "duration": 8,
    "start_time": "2022-06-07T20:04:44.898Z"
   },
   {
    "duration": 21,
    "start_time": "2022-06-07T20:04:44.907Z"
   },
   {
    "duration": 6,
    "start_time": "2022-06-07T20:04:44.929Z"
   },
   {
    "duration": 13,
    "start_time": "2022-06-07T20:04:44.936Z"
   },
   {
    "duration": 5,
    "start_time": "2022-06-07T20:04:44.951Z"
   },
   {
    "duration": 36,
    "start_time": "2022-06-07T20:04:44.957Z"
   },
   {
    "duration": 5,
    "start_time": "2022-06-07T20:04:44.995Z"
   },
   {
    "duration": 10,
    "start_time": "2022-06-07T20:04:45.001Z"
   },
   {
    "duration": 21,
    "start_time": "2022-06-07T20:04:45.012Z"
   },
   {
    "duration": 8,
    "start_time": "2022-06-07T20:04:45.034Z"
   },
   {
    "duration": 12,
    "start_time": "2022-06-07T20:04:45.044Z"
   },
   {
    "duration": 6,
    "start_time": "2022-06-07T20:04:45.058Z"
   },
   {
    "duration": 5,
    "start_time": "2022-06-07T20:04:45.065Z"
   },
   {
    "duration": 7,
    "start_time": "2022-06-07T20:04:45.091Z"
   },
   {
    "duration": 7,
    "start_time": "2022-06-07T20:04:45.099Z"
   },
   {
    "duration": 6,
    "start_time": "2022-06-07T20:04:45.108Z"
   },
   {
    "duration": 5,
    "start_time": "2022-06-07T20:04:45.116Z"
   },
   {
    "duration": 12,
    "start_time": "2022-06-07T20:04:45.122Z"
   },
   {
    "duration": 3,
    "start_time": "2022-06-07T20:04:45.136Z"
   },
   {
    "duration": 143,
    "start_time": "2022-06-07T20:04:45.140Z"
   },
   {
    "duration": 21,
    "start_time": "2022-06-07T20:04:45.284Z"
   },
   {
    "duration": 442,
    "start_time": "2022-06-07T20:04:45.306Z"
   },
   {
    "duration": 5,
    "start_time": "2022-06-07T20:04:45.750Z"
   },
   {
    "duration": 369,
    "start_time": "2022-06-07T20:04:45.756Z"
   },
   {
    "duration": 306,
    "start_time": "2022-06-07T20:04:46.126Z"
   },
   {
    "duration": 224,
    "start_time": "2022-06-07T20:04:46.433Z"
   },
   {
    "duration": 184,
    "start_time": "2022-06-07T20:04:46.658Z"
   },
   {
    "duration": 234,
    "start_time": "2022-06-07T20:04:46.844Z"
   },
   {
    "duration": 868,
    "start_time": "2022-06-07T20:04:47.079Z"
   },
   {
    "duration": 17,
    "start_time": "2022-06-07T20:04:47.949Z"
   },
   {
    "duration": 32,
    "start_time": "2022-06-07T20:04:47.967Z"
   },
   {
    "duration": 20,
    "start_time": "2022-06-07T20:04:48.001Z"
   },
   {
    "duration": 26,
    "start_time": "2022-06-07T20:04:48.022Z"
   },
   {
    "duration": 43,
    "start_time": "2022-06-07T20:04:48.049Z"
   },
   {
    "duration": 19,
    "start_time": "2022-06-07T20:04:48.093Z"
   },
   {
    "duration": 10,
    "start_time": "2022-06-07T20:04:48.113Z"
   },
   {
    "duration": 20,
    "start_time": "2022-06-07T20:04:48.125Z"
   },
   {
    "duration": 162,
    "start_time": "2022-06-07T20:18:19.330Z"
   },
   {
    "duration": 47,
    "start_time": "2022-06-07T20:18:41.312Z"
   },
   {
    "duration": 978,
    "start_time": "2022-06-07T20:19:24.802Z"
   },
   {
    "duration": 47,
    "start_time": "2022-06-07T20:19:25.781Z"
   },
   {
    "duration": 14,
    "start_time": "2022-06-07T20:19:25.829Z"
   },
   {
    "duration": 11,
    "start_time": "2022-06-07T20:19:25.844Z"
   },
   {
    "duration": 3,
    "start_time": "2022-06-07T20:19:25.856Z"
   },
   {
    "duration": 9,
    "start_time": "2022-06-07T20:19:25.861Z"
   },
   {
    "duration": 20,
    "start_time": "2022-06-07T20:19:25.871Z"
   },
   {
    "duration": 6,
    "start_time": "2022-06-07T20:19:25.893Z"
   },
   {
    "duration": 13,
    "start_time": "2022-06-07T20:19:25.900Z"
   },
   {
    "duration": 5,
    "start_time": "2022-06-07T20:19:25.915Z"
   },
   {
    "duration": 5,
    "start_time": "2022-06-07T20:19:25.922Z"
   },
   {
    "duration": 7,
    "start_time": "2022-06-07T20:19:25.928Z"
   },
   {
    "duration": 3,
    "start_time": "2022-06-07T20:19:25.936Z"
   },
   {
    "duration": 18,
    "start_time": "2022-06-07T20:19:25.941Z"
   },
   {
    "duration": 38,
    "start_time": "2022-06-07T20:19:25.960Z"
   },
   {
    "duration": 13,
    "start_time": "2022-06-07T20:19:26.000Z"
   },
   {
    "duration": 9,
    "start_time": "2022-06-07T20:19:26.014Z"
   },
   {
    "duration": 8,
    "start_time": "2022-06-07T20:19:26.025Z"
   },
   {
    "duration": 18,
    "start_time": "2022-06-07T20:19:26.035Z"
   },
   {
    "duration": 6,
    "start_time": "2022-06-07T20:19:26.054Z"
   },
   {
    "duration": 30,
    "start_time": "2022-06-07T20:19:26.061Z"
   },
   {
    "duration": 6,
    "start_time": "2022-06-07T20:19:26.092Z"
   },
   {
    "duration": 13,
    "start_time": "2022-06-07T20:19:26.099Z"
   },
   {
    "duration": 4,
    "start_time": "2022-06-07T20:19:26.113Z"
   },
   {
    "duration": 77,
    "start_time": "2022-06-07T20:19:26.118Z"
   },
   {
    "duration": 146,
    "start_time": "2022-06-07T20:19:26.196Z"
   },
   {
    "duration": 15,
    "start_time": "2022-06-07T20:19:26.344Z"
   },
   {
    "duration": 433,
    "start_time": "2022-06-07T20:19:26.362Z"
   },
   {
    "duration": 5,
    "start_time": "2022-06-07T20:19:26.797Z"
   },
   {
    "duration": 374,
    "start_time": "2022-06-07T20:19:26.804Z"
   },
   {
    "duration": 327,
    "start_time": "2022-06-07T20:19:27.180Z"
   },
   {
    "duration": 234,
    "start_time": "2022-06-07T20:19:27.509Z"
   },
   {
    "duration": 167,
    "start_time": "2022-06-07T20:19:27.745Z"
   },
   {
    "duration": 241,
    "start_time": "2022-06-07T20:19:27.914Z"
   },
   {
    "duration": 871,
    "start_time": "2022-06-07T20:19:28.156Z"
   },
   {
    "duration": 17,
    "start_time": "2022-06-07T20:19:29.029Z"
   },
   {
    "duration": 23,
    "start_time": "2022-06-07T20:19:29.047Z"
   },
   {
    "duration": 39,
    "start_time": "2022-06-07T20:19:29.071Z"
   },
   {
    "duration": 24,
    "start_time": "2022-06-07T20:19:29.111Z"
   },
   {
    "duration": 9,
    "start_time": "2022-06-07T20:19:29.136Z"
   },
   {
    "duration": 49,
    "start_time": "2022-06-07T20:19:29.146Z"
   },
   {
    "duration": 9,
    "start_time": "2022-06-07T20:19:29.196Z"
   },
   {
    "duration": 20,
    "start_time": "2022-06-07T20:19:29.207Z"
   },
   {
    "duration": 11,
    "start_time": "2022-06-07T20:26:48.077Z"
   },
   {
    "duration": 1243,
    "start_time": "2022-06-08T12:34:29.659Z"
   },
   {
    "duration": 193,
    "start_time": "2022-06-08T12:34:30.905Z"
   },
   {
    "duration": 19,
    "start_time": "2022-06-08T12:34:31.099Z"
   },
   {
    "duration": 18,
    "start_time": "2022-06-08T12:34:31.120Z"
   },
   {
    "duration": 5,
    "start_time": "2022-06-08T12:34:31.140Z"
   },
   {
    "duration": 15,
    "start_time": "2022-06-08T12:34:31.146Z"
   },
   {
    "duration": 29,
    "start_time": "2022-06-08T12:34:31.163Z"
   },
   {
    "duration": 7,
    "start_time": "2022-06-08T12:34:31.194Z"
   },
   {
    "duration": 17,
    "start_time": "2022-06-08T12:34:31.203Z"
   },
   {
    "duration": 19,
    "start_time": "2022-06-08T12:34:31.223Z"
   },
   {
    "duration": 18,
    "start_time": "2022-06-08T12:34:31.244Z"
   },
   {
    "duration": 10,
    "start_time": "2022-06-08T12:34:31.264Z"
   },
   {
    "duration": 18,
    "start_time": "2022-06-08T12:34:31.275Z"
   },
   {
    "duration": 16,
    "start_time": "2022-06-08T12:34:31.294Z"
   },
   {
    "duration": 31,
    "start_time": "2022-06-08T12:34:31.312Z"
   },
   {
    "duration": 10,
    "start_time": "2022-06-08T12:34:31.345Z"
   },
   {
    "duration": 12,
    "start_time": "2022-06-08T12:34:31.357Z"
   },
   {
    "duration": 8,
    "start_time": "2022-06-08T12:34:31.371Z"
   },
   {
    "duration": 6,
    "start_time": "2022-06-08T12:34:31.380Z"
   },
   {
    "duration": 14,
    "start_time": "2022-06-08T12:34:31.387Z"
   },
   {
    "duration": 4,
    "start_time": "2022-06-08T12:34:31.403Z"
   },
   {
    "duration": 60,
    "start_time": "2022-06-08T12:34:31.443Z"
   },
   {
    "duration": 167,
    "start_time": "2022-06-08T12:34:31.504Z"
   },
   {
    "duration": 18,
    "start_time": "2022-06-08T12:34:31.672Z"
   },
   {
    "duration": 607,
    "start_time": "2022-06-08T12:34:31.691Z"
   },
   {
    "duration": 6,
    "start_time": "2022-06-08T12:34:32.300Z"
   },
   {
    "duration": 426,
    "start_time": "2022-06-08T12:34:32.308Z"
   },
   {
    "duration": 375,
    "start_time": "2022-06-08T12:34:32.737Z"
   },
   {
    "duration": 307,
    "start_time": "2022-06-08T12:34:33.113Z"
   },
   {
    "duration": 196,
    "start_time": "2022-06-08T12:34:33.421Z"
   },
   {
    "duration": 300,
    "start_time": "2022-06-08T12:34:33.618Z"
   },
   {
    "duration": 24,
    "start_time": "2022-06-08T12:34:33.920Z"
   },
   {
    "duration": 1058,
    "start_time": "2022-06-08T12:34:33.945Z"
   },
   {
    "duration": 22,
    "start_time": "2022-06-08T12:34:35.005Z"
   },
   {
    "duration": 31,
    "start_time": "2022-06-08T12:34:35.041Z"
   },
   {
    "duration": 28,
    "start_time": "2022-06-08T12:34:35.074Z"
   },
   {
    "duration": 61,
    "start_time": "2022-06-08T12:34:35.103Z"
   },
   {
    "duration": 11,
    "start_time": "2022-06-08T12:34:35.165Z"
   },
   {
    "duration": 23,
    "start_time": "2022-06-08T12:34:35.177Z"
   },
   {
    "duration": 46,
    "start_time": "2022-06-08T12:34:35.202Z"
   },
   {
    "duration": 24,
    "start_time": "2022-06-08T12:34:35.249Z"
   },
   {
    "duration": 4,
    "start_time": "2022-06-08T12:35:22.848Z"
   },
   {
    "duration": 5,
    "start_time": "2022-06-08T12:35:49.523Z"
   },
   {
    "duration": 1065,
    "start_time": "2022-06-08T12:36:22.984Z"
   },
   {
    "duration": 56,
    "start_time": "2022-06-08T12:36:24.051Z"
   },
   {
    "duration": 17,
    "start_time": "2022-06-08T12:36:24.109Z"
   },
   {
    "duration": 13,
    "start_time": "2022-06-08T12:36:24.128Z"
   },
   {
    "duration": 4,
    "start_time": "2022-06-08T12:36:24.143Z"
   },
   {
    "duration": 9,
    "start_time": "2022-06-08T12:36:24.149Z"
   },
   {
    "duration": 27,
    "start_time": "2022-06-08T12:36:24.159Z"
   },
   {
    "duration": 9,
    "start_time": "2022-06-08T12:36:24.187Z"
   },
   {
    "duration": 45,
    "start_time": "2022-06-08T12:36:24.198Z"
   },
   {
    "duration": 5,
    "start_time": "2022-06-08T12:36:24.245Z"
   },
   {
    "duration": 20,
    "start_time": "2022-06-08T12:36:24.251Z"
   },
   {
    "duration": 11,
    "start_time": "2022-06-08T12:36:24.272Z"
   },
   {
    "duration": 21,
    "start_time": "2022-06-08T12:36:24.284Z"
   },
   {
    "duration": 8,
    "start_time": "2022-06-08T12:36:24.307Z"
   },
   {
    "duration": 6,
    "start_time": "2022-06-08T12:36:24.342Z"
   },
   {
    "duration": 11,
    "start_time": "2022-06-08T12:36:24.349Z"
   },
   {
    "duration": 9,
    "start_time": "2022-06-08T12:36:24.362Z"
   },
   {
    "duration": 10,
    "start_time": "2022-06-08T12:36:24.373Z"
   },
   {
    "duration": 6,
    "start_time": "2022-06-08T12:36:24.385Z"
   },
   {
    "duration": 14,
    "start_time": "2022-06-08T12:36:24.392Z"
   },
   {
    "duration": 5,
    "start_time": "2022-06-08T12:36:24.441Z"
   },
   {
    "duration": 61,
    "start_time": "2022-06-08T12:36:24.447Z"
   },
   {
    "duration": 174,
    "start_time": "2022-06-08T12:36:24.510Z"
   },
   {
    "duration": 21,
    "start_time": "2022-06-08T12:36:24.685Z"
   },
   {
    "duration": 539,
    "start_time": "2022-06-08T12:36:24.708Z"
   },
   {
    "duration": 6,
    "start_time": "2022-06-08T12:36:25.249Z"
   },
   {
    "duration": 380,
    "start_time": "2022-06-08T12:36:25.256Z"
   },
   {
    "duration": 365,
    "start_time": "2022-06-08T12:36:25.641Z"
   },
   {
    "duration": 315,
    "start_time": "2022-06-08T12:36:26.008Z"
   },
   {
    "duration": 204,
    "start_time": "2022-06-08T12:36:26.324Z"
   },
   {
    "duration": 338,
    "start_time": "2022-06-08T12:36:26.530Z"
   },
   {
    "duration": 19,
    "start_time": "2022-06-08T12:36:26.870Z"
   },
   {
    "duration": 1116,
    "start_time": "2022-06-08T12:36:26.891Z"
   },
   {
    "duration": 34,
    "start_time": "2022-06-08T12:36:28.008Z"
   },
   {
    "duration": 42,
    "start_time": "2022-06-08T12:36:28.044Z"
   },
   {
    "duration": 28,
    "start_time": "2022-06-08T12:36:28.087Z"
   },
   {
    "duration": 50,
    "start_time": "2022-06-08T12:36:28.117Z"
   },
   {
    "duration": 11,
    "start_time": "2022-06-08T12:36:28.168Z"
   },
   {
    "duration": 22,
    "start_time": "2022-06-08T12:36:28.181Z"
   },
   {
    "duration": 46,
    "start_time": "2022-06-08T12:36:28.205Z"
   },
   {
    "duration": 24,
    "start_time": "2022-06-08T12:36:28.252Z"
   },
   {
    "duration": 5,
    "start_time": "2022-06-08T12:36:56.388Z"
   },
   {
    "duration": 5,
    "start_time": "2022-06-08T12:37:05.338Z"
   },
   {
    "duration": 4,
    "start_time": "2022-06-08T12:37:23.689Z"
   },
   {
    "duration": 4,
    "start_time": "2022-06-08T12:37:34.086Z"
   },
   {
    "duration": 4,
    "start_time": "2022-06-08T12:37:47.499Z"
   },
   {
    "duration": 4,
    "start_time": "2022-06-08T12:37:54.590Z"
   },
   {
    "duration": 1073,
    "start_time": "2022-06-08T12:38:07.457Z"
   },
   {
    "duration": 53,
    "start_time": "2022-06-08T12:38:08.532Z"
   },
   {
    "duration": 17,
    "start_time": "2022-06-08T12:38:08.586Z"
   },
   {
    "duration": 13,
    "start_time": "2022-06-08T12:38:08.605Z"
   },
   {
    "duration": 5,
    "start_time": "2022-06-08T12:38:08.620Z"
   },
   {
    "duration": 22,
    "start_time": "2022-06-08T12:38:08.627Z"
   },
   {
    "duration": 26,
    "start_time": "2022-06-08T12:38:08.651Z"
   },
   {
    "duration": 8,
    "start_time": "2022-06-08T12:38:08.678Z"
   },
   {
    "duration": 17,
    "start_time": "2022-06-08T12:38:08.688Z"
   },
   {
    "duration": 5,
    "start_time": "2022-06-08T12:38:08.707Z"
   },
   {
    "duration": 44,
    "start_time": "2022-06-08T12:38:08.714Z"
   },
   {
    "duration": 10,
    "start_time": "2022-06-08T12:38:08.760Z"
   },
   {
    "duration": 16,
    "start_time": "2022-06-08T12:38:08.771Z"
   },
   {
    "duration": 9,
    "start_time": "2022-06-08T12:38:08.788Z"
   },
   {
    "duration": 6,
    "start_time": "2022-06-08T12:38:08.799Z"
   },
   {
    "duration": 39,
    "start_time": "2022-06-08T12:38:08.806Z"
   },
   {
    "duration": 7,
    "start_time": "2022-06-08T12:38:08.847Z"
   },
   {
    "duration": 8,
    "start_time": "2022-06-08T12:38:08.855Z"
   },
   {
    "duration": 6,
    "start_time": "2022-06-08T12:38:08.865Z"
   },
   {
    "duration": 14,
    "start_time": "2022-06-08T12:38:08.873Z"
   },
   {
    "duration": 4,
    "start_time": "2022-06-08T12:38:08.889Z"
   },
   {
    "duration": 94,
    "start_time": "2022-06-08T12:38:08.895Z"
   },
   {
    "duration": 170,
    "start_time": "2022-06-08T12:38:08.991Z"
   },
   {
    "duration": 19,
    "start_time": "2022-06-08T12:38:09.163Z"
   },
   {
    "duration": 492,
    "start_time": "2022-06-08T12:38:09.183Z"
   },
   {
    "duration": 6,
    "start_time": "2022-06-08T12:38:09.677Z"
   },
   {
    "duration": 441,
    "start_time": "2022-06-08T12:38:09.685Z"
   },
   {
    "duration": 359,
    "start_time": "2022-06-08T12:38:10.130Z"
   },
   {
    "duration": 317,
    "start_time": "2022-06-08T12:38:10.492Z"
   },
   {
    "duration": 202,
    "start_time": "2022-06-08T12:38:10.811Z"
   },
   {
    "duration": 299,
    "start_time": "2022-06-08T12:38:11.015Z"
   },
   {
    "duration": 15,
    "start_time": "2022-06-08T12:38:11.316Z"
   },
   {
    "duration": 1097,
    "start_time": "2022-06-08T12:38:11.342Z"
   },
   {
    "duration": 23,
    "start_time": "2022-06-08T12:38:12.441Z"
   },
   {
    "duration": 33,
    "start_time": "2022-06-08T12:38:12.466Z"
   },
   {
    "duration": 60,
    "start_time": "2022-06-08T12:38:12.501Z"
   },
   {
    "duration": 32,
    "start_time": "2022-06-08T12:38:12.562Z"
   },
   {
    "duration": 12,
    "start_time": "2022-06-08T12:38:12.595Z"
   },
   {
    "duration": 50,
    "start_time": "2022-06-08T12:38:12.608Z"
   },
   {
    "duration": 12,
    "start_time": "2022-06-08T12:38:12.659Z"
   },
   {
    "duration": 24,
    "start_time": "2022-06-08T12:38:12.672Z"
   },
   {
    "duration": 5,
    "start_time": "2022-06-08T12:38:40.357Z"
   },
   {
    "duration": 1099,
    "start_time": "2022-06-08T12:39:04.838Z"
   },
   {
    "duration": 55,
    "start_time": "2022-06-08T12:39:05.939Z"
   },
   {
    "duration": 17,
    "start_time": "2022-06-08T12:39:05.996Z"
   },
   {
    "duration": 18,
    "start_time": "2022-06-08T12:39:06.015Z"
   },
   {
    "duration": 5,
    "start_time": "2022-06-08T12:39:06.035Z"
   },
   {
    "duration": 14,
    "start_time": "2022-06-08T12:39:06.042Z"
   },
   {
    "duration": 28,
    "start_time": "2022-06-08T12:39:06.058Z"
   },
   {
    "duration": 9,
    "start_time": "2022-06-08T12:39:06.088Z"
   },
   {
    "duration": 20,
    "start_time": "2022-06-08T12:39:06.099Z"
   },
   {
    "duration": 5,
    "start_time": "2022-06-08T12:39:06.141Z"
   },
   {
    "duration": 22,
    "start_time": "2022-06-08T12:39:06.148Z"
   },
   {
    "duration": 11,
    "start_time": "2022-06-08T12:39:06.171Z"
   },
   {
    "duration": 16,
    "start_time": "2022-06-08T12:39:06.184Z"
   },
   {
    "duration": 8,
    "start_time": "2022-06-08T12:39:06.201Z"
   },
   {
    "duration": 34,
    "start_time": "2022-06-08T12:39:06.211Z"
   },
   {
    "duration": 11,
    "start_time": "2022-06-08T12:39:06.246Z"
   },
   {
    "duration": 11,
    "start_time": "2022-06-08T12:39:06.259Z"
   },
   {
    "duration": 12,
    "start_time": "2022-06-08T12:39:06.271Z"
   },
   {
    "duration": 8,
    "start_time": "2022-06-08T12:39:06.284Z"
   },
   {
    "duration": 13,
    "start_time": "2022-06-08T12:39:06.294Z"
   },
   {
    "duration": 4,
    "start_time": "2022-06-08T12:39:06.309Z"
   },
   {
    "duration": 83,
    "start_time": "2022-06-08T12:39:06.342Z"
   },
   {
    "duration": 165,
    "start_time": "2022-06-08T12:39:06.426Z"
   },
   {
    "duration": 19,
    "start_time": "2022-06-08T12:39:06.592Z"
   },
   {
    "duration": 544,
    "start_time": "2022-06-08T12:39:06.612Z"
   },
   {
    "duration": 6,
    "start_time": "2022-06-08T12:39:07.158Z"
   },
   {
    "duration": 405,
    "start_time": "2022-06-08T12:39:07.165Z"
   },
   {
    "duration": 376,
    "start_time": "2022-06-08T12:39:07.573Z"
   },
   {
    "duration": 293,
    "start_time": "2022-06-08T12:39:07.951Z"
   },
   {
    "duration": 228,
    "start_time": "2022-06-08T12:39:08.245Z"
   },
   {
    "duration": 314,
    "start_time": "2022-06-08T12:39:08.476Z"
   },
   {
    "duration": 14,
    "start_time": "2022-06-08T12:39:08.792Z"
   },
   {
    "duration": 1012,
    "start_time": "2022-06-08T12:39:08.807Z"
   },
   {
    "duration": 29,
    "start_time": "2022-06-08T12:39:09.821Z"
   },
   {
    "duration": 28,
    "start_time": "2022-06-08T12:39:09.852Z"
   },
   {
    "duration": 28,
    "start_time": "2022-06-08T12:39:09.882Z"
   },
   {
    "duration": 58,
    "start_time": "2022-06-08T12:39:09.912Z"
   },
   {
    "duration": 12,
    "start_time": "2022-06-08T12:39:09.971Z"
   },
   {
    "duration": 22,
    "start_time": "2022-06-08T12:39:09.985Z"
   },
   {
    "duration": 45,
    "start_time": "2022-06-08T12:39:10.008Z"
   },
   {
    "duration": 37,
    "start_time": "2022-06-08T12:39:10.055Z"
   },
   {
    "duration": 7,
    "start_time": "2022-06-08T12:50:19.527Z"
   },
   {
    "duration": 33,
    "start_time": "2022-06-08T12:50:45.431Z"
   },
   {
    "duration": 1156,
    "start_time": "2022-06-08T12:55:15.133Z"
   },
   {
    "duration": 56,
    "start_time": "2022-06-08T12:55:16.291Z"
   },
   {
    "duration": 19,
    "start_time": "2022-06-08T12:55:16.349Z"
   },
   {
    "duration": 17,
    "start_time": "2022-06-08T12:55:16.370Z"
   },
   {
    "duration": 5,
    "start_time": "2022-06-08T12:55:16.389Z"
   },
   {
    "duration": 14,
    "start_time": "2022-06-08T12:55:16.395Z"
   },
   {
    "duration": 52,
    "start_time": "2022-06-08T12:55:16.410Z"
   },
   {
    "duration": 9,
    "start_time": "2022-06-08T12:55:16.463Z"
   },
   {
    "duration": 18,
    "start_time": "2022-06-08T12:55:16.473Z"
   },
   {
    "duration": 5,
    "start_time": "2022-06-08T12:55:16.494Z"
   },
   {
    "duration": 14,
    "start_time": "2022-06-08T12:55:16.500Z"
   },
   {
    "duration": 41,
    "start_time": "2022-06-08T12:55:16.516Z"
   },
   {
    "duration": 12,
    "start_time": "2022-06-08T12:55:16.559Z"
   },
   {
    "duration": 17,
    "start_time": "2022-06-08T12:55:16.573Z"
   },
   {
    "duration": 9,
    "start_time": "2022-06-08T12:55:16.591Z"
   },
   {
    "duration": 15,
    "start_time": "2022-06-08T12:55:16.601Z"
   },
   {
    "duration": 30,
    "start_time": "2022-06-08T12:55:16.618Z"
   },
   {
    "duration": 5,
    "start_time": "2022-06-08T12:55:16.650Z"
   },
   {
    "duration": 14,
    "start_time": "2022-06-08T12:55:16.656Z"
   },
   {
    "duration": 14,
    "start_time": "2022-06-08T12:55:16.672Z"
   },
   {
    "duration": 9,
    "start_time": "2022-06-08T12:55:16.688Z"
   },
   {
    "duration": 22,
    "start_time": "2022-06-08T12:55:16.699Z"
   },
   {
    "duration": 6,
    "start_time": "2022-06-08T12:55:16.742Z"
   },
   {
    "duration": 101,
    "start_time": "2022-06-08T12:55:16.750Z"
   },
   {
    "duration": 185,
    "start_time": "2022-06-08T12:55:16.854Z"
   },
   {
    "duration": 19,
    "start_time": "2022-06-08T12:55:17.042Z"
   },
   {
    "duration": 513,
    "start_time": "2022-06-08T12:55:17.063Z"
   },
   {
    "duration": 7,
    "start_time": "2022-06-08T12:55:17.579Z"
   },
   {
    "duration": 451,
    "start_time": "2022-06-08T12:55:17.587Z"
   },
   {
    "duration": 371,
    "start_time": "2022-06-08T12:55:18.042Z"
   },
   {
    "duration": 313,
    "start_time": "2022-06-08T12:55:18.415Z"
   },
   {
    "duration": 216,
    "start_time": "2022-06-08T12:55:18.729Z"
   },
   {
    "duration": 328,
    "start_time": "2022-06-08T12:55:18.947Z"
   },
   {
    "duration": 15,
    "start_time": "2022-06-08T12:55:19.278Z"
   },
   {
    "duration": 1124,
    "start_time": "2022-06-08T12:55:19.295Z"
   },
   {
    "duration": 29,
    "start_time": "2022-06-08T12:55:20.421Z"
   },
   {
    "duration": 31,
    "start_time": "2022-06-08T12:55:20.452Z"
   },
   {
    "duration": 58,
    "start_time": "2022-06-08T12:55:20.485Z"
   },
   {
    "duration": 37,
    "start_time": "2022-06-08T12:55:20.545Z"
   },
   {
    "duration": 13,
    "start_time": "2022-06-08T12:55:20.585Z"
   },
   {
    "duration": 61,
    "start_time": "2022-06-08T12:55:20.600Z"
   },
   {
    "duration": 13,
    "start_time": "2022-06-08T12:55:20.663Z"
   },
   {
    "duration": 26,
    "start_time": "2022-06-08T12:55:20.677Z"
   },
   {
    "duration": 1161,
    "start_time": "2022-06-08T13:05:35.605Z"
   },
   {
    "duration": 60,
    "start_time": "2022-06-08T13:05:36.768Z"
   },
   {
    "duration": 23,
    "start_time": "2022-06-08T13:05:36.830Z"
   },
   {
    "duration": 19,
    "start_time": "2022-06-08T13:05:36.855Z"
   },
   {
    "duration": 16,
    "start_time": "2022-06-08T13:05:36.877Z"
   },
   {
    "duration": 13,
    "start_time": "2022-06-08T13:05:36.896Z"
   },
   {
    "duration": 42,
    "start_time": "2022-06-08T13:05:36.911Z"
   },
   {
    "duration": 8,
    "start_time": "2022-06-08T13:05:36.955Z"
   },
   {
    "duration": 17,
    "start_time": "2022-06-08T13:05:36.964Z"
   },
   {
    "duration": 5,
    "start_time": "2022-06-08T13:05:36.984Z"
   },
   {
    "duration": 11,
    "start_time": "2022-06-08T13:05:36.990Z"
   },
   {
    "duration": 39,
    "start_time": "2022-06-08T13:05:37.002Z"
   },
   {
    "duration": 10,
    "start_time": "2022-06-08T13:05:37.043Z"
   },
   {
    "duration": 17,
    "start_time": "2022-06-08T13:05:37.055Z"
   },
   {
    "duration": 8,
    "start_time": "2022-06-08T13:05:37.073Z"
   },
   {
    "duration": 7,
    "start_time": "2022-06-08T13:05:37.083Z"
   },
   {
    "duration": 16,
    "start_time": "2022-06-08T13:05:37.091Z"
   },
   {
    "duration": 33,
    "start_time": "2022-06-08T13:05:37.108Z"
   },
   {
    "duration": 13,
    "start_time": "2022-06-08T13:05:37.143Z"
   },
   {
    "duration": 8,
    "start_time": "2022-06-08T13:05:37.158Z"
   },
   {
    "duration": 9,
    "start_time": "2022-06-08T13:05:37.168Z"
   },
   {
    "duration": 18,
    "start_time": "2022-06-08T13:05:37.179Z"
   },
   {
    "duration": 5,
    "start_time": "2022-06-08T13:05:37.198Z"
   },
   {
    "duration": 82,
    "start_time": "2022-06-08T13:05:37.204Z"
   },
   {
    "duration": 177,
    "start_time": "2022-06-08T13:05:37.288Z"
   },
   {
    "duration": 18,
    "start_time": "2022-06-08T13:05:37.467Z"
   },
   {
    "duration": 514,
    "start_time": "2022-06-08T13:05:37.486Z"
   },
   {
    "duration": 7,
    "start_time": "2022-06-08T13:05:38.003Z"
   },
   {
    "duration": 445,
    "start_time": "2022-06-08T13:05:38.012Z"
   },
   {
    "duration": 361,
    "start_time": "2022-06-08T13:05:38.459Z"
   },
   {
    "duration": 320,
    "start_time": "2022-06-08T13:05:38.822Z"
   },
   {
    "duration": 201,
    "start_time": "2022-06-08T13:05:39.144Z"
   },
   {
    "duration": 304,
    "start_time": "2022-06-08T13:05:39.347Z"
   },
   {
    "duration": 13,
    "start_time": "2022-06-08T13:05:39.653Z"
   },
   {
    "duration": 1087,
    "start_time": "2022-06-08T13:05:39.668Z"
   },
   {
    "duration": 22,
    "start_time": "2022-06-08T13:05:40.757Z"
   },
   {
    "duration": 29,
    "start_time": "2022-06-08T13:05:40.780Z"
   },
   {
    "duration": 54,
    "start_time": "2022-06-08T13:05:40.811Z"
   },
   {
    "duration": 32,
    "start_time": "2022-06-08T13:05:40.866Z"
   },
   {
    "duration": 12,
    "start_time": "2022-06-08T13:05:40.900Z"
   },
   {
    "duration": 27,
    "start_time": "2022-06-08T13:05:40.942Z"
   },
   {
    "duration": 12,
    "start_time": "2022-06-08T13:05:40.970Z"
   },
   {
    "duration": 60,
    "start_time": "2022-06-08T13:05:40.984Z"
   },
   {
    "duration": 6,
    "start_time": "2022-06-08T13:08:13.892Z"
   },
   {
    "duration": 1173,
    "start_time": "2022-06-08T13:09:52.283Z"
   },
   {
    "duration": 53,
    "start_time": "2022-06-08T13:09:53.458Z"
   },
   {
    "duration": 21,
    "start_time": "2022-06-08T13:09:53.513Z"
   },
   {
    "duration": 14,
    "start_time": "2022-06-08T13:09:53.537Z"
   },
   {
    "duration": 5,
    "start_time": "2022-06-08T13:09:53.552Z"
   },
   {
    "duration": 11,
    "start_time": "2022-06-08T13:09:53.558Z"
   },
   {
    "duration": 27,
    "start_time": "2022-06-08T13:09:53.571Z"
   },
   {
    "duration": 8,
    "start_time": "2022-06-08T13:09:53.600Z"
   },
   {
    "duration": 42,
    "start_time": "2022-06-08T13:09:53.610Z"
   },
   {
    "duration": 6,
    "start_time": "2022-06-08T13:09:53.656Z"
   },
   {
    "duration": 10,
    "start_time": "2022-06-08T13:09:53.665Z"
   },
   {
    "duration": 19,
    "start_time": "2022-06-08T13:09:53.677Z"
   },
   {
    "duration": 11,
    "start_time": "2022-06-08T13:09:53.698Z"
   },
   {
    "duration": 45,
    "start_time": "2022-06-08T13:09:53.711Z"
   },
   {
    "duration": 9,
    "start_time": "2022-06-08T13:09:53.758Z"
   },
   {
    "duration": 7,
    "start_time": "2022-06-08T13:09:53.769Z"
   },
   {
    "duration": 11,
    "start_time": "2022-06-08T13:09:53.777Z"
   },
   {
    "duration": 4,
    "start_time": "2022-06-08T13:09:53.790Z"
   },
   {
    "duration": 14,
    "start_time": "2022-06-08T13:09:53.796Z"
   },
   {
    "duration": 40,
    "start_time": "2022-06-08T13:09:53.811Z"
   },
   {
    "duration": 9,
    "start_time": "2022-06-08T13:09:53.853Z"
   },
   {
    "duration": 17,
    "start_time": "2022-06-08T13:09:53.864Z"
   },
   {
    "duration": 5,
    "start_time": "2022-06-08T13:09:53.883Z"
   },
   {
    "duration": 97,
    "start_time": "2022-06-08T13:09:53.890Z"
   },
   {
    "duration": 188,
    "start_time": "2022-06-08T13:09:53.989Z"
   },
   {
    "duration": 19,
    "start_time": "2022-06-08T13:09:54.178Z"
   },
   {
    "duration": 519,
    "start_time": "2022-06-08T13:09:54.198Z"
   },
   {
    "duration": 6,
    "start_time": "2022-06-08T13:09:54.720Z"
   },
   {
    "duration": 411,
    "start_time": "2022-06-08T13:09:54.727Z"
   },
   {
    "duration": 356,
    "start_time": "2022-06-08T13:09:55.142Z"
   },
   {
    "duration": 304,
    "start_time": "2022-06-08T13:09:55.500Z"
   },
   {
    "duration": 206,
    "start_time": "2022-06-08T13:09:55.806Z"
   },
   {
    "duration": 307,
    "start_time": "2022-06-08T13:09:56.014Z"
   },
   {
    "duration": 24,
    "start_time": "2022-06-08T13:09:56.324Z"
   },
   {
    "duration": 1129,
    "start_time": "2022-06-08T13:09:56.350Z"
   },
   {
    "duration": 25,
    "start_time": "2022-06-08T13:09:57.481Z"
   },
   {
    "duration": 48,
    "start_time": "2022-06-08T13:09:57.508Z"
   },
   {
    "duration": 40,
    "start_time": "2022-06-08T13:09:57.557Z"
   },
   {
    "duration": 66,
    "start_time": "2022-06-08T13:09:57.599Z"
   },
   {
    "duration": 26,
    "start_time": "2022-06-08T13:09:57.667Z"
   },
   {
    "duration": 48,
    "start_time": "2022-06-08T13:09:57.695Z"
   },
   {
    "duration": 13,
    "start_time": "2022-06-08T13:09:57.745Z"
   },
   {
    "duration": 25,
    "start_time": "2022-06-08T13:09:57.760Z"
   },
   {
    "duration": 1361,
    "start_time": "2022-06-08T18:04:09.704Z"
   },
   {
    "duration": 98,
    "start_time": "2022-06-08T18:04:11.067Z"
   },
   {
    "duration": 18,
    "start_time": "2022-06-08T18:04:11.167Z"
   },
   {
    "duration": 46,
    "start_time": "2022-06-08T18:04:11.187Z"
   },
   {
    "duration": 26,
    "start_time": "2022-06-08T18:04:11.235Z"
   },
   {
    "duration": 35,
    "start_time": "2022-06-08T18:04:11.263Z"
   },
   {
    "duration": 76,
    "start_time": "2022-06-08T18:04:11.300Z"
   },
   {
    "duration": 21,
    "start_time": "2022-06-08T18:04:11.379Z"
   },
   {
    "duration": 64,
    "start_time": "2022-06-08T18:04:11.405Z"
   },
   {
    "duration": 16,
    "start_time": "2022-06-08T18:04:11.472Z"
   },
   {
    "duration": 25,
    "start_time": "2022-06-08T18:04:11.489Z"
   },
   {
    "duration": 26,
    "start_time": "2022-06-08T18:04:11.516Z"
   },
   {
    "duration": 10,
    "start_time": "2022-06-08T18:04:11.544Z"
   },
   {
    "duration": 49,
    "start_time": "2022-06-08T18:04:11.555Z"
   },
   {
    "duration": 26,
    "start_time": "2022-06-08T18:04:11.606Z"
   },
   {
    "duration": 20,
    "start_time": "2022-06-08T18:04:11.634Z"
   },
   {
    "duration": 22,
    "start_time": "2022-06-08T18:04:11.656Z"
   },
   {
    "duration": 22,
    "start_time": "2022-06-08T18:04:11.680Z"
   },
   {
    "duration": 18,
    "start_time": "2022-06-08T18:04:11.703Z"
   },
   {
    "duration": 27,
    "start_time": "2022-06-08T18:04:11.723Z"
   },
   {
    "duration": 24,
    "start_time": "2022-06-08T18:04:11.752Z"
   },
   {
    "duration": 24,
    "start_time": "2022-06-08T18:04:11.777Z"
   },
   {
    "duration": 10,
    "start_time": "2022-06-08T18:04:11.804Z"
   },
   {
    "duration": 111,
    "start_time": "2022-06-08T18:04:11.816Z"
   },
   {
    "duration": 185,
    "start_time": "2022-06-08T18:04:11.928Z"
   },
   {
    "duration": 26,
    "start_time": "2022-06-08T18:04:12.115Z"
   },
   {
    "duration": 473,
    "start_time": "2022-06-08T18:04:12.143Z"
   },
   {
    "duration": 10,
    "start_time": "2022-06-08T18:04:12.619Z"
   },
   {
    "duration": 419,
    "start_time": "2022-06-08T18:04:12.631Z"
   },
   {
    "duration": 347,
    "start_time": "2022-06-08T18:04:13.052Z"
   },
   {
    "duration": 299,
    "start_time": "2022-06-08T18:04:13.401Z"
   },
   {
    "duration": 341,
    "start_time": "2022-06-08T18:04:13.702Z"
   },
   {
    "duration": 706,
    "start_time": "2022-06-08T18:04:14.044Z"
   },
   {
    "duration": 18,
    "start_time": "2022-06-08T18:04:14.752Z"
   },
   {
    "duration": 1648,
    "start_time": "2022-06-08T18:04:14.827Z"
   },
   {
    "duration": 22,
    "start_time": "2022-06-08T18:04:16.476Z"
   },
   {
    "duration": 42,
    "start_time": "2022-06-08T18:04:16.500Z"
   },
   {
    "duration": 27,
    "start_time": "2022-06-08T18:04:16.543Z"
   },
   {
    "duration": 55,
    "start_time": "2022-06-08T18:04:16.572Z"
   },
   {
    "duration": 12,
    "start_time": "2022-06-08T18:04:16.628Z"
   },
   {
    "duration": 25,
    "start_time": "2022-06-08T18:04:16.642Z"
   },
   {
    "duration": 12,
    "start_time": "2022-06-08T18:04:16.669Z"
   },
   {
    "duration": 68,
    "start_time": "2022-06-08T18:04:16.683Z"
   },
   {
    "duration": 1068,
    "start_time": "2022-06-08T18:09:40.146Z"
   },
   {
    "duration": 55,
    "start_time": "2022-06-08T18:09:41.217Z"
   },
   {
    "duration": 19,
    "start_time": "2022-06-08T18:09:41.274Z"
   },
   {
    "duration": 17,
    "start_time": "2022-06-08T18:09:41.296Z"
   },
   {
    "duration": 6,
    "start_time": "2022-06-08T18:09:41.315Z"
   },
   {
    "duration": 39,
    "start_time": "2022-06-08T18:09:41.323Z"
   },
   {
    "duration": 35,
    "start_time": "2022-06-08T18:09:41.365Z"
   },
   {
    "duration": 11,
    "start_time": "2022-06-08T18:09:41.403Z"
   },
   {
    "duration": 31,
    "start_time": "2022-06-08T18:09:41.416Z"
   },
   {
    "duration": 20,
    "start_time": "2022-06-08T18:09:41.449Z"
   },
   {
    "duration": 16,
    "start_time": "2022-06-08T18:09:41.470Z"
   },
   {
    "duration": 35,
    "start_time": "2022-06-08T18:09:41.488Z"
   },
   {
    "duration": 11,
    "start_time": "2022-06-08T18:09:41.525Z"
   },
   {
    "duration": 15,
    "start_time": "2022-06-08T18:09:41.538Z"
   },
   {
    "duration": 17,
    "start_time": "2022-06-08T18:09:41.554Z"
   },
   {
    "duration": 16,
    "start_time": "2022-06-08T18:09:41.575Z"
   },
   {
    "duration": 39,
    "start_time": "2022-06-08T18:09:41.594Z"
   },
   {
    "duration": 5,
    "start_time": "2022-06-08T18:09:41.634Z"
   },
   {
    "duration": 13,
    "start_time": "2022-06-08T18:09:41.641Z"
   },
   {
    "duration": 9,
    "start_time": "2022-06-08T18:09:41.656Z"
   },
   {
    "duration": 28,
    "start_time": "2022-06-08T18:09:41.667Z"
   },
   {
    "duration": 21,
    "start_time": "2022-06-08T18:09:41.697Z"
   },
   {
    "duration": 10,
    "start_time": "2022-06-08T18:09:41.720Z"
   },
   {
    "duration": 61,
    "start_time": "2022-06-08T18:09:41.731Z"
   },
   {
    "duration": 197,
    "start_time": "2022-06-08T18:09:41.794Z"
   },
   {
    "duration": 33,
    "start_time": "2022-06-08T18:09:41.993Z"
   },
   {
    "duration": 423,
    "start_time": "2022-06-08T18:09:42.028Z"
   },
   {
    "duration": 7,
    "start_time": "2022-06-08T18:09:42.455Z"
   },
   {
    "duration": 452,
    "start_time": "2022-06-08T18:09:42.464Z"
   },
   {
    "duration": 538,
    "start_time": "2022-06-08T18:09:42.918Z"
   },
   {
    "duration": 481,
    "start_time": "2022-06-08T18:09:43.458Z"
   },
   {
    "duration": 398,
    "start_time": "2022-06-08T18:09:43.941Z"
   },
   {
    "duration": 700,
    "start_time": "2022-06-08T18:09:44.341Z"
   },
   {
    "duration": 14,
    "start_time": "2022-06-08T18:09:45.044Z"
   },
   {
    "duration": 1157,
    "start_time": "2022-06-08T18:09:45.060Z"
   },
   {
    "duration": 33,
    "start_time": "2022-06-08T18:09:46.220Z"
   },
   {
    "duration": 30,
    "start_time": "2022-06-08T18:09:46.255Z"
   },
   {
    "duration": 54,
    "start_time": "2022-06-08T18:09:46.286Z"
   },
   {
    "duration": 34,
    "start_time": "2022-06-08T18:09:46.341Z"
   },
   {
    "duration": 15,
    "start_time": "2022-06-08T18:09:46.377Z"
   },
   {
    "duration": 51,
    "start_time": "2022-06-08T18:09:46.394Z"
   },
   {
    "duration": 16,
    "start_time": "2022-06-08T18:09:46.447Z"
   },
   {
    "duration": 25,
    "start_time": "2022-06-08T18:09:46.465Z"
   },
   {
    "duration": 1183,
    "start_time": "2022-06-08T18:12:13.818Z"
   },
   {
    "duration": 64,
    "start_time": "2022-06-08T18:12:15.003Z"
   },
   {
    "duration": 18,
    "start_time": "2022-06-08T18:12:15.069Z"
   },
   {
    "duration": 26,
    "start_time": "2022-06-08T18:12:15.089Z"
   },
   {
    "duration": 5,
    "start_time": "2022-06-08T18:12:15.117Z"
   },
   {
    "duration": 26,
    "start_time": "2022-06-08T18:12:15.124Z"
   },
   {
    "duration": 32,
    "start_time": "2022-06-08T18:12:15.152Z"
   },
   {
    "duration": 9,
    "start_time": "2022-06-08T18:12:15.186Z"
   },
   {
    "duration": 21,
    "start_time": "2022-06-08T18:12:15.197Z"
   },
   {
    "duration": 12,
    "start_time": "2022-06-08T18:12:15.221Z"
   },
   {
    "duration": 18,
    "start_time": "2022-06-08T18:12:15.235Z"
   },
   {
    "duration": 18,
    "start_time": "2022-06-08T18:12:15.255Z"
   },
   {
    "duration": 12,
    "start_time": "2022-06-08T18:12:15.274Z"
   },
   {
    "duration": 18,
    "start_time": "2022-06-08T18:12:15.288Z"
   },
   {
    "duration": 25,
    "start_time": "2022-06-08T18:12:15.307Z"
   },
   {
    "duration": 18,
    "start_time": "2022-06-08T18:12:15.336Z"
   },
   {
    "duration": 13,
    "start_time": "2022-06-08T18:12:15.356Z"
   },
   {
    "duration": 7,
    "start_time": "2022-06-08T18:12:15.370Z"
   },
   {
    "duration": 11,
    "start_time": "2022-06-08T18:12:15.378Z"
   },
   {
    "duration": 25,
    "start_time": "2022-06-08T18:12:15.391Z"
   },
   {
    "duration": 32,
    "start_time": "2022-06-08T18:12:15.418Z"
   },
   {
    "duration": 19,
    "start_time": "2022-06-08T18:12:15.452Z"
   },
   {
    "duration": 4,
    "start_time": "2022-06-08T18:12:15.473Z"
   },
   {
    "duration": 73,
    "start_time": "2022-06-08T18:12:15.478Z"
   },
   {
    "duration": 190,
    "start_time": "2022-06-08T18:12:15.553Z"
   },
   {
    "duration": 17,
    "start_time": "2022-06-08T18:12:15.745Z"
   },
   {
    "duration": 428,
    "start_time": "2022-06-08T18:12:15.764Z"
   },
   {
    "duration": 10,
    "start_time": "2022-06-08T18:12:16.199Z"
   },
   {
    "duration": 446,
    "start_time": "2022-06-08T18:12:16.211Z"
   },
   {
    "duration": 371,
    "start_time": "2022-06-08T18:12:16.659Z"
   },
   {
    "duration": 284,
    "start_time": "2022-06-08T18:12:17.033Z"
   },
   {
    "duration": 202,
    "start_time": "2022-06-08T18:12:17.326Z"
   },
   {
    "duration": 321,
    "start_time": "2022-06-08T18:12:17.536Z"
   },
   {
    "duration": 12,
    "start_time": "2022-06-08T18:12:17.859Z"
   },
   {
    "duration": 2284,
    "start_time": "2022-06-08T18:12:17.873Z"
   },
   {
    "duration": 23,
    "start_time": "2022-06-08T18:12:20.159Z"
   },
   {
    "duration": 57,
    "start_time": "2022-06-08T18:12:20.184Z"
   },
   {
    "duration": 28,
    "start_time": "2022-06-08T18:12:20.242Z"
   },
   {
    "duration": 31,
    "start_time": "2022-06-08T18:12:20.272Z"
   },
   {
    "duration": 21,
    "start_time": "2022-06-08T18:12:20.328Z"
   },
   {
    "duration": 25,
    "start_time": "2022-06-08T18:12:20.351Z"
   },
   {
    "duration": 13,
    "start_time": "2022-06-08T18:12:20.378Z"
   },
   {
    "duration": 64,
    "start_time": "2022-06-08T18:12:20.392Z"
   },
   {
    "duration": 140,
    "start_time": "2022-06-08T18:15:52.546Z"
   },
   {
    "duration": 475,
    "start_time": "2022-06-08T18:25:26.066Z"
   },
   {
    "duration": 447,
    "start_time": "2022-06-08T18:25:55.857Z"
   },
   {
    "duration": 1124,
    "start_time": "2022-06-08T18:33:17.684Z"
   },
   {
    "duration": 59,
    "start_time": "2022-06-08T18:33:18.810Z"
   },
   {
    "duration": 27,
    "start_time": "2022-06-08T18:33:18.871Z"
   },
   {
    "duration": 20,
    "start_time": "2022-06-08T18:33:18.900Z"
   },
   {
    "duration": 17,
    "start_time": "2022-06-08T18:33:18.922Z"
   },
   {
    "duration": 15,
    "start_time": "2022-06-08T18:33:18.941Z"
   },
   {
    "duration": 30,
    "start_time": "2022-06-08T18:33:18.958Z"
   },
   {
    "duration": 8,
    "start_time": "2022-06-08T18:33:18.990Z"
   },
   {
    "duration": 38,
    "start_time": "2022-06-08T18:33:19.000Z"
   },
   {
    "duration": 6,
    "start_time": "2022-06-08T18:33:19.043Z"
   },
   {
    "duration": 13,
    "start_time": "2022-06-08T18:33:19.050Z"
   },
   {
    "duration": 23,
    "start_time": "2022-06-08T18:33:19.065Z"
   },
   {
    "duration": 10,
    "start_time": "2022-06-08T18:33:19.089Z"
   },
   {
    "duration": 37,
    "start_time": "2022-06-08T18:33:19.101Z"
   },
   {
    "duration": 16,
    "start_time": "2022-06-08T18:33:19.140Z"
   },
   {
    "duration": 14,
    "start_time": "2022-06-08T18:33:19.158Z"
   },
   {
    "duration": 17,
    "start_time": "2022-06-08T18:33:19.173Z"
   },
   {
    "duration": 5,
    "start_time": "2022-06-08T18:33:19.192Z"
   },
   {
    "duration": 15,
    "start_time": "2022-06-08T18:33:19.198Z"
   },
   {
    "duration": 26,
    "start_time": "2022-06-08T18:33:19.215Z"
   },
   {
    "duration": 13,
    "start_time": "2022-06-08T18:33:19.242Z"
   },
   {
    "duration": 16,
    "start_time": "2022-06-08T18:33:19.257Z"
   },
   {
    "duration": 5,
    "start_time": "2022-06-08T18:33:19.275Z"
   },
   {
    "duration": 85,
    "start_time": "2022-06-08T18:33:19.282Z"
   },
   {
    "duration": 194,
    "start_time": "2022-06-08T18:33:19.368Z"
   },
   {
    "duration": 18,
    "start_time": "2022-06-08T18:33:19.564Z"
   },
   {
    "duration": 498,
    "start_time": "2022-06-08T18:33:19.584Z"
   },
   {
    "duration": 6,
    "start_time": "2022-06-08T18:33:20.085Z"
   },
   {
    "duration": 377,
    "start_time": "2022-06-08T18:33:20.092Z"
   },
   {
    "duration": 400,
    "start_time": "2022-06-08T18:33:20.471Z"
   },
   {
    "duration": 304,
    "start_time": "2022-06-08T18:33:20.873Z"
   },
   {
    "duration": 175,
    "start_time": "2022-06-08T18:33:21.179Z"
   },
   {
    "duration": 286,
    "start_time": "2022-06-08T18:33:21.356Z"
   },
   {
    "duration": 12,
    "start_time": "2022-06-08T18:33:21.644Z"
   },
   {
    "duration": 897,
    "start_time": "2022-06-08T18:33:21.658Z"
   },
   {
    "duration": 21,
    "start_time": "2022-06-08T18:33:22.556Z"
   },
   {
    "duration": 29,
    "start_time": "2022-06-08T18:33:22.579Z"
   },
   {
    "duration": 54,
    "start_time": "2022-06-08T18:33:22.609Z"
   },
   {
    "duration": 27,
    "start_time": "2022-06-08T18:33:22.664Z"
   },
   {
    "duration": 19,
    "start_time": "2022-06-08T18:33:22.692Z"
   },
   {
    "duration": 33,
    "start_time": "2022-06-08T18:33:22.730Z"
   },
   {
    "duration": 17,
    "start_time": "2022-06-08T18:33:22.765Z"
   },
   {
    "duration": 62,
    "start_time": "2022-06-08T18:33:22.784Z"
   },
   {
    "duration": 298,
    "start_time": "2022-06-08T18:36:34.617Z"
   },
   {
    "duration": 167,
    "start_time": "2022-06-08T18:40:59.816Z"
   },
   {
    "duration": 169,
    "start_time": "2022-06-08T18:44:25.091Z"
   },
   {
    "duration": 173,
    "start_time": "2022-06-08T18:45:00.072Z"
   },
   {
    "duration": 173,
    "start_time": "2022-06-08T18:45:03.759Z"
   },
   {
    "duration": 1567,
    "start_time": "2022-06-09T12:08:46.474Z"
   },
   {
    "duration": 100,
    "start_time": "2022-06-09T12:08:48.043Z"
   },
   {
    "duration": 19,
    "start_time": "2022-06-09T12:08:48.145Z"
   },
   {
    "duration": 28,
    "start_time": "2022-06-09T12:08:48.166Z"
   },
   {
    "duration": 18,
    "start_time": "2022-06-09T12:08:48.196Z"
   },
   {
    "duration": 24,
    "start_time": "2022-06-09T12:08:48.215Z"
   },
   {
    "duration": 49,
    "start_time": "2022-06-09T12:08:48.241Z"
   },
   {
    "duration": 13,
    "start_time": "2022-06-09T12:08:48.293Z"
   },
   {
    "duration": 30,
    "start_time": "2022-06-09T12:08:48.309Z"
   },
   {
    "duration": 12,
    "start_time": "2022-06-09T12:08:48.342Z"
   },
   {
    "duration": 23,
    "start_time": "2022-06-09T12:08:48.359Z"
   },
   {
    "duration": 24,
    "start_time": "2022-06-09T12:08:48.384Z"
   },
   {
    "duration": 15,
    "start_time": "2022-06-09T12:08:48.409Z"
   },
   {
    "duration": 13,
    "start_time": "2022-06-09T12:08:48.426Z"
   },
   {
    "duration": 22,
    "start_time": "2022-06-09T12:08:48.441Z"
   },
   {
    "duration": 8,
    "start_time": "2022-06-09T12:08:48.466Z"
   },
   {
    "duration": 6,
    "start_time": "2022-06-09T12:08:48.476Z"
   },
   {
    "duration": 24,
    "start_time": "2022-06-09T12:08:48.484Z"
   },
   {
    "duration": 6,
    "start_time": "2022-06-09T12:08:48.510Z"
   },
   {
    "duration": 20,
    "start_time": "2022-06-09T12:08:48.518Z"
   },
   {
    "duration": 29,
    "start_time": "2022-06-09T12:08:48.540Z"
   },
   {
    "duration": 6,
    "start_time": "2022-06-09T12:08:48.570Z"
   },
   {
    "duration": 14,
    "start_time": "2022-06-09T12:08:48.578Z"
   },
   {
    "duration": 5,
    "start_time": "2022-06-09T12:08:48.593Z"
   },
   {
    "duration": 119,
    "start_time": "2022-06-09T12:08:48.601Z"
   },
   {
    "duration": 220,
    "start_time": "2022-06-09T12:08:48.723Z"
   },
   {
    "duration": 33,
    "start_time": "2022-06-09T12:08:48.945Z"
   },
   {
    "duration": 487,
    "start_time": "2022-06-09T12:08:48.983Z"
   },
   {
    "duration": 5,
    "start_time": "2022-06-09T12:08:49.472Z"
   },
   {
    "duration": 306,
    "start_time": "2022-06-09T12:08:49.479Z"
   },
   {
    "duration": 189,
    "start_time": "2022-06-09T12:08:49.788Z"
   },
   {
    "duration": 172,
    "start_time": "2022-06-09T12:08:49.979Z"
   },
   {
    "duration": 344,
    "start_time": "2022-06-09T12:08:50.153Z"
   },
   {
    "duration": 10,
    "start_time": "2022-06-09T12:08:50.499Z"
   },
   {
    "duration": 1786,
    "start_time": "2022-06-09T12:08:50.511Z"
   },
   {
    "duration": 35,
    "start_time": "2022-06-09T12:08:52.299Z"
   },
   {
    "duration": 134,
    "start_time": "2022-06-09T12:08:52.336Z"
   },
   {
    "duration": 30,
    "start_time": "2022-06-09T12:08:52.472Z"
   },
   {
    "duration": 29,
    "start_time": "2022-06-09T12:08:52.504Z"
   },
   {
    "duration": 13,
    "start_time": "2022-06-09T12:08:52.561Z"
   },
   {
    "duration": 38,
    "start_time": "2022-06-09T12:08:52.576Z"
   },
   {
    "duration": 15,
    "start_time": "2022-06-09T12:08:52.616Z"
   },
   {
    "duration": 48,
    "start_time": "2022-06-09T12:08:52.633Z"
   },
   {
    "duration": 6,
    "start_time": "2022-06-09T12:10:12.918Z"
   },
   {
    "duration": 1373,
    "start_time": "2022-06-09T12:10:54.205Z"
   },
   {
    "duration": 73,
    "start_time": "2022-06-09T12:10:55.581Z"
   },
   {
    "duration": 28,
    "start_time": "2022-06-09T12:10:55.656Z"
   },
   {
    "duration": 37,
    "start_time": "2022-06-09T12:10:55.686Z"
   },
   {
    "duration": 8,
    "start_time": "2022-06-09T12:10:55.725Z"
   },
   {
    "duration": 23,
    "start_time": "2022-06-09T12:10:55.735Z"
   },
   {
    "duration": 65,
    "start_time": "2022-06-09T12:10:55.774Z"
   },
   {
    "duration": 25,
    "start_time": "2022-06-09T12:10:55.842Z"
   },
   {
    "duration": 37,
    "start_time": "2022-06-09T12:10:55.869Z"
   },
   {
    "duration": 19,
    "start_time": "2022-06-09T12:10:55.910Z"
   },
   {
    "duration": 18,
    "start_time": "2022-06-09T12:10:55.931Z"
   },
   {
    "duration": 42,
    "start_time": "2022-06-09T12:10:55.951Z"
   },
   {
    "duration": 18,
    "start_time": "2022-06-09T12:10:55.995Z"
   },
   {
    "duration": 23,
    "start_time": "2022-06-09T12:10:56.014Z"
   },
   {
    "duration": 23,
    "start_time": "2022-06-09T12:10:56.040Z"
   },
   {
    "duration": 27,
    "start_time": "2022-06-09T12:10:56.068Z"
   },
   {
    "duration": 12,
    "start_time": "2022-06-09T12:10:56.097Z"
   },
   {
    "duration": 16,
    "start_time": "2022-06-09T12:10:56.111Z"
   },
   {
    "duration": 9,
    "start_time": "2022-06-09T12:10:56.129Z"
   },
   {
    "duration": 21,
    "start_time": "2022-06-09T12:10:56.140Z"
   },
   {
    "duration": 15,
    "start_time": "2022-06-09T12:10:56.163Z"
   },
   {
    "duration": 31,
    "start_time": "2022-06-09T12:10:56.183Z"
   },
   {
    "duration": 7,
    "start_time": "2022-06-09T12:10:56.216Z"
   },
   {
    "duration": 160,
    "start_time": "2022-06-09T12:10:56.225Z"
   },
   {
    "duration": 212,
    "start_time": "2022-06-09T12:10:56.387Z"
   },
   {
    "duration": 27,
    "start_time": "2022-06-09T12:10:56.601Z"
   },
   {
    "duration": 493,
    "start_time": "2022-06-09T12:10:56.630Z"
   },
   {
    "duration": 7,
    "start_time": "2022-06-09T12:10:57.126Z"
   },
   {
    "duration": 422,
    "start_time": "2022-06-09T12:10:57.135Z"
   },
   {
    "duration": 257,
    "start_time": "2022-06-09T12:10:57.560Z"
   },
   {
    "duration": 196,
    "start_time": "2022-06-09T12:10:57.819Z"
   },
   {
    "duration": 326,
    "start_time": "2022-06-09T12:10:58.017Z"
   },
   {
    "duration": 28,
    "start_time": "2022-06-09T12:10:58.346Z"
   },
   {
    "duration": 821,
    "start_time": "2022-06-09T12:10:58.384Z"
   },
   {
    "duration": 23,
    "start_time": "2022-06-09T12:10:59.206Z"
   },
   {
    "duration": 164,
    "start_time": "2022-06-09T12:10:59.232Z"
   },
   {
    "duration": 40,
    "start_time": "2022-06-09T12:10:59.398Z"
   },
   {
    "duration": 56,
    "start_time": "2022-06-09T12:10:59.440Z"
   },
   {
    "duration": 17,
    "start_time": "2022-06-09T12:10:59.499Z"
   },
   {
    "duration": 80,
    "start_time": "2022-06-09T12:10:59.518Z"
   },
   {
    "duration": 82,
    "start_time": "2022-06-09T12:10:59.600Z"
   },
   {
    "duration": 33,
    "start_time": "2022-06-09T12:10:59.684Z"
   },
   {
    "duration": 1278,
    "start_time": "2022-06-09T12:12:31.767Z"
   },
   {
    "duration": 81,
    "start_time": "2022-06-09T12:12:33.048Z"
   },
   {
    "duration": 24,
    "start_time": "2022-06-09T12:12:33.131Z"
   },
   {
    "duration": 40,
    "start_time": "2022-06-09T12:12:33.158Z"
   },
   {
    "duration": 18,
    "start_time": "2022-06-09T12:12:33.200Z"
   },
   {
    "duration": 20,
    "start_time": "2022-06-09T12:12:33.221Z"
   },
   {
    "duration": 47,
    "start_time": "2022-06-09T12:12:33.243Z"
   },
   {
    "duration": 26,
    "start_time": "2022-06-09T12:12:33.292Z"
   },
   {
    "duration": 26,
    "start_time": "2022-06-09T12:12:33.320Z"
   },
   {
    "duration": 6,
    "start_time": "2022-06-09T12:12:33.350Z"
   },
   {
    "duration": 46,
    "start_time": "2022-06-09T12:12:33.360Z"
   },
   {
    "duration": 22,
    "start_time": "2022-06-09T12:12:33.408Z"
   },
   {
    "duration": 15,
    "start_time": "2022-06-09T12:12:33.432Z"
   },
   {
    "duration": 19,
    "start_time": "2022-06-09T12:12:33.450Z"
   },
   {
    "duration": 25,
    "start_time": "2022-06-09T12:12:33.471Z"
   },
   {
    "duration": 15,
    "start_time": "2022-06-09T12:12:33.498Z"
   },
   {
    "duration": 3,
    "start_time": "2022-06-09T12:12:33.515Z"
   },
   {
    "duration": 10,
    "start_time": "2022-06-09T12:12:33.520Z"
   },
   {
    "duration": 7,
    "start_time": "2022-06-09T12:12:33.531Z"
   },
   {
    "duration": 20,
    "start_time": "2022-06-09T12:12:33.540Z"
   },
   {
    "duration": 6,
    "start_time": "2022-06-09T12:12:33.562Z"
   },
   {
    "duration": 21,
    "start_time": "2022-06-09T12:12:33.574Z"
   },
   {
    "duration": 5,
    "start_time": "2022-06-09T12:12:33.597Z"
   },
   {
    "duration": 102,
    "start_time": "2022-06-09T12:12:33.603Z"
   },
   {
    "duration": 209,
    "start_time": "2022-06-09T12:12:33.707Z"
   },
   {
    "duration": 19,
    "start_time": "2022-06-09T12:12:33.918Z"
   },
   {
    "duration": 464,
    "start_time": "2022-06-09T12:12:33.939Z"
   },
   {
    "duration": 6,
    "start_time": "2022-06-09T12:12:34.407Z"
   },
   {
    "duration": 584,
    "start_time": "2022-06-09T12:12:34.414Z"
   },
   {
    "duration": 473,
    "start_time": "2022-06-09T12:12:35.002Z"
   },
   {
    "duration": 418,
    "start_time": "2022-06-09T12:12:35.482Z"
   },
   {
    "duration": 785,
    "start_time": "2022-06-09T12:12:35.906Z"
   },
   {
    "duration": 16,
    "start_time": "2022-06-09T12:12:36.695Z"
   },
   {
    "duration": 1052,
    "start_time": "2022-06-09T12:12:36.774Z"
   },
   {
    "duration": 33,
    "start_time": "2022-06-09T12:12:37.828Z"
   },
   {
    "duration": 135,
    "start_time": "2022-06-09T12:12:37.870Z"
   },
   {
    "duration": 25,
    "start_time": "2022-06-09T12:12:38.007Z"
   },
   {
    "duration": 65,
    "start_time": "2022-06-09T12:12:38.034Z"
   },
   {
    "duration": 11,
    "start_time": "2022-06-09T12:12:38.101Z"
   },
   {
    "duration": 26,
    "start_time": "2022-06-09T12:12:38.113Z"
   },
   {
    "duration": 27,
    "start_time": "2022-06-09T12:12:38.163Z"
   },
   {
    "duration": 35,
    "start_time": "2022-06-09T12:12:38.195Z"
   },
   {
    "duration": 1215,
    "start_time": "2022-06-09T12:13:22.134Z"
   },
   {
    "duration": 74,
    "start_time": "2022-06-09T12:13:23.351Z"
   },
   {
    "duration": 21,
    "start_time": "2022-06-09T12:13:23.428Z"
   },
   {
    "duration": 33,
    "start_time": "2022-06-09T12:13:23.451Z"
   },
   {
    "duration": 18,
    "start_time": "2022-06-09T12:13:23.486Z"
   },
   {
    "duration": 16,
    "start_time": "2022-06-09T12:13:23.506Z"
   },
   {
    "duration": 42,
    "start_time": "2022-06-09T12:13:23.524Z"
   },
   {
    "duration": 10,
    "start_time": "2022-06-09T12:13:23.570Z"
   },
   {
    "duration": 31,
    "start_time": "2022-06-09T12:13:23.585Z"
   },
   {
    "duration": 4,
    "start_time": "2022-06-09T12:13:23.619Z"
   },
   {
    "duration": 14,
    "start_time": "2022-06-09T12:13:23.625Z"
   },
   {
    "duration": 24,
    "start_time": "2022-06-09T12:13:23.641Z"
   },
   {
    "duration": 16,
    "start_time": "2022-06-09T12:13:23.667Z"
   },
   {
    "duration": 31,
    "start_time": "2022-06-09T12:13:23.685Z"
   },
   {
    "duration": 11,
    "start_time": "2022-06-09T12:13:23.718Z"
   },
   {
    "duration": 12,
    "start_time": "2022-06-09T12:13:23.730Z"
   },
   {
    "duration": 4,
    "start_time": "2022-06-09T12:13:23.744Z"
   },
   {
    "duration": 50,
    "start_time": "2022-06-09T12:13:23.750Z"
   },
   {
    "duration": 7,
    "start_time": "2022-06-09T12:13:23.801Z"
   },
   {
    "duration": 10,
    "start_time": "2022-06-09T12:13:23.810Z"
   },
   {
    "duration": 7,
    "start_time": "2022-06-09T12:13:23.822Z"
   },
   {
    "duration": 19,
    "start_time": "2022-06-09T12:13:23.830Z"
   },
   {
    "duration": 4,
    "start_time": "2022-06-09T12:13:23.851Z"
   },
   {
    "duration": 112,
    "start_time": "2022-06-09T12:13:23.857Z"
   },
   {
    "duration": 176,
    "start_time": "2022-06-09T12:13:23.983Z"
   },
   {
    "duration": 30,
    "start_time": "2022-06-09T12:13:24.161Z"
   },
   {
    "duration": 448,
    "start_time": "2022-06-09T12:13:24.194Z"
   },
   {
    "duration": 16,
    "start_time": "2022-06-09T12:13:24.645Z"
   },
   {
    "duration": 599,
    "start_time": "2022-06-09T12:13:24.667Z"
   },
   {
    "duration": 433,
    "start_time": "2022-06-09T12:13:25.268Z"
   },
   {
    "duration": 483,
    "start_time": "2022-06-09T12:13:25.709Z"
   },
   {
    "duration": 680,
    "start_time": "2022-06-09T12:13:26.194Z"
   },
   {
    "duration": 25,
    "start_time": "2022-06-09T12:13:26.876Z"
   },
   {
    "duration": 1790,
    "start_time": "2022-06-09T12:13:26.902Z"
   },
   {
    "duration": 91,
    "start_time": "2022-06-09T12:13:28.694Z"
   },
   {
    "duration": 282,
    "start_time": "2022-06-09T12:13:28.790Z"
   },
   {
    "duration": 33,
    "start_time": "2022-06-09T12:13:29.074Z"
   },
   {
    "duration": 36,
    "start_time": "2022-06-09T12:13:29.159Z"
   },
   {
    "duration": 70,
    "start_time": "2022-06-09T12:13:29.197Z"
   },
   {
    "duration": 92,
    "start_time": "2022-06-09T12:13:29.269Z"
   },
   {
    "duration": 16,
    "start_time": "2022-06-09T12:13:29.363Z"
   },
   {
    "duration": 39,
    "start_time": "2022-06-09T12:13:29.381Z"
   },
   {
    "duration": 1150,
    "start_time": "2022-06-09T12:14:13.793Z"
   },
   {
    "duration": 89,
    "start_time": "2022-06-09T12:14:14.945Z"
   },
   {
    "duration": 22,
    "start_time": "2022-06-09T12:14:15.036Z"
   },
   {
    "duration": 51,
    "start_time": "2022-06-09T12:14:15.071Z"
   },
   {
    "duration": 5,
    "start_time": "2022-06-09T12:14:15.124Z"
   },
   {
    "duration": 13,
    "start_time": "2022-06-09T12:14:15.130Z"
   },
   {
    "duration": 54,
    "start_time": "2022-06-09T12:14:15.145Z"
   },
   {
    "duration": 9,
    "start_time": "2022-06-09T12:14:15.201Z"
   },
   {
    "duration": 28,
    "start_time": "2022-06-09T12:14:15.212Z"
   },
   {
    "duration": 5,
    "start_time": "2022-06-09T12:14:15.244Z"
   },
   {
    "duration": 45,
    "start_time": "2022-06-09T12:14:15.251Z"
   },
   {
    "duration": 24,
    "start_time": "2022-06-09T12:14:15.298Z"
   },
   {
    "duration": 14,
    "start_time": "2022-06-09T12:14:15.324Z"
   },
   {
    "duration": 16,
    "start_time": "2022-06-09T12:14:15.339Z"
   },
   {
    "duration": 46,
    "start_time": "2022-06-09T12:14:15.357Z"
   },
   {
    "duration": 14,
    "start_time": "2022-06-09T12:14:15.405Z"
   },
   {
    "duration": 7,
    "start_time": "2022-06-09T12:14:15.421Z"
   },
   {
    "duration": 21,
    "start_time": "2022-06-09T12:14:15.429Z"
   },
   {
    "duration": 19,
    "start_time": "2022-06-09T12:14:15.451Z"
   },
   {
    "duration": 33,
    "start_time": "2022-06-09T12:14:15.474Z"
   },
   {
    "duration": 11,
    "start_time": "2022-06-09T12:14:15.509Z"
   },
   {
    "duration": 21,
    "start_time": "2022-06-09T12:14:15.523Z"
   },
   {
    "duration": 5,
    "start_time": "2022-06-09T12:14:15.545Z"
   },
   {
    "duration": 115,
    "start_time": "2022-06-09T12:14:15.552Z"
   },
   {
    "duration": 229,
    "start_time": "2022-06-09T12:14:15.669Z"
   },
   {
    "duration": 20,
    "start_time": "2022-06-09T12:14:15.900Z"
   },
   {
    "duration": 489,
    "start_time": "2022-06-09T12:14:15.921Z"
   },
   {
    "duration": 6,
    "start_time": "2022-06-09T12:14:16.414Z"
   },
   {
    "duration": 414,
    "start_time": "2022-06-09T12:14:16.422Z"
   },
   {
    "duration": 175,
    "start_time": "2022-06-09T12:14:16.838Z"
   },
   {
    "duration": 194,
    "start_time": "2022-06-09T12:14:17.014Z"
   },
   {
    "duration": 365,
    "start_time": "2022-06-09T12:14:17.210Z"
   },
   {
    "duration": 19,
    "start_time": "2022-06-09T12:14:17.579Z"
   },
   {
    "duration": 966,
    "start_time": "2022-06-09T12:14:17.600Z"
   },
   {
    "duration": 32,
    "start_time": "2022-06-09T12:14:18.568Z"
   },
   {
    "duration": 308,
    "start_time": "2022-06-09T12:14:18.602Z"
   },
   {
    "duration": 98,
    "start_time": "2022-06-09T12:14:18.912Z"
   },
   {
    "duration": 78,
    "start_time": "2022-06-09T12:14:19.012Z"
   },
   {
    "duration": 13,
    "start_time": "2022-06-09T12:14:19.092Z"
   },
   {
    "duration": 95,
    "start_time": "2022-06-09T12:14:19.107Z"
   },
   {
    "duration": 59,
    "start_time": "2022-06-09T12:14:19.203Z"
   },
   {
    "duration": 27,
    "start_time": "2022-06-09T12:14:19.264Z"
   },
   {
    "duration": 1123,
    "start_time": "2022-06-09T12:15:49.207Z"
   },
   {
    "duration": 53,
    "start_time": "2022-06-09T12:15:50.332Z"
   },
   {
    "duration": 23,
    "start_time": "2022-06-09T12:15:50.389Z"
   },
   {
    "duration": 15,
    "start_time": "2022-06-09T12:15:50.414Z"
   },
   {
    "duration": 4,
    "start_time": "2022-06-09T12:15:50.432Z"
   },
   {
    "duration": 32,
    "start_time": "2022-06-09T12:15:50.438Z"
   },
   {
    "duration": 44,
    "start_time": "2022-06-09T12:15:50.472Z"
   },
   {
    "duration": 10,
    "start_time": "2022-06-09T12:15:50.519Z"
   },
   {
    "duration": 38,
    "start_time": "2022-06-09T12:15:50.532Z"
   },
   {
    "duration": 7,
    "start_time": "2022-06-09T12:15:50.573Z"
   },
   {
    "duration": 14,
    "start_time": "2022-06-09T12:15:50.583Z"
   },
   {
    "duration": 20,
    "start_time": "2022-06-09T12:15:50.599Z"
   },
   {
    "duration": 10,
    "start_time": "2022-06-09T12:15:50.621Z"
   },
   {
    "duration": 22,
    "start_time": "2022-06-09T12:15:50.658Z"
   },
   {
    "duration": 19,
    "start_time": "2022-06-09T12:15:50.682Z"
   },
   {
    "duration": 11,
    "start_time": "2022-06-09T12:15:50.702Z"
   },
   {
    "duration": 4,
    "start_time": "2022-06-09T12:15:50.715Z"
   },
   {
    "duration": 14,
    "start_time": "2022-06-09T12:15:50.721Z"
   },
   {
    "duration": 32,
    "start_time": "2022-06-09T12:15:50.736Z"
   },
   {
    "duration": 13,
    "start_time": "2022-06-09T12:15:50.770Z"
   },
   {
    "duration": 16,
    "start_time": "2022-06-09T12:15:50.785Z"
   },
   {
    "duration": 20,
    "start_time": "2022-06-09T12:15:50.803Z"
   },
   {
    "duration": 8,
    "start_time": "2022-06-09T12:15:50.825Z"
   },
   {
    "duration": 91,
    "start_time": "2022-06-09T12:15:50.834Z"
   },
   {
    "duration": 194,
    "start_time": "2022-06-09T12:15:50.927Z"
   },
   {
    "duration": 18,
    "start_time": "2022-06-09T12:15:51.122Z"
   },
   {
    "duration": 488,
    "start_time": "2022-06-09T12:15:51.141Z"
   },
   {
    "duration": 6,
    "start_time": "2022-06-09T12:15:51.631Z"
   },
   {
    "duration": 375,
    "start_time": "2022-06-09T12:15:51.639Z"
   },
   {
    "duration": 194,
    "start_time": "2022-06-09T12:15:52.015Z"
   },
   {
    "duration": 183,
    "start_time": "2022-06-09T12:15:52.210Z"
   },
   {
    "duration": 306,
    "start_time": "2022-06-09T12:15:52.395Z"
   },
   {
    "duration": 11,
    "start_time": "2022-06-09T12:15:52.703Z"
   },
   {
    "duration": 798,
    "start_time": "2022-06-09T12:15:52.717Z"
   },
   {
    "duration": 19,
    "start_time": "2022-06-09T12:15:53.517Z"
   },
   {
    "duration": 158,
    "start_time": "2022-06-09T12:15:53.538Z"
   },
   {
    "duration": 28,
    "start_time": "2022-06-09T12:15:53.698Z"
   },
   {
    "duration": 47,
    "start_time": "2022-06-09T12:15:53.728Z"
   },
   {
    "duration": 18,
    "start_time": "2022-06-09T12:15:53.777Z"
   },
   {
    "duration": 25,
    "start_time": "2022-06-09T12:15:53.797Z"
   },
   {
    "duration": 20,
    "start_time": "2022-06-09T12:15:53.859Z"
   },
   {
    "duration": 29,
    "start_time": "2022-06-09T12:15:53.881Z"
   },
   {
    "duration": 19,
    "start_time": "2022-06-09T12:16:39.941Z"
   },
   {
    "duration": 1255,
    "start_time": "2022-06-09T12:17:41.720Z"
   },
   {
    "duration": 74,
    "start_time": "2022-06-09T12:17:42.998Z"
   },
   {
    "duration": 25,
    "start_time": "2022-06-09T12:17:43.074Z"
   },
   {
    "duration": 28,
    "start_time": "2022-06-09T12:17:43.101Z"
   },
   {
    "duration": 6,
    "start_time": "2022-06-09T12:17:43.131Z"
   },
   {
    "duration": 32,
    "start_time": "2022-06-09T12:17:43.138Z"
   },
   {
    "duration": 62,
    "start_time": "2022-06-09T12:17:43.172Z"
   },
   {
    "duration": 15,
    "start_time": "2022-06-09T12:17:43.236Z"
   },
   {
    "duration": 56,
    "start_time": "2022-06-09T12:17:43.253Z"
   },
   {
    "duration": 7,
    "start_time": "2022-06-09T12:17:43.313Z"
   },
   {
    "duration": 16,
    "start_time": "2022-06-09T12:17:43.322Z"
   },
   {
    "duration": 36,
    "start_time": "2022-06-09T12:17:43.340Z"
   },
   {
    "duration": 23,
    "start_time": "2022-06-09T12:17:43.379Z"
   },
   {
    "duration": 20,
    "start_time": "2022-06-09T12:17:43.404Z"
   },
   {
    "duration": 17,
    "start_time": "2022-06-09T12:17:43.425Z"
   },
   {
    "duration": 31,
    "start_time": "2022-06-09T12:17:43.444Z"
   },
   {
    "duration": 9,
    "start_time": "2022-06-09T12:17:43.479Z"
   },
   {
    "duration": 17,
    "start_time": "2022-06-09T12:17:43.490Z"
   },
   {
    "duration": 17,
    "start_time": "2022-06-09T12:17:43.509Z"
   },
   {
    "duration": 17,
    "start_time": "2022-06-09T12:17:43.528Z"
   },
   {
    "duration": 14,
    "start_time": "2022-06-09T12:17:43.547Z"
   },
   {
    "duration": 29,
    "start_time": "2022-06-09T12:17:43.564Z"
   },
   {
    "duration": 6,
    "start_time": "2022-06-09T12:17:43.595Z"
   },
   {
    "duration": 108,
    "start_time": "2022-06-09T12:17:43.603Z"
   },
   {
    "duration": 207,
    "start_time": "2022-06-09T12:17:43.714Z"
   },
   {
    "duration": 19,
    "start_time": "2022-06-09T12:17:43.922Z"
   },
   {
    "duration": 436,
    "start_time": "2022-06-09T12:17:43.943Z"
   },
   {
    "duration": 7,
    "start_time": "2022-06-09T12:17:44.382Z"
   },
   {
    "duration": 317,
    "start_time": "2022-06-09T12:17:44.391Z"
   },
   {
    "duration": 211,
    "start_time": "2022-06-09T12:17:44.710Z"
   },
   {
    "duration": 206,
    "start_time": "2022-06-09T12:17:44.923Z"
   },
   {
    "duration": 314,
    "start_time": "2022-06-09T12:17:45.131Z"
   },
   {
    "duration": 27,
    "start_time": "2022-06-09T12:17:45.448Z"
   },
   {
    "duration": 760,
    "start_time": "2022-06-09T12:17:45.477Z"
   },
   {
    "duration": 40,
    "start_time": "2022-06-09T12:17:46.239Z"
   },
   {
    "duration": 129,
    "start_time": "2022-06-09T12:17:46.282Z"
   },
   {
    "duration": 58,
    "start_time": "2022-06-09T12:17:46.413Z"
   },
   {
    "duration": 38,
    "start_time": "2022-06-09T12:17:46.476Z"
   },
   {
    "duration": 13,
    "start_time": "2022-06-09T12:17:46.515Z"
   },
   {
    "duration": 58,
    "start_time": "2022-06-09T12:17:46.530Z"
   },
   {
    "duration": 41,
    "start_time": "2022-06-09T12:17:46.590Z"
   },
   {
    "duration": 28,
    "start_time": "2022-06-09T12:17:46.633Z"
   },
   {
    "duration": 1144,
    "start_time": "2022-06-09T12:27:28.724Z"
   },
   {
    "duration": 55,
    "start_time": "2022-06-09T12:27:29.870Z"
   },
   {
    "duration": 18,
    "start_time": "2022-06-09T12:27:29.927Z"
   },
   {
    "duration": 15,
    "start_time": "2022-06-09T12:27:29.947Z"
   },
   {
    "duration": 7,
    "start_time": "2022-06-09T12:27:29.965Z"
   },
   {
    "duration": 29,
    "start_time": "2022-06-09T12:27:29.974Z"
   },
   {
    "duration": 59,
    "start_time": "2022-06-09T12:27:30.007Z"
   },
   {
    "duration": 14,
    "start_time": "2022-06-09T12:27:30.068Z"
   },
   {
    "duration": 43,
    "start_time": "2022-06-09T12:27:30.085Z"
   },
   {
    "duration": 6,
    "start_time": "2022-06-09T12:27:30.130Z"
   },
   {
    "duration": 29,
    "start_time": "2022-06-09T12:27:30.137Z"
   },
   {
    "duration": 32,
    "start_time": "2022-06-09T12:27:30.169Z"
   },
   {
    "duration": 12,
    "start_time": "2022-06-09T12:27:30.203Z"
   },
   {
    "duration": 31,
    "start_time": "2022-06-09T12:27:30.216Z"
   },
   {
    "duration": 13,
    "start_time": "2022-06-09T12:27:30.263Z"
   },
   {
    "duration": 44,
    "start_time": "2022-06-09T12:27:30.279Z"
   },
   {
    "duration": 8,
    "start_time": "2022-06-09T12:27:30.326Z"
   },
   {
    "duration": 25,
    "start_time": "2022-06-09T12:27:30.336Z"
   },
   {
    "duration": 32,
    "start_time": "2022-06-09T12:27:30.364Z"
   },
   {
    "duration": 36,
    "start_time": "2022-06-09T12:27:30.398Z"
   },
   {
    "duration": 22,
    "start_time": "2022-06-09T12:27:30.436Z"
   },
   {
    "duration": 37,
    "start_time": "2022-06-09T12:27:30.460Z"
   },
   {
    "duration": 6,
    "start_time": "2022-06-09T12:27:30.498Z"
   },
   {
    "duration": 90,
    "start_time": "2022-06-09T12:27:30.506Z"
   },
   {
    "duration": 220,
    "start_time": "2022-06-09T12:27:30.598Z"
   },
   {
    "duration": 20,
    "start_time": "2022-06-09T12:27:30.820Z"
   },
   {
    "duration": 496,
    "start_time": "2022-06-09T12:27:30.842Z"
   },
   {
    "duration": 6,
    "start_time": "2022-06-09T12:27:31.342Z"
   },
   {
    "duration": 355,
    "start_time": "2022-06-09T12:27:31.350Z"
   },
   {
    "duration": 185,
    "start_time": "2022-06-09T12:27:31.706Z"
   },
   {
    "duration": 215,
    "start_time": "2022-06-09T12:27:31.894Z"
   },
   {
    "duration": 6,
    "start_time": "2022-06-09T12:27:32.112Z"
   },
   {
    "duration": 0,
    "start_time": "2022-06-09T12:27:32.121Z"
   },
   {
    "duration": 0,
    "start_time": "2022-06-09T12:27:32.123Z"
   },
   {
    "duration": 0,
    "start_time": "2022-06-09T12:27:32.125Z"
   },
   {
    "duration": 0,
    "start_time": "2022-06-09T12:27:32.127Z"
   },
   {
    "duration": 0,
    "start_time": "2022-06-09T12:27:32.129Z"
   },
   {
    "duration": 0,
    "start_time": "2022-06-09T12:27:32.130Z"
   },
   {
    "duration": 0,
    "start_time": "2022-06-09T12:27:32.131Z"
   },
   {
    "duration": 0,
    "start_time": "2022-06-09T12:27:32.158Z"
   },
   {
    "duration": 0,
    "start_time": "2022-06-09T12:27:32.160Z"
   },
   {
    "duration": 0,
    "start_time": "2022-06-09T12:27:32.162Z"
   },
   {
    "duration": 1158,
    "start_time": "2022-06-09T12:28:03.781Z"
   },
   {
    "duration": 55,
    "start_time": "2022-06-09T12:28:04.941Z"
   },
   {
    "duration": 17,
    "start_time": "2022-06-09T12:28:04.998Z"
   },
   {
    "duration": 14,
    "start_time": "2022-06-09T12:28:05.018Z"
   },
   {
    "duration": 5,
    "start_time": "2022-06-09T12:28:05.034Z"
   },
   {
    "duration": 25,
    "start_time": "2022-06-09T12:28:05.041Z"
   },
   {
    "duration": 37,
    "start_time": "2022-06-09T12:28:05.069Z"
   },
   {
    "duration": 8,
    "start_time": "2022-06-09T12:28:05.108Z"
   },
   {
    "duration": 19,
    "start_time": "2022-06-09T12:28:05.118Z"
   },
   {
    "duration": 8,
    "start_time": "2022-06-09T12:28:05.162Z"
   },
   {
    "duration": 21,
    "start_time": "2022-06-09T12:28:05.172Z"
   },
   {
    "duration": 18,
    "start_time": "2022-06-09T12:28:05.195Z"
   },
   {
    "duration": 15,
    "start_time": "2022-06-09T12:28:05.215Z"
   },
   {
    "duration": 37,
    "start_time": "2022-06-09T12:28:05.232Z"
   },
   {
    "duration": 20,
    "start_time": "2022-06-09T12:28:05.272Z"
   },
   {
    "duration": 18,
    "start_time": "2022-06-09T12:28:05.294Z"
   },
   {
    "duration": 9,
    "start_time": "2022-06-09T12:28:05.313Z"
   },
   {
    "duration": 13,
    "start_time": "2022-06-09T12:28:05.324Z"
   },
   {
    "duration": 24,
    "start_time": "2022-06-09T12:28:05.339Z"
   },
   {
    "duration": 18,
    "start_time": "2022-06-09T12:28:05.365Z"
   },
   {
    "duration": 11,
    "start_time": "2022-06-09T12:28:05.386Z"
   },
   {
    "duration": 24,
    "start_time": "2022-06-09T12:28:05.399Z"
   },
   {
    "duration": 5,
    "start_time": "2022-06-09T12:28:05.425Z"
   },
   {
    "duration": 106,
    "start_time": "2022-06-09T12:28:05.431Z"
   },
   {
    "duration": 188,
    "start_time": "2022-06-09T12:28:05.539Z"
   },
   {
    "duration": 18,
    "start_time": "2022-06-09T12:28:05.730Z"
   },
   {
    "duration": 474,
    "start_time": "2022-06-09T12:28:05.759Z"
   },
   {
    "duration": 6,
    "start_time": "2022-06-09T12:28:06.237Z"
   },
   {
    "duration": 384,
    "start_time": "2022-06-09T12:28:06.244Z"
   },
   {
    "duration": 199,
    "start_time": "2022-06-09T12:28:06.629Z"
   },
   {
    "duration": 205,
    "start_time": "2022-06-09T12:28:06.830Z"
   },
   {
    "duration": 427,
    "start_time": "2022-06-09T12:28:07.036Z"
   },
   {
    "duration": 21,
    "start_time": "2022-06-09T12:28:07.464Z"
   },
   {
    "duration": 873,
    "start_time": "2022-06-09T12:28:07.488Z"
   },
   {
    "duration": 33,
    "start_time": "2022-06-09T12:28:08.365Z"
   },
   {
    "duration": 28,
    "start_time": "2022-06-09T12:28:08.400Z"
   },
   {
    "duration": 67,
    "start_time": "2022-06-09T12:28:08.430Z"
   },
   {
    "duration": 32,
    "start_time": "2022-06-09T12:28:08.499Z"
   },
   {
    "duration": 45,
    "start_time": "2022-06-09T12:28:08.532Z"
   },
   {
    "duration": 37,
    "start_time": "2022-06-09T12:28:08.580Z"
   },
   {
    "duration": 44,
    "start_time": "2022-06-09T12:28:08.619Z"
   },
   {
    "duration": 37,
    "start_time": "2022-06-09T12:28:08.666Z"
   },
   {
    "duration": 13,
    "start_time": "2022-06-09T12:33:24.941Z"
   },
   {
    "duration": 794,
    "start_time": "2022-06-09T12:34:43.440Z"
   },
   {
    "duration": 1024,
    "start_time": "2022-06-09T12:34:58.369Z"
   },
   {
    "duration": 26,
    "start_time": "2022-06-09T12:38:57.106Z"
   },
   {
    "duration": 249,
    "start_time": "2022-06-09T13:17:40.194Z"
   },
   {
    "duration": 316,
    "start_time": "2022-06-09T13:18:47.119Z"
   },
   {
    "duration": 414,
    "start_time": "2022-06-09T13:18:57.102Z"
   },
   {
    "duration": 286,
    "start_time": "2022-06-09T13:19:03.695Z"
   },
   {
    "duration": 549,
    "start_time": "2022-06-09T13:32:58.653Z"
   },
   {
    "duration": 34,
    "start_time": "2022-06-09T13:34:37.846Z"
   },
   {
    "duration": 16,
    "start_time": "2022-06-09T13:35:24.287Z"
   },
   {
    "duration": 179,
    "start_time": "2022-06-09T13:36:15.543Z"
   },
   {
    "duration": 206,
    "start_time": "2022-06-09T13:37:01.315Z"
   },
   {
    "duration": 172,
    "start_time": "2022-06-09T13:37:12.307Z"
   },
   {
    "duration": 13,
    "start_time": "2022-06-09T13:53:31.193Z"
   },
   {
    "duration": 21,
    "start_time": "2022-06-09T13:54:17.078Z"
   },
   {
    "duration": 16,
    "start_time": "2022-06-09T13:55:28.716Z"
   },
   {
    "duration": 55,
    "start_time": "2022-06-09T13:56:22.933Z"
   },
   {
    "duration": 30,
    "start_time": "2022-06-09T13:56:51.848Z"
   },
   {
    "duration": 38,
    "start_time": "2022-06-09T13:57:17.202Z"
   },
   {
    "duration": 40,
    "start_time": "2022-06-09T13:57:38.651Z"
   },
   {
    "duration": 17,
    "start_time": "2022-06-09T14:01:36.320Z"
   },
   {
    "duration": 465,
    "start_time": "2022-06-09T14:04:45.315Z"
   },
   {
    "duration": 33,
    "start_time": "2022-06-09T14:05:13.955Z"
   },
   {
    "duration": 25,
    "start_time": "2022-06-09T14:05:21.691Z"
   },
   {
    "duration": 22,
    "start_time": "2022-06-09T14:14:36.481Z"
   },
   {
    "duration": 30,
    "start_time": "2022-06-09T14:15:18.346Z"
   },
   {
    "duration": 27,
    "start_time": "2022-06-09T14:15:29.849Z"
   },
   {
    "duration": 30,
    "start_time": "2022-06-09T14:36:33.896Z"
   },
   {
    "duration": 47,
    "start_time": "2022-06-09T14:38:07.457Z"
   },
   {
    "duration": 17,
    "start_time": "2022-06-09T14:39:11.990Z"
   },
   {
    "duration": 26,
    "start_time": "2022-06-09T14:39:18.543Z"
   },
   {
    "duration": 30,
    "start_time": "2022-06-09T14:39:37.944Z"
   },
   {
    "duration": 17,
    "start_time": "2022-06-09T14:41:54.505Z"
   },
   {
    "duration": 20,
    "start_time": "2022-06-09T14:42:22.498Z"
   },
   {
    "duration": 30,
    "start_time": "2022-06-09T14:42:45.905Z"
   },
   {
    "duration": 25,
    "start_time": "2022-06-09T14:42:52.894Z"
   },
   {
    "duration": 26,
    "start_time": "2022-06-09T14:44:29.442Z"
   },
   {
    "duration": 24,
    "start_time": "2022-06-09T14:48:02.157Z"
   },
   {
    "duration": 31,
    "start_time": "2022-06-09T14:48:38.006Z"
   },
   {
    "duration": 24,
    "start_time": "2022-06-09T14:48:57.298Z"
   },
   {
    "duration": 10,
    "start_time": "2022-06-09T14:51:01.710Z"
   },
   {
    "duration": 7,
    "start_time": "2022-06-09T14:51:08.003Z"
   },
   {
    "duration": 9,
    "start_time": "2022-06-09T14:51:21.392Z"
   },
   {
    "duration": 414,
    "start_time": "2022-06-09T14:52:28.758Z"
   },
   {
    "duration": 10,
    "start_time": "2022-06-09T14:52:45.502Z"
   },
   {
    "duration": 21,
    "start_time": "2022-06-09T14:53:44.147Z"
   },
   {
    "duration": 23,
    "start_time": "2022-06-09T14:54:34.510Z"
   },
   {
    "duration": 412,
    "start_time": "2022-06-09T14:55:46.038Z"
   },
   {
    "duration": 30,
    "start_time": "2022-06-09T14:55:57.638Z"
   },
   {
    "duration": 28,
    "start_time": "2022-06-09T14:56:19.354Z"
   },
   {
    "duration": 18,
    "start_time": "2022-06-09T14:56:43.493Z"
   },
   {
    "duration": 28,
    "start_time": "2022-06-09T14:57:00.598Z"
   },
   {
    "duration": 19,
    "start_time": "2022-06-09T14:58:29.567Z"
   },
   {
    "duration": 43,
    "start_time": "2022-06-09T14:59:00.198Z"
   },
   {
    "duration": 35,
    "start_time": "2022-06-09T14:59:30.534Z"
   },
   {
    "duration": 40,
    "start_time": "2022-06-09T15:00:02.298Z"
   },
   {
    "duration": 48,
    "start_time": "2022-06-09T15:00:10.206Z"
   },
   {
    "duration": 55,
    "start_time": "2022-06-09T15:01:25.085Z"
   },
   {
    "duration": 44,
    "start_time": "2022-06-09T15:08:17.397Z"
   },
   {
    "duration": 36,
    "start_time": "2022-06-09T15:08:25.405Z"
   },
   {
    "duration": 53,
    "start_time": "2022-06-09T15:08:42.549Z"
   },
   {
    "duration": 40,
    "start_time": "2022-06-09T15:09:41.097Z"
   },
   {
    "duration": 42,
    "start_time": "2022-06-09T15:16:49.096Z"
   },
   {
    "duration": 398,
    "start_time": "2022-06-09T15:17:29.507Z"
   },
   {
    "duration": 351,
    "start_time": "2022-06-09T15:18:08.790Z"
   },
   {
    "duration": 574,
    "start_time": "2022-06-09T15:18:39.452Z"
   },
   {
    "duration": 427,
    "start_time": "2022-06-09T15:23:29.328Z"
   },
   {
    "duration": 1076,
    "start_time": "2022-06-09T15:24:19.547Z"
   },
   {
    "duration": 52,
    "start_time": "2022-06-09T15:24:20.625Z"
   },
   {
    "duration": 15,
    "start_time": "2022-06-09T15:24:20.679Z"
   },
   {
    "duration": 14,
    "start_time": "2022-06-09T15:24:20.696Z"
   },
   {
    "duration": 4,
    "start_time": "2022-06-09T15:24:20.712Z"
   },
   {
    "duration": 14,
    "start_time": "2022-06-09T15:24:20.717Z"
   },
   {
    "duration": 42,
    "start_time": "2022-06-09T15:24:20.732Z"
   },
   {
    "duration": 9,
    "start_time": "2022-06-09T15:24:20.775Z"
   },
   {
    "duration": 28,
    "start_time": "2022-06-09T15:24:20.786Z"
   },
   {
    "duration": 4,
    "start_time": "2022-06-09T15:24:20.816Z"
   },
   {
    "duration": 9,
    "start_time": "2022-06-09T15:24:20.821Z"
   },
   {
    "duration": 34,
    "start_time": "2022-06-09T15:24:20.832Z"
   },
   {
    "duration": 12,
    "start_time": "2022-06-09T15:24:20.867Z"
   },
   {
    "duration": 21,
    "start_time": "2022-06-09T15:24:20.883Z"
   },
   {
    "duration": 22,
    "start_time": "2022-06-09T15:24:20.906Z"
   },
   {
    "duration": 20,
    "start_time": "2022-06-09T15:24:20.930Z"
   },
   {
    "duration": 4,
    "start_time": "2022-06-09T15:24:20.951Z"
   },
   {
    "duration": 16,
    "start_time": "2022-06-09T15:24:20.957Z"
   },
   {
    "duration": 15,
    "start_time": "2022-06-09T15:24:20.975Z"
   },
   {
    "duration": 17,
    "start_time": "2022-06-09T15:24:20.991Z"
   },
   {
    "duration": 14,
    "start_time": "2022-06-09T15:24:21.010Z"
   },
   {
    "duration": 28,
    "start_time": "2022-06-09T15:24:21.026Z"
   },
   {
    "duration": 5,
    "start_time": "2022-06-09T15:24:21.055Z"
   },
   {
    "duration": 64,
    "start_time": "2022-06-09T15:24:21.061Z"
   },
   {
    "duration": 151,
    "start_time": "2022-06-09T15:24:21.127Z"
   },
   {
    "duration": 17,
    "start_time": "2022-06-09T15:24:21.280Z"
   },
   {
    "duration": 433,
    "start_time": "2022-06-09T15:24:21.298Z"
   },
   {
    "duration": 6,
    "start_time": "2022-06-09T15:24:21.733Z"
   },
   {
    "duration": 309,
    "start_time": "2022-06-09T15:24:21.740Z"
   },
   {
    "duration": 155,
    "start_time": "2022-06-09T15:24:22.058Z"
   },
   {
    "duration": 156,
    "start_time": "2022-06-09T15:24:22.215Z"
   },
   {
    "duration": 295,
    "start_time": "2022-06-09T15:24:22.373Z"
   },
   {
    "duration": 11,
    "start_time": "2022-06-09T15:24:22.670Z"
   },
   {
    "duration": 871,
    "start_time": "2022-06-09T15:24:22.682Z"
   },
   {
    "duration": 264,
    "start_time": "2022-06-09T15:24:23.555Z"
   },
   {
    "duration": 40,
    "start_time": "2022-06-09T15:24:23.820Z"
   },
   {
    "duration": 136,
    "start_time": "2022-06-09T15:24:23.861Z"
   },
   {
    "duration": 0,
    "start_time": "2022-06-09T15:24:23.999Z"
   },
   {
    "duration": 0,
    "start_time": "2022-06-09T15:24:24.000Z"
   },
   {
    "duration": 0,
    "start_time": "2022-06-09T15:24:24.001Z"
   },
   {
    "duration": 0,
    "start_time": "2022-06-09T15:24:24.001Z"
   },
   {
    "duration": 0,
    "start_time": "2022-06-09T15:24:24.002Z"
   },
   {
    "duration": 0,
    "start_time": "2022-06-09T15:24:24.003Z"
   },
   {
    "duration": 40,
    "start_time": "2022-06-09T15:25:07.135Z"
   },
   {
    "duration": 38,
    "start_time": "2022-06-09T15:25:25.459Z"
   },
   {
    "duration": 52,
    "start_time": "2022-06-09T15:26:30.486Z"
   },
   {
    "duration": 28,
    "start_time": "2022-06-09T15:28:12.239Z"
   },
   {
    "duration": 516,
    "start_time": "2022-06-09T15:28:29.196Z"
   },
   {
    "duration": 527,
    "start_time": "2022-06-09T15:29:19.311Z"
   },
   {
    "duration": 5,
    "start_time": "2022-06-09T15:29:41.359Z"
   },
   {
    "duration": 290,
    "start_time": "2022-06-09T15:29:44.811Z"
   },
   {
    "duration": 299,
    "start_time": "2022-06-09T15:30:56.595Z"
   },
   {
    "duration": 448,
    "start_time": "2022-06-09T15:36:08.688Z"
   },
   {
    "duration": 887,
    "start_time": "2022-06-09T15:40:02.212Z"
   },
   {
    "duration": 1119,
    "start_time": "2022-06-09T15:41:02.835Z"
   },
   {
    "duration": 51,
    "start_time": "2022-06-09T15:41:03.955Z"
   },
   {
    "duration": 16,
    "start_time": "2022-06-09T15:41:04.008Z"
   },
   {
    "duration": 14,
    "start_time": "2022-06-09T15:41:04.026Z"
   },
   {
    "duration": 4,
    "start_time": "2022-06-09T15:41:04.042Z"
   },
   {
    "duration": 15,
    "start_time": "2022-06-09T15:41:04.048Z"
   },
   {
    "duration": 25,
    "start_time": "2022-06-09T15:41:04.065Z"
   },
   {
    "duration": 7,
    "start_time": "2022-06-09T15:41:04.092Z"
   },
   {
    "duration": 24,
    "start_time": "2022-06-09T15:41:04.101Z"
   },
   {
    "duration": 5,
    "start_time": "2022-06-09T15:41:04.127Z"
   },
   {
    "duration": 32,
    "start_time": "2022-06-09T15:41:04.133Z"
   },
   {
    "duration": 17,
    "start_time": "2022-06-09T15:41:04.167Z"
   },
   {
    "duration": 10,
    "start_time": "2022-06-09T15:41:04.185Z"
   },
   {
    "duration": 30,
    "start_time": "2022-06-09T15:41:04.196Z"
   },
   {
    "duration": 34,
    "start_time": "2022-06-09T15:41:04.227Z"
   },
   {
    "duration": 20,
    "start_time": "2022-06-09T15:41:04.263Z"
   },
   {
    "duration": 4,
    "start_time": "2022-06-09T15:41:04.284Z"
   },
   {
    "duration": 13,
    "start_time": "2022-06-09T15:41:04.289Z"
   },
   {
    "duration": 14,
    "start_time": "2022-06-09T15:41:04.304Z"
   },
   {
    "duration": 12,
    "start_time": "2022-06-09T15:41:04.319Z"
   },
   {
    "duration": 5,
    "start_time": "2022-06-09T15:41:04.333Z"
   },
   {
    "duration": 27,
    "start_time": "2022-06-09T15:41:04.339Z"
   },
   {
    "duration": 4,
    "start_time": "2022-06-09T15:41:04.367Z"
   },
   {
    "duration": 62,
    "start_time": "2022-06-09T15:41:04.372Z"
   },
   {
    "duration": 167,
    "start_time": "2022-06-09T15:41:04.436Z"
   },
   {
    "duration": 17,
    "start_time": "2022-06-09T15:41:04.605Z"
   },
   {
    "duration": 441,
    "start_time": "2022-06-09T15:41:04.624Z"
   },
   {
    "duration": 6,
    "start_time": "2022-06-09T15:41:05.068Z"
   },
   {
    "duration": 308,
    "start_time": "2022-06-09T15:41:05.075Z"
   },
   {
    "duration": 168,
    "start_time": "2022-06-09T15:41:05.384Z"
   },
   {
    "duration": 158,
    "start_time": "2022-06-09T15:41:05.559Z"
   },
   {
    "duration": 284,
    "start_time": "2022-06-09T15:41:05.719Z"
   },
   {
    "duration": 13,
    "start_time": "2022-06-09T15:41:06.004Z"
   },
   {
    "duration": 935,
    "start_time": "2022-06-09T15:41:06.019Z"
   },
   {
    "duration": 284,
    "start_time": "2022-06-09T15:41:06.955Z"
   },
   {
    "duration": 134,
    "start_time": "2022-06-09T15:41:07.241Z"
   },
   {
    "duration": 0,
    "start_time": "2022-06-09T15:41:07.377Z"
   },
   {
    "duration": 0,
    "start_time": "2022-06-09T15:41:07.379Z"
   },
   {
    "duration": 0,
    "start_time": "2022-06-09T15:41:07.380Z"
   },
   {
    "duration": 0,
    "start_time": "2022-06-09T15:41:07.382Z"
   },
   {
    "duration": 0,
    "start_time": "2022-06-09T15:41:07.384Z"
   },
   {
    "duration": 0,
    "start_time": "2022-06-09T15:41:07.385Z"
   },
   {
    "duration": 298,
    "start_time": "2022-06-09T15:41:33.189Z"
   },
   {
    "duration": 355,
    "start_time": "2022-06-09T15:42:40.236Z"
   },
   {
    "duration": 303,
    "start_time": "2022-06-09T15:44:05.806Z"
   },
   {
    "duration": 305,
    "start_time": "2022-06-09T15:44:30.275Z"
   },
   {
    "duration": 406,
    "start_time": "2022-06-09T15:44:37.476Z"
   },
   {
    "duration": 28,
    "start_time": "2022-06-09T15:53:36.985Z"
   },
   {
    "duration": 30,
    "start_time": "2022-06-09T15:54:42.860Z"
   },
   {
    "duration": 38,
    "start_time": "2022-06-09T15:55:31.448Z"
   },
   {
    "duration": 160,
    "start_time": "2022-06-09T15:55:54.099Z"
   },
   {
    "duration": 95,
    "start_time": "2022-06-09T15:56:11.591Z"
   },
   {
    "duration": 182,
    "start_time": "2022-06-09T16:00:49.349Z"
   },
   {
    "duration": 24,
    "start_time": "2022-06-09T16:01:02.440Z"
   },
   {
    "duration": 21,
    "start_time": "2022-06-09T16:01:29.899Z"
   },
   {
    "duration": 22,
    "start_time": "2022-06-09T16:01:39.948Z"
   },
   {
    "duration": 1051,
    "start_time": "2022-06-09T16:02:29.995Z"
   },
   {
    "duration": 54,
    "start_time": "2022-06-09T16:02:31.048Z"
   },
   {
    "duration": 17,
    "start_time": "2022-06-09T16:02:31.104Z"
   },
   {
    "duration": 49,
    "start_time": "2022-06-09T16:02:31.122Z"
   },
   {
    "duration": 24,
    "start_time": "2022-06-09T16:02:31.173Z"
   },
   {
    "duration": 43,
    "start_time": "2022-06-09T16:02:31.199Z"
   },
   {
    "duration": 81,
    "start_time": "2022-06-09T16:02:31.243Z"
   },
   {
    "duration": 48,
    "start_time": "2022-06-09T16:02:31.326Z"
   },
   {
    "duration": 66,
    "start_time": "2022-06-09T16:02:31.376Z"
   },
   {
    "duration": 57,
    "start_time": "2022-06-09T16:02:31.443Z"
   },
   {
    "duration": 41,
    "start_time": "2022-06-09T16:02:31.501Z"
   },
   {
    "duration": 51,
    "start_time": "2022-06-09T16:02:31.544Z"
   },
   {
    "duration": 26,
    "start_time": "2022-06-09T16:02:31.597Z"
   },
   {
    "duration": 57,
    "start_time": "2022-06-09T16:02:31.626Z"
   },
   {
    "duration": 15,
    "start_time": "2022-06-09T16:02:31.685Z"
   },
   {
    "duration": 84,
    "start_time": "2022-06-09T16:02:31.702Z"
   },
   {
    "duration": 30,
    "start_time": "2022-06-09T16:02:31.788Z"
   },
   {
    "duration": 39,
    "start_time": "2022-06-09T16:02:31.819Z"
   },
   {
    "duration": 40,
    "start_time": "2022-06-09T16:02:31.860Z"
   },
   {
    "duration": 39,
    "start_time": "2022-06-09T16:02:31.902Z"
   },
   {
    "duration": 90,
    "start_time": "2022-06-09T16:02:31.943Z"
   },
   {
    "duration": 62,
    "start_time": "2022-06-09T16:02:32.034Z"
   },
   {
    "duration": 32,
    "start_time": "2022-06-09T16:02:32.097Z"
   },
   {
    "duration": 108,
    "start_time": "2022-06-09T16:02:32.131Z"
   },
   {
    "duration": 143,
    "start_time": "2022-06-09T16:02:32.241Z"
   },
   {
    "duration": 18,
    "start_time": "2022-06-09T16:02:32.386Z"
   },
   {
    "duration": 468,
    "start_time": "2022-06-09T16:02:32.406Z"
   },
   {
    "duration": 6,
    "start_time": "2022-06-09T16:02:32.877Z"
   },
   {
    "duration": 375,
    "start_time": "2022-06-09T16:02:32.885Z"
   },
   {
    "duration": 163,
    "start_time": "2022-06-09T16:02:33.262Z"
   },
   {
    "duration": 198,
    "start_time": "2022-06-09T16:02:33.426Z"
   },
   {
    "duration": 326,
    "start_time": "2022-06-09T16:02:33.627Z"
   },
   {
    "duration": 13,
    "start_time": "2022-06-09T16:02:33.955Z"
   },
   {
    "duration": 918,
    "start_time": "2022-06-09T16:02:33.970Z"
   },
   {
    "duration": 284,
    "start_time": "2022-06-09T16:02:34.890Z"
   },
   {
    "duration": 320,
    "start_time": "2022-06-09T16:02:35.176Z"
   },
   {
    "duration": 338,
    "start_time": "2022-06-09T16:02:35.497Z"
   },
   {
    "duration": 5,
    "start_time": "2022-06-09T16:02:35.837Z"
   },
   {
    "duration": 0,
    "start_time": "2022-06-09T16:02:35.843Z"
   },
   {
    "duration": 0,
    "start_time": "2022-06-09T16:02:35.844Z"
   },
   {
    "duration": 0,
    "start_time": "2022-06-09T16:02:35.846Z"
   },
   {
    "duration": 0,
    "start_time": "2022-06-09T16:02:35.859Z"
   },
   {
    "duration": 34,
    "start_time": "2022-06-09T16:03:21.597Z"
   },
   {
    "duration": 252,
    "start_time": "2022-06-09T16:03:28.795Z"
   },
   {
    "duration": 896,
    "start_time": "2022-06-09T16:20:03.604Z"
   },
   {
    "duration": 50,
    "start_time": "2022-06-09T16:20:54.857Z"
   },
   {
    "duration": 353,
    "start_time": "2022-06-09T16:22:58.353Z"
   },
   {
    "duration": 358,
    "start_time": "2022-06-09T16:24:29.846Z"
   },
   {
    "duration": 384,
    "start_time": "2022-06-09T16:28:39.561Z"
   },
   {
    "duration": 407,
    "start_time": "2022-06-09T16:29:04.405Z"
   },
   {
    "duration": 1055,
    "start_time": "2022-06-09T16:35:58.294Z"
   },
   {
    "duration": 52,
    "start_time": "2022-06-09T16:35:59.351Z"
   },
   {
    "duration": 18,
    "start_time": "2022-06-09T16:35:59.405Z"
   },
   {
    "duration": 15,
    "start_time": "2022-06-09T16:35:59.424Z"
   },
   {
    "duration": 5,
    "start_time": "2022-06-09T16:35:59.441Z"
   },
   {
    "duration": 29,
    "start_time": "2022-06-09T16:35:59.447Z"
   },
   {
    "duration": 29,
    "start_time": "2022-06-09T16:35:59.477Z"
   },
   {
    "duration": 8,
    "start_time": "2022-06-09T16:35:59.507Z"
   },
   {
    "duration": 18,
    "start_time": "2022-06-09T16:35:59.517Z"
   },
   {
    "duration": 26,
    "start_time": "2022-06-09T16:35:59.537Z"
   },
   {
    "duration": 7,
    "start_time": "2022-06-09T16:35:59.565Z"
   },
   {
    "duration": 18,
    "start_time": "2022-06-09T16:35:59.573Z"
   },
   {
    "duration": 11,
    "start_time": "2022-06-09T16:35:59.592Z"
   },
   {
    "duration": 25,
    "start_time": "2022-06-09T16:35:59.605Z"
   },
   {
    "duration": 15,
    "start_time": "2022-06-09T16:35:59.660Z"
   },
   {
    "duration": 10,
    "start_time": "2022-06-09T16:35:59.678Z"
   },
   {
    "duration": 7,
    "start_time": "2022-06-09T16:35:59.690Z"
   },
   {
    "duration": 14,
    "start_time": "2022-06-09T16:35:59.699Z"
   },
   {
    "duration": 45,
    "start_time": "2022-06-09T16:35:59.715Z"
   },
   {
    "duration": 14,
    "start_time": "2022-06-09T16:35:59.762Z"
   },
   {
    "duration": 6,
    "start_time": "2022-06-09T16:35:59.778Z"
   },
   {
    "duration": 24,
    "start_time": "2022-06-09T16:35:59.786Z"
   },
   {
    "duration": 4,
    "start_time": "2022-06-09T16:35:59.812Z"
   },
   {
    "duration": 99,
    "start_time": "2022-06-09T16:35:59.818Z"
   },
   {
    "duration": 200,
    "start_time": "2022-06-09T16:35:59.919Z"
   },
   {
    "duration": 20,
    "start_time": "2022-06-09T16:36:00.121Z"
   },
   {
    "duration": 428,
    "start_time": "2022-06-09T16:36:00.143Z"
   },
   {
    "duration": 9,
    "start_time": "2022-06-09T16:36:00.572Z"
   },
   {
    "duration": 310,
    "start_time": "2022-06-09T16:36:00.583Z"
   },
   {
    "duration": 197,
    "start_time": "2022-06-09T16:36:00.894Z"
   },
   {
    "duration": 175,
    "start_time": "2022-06-09T16:36:01.093Z"
   },
   {
    "duration": 347,
    "start_time": "2022-06-09T16:36:01.269Z"
   },
   {
    "duration": 12,
    "start_time": "2022-06-09T16:36:01.618Z"
   },
   {
    "duration": 985,
    "start_time": "2022-06-09T16:36:01.632Z"
   },
   {
    "duration": 305,
    "start_time": "2022-06-09T16:36:02.619Z"
   },
   {
    "duration": 403,
    "start_time": "2022-06-09T16:36:02.926Z"
   },
   {
    "duration": 374,
    "start_time": "2022-06-09T16:36:03.331Z"
   },
   {
    "duration": 31,
    "start_time": "2022-06-09T16:36:03.707Z"
   },
   {
    "duration": 299,
    "start_time": "2022-06-09T16:36:03.740Z"
   },
   {
    "duration": 23,
    "start_time": "2022-06-09T16:36:04.041Z"
   },
   {
    "duration": 28,
    "start_time": "2022-06-09T16:36:04.067Z"
   },
   {
    "duration": 14,
    "start_time": "2022-06-09T16:36:04.097Z"
   },
   {
    "duration": 59,
    "start_time": "2022-06-09T16:36:04.112Z"
   },
   {
    "duration": 1049,
    "start_time": "2022-06-10T01:18:05.979Z"
   },
   {
    "duration": 53,
    "start_time": "2022-06-10T01:18:07.030Z"
   },
   {
    "duration": 21,
    "start_time": "2022-06-10T01:18:07.085Z"
   },
   {
    "duration": 15,
    "start_time": "2022-06-10T01:18:07.107Z"
   },
   {
    "duration": 5,
    "start_time": "2022-06-10T01:18:07.124Z"
   },
   {
    "duration": 13,
    "start_time": "2022-06-10T01:18:07.130Z"
   },
   {
    "duration": 47,
    "start_time": "2022-06-10T01:18:07.145Z"
   },
   {
    "duration": 8,
    "start_time": "2022-06-10T01:18:07.194Z"
   },
   {
    "duration": 16,
    "start_time": "2022-06-10T01:18:07.204Z"
   },
   {
    "duration": 9,
    "start_time": "2022-06-10T01:18:07.222Z"
   },
   {
    "duration": 9,
    "start_time": "2022-06-10T01:18:07.232Z"
   },
   {
    "duration": 23,
    "start_time": "2022-06-10T01:18:07.243Z"
   },
   {
    "duration": 16,
    "start_time": "2022-06-10T01:18:07.268Z"
   },
   {
    "duration": 21,
    "start_time": "2022-06-10T01:18:07.287Z"
   },
   {
    "duration": 19,
    "start_time": "2022-06-10T01:18:07.310Z"
   },
   {
    "duration": 14,
    "start_time": "2022-06-10T01:18:07.330Z"
   },
   {
    "duration": 4,
    "start_time": "2022-06-10T01:18:07.346Z"
   },
   {
    "duration": 12,
    "start_time": "2022-06-10T01:18:07.351Z"
   },
   {
    "duration": 15,
    "start_time": "2022-06-10T01:18:07.364Z"
   },
   {
    "duration": 12,
    "start_time": "2022-06-10T01:18:07.381Z"
   },
   {
    "duration": 9,
    "start_time": "2022-06-10T01:18:07.394Z"
   },
   {
    "duration": 18,
    "start_time": "2022-06-10T01:18:07.426Z"
   },
   {
    "duration": 4,
    "start_time": "2022-06-10T01:18:07.446Z"
   },
   {
    "duration": 65,
    "start_time": "2022-06-10T01:18:07.451Z"
   },
   {
    "duration": 145,
    "start_time": "2022-06-10T01:18:07.526Z"
   },
   {
    "duration": 19,
    "start_time": "2022-06-10T01:18:07.672Z"
   },
   {
    "duration": 422,
    "start_time": "2022-06-10T01:18:07.693Z"
   },
   {
    "duration": 13,
    "start_time": "2022-06-10T01:18:08.116Z"
   },
   {
    "duration": 299,
    "start_time": "2022-06-10T01:18:08.131Z"
   },
   {
    "duration": 155,
    "start_time": "2022-06-10T01:18:08.432Z"
   },
   {
    "duration": 154,
    "start_time": "2022-06-10T01:18:08.588Z"
   },
   {
    "duration": 295,
    "start_time": "2022-06-10T01:18:08.743Z"
   },
   {
    "duration": 11,
    "start_time": "2022-06-10T01:18:09.040Z"
   },
   {
    "duration": 865,
    "start_time": "2022-06-10T01:18:09.053Z"
   },
   {
    "duration": 269,
    "start_time": "2022-06-10T01:18:09.920Z"
   },
   {
    "duration": 311,
    "start_time": "2022-06-10T01:18:10.191Z"
   },
   {
    "duration": 334,
    "start_time": "2022-06-10T01:18:10.504Z"
   },
   {
    "duration": 28,
    "start_time": "2022-06-10T01:18:10.840Z"
   },
   {
    "duration": 270,
    "start_time": "2022-06-10T01:18:10.869Z"
   },
   {
    "duration": 10,
    "start_time": "2022-06-10T01:18:11.141Z"
   },
   {
    "duration": 23,
    "start_time": "2022-06-10T01:18:11.154Z"
   },
   {
    "duration": 9,
    "start_time": "2022-06-10T01:18:11.178Z"
   },
   {
    "duration": 70,
    "start_time": "2022-06-10T01:18:11.189Z"
   },
   {
    "duration": 612,
    "start_time": "2022-06-10T01:28:30.957Z"
   },
   {
    "duration": 508,
    "start_time": "2022-06-10T01:29:21.114Z"
   }
  ],
  "kernelspec": {
   "display_name": "Python 3 (ipykernel)",
   "language": "python",
   "name": "python3"
  },
  "language_info": {
   "codemirror_mode": {
    "name": "ipython",
    "version": 3
   },
   "file_extension": ".py",
   "mimetype": "text/x-python",
   "name": "python",
   "nbconvert_exporter": "python",
   "pygments_lexer": "ipython3",
   "version": "3.9.7"
  },
  "toc": {
   "base_numbering": 1,
   "nav_menu": {},
   "number_sections": true,
   "sideBar": true,
   "skip_h1_title": true,
   "title_cell": "Table of Contents",
   "title_sidebar": "Contents",
   "toc_cell": false,
   "toc_position": {
    "height": "calc(100% - 180px)",
    "left": "10px",
    "top": "150px",
    "width": "200px"
   },
   "toc_section_display": true,
   "toc_window_display": true
  }
 },
 "nbformat": 4,
 "nbformat_minor": 2
}
