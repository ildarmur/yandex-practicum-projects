{
 "cells": [
  {
   "cell_type": "markdown",
   "id": "281fb5fc",
   "metadata": {},
   "source": [
    "# Платёжеспособность клиентов банка"
   ]
  },
  {
   "cell_type": "markdown",
   "id": "b7b8602b",
   "metadata": {},
   "source": [
    "## Описание проекта\n",
    "Заказчик — кредитный отдел банка. Нужно разобраться, влияет ли семейное положение и количество детей клиента на факт погашения кредита в срок. Входные данные от банка — статистика о платёжеспособности клиентов.\n",
    "Результаты исследования будут учтены при построении модели кредитного скоринга — специальной системы, которая оценивает способность потенциального заёмщика вернуть кредит банку.\n",
    "\n",
    "**Цель исследования** - проверить четыре гипотезы:\n",
    "1. На возврат кредита в срок влияет количество детей клиента.\n",
    "2. На возврат кредита в срок влияет семейное положение клиента.\n",
    "3. На возврат кредита в срок влияет уровень дохода клиента. \n",
    "4. На возврат кредита в срок влияет цель кредита.\n",
    "\n",
    "**Ход исследования**\n",
    "1. Обзор данных.\n",
    "2. Предобработка данных.\n",
    "3. Проверка гипотез.\n",
    "4. Подготовка общего вывода."
   ]
  },
  {
   "cell_type": "markdown",
   "id": "f8c06e4f",
   "metadata": {},
   "source": [
    "## Обзор данных"
   ]
  },
  {
   "cell_type": "code",
   "execution_count": 1,
   "id": "957bd956",
   "metadata": {},
   "outputs": [
    {
     "data": {
      "text/html": [
       "<div>\n",
       "<style scoped>\n",
       "    .dataframe tbody tr th:only-of-type {\n",
       "        vertical-align: middle;\n",
       "    }\n",
       "\n",
       "    .dataframe tbody tr th {\n",
       "        vertical-align: top;\n",
       "    }\n",
       "\n",
       "    .dataframe thead th {\n",
       "        text-align: right;\n",
       "    }\n",
       "</style>\n",
       "<table border=\"1\" class=\"dataframe\">\n",
       "  <thead>\n",
       "    <tr style=\"text-align: right;\">\n",
       "      <th></th>\n",
       "      <th>children</th>\n",
       "      <th>days_employed</th>\n",
       "      <th>dob_years</th>\n",
       "      <th>education</th>\n",
       "      <th>education_id</th>\n",
       "      <th>family_status</th>\n",
       "      <th>family_status_id</th>\n",
       "      <th>gender</th>\n",
       "      <th>income_type</th>\n",
       "      <th>debt</th>\n",
       "      <th>total_income</th>\n",
       "      <th>purpose</th>\n",
       "    </tr>\n",
       "  </thead>\n",
       "  <tbody>\n",
       "    <tr>\n",
       "      <th>0</th>\n",
       "      <td>1</td>\n",
       "      <td>-8437.673028</td>\n",
       "      <td>42</td>\n",
       "      <td>высшее</td>\n",
       "      <td>0</td>\n",
       "      <td>женат / замужем</td>\n",
       "      <td>0</td>\n",
       "      <td>F</td>\n",
       "      <td>сотрудник</td>\n",
       "      <td>0</td>\n",
       "      <td>253875.639453</td>\n",
       "      <td>покупка жилья</td>\n",
       "    </tr>\n",
       "    <tr>\n",
       "      <th>1</th>\n",
       "      <td>1</td>\n",
       "      <td>-4024.803754</td>\n",
       "      <td>36</td>\n",
       "      <td>среднее</td>\n",
       "      <td>1</td>\n",
       "      <td>женат / замужем</td>\n",
       "      <td>0</td>\n",
       "      <td>F</td>\n",
       "      <td>сотрудник</td>\n",
       "      <td>0</td>\n",
       "      <td>112080.014102</td>\n",
       "      <td>приобретение автомобиля</td>\n",
       "    </tr>\n",
       "    <tr>\n",
       "      <th>2</th>\n",
       "      <td>0</td>\n",
       "      <td>-5623.422610</td>\n",
       "      <td>33</td>\n",
       "      <td>Среднее</td>\n",
       "      <td>1</td>\n",
       "      <td>женат / замужем</td>\n",
       "      <td>0</td>\n",
       "      <td>M</td>\n",
       "      <td>сотрудник</td>\n",
       "      <td>0</td>\n",
       "      <td>145885.952297</td>\n",
       "      <td>покупка жилья</td>\n",
       "    </tr>\n",
       "    <tr>\n",
       "      <th>3</th>\n",
       "      <td>3</td>\n",
       "      <td>-4124.747207</td>\n",
       "      <td>32</td>\n",
       "      <td>среднее</td>\n",
       "      <td>1</td>\n",
       "      <td>женат / замужем</td>\n",
       "      <td>0</td>\n",
       "      <td>M</td>\n",
       "      <td>сотрудник</td>\n",
       "      <td>0</td>\n",
       "      <td>267628.550329</td>\n",
       "      <td>дополнительное образование</td>\n",
       "    </tr>\n",
       "    <tr>\n",
       "      <th>4</th>\n",
       "      <td>0</td>\n",
       "      <td>340266.072047</td>\n",
       "      <td>53</td>\n",
       "      <td>среднее</td>\n",
       "      <td>1</td>\n",
       "      <td>гражданский брак</td>\n",
       "      <td>1</td>\n",
       "      <td>F</td>\n",
       "      <td>пенсионер</td>\n",
       "      <td>0</td>\n",
       "      <td>158616.077870</td>\n",
       "      <td>сыграть свадьбу</td>\n",
       "    </tr>\n",
       "    <tr>\n",
       "      <th>5</th>\n",
       "      <td>0</td>\n",
       "      <td>-926.185831</td>\n",
       "      <td>27</td>\n",
       "      <td>высшее</td>\n",
       "      <td>0</td>\n",
       "      <td>гражданский брак</td>\n",
       "      <td>1</td>\n",
       "      <td>M</td>\n",
       "      <td>компаньон</td>\n",
       "      <td>0</td>\n",
       "      <td>255763.565419</td>\n",
       "      <td>покупка жилья</td>\n",
       "    </tr>\n",
       "    <tr>\n",
       "      <th>6</th>\n",
       "      <td>0</td>\n",
       "      <td>-2879.202052</td>\n",
       "      <td>43</td>\n",
       "      <td>высшее</td>\n",
       "      <td>0</td>\n",
       "      <td>женат / замужем</td>\n",
       "      <td>0</td>\n",
       "      <td>F</td>\n",
       "      <td>компаньон</td>\n",
       "      <td>0</td>\n",
       "      <td>240525.971920</td>\n",
       "      <td>операции с жильем</td>\n",
       "    </tr>\n",
       "    <tr>\n",
       "      <th>7</th>\n",
       "      <td>0</td>\n",
       "      <td>-152.779569</td>\n",
       "      <td>50</td>\n",
       "      <td>СРЕДНЕЕ</td>\n",
       "      <td>1</td>\n",
       "      <td>женат / замужем</td>\n",
       "      <td>0</td>\n",
       "      <td>M</td>\n",
       "      <td>сотрудник</td>\n",
       "      <td>0</td>\n",
       "      <td>135823.934197</td>\n",
       "      <td>образование</td>\n",
       "    </tr>\n",
       "    <tr>\n",
       "      <th>8</th>\n",
       "      <td>2</td>\n",
       "      <td>-6929.865299</td>\n",
       "      <td>35</td>\n",
       "      <td>ВЫСШЕЕ</td>\n",
       "      <td>0</td>\n",
       "      <td>гражданский брак</td>\n",
       "      <td>1</td>\n",
       "      <td>F</td>\n",
       "      <td>сотрудник</td>\n",
       "      <td>0</td>\n",
       "      <td>95856.832424</td>\n",
       "      <td>на проведение свадьбы</td>\n",
       "    </tr>\n",
       "    <tr>\n",
       "      <th>9</th>\n",
       "      <td>0</td>\n",
       "      <td>-2188.756445</td>\n",
       "      <td>41</td>\n",
       "      <td>среднее</td>\n",
       "      <td>1</td>\n",
       "      <td>женат / замужем</td>\n",
       "      <td>0</td>\n",
       "      <td>M</td>\n",
       "      <td>сотрудник</td>\n",
       "      <td>0</td>\n",
       "      <td>144425.938277</td>\n",
       "      <td>покупка жилья для семьи</td>\n",
       "    </tr>\n",
       "  </tbody>\n",
       "</table>\n",
       "</div>"
      ],
      "text/plain": [
       "   children  days_employed  dob_years education  education_id  \\\n",
       "0         1   -8437.673028         42    высшее             0   \n",
       "1         1   -4024.803754         36   среднее             1   \n",
       "2         0   -5623.422610         33   Среднее             1   \n",
       "3         3   -4124.747207         32   среднее             1   \n",
       "4         0  340266.072047         53   среднее             1   \n",
       "5         0    -926.185831         27    высшее             0   \n",
       "6         0   -2879.202052         43    высшее             0   \n",
       "7         0    -152.779569         50   СРЕДНЕЕ             1   \n",
       "8         2   -6929.865299         35    ВЫСШЕЕ             0   \n",
       "9         0   -2188.756445         41   среднее             1   \n",
       "\n",
       "      family_status  family_status_id gender income_type  debt   total_income  \\\n",
       "0   женат / замужем                 0      F   сотрудник     0  253875.639453   \n",
       "1   женат / замужем                 0      F   сотрудник     0  112080.014102   \n",
       "2   женат / замужем                 0      M   сотрудник     0  145885.952297   \n",
       "3   женат / замужем                 0      M   сотрудник     0  267628.550329   \n",
       "4  гражданский брак                 1      F   пенсионер     0  158616.077870   \n",
       "5  гражданский брак                 1      M   компаньон     0  255763.565419   \n",
       "6   женат / замужем                 0      F   компаньон     0  240525.971920   \n",
       "7   женат / замужем                 0      M   сотрудник     0  135823.934197   \n",
       "8  гражданский брак                 1      F   сотрудник     0   95856.832424   \n",
       "9   женат / замужем                 0      M   сотрудник     0  144425.938277   \n",
       "\n",
       "                      purpose  \n",
       "0               покупка жилья  \n",
       "1     приобретение автомобиля  \n",
       "2               покупка жилья  \n",
       "3  дополнительное образование  \n",
       "4             сыграть свадьбу  \n",
       "5               покупка жилья  \n",
       "6           операции с жильем  \n",
       "7                 образование  \n",
       "8       на проведение свадьбы  \n",
       "9     покупка жилья для семьи  "
      ]
     },
     "execution_count": 1,
     "metadata": {},
     "output_type": "execute_result"
    }
   ],
   "source": [
    "import pandas as pd\n",
    "df = pd.read_csv('data.csv')\n",
    "df.head(10)"
   ]
  },
  {
   "cell_type": "code",
   "execution_count": 2,
   "id": "f60258df",
   "metadata": {},
   "outputs": [
    {
     "name": "stdout",
     "output_type": "stream",
     "text": [
      "<class 'pandas.core.frame.DataFrame'>\n",
      "RangeIndex: 21525 entries, 0 to 21524\n",
      "Data columns (total 12 columns):\n",
      " #   Column            Non-Null Count  Dtype  \n",
      "---  ------            --------------  -----  \n",
      " 0   children          21525 non-null  int64  \n",
      " 1   days_employed     19351 non-null  float64\n",
      " 2   dob_years         21525 non-null  int64  \n",
      " 3   education         21525 non-null  object \n",
      " 4   education_id      21525 non-null  int64  \n",
      " 5   family_status     21525 non-null  object \n",
      " 6   family_status_id  21525 non-null  int64  \n",
      " 7   gender            21525 non-null  object \n",
      " 8   income_type       21525 non-null  object \n",
      " 9   debt              21525 non-null  int64  \n",
      " 10  total_income      19351 non-null  float64\n",
      " 11  purpose           21525 non-null  object \n",
      "dtypes: float64(2), int64(5), object(5)\n",
      "memory usage: 2.0+ MB\n"
     ]
    }
   ],
   "source": [
    "df.info()"
   ]
  },
  {
   "cell_type": "markdown",
   "id": "5de42242",
   "metadata": {},
   "source": [
    "В таблице 12 столбцов, 5 текстовых, 5 десятичных, 2 целочисленных.\n",
    "\n",
    "Согласно документации к данным:\n",
    "* `children` — количество детей в семье\n",
    "* `days_employed` — общий трудовой стаж в днях\n",
    "* `dob_years` — возраст клиента в годах\n",
    "* `education` — уровень образования клиента\n",
    "* `education_id` — идентификатор уровня образования\n",
    "* `family_status` — семейное положение\n",
    "* `family_status_id` — идентификатор семейного положения\n",
    "* `gender` — пол клиента\n",
    "* `income_type` — тип занятости\n",
    "* `debt` — имел ли задолженность по возврату кредитов\n",
    "* `total_income` — ежемесячный доход\n",
    "* `purpose` — цель получения кредита\n",
    "\n",
    "В названиях колонок нет нарушений. Количество объектов в колонках `days_employed` и `total_income` (19351) отличается от количества объектов в остальных колонках (21525). Значит, имеются пропуски данных."
   ]
  },
  {
   "cell_type": "markdown",
   "id": "1673727e",
   "metadata": {},
   "source": [
    "**Выводы**\n",
    "\n",
    "В каждой строке таблицы — данные о клиенте банка. Колонки описывают три вида характеристик клиента: биологические (возраст и пол), социальные (информация о семье и образовании) и финансовые (трудовой стаж, тип занятости, задолженности, доход, цель получения кредита).\n",
    "\n",
    "Предварительно можно утверждать, что данных достаточно для проверки гипотез. В данных встречаются пропуски, явные и неявные дубликаты, различные артефакты.\n",
    "\n",
    "Чтобы двигаться дальше, нужно устранить проблемы в данных.\n"
   ]
  },
  {
   "cell_type": "markdown",
   "id": "931edc13",
   "metadata": {},
   "source": [
    "## Предобработка данных"
   ]
  },
  {
   "cell_type": "markdown",
   "id": "6991b8c7",
   "metadata": {},
   "source": [
    "**Обработка пропущенных значений**"
   ]
  },
  {
   "cell_type": "code",
   "execution_count": 3,
   "id": "1fa02b04",
   "metadata": {},
   "outputs": [
    {
     "data": {
      "text/plain": [
       "children               0\n",
       "days_employed       2174\n",
       "dob_years              0\n",
       "education              0\n",
       "education_id           0\n",
       "family_status          0\n",
       "family_status_id       0\n",
       "gender                 0\n",
       "income_type            0\n",
       "debt                   0\n",
       "total_income        2174\n",
       "purpose                0\n",
       "dtype: int64"
      ]
     },
     "execution_count": 3,
     "metadata": {},
     "output_type": "execute_result"
    }
   ],
   "source": [
    "df.isna().sum() # подсчитаем суммарное количество пропусков"
   ]
  },
  {
   "cell_type": "markdown",
   "id": "7e5a6952",
   "metadata": {},
   "source": [
    "Всего имеем 2174 пропущенных значения в двух колонках."
   ]
  },
  {
   "cell_type": "code",
   "execution_count": 4,
   "id": "914ce2e9",
   "metadata": {},
   "outputs": [
    {
     "data": {
      "text/plain": [
       "10.099883855981417"
      ]
     },
     "execution_count": 4,
     "metadata": {},
     "output_type": "execute_result"
    }
   ],
   "source": [
    "len(df[df['days_employed'].isna()]) / len(df['days_employed']) * 100 # подсчитаем долю пропущенных значений в процентах"
   ]
  },
  {
   "cell_type": "markdown",
   "id": "ae9c4000",
   "metadata": {},
   "source": [
    "Доля пропущенных значений составила 10%."
   ]
  },
  {
   "cell_type": "code",
   "execution_count": 5,
   "id": "45093a41",
   "metadata": {},
   "outputs": [
    {
     "data": {
      "text/html": [
       "<div>\n",
       "<style scoped>\n",
       "    .dataframe tbody tr th:only-of-type {\n",
       "        vertical-align: middle;\n",
       "    }\n",
       "\n",
       "    .dataframe tbody tr th {\n",
       "        vertical-align: top;\n",
       "    }\n",
       "\n",
       "    .dataframe thead th {\n",
       "        text-align: right;\n",
       "    }\n",
       "</style>\n",
       "<table border=\"1\" class=\"dataframe\">\n",
       "  <thead>\n",
       "    <tr style=\"text-align: right;\">\n",
       "      <th></th>\n",
       "      <th>children</th>\n",
       "      <th>days_employed</th>\n",
       "      <th>dob_years</th>\n",
       "      <th>education</th>\n",
       "      <th>education_id</th>\n",
       "      <th>family_status</th>\n",
       "      <th>family_status_id</th>\n",
       "      <th>gender</th>\n",
       "      <th>income_type</th>\n",
       "      <th>debt</th>\n",
       "      <th>total_income</th>\n",
       "      <th>purpose</th>\n",
       "    </tr>\n",
       "  </thead>\n",
       "  <tbody>\n",
       "    <tr>\n",
       "      <th>12</th>\n",
       "      <td>0</td>\n",
       "      <td>NaN</td>\n",
       "      <td>65</td>\n",
       "      <td>среднее</td>\n",
       "      <td>1</td>\n",
       "      <td>гражданский брак</td>\n",
       "      <td>1</td>\n",
       "      <td>M</td>\n",
       "      <td>пенсионер</td>\n",
       "      <td>0</td>\n",
       "      <td>NaN</td>\n",
       "      <td>сыграть свадьбу</td>\n",
       "    </tr>\n",
       "    <tr>\n",
       "      <th>26</th>\n",
       "      <td>0</td>\n",
       "      <td>NaN</td>\n",
       "      <td>41</td>\n",
       "      <td>среднее</td>\n",
       "      <td>1</td>\n",
       "      <td>женат / замужем</td>\n",
       "      <td>0</td>\n",
       "      <td>M</td>\n",
       "      <td>госслужащий</td>\n",
       "      <td>0</td>\n",
       "      <td>NaN</td>\n",
       "      <td>образование</td>\n",
       "    </tr>\n",
       "    <tr>\n",
       "      <th>29</th>\n",
       "      <td>0</td>\n",
       "      <td>NaN</td>\n",
       "      <td>63</td>\n",
       "      <td>среднее</td>\n",
       "      <td>1</td>\n",
       "      <td>Не женат / не замужем</td>\n",
       "      <td>4</td>\n",
       "      <td>F</td>\n",
       "      <td>пенсионер</td>\n",
       "      <td>0</td>\n",
       "      <td>NaN</td>\n",
       "      <td>строительство жилой недвижимости</td>\n",
       "    </tr>\n",
       "    <tr>\n",
       "      <th>41</th>\n",
       "      <td>0</td>\n",
       "      <td>NaN</td>\n",
       "      <td>50</td>\n",
       "      <td>среднее</td>\n",
       "      <td>1</td>\n",
       "      <td>женат / замужем</td>\n",
       "      <td>0</td>\n",
       "      <td>F</td>\n",
       "      <td>госслужащий</td>\n",
       "      <td>0</td>\n",
       "      <td>NaN</td>\n",
       "      <td>сделка с подержанным автомобилем</td>\n",
       "    </tr>\n",
       "    <tr>\n",
       "      <th>55</th>\n",
       "      <td>0</td>\n",
       "      <td>NaN</td>\n",
       "      <td>54</td>\n",
       "      <td>среднее</td>\n",
       "      <td>1</td>\n",
       "      <td>гражданский брак</td>\n",
       "      <td>1</td>\n",
       "      <td>F</td>\n",
       "      <td>пенсионер</td>\n",
       "      <td>1</td>\n",
       "      <td>NaN</td>\n",
       "      <td>сыграть свадьбу</td>\n",
       "    </tr>\n",
       "    <tr>\n",
       "      <th>65</th>\n",
       "      <td>0</td>\n",
       "      <td>NaN</td>\n",
       "      <td>21</td>\n",
       "      <td>среднее</td>\n",
       "      <td>1</td>\n",
       "      <td>Не женат / не замужем</td>\n",
       "      <td>4</td>\n",
       "      <td>M</td>\n",
       "      <td>компаньон</td>\n",
       "      <td>0</td>\n",
       "      <td>NaN</td>\n",
       "      <td>операции с коммерческой недвижимостью</td>\n",
       "    </tr>\n",
       "    <tr>\n",
       "      <th>67</th>\n",
       "      <td>0</td>\n",
       "      <td>NaN</td>\n",
       "      <td>52</td>\n",
       "      <td>высшее</td>\n",
       "      <td>0</td>\n",
       "      <td>женат / замужем</td>\n",
       "      <td>0</td>\n",
       "      <td>F</td>\n",
       "      <td>пенсионер</td>\n",
       "      <td>0</td>\n",
       "      <td>NaN</td>\n",
       "      <td>покупка жилья для семьи</td>\n",
       "    </tr>\n",
       "    <tr>\n",
       "      <th>72</th>\n",
       "      <td>1</td>\n",
       "      <td>NaN</td>\n",
       "      <td>32</td>\n",
       "      <td>высшее</td>\n",
       "      <td>0</td>\n",
       "      <td>женат / замужем</td>\n",
       "      <td>0</td>\n",
       "      <td>M</td>\n",
       "      <td>госслужащий</td>\n",
       "      <td>0</td>\n",
       "      <td>NaN</td>\n",
       "      <td>операции с коммерческой недвижимостью</td>\n",
       "    </tr>\n",
       "    <tr>\n",
       "      <th>82</th>\n",
       "      <td>2</td>\n",
       "      <td>NaN</td>\n",
       "      <td>50</td>\n",
       "      <td>высшее</td>\n",
       "      <td>0</td>\n",
       "      <td>женат / замужем</td>\n",
       "      <td>0</td>\n",
       "      <td>F</td>\n",
       "      <td>сотрудник</td>\n",
       "      <td>0</td>\n",
       "      <td>NaN</td>\n",
       "      <td>жилье</td>\n",
       "    </tr>\n",
       "    <tr>\n",
       "      <th>83</th>\n",
       "      <td>0</td>\n",
       "      <td>NaN</td>\n",
       "      <td>52</td>\n",
       "      <td>среднее</td>\n",
       "      <td>1</td>\n",
       "      <td>женат / замужем</td>\n",
       "      <td>0</td>\n",
       "      <td>M</td>\n",
       "      <td>сотрудник</td>\n",
       "      <td>0</td>\n",
       "      <td>NaN</td>\n",
       "      <td>жилье</td>\n",
       "    </tr>\n",
       "  </tbody>\n",
       "</table>\n",
       "</div>"
      ],
      "text/plain": [
       "    children  days_employed  dob_years education  education_id  \\\n",
       "12         0            NaN         65   среднее             1   \n",
       "26         0            NaN         41   среднее             1   \n",
       "29         0            NaN         63   среднее             1   \n",
       "41         0            NaN         50   среднее             1   \n",
       "55         0            NaN         54   среднее             1   \n",
       "65         0            NaN         21   среднее             1   \n",
       "67         0            NaN         52    высшее             0   \n",
       "72         1            NaN         32    высшее             0   \n",
       "82         2            NaN         50    высшее             0   \n",
       "83         0            NaN         52   среднее             1   \n",
       "\n",
       "            family_status  family_status_id gender  income_type  debt  \\\n",
       "12       гражданский брак                 1      M    пенсионер     0   \n",
       "26        женат / замужем                 0      M  госслужащий     0   \n",
       "29  Не женат / не замужем                 4      F    пенсионер     0   \n",
       "41        женат / замужем                 0      F  госслужащий     0   \n",
       "55       гражданский брак                 1      F    пенсионер     1   \n",
       "65  Не женат / не замужем                 4      M    компаньон     0   \n",
       "67        женат / замужем                 0      F    пенсионер     0   \n",
       "72        женат / замужем                 0      M  госслужащий     0   \n",
       "82        женат / замужем                 0      F    сотрудник     0   \n",
       "83        женат / замужем                 0      M    сотрудник     0   \n",
       "\n",
       "    total_income                                purpose  \n",
       "12           NaN                        сыграть свадьбу  \n",
       "26           NaN                            образование  \n",
       "29           NaN       строительство жилой недвижимости  \n",
       "41           NaN       сделка с подержанным автомобилем  \n",
       "55           NaN                        сыграть свадьбу  \n",
       "65           NaN  операции с коммерческой недвижимостью  \n",
       "67           NaN                покупка жилья для семьи  \n",
       "72           NaN  операции с коммерческой недвижимостью  \n",
       "82           NaN                                  жилье  \n",
       "83           NaN                                  жилье  "
      ]
     },
     "execution_count": 5,
     "metadata": {},
     "output_type": "execute_result"
    }
   ],
   "source": [
    "df[df['days_employed'].isna()].head(10) # посмотрим первые десять строк с пропусками"
   ]
  },
  {
   "cell_type": "markdown",
   "id": "e12fdd96",
   "metadata": {},
   "source": [
    "В представленном отрезке строки с пропусками в колонках `days_employed` и `total_income` совпадают. Учитывая, что количество пропусков в колонках тоже совпадает, можно предположить, что пропуски возникли из-за технической ошибки. По-хорошему, необходимо обратиться к источнику данных, чтобы восполнить пропуски. Однако в учебном проекте такой возможности нет, поэтому заполним пропуски медианными значениями. Медианные значения лучше подходят для количественных данных, т.к. не чувствительны к \"выбросам\" в данных, когда имеется небольшое количество очень высоких (низких) значений, значительно искажающих среднюю оценку. Данные о ежемесячном доходе как раз имеют выбросы, потому что доля людей получающих очень большие доходы, как правило, мала.   "
   ]
  },
  {
   "cell_type": "code",
   "execution_count": 6,
   "id": "98fa053d",
   "metadata": {},
   "outputs": [
    {
     "data": {
      "text/plain": [
       "-1203.369528770489"
      ]
     },
     "metadata": {},
     "output_type": "display_data"
    },
    {
     "data": {
      "text/plain": [
       "145017.93753253992"
      ]
     },
     "metadata": {},
     "output_type": "display_data"
    }
   ],
   "source": [
    "days_employed_median = df['days_employed'].median() # подсчитаем медианное значение days_employed\n",
    "total_income_median = df['total_income'].median() # подсчитаем медианное значение total_income\n",
    "\n",
    "display(days_employed_median)\n",
    "display(total_income_median)"
   ]
  },
  {
   "cell_type": "code",
   "execution_count": 7,
   "id": "53b763e9",
   "metadata": {
    "scrolled": true
   },
   "outputs": [
    {
     "data": {
      "text/plain": [
       "children            0\n",
       "days_employed       0\n",
       "dob_years           0\n",
       "education           0\n",
       "education_id        0\n",
       "family_status       0\n",
       "family_status_id    0\n",
       "gender              0\n",
       "income_type         0\n",
       "debt                0\n",
       "total_income        0\n",
       "purpose             0\n",
       "dtype: int64"
      ]
     },
     "execution_count": 7,
     "metadata": {},
     "output_type": "execute_result"
    }
   ],
   "source": [
    "df['days_employed'] = df['days_employed'].fillna(days_employed_median) # заменим данные в колонке days_employed медианным значением\n",
    "df['total_income'] = df['total_income'].fillna(total_income_median) # заменим данные в колонке total_income медианным значением\n",
    "\n",
    "df.isna().sum() # подсчитаем суммарное количество пропусков"
   ]
  },
  {
   "cell_type": "markdown",
   "id": "86f11c1c",
   "metadata": {},
   "source": [
    "Все пропущенные значения замененеы на медианные по каждой колонке"
   ]
  },
  {
   "cell_type": "markdown",
   "id": "11fa78aa",
   "metadata": {},
   "source": [
    "**Обработка артефактов** \n",
    "\n",
    "Колонка с трудовым стажем имеет отрицательное количество дней, чего не может быть. Видимо, на каком-то этапе сбора данных, к некоторым значениям добавился минус. Также, в этой колонке есть чрезвычайно высокие значения, например 340 266 дней, что составляет 945 лет. Такие высокие значения вызывают вопросы к данным, поэтому их необходимо перепроверять. Но в нашем исследовании трудовой стаж не влияет на проверку гипотез, так что достаточно было заполнить пропуски, чтобы в дальнейшем не возникали ошибки.\n",
    "\n",
    "Проверим наличие артефактов в количественных колонках, важных для исследования: `children`, `debt`, `total_income`."
   ]
  },
  {
   "cell_type": "code",
   "execution_count": 8,
   "id": "ca55eb41",
   "metadata": {},
   "outputs": [
    {
     "data": {
      "text/plain": [
       "array([-1,  0,  1,  2,  3,  4,  5, 20], dtype=int64)"
      ]
     },
     "execution_count": 8,
     "metadata": {},
     "output_type": "execute_result"
    }
   ],
   "source": [
    "df['children'].sort_values().unique() # найдем и отсортируем уникальные значения для колонки с количеством детей\n"
   ]
  },
  {
   "cell_type": "code",
   "execution_count": 9,
   "id": "9c64c2aa",
   "metadata": {},
   "outputs": [
    {
     "data": {
      "text/plain": [
       "47"
      ]
     },
     "metadata": {},
     "output_type": "display_data"
    },
    {
     "data": {
      "text/plain": [
       "76"
      ]
     },
     "metadata": {},
     "output_type": "display_data"
    }
   ],
   "source": [
    "display(df[df['children'] == -1]['children'].count()) # подсчитаем количество значений -1\n",
    "display(df[df['children'] == 20]['children'].count()) # подсчитаем количество значений 20"
   ]
  },
  {
   "cell_type": "markdown",
   "id": "1f9283cf",
   "metadata": {},
   "source": [
    "Имеются значения -1 и 20, которые, вероятно, неверные. Значение -1 могло возникнуть вследствие случайного добавления знака минус, как в случае с колонкой с трудовым стажем, либо этим значением помечали отсутствие данных о количестве детей. Значение 20 детей возможно в реальной жизни, но маловероятно, что в достаточно небольшую выборку попадет такое количество супер-многодетных людей. Скорее всего здесь также ошибка, только теперь случайно был добавлен ноль, а реальное значение два. Необходимо оценить, какую долю будут составлять артефакты, если вернуть их в значения 1 и 2"
   ]
  },
  {
   "cell_type": "code",
   "execution_count": 10,
   "id": "e390778e",
   "metadata": {},
   "outputs": [
    {
     "data": {
      "text/plain": [
       "0.9755085097550851"
      ]
     },
     "metadata": {},
     "output_type": "display_data"
    },
    {
     "data": {
      "text/plain": [
       "3.6982968369829687"
      ]
     },
     "metadata": {},
     "output_type": "display_data"
    }
   ],
   "source": [
    "display(df[df['children'] == -1]['children'].count() / df[df['children'] == 1]['children'].count() * 100) # вычисляем долю -1 в 1, в процентах\n",
    "display(df[df['children'] == 20]['children'].count() / df[df['children'] == 2]['children'].count() * 100) # вычисляем долю 20 в 2, в процентах"
   ]
  },
  {
   "cell_type": "markdown",
   "id": "94fa9901",
   "metadata": {},
   "source": [
    "Значения -1 составляли бы около одного процента, значения 20 составляли бы около четырех процентов, при сравнении данных это может вносить небольшую погрешность. Необходимо заменить значения на 1 и 2 соответственно. "
   ]
  },
  {
   "cell_type": "code",
   "execution_count": 11,
   "id": "ea987df0",
   "metadata": {},
   "outputs": [
    {
     "data": {
      "text/plain": [
       "array([0, 1, 2, 3, 4, 5], dtype=int64)"
      ]
     },
     "execution_count": 11,
     "metadata": {},
     "output_type": "execute_result"
    }
   ],
   "source": [
    "df['children'] = df['children'].replace(-1, 1) # заменяем -1 на 1\n",
    "df['children'] = df['children'].replace(20, 2) # заменяем 20 на 2\n",
    "\n",
    "df['children'].sort_values().unique() # проверяем уникальные значения"
   ]
  },
  {
   "cell_type": "code",
   "execution_count": 12,
   "id": "b8038872",
   "metadata": {},
   "outputs": [
    {
     "data": {
      "text/plain": [
       "array([0, 1], dtype=int64)"
      ]
     },
     "execution_count": 12,
     "metadata": {},
     "output_type": "execute_result"
    }
   ],
   "source": [
    "df['debt'].sort_values().unique() # найдем уникальные значения для колонки с задолженностью"
   ]
  },
  {
   "cell_type": "markdown",
   "id": "38685dd1",
   "metadata": {},
   "source": [
    "Артефактов нет"
   ]
  },
  {
   "cell_type": "code",
   "execution_count": 13,
   "id": "b1612825",
   "metadata": {},
   "outputs": [
    {
     "data": {
      "text/plain": [
       "2265604.028722744"
      ]
     },
     "metadata": {},
     "output_type": "display_data"
    },
    {
     "data": {
      "text/plain": [
       "20667.26379327158"
      ]
     },
     "metadata": {},
     "output_type": "display_data"
    }
   ],
   "source": [
    "display(df['total_income'].max()) # найдем макс. значение для колонки с доходом\n",
    "display(df['total_income'].min()) # найдем мин. значение для колонки с доходом"
   ]
  },
  {
   "cell_type": "markdown",
   "id": "4dd96544",
   "metadata": {},
   "source": [
    "Просмотреть полный перечень уникальных значений дохода затруднительно, поэтому рассмотрены крайние значения выборки. По ним видно, что отрицательных или чрезвычайно завышенных значений в выборке нет, поэтому сделаем вывод что артефактов нет."
   ]
  },
  {
   "cell_type": "markdown",
   "id": "8ad94117",
   "metadata": {},
   "source": [
    "**Изменение типа данных**\n",
    "\n",
    "Цифры после запятой в данных о доходе для нашего исследования не важны, поэтому избавимся от них, изменив тип данных на целочисленный."
   ]
  },
  {
   "cell_type": "code",
   "execution_count": 14,
   "id": "15c1555a",
   "metadata": {},
   "outputs": [
    {
     "data": {
      "text/plain": [
       "0    253875\n",
       "1    112080\n",
       "2    145885\n",
       "3    267628\n",
       "4    158616\n",
       "Name: total_income, dtype: int32"
      ]
     },
     "execution_count": 14,
     "metadata": {},
     "output_type": "execute_result"
    }
   ],
   "source": [
    "df['total_income'] = df['total_income'].astype('int') # изменяем тип данных на целочисленный\n",
    "\n",
    "df['total_income'].head() # проверяем"
   ]
  },
  {
   "cell_type": "markdown",
   "id": "de51a77e",
   "metadata": {},
   "source": [
    "**Обработка дубликатов**\n",
    "\n",
    "Проверим данные на наличие явных дубликатов. Для этого подойдет метод duplicated(), который проверяет каждое значение, и при наличии дубликата выводит значение True."
   ]
  },
  {
   "cell_type": "code",
   "execution_count": 15,
   "id": "f43bd432",
   "metadata": {},
   "outputs": [
    {
     "data": {
      "text/plain": [
       "54"
      ]
     },
     "execution_count": 15,
     "metadata": {},
     "output_type": "execute_result"
    }
   ],
   "source": [
    "df.duplicated().sum() # подсчитаем количество дубликатов"
   ]
  },
  {
   "cell_type": "code",
   "execution_count": 16,
   "id": "7aa9b5c3",
   "metadata": {},
   "outputs": [
    {
     "data": {
      "text/html": [
       "<div>\n",
       "<style scoped>\n",
       "    .dataframe tbody tr th:only-of-type {\n",
       "        vertical-align: middle;\n",
       "    }\n",
       "\n",
       "    .dataframe tbody tr th {\n",
       "        vertical-align: top;\n",
       "    }\n",
       "\n",
       "    .dataframe thead th {\n",
       "        text-align: right;\n",
       "    }\n",
       "</style>\n",
       "<table border=\"1\" class=\"dataframe\">\n",
       "  <thead>\n",
       "    <tr style=\"text-align: right;\">\n",
       "      <th></th>\n",
       "      <th>children</th>\n",
       "      <th>days_employed</th>\n",
       "      <th>dob_years</th>\n",
       "      <th>education</th>\n",
       "      <th>education_id</th>\n",
       "      <th>family_status</th>\n",
       "      <th>family_status_id</th>\n",
       "      <th>gender</th>\n",
       "      <th>income_type</th>\n",
       "      <th>debt</th>\n",
       "      <th>total_income</th>\n",
       "      <th>purpose</th>\n",
       "    </tr>\n",
       "  </thead>\n",
       "  <tbody>\n",
       "    <tr>\n",
       "      <th>2849</th>\n",
       "      <td>0</td>\n",
       "      <td>-1203.369529</td>\n",
       "      <td>41</td>\n",
       "      <td>среднее</td>\n",
       "      <td>1</td>\n",
       "      <td>женат / замужем</td>\n",
       "      <td>0</td>\n",
       "      <td>F</td>\n",
       "      <td>сотрудник</td>\n",
       "      <td>0</td>\n",
       "      <td>145017</td>\n",
       "      <td>покупка жилья для семьи</td>\n",
       "    </tr>\n",
       "    <tr>\n",
       "      <th>4182</th>\n",
       "      <td>1</td>\n",
       "      <td>-1203.369529</td>\n",
       "      <td>34</td>\n",
       "      <td>ВЫСШЕЕ</td>\n",
       "      <td>0</td>\n",
       "      <td>гражданский брак</td>\n",
       "      <td>1</td>\n",
       "      <td>F</td>\n",
       "      <td>сотрудник</td>\n",
       "      <td>0</td>\n",
       "      <td>145017</td>\n",
       "      <td>свадьба</td>\n",
       "    </tr>\n",
       "    <tr>\n",
       "      <th>4851</th>\n",
       "      <td>0</td>\n",
       "      <td>-1203.369529</td>\n",
       "      <td>60</td>\n",
       "      <td>среднее</td>\n",
       "      <td>1</td>\n",
       "      <td>гражданский брак</td>\n",
       "      <td>1</td>\n",
       "      <td>F</td>\n",
       "      <td>пенсионер</td>\n",
       "      <td>0</td>\n",
       "      <td>145017</td>\n",
       "      <td>свадьба</td>\n",
       "    </tr>\n",
       "    <tr>\n",
       "      <th>5557</th>\n",
       "      <td>0</td>\n",
       "      <td>-1203.369529</td>\n",
       "      <td>58</td>\n",
       "      <td>среднее</td>\n",
       "      <td>1</td>\n",
       "      <td>гражданский брак</td>\n",
       "      <td>1</td>\n",
       "      <td>F</td>\n",
       "      <td>пенсионер</td>\n",
       "      <td>0</td>\n",
       "      <td>145017</td>\n",
       "      <td>сыграть свадьбу</td>\n",
       "    </tr>\n",
       "    <tr>\n",
       "      <th>7808</th>\n",
       "      <td>0</td>\n",
       "      <td>-1203.369529</td>\n",
       "      <td>57</td>\n",
       "      <td>среднее</td>\n",
       "      <td>1</td>\n",
       "      <td>гражданский брак</td>\n",
       "      <td>1</td>\n",
       "      <td>F</td>\n",
       "      <td>пенсионер</td>\n",
       "      <td>0</td>\n",
       "      <td>145017</td>\n",
       "      <td>на проведение свадьбы</td>\n",
       "    </tr>\n",
       "  </tbody>\n",
       "</table>\n",
       "</div>"
      ],
      "text/plain": [
       "      children  days_employed  dob_years education  education_id  \\\n",
       "2849         0   -1203.369529         41   среднее             1   \n",
       "4182         1   -1203.369529         34    ВЫСШЕЕ             0   \n",
       "4851         0   -1203.369529         60   среднее             1   \n",
       "5557         0   -1203.369529         58   среднее             1   \n",
       "7808         0   -1203.369529         57   среднее             1   \n",
       "\n",
       "         family_status  family_status_id gender income_type  debt  \\\n",
       "2849   женат / замужем                 0      F   сотрудник     0   \n",
       "4182  гражданский брак                 1      F   сотрудник     0   \n",
       "4851  гражданский брак                 1      F   пенсионер     0   \n",
       "5557  гражданский брак                 1      F   пенсионер     0   \n",
       "7808  гражданский брак                 1      F   пенсионер     0   \n",
       "\n",
       "      total_income                  purpose  \n",
       "2849        145017  покупка жилья для семьи  \n",
       "4182        145017                  свадьба  \n",
       "4851        145017                  свадьба  \n",
       "5557        145017          сыграть свадьбу  \n",
       "7808        145017    на проведение свадьбы  "
      ]
     },
     "execution_count": 16,
     "metadata": {},
     "output_type": "execute_result"
    }
   ],
   "source": [
    "df[df.duplicated()].head() # выведем первые пять значений  дубликатов"
   ]
  },
  {
   "cell_type": "code",
   "execution_count": 17,
   "id": "913ab9f1",
   "metadata": {
    "scrolled": true
   },
   "outputs": [
    {
     "data": {
      "text/plain": [
       "0"
      ]
     },
     "execution_count": 17,
     "metadata": {},
     "output_type": "execute_result"
    }
   ],
   "source": [
    "df = df.drop_duplicates().reset_index(drop=True) # удаляем дубликаты со сбросом индексов\n",
    "df.duplicated().sum() # подсчитаем количество дубликатов"
   ]
  },
  {
   "cell_type": "markdown",
   "id": "31561bc3",
   "metadata": {},
   "source": [
    "Проверим колонки `education`, `family_status`, `income_type` на наличие неявных дубликатов. Для этого подойдет метод unique(), который выводит список всех уникальных значений в колонке, что позволяет увидеть неявные дубликаты."
   ]
  },
  {
   "cell_type": "code",
   "execution_count": 18,
   "id": "94da7b74",
   "metadata": {},
   "outputs": [
    {
     "data": {
      "text/plain": [
       "array(['ВЫСШЕЕ', 'Высшее', 'НАЧАЛЬНОЕ', 'НЕОКОНЧЕННОЕ ВЫСШЕЕ',\n",
       "       'Начальное', 'Неоконченное высшее', 'СРЕДНЕЕ', 'Среднее',\n",
       "       'УЧЕНАЯ СТЕПЕНЬ', 'Ученая степень', 'высшее', 'начальное',\n",
       "       'неоконченное высшее', 'среднее', 'ученая степень'], dtype=object)"
      ]
     },
     "execution_count": 18,
     "metadata": {},
     "output_type": "execute_result"
    }
   ],
   "source": [
    "df['education'].sort_values().unique() # найдем и отсортируем уникальные значения для колонки с образованием"
   ]
  },
  {
   "cell_type": "markdown",
   "id": "dface390",
   "metadata": {},
   "source": [
    "Имеются одинаковые значения, написанные в разном регистре. Данные ошибки возникают при ручном вводе значений, особенно если ввод делают разные люди. Необходимо привести значения к нижнему регистру, чтобы избежать повторений."
   ]
  },
  {
   "cell_type": "code",
   "execution_count": 19,
   "id": "5dd3f720",
   "metadata": {},
   "outputs": [
    {
     "data": {
      "text/plain": [
       "array(['высшее', 'начальное', 'неоконченное высшее', 'среднее',\n",
       "       'ученая степень'], dtype=object)"
      ]
     },
     "execution_count": 19,
     "metadata": {},
     "output_type": "execute_result"
    }
   ],
   "source": [
    "df['education'] = df['education'].str.lower() # приведем значения к нижнему регистру\n",
    "df['education'].sort_values().unique() # заново найдем уникальные значения"
   ]
  },
  {
   "cell_type": "code",
   "execution_count": 20,
   "id": "ffb4b86a",
   "metadata": {},
   "outputs": [
    {
     "data": {
      "text/plain": [
       "array(['Не женат / не замужем', 'в разводе', 'вдовец / вдова',\n",
       "       'гражданский брак', 'женат / замужем'], dtype=object)"
      ]
     },
     "execution_count": 20,
     "metadata": {},
     "output_type": "execute_result"
    }
   ],
   "source": [
    "df['family_status'].sort_values().unique()  # найдем и отсортируем уникальные значения для колонки с семейным положением"
   ]
  },
  {
   "cell_type": "markdown",
   "id": "d5a7cf01",
   "metadata": {},
   "source": [
    "На первый взгляд дубликатов нет, однако непонятно, важны ли для проверки гипотез промежуточные значения 'в разводе', 'вдовец / вдова', 'гражданский брак'. Также, нет ясности в том, что понимается под обозначением 'гражданский брак'. Это может быть обывательское понятие сожительства, либо трактовка понятия 'женат / замужем'. Чтобы это уточнить, необходимо обратиться к источнику данных. Будем считать, что все категории самостоятельны. "
   ]
  },
  {
   "cell_type": "code",
   "execution_count": 21,
   "id": "fff96904",
   "metadata": {},
   "outputs": [
    {
     "data": {
      "text/plain": [
       "array(['безработный', 'в декрете', 'госслужащий', 'компаньон',\n",
       "       'пенсионер', 'предприниматель', 'сотрудник', 'студент'],\n",
       "      dtype=object)"
      ]
     },
     "execution_count": 21,
     "metadata": {},
     "output_type": "execute_result"
    }
   ],
   "source": [
    "df['income_type'].sort_values().unique()  # найдем и отсортируем уникальные значения для колонки с типом занятости"
   ]
  },
  {
   "cell_type": "markdown",
   "id": "ac2e72a1",
   "metadata": {},
   "source": [
    "Дубликатов нет."
   ]
  },
  {
   "cell_type": "markdown",
   "id": "1101f4ee",
   "metadata": {},
   "source": [
    "**Создание новых датафреймов**\n",
    "\n",
    "Колонки education и family_status имеют дополнительные столбцы с идентификаторами (education_id и family_status_id), поэтому можно сохранить их как отдельные датафреймы, оставив в исходном датафрейме только столбцы с идентификаторами."
   ]
  },
  {
   "cell_type": "code",
   "execution_count": 22,
   "id": "9f6df9c8",
   "metadata": {},
   "outputs": [
    {
     "data": {
      "text/html": [
       "<div>\n",
       "<style scoped>\n",
       "    .dataframe tbody tr th:only-of-type {\n",
       "        vertical-align: middle;\n",
       "    }\n",
       "\n",
       "    .dataframe tbody tr th {\n",
       "        vertical-align: top;\n",
       "    }\n",
       "\n",
       "    .dataframe thead th {\n",
       "        text-align: right;\n",
       "    }\n",
       "</style>\n",
       "<table border=\"1\" class=\"dataframe\">\n",
       "  <thead>\n",
       "    <tr style=\"text-align: right;\">\n",
       "      <th></th>\n",
       "      <th>education_id</th>\n",
       "      <th>education</th>\n",
       "    </tr>\n",
       "  </thead>\n",
       "  <tbody>\n",
       "    <tr>\n",
       "      <th>0</th>\n",
       "      <td>0</td>\n",
       "      <td>высшее</td>\n",
       "    </tr>\n",
       "    <tr>\n",
       "      <th>1</th>\n",
       "      <td>1</td>\n",
       "      <td>среднее</td>\n",
       "    </tr>\n",
       "    <tr>\n",
       "      <th>2</th>\n",
       "      <td>2</td>\n",
       "      <td>неоконченное высшее</td>\n",
       "    </tr>\n",
       "    <tr>\n",
       "      <th>3</th>\n",
       "      <td>3</td>\n",
       "      <td>начальное</td>\n",
       "    </tr>\n",
       "    <tr>\n",
       "      <th>4</th>\n",
       "      <td>4</td>\n",
       "      <td>ученая степень</td>\n",
       "    </tr>\n",
       "  </tbody>\n",
       "</table>\n",
       "</div>"
      ],
      "text/plain": [
       "   education_id            education\n",
       "0             0               высшее\n",
       "1             1              среднее\n",
       "2             2  неоконченное высшее\n",
       "3             3            начальное\n",
       "4             4       ученая степень"
      ]
     },
     "metadata": {},
     "output_type": "display_data"
    },
    {
     "data": {
      "text/html": [
       "<div>\n",
       "<style scoped>\n",
       "    .dataframe tbody tr th:only-of-type {\n",
       "        vertical-align: middle;\n",
       "    }\n",
       "\n",
       "    .dataframe tbody tr th {\n",
       "        vertical-align: top;\n",
       "    }\n",
       "\n",
       "    .dataframe thead th {\n",
       "        text-align: right;\n",
       "    }\n",
       "</style>\n",
       "<table border=\"1\" class=\"dataframe\">\n",
       "  <thead>\n",
       "    <tr style=\"text-align: right;\">\n",
       "      <th></th>\n",
       "      <th>family_status_id</th>\n",
       "      <th>family_status</th>\n",
       "    </tr>\n",
       "  </thead>\n",
       "  <tbody>\n",
       "    <tr>\n",
       "      <th>0</th>\n",
       "      <td>0</td>\n",
       "      <td>женат / замужем</td>\n",
       "    </tr>\n",
       "    <tr>\n",
       "      <th>1</th>\n",
       "      <td>1</td>\n",
       "      <td>гражданский брак</td>\n",
       "    </tr>\n",
       "    <tr>\n",
       "      <th>2</th>\n",
       "      <td>2</td>\n",
       "      <td>вдовец / вдова</td>\n",
       "    </tr>\n",
       "    <tr>\n",
       "      <th>3</th>\n",
       "      <td>3</td>\n",
       "      <td>в разводе</td>\n",
       "    </tr>\n",
       "    <tr>\n",
       "      <th>4</th>\n",
       "      <td>4</td>\n",
       "      <td>Не женат / не замужем</td>\n",
       "    </tr>\n",
       "  </tbody>\n",
       "</table>\n",
       "</div>"
      ],
      "text/plain": [
       "   family_status_id          family_status\n",
       "0                 0        женат / замужем\n",
       "1                 1       гражданский брак\n",
       "2                 2         вдовец / вдова\n",
       "3                 3              в разводе\n",
       "4                 4  Не женат / не замужем"
      ]
     },
     "metadata": {},
     "output_type": "display_data"
    }
   ],
   "source": [
    "df_education = df[['education_id', 'education']] # создаем датафрейм с идентификаторами для образования\n",
    "df_family_status = df[['family_status_id', 'family_status']] # создаем датафрейм с идентификаторами для семейного положения\n",
    "df_education = df_education.drop_duplicates().reset_index(drop=True) # удаляем дубликаты и сбрасываем индекс\n",
    "df_family_status = df_family_status.drop_duplicates().reset_index(drop=True) # удаляем дубликаты и сбрасываем индекс\n",
    "\n",
    "display(df_education.sort_values(by='education_id')) # отсортировываем и выводим полученный словарь\n",
    "display(df_family_status.sort_values(by='family_status_id')) # отсортировываем и выводим полученный словарь"
   ]
  },
  {
   "cell_type": "code",
   "execution_count": 23,
   "id": "cbbeda35",
   "metadata": {
    "scrolled": false
   },
   "outputs": [
    {
     "data": {
      "text/html": [
       "<div>\n",
       "<style scoped>\n",
       "    .dataframe tbody tr th:only-of-type {\n",
       "        vertical-align: middle;\n",
       "    }\n",
       "\n",
       "    .dataframe tbody tr th {\n",
       "        vertical-align: top;\n",
       "    }\n",
       "\n",
       "    .dataframe thead th {\n",
       "        text-align: right;\n",
       "    }\n",
       "</style>\n",
       "<table border=\"1\" class=\"dataframe\">\n",
       "  <thead>\n",
       "    <tr style=\"text-align: right;\">\n",
       "      <th></th>\n",
       "      <th>children</th>\n",
       "      <th>days_employed</th>\n",
       "      <th>dob_years</th>\n",
       "      <th>education_id</th>\n",
       "      <th>family_status_id</th>\n",
       "      <th>gender</th>\n",
       "      <th>income_type</th>\n",
       "      <th>debt</th>\n",
       "      <th>total_income</th>\n",
       "      <th>purpose</th>\n",
       "    </tr>\n",
       "  </thead>\n",
       "  <tbody>\n",
       "    <tr>\n",
       "      <th>0</th>\n",
       "      <td>1</td>\n",
       "      <td>-8437.673028</td>\n",
       "      <td>42</td>\n",
       "      <td>0</td>\n",
       "      <td>0</td>\n",
       "      <td>F</td>\n",
       "      <td>сотрудник</td>\n",
       "      <td>0</td>\n",
       "      <td>253875</td>\n",
       "      <td>покупка жилья</td>\n",
       "    </tr>\n",
       "    <tr>\n",
       "      <th>1</th>\n",
       "      <td>1</td>\n",
       "      <td>-4024.803754</td>\n",
       "      <td>36</td>\n",
       "      <td>1</td>\n",
       "      <td>0</td>\n",
       "      <td>F</td>\n",
       "      <td>сотрудник</td>\n",
       "      <td>0</td>\n",
       "      <td>112080</td>\n",
       "      <td>приобретение автомобиля</td>\n",
       "    </tr>\n",
       "    <tr>\n",
       "      <th>2</th>\n",
       "      <td>0</td>\n",
       "      <td>-5623.422610</td>\n",
       "      <td>33</td>\n",
       "      <td>1</td>\n",
       "      <td>0</td>\n",
       "      <td>M</td>\n",
       "      <td>сотрудник</td>\n",
       "      <td>0</td>\n",
       "      <td>145885</td>\n",
       "      <td>покупка жилья</td>\n",
       "    </tr>\n",
       "    <tr>\n",
       "      <th>3</th>\n",
       "      <td>3</td>\n",
       "      <td>-4124.747207</td>\n",
       "      <td>32</td>\n",
       "      <td>1</td>\n",
       "      <td>0</td>\n",
       "      <td>M</td>\n",
       "      <td>сотрудник</td>\n",
       "      <td>0</td>\n",
       "      <td>267628</td>\n",
       "      <td>дополнительное образование</td>\n",
       "    </tr>\n",
       "    <tr>\n",
       "      <th>4</th>\n",
       "      <td>0</td>\n",
       "      <td>340266.072047</td>\n",
       "      <td>53</td>\n",
       "      <td>1</td>\n",
       "      <td>1</td>\n",
       "      <td>F</td>\n",
       "      <td>пенсионер</td>\n",
       "      <td>0</td>\n",
       "      <td>158616</td>\n",
       "      <td>сыграть свадьбу</td>\n",
       "    </tr>\n",
       "  </tbody>\n",
       "</table>\n",
       "</div>"
      ],
      "text/plain": [
       "   children  days_employed  dob_years  education_id  family_status_id gender  \\\n",
       "0         1   -8437.673028         42             0                 0      F   \n",
       "1         1   -4024.803754         36             1                 0      F   \n",
       "2         0   -5623.422610         33             1                 0      M   \n",
       "3         3   -4124.747207         32             1                 0      M   \n",
       "4         0  340266.072047         53             1                 1      F   \n",
       "\n",
       "  income_type  debt  total_income                     purpose  \n",
       "0   сотрудник     0        253875               покупка жилья  \n",
       "1   сотрудник     0        112080     приобретение автомобиля  \n",
       "2   сотрудник     0        145885               покупка жилья  \n",
       "3   сотрудник     0        267628  дополнительное образование  \n",
       "4   пенсионер     0        158616             сыграть свадьбу  "
      ]
     },
     "execution_count": 23,
     "metadata": {},
     "output_type": "execute_result"
    }
   ],
   "source": [
    "df = df[[\n",
    "    'children',\n",
    "    'days_employed', \n",
    "    'dob_years', \n",
    "    'education_id', \n",
    "    'family_status_id', \n",
    "    'gender', \n",
    "    'income_type', \n",
    "    'debt', \n",
    "    'total_income', \n",
    "    'purpose'\n",
    "]] # удаляем из исходного датафрейма education и family_status\n",
    "df.head() # проверяем датафрейм"
   ]
  },
  {
   "cell_type": "markdown",
   "id": "e57a6ab5",
   "metadata": {},
   "source": [
    "**Разбивка значений по категориям**\n",
    "\n",
    "Разобьем значения дохода по категориям:\n",
    "* 0–30000 — 'E';\n",
    "* 30001–50000 — 'D';\n",
    "* 50001–200000 — 'C';\n",
    "* 200001–1000000 — 'B';\n",
    "* 1000001 и выше — 'A'.\n",
    "\n",
    "Для этого, напишем функцию, которая будет проходить по строкам в колонке и в зависимости от содержимого присваивать одну из категорий новому столбцу `total_income_category`."
   ]
  },
  {
   "cell_type": "code",
   "execution_count": 24,
   "id": "12e4a1a7",
   "metadata": {},
   "outputs": [
    {
     "data": {
      "text/plain": [
       "'B'"
      ]
     },
     "execution_count": 24,
     "metadata": {},
     "output_type": "execute_result"
    }
   ],
   "source": [
    "def replace_total_income(total_income): # описываем функцию, присваивающую новые категории\n",
    "    if 0 <= total_income < 30000:\n",
    "        return 'E'\n",
    "    if 30001 <= total_income < 50000:\n",
    "        return 'D'\n",
    "    if 50001 <= total_income < 200000:\n",
    "        return 'C'\n",
    "    if 200001 <= total_income < 1000000:\n",
    "        return 'B' \n",
    "    if total_income >= 1000001:\n",
    "        return 'A' \n",
    "    return 'ошибка'\n",
    "\n",
    "replace_total_income(200002) # проверка работы функции"
   ]
  },
  {
   "cell_type": "code",
   "execution_count": 25,
   "id": "4dae054b",
   "metadata": {},
   "outputs": [
    {
     "data": {
      "text/plain": [
       "array(['A', 'B', 'C', 'D', 'E'], dtype=object)"
      ]
     },
     "execution_count": 25,
     "metadata": {},
     "output_type": "execute_result"
    }
   ],
   "source": [
    "df['total_income_category'] = df['total_income'].apply(replace_total_income) # применяем нашу функцию к столбцу total_income\n",
    "df['total_income_category'].sort_values().unique() # проверяем, не было ли ошибок при замене"
   ]
  },
  {
   "cell_type": "markdown",
   "id": "53a1bf08",
   "metadata": {},
   "source": [
    "Создадим функцию, которая на основании данных из столбца `purpose` сформирует новый столбец `purpose_category`, в который войдут следующие категории:\n",
    "\n",
    "* 'операции с автомобилем',\n",
    "* 'операции с недвижимостью',\n",
    "* 'проведение свадьбы',\n",
    "* 'получение образования'."
   ]
  },
  {
   "cell_type": "code",
   "execution_count": 26,
   "id": "b04f3c9e",
   "metadata": {},
   "outputs": [
    {
     "data": {
      "text/plain": [
       "array(['автомобили', 'автомобиль', 'высшее образование',\n",
       "       'дополнительное образование', 'жилье',\n",
       "       'заняться высшим образованием', 'заняться образованием',\n",
       "       'на покупку автомобиля', 'на покупку подержанного автомобиля',\n",
       "       'на покупку своего автомобиля', 'на проведение свадьбы',\n",
       "       'недвижимость', 'образование', 'операции с жильем',\n",
       "       'операции с коммерческой недвижимостью',\n",
       "       'операции с недвижимостью', 'операции со своей недвижимостью',\n",
       "       'покупка жилой недвижимости', 'покупка жилья',\n",
       "       'покупка жилья для сдачи', 'покупка жилья для семьи',\n",
       "       'покупка коммерческой недвижимости', 'покупка недвижимости',\n",
       "       'покупка своего жилья', 'получение высшего образования',\n",
       "       'получение дополнительного образования', 'получение образования',\n",
       "       'приобретение автомобиля', 'профильное образование',\n",
       "       'ремонт жилью', 'свадьба', 'свой автомобиль',\n",
       "       'сделка с автомобилем', 'сделка с подержанным автомобилем',\n",
       "       'строительство жилой недвижимости', 'строительство недвижимости',\n",
       "       'строительство собственной недвижимости', 'сыграть свадьбу'],\n",
       "      dtype=object)"
      ]
     },
     "execution_count": 26,
     "metadata": {},
     "output_type": "execute_result"
    }
   ],
   "source": [
    "df['purpose'].sort_values().unique()  # найдем и отсортируем уникальные значения для колонки с целью кредита"
   ]
  },
  {
   "cell_type": "code",
   "execution_count": 27,
   "id": "62a76ed4",
   "metadata": {},
   "outputs": [
    {
     "data": {
      "text/plain": [
       "'операции с недвижимостью'"
      ]
     },
     "execution_count": 27,
     "metadata": {},
     "output_type": "execute_result"
    }
   ],
   "source": [
    "def replace_purpose(purpose): # описываем функцию, присваивающую новые категории\n",
    "    if 'авто' in purpose:\n",
    "        return 'операции с автомобилем'\n",
    "    if 'образ' in purpose:\n",
    "        return 'получение образования'\n",
    "    if 'жиль' in purpose:\n",
    "        return 'операции с недвижимостью'\n",
    "    if 'недвиж' in purpose:\n",
    "        return 'операции с недвижимостью'\n",
    "    if 'строит' in purpose:\n",
    "        return 'операции с недвижимостью'\n",
    "    if 'свадьб' in purpose:\n",
    "        return 'проведение свадьбы'\n",
    "    return 'ошибка'\n",
    "\n",
    "replace_purpose('покупка жилья для семьи') # проверка работы функции"
   ]
  },
  {
   "cell_type": "code",
   "execution_count": 28,
   "id": "9ecd210b",
   "metadata": {},
   "outputs": [
    {
     "data": {
      "text/plain": [
       "array(['операции с автомобилем', 'операции с недвижимостью',\n",
       "       'получение образования', 'проведение свадьбы'], dtype=object)"
      ]
     },
     "execution_count": 28,
     "metadata": {},
     "output_type": "execute_result"
    }
   ],
   "source": [
    "df['purpose_category'] = df['purpose'].apply(replace_purpose) # применяем нашу функцию к столбцу purpose\n",
    "df['purpose_category'].sort_values().unique() # проверяем, не было ли ошибок при замене"
   ]
  },
  {
   "cell_type": "markdown",
   "id": "c2f7cff6",
   "metadata": {},
   "source": [
    "## Проверка гипотез"
   ]
  },
  {
   "cell_type": "markdown",
   "id": "aeb85244",
   "metadata": {},
   "source": [
    "### На возврат кредита в срок влияет количество детей клиента\n",
    "\n",
    "Проверим гипотезу следующим образом:\n",
    "* сгруппируем клиентов по количеству детей\n",
    "* подсчитаем количество должников в каждой группе\n",
    "* вычислим относительное число должников в каждой группе "
   ]
  },
  {
   "cell_type": "code",
   "execution_count": 29,
   "id": "4db398cc",
   "metadata": {},
   "outputs": [
    {
     "data": {
      "text/plain": [
       "children\n",
       "0    0.075353\n",
       "1    0.091639\n",
       "2    0.094925\n",
       "3    0.081818\n",
       "4    0.097561\n",
       "5    0.000000\n",
       "dtype: float64"
      ]
     },
     "execution_count": 29,
     "metadata": {},
     "output_type": "execute_result"
    }
   ],
   "source": [
    "children_grouped_count = df.groupby('children')['children'].count() # группируем клиентов по количеству детей\n",
    "children_grouped_debt_sum = df.groupby('children')['debt'].sum() # считаем количество должников в каждой группе\n",
    "children_grouped_ratio = children_grouped_debt_sum / children_grouped_count # вычисляем относительное число должников в каждой группе\n",
    "\n",
    "children_grouped_ratio"
   ]
  },
  {
   "cell_type": "markdown",
   "id": "0c48ad2d",
   "metadata": {},
   "source": [
    "**Выводы**\n",
    "\n",
    "Полученный результат показывает, что относительное число должников с детьми выше числа должников без детей на ~ 2%. Можно утверждать, что первая гипотеза подтвердилась - должники без детей лучше возвращают кредиты. "
   ]
  },
  {
   "cell_type": "markdown",
   "id": "3ab7ce1c",
   "metadata": {},
   "source": [
    "### На возврат кредита в срок влияет семейное положение клиента\n",
    "\n",
    "Проверим гипотезу следующим образом:\n",
    "* сгруппируем клиентов по семейному положению\n",
    "* подсчитаем количество должников в каждой группе\n",
    "* вычислим относительное число должников в каждой группе "
   ]
  },
  {
   "cell_type": "code",
   "execution_count": 30,
   "id": "ef951b85",
   "metadata": {},
   "outputs": [
    {
     "data": {
      "text/html": [
       "<div>\n",
       "<style scoped>\n",
       "    .dataframe tbody tr th:only-of-type {\n",
       "        vertical-align: middle;\n",
       "    }\n",
       "\n",
       "    .dataframe tbody tr th {\n",
       "        vertical-align: top;\n",
       "    }\n",
       "\n",
       "    .dataframe thead th {\n",
       "        text-align: right;\n",
       "    }\n",
       "</style>\n",
       "<table border=\"1\" class=\"dataframe\">\n",
       "  <thead>\n",
       "    <tr style=\"text-align: right;\">\n",
       "      <th></th>\n",
       "      <th>family_status_id</th>\n",
       "      <th>family_status</th>\n",
       "    </tr>\n",
       "  </thead>\n",
       "  <tbody>\n",
       "    <tr>\n",
       "      <th>0</th>\n",
       "      <td>0</td>\n",
       "      <td>женат / замужем</td>\n",
       "    </tr>\n",
       "    <tr>\n",
       "      <th>1</th>\n",
       "      <td>1</td>\n",
       "      <td>гражданский брак</td>\n",
       "    </tr>\n",
       "    <tr>\n",
       "      <th>2</th>\n",
       "      <td>2</td>\n",
       "      <td>вдовец / вдова</td>\n",
       "    </tr>\n",
       "    <tr>\n",
       "      <th>3</th>\n",
       "      <td>3</td>\n",
       "      <td>в разводе</td>\n",
       "    </tr>\n",
       "    <tr>\n",
       "      <th>4</th>\n",
       "      <td>4</td>\n",
       "      <td>Не женат / не замужем</td>\n",
       "    </tr>\n",
       "  </tbody>\n",
       "</table>\n",
       "</div>"
      ],
      "text/plain": [
       "   family_status_id          family_status\n",
       "0                 0        женат / замужем\n",
       "1                 1       гражданский брак\n",
       "2                 2         вдовец / вдова\n",
       "3                 3              в разводе\n",
       "4                 4  Не женат / не замужем"
      ]
     },
     "metadata": {},
     "output_type": "display_data"
    },
    {
     "data": {
      "text/plain": [
       "family_status_id\n",
       "0    0.075421\n",
       "1    0.093202\n",
       "2    0.065693\n",
       "3    0.071130\n",
       "4    0.097509\n",
       "dtype: float64"
      ]
     },
     "metadata": {},
     "output_type": "display_data"
    }
   ],
   "source": [
    "family_status_id_count = df.groupby('family_status_id')['family_status_id'].count() # группируем клиентов по семейному положению\n",
    "family_status_id_grouped_debt_sum = df.groupby('family_status_id')['debt'].sum() # считаем количество должников в каждой группе\n",
    "family_status_id_grouped_ratio = family_status_id_grouped_debt_sum / family_status_id_count # вычисляем относительное число должников в каждой группе\n",
    "\n",
    "display(df_family_status)\n",
    "display(family_status_id_grouped_ratio)"
   ]
  },
  {
   "cell_type": "markdown",
   "id": "cd67dcde",
   "metadata": {},
   "source": [
    "**Выводы**\n",
    "\n",
    "Полученный результат показывает, что меньше всего должников среди вдовцов, женатых и разведеных клиентов. Больше должников среди неженатых и проживающих в гражданском браке. Можно утверждать, что вторая гипотеза подтвердилась. "
   ]
  },
  {
   "cell_type": "markdown",
   "id": "2bc36340",
   "metadata": {},
   "source": [
    "### На возврат кредита в срок влияет уровень дохода клиента\n",
    "\n",
    "Проверим гипотезу следующим образом:\n",
    "* сгруппируем клиентов по уровню дохода\n",
    "* подсчитаем количество должников в каждой группе\n",
    "* вычислим относительное число должников в каждой группе "
   ]
  },
  {
   "cell_type": "code",
   "execution_count": 31,
   "id": "d53c83ba",
   "metadata": {},
   "outputs": [
    {
     "data": {
      "text/plain": [
       "total_income_category\n",
       "A    0.080000\n",
       "B    0.070621\n",
       "C    0.084825\n",
       "D    0.060000\n",
       "E    0.090909\n",
       "dtype: float64"
      ]
     },
     "execution_count": 31,
     "metadata": {},
     "output_type": "execute_result"
    }
   ],
   "source": [
    "total_income_category_count = df.groupby('total_income_category')['total_income_category'].count() # группируем клиентов по уровню доходов\n",
    "total_income_category_grouped_debt_sum = df.groupby('total_income_category')['debt'].sum() # считаем количество должников в каждой группе\n",
    "total_income_category_grouped_ratio = total_income_category_grouped_debt_sum / total_income_category_count # вычисляем относительное число должников в каждой группе\n",
    "\n",
    "total_income_category_grouped_ratio"
   ]
  },
  {
   "cell_type": "markdown",
   "id": "5dd53251",
   "metadata": {},
   "source": [
    "**Выводы**\n",
    "\n",
    "Полученный результат показывает, что худшие заемщики - люди с самым низким уровнем дохода. Меньше всего должников среди людей со средним уровнем дохода. Можно утверждать, что третья гипотеза подтвердилась. "
   ]
  },
  {
   "cell_type": "markdown",
   "id": "e04b7d87",
   "metadata": {},
   "source": [
    "### На возврат кредита в срок влияет цель кредита\n",
    "\n",
    "Проверим гипотезу следующим образом:\n",
    "* сгруппируем клиентов по цели кредита и подсчитаем количество должников в каждой группе с помощью сводной таблицы\n",
    "* вычислим относительное число должников в каждой группе "
   ]
  },
  {
   "cell_type": "code",
   "execution_count": 35,
   "id": "2e7b5660",
   "metadata": {},
   "outputs": [
    {
     "data": {
      "text/html": [
       "<div>\n",
       "<style scoped>\n",
       "    .dataframe tbody tr th:only-of-type {\n",
       "        vertical-align: middle;\n",
       "    }\n",
       "\n",
       "    .dataframe tbody tr th {\n",
       "        vertical-align: top;\n",
       "    }\n",
       "\n",
       "    .dataframe thead tr th {\n",
       "        text-align: left;\n",
       "    }\n",
       "\n",
       "    .dataframe thead tr:last-of-type th {\n",
       "        text-align: right;\n",
       "    }\n",
       "</style>\n",
       "<table border=\"1\" class=\"dataframe\">\n",
       "  <thead>\n",
       "    <tr>\n",
       "      <th></th>\n",
       "      <th>sum</th>\n",
       "      <th>count</th>\n",
       "      <th>ratio</th>\n",
       "    </tr>\n",
       "    <tr>\n",
       "      <th></th>\n",
       "      <th>debt</th>\n",
       "      <th>debt</th>\n",
       "      <th></th>\n",
       "    </tr>\n",
       "    <tr>\n",
       "      <th>purpose_category</th>\n",
       "      <th></th>\n",
       "      <th></th>\n",
       "      <th></th>\n",
       "    </tr>\n",
       "  </thead>\n",
       "  <tbody>\n",
       "    <tr>\n",
       "      <th>операции с автомобилем</th>\n",
       "      <td>403</td>\n",
       "      <td>4308</td>\n",
       "      <td>0.093547</td>\n",
       "    </tr>\n",
       "    <tr>\n",
       "      <th>операции с недвижимостью</th>\n",
       "      <td>782</td>\n",
       "      <td>10814</td>\n",
       "      <td>0.072314</td>\n",
       "    </tr>\n",
       "    <tr>\n",
       "      <th>получение образования</th>\n",
       "      <td>370</td>\n",
       "      <td>4014</td>\n",
       "      <td>0.092177</td>\n",
       "    </tr>\n",
       "    <tr>\n",
       "      <th>проведение свадьбы</th>\n",
       "      <td>186</td>\n",
       "      <td>2335</td>\n",
       "      <td>0.079657</td>\n",
       "    </tr>\n",
       "  </tbody>\n",
       "</table>\n",
       "</div>"
      ],
      "text/plain": [
       "                          sum  count     ratio\n",
       "                         debt   debt          \n",
       "purpose_category                              \n",
       "операции с автомобилем    403   4308  0.093547\n",
       "операции с недвижимостью  782  10814  0.072314\n",
       "получение образования     370   4014  0.092177\n",
       "проведение свадьбы        186   2335  0.079657"
      ]
     },
     "execution_count": 35,
     "metadata": {},
     "output_type": "execute_result"
    }
   ],
   "source": [
    "purpose_pivot = df.pivot_table(index='purpose_category', values='debt', aggfunc=['sum', 'count']) # строим сводную таблицу, группируем по цели кредита, в качестве значений выбираем наличие задолженности, применяем функции суммировать и подсчитать количество\n",
    "purpose_pivot['ratio'] = purpose_pivot['sum'] / purpose_pivot['count'] # вычисляем относительное число должников в каждой группе\n",
    "purpose_pivot"
   ]
  },
  {
   "cell_type": "markdown",
   "id": "da44a6dd",
   "metadata": {},
   "source": [
    "**Выводы**\n",
    "\n",
    "Полученный результат показывает, что хуже всего отдают кредиты на авто и образование. Меньше всего должников среди клиентов, оформивших кредит на недвижимость. Можно утверждать, что четвертая гипотеза подтвердилась."
   ]
  },
  {
   "cell_type": "markdown",
   "id": "2b7201a6",
   "metadata": {},
   "source": [
    "## Итоги исследования"
   ]
  },
  {
   "cell_type": "markdown",
   "id": "30acde95",
   "metadata": {},
   "source": [
    "Мы проверили четыре гипотезы и установили:\n",
    "\n",
    "1. На возврат кредита в срок влияет наличие детей у клиента - должники без детей лучше возвращают кредиты.\n",
    "\n",
    "Первая гипотеза подтвердилась.\n",
    "\n",
    "2. На возврат кредита в срок влияет семейное положение клиента - больше всего должников среди неженатых и проживающих в гражданском браке.\n",
    "\n",
    "Вторая гипотеза подтвердилась.\n",
    "\n",
    "3. На возврат кредита в срок влияет уровень дохода клиента - люди с низким уровнем дохода хуже отдают долги.\n",
    "\n",
    "Третья гипотеза подтвердилась.\n",
    "\n",
    "4. На возврат кредита в срок влияет цель кредита - меньше всего должников среди клиентов, оформивших кредит на операции с недвижимостью.\n",
    "\n",
    "Четвертая гипотеза подтвердилась.\n",
    "\n"
   ]
  }
 ],
 "metadata": {
  "ExecuteTimeLog": [
   {
    "duration": 535,
    "start_time": "2022-05-01T14:35:58.107Z"
   },
   {
    "duration": 15,
    "start_time": "2022-05-01T14:35:58.644Z"
   },
   {
    "duration": 9,
    "start_time": "2022-05-01T14:35:58.661Z"
   },
   {
    "duration": 6,
    "start_time": "2022-05-01T14:35:58.672Z"
   },
   {
    "duration": 17,
    "start_time": "2022-05-01T14:35:58.680Z"
   },
   {
    "duration": 8,
    "start_time": "2022-05-01T14:35:58.699Z"
   },
   {
    "duration": 45,
    "start_time": "2022-05-01T14:35:58.708Z"
   },
   {
    "duration": 6,
    "start_time": "2022-05-01T14:35:58.755Z"
   },
   {
    "duration": 9,
    "start_time": "2022-05-01T14:35:58.763Z"
   },
   {
    "duration": 11,
    "start_time": "2022-05-01T14:35:58.773Z"
   },
   {
    "duration": 7,
    "start_time": "2022-05-01T14:35:58.786Z"
   },
   {
    "duration": 6,
    "start_time": "2022-05-01T14:35:58.795Z"
   },
   {
    "duration": 47,
    "start_time": "2022-05-01T14:35:58.802Z"
   },
   {
    "duration": 6,
    "start_time": "2022-05-01T14:35:58.852Z"
   },
   {
    "duration": 29,
    "start_time": "2022-05-01T14:35:58.860Z"
   },
   {
    "duration": 32,
    "start_time": "2022-05-01T14:35:58.891Z"
   },
   {
    "duration": 51,
    "start_time": "2022-05-01T14:35:58.925Z"
   },
   {
    "duration": 14,
    "start_time": "2022-05-01T14:35:58.977Z"
   },
   {
    "duration": 26,
    "start_time": "2022-05-01T14:35:58.993Z"
   },
   {
    "duration": 38,
    "start_time": "2022-05-01T14:35:59.021Z"
   },
   {
    "duration": 15,
    "start_time": "2022-05-01T14:35:59.060Z"
   },
   {
    "duration": 20,
    "start_time": "2022-05-01T14:35:59.076Z"
   },
   {
    "duration": 14,
    "start_time": "2022-05-01T14:35:59.098Z"
   },
   {
    "duration": 35,
    "start_time": "2022-05-01T14:35:59.114Z"
   },
   {
    "duration": 21,
    "start_time": "2022-05-01T14:35:59.151Z"
   },
   {
    "duration": 16,
    "start_time": "2022-05-01T14:35:59.174Z"
   },
   {
    "duration": 5,
    "start_time": "2022-05-01T14:35:59.191Z"
   },
   {
    "duration": 51,
    "start_time": "2022-05-01T14:35:59.197Z"
   },
   {
    "duration": 9,
    "start_time": "2022-05-01T14:35:59.249Z"
   },
   {
    "duration": 11,
    "start_time": "2022-05-01T14:35:59.259Z"
   },
   {
    "duration": 10,
    "start_time": "2022-05-01T14:35:59.272Z"
   },
   {
    "duration": 12,
    "start_time": "2022-05-01T14:35:59.284Z"
   }
  ],
  "kernelspec": {
   "display_name": "Python 3 (ipykernel)",
   "language": "python",
   "name": "python3"
  },
  "language_info": {
   "codemirror_mode": {
    "name": "ipython",
    "version": 3
   },
   "file_extension": ".py",
   "mimetype": "text/x-python",
   "name": "python",
   "nbconvert_exporter": "python",
   "pygments_lexer": "ipython3",
   "version": "3.9.7"
  },
  "toc": {
   "base_numbering": 1,
   "nav_menu": {},
   "number_sections": true,
   "sideBar": true,
   "skip_h1_title": true,
   "title_cell": "Table of Contents",
   "title_sidebar": "Contents",
   "toc_cell": false,
   "toc_position": {},
   "toc_section_display": true,
   "toc_window_display": false
  }
 },
 "nbformat": 4,
 "nbformat_minor": 5
}
