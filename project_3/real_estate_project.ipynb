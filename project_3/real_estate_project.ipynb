{
 "cells": [
  {
   "cell_type": "markdown",
   "metadata": {},
   "source": [
    "# Исследование объявлений о продаже квартир\n",
    "\n",
    "Представлены данные сервиса Яндекc Недвижимость — архив объявлений о продаже квартир в Санкт-Петербурге и соседних населённых пунктах за несколько лет. По каждой квартире на продажу доступны два вида данных. Первые вписаны пользователем, вторые получены автоматически на основе картографических данных. Например, расстояние до центра, аэропорта, ближайшего парка и водоёма. "
   ]
  },
  {
   "cell_type": "markdown",
   "metadata": {},
   "source": [
    "**Цель исследования -** установить параметры, определяющие рыночную стоимость объектов недвижимости\n",
    "\n",
    "**Ход исследования**\n",
    "1. Изучение данных.\n",
    "2. Предобработка данных.\n",
    "3. Расчет дополнительных характеристик.\n",
    "4. Исследовательский анализ данных\n",
    "5. Подготовка общего вывода."
   ]
  },
  {
   "cell_type": "markdown",
   "metadata": {},
   "source": [
    "## Изучение данных из файла"
   ]
  },
  {
   "cell_type": "code",
   "execution_count": 1,
   "metadata": {},
   "outputs": [],
   "source": [
    "import pandas as pd\n",
    "import matplotlib.pyplot as plt\n",
    "import seaborn as sns"
   ]
  },
  {
   "cell_type": "code",
   "execution_count": 2,
   "metadata": {},
   "outputs": [],
   "source": [
    "data = pd.read_csv('/datasets/real_estate_data.csv', sep='\\t')"
   ]
  },
  {
   "cell_type": "code",
   "execution_count": 3,
   "metadata": {
    "scrolled": false
   },
   "outputs": [
    {
     "data": {
      "text/html": [
       "<div>\n",
       "<style scoped>\n",
       "    .dataframe tbody tr th:only-of-type {\n",
       "        vertical-align: middle;\n",
       "    }\n",
       "\n",
       "    .dataframe tbody tr th {\n",
       "        vertical-align: top;\n",
       "    }\n",
       "\n",
       "    .dataframe thead th {\n",
       "        text-align: right;\n",
       "    }\n",
       "</style>\n",
       "<table border=\"1\" class=\"dataframe\">\n",
       "  <thead>\n",
       "    <tr style=\"text-align: right;\">\n",
       "      <th></th>\n",
       "      <th>total_images</th>\n",
       "      <th>last_price</th>\n",
       "      <th>total_area</th>\n",
       "      <th>first_day_exposition</th>\n",
       "      <th>rooms</th>\n",
       "      <th>ceiling_height</th>\n",
       "      <th>floors_total</th>\n",
       "      <th>living_area</th>\n",
       "      <th>floor</th>\n",
       "      <th>is_apartment</th>\n",
       "      <th>...</th>\n",
       "      <th>kitchen_area</th>\n",
       "      <th>balcony</th>\n",
       "      <th>locality_name</th>\n",
       "      <th>airports_nearest</th>\n",
       "      <th>cityCenters_nearest</th>\n",
       "      <th>parks_around3000</th>\n",
       "      <th>parks_nearest</th>\n",
       "      <th>ponds_around3000</th>\n",
       "      <th>ponds_nearest</th>\n",
       "      <th>days_exposition</th>\n",
       "    </tr>\n",
       "  </thead>\n",
       "  <tbody>\n",
       "    <tr>\n",
       "      <th>0</th>\n",
       "      <td>20</td>\n",
       "      <td>13000000.0</td>\n",
       "      <td>108.00</td>\n",
       "      <td>2019-03-07T00:00:00</td>\n",
       "      <td>3</td>\n",
       "      <td>2.70</td>\n",
       "      <td>16.0</td>\n",
       "      <td>51.00</td>\n",
       "      <td>8</td>\n",
       "      <td>NaN</td>\n",
       "      <td>...</td>\n",
       "      <td>25.00</td>\n",
       "      <td>NaN</td>\n",
       "      <td>Санкт-Петербург</td>\n",
       "      <td>18863.0</td>\n",
       "      <td>16028.0</td>\n",
       "      <td>1.0</td>\n",
       "      <td>482.0</td>\n",
       "      <td>2.0</td>\n",
       "      <td>755.0</td>\n",
       "      <td>NaN</td>\n",
       "    </tr>\n",
       "    <tr>\n",
       "      <th>1</th>\n",
       "      <td>7</td>\n",
       "      <td>3350000.0</td>\n",
       "      <td>40.40</td>\n",
       "      <td>2018-12-04T00:00:00</td>\n",
       "      <td>1</td>\n",
       "      <td>NaN</td>\n",
       "      <td>11.0</td>\n",
       "      <td>18.60</td>\n",
       "      <td>1</td>\n",
       "      <td>NaN</td>\n",
       "      <td>...</td>\n",
       "      <td>11.00</td>\n",
       "      <td>2.0</td>\n",
       "      <td>посёлок Шушары</td>\n",
       "      <td>12817.0</td>\n",
       "      <td>18603.0</td>\n",
       "      <td>0.0</td>\n",
       "      <td>NaN</td>\n",
       "      <td>0.0</td>\n",
       "      <td>NaN</td>\n",
       "      <td>81.0</td>\n",
       "    </tr>\n",
       "    <tr>\n",
       "      <th>2</th>\n",
       "      <td>10</td>\n",
       "      <td>5196000.0</td>\n",
       "      <td>56.00</td>\n",
       "      <td>2015-08-20T00:00:00</td>\n",
       "      <td>2</td>\n",
       "      <td>NaN</td>\n",
       "      <td>5.0</td>\n",
       "      <td>34.30</td>\n",
       "      <td>4</td>\n",
       "      <td>NaN</td>\n",
       "      <td>...</td>\n",
       "      <td>8.30</td>\n",
       "      <td>0.0</td>\n",
       "      <td>Санкт-Петербург</td>\n",
       "      <td>21741.0</td>\n",
       "      <td>13933.0</td>\n",
       "      <td>1.0</td>\n",
       "      <td>90.0</td>\n",
       "      <td>2.0</td>\n",
       "      <td>574.0</td>\n",
       "      <td>558.0</td>\n",
       "    </tr>\n",
       "    <tr>\n",
       "      <th>3</th>\n",
       "      <td>0</td>\n",
       "      <td>64900000.0</td>\n",
       "      <td>159.00</td>\n",
       "      <td>2015-07-24T00:00:00</td>\n",
       "      <td>3</td>\n",
       "      <td>NaN</td>\n",
       "      <td>14.0</td>\n",
       "      <td>NaN</td>\n",
       "      <td>9</td>\n",
       "      <td>NaN</td>\n",
       "      <td>...</td>\n",
       "      <td>NaN</td>\n",
       "      <td>0.0</td>\n",
       "      <td>Санкт-Петербург</td>\n",
       "      <td>28098.0</td>\n",
       "      <td>6800.0</td>\n",
       "      <td>2.0</td>\n",
       "      <td>84.0</td>\n",
       "      <td>3.0</td>\n",
       "      <td>234.0</td>\n",
       "      <td>424.0</td>\n",
       "    </tr>\n",
       "    <tr>\n",
       "      <th>4</th>\n",
       "      <td>2</td>\n",
       "      <td>10000000.0</td>\n",
       "      <td>100.00</td>\n",
       "      <td>2018-06-19T00:00:00</td>\n",
       "      <td>2</td>\n",
       "      <td>3.03</td>\n",
       "      <td>14.0</td>\n",
       "      <td>32.00</td>\n",
       "      <td>13</td>\n",
       "      <td>NaN</td>\n",
       "      <td>...</td>\n",
       "      <td>41.00</td>\n",
       "      <td>NaN</td>\n",
       "      <td>Санкт-Петербург</td>\n",
       "      <td>31856.0</td>\n",
       "      <td>8098.0</td>\n",
       "      <td>2.0</td>\n",
       "      <td>112.0</td>\n",
       "      <td>1.0</td>\n",
       "      <td>48.0</td>\n",
       "      <td>121.0</td>\n",
       "    </tr>\n",
       "    <tr>\n",
       "      <th>5</th>\n",
       "      <td>10</td>\n",
       "      <td>2890000.0</td>\n",
       "      <td>30.40</td>\n",
       "      <td>2018-09-10T00:00:00</td>\n",
       "      <td>1</td>\n",
       "      <td>NaN</td>\n",
       "      <td>12.0</td>\n",
       "      <td>14.40</td>\n",
       "      <td>5</td>\n",
       "      <td>NaN</td>\n",
       "      <td>...</td>\n",
       "      <td>9.10</td>\n",
       "      <td>NaN</td>\n",
       "      <td>городской посёлок Янино-1</td>\n",
       "      <td>NaN</td>\n",
       "      <td>NaN</td>\n",
       "      <td>NaN</td>\n",
       "      <td>NaN</td>\n",
       "      <td>NaN</td>\n",
       "      <td>NaN</td>\n",
       "      <td>55.0</td>\n",
       "    </tr>\n",
       "    <tr>\n",
       "      <th>6</th>\n",
       "      <td>6</td>\n",
       "      <td>3700000.0</td>\n",
       "      <td>37.30</td>\n",
       "      <td>2017-11-02T00:00:00</td>\n",
       "      <td>1</td>\n",
       "      <td>NaN</td>\n",
       "      <td>26.0</td>\n",
       "      <td>10.60</td>\n",
       "      <td>6</td>\n",
       "      <td>NaN</td>\n",
       "      <td>...</td>\n",
       "      <td>14.40</td>\n",
       "      <td>1.0</td>\n",
       "      <td>посёлок Парголово</td>\n",
       "      <td>52996.0</td>\n",
       "      <td>19143.0</td>\n",
       "      <td>0.0</td>\n",
       "      <td>NaN</td>\n",
       "      <td>0.0</td>\n",
       "      <td>NaN</td>\n",
       "      <td>155.0</td>\n",
       "    </tr>\n",
       "    <tr>\n",
       "      <th>7</th>\n",
       "      <td>5</td>\n",
       "      <td>7915000.0</td>\n",
       "      <td>71.60</td>\n",
       "      <td>2019-04-18T00:00:00</td>\n",
       "      <td>2</td>\n",
       "      <td>NaN</td>\n",
       "      <td>24.0</td>\n",
       "      <td>NaN</td>\n",
       "      <td>22</td>\n",
       "      <td>NaN</td>\n",
       "      <td>...</td>\n",
       "      <td>18.90</td>\n",
       "      <td>2.0</td>\n",
       "      <td>Санкт-Петербург</td>\n",
       "      <td>23982.0</td>\n",
       "      <td>11634.0</td>\n",
       "      <td>0.0</td>\n",
       "      <td>NaN</td>\n",
       "      <td>0.0</td>\n",
       "      <td>NaN</td>\n",
       "      <td>NaN</td>\n",
       "    </tr>\n",
       "    <tr>\n",
       "      <th>8</th>\n",
       "      <td>20</td>\n",
       "      <td>2900000.0</td>\n",
       "      <td>33.16</td>\n",
       "      <td>2018-05-23T00:00:00</td>\n",
       "      <td>1</td>\n",
       "      <td>NaN</td>\n",
       "      <td>27.0</td>\n",
       "      <td>15.43</td>\n",
       "      <td>26</td>\n",
       "      <td>NaN</td>\n",
       "      <td>...</td>\n",
       "      <td>8.81</td>\n",
       "      <td>NaN</td>\n",
       "      <td>посёлок Мурино</td>\n",
       "      <td>NaN</td>\n",
       "      <td>NaN</td>\n",
       "      <td>NaN</td>\n",
       "      <td>NaN</td>\n",
       "      <td>NaN</td>\n",
       "      <td>NaN</td>\n",
       "      <td>189.0</td>\n",
       "    </tr>\n",
       "    <tr>\n",
       "      <th>9</th>\n",
       "      <td>18</td>\n",
       "      <td>5400000.0</td>\n",
       "      <td>61.00</td>\n",
       "      <td>2017-02-26T00:00:00</td>\n",
       "      <td>3</td>\n",
       "      <td>2.50</td>\n",
       "      <td>9.0</td>\n",
       "      <td>43.60</td>\n",
       "      <td>7</td>\n",
       "      <td>NaN</td>\n",
       "      <td>...</td>\n",
       "      <td>6.50</td>\n",
       "      <td>2.0</td>\n",
       "      <td>Санкт-Петербург</td>\n",
       "      <td>50898.0</td>\n",
       "      <td>15008.0</td>\n",
       "      <td>0.0</td>\n",
       "      <td>NaN</td>\n",
       "      <td>0.0</td>\n",
       "      <td>NaN</td>\n",
       "      <td>289.0</td>\n",
       "    </tr>\n",
       "  </tbody>\n",
       "</table>\n",
       "<p>10 rows × 22 columns</p>\n",
       "</div>"
      ],
      "text/plain": [
       "   total_images  last_price  total_area first_day_exposition  rooms  \\\n",
       "0            20  13000000.0      108.00  2019-03-07T00:00:00      3   \n",
       "1             7   3350000.0       40.40  2018-12-04T00:00:00      1   \n",
       "2            10   5196000.0       56.00  2015-08-20T00:00:00      2   \n",
       "3             0  64900000.0      159.00  2015-07-24T00:00:00      3   \n",
       "4             2  10000000.0      100.00  2018-06-19T00:00:00      2   \n",
       "5            10   2890000.0       30.40  2018-09-10T00:00:00      1   \n",
       "6             6   3700000.0       37.30  2017-11-02T00:00:00      1   \n",
       "7             5   7915000.0       71.60  2019-04-18T00:00:00      2   \n",
       "8            20   2900000.0       33.16  2018-05-23T00:00:00      1   \n",
       "9            18   5400000.0       61.00  2017-02-26T00:00:00      3   \n",
       "\n",
       "   ceiling_height  floors_total  living_area  floor is_apartment  ...  \\\n",
       "0            2.70          16.0        51.00      8          NaN  ...   \n",
       "1             NaN          11.0        18.60      1          NaN  ...   \n",
       "2             NaN           5.0        34.30      4          NaN  ...   \n",
       "3             NaN          14.0          NaN      9          NaN  ...   \n",
       "4            3.03          14.0        32.00     13          NaN  ...   \n",
       "5             NaN          12.0        14.40      5          NaN  ...   \n",
       "6             NaN          26.0        10.60      6          NaN  ...   \n",
       "7             NaN          24.0          NaN     22          NaN  ...   \n",
       "8             NaN          27.0        15.43     26          NaN  ...   \n",
       "9            2.50           9.0        43.60      7          NaN  ...   \n",
       "\n",
       "   kitchen_area  balcony              locality_name  airports_nearest  \\\n",
       "0         25.00      NaN            Санкт-Петербург           18863.0   \n",
       "1         11.00      2.0             посёлок Шушары           12817.0   \n",
       "2          8.30      0.0            Санкт-Петербург           21741.0   \n",
       "3           NaN      0.0            Санкт-Петербург           28098.0   \n",
       "4         41.00      NaN            Санкт-Петербург           31856.0   \n",
       "5          9.10      NaN  городской посёлок Янино-1               NaN   \n",
       "6         14.40      1.0          посёлок Парголово           52996.0   \n",
       "7         18.90      2.0            Санкт-Петербург           23982.0   \n",
       "8          8.81      NaN             посёлок Мурино               NaN   \n",
       "9          6.50      2.0            Санкт-Петербург           50898.0   \n",
       "\n",
       "  cityCenters_nearest  parks_around3000  parks_nearest  ponds_around3000  \\\n",
       "0             16028.0               1.0          482.0               2.0   \n",
       "1             18603.0               0.0            NaN               0.0   \n",
       "2             13933.0               1.0           90.0               2.0   \n",
       "3              6800.0               2.0           84.0               3.0   \n",
       "4              8098.0               2.0          112.0               1.0   \n",
       "5                 NaN               NaN            NaN               NaN   \n",
       "6             19143.0               0.0            NaN               0.0   \n",
       "7             11634.0               0.0            NaN               0.0   \n",
       "8                 NaN               NaN            NaN               NaN   \n",
       "9             15008.0               0.0            NaN               0.0   \n",
       "\n",
       "   ponds_nearest  days_exposition  \n",
       "0          755.0              NaN  \n",
       "1            NaN             81.0  \n",
       "2          574.0            558.0  \n",
       "3          234.0            424.0  \n",
       "4           48.0            121.0  \n",
       "5            NaN             55.0  \n",
       "6            NaN            155.0  \n",
       "7            NaN              NaN  \n",
       "8            NaN            189.0  \n",
       "9            NaN            289.0  \n",
       "\n",
       "[10 rows x 22 columns]"
      ]
     },
     "execution_count": 3,
     "metadata": {},
     "output_type": "execute_result"
    }
   ],
   "source": [
    "data.head(10)"
   ]
  },
  {
   "cell_type": "code",
   "execution_count": 4,
   "metadata": {},
   "outputs": [
    {
     "name": "stdout",
     "output_type": "stream",
     "text": [
      "<class 'pandas.core.frame.DataFrame'>\n",
      "RangeIndex: 23699 entries, 0 to 23698\n",
      "Data columns (total 22 columns):\n",
      " #   Column                Non-Null Count  Dtype  \n",
      "---  ------                --------------  -----  \n",
      " 0   total_images          23699 non-null  int64  \n",
      " 1   last_price            23699 non-null  float64\n",
      " 2   total_area            23699 non-null  float64\n",
      " 3   first_day_exposition  23699 non-null  object \n",
      " 4   rooms                 23699 non-null  int64  \n",
      " 5   ceiling_height        14504 non-null  float64\n",
      " 6   floors_total          23613 non-null  float64\n",
      " 7   living_area           21796 non-null  float64\n",
      " 8   floor                 23699 non-null  int64  \n",
      " 9   is_apartment          2775 non-null   object \n",
      " 10  studio                23699 non-null  bool   \n",
      " 11  open_plan             23699 non-null  bool   \n",
      " 12  kitchen_area          21421 non-null  float64\n",
      " 13  balcony               12180 non-null  float64\n",
      " 14  locality_name         23650 non-null  object \n",
      " 15  airports_nearest      18157 non-null  float64\n",
      " 16  cityCenters_nearest   18180 non-null  float64\n",
      " 17  parks_around3000      18181 non-null  float64\n",
      " 18  parks_nearest         8079 non-null   float64\n",
      " 19  ponds_around3000      18181 non-null  float64\n",
      " 20  ponds_nearest         9110 non-null   float64\n",
      " 21  days_exposition       20518 non-null  float64\n",
      "dtypes: bool(2), float64(14), int64(3), object(3)\n",
      "memory usage: 3.7+ MB\n"
     ]
    }
   ],
   "source": [
    "data.info()"
   ]
  },
  {
   "cell_type": "markdown",
   "metadata": {},
   "source": [
    "В таблице 22 колонки, 2 логических, 3 текстовых, 14 десятичных, 3 целочисленных.\n",
    "\n",
    "Согласно документации к данным:\n",
    "\n",
    "* `airports_nearest` — расстояние до ближайшего аэропорта в метрах (м)\n",
    "* `balcony` — число балконов\n",
    "* `ceiling_height` — высота потолков (м)\n",
    "* `cityCenters_nearest` — расстояние до центра города (м)\n",
    "* `days_exposition` — сколько дней было размещено объявление (от публикации до снятия)\n",
    "* `first_day_exposition` — дата публикации\n",
    "* `floor` — этаж\n",
    "* `floors_total` — всего этажей в доме\n",
    "* `is_apartment` — апартаменты (булев тип)\n",
    "* `kitchen_area` — площадь кухни в квадратных метрах (м²)\n",
    "* `last_price` — цена на момент снятия с публикации\n",
    "* `living_area` — жилая площадь в квадратных метрах (м²)\n",
    "* `locality_name` — название населённого пункта\n",
    "* `open_plan` — свободная планировка (булев тип)\n",
    "* `parks_around3000` — число парков в радиусе 3 км\n",
    "* `parks_nearest` — расстояние до ближайшего парка (м)\n",
    "* `ponds_around3000` — число водоёмов в радиусе 3 км\n",
    "* `ponds_nearest` — расстояние до ближайшего водоёма (м)\n",
    "* `rooms` — число комнат\n",
    "* `studio` — квартира-студия (булев тип)\n",
    "* `total_area` — площадь квартиры в квадратных метрах (м²)\n",
    "* `total_images` — число фотографий квартиры в объявлении\n",
    "\n",
    "В названиях колонок `cityCenters_nearest`, `parks_around3000`, `ponds_around3000` имеются нарушения стиля. Имеются пропуски данных у 14 колонок. "
   ]
  },
  {
   "cell_type": "markdown",
   "metadata": {},
   "source": [
    "### Вывод"
   ]
  },
  {
   "cell_type": "markdown",
   "metadata": {},
   "source": [
    "В каждой строке таблицы - данные о квартире на рынке недвижимости. Колонки описывают характеристики квартиры (площадь, высота потолков, число балконов и др.), объявления (дата публикации, сколько дней было размещено, количество фото и др.) и инфраструктуры (расстояние до аэропорта, центра города, парка). \n",
    "\n",
    "Предварительно можно утверждать, что данных достаточно для проведения исследовательского анализа. В данных встречаются пропуски, их необходимо проанализировать и по возможности заполнить.\n",
    "\n",
    "Чтобы двигаться дальше, нужно устранить проблемы в данных."
   ]
  },
  {
   "cell_type": "markdown",
   "metadata": {},
   "source": [
    "## Предобработка данных"
   ]
  },
  {
   "cell_type": "markdown",
   "metadata": {},
   "source": [
    "### Стиль колонок"
   ]
  },
  {
   "cell_type": "code",
   "execution_count": 5,
   "metadata": {},
   "outputs": [],
   "source": [
    "data = data.rename(\n",
    "    columns={\n",
    "        'cityCenters_nearest': 'city_centers_nearest',\n",
    "        'parks_around3000': 'parks_around_3000',\n",
    "        'ponds_around3000': 'ponds_around_3000'  \n",
    "    }\n",
    ") # переименуем колонки с неправильным стилем"
   ]
  },
  {
   "cell_type": "code",
   "execution_count": 6,
   "metadata": {},
   "outputs": [
    {
     "data": {
      "text/plain": [
       "Index(['total_images', 'last_price', 'total_area', 'first_day_exposition',\n",
       "       'rooms', 'ceiling_height', 'floors_total', 'living_area', 'floor',\n",
       "       'is_apartment', 'studio', 'open_plan', 'kitchen_area', 'balcony',\n",
       "       'locality_name', 'airports_nearest', 'city_centers_nearest',\n",
       "       'parks_around_3000', 'parks_nearest', 'ponds_around_3000',\n",
       "       'ponds_nearest', 'days_exposition'],\n",
       "      dtype='object')"
      ]
     },
     "execution_count": 6,
     "metadata": {},
     "output_type": "execute_result"
    }
   ],
   "source": [
    "data.columns # проверим колонки"
   ]
  },
  {
   "cell_type": "markdown",
   "metadata": {},
   "source": [
    "### Обработка пропусков"
   ]
  },
  {
   "cell_type": "code",
   "execution_count": 7,
   "metadata": {
    "scrolled": false
   },
   "outputs": [
    {
     "data": {
      "text/plain": [
       "total_images                0\n",
       "last_price                  0\n",
       "total_area                  0\n",
       "first_day_exposition        0\n",
       "rooms                       0\n",
       "ceiling_height           9195\n",
       "floors_total               86\n",
       "living_area              1903\n",
       "floor                       0\n",
       "is_apartment            20924\n",
       "studio                      0\n",
       "open_plan                   0\n",
       "kitchen_area             2278\n",
       "balcony                 11519\n",
       "locality_name              49\n",
       "airports_nearest         5542\n",
       "city_centers_nearest     5519\n",
       "parks_around_3000        5518\n",
       "parks_nearest           15620\n",
       "ponds_around_3000        5518\n",
       "ponds_nearest           14589\n",
       "days_exposition          3181\n",
       "dtype: int64"
      ]
     },
     "execution_count": 7,
     "metadata": {},
     "output_type": "execute_result"
    }
   ],
   "source": [
    "data.isna().sum() # подсчёт пропусков"
   ]
  },
  {
   "cell_type": "markdown",
   "metadata": {},
   "source": [
    "* Пропуски в колонках с высотой потолков можно заполнить медианным значением, т.к. у большинства квартир высота стандартная.\n",
    "* Пропуски общего количества этажей заполним данными из колонки с этажом квартиры. Из-за малого количества пропусков сильного искажения в данные это не внесет.\n",
    "* Пропуски в колонках с жилой площадью и площадью кухни могли возникнуть из-за того, что их не заполнили. Достоверно заполнить эти пропуски невозможно, поэтому заполним их значением `-999`.\n",
    "* Пропуски в аппартаментах, наличии балконов могут быть из-за того, что продавец не стал указывать эти пункты, так как их нет. Соответственно, можно присвоить пропускам False и 0. \n",
    "* Отсутствуют названия 49 населенных пунктов. Заполнить такие пропуски значением `unknown`.\n",
    "* Пропуски в расстоянии до объектов инфраструктуры могли возникнуть из-за того, что при автоматичесом получении данных могли возникнуть ошибки, например неверно был считан адрес. Достоверно заполнить эти пропуски невозможно, поэтому заполним их значением `-999`.\n",
    "* Пропуски в поле с количеством дней достоверно заполнить невозможно, поэтому оставим их пустыми."
   ]
  },
  {
   "cell_type": "markdown",
   "metadata": {},
   "source": [
    "**Заполнение пропусков с высотой потолков и общим количеством этажей**"
   ]
  },
  {
   "cell_type": "code",
   "execution_count": 8,
   "metadata": {},
   "outputs": [],
   "source": [
    "data['ceiling_height'] = data['ceiling_height'].fillna(data['ceiling_height'].median()) # заполняем колонку медианным значением высоты потолков\n",
    "data['floors_total'] = data['floors_total'].fillna(data['floor']) # заполняем колонку соответствующим значением колонки этаж"
   ]
  },
  {
   "cell_type": "markdown",
   "metadata": {},
   "source": [
    "**Заполнение пропусков в площадях**"
   ]
  },
  {
   "cell_type": "code",
   "execution_count": 9,
   "metadata": {},
   "outputs": [],
   "source": [
    "data['living_area'] = data['living_area'].fillna(-999) # заполняем колонку с пропусками жилой площади\n",
    "data['kitchen_area'] = data['kitchen_area'].fillna(-999) # заполняем колонку с пропусками площади кухни"
   ]
  },
  {
   "cell_type": "markdown",
   "metadata": {},
   "source": [
    "**Заполнение пропусков в аппартаментах и балконах**"
   ]
  },
  {
   "cell_type": "code",
   "execution_count": 10,
   "metadata": {},
   "outputs": [],
   "source": [
    "data['is_apartment'] = data['is_apartment'].fillna(False)\n",
    "data['balcony'] = data['balcony'].fillna(0)"
   ]
  },
  {
   "cell_type": "markdown",
   "metadata": {},
   "source": [
    "**Заполнение пропусков в населенных пунктах**"
   ]
  },
  {
   "cell_type": "code",
   "execution_count": 11,
   "metadata": {},
   "outputs": [],
   "source": [
    "data['locality_name'] = data['locality_name'].fillna('unknown') # заполняем все пропуски значением 'unknown'"
   ]
  },
  {
   "cell_type": "markdown",
   "metadata": {},
   "source": [
    "**Заполнение пропусков в расстояниях**"
   ]
  },
  {
   "cell_type": "code",
   "execution_count": 12,
   "metadata": {},
   "outputs": [],
   "source": [
    "data['airports_nearest'] = data['airports_nearest'].fillna(-999)\n",
    "data['city_centers_nearest'] = data['city_centers_nearest'].fillna(-999)\n",
    "data['parks_around_3000'] = data['parks_around_3000'].fillna(-999)\n",
    "data['parks_nearest'] = data['parks_nearest'].fillna(-999)\n",
    "data['ponds_around_3000'] = data['ponds_around_3000'].fillna(-999)\n",
    "data['ponds_nearest'] = data['ponds_nearest'].fillna(-999)"
   ]
  },
  {
   "cell_type": "markdown",
   "metadata": {},
   "source": [
    "**Заполнение пропусков с количеством дней размещения**"
   ]
  },
  {
   "cell_type": "code",
   "execution_count": 13,
   "metadata": {
    "scrolled": true
   },
   "outputs": [
    {
     "data": {
      "text/plain": [
       "total_images               0\n",
       "last_price                 0\n",
       "total_area                 0\n",
       "first_day_exposition       0\n",
       "rooms                      0\n",
       "ceiling_height             0\n",
       "floors_total               0\n",
       "living_area                0\n",
       "floor                      0\n",
       "is_apartment               0\n",
       "studio                     0\n",
       "open_plan                  0\n",
       "kitchen_area               0\n",
       "balcony                    0\n",
       "locality_name              0\n",
       "airports_nearest           0\n",
       "city_centers_nearest       0\n",
       "parks_around_3000          0\n",
       "parks_nearest              0\n",
       "ponds_around_3000          0\n",
       "ponds_nearest              0\n",
       "days_exposition         3181\n",
       "dtype: int64"
      ]
     },
     "execution_count": 13,
     "metadata": {},
     "output_type": "execute_result"
    }
   ],
   "source": [
    "data.isna().sum() # проверяем заполнение"
   ]
  },
  {
   "cell_type": "markdown",
   "metadata": {},
   "source": [
    "Пропуски в столбце с количеством дней остались незаполненными, т.к. они являются неслучайными и достоверно заполнить их невозможно.    "
   ]
  },
  {
   "cell_type": "markdown",
   "metadata": {},
   "source": [
    "### Изменение типов данных"
   ]
  },
  {
   "cell_type": "code",
   "execution_count": 14,
   "metadata": {},
   "outputs": [
    {
     "data": {
      "text/plain": [
       "total_images              int64\n",
       "last_price              float64\n",
       "total_area              float64\n",
       "first_day_exposition     object\n",
       "rooms                     int64\n",
       "ceiling_height          float64\n",
       "floors_total            float64\n",
       "living_area             float64\n",
       "floor                     int64\n",
       "is_apartment               bool\n",
       "studio                     bool\n",
       "open_plan                  bool\n",
       "kitchen_area            float64\n",
       "balcony                 float64\n",
       "locality_name            object\n",
       "airports_nearest        float64\n",
       "city_centers_nearest    float64\n",
       "parks_around_3000       float64\n",
       "parks_nearest           float64\n",
       "ponds_around_3000       float64\n",
       "ponds_nearest           float64\n",
       "days_exposition         float64\n",
       "dtype: object"
      ]
     },
     "execution_count": 14,
     "metadata": {},
     "output_type": "execute_result"
    }
   ],
   "source": [
    "data.dtypes # проверим типы данных "
   ]
  },
  {
   "cell_type": "markdown",
   "metadata": {},
   "source": [
    "* Колонка с датой публикации имеет текстовый тип данных. Необходимо конвертировать её в формат datetime, чтобы в дальнейшем можно было использовать её для вычислений.\n",
    "* Колонки с ценой, количеством этажей, балконов, парков и прудов имеют вещественный тип данных, который надо заменить на целочисленный, т.к. дробные доли не несут полезной информации в этих колонках."
   ]
  },
  {
   "cell_type": "code",
   "execution_count": 15,
   "metadata": {
    "scrolled": true
   },
   "outputs": [
    {
     "data": {
      "text/plain": [
       "0   2019-03-07\n",
       "1   2018-12-04\n",
       "2   2015-08-20\n",
       "3   2015-07-24\n",
       "4   2018-06-19\n",
       "Name: first_day_exposition, dtype: datetime64[ns]"
      ]
     },
     "execution_count": 15,
     "metadata": {},
     "output_type": "execute_result"
    }
   ],
   "source": [
    "data['first_day_exposition'] = pd.to_datetime(data['first_day_exposition'], format='%Y-%m-%dT%H:%M:%S') # конвертируем в формат datetime\n",
    "data['first_day_exposition'].head() # проверяем результат"
   ]
  },
  {
   "cell_type": "code",
   "execution_count": 16,
   "metadata": {},
   "outputs": [],
   "source": [
    "# изменяем тип данных на целочисленный\n",
    "data['last_price'] = data['last_price'].astype('int') \n",
    "data['balcony'] = data['balcony'].astype('int')\n",
    "data['floors_total'] = data['floors_total'].astype('int')\n",
    "data['parks_around_3000'] = data['parks_around_3000'].astype('int')\n",
    "data['ponds_around_3000'] = data['ponds_around_3000'].astype('int')"
   ]
  },
  {
   "cell_type": "code",
   "execution_count": 17,
   "metadata": {},
   "outputs": [
    {
     "data": {
      "text/plain": [
       "total_images                     int64\n",
       "last_price                       int64\n",
       "total_area                     float64\n",
       "first_day_exposition    datetime64[ns]\n",
       "rooms                            int64\n",
       "ceiling_height                 float64\n",
       "floors_total                     int64\n",
       "living_area                    float64\n",
       "floor                            int64\n",
       "is_apartment                      bool\n",
       "studio                            bool\n",
       "open_plan                         bool\n",
       "kitchen_area                   float64\n",
       "balcony                          int64\n",
       "locality_name                   object\n",
       "airports_nearest               float64\n",
       "city_centers_nearest           float64\n",
       "parks_around_3000                int64\n",
       "parks_nearest                  float64\n",
       "ponds_around_3000                int64\n",
       "ponds_nearest                  float64\n",
       "days_exposition                float64\n",
       "dtype: object"
      ]
     },
     "execution_count": 17,
     "metadata": {},
     "output_type": "execute_result"
    }
   ],
   "source": [
    "data.dtypes # проверяем результат"
   ]
  },
  {
   "cell_type": "markdown",
   "metadata": {},
   "source": [
    "## Расчёт дополнительных характеристик"
   ]
  },
  {
   "cell_type": "markdown",
   "metadata": {},
   "source": [
    "Посчитаем и добавим в таблицу:\n",
    "* цену квадратного метра;\n",
    "* день недели, месяц и год публикации объявления;\n",
    "* этаж квартиры; варианты — первый, последний, другой;\n",
    "* соотношение жилой и общей площади, а также отношение площади кухни к общей."
   ]
  },
  {
   "cell_type": "markdown",
   "metadata": {},
   "source": [
    "**Цена квадратного метра**"
   ]
  },
  {
   "cell_type": "code",
   "execution_count": 18,
   "metadata": {},
   "outputs": [
    {
     "data": {
      "text/plain": [
       "0    120370\n",
       "1     82920\n",
       "2     92785\n",
       "3    408176\n",
       "4    100000\n",
       "Name: price_sq_m, dtype: int64"
      ]
     },
     "execution_count": 18,
     "metadata": {},
     "output_type": "execute_result"
    }
   ],
   "source": [
    "data['price_sq_m'] = data['last_price'] / data['total_area'] # расчет цены квадратного метра\n",
    "data['price_sq_m'] = data['price_sq_m'].astype('int') # изменение типа данных\n",
    "data['price_sq_m'].head() # проверяем результат"
   ]
  },
  {
   "cell_type": "markdown",
   "metadata": {},
   "source": [
    "**День недели, месяц и год публикации объявления**"
   ]
  },
  {
   "cell_type": "code",
   "execution_count": 19,
   "metadata": {
    "scrolled": true
   },
   "outputs": [
    {
     "data": {
      "text/html": [
       "<div>\n",
       "<style scoped>\n",
       "    .dataframe tbody tr th:only-of-type {\n",
       "        vertical-align: middle;\n",
       "    }\n",
       "\n",
       "    .dataframe tbody tr th {\n",
       "        vertical-align: top;\n",
       "    }\n",
       "\n",
       "    .dataframe thead th {\n",
       "        text-align: right;\n",
       "    }\n",
       "</style>\n",
       "<table border=\"1\" class=\"dataframe\">\n",
       "  <thead>\n",
       "    <tr style=\"text-align: right;\">\n",
       "      <th></th>\n",
       "      <th>total_images</th>\n",
       "      <th>last_price</th>\n",
       "      <th>total_area</th>\n",
       "      <th>first_day_exposition</th>\n",
       "      <th>rooms</th>\n",
       "      <th>ceiling_height</th>\n",
       "      <th>floors_total</th>\n",
       "      <th>living_area</th>\n",
       "      <th>floor</th>\n",
       "      <th>is_apartment</th>\n",
       "      <th>...</th>\n",
       "      <th>city_centers_nearest</th>\n",
       "      <th>parks_around_3000</th>\n",
       "      <th>parks_nearest</th>\n",
       "      <th>ponds_around_3000</th>\n",
       "      <th>ponds_nearest</th>\n",
       "      <th>days_exposition</th>\n",
       "      <th>price_sq_m</th>\n",
       "      <th>weekday_exposition</th>\n",
       "      <th>month_exposition</th>\n",
       "      <th>year_exposition</th>\n",
       "    </tr>\n",
       "  </thead>\n",
       "  <tbody>\n",
       "    <tr>\n",
       "      <th>0</th>\n",
       "      <td>20</td>\n",
       "      <td>13000000</td>\n",
       "      <td>108.0</td>\n",
       "      <td>2019-03-07</td>\n",
       "      <td>3</td>\n",
       "      <td>2.70</td>\n",
       "      <td>16</td>\n",
       "      <td>51.0</td>\n",
       "      <td>8</td>\n",
       "      <td>False</td>\n",
       "      <td>...</td>\n",
       "      <td>16028.0</td>\n",
       "      <td>1</td>\n",
       "      <td>482.0</td>\n",
       "      <td>2</td>\n",
       "      <td>755.0</td>\n",
       "      <td>NaN</td>\n",
       "      <td>120370</td>\n",
       "      <td>3</td>\n",
       "      <td>3</td>\n",
       "      <td>2019</td>\n",
       "    </tr>\n",
       "    <tr>\n",
       "      <th>1</th>\n",
       "      <td>7</td>\n",
       "      <td>3350000</td>\n",
       "      <td>40.4</td>\n",
       "      <td>2018-12-04</td>\n",
       "      <td>1</td>\n",
       "      <td>2.65</td>\n",
       "      <td>11</td>\n",
       "      <td>18.6</td>\n",
       "      <td>1</td>\n",
       "      <td>False</td>\n",
       "      <td>...</td>\n",
       "      <td>18603.0</td>\n",
       "      <td>0</td>\n",
       "      <td>-999.0</td>\n",
       "      <td>0</td>\n",
       "      <td>-999.0</td>\n",
       "      <td>81.0</td>\n",
       "      <td>82920</td>\n",
       "      <td>1</td>\n",
       "      <td>12</td>\n",
       "      <td>2018</td>\n",
       "    </tr>\n",
       "    <tr>\n",
       "      <th>2</th>\n",
       "      <td>10</td>\n",
       "      <td>5196000</td>\n",
       "      <td>56.0</td>\n",
       "      <td>2015-08-20</td>\n",
       "      <td>2</td>\n",
       "      <td>2.65</td>\n",
       "      <td>5</td>\n",
       "      <td>34.3</td>\n",
       "      <td>4</td>\n",
       "      <td>False</td>\n",
       "      <td>...</td>\n",
       "      <td>13933.0</td>\n",
       "      <td>1</td>\n",
       "      <td>90.0</td>\n",
       "      <td>2</td>\n",
       "      <td>574.0</td>\n",
       "      <td>558.0</td>\n",
       "      <td>92785</td>\n",
       "      <td>3</td>\n",
       "      <td>8</td>\n",
       "      <td>2015</td>\n",
       "    </tr>\n",
       "    <tr>\n",
       "      <th>3</th>\n",
       "      <td>0</td>\n",
       "      <td>64900000</td>\n",
       "      <td>159.0</td>\n",
       "      <td>2015-07-24</td>\n",
       "      <td>3</td>\n",
       "      <td>2.65</td>\n",
       "      <td>14</td>\n",
       "      <td>-999.0</td>\n",
       "      <td>9</td>\n",
       "      <td>False</td>\n",
       "      <td>...</td>\n",
       "      <td>6800.0</td>\n",
       "      <td>2</td>\n",
       "      <td>84.0</td>\n",
       "      <td>3</td>\n",
       "      <td>234.0</td>\n",
       "      <td>424.0</td>\n",
       "      <td>408176</td>\n",
       "      <td>4</td>\n",
       "      <td>7</td>\n",
       "      <td>2015</td>\n",
       "    </tr>\n",
       "    <tr>\n",
       "      <th>4</th>\n",
       "      <td>2</td>\n",
       "      <td>10000000</td>\n",
       "      <td>100.0</td>\n",
       "      <td>2018-06-19</td>\n",
       "      <td>2</td>\n",
       "      <td>3.03</td>\n",
       "      <td>14</td>\n",
       "      <td>32.0</td>\n",
       "      <td>13</td>\n",
       "      <td>False</td>\n",
       "      <td>...</td>\n",
       "      <td>8098.0</td>\n",
       "      <td>2</td>\n",
       "      <td>112.0</td>\n",
       "      <td>1</td>\n",
       "      <td>48.0</td>\n",
       "      <td>121.0</td>\n",
       "      <td>100000</td>\n",
       "      <td>1</td>\n",
       "      <td>6</td>\n",
       "      <td>2018</td>\n",
       "    </tr>\n",
       "  </tbody>\n",
       "</table>\n",
       "<p>5 rows × 26 columns</p>\n",
       "</div>"
      ],
      "text/plain": [
       "   total_images  last_price  total_area first_day_exposition  rooms  \\\n",
       "0            20    13000000       108.0           2019-03-07      3   \n",
       "1             7     3350000        40.4           2018-12-04      1   \n",
       "2            10     5196000        56.0           2015-08-20      2   \n",
       "3             0    64900000       159.0           2015-07-24      3   \n",
       "4             2    10000000       100.0           2018-06-19      2   \n",
       "\n",
       "   ceiling_height  floors_total  living_area  floor  is_apartment  ...  \\\n",
       "0            2.70            16         51.0      8         False  ...   \n",
       "1            2.65            11         18.6      1         False  ...   \n",
       "2            2.65             5         34.3      4         False  ...   \n",
       "3            2.65            14       -999.0      9         False  ...   \n",
       "4            3.03            14         32.0     13         False  ...   \n",
       "\n",
       "   city_centers_nearest  parks_around_3000  parks_nearest  ponds_around_3000  \\\n",
       "0               16028.0                  1          482.0                  2   \n",
       "1               18603.0                  0         -999.0                  0   \n",
       "2               13933.0                  1           90.0                  2   \n",
       "3                6800.0                  2           84.0                  3   \n",
       "4                8098.0                  2          112.0                  1   \n",
       "\n",
       "  ponds_nearest  days_exposition  price_sq_m  weekday_exposition  \\\n",
       "0         755.0              NaN      120370                   3   \n",
       "1        -999.0             81.0       82920                   1   \n",
       "2         574.0            558.0       92785                   3   \n",
       "3         234.0            424.0      408176                   4   \n",
       "4          48.0            121.0      100000                   1   \n",
       "\n",
       "   month_exposition  year_exposition  \n",
       "0                 3             2019  \n",
       "1                12             2018  \n",
       "2                 8             2015  \n",
       "3                 7             2015  \n",
       "4                 6             2018  \n",
       "\n",
       "[5 rows x 26 columns]"
      ]
     },
     "execution_count": 19,
     "metadata": {},
     "output_type": "execute_result"
    }
   ],
   "source": [
    "data['weekday_exposition'] = pd.DatetimeIndex(data['first_day_exposition']).weekday # создаем колонку с днем недели\n",
    "data['month_exposition'] = pd.DatetimeIndex(data['first_day_exposition']).month # создаем колонку с месяцем\n",
    "data['year_exposition'] = pd.DatetimeIndex(data['first_day_exposition']).year # создаем колонку с годом\n",
    "data.head() # проверяем результат"
   ]
  },
  {
   "cell_type": "markdown",
   "metadata": {},
   "source": [
    "**Этаж квартиры**"
   ]
  },
  {
   "cell_type": "code",
   "execution_count": 20,
   "metadata": {
    "scrolled": true
   },
   "outputs": [
    {
     "data": {
      "text/html": [
       "<div>\n",
       "<style scoped>\n",
       "    .dataframe tbody tr th:only-of-type {\n",
       "        vertical-align: middle;\n",
       "    }\n",
       "\n",
       "    .dataframe tbody tr th {\n",
       "        vertical-align: top;\n",
       "    }\n",
       "\n",
       "    .dataframe thead th {\n",
       "        text-align: right;\n",
       "    }\n",
       "</style>\n",
       "<table border=\"1\" class=\"dataframe\">\n",
       "  <thead>\n",
       "    <tr style=\"text-align: right;\">\n",
       "      <th></th>\n",
       "      <th>total_images</th>\n",
       "      <th>last_price</th>\n",
       "      <th>total_area</th>\n",
       "      <th>first_day_exposition</th>\n",
       "      <th>rooms</th>\n",
       "      <th>ceiling_height</th>\n",
       "      <th>floors_total</th>\n",
       "      <th>living_area</th>\n",
       "      <th>floor</th>\n",
       "      <th>is_apartment</th>\n",
       "      <th>...</th>\n",
       "      <th>parks_around_3000</th>\n",
       "      <th>parks_nearest</th>\n",
       "      <th>ponds_around_3000</th>\n",
       "      <th>ponds_nearest</th>\n",
       "      <th>days_exposition</th>\n",
       "      <th>price_sq_m</th>\n",
       "      <th>weekday_exposition</th>\n",
       "      <th>month_exposition</th>\n",
       "      <th>year_exposition</th>\n",
       "      <th>floor_position</th>\n",
       "    </tr>\n",
       "  </thead>\n",
       "  <tbody>\n",
       "    <tr>\n",
       "      <th>0</th>\n",
       "      <td>20</td>\n",
       "      <td>13000000</td>\n",
       "      <td>108.0</td>\n",
       "      <td>2019-03-07</td>\n",
       "      <td>3</td>\n",
       "      <td>2.70</td>\n",
       "      <td>16</td>\n",
       "      <td>51.0</td>\n",
       "      <td>8</td>\n",
       "      <td>False</td>\n",
       "      <td>...</td>\n",
       "      <td>1</td>\n",
       "      <td>482.0</td>\n",
       "      <td>2</td>\n",
       "      <td>755.0</td>\n",
       "      <td>NaN</td>\n",
       "      <td>120370</td>\n",
       "      <td>3</td>\n",
       "      <td>3</td>\n",
       "      <td>2019</td>\n",
       "      <td>другой</td>\n",
       "    </tr>\n",
       "    <tr>\n",
       "      <th>1</th>\n",
       "      <td>7</td>\n",
       "      <td>3350000</td>\n",
       "      <td>40.4</td>\n",
       "      <td>2018-12-04</td>\n",
       "      <td>1</td>\n",
       "      <td>2.65</td>\n",
       "      <td>11</td>\n",
       "      <td>18.6</td>\n",
       "      <td>1</td>\n",
       "      <td>False</td>\n",
       "      <td>...</td>\n",
       "      <td>0</td>\n",
       "      <td>-999.0</td>\n",
       "      <td>0</td>\n",
       "      <td>-999.0</td>\n",
       "      <td>81.0</td>\n",
       "      <td>82920</td>\n",
       "      <td>1</td>\n",
       "      <td>12</td>\n",
       "      <td>2018</td>\n",
       "      <td>первый</td>\n",
       "    </tr>\n",
       "    <tr>\n",
       "      <th>2</th>\n",
       "      <td>10</td>\n",
       "      <td>5196000</td>\n",
       "      <td>56.0</td>\n",
       "      <td>2015-08-20</td>\n",
       "      <td>2</td>\n",
       "      <td>2.65</td>\n",
       "      <td>5</td>\n",
       "      <td>34.3</td>\n",
       "      <td>4</td>\n",
       "      <td>False</td>\n",
       "      <td>...</td>\n",
       "      <td>1</td>\n",
       "      <td>90.0</td>\n",
       "      <td>2</td>\n",
       "      <td>574.0</td>\n",
       "      <td>558.0</td>\n",
       "      <td>92785</td>\n",
       "      <td>3</td>\n",
       "      <td>8</td>\n",
       "      <td>2015</td>\n",
       "      <td>другой</td>\n",
       "    </tr>\n",
       "    <tr>\n",
       "      <th>3</th>\n",
       "      <td>0</td>\n",
       "      <td>64900000</td>\n",
       "      <td>159.0</td>\n",
       "      <td>2015-07-24</td>\n",
       "      <td>3</td>\n",
       "      <td>2.65</td>\n",
       "      <td>14</td>\n",
       "      <td>-999.0</td>\n",
       "      <td>9</td>\n",
       "      <td>False</td>\n",
       "      <td>...</td>\n",
       "      <td>2</td>\n",
       "      <td>84.0</td>\n",
       "      <td>3</td>\n",
       "      <td>234.0</td>\n",
       "      <td>424.0</td>\n",
       "      <td>408176</td>\n",
       "      <td>4</td>\n",
       "      <td>7</td>\n",
       "      <td>2015</td>\n",
       "      <td>другой</td>\n",
       "    </tr>\n",
       "    <tr>\n",
       "      <th>4</th>\n",
       "      <td>2</td>\n",
       "      <td>10000000</td>\n",
       "      <td>100.0</td>\n",
       "      <td>2018-06-19</td>\n",
       "      <td>2</td>\n",
       "      <td>3.03</td>\n",
       "      <td>14</td>\n",
       "      <td>32.0</td>\n",
       "      <td>13</td>\n",
       "      <td>False</td>\n",
       "      <td>...</td>\n",
       "      <td>2</td>\n",
       "      <td>112.0</td>\n",
       "      <td>1</td>\n",
       "      <td>48.0</td>\n",
       "      <td>121.0</td>\n",
       "      <td>100000</td>\n",
       "      <td>1</td>\n",
       "      <td>6</td>\n",
       "      <td>2018</td>\n",
       "      <td>другой</td>\n",
       "    </tr>\n",
       "  </tbody>\n",
       "</table>\n",
       "<p>5 rows × 27 columns</p>\n",
       "</div>"
      ],
      "text/plain": [
       "   total_images  last_price  total_area first_day_exposition  rooms  \\\n",
       "0            20    13000000       108.0           2019-03-07      3   \n",
       "1             7     3350000        40.4           2018-12-04      1   \n",
       "2            10     5196000        56.0           2015-08-20      2   \n",
       "3             0    64900000       159.0           2015-07-24      3   \n",
       "4             2    10000000       100.0           2018-06-19      2   \n",
       "\n",
       "   ceiling_height  floors_total  living_area  floor  is_apartment  ...  \\\n",
       "0            2.70            16         51.0      8         False  ...   \n",
       "1            2.65            11         18.6      1         False  ...   \n",
       "2            2.65             5         34.3      4         False  ...   \n",
       "3            2.65            14       -999.0      9         False  ...   \n",
       "4            3.03            14         32.0     13         False  ...   \n",
       "\n",
       "   parks_around_3000  parks_nearest  ponds_around_3000  ponds_nearest  \\\n",
       "0                  1          482.0                  2          755.0   \n",
       "1                  0         -999.0                  0         -999.0   \n",
       "2                  1           90.0                  2          574.0   \n",
       "3                  2           84.0                  3          234.0   \n",
       "4                  2          112.0                  1           48.0   \n",
       "\n",
       "  days_exposition  price_sq_m  weekday_exposition  month_exposition  \\\n",
       "0             NaN      120370                   3                 3   \n",
       "1            81.0       82920                   1                12   \n",
       "2           558.0       92785                   3                 8   \n",
       "3           424.0      408176                   4                 7   \n",
       "4           121.0      100000                   1                 6   \n",
       "\n",
       "   year_exposition  floor_position  \n",
       "0             2019          другой  \n",
       "1             2018          первый  \n",
       "2             2015          другой  \n",
       "3             2015          другой  \n",
       "4             2018          другой  \n",
       "\n",
       "[5 rows x 27 columns]"
      ]
     },
     "execution_count": 20,
     "metadata": {},
     "output_type": "execute_result"
    }
   ],
   "source": [
    "def floor_check(row): # создаем функцию, проверяющую, является ли этаж последним, первым, или другим \n",
    "    floor = row['floor']\n",
    "    floors_total = row['floors_total']\n",
    "    if floor == floors_total:\n",
    "        return 'последний'\n",
    "    if floor == 1:\n",
    "        return 'первый'\n",
    "    return 'другой'\n",
    "\n",
    "data['floor_position'] = data.apply(floor_check, axis=1) # применяем функцию к датафрейму, создаем новую колонку\n",
    "data.head() # проверяем результат"
   ]
  },
  {
   "cell_type": "markdown",
   "metadata": {},
   "source": [
    "**Соотношение площадей**"
   ]
  },
  {
   "cell_type": "code",
   "execution_count": 21,
   "metadata": {},
   "outputs": [
    {
     "data": {
      "text/html": [
       "<div>\n",
       "<style scoped>\n",
       "    .dataframe tbody tr th:only-of-type {\n",
       "        vertical-align: middle;\n",
       "    }\n",
       "\n",
       "    .dataframe tbody tr th {\n",
       "        vertical-align: top;\n",
       "    }\n",
       "\n",
       "    .dataframe thead th {\n",
       "        text-align: right;\n",
       "    }\n",
       "</style>\n",
       "<table border=\"1\" class=\"dataframe\">\n",
       "  <thead>\n",
       "    <tr style=\"text-align: right;\">\n",
       "      <th></th>\n",
       "      <th>total_images</th>\n",
       "      <th>last_price</th>\n",
       "      <th>total_area</th>\n",
       "      <th>first_day_exposition</th>\n",
       "      <th>rooms</th>\n",
       "      <th>ceiling_height</th>\n",
       "      <th>floors_total</th>\n",
       "      <th>living_area</th>\n",
       "      <th>floor</th>\n",
       "      <th>is_apartment</th>\n",
       "      <th>...</th>\n",
       "      <th>ponds_around_3000</th>\n",
       "      <th>ponds_nearest</th>\n",
       "      <th>days_exposition</th>\n",
       "      <th>price_sq_m</th>\n",
       "      <th>weekday_exposition</th>\n",
       "      <th>month_exposition</th>\n",
       "      <th>year_exposition</th>\n",
       "      <th>floor_position</th>\n",
       "      <th>living_to_total_ratio</th>\n",
       "      <th>kitchen_to_total_ratio</th>\n",
       "    </tr>\n",
       "  </thead>\n",
       "  <tbody>\n",
       "    <tr>\n",
       "      <th>0</th>\n",
       "      <td>20</td>\n",
       "      <td>13000000</td>\n",
       "      <td>108.0</td>\n",
       "      <td>2019-03-07</td>\n",
       "      <td>3</td>\n",
       "      <td>2.70</td>\n",
       "      <td>16</td>\n",
       "      <td>51.0</td>\n",
       "      <td>8</td>\n",
       "      <td>False</td>\n",
       "      <td>...</td>\n",
       "      <td>2</td>\n",
       "      <td>755.0</td>\n",
       "      <td>NaN</td>\n",
       "      <td>120370</td>\n",
       "      <td>3</td>\n",
       "      <td>3</td>\n",
       "      <td>2019</td>\n",
       "      <td>другой</td>\n",
       "      <td>0.472222</td>\n",
       "      <td>0.231481</td>\n",
       "    </tr>\n",
       "    <tr>\n",
       "      <th>1</th>\n",
       "      <td>7</td>\n",
       "      <td>3350000</td>\n",
       "      <td>40.4</td>\n",
       "      <td>2018-12-04</td>\n",
       "      <td>1</td>\n",
       "      <td>2.65</td>\n",
       "      <td>11</td>\n",
       "      <td>18.6</td>\n",
       "      <td>1</td>\n",
       "      <td>False</td>\n",
       "      <td>...</td>\n",
       "      <td>0</td>\n",
       "      <td>-999.0</td>\n",
       "      <td>81.0</td>\n",
       "      <td>82920</td>\n",
       "      <td>1</td>\n",
       "      <td>12</td>\n",
       "      <td>2018</td>\n",
       "      <td>первый</td>\n",
       "      <td>0.460396</td>\n",
       "      <td>0.272277</td>\n",
       "    </tr>\n",
       "    <tr>\n",
       "      <th>2</th>\n",
       "      <td>10</td>\n",
       "      <td>5196000</td>\n",
       "      <td>56.0</td>\n",
       "      <td>2015-08-20</td>\n",
       "      <td>2</td>\n",
       "      <td>2.65</td>\n",
       "      <td>5</td>\n",
       "      <td>34.3</td>\n",
       "      <td>4</td>\n",
       "      <td>False</td>\n",
       "      <td>...</td>\n",
       "      <td>2</td>\n",
       "      <td>574.0</td>\n",
       "      <td>558.0</td>\n",
       "      <td>92785</td>\n",
       "      <td>3</td>\n",
       "      <td>8</td>\n",
       "      <td>2015</td>\n",
       "      <td>другой</td>\n",
       "      <td>0.612500</td>\n",
       "      <td>0.148214</td>\n",
       "    </tr>\n",
       "    <tr>\n",
       "      <th>3</th>\n",
       "      <td>0</td>\n",
       "      <td>64900000</td>\n",
       "      <td>159.0</td>\n",
       "      <td>2015-07-24</td>\n",
       "      <td>3</td>\n",
       "      <td>2.65</td>\n",
       "      <td>14</td>\n",
       "      <td>-999.0</td>\n",
       "      <td>9</td>\n",
       "      <td>False</td>\n",
       "      <td>...</td>\n",
       "      <td>3</td>\n",
       "      <td>234.0</td>\n",
       "      <td>424.0</td>\n",
       "      <td>408176</td>\n",
       "      <td>4</td>\n",
       "      <td>7</td>\n",
       "      <td>2015</td>\n",
       "      <td>другой</td>\n",
       "      <td>-6.283019</td>\n",
       "      <td>-6.283019</td>\n",
       "    </tr>\n",
       "    <tr>\n",
       "      <th>4</th>\n",
       "      <td>2</td>\n",
       "      <td>10000000</td>\n",
       "      <td>100.0</td>\n",
       "      <td>2018-06-19</td>\n",
       "      <td>2</td>\n",
       "      <td>3.03</td>\n",
       "      <td>14</td>\n",
       "      <td>32.0</td>\n",
       "      <td>13</td>\n",
       "      <td>False</td>\n",
       "      <td>...</td>\n",
       "      <td>1</td>\n",
       "      <td>48.0</td>\n",
       "      <td>121.0</td>\n",
       "      <td>100000</td>\n",
       "      <td>1</td>\n",
       "      <td>6</td>\n",
       "      <td>2018</td>\n",
       "      <td>другой</td>\n",
       "      <td>0.320000</td>\n",
       "      <td>0.410000</td>\n",
       "    </tr>\n",
       "  </tbody>\n",
       "</table>\n",
       "<p>5 rows × 29 columns</p>\n",
       "</div>"
      ],
      "text/plain": [
       "   total_images  last_price  total_area first_day_exposition  rooms  \\\n",
       "0            20    13000000       108.0           2019-03-07      3   \n",
       "1             7     3350000        40.4           2018-12-04      1   \n",
       "2            10     5196000        56.0           2015-08-20      2   \n",
       "3             0    64900000       159.0           2015-07-24      3   \n",
       "4             2    10000000       100.0           2018-06-19      2   \n",
       "\n",
       "   ceiling_height  floors_total  living_area  floor  is_apartment  ...  \\\n",
       "0            2.70            16         51.0      8         False  ...   \n",
       "1            2.65            11         18.6      1         False  ...   \n",
       "2            2.65             5         34.3      4         False  ...   \n",
       "3            2.65            14       -999.0      9         False  ...   \n",
       "4            3.03            14         32.0     13         False  ...   \n",
       "\n",
       "   ponds_around_3000  ponds_nearest  days_exposition  price_sq_m  \\\n",
       "0                  2          755.0              NaN      120370   \n",
       "1                  0         -999.0             81.0       82920   \n",
       "2                  2          574.0            558.0       92785   \n",
       "3                  3          234.0            424.0      408176   \n",
       "4                  1           48.0            121.0      100000   \n",
       "\n",
       "  weekday_exposition  month_exposition  year_exposition  floor_position  \\\n",
       "0                  3                 3             2019          другой   \n",
       "1                  1                12             2018          первый   \n",
       "2                  3                 8             2015          другой   \n",
       "3                  4                 7             2015          другой   \n",
       "4                  1                 6             2018          другой   \n",
       "\n",
       "   living_to_total_ratio  kitchen_to_total_ratio  \n",
       "0               0.472222                0.231481  \n",
       "1               0.460396                0.272277  \n",
       "2               0.612500                0.148214  \n",
       "3              -6.283019               -6.283019  \n",
       "4               0.320000                0.410000  \n",
       "\n",
       "[5 rows x 29 columns]"
      ]
     },
     "execution_count": 21,
     "metadata": {},
     "output_type": "execute_result"
    }
   ],
   "source": [
    "data['living_to_total_ratio'] = data['living_area'] / data['total_area'] # вычисляем отношение жилой и общей площади\n",
    "data['kitchen_to_total_ratio'] = data['kitchen_area'] / data['total_area'] # вычисляем отношение площади кухни к общей\n",
    "data.head() # проверяем результат"
   ]
  },
  {
   "cell_type": "markdown",
   "metadata": {},
   "source": [
    "## Исследовательский анализ данных"
   ]
  },
  {
   "cell_type": "markdown",
   "metadata": {},
   "source": [
    "### Изучение параметров"
   ]
  },
  {
   "cell_type": "markdown",
   "metadata": {},
   "source": [
    "**Общая площадь**"
   ]
  },
  {
   "cell_type": "code",
   "execution_count": 22,
   "metadata": {
    "scrolled": true
   },
   "outputs": [
    {
     "data": {
      "text/plain": [
       "count    23699.000000\n",
       "mean        60.348651\n",
       "std         35.654083\n",
       "min         12.000000\n",
       "25%         40.000000\n",
       "50%         52.000000\n",
       "75%         69.900000\n",
       "max        900.000000\n",
       "Name: total_area, dtype: float64"
      ]
     },
     "execution_count": 22,
     "metadata": {},
     "output_type": "execute_result"
    }
   ],
   "source": [
    "data['total_area'].describe()"
   ]
  },
  {
   "cell_type": "code",
   "execution_count": 23,
   "metadata": {
    "scrolled": false
   },
   "outputs": [
    {
     "data": {
      "text/plain": [
       "<AxesSubplot:>"
      ]
     },
     "execution_count": 23,
     "metadata": {},
     "output_type": "execute_result"
    },
    {
     "data": {
      "image/png": "[encoded data removed]",
      "text/plain": [
       "<Figure size 432x288 with 1 Axes>"
      ]
     },
     "metadata": {
      "needs_background": "light"
     },
     "output_type": "display_data"
    }
   ],
   "source": [
    "data['total_area'].hist(bins=100, range=(0, 300))"
   ]
  },
  {
   "cell_type": "markdown",
   "metadata": {},
   "source": [
    "В среднем, площадь квартиры составляет около 50 кв. м. Максимальное значение 900 можно отнести к выбросам. По гисторамме видно, что после 300 значения практически не встречаются, так что при анализе можно использовать 300 как верхнюю границу."
   ]
  },
  {
   "cell_type": "markdown",
   "metadata": {},
   "source": [
    "**Цена**"
   ]
  },
  {
   "cell_type": "code",
   "execution_count": 24,
   "metadata": {
    "scrolled": false
   },
   "outputs": [
    {
     "data": {
      "text/plain": [
       "count    2.369900e+04\n",
       "mean     6.541549e+06\n",
       "std      1.088701e+07\n",
       "min      1.219000e+04\n",
       "25%      3.400000e+06\n",
       "50%      4.650000e+06\n",
       "75%      6.800000e+06\n",
       "max      7.630000e+08\n",
       "Name: last_price, dtype: float64"
      ]
     },
     "execution_count": 24,
     "metadata": {},
     "output_type": "execute_result"
    }
   ],
   "source": [
    "data['last_price'].describe()"
   ]
  },
  {
   "cell_type": "code",
   "execution_count": 25,
   "metadata": {
    "scrolled": false
   },
   "outputs": [
    {
     "data": {
      "text/plain": [
       "<AxesSubplot:>"
      ]
     },
     "execution_count": 25,
     "metadata": {},
     "output_type": "execute_result"
    },
    {
     "data": {
      "image/png": "[encoded data removed]",
      "text/plain": [
       "<Figure size 432x288 with 1 Axes>"
      ]
     },
     "metadata": {
      "needs_background": "light"
     },
     "output_type": "display_data"
    }
   ],
   "source": [
    "data['last_price'].hist(bins=100, range=(10000, 30000000))"
   ]
  },
  {
   "cell_type": "markdown",
   "metadata": {},
   "source": [
    "Средняя цена составляет около 5 млн рублей. В качестве верхней границы возьмём 30 млн руб."
   ]
  },
  {
   "cell_type": "markdown",
   "metadata": {},
   "source": [
    "**Количество комнат**"
   ]
  },
  {
   "cell_type": "code",
   "execution_count": 26,
   "metadata": {
    "scrolled": true
   },
   "outputs": [
    {
     "data": {
      "text/plain": [
       "count    23699.000000\n",
       "mean         2.070636\n",
       "std          1.078405\n",
       "min          0.000000\n",
       "25%          1.000000\n",
       "50%          2.000000\n",
       "75%          3.000000\n",
       "max         19.000000\n",
       "Name: rooms, dtype: float64"
      ]
     },
     "execution_count": 26,
     "metadata": {},
     "output_type": "execute_result"
    }
   ],
   "source": [
    "data['rooms'].describe()"
   ]
  },
  {
   "cell_type": "code",
   "execution_count": 27,
   "metadata": {
    "scrolled": true
   },
   "outputs": [
    {
     "data": {
      "text/plain": [
       "<AxesSubplot:>"
      ]
     },
     "execution_count": 27,
     "metadata": {},
     "output_type": "execute_result"
    },
    {
     "data": {
      "image/png": "[encoded data removed]",
      "text/plain": [
       "<Figure size 432x288 with 1 Axes>"
      ]
     },
     "metadata": {
      "needs_background": "light"
     },
     "output_type": "display_data"
    }
   ],
   "source": [
    "data['rooms'].hist(bins=10, range=(0, 10))"
   ]
  },
  {
   "cell_type": "code",
   "execution_count": 28,
   "metadata": {},
   "outputs": [
    {
     "data": {
      "text/plain": [
       "1     8047\n",
       "2     7940\n",
       "3     5814\n",
       "4     1180\n",
       "5      326\n",
       "0      197\n",
       "6      105\n",
       "7       59\n",
       "8       12\n",
       "9        8\n",
       "10       3\n",
       "11       2\n",
       "14       2\n",
       "19       1\n",
       "16       1\n",
       "12       1\n",
       "15       1\n",
       "Name: rooms, dtype: int64"
      ]
     },
     "execution_count": 28,
     "metadata": {},
     "output_type": "execute_result"
    }
   ],
   "source": [
    "data['rooms'].value_counts()"
   ]
  },
  {
   "cell_type": "markdown",
   "metadata": {},
   "source": [
    "По гистограмме можно сказать, что больше всего продается однокомнатных квартир. Однако рассчитанным средним и медианным являются двухкомнатные квартиры, которых немного меньше. В качестве верхней границы можно принять 10 комнат."
   ]
  },
  {
   "cell_type": "markdown",
   "metadata": {},
   "source": [
    "**Высота потолков**"
   ]
  },
  {
   "cell_type": "code",
   "execution_count": 29,
   "metadata": {
    "scrolled": true
   },
   "outputs": [
    {
     "data": {
      "text/plain": [
       "count    23699.000000\n",
       "mean         2.724358\n",
       "std          0.988298\n",
       "min          1.000000\n",
       "25%          2.600000\n",
       "50%          2.650000\n",
       "75%          2.700000\n",
       "max        100.000000\n",
       "Name: ceiling_height, dtype: float64"
      ]
     },
     "execution_count": 29,
     "metadata": {},
     "output_type": "execute_result"
    }
   ],
   "source": [
    "data['ceiling_height'].describe()"
   ]
  },
  {
   "cell_type": "code",
   "execution_count": 30,
   "metadata": {
    "scrolled": true
   },
   "outputs": [
    {
     "data": {
      "text/plain": [
       "<AxesSubplot:>"
      ]
     },
     "execution_count": 30,
     "metadata": {},
     "output_type": "execute_result"
    },
    {
     "data": {
      "image/png": "[encoded data removed]",
      "text/plain": [
       "<Figure size 432x288 with 1 Axes>"
      ]
     },
     "metadata": {
      "needs_background": "light"
     },
     "output_type": "display_data"
    }
   ],
   "source": [
    "data['ceiling_height'].hist(bins=10,  range=(2, 5))"
   ]
  },
  {
   "cell_type": "markdown",
   "metadata": {},
   "source": [
    "Средняя высота потолков - 2,7 м, стандартный размер. Меньше 2 и больше 5 м потолков не бывает, возьмем эти величины в качестве границ."
   ]
  },
  {
   "cell_type": "markdown",
   "metadata": {},
   "source": [
    "### Изучение времени продажи квартиры"
   ]
  },
  {
   "cell_type": "code",
   "execution_count": 31,
   "metadata": {
    "scrolled": true
   },
   "outputs": [
    {
     "data": {
      "text/plain": [
       "count    20518.000000\n",
       "mean       180.888634\n",
       "std        219.727988\n",
       "min          1.000000\n",
       "25%         45.000000\n",
       "50%         95.000000\n",
       "75%        232.000000\n",
       "max       1580.000000\n",
       "Name: days_exposition, dtype: float64"
      ]
     },
     "execution_count": 31,
     "metadata": {},
     "output_type": "execute_result"
    }
   ],
   "source": [
    "data['days_exposition'].describe()"
   ]
  },
  {
   "cell_type": "code",
   "execution_count": 32,
   "metadata": {
    "scrolled": true
   },
   "outputs": [
    {
     "data": {
      "text/plain": [
       "<AxesSubplot:>"
      ]
     },
     "execution_count": 32,
     "metadata": {},
     "output_type": "execute_result"
    },
    {
     "data": {
      "image/png": "[encoded data removed]",
      "text/plain": [
       "<Figure size 432x288 with 1 Axes>"
      ]
     },
     "metadata": {
      "needs_background": "light"
     },
     "output_type": "display_data"
    }
   ],
   "source": [
    "data['days_exposition'].hist(bins=100)"
   ]
  },
  {
   "cell_type": "code",
   "execution_count": 33,
   "metadata": {},
   "outputs": [
    {
     "data": {
      "text/plain": [
       "<AxesSubplot:>"
      ]
     },
     "execution_count": 33,
     "metadata": {},
     "output_type": "execute_result"
    },
    {
     "data": {
      "image/png": "[encoded data removed]",
      "text/plain": [
       "<Figure size 432x288 with 1 Axes>"
      ]
     },
     "metadata": {
      "needs_background": "light"
     },
     "output_type": "display_data"
    }
   ],
   "source": [
    "data['days_exposition'].hist(bins=50,  range=(40, 100))"
   ]
  },
  {
   "cell_type": "markdown",
   "metadata": {},
   "source": [
    "Среднее время продажи составляет 180 дней, при этом медианное время в два раза меньше - 95 дней. Такое сильное различие можно объяснить наличием относительно небольшого количества очень долгих продаж. Продажу можно считать быстрой, если она заняла меньше 45 дней. Необычайно долгими являются продажи, занимающие больше 300 дней. \n",
    "\n",
    "В начале графика имеются крупные выбросы в данных на значениях 45, 60 и 90 дней (показаны на второй гистограмме). Наличие выбросов, да ещё и у таких круглых значений довольно странно. Возможно, система настроена так, что объявления автоматически закрываются по прошествии определенного количества дней. Либо при расчете количества дней произошла ошибка.    "
   ]
  },
  {
   "cell_type": "markdown",
   "metadata": {},
   "source": [
    "### Редкие и выбивающиеся значения"
   ]
  },
  {
   "cell_type": "markdown",
   "metadata": {},
   "source": [
    "На основе полученных на предыдущих этапах границ, создадим срез данных `good_data`. "
   ]
  },
  {
   "cell_type": "code",
   "execution_count": 34,
   "metadata": {
    "scrolled": true
   },
   "outputs": [
    {
     "name": "stdout",
     "output_type": "stream",
     "text": [
      "<class 'pandas.core.frame.DataFrame'>\n",
      "Int64Index: 23311 entries, 0 to 23698\n",
      "Data columns (total 29 columns):\n",
      " #   Column                  Non-Null Count  Dtype         \n",
      "---  ------                  --------------  -----         \n",
      " 0   total_images            23311 non-null  int64         \n",
      " 1   last_price              23311 non-null  int64         \n",
      " 2   total_area              23311 non-null  float64       \n",
      " 3   first_day_exposition    23311 non-null  datetime64[ns]\n",
      " 4   rooms                   23311 non-null  int64         \n",
      " 5   ceiling_height          23311 non-null  float64       \n",
      " 6   floors_total            23311 non-null  int64         \n",
      " 7   living_area             23311 non-null  float64       \n",
      " 8   floor                   23311 non-null  int64         \n",
      " 9   is_apartment            23311 non-null  bool          \n",
      " 10  studio                  23311 non-null  bool          \n",
      " 11  open_plan               23311 non-null  bool          \n",
      " 12  kitchen_area            23311 non-null  float64       \n",
      " 13  balcony                 23311 non-null  int64         \n",
      " 14  locality_name           23311 non-null  object        \n",
      " 15  airports_nearest        23311 non-null  float64       \n",
      " 16  city_centers_nearest    23311 non-null  float64       \n",
      " 17  parks_around_3000       23311 non-null  int64         \n",
      " 18  parks_nearest           23311 non-null  float64       \n",
      " 19  ponds_around_3000       23311 non-null  int64         \n",
      " 20  ponds_nearest           23311 non-null  float64       \n",
      " 21  days_exposition         20225 non-null  float64       \n",
      " 22  price_sq_m              23311 non-null  int64         \n",
      " 23  weekday_exposition      23311 non-null  int64         \n",
      " 24  month_exposition        23311 non-null  int64         \n",
      " 25  year_exposition         23311 non-null  int64         \n",
      " 26  floor_position          23311 non-null  object        \n",
      " 27  living_to_total_ratio   23311 non-null  float64       \n",
      " 28  kitchen_to_total_ratio  23311 non-null  float64       \n",
      "dtypes: bool(3), datetime64[ns](1), float64(11), int64(12), object(2)\n",
      "memory usage: 4.9+ MB\n"
     ]
    }
   ],
   "source": [
    "good_data = data.query('total_area < 300 and rooms < 10 and 2 < ceiling_height < 5 and last_price < 30000000')\n",
    "good_data.info()"
   ]
  },
  {
   "cell_type": "markdown",
   "metadata": {},
   "source": [
    "**Выводы**\n",
    "\n",
    "Изначальный набор данных был сокращен в срезе на 387 строк. Были исключены объявления с площадью больше 300 м, количеством комнат более 10, высотой потолков менее 2 м и более 5 м и ценой продажи более 30 млн. Таким образом, мы избавились от большинства выбросов в данных, которые были обусловлены либо ошибками, либо необычными объявлениями."
   ]
  },
  {
   "cell_type": "markdown",
   "metadata": {},
   "source": [
    "### Влияние различных факторов на стоимость квартиры"
   ]
  },
  {
   "cell_type": "markdown",
   "metadata": {},
   "source": [
    "**Зависимость цены от площади**"
   ]
  },
  {
   "cell_type": "code",
   "execution_count": 35,
   "metadata": {
    "scrolled": true
   },
   "outputs": [
    {
     "data": {
      "text/plain": [
       "'Корреляция составляет 0.79'"
      ]
     },
     "execution_count": 35,
     "metadata": {},
     "output_type": "execute_result"
    },
    {
     "data": {
      "image/png": "[encoded data removed]",
      "text/plain": [
       "<Figure size 432x288 with 1 Axes>"
      ]
     },
     "metadata": {
      "needs_background": "light"
     },
     "output_type": "display_data"
    }
   ],
   "source": [
    "good_data.sort_values('total_area').plot(x='total_area', y='last_price', kind='scatter')\n",
    "area_corr = good_data['total_area'].corr(good_data['last_price'])\n",
    "f'Корреляция составляет {area_corr:.2f}'"
   ]
  },
  {
   "cell_type": "markdown",
   "metadata": {},
   "source": [
    "Можно утверждать, что площадь квартиры напрямую влияет на цену, с коэффициентом корреляции 0,79."
   ]
  },
  {
   "cell_type": "markdown",
   "metadata": {},
   "source": [
    "**Зависимость цены от количества комнат**"
   ]
  },
  {
   "cell_type": "code",
   "execution_count": 36,
   "metadata": {},
   "outputs": [
    {
     "data": {
      "text/plain": [
       "'Корреляция составляет 0.52'"
      ]
     },
     "execution_count": 36,
     "metadata": {},
     "output_type": "execute_result"
    },
    {
     "data": {
      "image/png": "[encoded data removed]",
      "text/plain": [
       "<Figure size 432x288 with 1 Axes>"
      ]
     },
     "metadata": {
      "needs_background": "light"
     },
     "output_type": "display_data"
    }
   ],
   "source": [
    "good_data.pivot_table(index='rooms', values='last_price', aggfunc='median').plot()\n",
    "rooms_corr = good_data['rooms'].corr(good_data['last_price'])\n",
    "f'Корреляция составляет {rooms_corr:.2f}'"
   ]
  },
  {
   "cell_type": "markdown",
   "metadata": {},
   "source": [
    "График показывает рост медианной цены при увеличении количества комнат, однако коэффициент корреляции не высокий (0,52)  "
   ]
  },
  {
   "cell_type": "markdown",
   "metadata": {},
   "source": [
    "**Зависимость цены от близости к центру**"
   ]
  },
  {
   "cell_type": "code",
   "execution_count": 37,
   "metadata": {
    "scrolled": true
   },
   "outputs": [
    {
     "data": {
      "text/plain": [
       "'Корреляция составляет -0.35'"
      ]
     },
     "execution_count": 37,
     "metadata": {},
     "output_type": "execute_result"
    },
    {
     "data": {
      "image/png": "[encoded data removed]",
      "text/plain": [
       "<Figure size 432x288 with 1 Axes>"
      ]
     },
     "metadata": {
      "needs_background": "light"
     },
     "output_type": "display_data"
    }
   ],
   "source": [
    "# уберем значения менее 0, т.к. это пропуски и построим график\n",
    "(\n",
    "good_data.query('city_centers_nearest > 0')\n",
    ".sort_values('city_centers_nearest')\n",
    ".plot(x='city_centers_nearest', y='last_price', kind='scatter', alpha=0.02, grid=True)\n",
    ")\n",
    "# рассчитаем корреляцию, отбросив пропущенные значения\n",
    "centers_corr = good_data.query('city_centers_nearest > 0')['city_centers_nearest'].corr(good_data['last_price'])\n",
    "f'Корреляция составляет {centers_corr:.2f}'"
   ]
  },
  {
   "cell_type": "markdown",
   "metadata": {},
   "source": [
    "На графике видно небольшое смещение вниз цены квартиры при удалении от центра. Коэффициент корреляции отрицательный (-0,35), что также говорит о снижении цен с увеличением расстояний. "
   ]
  },
  {
   "cell_type": "markdown",
   "metadata": {},
   "source": [
    "**Зависимость цены от этажа**"
   ]
  },
  {
   "cell_type": "code",
   "execution_count": 38,
   "metadata": {
    "scrolled": false
   },
   "outputs": [
    {
     "data": {
      "text/plain": [
       "<AxesSubplot:xlabel='floor_position'>"
      ]
     },
     "execution_count": 38,
     "metadata": {},
     "output_type": "execute_result"
    },
    {
     "data": {
      "image/png": "[encoded data removed]",
      "text/plain": [
       "<Figure size 432x288 with 1 Axes>"
      ]
     },
     "metadata": {
      "needs_background": "light"
     },
     "output_type": "display_data"
    }
   ],
   "source": [
    "good_data.pivot_table(index='floor_position', values='last_price', aggfunc='median').plot(kind='bar', ylim=(3000000))"
   ]
  },
  {
   "cell_type": "markdown",
   "metadata": {},
   "source": [
    "Самые дешевые квартиры на первом и последнем этаже, самые дорогие квартиры - между ними."
   ]
  },
  {
   "cell_type": "markdown",
   "metadata": {},
   "source": [
    "**Зависимость цены от дня недели публикации объявдения**"
   ]
  },
  {
   "cell_type": "code",
   "execution_count": 39,
   "metadata": {
    "scrolled": false
   },
   "outputs": [
    {
     "data": {
      "text/plain": [
       "<AxesSubplot:xlabel='weekday_exposition'>"
      ]
     },
     "execution_count": 39,
     "metadata": {},
     "output_type": "execute_result"
    },
    {
     "data": {
      "image/png": "[encoded data removed]",
      "text/plain": [
       "<Figure size 432x288 with 1 Axes>"
      ]
     },
     "metadata": {
      "needs_background": "light"
     },
     "output_type": "display_data"
    }
   ],
   "source": [
    "good_data.pivot_table(index='weekday_exposition', values='last_price', aggfunc='median').plot()"
   ]
  },
  {
   "cell_type": "markdown",
   "metadata": {},
   "source": [
    "Квартиры выставляемые на выходных немного дешевле, чем в остальные дни."
   ]
  },
  {
   "cell_type": "markdown",
   "metadata": {},
   "source": [
    "**Зависимость цены от месяца публикации объявдения**"
   ]
  },
  {
   "cell_type": "code",
   "execution_count": 40,
   "metadata": {
    "scrolled": true
   },
   "outputs": [
    {
     "data": {
      "text/plain": [
       "<AxesSubplot:xlabel='month_exposition'>"
      ]
     },
     "execution_count": 40,
     "metadata": {},
     "output_type": "execute_result"
    },
    {
     "data": {
      "image/png": "[encoded data removed]",
      "text/plain": [
       "<Figure size 432x288 with 1 Axes>"
      ]
     },
     "metadata": {
      "needs_background": "light"
     },
     "output_type": "display_data"
    }
   ],
   "source": [
    "good_data.pivot_table(index='month_exposition', values='last_price', aggfunc='median').plot()"
   ]
  },
  {
   "cell_type": "markdown",
   "metadata": {},
   "source": [
    "Квартиры выставляемые в июне дешевле, чем в остальные месяцы."
   ]
  },
  {
   "cell_type": "markdown",
   "metadata": {},
   "source": [
    "**Зависимость цены от года публикации объявления**"
   ]
  },
  {
   "cell_type": "code",
   "execution_count": 41,
   "metadata": {
    "scrolled": false
   },
   "outputs": [
    {
     "data": {
      "text/plain": [
       "'Корреляция составляет -0.04'"
      ]
     },
     "execution_count": 41,
     "metadata": {},
     "output_type": "execute_result"
    },
    {
     "data": {
      "image/png": "[encoded data removed]",
      "text/plain": [
       "<Figure size 432x288 with 1 Axes>"
      ]
     },
     "metadata": {
      "needs_background": "light"
     },
     "output_type": "display_data"
    }
   ],
   "source": [
    "good_data.pivot_table(index='year_exposition', values='last_price', aggfunc='median').plot()\n",
    "year_corr = good_data['year_exposition'].corr(good_data['last_price'])\n",
    "f'Корреляция составляет {year_corr:.2f}'"
   ]
  },
  {
   "cell_type": "markdown",
   "metadata": {},
   "source": [
    "График показывает резкое падение цен в 2015 году, при этом коэффициент корреляции не показывает наличие зависимости."
   ]
  },
  {
   "cell_type": "code",
   "execution_count": 42,
   "metadata": {},
   "outputs": [
    {
     "data": {
      "text/plain": [
       "<seaborn.axisgrid.PairGrid at 0x7f6e83afe9a0>"
      ]
     },
     "execution_count": 42,
     "metadata": {},
     "output_type": "execute_result"
    },
    {
     "data": {
      "image/png": "[encoded data removed]",
      "text/plain": [
       "<Figure size 720x720 with 20 Axes>"
      ]
     },
     "metadata": {
      "needs_background": "light"
     },
     "output_type": "display_data"
    }
   ],
   "source": [
    "sns.pairplot(data[['last_price', 'total_area', 'rooms', 'city_centers_nearest']]) # построим матрицу графиков для сравнения"
   ]
  },
  {
   "cell_type": "markdown",
   "metadata": {},
   "source": [
    "**Выводы**\n",
    "\n",
    "На цену квартиры наиболее сильно влияет общая площадь, меньше - количество комнат и близость к центру города. Также незначительное влияние оказывают этаж и день/месяц обявления. Выявлены интересные особенности - квартиры на первом и последнем этаже дешевле, чем на других. Квартиры выставляемые по выходным, а также в июне дешевле, чем в другие даты. После 2014 года произошло резкое падение цен, практически в два раза. Обнаружена аномалия, проявляющаяся в виде большого количества продаж на 45, 60 и 90 день после публикации. Высказано предположение о том, что объявления автоматически закрываются по прошествии определенного количества дней."
   ]
  },
  {
   "cell_type": "markdown",
   "metadata": {},
   "source": [
    "###  Населённые пункты с наибольшим числом объявлений"
   ]
  },
  {
   "cell_type": "code",
   "execution_count": 43,
   "metadata": {
    "scrolled": true
   },
   "outputs": [
    {
     "data": {
      "text/html": [
       "<div>\n",
       "<style scoped>\n",
       "    .dataframe tbody tr th:only-of-type {\n",
       "        vertical-align: middle;\n",
       "    }\n",
       "\n",
       "    .dataframe tbody tr th {\n",
       "        vertical-align: top;\n",
       "    }\n",
       "\n",
       "    .dataframe thead th {\n",
       "        text-align: right;\n",
       "    }\n",
       "</style>\n",
       "<table border=\"1\" class=\"dataframe\">\n",
       "  <thead>\n",
       "    <tr style=\"text-align: right;\">\n",
       "      <th></th>\n",
       "      <th>price_sq_m</th>\n",
       "    </tr>\n",
       "    <tr>\n",
       "      <th>locality_name</th>\n",
       "      <th></th>\n",
       "    </tr>\n",
       "  </thead>\n",
       "  <tbody>\n",
       "    <tr>\n",
       "      <th>Санкт-Петербург</th>\n",
       "      <td>114848.565231</td>\n",
       "    </tr>\n",
       "    <tr>\n",
       "      <th>Пушкин</th>\n",
       "      <td>103125.373984</td>\n",
       "    </tr>\n",
       "    <tr>\n",
       "      <th>деревня Кудрово</th>\n",
       "      <td>92473.086957</td>\n",
       "    </tr>\n",
       "    <tr>\n",
       "      <th>посёлок Парголово</th>\n",
       "      <td>90175.489297</td>\n",
       "    </tr>\n",
       "    <tr>\n",
       "      <th>посёлок Мурино</th>\n",
       "      <td>85751.733716</td>\n",
       "    </tr>\n",
       "    <tr>\n",
       "      <th>посёлок Шушары</th>\n",
       "      <td>78676.904545</td>\n",
       "    </tr>\n",
       "    <tr>\n",
       "      <th>Колпино</th>\n",
       "      <td>75424.150888</td>\n",
       "    </tr>\n",
       "    <tr>\n",
       "      <th>Гатчина</th>\n",
       "      <td>68745.693811</td>\n",
       "    </tr>\n",
       "    <tr>\n",
       "      <th>Всеволожск</th>\n",
       "      <td>68654.007538</td>\n",
       "    </tr>\n",
       "    <tr>\n",
       "      <th>Выборг</th>\n",
       "      <td>58141.489451</td>\n",
       "    </tr>\n",
       "  </tbody>\n",
       "</table>\n",
       "</div>"
      ],
      "text/plain": [
       "                      price_sq_m\n",
       "locality_name                   \n",
       "Санкт-Петербург    114848.565231\n",
       "Пушкин             103125.373984\n",
       "деревня Кудрово     92473.086957\n",
       "посёлок Парголово   90175.489297\n",
       "посёлок Мурино      85751.733716\n",
       "посёлок Шушары      78676.904545\n",
       "Колпино             75424.150888\n",
       "Гатчина             68745.693811\n",
       "Всеволожск          68654.007538\n",
       "Выборг              58141.489451"
      ]
     },
     "execution_count": 43,
     "metadata": {},
     "output_type": "execute_result"
    }
   ],
   "source": [
    "top_10_ads = data['locality_name'].value_counts().head(10) # считаем количество объявлений для каждого города и берем первые 10 (данные отсортированы по убыванию)\n",
    "(\n",
    "data.query('locality_name in @top_10_ads.index') # делаем срез по индексам из топ-10\n",
    ".pivot_table(index='locality_name', values='price_sq_m') # строим сводную таблицу\n",
    ".sort_values(by='price_sq_m', ascending=False) # сортируем по убыванию \n",
    ")"
   ]
  },
  {
   "cell_type": "markdown",
   "metadata": {},
   "source": [
    "Самая высокая цена за квадратный метр в Санкт-Петербурге, самая низкая - в Выборге."
   ]
  },
  {
   "cell_type": "markdown",
   "metadata": {},
   "source": [
    "### Квартиры в Санкт-Петербурге - расстояние до центра"
   ]
  },
  {
   "cell_type": "code",
   "execution_count": 44,
   "metadata": {
    "scrolled": true
   },
   "outputs": [
    {
     "data": {
      "text/html": [
       "<div>\n",
       "<style scoped>\n",
       "    .dataframe tbody tr th:only-of-type {\n",
       "        vertical-align: middle;\n",
       "    }\n",
       "\n",
       "    .dataframe tbody tr th {\n",
       "        vertical-align: top;\n",
       "    }\n",
       "\n",
       "    .dataframe thead th {\n",
       "        text-align: right;\n",
       "    }\n",
       "</style>\n",
       "<table border=\"1\" class=\"dataframe\">\n",
       "  <thead>\n",
       "    <tr style=\"text-align: right;\">\n",
       "      <th></th>\n",
       "      <th>total_images</th>\n",
       "      <th>last_price</th>\n",
       "      <th>total_area</th>\n",
       "      <th>first_day_exposition</th>\n",
       "      <th>rooms</th>\n",
       "      <th>ceiling_height</th>\n",
       "      <th>floors_total</th>\n",
       "      <th>living_area</th>\n",
       "      <th>floor</th>\n",
       "      <th>is_apartment</th>\n",
       "      <th>...</th>\n",
       "      <th>ponds_nearest</th>\n",
       "      <th>days_exposition</th>\n",
       "      <th>price_sq_m</th>\n",
       "      <th>weekday_exposition</th>\n",
       "      <th>month_exposition</th>\n",
       "      <th>year_exposition</th>\n",
       "      <th>floor_position</th>\n",
       "      <th>living_to_total_ratio</th>\n",
       "      <th>kitchen_to_total_ratio</th>\n",
       "      <th>city_centers_nearest_km</th>\n",
       "    </tr>\n",
       "  </thead>\n",
       "  <tbody>\n",
       "    <tr>\n",
       "      <th>0</th>\n",
       "      <td>20</td>\n",
       "      <td>13000000</td>\n",
       "      <td>108.0</td>\n",
       "      <td>2019-03-07</td>\n",
       "      <td>3</td>\n",
       "      <td>2.70</td>\n",
       "      <td>16</td>\n",
       "      <td>51.0</td>\n",
       "      <td>8</td>\n",
       "      <td>False</td>\n",
       "      <td>...</td>\n",
       "      <td>755.0</td>\n",
       "      <td>NaN</td>\n",
       "      <td>120370</td>\n",
       "      <td>3</td>\n",
       "      <td>3</td>\n",
       "      <td>2019</td>\n",
       "      <td>другой</td>\n",
       "      <td>0.472222</td>\n",
       "      <td>0.231481</td>\n",
       "      <td>16</td>\n",
       "    </tr>\n",
       "    <tr>\n",
       "      <th>1</th>\n",
       "      <td>7</td>\n",
       "      <td>3350000</td>\n",
       "      <td>40.4</td>\n",
       "      <td>2018-12-04</td>\n",
       "      <td>1</td>\n",
       "      <td>2.65</td>\n",
       "      <td>11</td>\n",
       "      <td>18.6</td>\n",
       "      <td>1</td>\n",
       "      <td>False</td>\n",
       "      <td>...</td>\n",
       "      <td>-999.0</td>\n",
       "      <td>81.0</td>\n",
       "      <td>82920</td>\n",
       "      <td>1</td>\n",
       "      <td>12</td>\n",
       "      <td>2018</td>\n",
       "      <td>первый</td>\n",
       "      <td>0.460396</td>\n",
       "      <td>0.272277</td>\n",
       "      <td>18</td>\n",
       "    </tr>\n",
       "    <tr>\n",
       "      <th>2</th>\n",
       "      <td>10</td>\n",
       "      <td>5196000</td>\n",
       "      <td>56.0</td>\n",
       "      <td>2015-08-20</td>\n",
       "      <td>2</td>\n",
       "      <td>2.65</td>\n",
       "      <td>5</td>\n",
       "      <td>34.3</td>\n",
       "      <td>4</td>\n",
       "      <td>False</td>\n",
       "      <td>...</td>\n",
       "      <td>574.0</td>\n",
       "      <td>558.0</td>\n",
       "      <td>92785</td>\n",
       "      <td>3</td>\n",
       "      <td>8</td>\n",
       "      <td>2015</td>\n",
       "      <td>другой</td>\n",
       "      <td>0.612500</td>\n",
       "      <td>0.148214</td>\n",
       "      <td>13</td>\n",
       "    </tr>\n",
       "    <tr>\n",
       "      <th>3</th>\n",
       "      <td>0</td>\n",
       "      <td>64900000</td>\n",
       "      <td>159.0</td>\n",
       "      <td>2015-07-24</td>\n",
       "      <td>3</td>\n",
       "      <td>2.65</td>\n",
       "      <td>14</td>\n",
       "      <td>-999.0</td>\n",
       "      <td>9</td>\n",
       "      <td>False</td>\n",
       "      <td>...</td>\n",
       "      <td>234.0</td>\n",
       "      <td>424.0</td>\n",
       "      <td>408176</td>\n",
       "      <td>4</td>\n",
       "      <td>7</td>\n",
       "      <td>2015</td>\n",
       "      <td>другой</td>\n",
       "      <td>-6.283019</td>\n",
       "      <td>-6.283019</td>\n",
       "      <td>6</td>\n",
       "    </tr>\n",
       "    <tr>\n",
       "      <th>4</th>\n",
       "      <td>2</td>\n",
       "      <td>10000000</td>\n",
       "      <td>100.0</td>\n",
       "      <td>2018-06-19</td>\n",
       "      <td>2</td>\n",
       "      <td>3.03</td>\n",
       "      <td>14</td>\n",
       "      <td>32.0</td>\n",
       "      <td>13</td>\n",
       "      <td>False</td>\n",
       "      <td>...</td>\n",
       "      <td>48.0</td>\n",
       "      <td>121.0</td>\n",
       "      <td>100000</td>\n",
       "      <td>1</td>\n",
       "      <td>6</td>\n",
       "      <td>2018</td>\n",
       "      <td>другой</td>\n",
       "      <td>0.320000</td>\n",
       "      <td>0.410000</td>\n",
       "      <td>8</td>\n",
       "    </tr>\n",
       "  </tbody>\n",
       "</table>\n",
       "<p>5 rows × 30 columns</p>\n",
       "</div>"
      ],
      "text/plain": [
       "   total_images  last_price  total_area first_day_exposition  rooms  \\\n",
       "0            20    13000000       108.0           2019-03-07      3   \n",
       "1             7     3350000        40.4           2018-12-04      1   \n",
       "2            10     5196000        56.0           2015-08-20      2   \n",
       "3             0    64900000       159.0           2015-07-24      3   \n",
       "4             2    10000000       100.0           2018-06-19      2   \n",
       "\n",
       "   ceiling_height  floors_total  living_area  floor  is_apartment  ...  \\\n",
       "0            2.70            16         51.0      8         False  ...   \n",
       "1            2.65            11         18.6      1         False  ...   \n",
       "2            2.65             5         34.3      4         False  ...   \n",
       "3            2.65            14       -999.0      9         False  ...   \n",
       "4            3.03            14         32.0     13         False  ...   \n",
       "\n",
       "   ponds_nearest  days_exposition  price_sq_m  weekday_exposition  \\\n",
       "0          755.0              NaN      120370                   3   \n",
       "1         -999.0             81.0       82920                   1   \n",
       "2          574.0            558.0       92785                   3   \n",
       "3          234.0            424.0      408176                   4   \n",
       "4           48.0            121.0      100000                   1   \n",
       "\n",
       "  month_exposition  year_exposition  floor_position  living_to_total_ratio  \\\n",
       "0                3             2019          другой               0.472222   \n",
       "1               12             2018          первый               0.460396   \n",
       "2                8             2015          другой               0.612500   \n",
       "3                7             2015          другой              -6.283019   \n",
       "4                6             2018          другой               0.320000   \n",
       "\n",
       "   kitchen_to_total_ratio  city_centers_nearest_km  \n",
       "0                0.231481                       16  \n",
       "1                0.272277                       18  \n",
       "2                0.148214                       13  \n",
       "3               -6.283019                        6  \n",
       "4                0.410000                        8  \n",
       "\n",
       "[5 rows x 30 columns]"
      ]
     },
     "execution_count": 44,
     "metadata": {},
     "output_type": "execute_result"
    }
   ],
   "source": [
    "data['city_centers_nearest_km'] = data['city_centers_nearest'] / 1000 # создаем колонку с километрами\n",
    "data['city_centers_nearest_km'] = data['city_centers_nearest_km'].astype('int')\n",
    "data.head()"
   ]
  },
  {
   "cell_type": "code",
   "execution_count": 45,
   "metadata": {
    "scrolled": false
   },
   "outputs": [
    {
     "data": {
      "text/plain": [
       "<AxesSubplot:xlabel='city_centers_nearest_km'>"
      ]
     },
     "execution_count": 45,
     "metadata": {},
     "output_type": "execute_result"
    },
    {
     "data": {
      "image/png": "[encoded data removed]",
      "text/plain": [
       "<Figure size 432x288 with 1 Axes>"
      ]
     },
     "metadata": {
      "needs_background": "light"
     },
     "output_type": "display_data"
    }
   ],
   "source": [
    "spb_data = data.query('locality_name == \"Санкт-Петербург\"')\n",
    "spb_data.pivot_table(index='city_centers_nearest_km', values='last_price', aggfunc='median').plot()"
   ]
  },
  {
   "cell_type": "markdown",
   "metadata": {},
   "source": [
    "Центром можно считать удаленность менее 10 км"
   ]
  },
  {
   "cell_type": "markdown",
   "metadata": {},
   "source": [
    "### Квартиры в центре Санкт-Петербурга"
   ]
  },
  {
   "cell_type": "code",
   "execution_count": 46,
   "metadata": {
    "scrolled": true
   },
   "outputs": [
    {
     "name": "stdout",
     "output_type": "stream",
     "text": [
      "<class 'pandas.core.frame.DataFrame'>\n",
      "Int64Index: 4807 entries, 4 to 23694\n",
      "Data columns (total 30 columns):\n",
      " #   Column                   Non-Null Count  Dtype         \n",
      "---  ------                   --------------  -----         \n",
      " 0   total_images             4807 non-null   int64         \n",
      " 1   last_price               4807 non-null   int64         \n",
      " 2   total_area               4807 non-null   float64       \n",
      " 3   first_day_exposition     4807 non-null   datetime64[ns]\n",
      " 4   rooms                    4807 non-null   int64         \n",
      " 5   ceiling_height           4807 non-null   float64       \n",
      " 6   floors_total             4807 non-null   int64         \n",
      " 7   living_area              4807 non-null   float64       \n",
      " 8   floor                    4807 non-null   int64         \n",
      " 9   is_apartment             4807 non-null   bool          \n",
      " 10  studio                   4807 non-null   bool          \n",
      " 11  open_plan                4807 non-null   bool          \n",
      " 12  kitchen_area             4807 non-null   float64       \n",
      " 13  balcony                  4807 non-null   int64         \n",
      " 14  locality_name            4807 non-null   object        \n",
      " 15  airports_nearest         4807 non-null   float64       \n",
      " 16  city_centers_nearest     4807 non-null   float64       \n",
      " 17  parks_around_3000        4807 non-null   int64         \n",
      " 18  parks_nearest            4807 non-null   float64       \n",
      " 19  ponds_around_3000        4807 non-null   int64         \n",
      " 20  ponds_nearest            4807 non-null   float64       \n",
      " 21  days_exposition          4068 non-null   float64       \n",
      " 22  price_sq_m               4807 non-null   int64         \n",
      " 23  weekday_exposition       4807 non-null   int64         \n",
      " 24  month_exposition         4807 non-null   int64         \n",
      " 25  year_exposition          4807 non-null   int64         \n",
      " 26  floor_position           4807 non-null   object        \n",
      " 27  living_to_total_ratio    4807 non-null   float64       \n",
      " 28  kitchen_to_total_ratio   4807 non-null   float64       \n",
      " 29  city_centers_nearest_km  4807 non-null   int64         \n",
      "dtypes: bool(3), datetime64[ns](1), float64(11), int64(13), object(2)\n",
      "memory usage: 1.0+ MB\n"
     ]
    }
   ],
   "source": [
    "spb_center_data = data.query('locality_name == \"Санкт-Петербург\" and city_centers_nearest_km < 10') # создаем срез с квартирами в центре\n",
    "spb_center_data = spb_center_data.query('total_area < 300 and rooms < 10 and 2 < ceiling_height < 5 and last_price < 30000000')\n",
    "# уберем редкие и выбивающиеся значения\n",
    "spb_center_data.info()"
   ]
  },
  {
   "cell_type": "markdown",
   "metadata": {},
   "source": [
    "**Изучение параметров**"
   ]
  },
  {
   "cell_type": "markdown",
   "metadata": {},
   "source": [
    "**Общая площадь**"
   ]
  },
  {
   "cell_type": "code",
   "execution_count": 47,
   "metadata": {
    "scrolled": false
   },
   "outputs": [
    {
     "data": {
      "text/plain": [
       "<AxesSubplot:>"
      ]
     },
     "execution_count": 47,
     "metadata": {},
     "output_type": "execute_result"
    },
    {
     "data": {
      "image/png": "[encoded data removed]",
      "text/plain": [
       "<Figure size 432x288 with 1 Axes>"
      ]
     },
     "metadata": {
      "needs_background": "light"
     },
     "output_type": "display_data"
    }
   ],
   "source": [
    "spb_center_data['total_area'].hist(bins=100, range=(0, 300))"
   ]
  },
  {
   "cell_type": "markdown",
   "metadata": {},
   "source": [
    "Медианное значение площади совпадает с общими данными, однако выше доля квартир большой площади - более 50 м."
   ]
  },
  {
   "cell_type": "markdown",
   "metadata": {},
   "source": [
    "**Цена**"
   ]
  },
  {
   "cell_type": "code",
   "execution_count": 48,
   "metadata": {
    "scrolled": false
   },
   "outputs": [
    {
     "data": {
      "text/plain": [
       "<AxesSubplot:>"
      ]
     },
     "execution_count": 48,
     "metadata": {},
     "output_type": "execute_result"
    },
    {
     "data": {
      "image/png": "[encoded data removed]",
      "text/plain": [
       "<Figure size 432x288 with 1 Axes>"
      ]
     },
     "metadata": {
      "needs_background": "light"
     },
     "output_type": "display_data"
    }
   ],
   "source": [
    "spb_center_data['last_price'].hist(bins=100, range=(10000, 30000000))"
   ]
  },
  {
   "cell_type": "markdown",
   "metadata": {},
   "source": [
    "Медианное значение выше чем в общих данных, цены в центре выше на 2-3 млн."
   ]
  },
  {
   "cell_type": "markdown",
   "metadata": {},
   "source": [
    "**Количество комнат**"
   ]
  },
  {
   "cell_type": "code",
   "execution_count": 49,
   "metadata": {
    "scrolled": false
   },
   "outputs": [
    {
     "data": {
      "text/plain": [
       "<AxesSubplot:>"
      ]
     },
     "execution_count": 49,
     "metadata": {},
     "output_type": "execute_result"
    },
    {
     "data": {
      "image/png": "[encoded data removed]",
      "text/plain": [
       "<Figure size 432x288 with 1 Axes>"
      ]
     },
     "metadata": {
      "needs_background": "light"
     },
     "output_type": "display_data"
    }
   ],
   "source": [
    "spb_center_data['rooms'].hist(bins=10, range=(0, 10))"
   ]
  },
  {
   "cell_type": "markdown",
   "metadata": {},
   "source": [
    "Относительное число двух- и трехкомнатных квартир в центре выше, чем в общих данных."
   ]
  },
  {
   "cell_type": "markdown",
   "metadata": {},
   "source": [
    "**Высота потолков**"
   ]
  },
  {
   "cell_type": "code",
   "execution_count": 50,
   "metadata": {},
   "outputs": [
    {
     "data": {
      "text/plain": [
       "<AxesSubplot:>"
      ]
     },
     "execution_count": 50,
     "metadata": {},
     "output_type": "execute_result"
    },
    {
     "data": {
      "image/png": "[encoded data removed]",
      "text/plain": [
       "<Figure size 432x288 with 1 Axes>"
      ]
     },
     "metadata": {
      "needs_background": "light"
     },
     "output_type": "display_data"
    }
   ],
   "source": [
    "spb_center_data['ceiling_height'].hist(bins=10,  range=(2, 5))"
   ]
  },
  {
   "cell_type": "markdown",
   "metadata": {},
   "source": [
    "В центре выше доля квартир с высокими потолками (более 3 м)."
   ]
  },
  {
   "cell_type": "markdown",
   "metadata": {},
   "source": [
    "**Влияние различных факторов на стоимость квартиры**\n",
    "\n",
    "Постоим графики, аналогичные построенным ранее, для общих данных. Сравним полученные новые графики со старыми."
   ]
  },
  {
   "cell_type": "code",
   "execution_count": 51,
   "metadata": {
    "scrolled": false
   },
   "outputs": [
    {
     "data": {
      "text/plain": [
       "<AxesSubplot:xlabel='year_exposition'>"
      ]
     },
     "execution_count": 51,
     "metadata": {},
     "output_type": "execute_result"
    },
    {
     "data": {
      "image/png": "[encoded data removed]",
      "text/plain": [
       "<Figure size 432x288 with 1 Axes>"
      ]
     },
     "metadata": {
      "needs_background": "light"
     },
     "output_type": "display_data"
    },
    {
     "data": {
      "image/png": "[encoded data removed]",
      "text/plain": [
       "<Figure size 432x288 with 1 Axes>"
      ]
     },
     "metadata": {
      "needs_background": "light"
     },
     "output_type": "display_data"
    },
    {
     "data": {
      "image/png": "[encoded data removed]",
      "text/plain": [
       "<Figure size 432x288 with 1 Axes>"
      ]
     },
     "metadata": {
      "needs_background": "light"
     },
     "output_type": "display_data"
    },
    {
     "data": {
      "image/png": "[encoded data removed]",
      "text/plain": [
       "<Figure size 432x288 with 1 Axes>"
      ]
     },
     "metadata": {
      "needs_background": "light"
     },
     "output_type": "display_data"
    },
    {
     "data": {
      "image/png": "[encoded data removed]",
      "text/plain": [
       "<Figure size 432x288 with 1 Axes>"
      ]
     },
     "metadata": {
      "needs_background": "light"
     },
     "output_type": "display_data"
    },
    {
     "data": {
      "image/png": "[encoded data removed]",
      "text/plain": [
       "<Figure size 432x288 with 1 Axes>"
      ]
     },
     "metadata": {
      "needs_background": "light"
     },
     "output_type": "display_data"
    },
    {
     "data": {
      "image/png": "[encoded data removed]",
      "text/plain": [
       "<Figure size 432x288 with 1 Axes>"
      ]
     },
     "metadata": {
      "needs_background": "light"
     },
     "output_type": "display_data"
    }
   ],
   "source": [
    "spb_center_data.sort_values('total_area').plot(x='total_area', y='last_price', kind='scatter')\n",
    "spb_center_data.pivot_table(index='rooms', values='last_price', aggfunc='median').plot()\n",
    "(\n",
    "spb_center_data.query('city_centers_nearest > 0')\n",
    ".sort_values('city_centers_nearest')\n",
    ".plot(x='city_centers_nearest', y='last_price', kind='scatter', alpha=0.5, grid=True)\n",
    ")\n",
    "spb_center_data.pivot_table(index='floor_position', values='last_price', aggfunc='median').plot(kind='bar', ylim=(3000000))\n",
    "good_data.pivot_table(index='weekday_exposition', values='last_price', aggfunc='median').plot()\n",
    "good_data.pivot_table(index='month_exposition', values='last_price', aggfunc='median').plot()\n",
    "good_data.pivot_table(index='year_exposition', values='last_price', aggfunc='median').plot()"
   ]
  },
  {
   "cell_type": "markdown",
   "metadata": {},
   "source": [
    "**Выводы**\n",
    "\n",
    "В центре продаются квартиры большей площади, с большим количеством комнат и с более высокими потолками, чем в общих данных. Соответственно, выше и цены на такое жилье. Влияние различных параметров на цену сопоставимо - на цену квартиры влияет общая площадь, количество комнат, близость к центру города."
   ]
  },
  {
   "cell_type": "markdown",
   "metadata": {},
   "source": [
    "## Общий вывод"
   ]
  },
  {
   "cell_type": "markdown",
   "metadata": {},
   "source": [
    "Проведено исследование объявлений о продаже квартир. Изучены исходные данные, проведена их предобработка - заполнены пропуски, изменены типы данных в колонках. Рассчитаны дополнительные характеристики, на основе иимеющихся. Проведен исследовательский анализ. Изучены основные параметры, оказывающие влияние на цену квартиры. Из выборки были исключены выбросы - выбивающиеся и редкие значения. \n",
    "\n",
    "1. Было выявлено, что набольшее влияние на цену квартиры оказывают:\n",
    "\n",
    "* общая площадь;\n",
    "* количество комнат;\n",
    "* близость к центру города.\n",
    "\n",
    "2. Составлен топ-10 из населенных пунктов с наибольшим количеством объявлений, где места рсапределены по стоимости квадратного метра. Самая высокая цена за квадратный метр в Санкт-Петербурге, самая низкая - в Выборге.\n",
    "\n",
    "3. Создан набор данных, включающий квартиры из Санкт-Петербурга. Проанализировано распределение цены квартир в зависимости от удаленности от центра. Выявлено, что условным центром можно считать радиус в 10 км - за этим радиусом близость к центру уже не оказывает сильного влияния на цену квартир.\n",
    "\n",
    "4. Создан набор данных, включающий только квартиры в центре Санкт-Петербурга. Изучены основные параметры, оказывающие влияние на цену квартиры. Выявлено, что в центре Санкт-Петербурга продаются квартиры большей площади, с большим количеством комнат и с более высокими потолками, чем в общих данных. Соответственно, выше и цены на такое жилье. Проанализировано влияние различных параметров на цену жилья. Изменений по сравнению с общими данными не выявлено.\n",
    "\n"
   ]
  }
 ],
 "metadata": {
  "ExecuteTimeLog": [
   {
    "duration": 498,
    "start_time": "2022-05-06T10:08:01.435Z"
   },
   {
    "duration": 110,
    "start_time": "2022-05-06T10:09:00.246Z"
   },
   {
    "duration": 21,
    "start_time": "2022-05-06T10:09:54.437Z"
   },
   {
    "duration": 206,
    "start_time": "2022-05-06T10:10:26.435Z"
   },
   {
    "duration": 102,
    "start_time": "2022-05-06T10:10:37.730Z"
   },
   {
    "duration": 9,
    "start_time": "2022-05-06T10:10:39.462Z"
   },
   {
    "duration": 113,
    "start_time": "2022-05-06T10:11:09.806Z"
   },
   {
    "duration": 43,
    "start_time": "2022-05-06T10:11:10.809Z"
   },
   {
    "duration": 21,
    "start_time": "2022-05-06T10:12:09.864Z"
   },
   {
    "duration": 7,
    "start_time": "2022-05-06T11:47:35.944Z"
   },
   {
    "duration": 89,
    "start_time": "2022-05-06T11:48:32.685Z"
   },
   {
    "duration": 7,
    "start_time": "2022-05-06T11:48:49.730Z"
   },
   {
    "duration": 12,
    "start_time": "2022-05-06T11:52:32.632Z"
   },
   {
    "duration": 9,
    "start_time": "2022-05-06T12:23:55.385Z"
   },
   {
    "duration": 21,
    "start_time": "2022-05-06T12:24:21.364Z"
   },
   {
    "duration": 10,
    "start_time": "2022-05-06T12:26:12.856Z"
   },
   {
    "duration": 34,
    "start_time": "2022-05-06T12:26:20.927Z"
   },
   {
    "duration": 25,
    "start_time": "2022-05-06T12:26:34.386Z"
   },
   {
    "duration": 21,
    "start_time": "2022-05-06T12:26:39.229Z"
   },
   {
    "duration": 9,
    "start_time": "2022-05-06T12:27:10.262Z"
   },
   {
    "duration": 25,
    "start_time": "2022-05-06T12:28:28.503Z"
   },
   {
    "duration": 193,
    "start_time": "2022-05-07T16:19:06.894Z"
   },
   {
    "duration": 39,
    "start_time": "2022-05-07T16:19:26.154Z"
   },
   {
    "duration": 406,
    "start_time": "2022-05-07T16:19:41.475Z"
   },
   {
    "duration": 75,
    "start_time": "2022-05-07T16:19:41.883Z"
   },
   {
    "duration": 30,
    "start_time": "2022-05-07T16:19:41.960Z"
   },
   {
    "duration": 17,
    "start_time": "2022-05-07T16:19:41.992Z"
   },
   {
    "duration": 4,
    "start_time": "2022-05-07T16:19:42.011Z"
   },
   {
    "duration": 5,
    "start_time": "2022-05-07T16:19:42.016Z"
   },
   {
    "duration": 16,
    "start_time": "2022-05-07T16:19:42.022Z"
   },
   {
    "duration": 71,
    "start_time": "2022-05-07T16:19:42.039Z"
   },
   {
    "duration": 14,
    "start_time": "2022-05-07T16:20:06.227Z"
   },
   {
    "duration": 15,
    "start_time": "2022-05-07T16:20:16.083Z"
   },
   {
    "duration": 6,
    "start_time": "2022-05-07T16:20:29.419Z"
   },
   {
    "duration": 30,
    "start_time": "2022-05-07T16:21:24.741Z"
   },
   {
    "duration": 14,
    "start_time": "2022-05-07T16:21:31.459Z"
   },
   {
    "duration": 6,
    "start_time": "2022-05-07T16:22:42.767Z"
   },
   {
    "duration": 5,
    "start_time": "2022-05-07T16:22:49.339Z"
   },
   {
    "duration": 25,
    "start_time": "2022-05-07T16:23:29.603Z"
   },
   {
    "duration": 7,
    "start_time": "2022-05-07T17:52:48.683Z"
   },
   {
    "duration": 5,
    "start_time": "2022-05-07T17:53:27.907Z"
   },
   {
    "duration": 53,
    "start_time": "2022-05-09T15:32:18.935Z"
   },
   {
    "duration": 444,
    "start_time": "2022-05-09T15:32:36.084Z"
   },
   {
    "duration": 84,
    "start_time": "2022-05-09T15:32:36.530Z"
   },
   {
    "duration": 42,
    "start_time": "2022-05-09T15:32:36.616Z"
   },
   {
    "duration": 16,
    "start_time": "2022-05-09T15:32:36.661Z"
   },
   {
    "duration": 30,
    "start_time": "2022-05-09T15:32:36.679Z"
   },
   {
    "duration": 5,
    "start_time": "2022-05-09T15:32:36.711Z"
   },
   {
    "duration": 12,
    "start_time": "2022-05-09T15:32:36.718Z"
   },
   {
    "duration": 8,
    "start_time": "2022-05-09T15:32:36.731Z"
   },
   {
    "duration": 5,
    "start_time": "2022-05-09T15:32:36.741Z"
   },
   {
    "duration": 5,
    "start_time": "2022-05-09T16:21:46.006Z"
   },
   {
    "duration": 5,
    "start_time": "2022-05-09T16:21:52.802Z"
   },
   {
    "duration": 43,
    "start_time": "2022-05-09T16:23:23.869Z"
   },
   {
    "duration": 9,
    "start_time": "2022-05-09T16:26:33.453Z"
   },
   {
    "duration": 79,
    "start_time": "2022-05-09T16:27:11.368Z"
   },
   {
    "duration": 5,
    "start_time": "2022-05-09T16:27:24.396Z"
   },
   {
    "duration": 34,
    "start_time": "2022-05-09T16:27:43.588Z"
   },
   {
    "duration": 10,
    "start_time": "2022-05-09T16:28:30.968Z"
   },
   {
    "duration": 379,
    "start_time": "2022-05-09T16:28:51.754Z"
   },
   {
    "duration": 80,
    "start_time": "2022-05-09T16:28:52.135Z"
   },
   {
    "duration": 38,
    "start_time": "2022-05-09T16:28:52.217Z"
   },
   {
    "duration": 17,
    "start_time": "2022-05-09T16:28:52.258Z"
   },
   {
    "duration": 6,
    "start_time": "2022-05-09T16:28:52.277Z"
   },
   {
    "duration": 5,
    "start_time": "2022-05-09T16:28:52.309Z"
   },
   {
    "duration": 11,
    "start_time": "2022-05-09T16:28:52.316Z"
   },
   {
    "duration": 9,
    "start_time": "2022-05-09T16:28:52.330Z"
   },
   {
    "duration": 5,
    "start_time": "2022-05-09T16:28:52.341Z"
   },
   {
    "duration": 7,
    "start_time": "2022-05-09T16:36:15.093Z"
   },
   {
    "duration": 8,
    "start_time": "2022-05-09T16:45:15.045Z"
   },
   {
    "duration": 12,
    "start_time": "2022-05-09T16:45:49.100Z"
   },
   {
    "duration": 10,
    "start_time": "2022-05-09T16:45:55.152Z"
   },
   {
    "duration": 8,
    "start_time": "2022-05-09T16:45:58.160Z"
   },
   {
    "duration": 13,
    "start_time": "2022-05-09T16:48:05.325Z"
   },
   {
    "duration": 8,
    "start_time": "2022-05-09T16:48:08.589Z"
   },
   {
    "duration": 8,
    "start_time": "2022-05-09T16:48:14.321Z"
   },
   {
    "duration": 6,
    "start_time": "2022-05-09T16:48:17.894Z"
   },
   {
    "duration": 83,
    "start_time": "2022-05-09T16:48:37.397Z"
   },
   {
    "duration": 44,
    "start_time": "2022-05-09T16:49:20.322Z"
   },
   {
    "duration": 51,
    "start_time": "2022-05-09T16:55:21.560Z"
   },
   {
    "duration": 8,
    "start_time": "2022-05-09T16:55:22.959Z"
   },
   {
    "duration": 382,
    "start_time": "2022-05-09T16:57:37.856Z"
   },
   {
    "duration": 87,
    "start_time": "2022-05-09T16:57:38.240Z"
   },
   {
    "duration": 39,
    "start_time": "2022-05-09T16:57:38.329Z"
   },
   {
    "duration": 15,
    "start_time": "2022-05-09T16:57:38.371Z"
   },
   {
    "duration": 27,
    "start_time": "2022-05-09T16:57:38.388Z"
   },
   {
    "duration": 8,
    "start_time": "2022-05-09T16:57:38.417Z"
   },
   {
    "duration": 10,
    "start_time": "2022-05-09T16:57:38.427Z"
   },
   {
    "duration": 97,
    "start_time": "2022-05-09T16:57:38.439Z"
   },
   {
    "duration": 0,
    "start_time": "2022-05-09T16:57:38.539Z"
   },
   {
    "duration": 0,
    "start_time": "2022-05-09T16:57:38.542Z"
   },
   {
    "duration": 0,
    "start_time": "2022-05-09T16:57:38.544Z"
   },
   {
    "duration": 8,
    "start_time": "2022-05-09T16:58:52.472Z"
   },
   {
    "duration": 9,
    "start_time": "2022-05-09T16:58:54.522Z"
   },
   {
    "duration": 10,
    "start_time": "2022-05-09T16:59:29.020Z"
   },
   {
    "duration": 8,
    "start_time": "2022-05-09T16:59:34.445Z"
   },
   {
    "duration": 37,
    "start_time": "2022-05-09T16:59:50.545Z"
   },
   {
    "duration": 10,
    "start_time": "2022-05-09T16:59:55.840Z"
   },
   {
    "duration": 26,
    "start_time": "2022-05-09T17:01:42.238Z"
   },
   {
    "duration": 8,
    "start_time": "2022-05-09T17:01:44.034Z"
   },
   {
    "duration": 464,
    "start_time": "2022-05-09T17:02:28.804Z"
   },
   {
    "duration": 88,
    "start_time": "2022-05-09T17:02:29.270Z"
   },
   {
    "duration": 53,
    "start_time": "2022-05-09T17:02:29.360Z"
   },
   {
    "duration": 18,
    "start_time": "2022-05-09T17:02:29.416Z"
   },
   {
    "duration": 4,
    "start_time": "2022-05-09T17:02:29.436Z"
   },
   {
    "duration": 6,
    "start_time": "2022-05-09T17:02:29.442Z"
   },
   {
    "duration": 11,
    "start_time": "2022-05-09T17:02:29.449Z"
   },
   {
    "duration": 8,
    "start_time": "2022-05-09T17:02:29.461Z"
   },
   {
    "duration": 45,
    "start_time": "2022-05-09T17:02:29.471Z"
   },
   {
    "duration": 8,
    "start_time": "2022-05-09T17:02:29.519Z"
   },
   {
    "duration": 6,
    "start_time": "2022-05-09T17:02:29.529Z"
   },
   {
    "duration": 468,
    "start_time": "2022-05-09T17:04:16.190Z"
   },
   {
    "duration": 96,
    "start_time": "2022-05-09T17:04:16.660Z"
   },
   {
    "duration": 51,
    "start_time": "2022-05-09T17:04:16.758Z"
   },
   {
    "duration": 27,
    "start_time": "2022-05-09T17:04:16.814Z"
   },
   {
    "duration": 5,
    "start_time": "2022-05-09T17:04:16.843Z"
   },
   {
    "duration": 7,
    "start_time": "2022-05-09T17:04:16.850Z"
   },
   {
    "duration": 12,
    "start_time": "2022-05-09T17:04:16.859Z"
   },
   {
    "duration": 40,
    "start_time": "2022-05-09T17:04:16.873Z"
   },
   {
    "duration": 9,
    "start_time": "2022-05-09T17:04:16.915Z"
   },
   {
    "duration": 8,
    "start_time": "2022-05-09T17:04:16.927Z"
   },
   {
    "duration": 9,
    "start_time": "2022-05-09T17:04:16.937Z"
   },
   {
    "duration": 6,
    "start_time": "2022-05-09T17:04:51.178Z"
   },
   {
    "duration": 7,
    "start_time": "2022-05-09T17:04:51.898Z"
   },
   {
    "duration": 12,
    "start_time": "2022-05-09T17:47:30.197Z"
   },
   {
    "duration": 6,
    "start_time": "2022-05-09T18:00:14.474Z"
   },
   {
    "duration": 6,
    "start_time": "2022-05-09T18:27:58.088Z"
   },
   {
    "duration": 5,
    "start_time": "2022-05-09T18:28:11.380Z"
   },
   {
    "duration": 7,
    "start_time": "2022-05-09T18:30:19.784Z"
   },
   {
    "duration": 5,
    "start_time": "2022-05-09T18:30:21.073Z"
   },
   {
    "duration": 4,
    "start_time": "2022-05-09T18:31:37.756Z"
   },
   {
    "duration": 5,
    "start_time": "2022-05-09T18:31:38.892Z"
   },
   {
    "duration": 76,
    "start_time": "2022-05-09T18:33:26.149Z"
   },
   {
    "duration": 15,
    "start_time": "2022-05-09T18:41:09.093Z"
   },
   {
    "duration": 9,
    "start_time": "2022-05-09T18:41:44.572Z"
   },
   {
    "duration": 6,
    "start_time": "2022-05-09T18:41:46.697Z"
   },
   {
    "duration": 13,
    "start_time": "2022-05-09T18:52:20.590Z"
   },
   {
    "duration": 12,
    "start_time": "2022-05-09T18:53:56.411Z"
   },
   {
    "duration": 3,
    "start_time": "2022-05-09T18:54:46.058Z"
   },
   {
    "duration": 6,
    "start_time": "2022-05-09T18:54:50.325Z"
   },
   {
    "duration": 6,
    "start_time": "2022-05-09T18:57:36.374Z"
   },
   {
    "duration": 6,
    "start_time": "2022-05-09T18:57:37.573Z"
   },
   {
    "duration": 6,
    "start_time": "2022-05-09T19:05:49.839Z"
   },
   {
    "duration": 7,
    "start_time": "2022-05-09T19:06:58.967Z"
   },
   {
    "duration": 1200,
    "start_time": "2022-05-09T19:11:15.074Z"
   },
   {
    "duration": 14,
    "start_time": "2022-05-09T19:11:29.243Z"
   },
   {
    "duration": 32,
    "start_time": "2022-05-09T19:12:06.174Z"
   },
   {
    "duration": 33,
    "start_time": "2022-05-09T19:15:09.951Z"
   },
   {
    "duration": 478,
    "start_time": "2022-05-09T19:16:10.294Z"
   },
   {
    "duration": 89,
    "start_time": "2022-05-09T19:16:10.774Z"
   },
   {
    "duration": 45,
    "start_time": "2022-05-09T19:16:10.865Z"
   },
   {
    "duration": 24,
    "start_time": "2022-05-09T19:16:10.913Z"
   },
   {
    "duration": 5,
    "start_time": "2022-05-09T19:16:10.940Z"
   },
   {
    "duration": 5,
    "start_time": "2022-05-09T19:16:10.948Z"
   },
   {
    "duration": 12,
    "start_time": "2022-05-09T19:16:10.955Z"
   },
   {
    "duration": 44,
    "start_time": "2022-05-09T19:16:10.968Z"
   },
   {
    "duration": 7,
    "start_time": "2022-05-09T19:16:11.015Z"
   },
   {
    "duration": 7,
    "start_time": "2022-05-09T19:16:11.025Z"
   },
   {
    "duration": 10,
    "start_time": "2022-05-09T19:16:11.034Z"
   },
   {
    "duration": 9,
    "start_time": "2022-05-09T19:16:11.046Z"
   },
   {
    "duration": 55,
    "start_time": "2022-05-09T19:16:11.057Z"
   },
   {
    "duration": 8,
    "start_time": "2022-05-09T19:16:11.114Z"
   },
   {
    "duration": 6,
    "start_time": "2022-05-09T19:16:11.123Z"
   },
   {
    "duration": 8,
    "start_time": "2022-05-09T19:16:11.130Z"
   },
   {
    "duration": 68,
    "start_time": "2022-05-09T19:16:11.140Z"
   },
   {
    "duration": 6,
    "start_time": "2022-05-09T19:17:39.034Z"
   },
   {
    "duration": 181,
    "start_time": "2022-05-09T19:37:41.447Z"
   },
   {
    "duration": 299,
    "start_time": "2022-05-09T19:38:34.843Z"
   },
   {
    "duration": 285,
    "start_time": "2022-05-09T19:39:32.616Z"
   },
   {
    "duration": 25,
    "start_time": "2022-05-09T19:43:57.240Z"
   },
   {
    "duration": 512,
    "start_time": "2022-05-10T08:33:09.274Z"
   },
   {
    "duration": 114,
    "start_time": "2022-05-10T08:33:09.789Z"
   },
   {
    "duration": 53,
    "start_time": "2022-05-10T08:33:09.905Z"
   },
   {
    "duration": 48,
    "start_time": "2022-05-10T08:33:09.961Z"
   },
   {
    "duration": 8,
    "start_time": "2022-05-10T08:33:10.012Z"
   },
   {
    "duration": 17,
    "start_time": "2022-05-10T08:33:10.022Z"
   },
   {
    "duration": 19,
    "start_time": "2022-05-10T08:33:10.042Z"
   },
   {
    "duration": 35,
    "start_time": "2022-05-10T08:33:10.064Z"
   },
   {
    "duration": 10,
    "start_time": "2022-05-10T08:33:10.102Z"
   },
   {
    "duration": 13,
    "start_time": "2022-05-10T08:33:10.117Z"
   },
   {
    "duration": 11,
    "start_time": "2022-05-10T08:33:10.133Z"
   },
   {
    "duration": 52,
    "start_time": "2022-05-10T08:33:10.147Z"
   },
   {
    "duration": 22,
    "start_time": "2022-05-10T08:33:10.202Z"
   },
   {
    "duration": 10,
    "start_time": "2022-05-10T08:33:10.227Z"
   },
   {
    "duration": 9,
    "start_time": "2022-05-10T08:33:10.240Z"
   },
   {
    "duration": 12,
    "start_time": "2022-05-10T08:33:10.293Z"
   },
   {
    "duration": 66,
    "start_time": "2022-05-10T08:33:10.308Z"
   },
   {
    "duration": 841,
    "start_time": "2022-05-10T08:33:10.394Z"
   },
   {
    "duration": 65,
    "start_time": "2022-05-10T08:33:11.237Z"
   },
   {
    "duration": 15,
    "start_time": "2022-05-10T08:33:11.304Z"
   },
   {
    "duration": 875,
    "start_time": "2022-05-10T08:35:06.230Z"
   },
   {
    "duration": 273,
    "start_time": "2022-05-10T08:35:42.534Z"
   },
   {
    "duration": 258,
    "start_time": "2022-05-10T08:37:34.239Z"
   },
   {
    "duration": 287,
    "start_time": "2022-05-10T08:38:20.362Z"
   },
   {
    "duration": 13,
    "start_time": "2022-05-10T08:39:37.718Z"
   },
   {
    "duration": 294,
    "start_time": "2022-05-10T08:41:34.575Z"
   },
   {
    "duration": 214,
    "start_time": "2022-05-10T08:44:34.638Z"
   },
   {
    "duration": 223,
    "start_time": "2022-05-10T08:44:48.542Z"
   },
   {
    "duration": 199,
    "start_time": "2022-05-10T08:45:05.614Z"
   },
   {
    "duration": 211,
    "start_time": "2022-05-10T08:45:58.946Z"
   },
   {
    "duration": 12,
    "start_time": "2022-05-10T08:47:04.690Z"
   },
   {
    "duration": 315,
    "start_time": "2022-05-10T08:47:32.859Z"
   },
   {
    "duration": 223,
    "start_time": "2022-05-10T08:47:58.078Z"
   },
   {
    "duration": 17,
    "start_time": "2022-05-10T08:49:16.667Z"
   },
   {
    "duration": 215,
    "start_time": "2022-05-10T08:50:11.180Z"
   },
   {
    "duration": 263,
    "start_time": "2022-05-10T08:50:22.143Z"
   },
   {
    "duration": 199,
    "start_time": "2022-05-10T08:50:29.542Z"
   },
   {
    "duration": 207,
    "start_time": "2022-05-10T08:50:49.154Z"
   },
   {
    "duration": 566,
    "start_time": "2022-05-11T09:35:15.438Z"
   },
   {
    "duration": 108,
    "start_time": "2022-05-11T09:35:16.007Z"
   },
   {
    "duration": 54,
    "start_time": "2022-05-11T09:35:16.117Z"
   },
   {
    "duration": 21,
    "start_time": "2022-05-11T09:35:16.182Z"
   },
   {
    "duration": 7,
    "start_time": "2022-05-11T09:35:16.205Z"
   },
   {
    "duration": 6,
    "start_time": "2022-05-11T09:35:16.214Z"
   },
   {
    "duration": 15,
    "start_time": "2022-05-11T09:35:16.222Z"
   },
   {
    "duration": 47,
    "start_time": "2022-05-11T09:35:16.240Z"
   },
   {
    "duration": 12,
    "start_time": "2022-05-11T09:35:16.289Z"
   },
   {
    "duration": 9,
    "start_time": "2022-05-11T09:35:16.305Z"
   },
   {
    "duration": 10,
    "start_time": "2022-05-11T09:35:16.316Z"
   },
   {
    "duration": 7,
    "start_time": "2022-05-11T09:35:16.328Z"
   },
   {
    "duration": 56,
    "start_time": "2022-05-11T09:35:16.337Z"
   },
   {
    "duration": 8,
    "start_time": "2022-05-11T09:35:16.396Z"
   },
   {
    "duration": 6,
    "start_time": "2022-05-11T09:35:16.406Z"
   },
   {
    "duration": 12,
    "start_time": "2022-05-11T09:35:16.414Z"
   },
   {
    "duration": 88,
    "start_time": "2022-05-11T09:35:16.429Z"
   },
   {
    "duration": 542,
    "start_time": "2022-05-11T09:35:16.520Z"
   },
   {
    "duration": 47,
    "start_time": "2022-05-11T09:35:17.064Z"
   },
   {
    "duration": 11,
    "start_time": "2022-05-11T09:35:17.114Z"
   },
   {
    "duration": 810,
    "start_time": "2022-05-11T09:35:17.127Z"
   },
   {
    "duration": 14,
    "start_time": "2022-05-11T09:35:17.940Z"
   },
   {
    "duration": 282,
    "start_time": "2022-05-11T09:35:17.957Z"
   },
   {
    "duration": 12,
    "start_time": "2022-05-11T09:35:18.242Z"
   },
   {
    "duration": 280,
    "start_time": "2022-05-11T09:35:18.258Z"
   },
   {
    "duration": 14,
    "start_time": "2022-05-11T09:35:18.540Z"
   },
   {
    "duration": 245,
    "start_time": "2022-05-11T09:35:18.556Z"
   },
   {
    "duration": 230,
    "start_time": "2022-05-11T09:35:57.655Z"
   },
   {
    "duration": 253,
    "start_time": "2022-05-11T09:36:05.701Z"
   },
   {
    "duration": 244,
    "start_time": "2022-05-11T09:36:30.480Z"
   },
   {
    "duration": 8,
    "start_time": "2022-05-11T09:49:28.821Z"
   },
   {
    "duration": 12,
    "start_time": "2022-05-11T09:53:10.121Z"
   },
   {
    "duration": 219,
    "start_time": "2022-05-11T09:53:39.321Z"
   },
   {
    "duration": 110,
    "start_time": "2022-05-11T10:08:26.070Z"
   },
   {
    "duration": 11,
    "start_time": "2022-05-11T10:11:29.860Z"
   },
   {
    "duration": 11,
    "start_time": "2022-05-11T10:39:08.331Z"
   },
   {
    "duration": 216,
    "start_time": "2022-05-11T11:01:49.334Z"
   },
   {
    "duration": 213,
    "start_time": "2022-05-11T11:02:33.468Z"
   },
   {
    "duration": 306,
    "start_time": "2022-05-11T11:03:26.809Z"
   },
   {
    "duration": 23,
    "start_time": "2022-05-11T11:27:57.009Z"
   },
   {
    "duration": 41,
    "start_time": "2022-05-11T11:28:38.025Z"
   },
   {
    "duration": 31,
    "start_time": "2022-05-11T11:29:28.096Z"
   },
   {
    "duration": 226,
    "start_time": "2022-05-11T11:45:40.713Z"
   },
   {
    "duration": 273,
    "start_time": "2022-05-11T11:47:17.984Z"
   },
   {
    "duration": 43,
    "start_time": "2022-05-11T12:03:14.640Z"
   },
   {
    "duration": 361,
    "start_time": "2022-05-11T12:03:25.166Z"
   },
   {
    "duration": 228,
    "start_time": "2022-05-11T12:05:56.249Z"
   },
   {
    "duration": 232,
    "start_time": "2022-05-11T12:06:06.634Z"
   },
   {
    "duration": 29,
    "start_time": "2022-05-11T12:07:07.585Z"
   },
   {
    "duration": 209,
    "start_time": "2022-05-11T12:07:14.116Z"
   },
   {
    "duration": 27,
    "start_time": "2022-05-11T12:09:14.892Z"
   },
   {
    "duration": 204,
    "start_time": "2022-05-11T12:09:35.532Z"
   },
   {
    "duration": 204,
    "start_time": "2022-05-11T12:10:31.027Z"
   },
   {
    "duration": 208,
    "start_time": "2022-05-11T12:10:35.653Z"
   },
   {
    "duration": 341,
    "start_time": "2022-05-11T12:11:36.259Z"
   },
   {
    "duration": 303,
    "start_time": "2022-05-11T12:12:11.623Z"
   },
   {
    "duration": 352,
    "start_time": "2022-05-11T12:13:49.755Z"
   },
   {
    "duration": 234,
    "start_time": "2022-05-11T12:14:46.199Z"
   },
   {
    "duration": 352,
    "start_time": "2022-05-11T12:34:30.487Z"
   },
   {
    "duration": 431,
    "start_time": "2022-05-11T12:35:29.467Z"
   },
   {
    "duration": 203,
    "start_time": "2022-05-11T12:35:45.859Z"
   },
   {
    "duration": 225,
    "start_time": "2022-05-11T12:35:58.182Z"
   },
   {
    "duration": 217,
    "start_time": "2022-05-11T12:36:17.837Z"
   },
   {
    "duration": 211,
    "start_time": "2022-05-11T12:36:55.441Z"
   },
   {
    "duration": 30,
    "start_time": "2022-05-11T12:38:15.048Z"
   },
   {
    "duration": 220,
    "start_time": "2022-05-11T12:38:21.405Z"
   },
   {
    "duration": 206,
    "start_time": "2022-05-11T12:38:37.880Z"
   },
   {
    "duration": 230,
    "start_time": "2022-05-11T12:39:13.979Z"
   },
   {
    "duration": 232,
    "start_time": "2022-05-11T12:41:42.735Z"
   },
   {
    "duration": 205,
    "start_time": "2022-05-11T12:42:12.952Z"
   },
   {
    "duration": 244,
    "start_time": "2022-05-11T12:57:30.482Z"
   },
   {
    "duration": 233,
    "start_time": "2022-05-11T12:58:25.535Z"
   },
   {
    "duration": 221,
    "start_time": "2022-05-11T13:00:11.636Z"
   },
   {
    "duration": 231,
    "start_time": "2022-05-11T13:00:28.490Z"
   },
   {
    "duration": 390,
    "start_time": "2022-05-12T10:58:12.451Z"
   },
   {
    "duration": 77,
    "start_time": "2022-05-12T10:58:12.843Z"
   },
   {
    "duration": 30,
    "start_time": "2022-05-12T10:58:12.922Z"
   },
   {
    "duration": 14,
    "start_time": "2022-05-12T10:58:12.954Z"
   },
   {
    "duration": 11,
    "start_time": "2022-05-12T10:58:12.970Z"
   },
   {
    "duration": 25,
    "start_time": "2022-05-12T10:58:12.982Z"
   },
   {
    "duration": 22,
    "start_time": "2022-05-12T10:58:13.008Z"
   },
   {
    "duration": 12,
    "start_time": "2022-05-12T10:58:13.032Z"
   },
   {
    "duration": 11,
    "start_time": "2022-05-12T10:58:13.045Z"
   },
   {
    "duration": 17,
    "start_time": "2022-05-12T10:58:13.058Z"
   },
   {
    "duration": 11,
    "start_time": "2022-05-12T10:58:13.076Z"
   },
   {
    "duration": 19,
    "start_time": "2022-05-12T10:58:13.088Z"
   },
   {
    "duration": 25,
    "start_time": "2022-05-12T10:58:13.109Z"
   },
   {
    "duration": 17,
    "start_time": "2022-05-12T10:58:13.135Z"
   },
   {
    "duration": 10,
    "start_time": "2022-05-12T10:58:13.153Z"
   },
   {
    "duration": 23,
    "start_time": "2022-05-12T10:58:13.164Z"
   },
   {
    "duration": 28,
    "start_time": "2022-05-12T10:58:13.188Z"
   },
   {
    "duration": 305,
    "start_time": "2022-05-12T10:58:13.218Z"
   },
   {
    "duration": 21,
    "start_time": "2022-05-12T10:58:13.525Z"
   },
   {
    "duration": 7,
    "start_time": "2022-05-12T10:58:13.548Z"
   },
   {
    "duration": 532,
    "start_time": "2022-05-12T10:58:13.556Z"
   },
   {
    "duration": 17,
    "start_time": "2022-05-12T10:58:14.089Z"
   },
   {
    "duration": 168,
    "start_time": "2022-05-12T10:58:14.108Z"
   },
   {
    "duration": 7,
    "start_time": "2022-05-12T10:58:14.278Z"
   },
   {
    "duration": 146,
    "start_time": "2022-05-12T10:58:14.287Z"
   },
   {
    "duration": 6,
    "start_time": "2022-05-12T10:58:14.434Z"
   },
   {
    "duration": 23,
    "start_time": "2022-05-12T10:58:14.441Z"
   },
   {
    "duration": 126,
    "start_time": "2022-05-12T10:58:14.467Z"
   },
   {
    "duration": 12,
    "start_time": "2022-05-12T10:58:14.594Z"
   },
   {
    "duration": 143,
    "start_time": "2022-05-12T10:58:14.607Z"
   },
   {
    "duration": 22,
    "start_time": "2022-05-12T10:58:14.752Z"
   },
   {
    "duration": 139,
    "start_time": "2022-05-12T10:58:14.776Z"
   },
   {
    "duration": 126,
    "start_time": "2022-05-12T10:58:14.917Z"
   },
   {
    "duration": 119,
    "start_time": "2022-05-12T10:58:15.045Z"
   },
   {
    "duration": 127,
    "start_time": "2022-05-12T10:58:15.166Z"
   },
   {
    "duration": 137,
    "start_time": "2022-05-12T10:58:15.294Z"
   },
   {
    "duration": 151,
    "start_time": "2022-05-12T10:58:15.432Z"
   },
   {
    "duration": 130,
    "start_time": "2022-05-12T10:58:15.584Z"
   },
   {
    "duration": 162,
    "start_time": "2022-05-12T10:58:15.716Z"
   },
   {
    "duration": 141,
    "start_time": "2022-05-12T10:58:15.880Z"
   },
   {
    "duration": 145,
    "start_time": "2022-05-12T10:58:16.023Z"
   },
   {
    "duration": 133,
    "start_time": "2022-05-12T10:58:16.169Z"
   },
   {
    "duration": 134,
    "start_time": "2022-05-12T10:58:16.303Z"
   },
   {
    "duration": 258,
    "start_time": "2022-05-12T10:58:16.438Z"
   },
   {
    "duration": 27,
    "start_time": "2022-05-12T11:03:14.066Z"
   },
   {
    "duration": 8,
    "start_time": "2022-05-12T11:07:11.258Z"
   },
   {
    "duration": 8,
    "start_time": "2022-05-12T11:07:29.020Z"
   },
   {
    "duration": 16,
    "start_time": "2022-05-12T11:20:25.311Z"
   },
   {
    "duration": 21,
    "start_time": "2022-05-12T11:20:48.871Z"
   },
   {
    "duration": 79,
    "start_time": "2022-05-12T11:21:39.032Z"
   },
   {
    "duration": 21,
    "start_time": "2022-05-12T11:22:01.313Z"
   },
   {
    "duration": 11,
    "start_time": "2022-05-12T11:28:00.210Z"
   },
   {
    "duration": 2058,
    "start_time": "2022-05-12T11:41:35.213Z"
   },
   {
    "duration": 21,
    "start_time": "2022-05-12T11:41:59.492Z"
   },
   {
    "duration": 7,
    "start_time": "2022-05-12T11:48:19.732Z"
   },
   {
    "duration": 9,
    "start_time": "2022-05-12T11:48:42.367Z"
   },
   {
    "duration": 23,
    "start_time": "2022-05-12T11:49:11.274Z"
   },
   {
    "duration": 19,
    "start_time": "2022-05-12T11:53:10.357Z"
   },
   {
    "duration": 29,
    "start_time": "2022-05-12T12:03:06.182Z"
   },
   {
    "duration": 24,
    "start_time": "2022-05-12T12:03:40.377Z"
   },
   {
    "duration": 16,
    "start_time": "2022-05-12T12:04:30.767Z"
   },
   {
    "duration": 7605,
    "start_time": "2022-05-12T12:04:48.171Z"
   },
   {
    "duration": 15,
    "start_time": "2022-05-12T12:05:47.704Z"
   },
   {
    "duration": 37,
    "start_time": "2022-05-12T12:11:34.335Z"
   },
   {
    "duration": 20,
    "start_time": "2022-05-12T12:12:00.777Z"
   },
   {
    "duration": 4343,
    "start_time": "2022-05-12T12:16:18.190Z"
   },
   {
    "duration": 2490,
    "start_time": "2022-05-12T12:21:06.466Z"
   },
   {
    "duration": 26,
    "start_time": "2022-05-12T12:21:41.436Z"
   },
   {
    "duration": 464,
    "start_time": "2022-05-13T06:32:57.096Z"
   },
   {
    "duration": 108,
    "start_time": "2022-05-13T06:32:57.563Z"
   },
   {
    "duration": 55,
    "start_time": "2022-05-13T06:32:57.673Z"
   },
   {
    "duration": 20,
    "start_time": "2022-05-13T06:32:57.751Z"
   },
   {
    "duration": 6,
    "start_time": "2022-05-13T06:32:57.773Z"
   },
   {
    "duration": 8,
    "start_time": "2022-05-13T06:32:57.782Z"
   },
   {
    "duration": 21,
    "start_time": "2022-05-13T06:32:57.792Z"
   },
   {
    "duration": 41,
    "start_time": "2022-05-13T06:32:57.815Z"
   },
   {
    "duration": 19,
    "start_time": "2022-05-13T06:32:57.858Z"
   },
   {
    "duration": 14,
    "start_time": "2022-05-13T06:32:57.883Z"
   },
   {
    "duration": 19,
    "start_time": "2022-05-13T06:32:57.900Z"
   },
   {
    "duration": 9,
    "start_time": "2022-05-13T06:32:57.921Z"
   },
   {
    "duration": 16,
    "start_time": "2022-05-13T06:32:57.952Z"
   },
   {
    "duration": 12,
    "start_time": "2022-05-13T06:32:57.971Z"
   },
   {
    "duration": 11,
    "start_time": "2022-05-13T06:32:57.986Z"
   },
   {
    "duration": 23,
    "start_time": "2022-05-13T06:32:57.999Z"
   },
   {
    "duration": 75,
    "start_time": "2022-05-13T06:32:58.024Z"
   },
   {
    "duration": 532,
    "start_time": "2022-05-13T06:32:58.102Z"
   },
   {
    "duration": 44,
    "start_time": "2022-05-13T06:32:58.636Z"
   },
   {
    "duration": 12,
    "start_time": "2022-05-13T06:32:58.682Z"
   },
   {
    "duration": 799,
    "start_time": "2022-05-13T06:32:58.696Z"
   },
   {
    "duration": 13,
    "start_time": "2022-05-13T06:32:59.498Z"
   },
   {
    "duration": 288,
    "start_time": "2022-05-13T06:32:59.514Z"
   },
   {
    "duration": 11,
    "start_time": "2022-05-13T06:32:59.804Z"
   },
   {
    "duration": 260,
    "start_time": "2022-05-13T06:32:59.817Z"
   },
   {
    "duration": 8,
    "start_time": "2022-05-13T06:33:00.079Z"
   },
   {
    "duration": 29,
    "start_time": "2022-05-13T06:33:00.089Z"
   },
   {
    "duration": 225,
    "start_time": "2022-05-13T06:33:00.123Z"
   },
   {
    "duration": 12,
    "start_time": "2022-05-13T06:33:00.352Z"
   },
   {
    "duration": 241,
    "start_time": "2022-05-13T06:33:00.366Z"
   },
   {
    "duration": 48,
    "start_time": "2022-05-13T06:33:00.609Z"
   },
   {
    "duration": 254,
    "start_time": "2022-05-13T06:33:00.659Z"
   },
   {
    "duration": 223,
    "start_time": "2022-05-13T06:33:00.915Z"
   },
   {
    "duration": 234,
    "start_time": "2022-05-13T06:33:01.140Z"
   },
   {
    "duration": 234,
    "start_time": "2022-05-13T06:33:01.376Z"
   },
   {
    "duration": 252,
    "start_time": "2022-05-13T06:33:01.612Z"
   },
   {
    "duration": 265,
    "start_time": "2022-05-13T06:33:01.866Z"
   },
   {
    "duration": 244,
    "start_time": "2022-05-13T06:33:02.134Z"
   },
   {
    "duration": 290,
    "start_time": "2022-05-13T06:33:02.380Z"
   },
   {
    "duration": 266,
    "start_time": "2022-05-13T06:33:02.672Z"
   },
   {
    "duration": 260,
    "start_time": "2022-05-13T06:33:02.940Z"
   },
   {
    "duration": 243,
    "start_time": "2022-05-13T06:33:03.203Z"
   },
   {
    "duration": 252,
    "start_time": "2022-05-13T06:33:03.453Z"
   },
   {
    "duration": 490,
    "start_time": "2022-05-13T06:33:03.708Z"
   },
   {
    "duration": 37,
    "start_time": "2022-05-13T06:33:04.200Z"
   },
   {
    "duration": 127,
    "start_time": "2022-05-13T06:33:04.252Z"
   },
   {
    "duration": 51,
    "start_time": "2022-05-13T06:33:50.277Z"
   },
   {
    "duration": 169,
    "start_time": "2022-05-13T06:38:36.903Z"
   },
   {
    "duration": 42,
    "start_time": "2022-05-13T06:38:45.172Z"
   },
   {
    "duration": 41,
    "start_time": "2022-05-13T06:40:05.200Z"
   },
   {
    "duration": 31,
    "start_time": "2022-05-13T06:40:09.236Z"
   },
   {
    "duration": 363,
    "start_time": "2022-05-13T06:47:09.544Z"
   },
   {
    "duration": 27,
    "start_time": "2022-05-13T06:49:22.883Z"
   },
   {
    "duration": 14,
    "start_time": "2022-05-13T06:51:46.905Z"
   },
   {
    "duration": 47,
    "start_time": "2022-05-13T06:52:08.200Z"
   },
   {
    "duration": 45,
    "start_time": "2022-05-13T06:52:44.362Z"
   },
   {
    "duration": 41,
    "start_time": "2022-05-13T06:53:14.647Z"
   },
   {
    "duration": 20,
    "start_time": "2022-05-13T06:54:53.007Z"
   },
   {
    "duration": 6,
    "start_time": "2022-05-13T07:19:26.596Z"
   },
   {
    "duration": 15,
    "start_time": "2022-05-13T07:19:42.142Z"
   },
   {
    "duration": 8,
    "start_time": "2022-05-13T07:21:24.729Z"
   },
   {
    "duration": 18,
    "start_time": "2022-05-13T07:22:10.459Z"
   },
   {
    "duration": 9,
    "start_time": "2022-05-13T07:22:29.961Z"
   },
   {
    "duration": 10,
    "start_time": "2022-05-13T07:31:47.470Z"
   },
   {
    "duration": 8,
    "start_time": "2022-05-13T07:32:08.090Z"
   },
   {
    "duration": 470,
    "start_time": "2022-05-13T07:36:10.680Z"
   },
   {
    "duration": 7,
    "start_time": "2022-05-13T07:38:27.928Z"
   },
   {
    "duration": 27,
    "start_time": "2022-05-13T07:46:51.857Z"
   },
   {
    "duration": 13,
    "start_time": "2022-05-13T07:53:22.445Z"
   },
   {
    "duration": 14,
    "start_time": "2022-05-13T07:54:06.327Z"
   },
   {
    "duration": 10,
    "start_time": "2022-05-13T07:59:30.766Z"
   },
   {
    "duration": 8,
    "start_time": "2022-05-13T08:02:00.750Z"
   },
   {
    "duration": 13,
    "start_time": "2022-05-13T08:02:15.610Z"
   },
   {
    "duration": 518,
    "start_time": "2022-05-13T09:20:09.270Z"
   },
   {
    "duration": 116,
    "start_time": "2022-05-13T09:20:09.791Z"
   },
   {
    "duration": 75,
    "start_time": "2022-05-13T09:20:09.910Z"
   },
   {
    "duration": 24,
    "start_time": "2022-05-13T09:20:09.989Z"
   },
   {
    "duration": 7,
    "start_time": "2022-05-13T09:20:10.018Z"
   },
   {
    "duration": 30,
    "start_time": "2022-05-13T09:20:10.027Z"
   },
   {
    "duration": 29,
    "start_time": "2022-05-13T09:20:10.061Z"
   },
   {
    "duration": 8,
    "start_time": "2022-05-13T09:20:10.092Z"
   },
   {
    "duration": 8,
    "start_time": "2022-05-13T09:20:10.102Z"
   },
   {
    "duration": 50,
    "start_time": "2022-05-13T09:20:10.112Z"
   },
   {
    "duration": 14,
    "start_time": "2022-05-13T09:20:10.165Z"
   },
   {
    "duration": 16,
    "start_time": "2022-05-13T09:20:10.182Z"
   },
   {
    "duration": 10,
    "start_time": "2022-05-13T09:20:10.200Z"
   },
   {
    "duration": 38,
    "start_time": "2022-05-13T09:20:10.215Z"
   },
   {
    "duration": 11,
    "start_time": "2022-05-13T09:20:10.256Z"
   },
   {
    "duration": 24,
    "start_time": "2022-05-13T09:20:10.271Z"
   },
   {
    "duration": 8,
    "start_time": "2022-05-13T09:20:10.297Z"
   },
   {
    "duration": 16,
    "start_time": "2022-05-13T09:20:10.308Z"
   },
   {
    "duration": 14,
    "start_time": "2022-05-13T09:20:10.354Z"
   },
   {
    "duration": 12,
    "start_time": "2022-05-13T09:20:10.371Z"
   },
   {
    "duration": 11,
    "start_time": "2022-05-13T09:20:10.385Z"
   },
   {
    "duration": 97,
    "start_time": "2022-05-13T09:20:10.398Z"
   },
   {
    "duration": 598,
    "start_time": "2022-05-13T09:20:10.498Z"
   },
   {
    "duration": 53,
    "start_time": "2022-05-13T09:20:11.099Z"
   },
   {
    "duration": 22,
    "start_time": "2022-05-13T09:20:11.154Z"
   },
   {
    "duration": 619,
    "start_time": "2022-05-13T09:20:11.179Z"
   },
   {
    "duration": 14,
    "start_time": "2022-05-13T09:20:11.800Z"
   },
   {
    "duration": 266,
    "start_time": "2022-05-13T09:20:11.817Z"
   },
   {
    "duration": 12,
    "start_time": "2022-05-13T09:20:12.086Z"
   },
   {
    "duration": 341,
    "start_time": "2022-05-13T09:20:12.101Z"
   },
   {
    "duration": 13,
    "start_time": "2022-05-13T09:20:12.445Z"
   },
   {
    "duration": 21,
    "start_time": "2022-05-13T09:20:12.461Z"
   },
   {
    "duration": 286,
    "start_time": "2022-05-13T09:20:12.485Z"
   },
   {
    "duration": 13,
    "start_time": "2022-05-13T09:20:12.774Z"
   },
   {
    "duration": 283,
    "start_time": "2022-05-13T09:20:12.789Z"
   },
   {
    "duration": 39,
    "start_time": "2022-05-13T09:20:13.074Z"
   },
   {
    "duration": 280,
    "start_time": "2022-05-13T09:20:13.116Z"
   },
   {
    "duration": 246,
    "start_time": "2022-05-13T09:20:13.398Z"
   },
   {
    "duration": 276,
    "start_time": "2022-05-13T09:20:13.646Z"
   },
   {
    "duration": 261,
    "start_time": "2022-05-13T09:20:13.924Z"
   },
   {
    "duration": 293,
    "start_time": "2022-05-13T09:20:14.191Z"
   },
   {
    "duration": 268,
    "start_time": "2022-05-13T09:20:14.486Z"
   },
   {
    "duration": 290,
    "start_time": "2022-05-13T09:20:14.757Z"
   },
   {
    "duration": 244,
    "start_time": "2022-05-13T09:20:15.049Z"
   },
   {
    "duration": 326,
    "start_time": "2022-05-13T09:20:15.296Z"
   },
   {
    "duration": 380,
    "start_time": "2022-05-13T09:20:15.625Z"
   },
   {
    "duration": 284,
    "start_time": "2022-05-13T09:20:16.008Z"
   },
   {
    "duration": 276,
    "start_time": "2022-05-13T09:20:16.294Z"
   },
   {
    "duration": 519,
    "start_time": "2022-05-13T09:20:16.573Z"
   },
   {
    "duration": 40,
    "start_time": "2022-05-13T09:20:17.094Z"
   },
   {
    "duration": 44,
    "start_time": "2022-05-13T09:20:17.153Z"
   },
   {
    "duration": 16,
    "start_time": "2022-05-13T09:20:17.199Z"
   },
   {
    "duration": 41,
    "start_time": "2022-05-13T09:27:33.330Z"
   },
   {
    "duration": 48,
    "start_time": "2022-05-13T09:28:10.723Z"
   },
   {
    "duration": 278,
    "start_time": "2022-05-13T09:31:31.715Z"
   },
   {
    "duration": 144,
    "start_time": "2022-05-13T09:32:20.236Z"
   },
   {
    "duration": 257,
    "start_time": "2022-05-13T09:33:04.611Z"
   },
   {
    "duration": 449,
    "start_time": "2022-05-13T09:39:51.939Z"
   },
   {
    "duration": 214,
    "start_time": "2022-05-13T09:40:35.456Z"
   },
   {
    "duration": 1736,
    "start_time": "2022-05-13T09:42:17.500Z"
   },
   {
    "duration": 36,
    "start_time": "2022-05-13T09:43:03.201Z"
   },
   {
    "duration": 817,
    "start_time": "2022-05-13T11:04:55.187Z"
   },
   {
    "duration": 101,
    "start_time": "2022-05-13T11:04:56.006Z"
   },
   {
    "duration": 62,
    "start_time": "2022-05-13T11:04:56.109Z"
   },
   {
    "duration": 21,
    "start_time": "2022-05-13T11:04:56.173Z"
   },
   {
    "duration": 5,
    "start_time": "2022-05-13T11:04:56.197Z"
   },
   {
    "duration": 13,
    "start_time": "2022-05-13T11:04:56.204Z"
   },
   {
    "duration": 42,
    "start_time": "2022-05-13T11:04:56.219Z"
   },
   {
    "duration": 7,
    "start_time": "2022-05-13T11:04:56.263Z"
   },
   {
    "duration": 12,
    "start_time": "2022-05-13T11:04:56.272Z"
   },
   {
    "duration": 10,
    "start_time": "2022-05-13T11:04:56.287Z"
   },
   {
    "duration": 11,
    "start_time": "2022-05-13T11:04:56.299Z"
   },
   {
    "duration": 9,
    "start_time": "2022-05-13T11:04:56.353Z"
   },
   {
    "duration": 6,
    "start_time": "2022-05-13T11:04:56.364Z"
   },
   {
    "duration": 9,
    "start_time": "2022-05-13T11:04:56.375Z"
   },
   {
    "duration": 6,
    "start_time": "2022-05-13T11:04:56.386Z"
   },
   {
    "duration": 64,
    "start_time": "2022-05-13T11:04:56.393Z"
   },
   {
    "duration": 7,
    "start_time": "2022-05-13T11:04:56.459Z"
   },
   {
    "duration": 24,
    "start_time": "2022-05-13T11:04:56.468Z"
   },
   {
    "duration": 9,
    "start_time": "2022-05-13T11:04:56.494Z"
   },
   {
    "duration": 8,
    "start_time": "2022-05-13T11:04:56.506Z"
   },
   {
    "duration": 42,
    "start_time": "2022-05-13T11:04:56.516Z"
   },
   {
    "duration": 65,
    "start_time": "2022-05-13T11:04:56.560Z"
   },
   {
    "duration": 818,
    "start_time": "2022-05-13T11:04:56.628Z"
   },
   {
    "duration": 52,
    "start_time": "2022-05-13T11:04:57.452Z"
   },
   {
    "duration": 14,
    "start_time": "2022-05-13T11:04:57.507Z"
   },
   {
    "duration": 357,
    "start_time": "2022-05-13T11:04:57.523Z"
   },
   {
    "duration": 14,
    "start_time": "2022-05-13T11:04:57.883Z"
   },
   {
    "duration": 368,
    "start_time": "2022-05-13T11:04:57.899Z"
   },
   {
    "duration": 14,
    "start_time": "2022-05-13T11:04:58.270Z"
   },
   {
    "duration": 350,
    "start_time": "2022-05-13T11:04:58.287Z"
   },
   {
    "duration": 18,
    "start_time": "2022-05-13T11:04:58.639Z"
   },
   {
    "duration": 22,
    "start_time": "2022-05-13T11:04:58.660Z"
   },
   {
    "duration": 347,
    "start_time": "2022-05-13T11:04:58.685Z"
   },
   {
    "duration": 22,
    "start_time": "2022-05-13T11:04:59.035Z"
   },
   {
    "duration": 257,
    "start_time": "2022-05-13T11:04:59.059Z"
   },
   {
    "duration": 50,
    "start_time": "2022-05-13T11:04:59.319Z"
   },
   {
    "duration": 224,
    "start_time": "2022-05-13T11:04:59.372Z"
   },
   {
    "duration": 298,
    "start_time": "2022-05-13T11:04:59.598Z"
   },
   {
    "duration": 347,
    "start_time": "2022-05-13T11:04:59.899Z"
   },
   {
    "duration": 318,
    "start_time": "2022-05-13T11:05:00.252Z"
   },
   {
    "duration": 270,
    "start_time": "2022-05-13T11:05:00.575Z"
   },
   {
    "duration": 255,
    "start_time": "2022-05-13T11:05:00.848Z"
   },
   {
    "duration": 248,
    "start_time": "2022-05-13T11:05:01.106Z"
   },
   {
    "duration": 356,
    "start_time": "2022-05-13T11:05:01.357Z"
   },
   {
    "duration": 231,
    "start_time": "2022-05-13T11:05:01.715Z"
   },
   {
    "duration": 244,
    "start_time": "2022-05-13T11:05:01.951Z"
   },
   {
    "duration": 250,
    "start_time": "2022-05-13T11:05:02.198Z"
   },
   {
    "duration": 246,
    "start_time": "2022-05-13T11:05:02.451Z"
   },
   {
    "duration": 453,
    "start_time": "2022-05-13T11:05:02.699Z"
   },
   {
    "duration": 39,
    "start_time": "2022-05-13T11:05:03.154Z"
   },
   {
    "duration": 63,
    "start_time": "2022-05-13T11:05:03.195Z"
   },
   {
    "duration": 253,
    "start_time": "2022-05-13T11:05:03.261Z"
   },
   {
    "duration": 241,
    "start_time": "2022-05-13T11:06:13.871Z"
   },
   {
    "duration": 46,
    "start_time": "2022-05-13T11:09:41.404Z"
   },
   {
    "duration": 302,
    "start_time": "2022-05-13T11:09:50.504Z"
   },
   {
    "duration": 244,
    "start_time": "2022-05-13T11:10:01.217Z"
   },
   {
    "duration": 262,
    "start_time": "2022-05-13T11:10:11.140Z"
   },
   {
    "duration": 290,
    "start_time": "2022-05-13T11:10:24.829Z"
   },
   {
    "duration": 321,
    "start_time": "2022-05-13T11:10:32.949Z"
   },
   {
    "duration": 230,
    "start_time": "2022-05-13T11:10:57.497Z"
   },
   {
    "duration": 439,
    "start_time": "2022-05-13T11:11:09.513Z"
   },
   {
    "duration": 434,
    "start_time": "2022-05-13T11:51:29.155Z"
   },
   {
    "duration": 459,
    "start_time": "2022-05-13T12:02:54.697Z"
   },
   {
    "duration": 222,
    "start_time": "2022-05-13T12:03:28.790Z"
   },
   {
    "duration": 1053,
    "start_time": "2022-05-14T15:53:27.851Z"
   },
   {
    "duration": 88,
    "start_time": "2022-05-14T15:53:28.906Z"
   },
   {
    "duration": 40,
    "start_time": "2022-05-14T15:53:28.996Z"
   },
   {
    "duration": 15,
    "start_time": "2022-05-14T15:53:29.039Z"
   },
   {
    "duration": 5,
    "start_time": "2022-05-14T15:53:29.056Z"
   },
   {
    "duration": 11,
    "start_time": "2022-05-14T15:53:29.062Z"
   },
   {
    "duration": 11,
    "start_time": "2022-05-14T15:53:29.074Z"
   },
   {
    "duration": 35,
    "start_time": "2022-05-14T15:53:29.087Z"
   },
   {
    "duration": 7,
    "start_time": "2022-05-14T15:53:29.124Z"
   },
   {
    "duration": 6,
    "start_time": "2022-05-14T15:53:29.134Z"
   },
   {
    "duration": 7,
    "start_time": "2022-05-14T15:53:29.141Z"
   },
   {
    "duration": 7,
    "start_time": "2022-05-14T15:53:29.150Z"
   },
   {
    "duration": 9,
    "start_time": "2022-05-14T15:53:29.159Z"
   },
   {
    "duration": 8,
    "start_time": "2022-05-14T15:53:29.170Z"
   },
   {
    "duration": 5,
    "start_time": "2022-05-14T15:53:29.223Z"
   },
   {
    "duration": 10,
    "start_time": "2022-05-14T15:53:29.229Z"
   },
   {
    "duration": 5,
    "start_time": "2022-05-14T15:53:29.241Z"
   },
   {
    "duration": 13,
    "start_time": "2022-05-14T15:53:29.247Z"
   },
   {
    "duration": 16,
    "start_time": "2022-05-14T15:53:29.262Z"
   },
   {
    "duration": 42,
    "start_time": "2022-05-14T15:53:29.280Z"
   },
   {
    "duration": 8,
    "start_time": "2022-05-14T15:53:29.324Z"
   },
   {
    "duration": 32,
    "start_time": "2022-05-14T15:53:29.333Z"
   },
   {
    "duration": 315,
    "start_time": "2022-05-14T15:53:29.367Z"
   },
   {
    "duration": 3252,
    "start_time": "2022-05-14T15:53:29.684Z"
   },
   {
    "duration": 0,
    "start_time": "2022-05-14T15:53:32.939Z"
   },
   {
    "duration": 0,
    "start_time": "2022-05-14T15:53:32.940Z"
   },
   {
    "duration": 0,
    "start_time": "2022-05-14T15:53:32.941Z"
   },
   {
    "duration": 0,
    "start_time": "2022-05-14T15:53:32.942Z"
   },
   {
    "duration": 0,
    "start_time": "2022-05-14T15:53:32.943Z"
   },
   {
    "duration": 0,
    "start_time": "2022-05-14T15:53:32.944Z"
   },
   {
    "duration": 0,
    "start_time": "2022-05-14T15:53:32.945Z"
   },
   {
    "duration": 0,
    "start_time": "2022-05-14T15:53:32.946Z"
   },
   {
    "duration": 0,
    "start_time": "2022-05-14T15:53:32.948Z"
   },
   {
    "duration": 0,
    "start_time": "2022-05-14T15:53:32.948Z"
   },
   {
    "duration": 0,
    "start_time": "2022-05-14T15:53:32.949Z"
   },
   {
    "duration": 0,
    "start_time": "2022-05-14T15:53:32.950Z"
   },
   {
    "duration": 0,
    "start_time": "2022-05-14T15:53:32.951Z"
   },
   {
    "duration": 0,
    "start_time": "2022-05-14T15:53:32.952Z"
   },
   {
    "duration": 0,
    "start_time": "2022-05-14T15:53:32.953Z"
   },
   {
    "duration": 0,
    "start_time": "2022-05-14T15:53:32.954Z"
   },
   {
    "duration": 0,
    "start_time": "2022-05-14T15:53:32.955Z"
   },
   {
    "duration": 0,
    "start_time": "2022-05-14T15:53:32.956Z"
   },
   {
    "duration": 0,
    "start_time": "2022-05-14T15:53:32.957Z"
   },
   {
    "duration": 0,
    "start_time": "2022-05-14T15:53:32.958Z"
   },
   {
    "duration": 0,
    "start_time": "2022-05-14T15:53:32.959Z"
   },
   {
    "duration": 0,
    "start_time": "2022-05-14T15:53:32.960Z"
   },
   {
    "duration": 0,
    "start_time": "2022-05-14T15:53:32.961Z"
   },
   {
    "duration": 756,
    "start_time": "2022-05-14T15:56:04.334Z"
   },
   {
    "duration": 89,
    "start_time": "2022-05-14T15:56:05.092Z"
   },
   {
    "duration": 35,
    "start_time": "2022-05-14T15:56:05.182Z"
   },
   {
    "duration": 16,
    "start_time": "2022-05-14T15:56:05.223Z"
   },
   {
    "duration": 5,
    "start_time": "2022-05-14T15:56:05.242Z"
   },
   {
    "duration": 6,
    "start_time": "2022-05-14T15:56:05.249Z"
   },
   {
    "duration": 19,
    "start_time": "2022-05-14T15:56:05.257Z"
   },
   {
    "duration": 6,
    "start_time": "2022-05-14T15:56:05.278Z"
   },
   {
    "duration": 39,
    "start_time": "2022-05-14T15:56:05.286Z"
   },
   {
    "duration": 9,
    "start_time": "2022-05-14T15:56:05.329Z"
   },
   {
    "duration": 7,
    "start_time": "2022-05-14T15:56:05.340Z"
   },
   {
    "duration": 6,
    "start_time": "2022-05-14T15:56:05.349Z"
   },
   {
    "duration": 9,
    "start_time": "2022-05-14T15:56:05.357Z"
   },
   {
    "duration": 6,
    "start_time": "2022-05-14T15:56:05.368Z"
   },
   {
    "duration": 47,
    "start_time": "2022-05-14T15:56:05.376Z"
   },
   {
    "duration": 7,
    "start_time": "2022-05-14T15:56:05.425Z"
   },
   {
    "duration": 12,
    "start_time": "2022-05-14T15:56:05.434Z"
   },
   {
    "duration": 12,
    "start_time": "2022-05-14T15:56:05.447Z"
   },
   {
    "duration": 6,
    "start_time": "2022-05-14T15:56:05.461Z"
   },
   {
    "duration": 10,
    "start_time": "2022-05-14T15:56:05.469Z"
   },
   {
    "duration": 85,
    "start_time": "2022-05-14T15:56:05.481Z"
   },
   {
    "duration": 353,
    "start_time": "2022-05-14T15:56:05.569Z"
   },
   {
    "duration": 26,
    "start_time": "2022-05-14T15:56:05.924Z"
   },
   {
    "duration": 9,
    "start_time": "2022-05-14T15:56:05.952Z"
   },
   {
    "duration": 179,
    "start_time": "2022-05-14T15:56:05.963Z"
   },
   {
    "duration": 10,
    "start_time": "2022-05-14T15:56:06.144Z"
   },
   {
    "duration": 186,
    "start_time": "2022-05-14T15:56:06.155Z"
   },
   {
    "duration": 9,
    "start_time": "2022-05-14T15:56:06.345Z"
   },
   {
    "duration": 161,
    "start_time": "2022-05-14T15:56:06.355Z"
   },
   {
    "duration": 10,
    "start_time": "2022-05-14T15:56:06.517Z"
   },
   {
    "duration": 10,
    "start_time": "2022-05-14T15:56:06.529Z"
   },
   {
    "duration": 160,
    "start_time": "2022-05-14T15:56:06.541Z"
   },
   {
    "duration": 9,
    "start_time": "2022-05-14T15:56:06.703Z"
   },
   {
    "duration": 161,
    "start_time": "2022-05-14T15:56:06.723Z"
   },
   {
    "duration": 36,
    "start_time": "2022-05-14T15:56:06.886Z"
   },
   {
    "duration": 152,
    "start_time": "2022-05-14T15:56:06.925Z"
   },
   {
    "duration": 158,
    "start_time": "2022-05-14T15:56:07.079Z"
   },
   {
    "duration": 164,
    "start_time": "2022-05-14T15:56:07.239Z"
   },
   {
    "duration": 158,
    "start_time": "2022-05-14T15:56:07.405Z"
   },
   {
    "duration": 142,
    "start_time": "2022-05-14T15:56:07.565Z"
   },
   {
    "duration": 167,
    "start_time": "2022-05-14T15:56:07.709Z"
   },
   {
    "duration": 149,
    "start_time": "2022-05-14T15:56:07.877Z"
   },
   {
    "duration": 27,
    "start_time": "2022-05-14T15:56:08.028Z"
   },
   {
    "duration": 35,
    "start_time": "2022-05-14T15:56:08.057Z"
   },
   {
    "duration": 175,
    "start_time": "2022-05-14T15:56:08.094Z"
   },
   {
    "duration": 0,
    "start_time": "2022-05-14T15:56:08.271Z"
   },
   {
    "duration": 211,
    "start_time": "2022-05-14T15:57:35.402Z"
   },
   {
    "duration": 139,
    "start_time": "2022-05-14T15:57:47.586Z"
   },
   {
    "duration": 145,
    "start_time": "2022-05-14T15:58:51.631Z"
   },
   {
    "duration": 171,
    "start_time": "2022-05-14T15:59:05.990Z"
   },
   {
    "duration": 149,
    "start_time": "2022-05-14T15:59:10.750Z"
   },
   {
    "duration": 155,
    "start_time": "2022-05-14T15:59:17.315Z"
   },
   {
    "duration": 129,
    "start_time": "2022-05-14T15:59:41.882Z"
   },
   {
    "duration": 145,
    "start_time": "2022-05-14T16:00:15.236Z"
   },
   {
    "duration": 136,
    "start_time": "2022-05-14T16:01:25.522Z"
   },
   {
    "duration": 151,
    "start_time": "2022-05-14T16:02:11.795Z"
   },
   {
    "duration": 136,
    "start_time": "2022-05-14T16:02:22.399Z"
   },
   {
    "duration": 230,
    "start_time": "2022-05-14T16:02:30.223Z"
   },
   {
    "duration": 133,
    "start_time": "2022-05-14T16:02:34.898Z"
   },
   {
    "duration": 26,
    "start_time": "2022-05-14T16:10:32.975Z"
   },
   {
    "duration": 145,
    "start_time": "2022-05-14T16:11:02.467Z"
   },
   {
    "duration": 6,
    "start_time": "2022-05-14T16:16:30.443Z"
   },
   {
    "duration": 144,
    "start_time": "2022-05-14T16:17:47.641Z"
   },
   {
    "duration": 143,
    "start_time": "2022-05-14T16:19:20.059Z"
   },
   {
    "duration": 5,
    "start_time": "2022-05-14T16:19:51.915Z"
   },
   {
    "duration": 3178,
    "start_time": "2022-05-14T16:20:58.335Z"
   },
   {
    "duration": 3286,
    "start_time": "2022-05-14T16:21:29.179Z"
   },
   {
    "duration": 14,
    "start_time": "2022-05-14T16:22:01.722Z"
   },
   {
    "duration": 26,
    "start_time": "2022-05-14T16:23:13.531Z"
   },
   {
    "duration": 214,
    "start_time": "2022-05-14T16:23:22.843Z"
   },
   {
    "duration": 7,
    "start_time": "2022-05-14T16:23:59.091Z"
   },
   {
    "duration": 143,
    "start_time": "2022-05-14T16:25:40.055Z"
   },
   {
    "duration": 3236,
    "start_time": "2022-05-14T16:25:42.663Z"
   },
   {
    "duration": 799,
    "start_time": "2022-05-14T16:27:03.691Z"
   },
   {
    "duration": 143,
    "start_time": "2022-05-14T16:27:33.014Z"
   },
   {
    "duration": 9,
    "start_time": "2022-05-14T16:28:00.891Z"
   },
   {
    "duration": 12,
    "start_time": "2022-05-14T16:28:16.971Z"
   },
   {
    "duration": 272,
    "start_time": "2022-05-14T16:35:11.807Z"
   },
   {
    "duration": 161,
    "start_time": "2022-05-14T16:35:59.339Z"
   },
   {
    "duration": 179,
    "start_time": "2022-05-14T16:36:21.871Z"
   },
   {
    "duration": 753,
    "start_time": "2022-05-14T16:38:43.599Z"
   },
   {
    "duration": 100,
    "start_time": "2022-05-14T16:38:44.354Z"
   },
   {
    "duration": 35,
    "start_time": "2022-05-14T16:38:44.455Z"
   },
   {
    "duration": 17,
    "start_time": "2022-05-14T16:38:44.492Z"
   },
   {
    "duration": 4,
    "start_time": "2022-05-14T16:38:44.523Z"
   },
   {
    "duration": 7,
    "start_time": "2022-05-14T16:38:44.529Z"
   },
   {
    "duration": 11,
    "start_time": "2022-05-14T16:38:44.538Z"
   },
   {
    "duration": 7,
    "start_time": "2022-05-14T16:38:44.551Z"
   },
   {
    "duration": 8,
    "start_time": "2022-05-14T16:38:44.559Z"
   },
   {
    "duration": 6,
    "start_time": "2022-05-14T16:38:44.570Z"
   },
   {
    "duration": 45,
    "start_time": "2022-05-14T16:38:44.578Z"
   },
   {
    "duration": 5,
    "start_time": "2022-05-14T16:38:44.625Z"
   },
   {
    "duration": 15,
    "start_time": "2022-05-14T16:38:44.632Z"
   },
   {
    "duration": 5,
    "start_time": "2022-05-14T16:38:44.649Z"
   },
   {
    "duration": 14,
    "start_time": "2022-05-14T16:38:44.655Z"
   },
   {
    "duration": 10,
    "start_time": "2022-05-14T16:38:44.671Z"
   },
   {
    "duration": 14,
    "start_time": "2022-05-14T16:38:44.683Z"
   },
   {
    "duration": 31,
    "start_time": "2022-05-14T16:38:44.699Z"
   },
   {
    "duration": 9,
    "start_time": "2022-05-14T16:38:44.731Z"
   },
   {
    "duration": 13,
    "start_time": "2022-05-14T16:38:44.741Z"
   },
   {
    "duration": 34,
    "start_time": "2022-05-14T16:38:44.756Z"
   },
   {
    "duration": 334,
    "start_time": "2022-05-14T16:38:44.791Z"
   },
   {
    "duration": 24,
    "start_time": "2022-05-14T16:38:45.127Z"
   },
   {
    "duration": 8,
    "start_time": "2022-05-14T16:38:45.153Z"
   },
   {
    "duration": 170,
    "start_time": "2022-05-14T16:38:45.163Z"
   },
   {
    "duration": 10,
    "start_time": "2022-05-14T16:38:45.334Z"
   },
   {
    "duration": 197,
    "start_time": "2022-05-14T16:38:45.345Z"
   },
   {
    "duration": 9,
    "start_time": "2022-05-14T16:38:45.546Z"
   },
   {
    "duration": 145,
    "start_time": "2022-05-14T16:38:45.557Z"
   },
   {
    "duration": 6,
    "start_time": "2022-05-14T16:38:45.703Z"
   },
   {
    "duration": 18,
    "start_time": "2022-05-14T16:38:45.711Z"
   },
   {
    "duration": 146,
    "start_time": "2022-05-14T16:38:45.731Z"
   },
   {
    "duration": 9,
    "start_time": "2022-05-14T16:38:45.878Z"
   },
   {
    "duration": 159,
    "start_time": "2022-05-14T16:38:45.889Z"
   },
   {
    "duration": 27,
    "start_time": "2022-05-14T16:38:46.050Z"
   },
   {
    "duration": 203,
    "start_time": "2022-05-14T16:38:46.079Z"
   },
   {
    "duration": 147,
    "start_time": "2022-05-14T16:38:46.284Z"
   },
   {
    "duration": 166,
    "start_time": "2022-05-14T16:38:46.434Z"
   },
   {
    "duration": 146,
    "start_time": "2022-05-14T16:38:46.602Z"
   },
   {
    "duration": 145,
    "start_time": "2022-05-14T16:38:46.750Z"
   },
   {
    "duration": 158,
    "start_time": "2022-05-14T16:38:46.898Z"
   },
   {
    "duration": 156,
    "start_time": "2022-05-14T16:38:47.058Z"
   },
   {
    "duration": 33,
    "start_time": "2022-05-14T16:38:47.216Z"
   },
   {
    "duration": 25,
    "start_time": "2022-05-14T16:38:47.252Z"
   },
   {
    "duration": 115,
    "start_time": "2022-05-14T16:38:47.280Z"
   },
   {
    "duration": 0,
    "start_time": "2022-05-14T16:38:47.397Z"
   },
   {
    "duration": 263,
    "start_time": "2022-05-14T16:40:04.475Z"
   },
   {
    "duration": 215,
    "start_time": "2022-05-14T16:42:49.028Z"
   },
   {
    "duration": 190,
    "start_time": "2022-05-14T16:42:55.268Z"
   },
   {
    "duration": 195,
    "start_time": "2022-05-14T16:43:04.484Z"
   },
   {
    "duration": 189,
    "start_time": "2022-05-14T16:44:51.409Z"
   },
   {
    "duration": 196,
    "start_time": "2022-05-14T16:44:56.645Z"
   },
   {
    "duration": 230,
    "start_time": "2022-05-14T16:45:51.298Z"
   },
   {
    "duration": 222,
    "start_time": "2022-05-14T16:46:28.374Z"
   },
   {
    "duration": 371,
    "start_time": "2022-05-14T16:48:18.099Z"
   },
   {
    "duration": 340,
    "start_time": "2022-05-14T16:49:56.682Z"
   },
   {
    "duration": 264,
    "start_time": "2022-05-14T16:51:42.029Z"
   },
   {
    "duration": 399,
    "start_time": "2022-05-14T16:52:04.549Z"
   },
   {
    "duration": 296,
    "start_time": "2022-05-14T16:52:24.040Z"
   },
   {
    "duration": 265,
    "start_time": "2022-05-14T16:55:49.784Z"
   },
   {
    "duration": 222,
    "start_time": "2022-05-14T16:56:59.112Z"
   },
   {
    "duration": 274,
    "start_time": "2022-05-14T16:57:05.816Z"
   },
   {
    "duration": 309,
    "start_time": "2022-05-14T16:57:13.280Z"
   },
   {
    "duration": 184,
    "start_time": "2022-05-14T16:57:44.304Z"
   },
   {
    "duration": 192,
    "start_time": "2022-05-14T16:57:52.356Z"
   },
   {
    "duration": 193,
    "start_time": "2022-05-14T16:58:03.364Z"
   },
   {
    "duration": 198,
    "start_time": "2022-05-14T16:58:09.500Z"
   },
   {
    "duration": 195,
    "start_time": "2022-05-14T16:58:49.376Z"
   },
   {
    "duration": 282,
    "start_time": "2022-05-14T16:59:00.075Z"
   },
   {
    "duration": 162,
    "start_time": "2022-05-14T17:06:58.226Z"
   },
   {
    "duration": 141,
    "start_time": "2022-05-14T17:07:27.966Z"
   },
   {
    "duration": 23,
    "start_time": "2022-05-14T17:08:05.606Z"
   },
   {
    "duration": 154,
    "start_time": "2022-05-14T17:08:14.327Z"
   },
   {
    "duration": 117,
    "start_time": "2022-05-14T17:11:02.170Z"
   },
   {
    "duration": 164,
    "start_time": "2022-05-14T17:11:51.234Z"
   },
   {
    "duration": 124,
    "start_time": "2022-05-14T17:12:04.954Z"
   },
   {
    "duration": 112,
    "start_time": "2022-05-14T17:12:23.966Z"
   },
   {
    "duration": 18,
    "start_time": "2022-05-14T17:12:39.794Z"
   },
   {
    "duration": 136,
    "start_time": "2022-05-14T17:12:51.650Z"
   },
   {
    "duration": 133,
    "start_time": "2022-05-14T17:18:57.369Z"
   },
   {
    "duration": 203,
    "start_time": "2022-05-14T17:19:30.994Z"
   },
   {
    "duration": 139,
    "start_time": "2022-05-14T17:22:36.138Z"
   },
   {
    "duration": 186,
    "start_time": "2022-05-14T17:27:55.094Z"
   },
   {
    "duration": 201,
    "start_time": "2022-05-14T17:28:16.901Z"
   },
   {
    "duration": 153,
    "start_time": "2022-05-14T17:28:27.094Z"
   },
   {
    "duration": 24,
    "start_time": "2022-05-14T17:29:13.578Z"
   },
   {
    "duration": 7,
    "start_time": "2022-05-14T17:29:39.858Z"
   },
   {
    "duration": 140,
    "start_time": "2022-05-14T17:29:44.861Z"
   },
   {
    "duration": 140,
    "start_time": "2022-05-14T17:30:14.446Z"
   },
   {
    "duration": 124,
    "start_time": "2022-05-14T17:30:49.518Z"
   },
   {
    "duration": 136,
    "start_time": "2022-05-14T17:31:18.846Z"
   },
   {
    "duration": 33,
    "start_time": "2022-05-14T17:47:56.210Z"
   },
   {
    "duration": 20,
    "start_time": "2022-05-14T17:52:18.706Z"
   },
   {
    "duration": 138,
    "start_time": "2022-05-14T17:52:42.225Z"
   },
   {
    "duration": 11,
    "start_time": "2022-05-14T17:53:20.823Z"
   },
   {
    "duration": 28,
    "start_time": "2022-05-14T17:54:40.629Z"
   },
   {
    "duration": 24,
    "start_time": "2022-05-14T17:54:53.214Z"
   },
   {
    "duration": 23,
    "start_time": "2022-05-14T17:55:06.058Z"
   },
   {
    "duration": 157,
    "start_time": "2022-05-14T17:55:15.366Z"
   },
   {
    "duration": 272,
    "start_time": "2022-05-14T17:56:24.521Z"
   },
   {
    "duration": 21,
    "start_time": "2022-05-14T18:11:33.542Z"
   },
   {
    "duration": 180,
    "start_time": "2022-05-14T18:12:51.442Z"
   },
   {
    "duration": 249,
    "start_time": "2022-05-14T18:13:52.459Z"
   },
   {
    "duration": 136,
    "start_time": "2022-05-14T18:14:46.370Z"
   },
   {
    "duration": 144,
    "start_time": "2022-05-14T18:14:48.195Z"
   },
   {
    "duration": 181,
    "start_time": "2022-05-14T18:14:50.610Z"
   },
   {
    "duration": 153,
    "start_time": "2022-05-14T18:14:53.046Z"
   },
   {
    "duration": 308,
    "start_time": "2022-05-14T18:15:49.035Z"
   },
   {
    "duration": 214,
    "start_time": "2022-05-14T18:15:54.126Z"
   },
   {
    "duration": 134,
    "start_time": "2022-05-14T18:15:57.238Z"
   },
   {
    "duration": 138,
    "start_time": "2022-05-14T18:16:00.131Z"
   },
   {
    "duration": 1271,
    "start_time": "2022-05-15T14:53:15.043Z"
   },
   {
    "duration": 108,
    "start_time": "2022-05-15T14:53:16.317Z"
   },
   {
    "duration": 65,
    "start_time": "2022-05-15T14:53:16.427Z"
   },
   {
    "duration": 23,
    "start_time": "2022-05-15T14:53:16.495Z"
   },
   {
    "duration": 32,
    "start_time": "2022-05-15T14:53:16.521Z"
   },
   {
    "duration": 6,
    "start_time": "2022-05-15T14:53:16.556Z"
   },
   {
    "duration": 16,
    "start_time": "2022-05-15T14:53:16.565Z"
   },
   {
    "duration": 7,
    "start_time": "2022-05-15T14:53:16.583Z"
   },
   {
    "duration": 8,
    "start_time": "2022-05-15T14:53:16.593Z"
   },
   {
    "duration": 11,
    "start_time": "2022-05-15T14:53:16.651Z"
   },
   {
    "duration": 26,
    "start_time": "2022-05-15T14:53:16.664Z"
   },
   {
    "duration": 11,
    "start_time": "2022-05-15T14:53:16.692Z"
   },
   {
    "duration": 10,
    "start_time": "2022-05-15T14:53:16.705Z"
   },
   {
    "duration": 12,
    "start_time": "2022-05-15T14:53:16.717Z"
   },
   {
    "duration": 26,
    "start_time": "2022-05-15T14:53:16.731Z"
   },
   {
    "duration": 7,
    "start_time": "2022-05-15T14:53:16.759Z"
   },
   {
    "duration": 15,
    "start_time": "2022-05-15T14:53:16.768Z"
   },
   {
    "duration": 16,
    "start_time": "2022-05-15T14:53:16.785Z"
   },
   {
    "duration": 7,
    "start_time": "2022-05-15T14:53:16.803Z"
   },
   {
    "duration": 12,
    "start_time": "2022-05-15T14:53:16.852Z"
   },
   {
    "duration": 47,
    "start_time": "2022-05-15T14:53:16.867Z"
   },
   {
    "duration": 562,
    "start_time": "2022-05-15T14:53:16.917Z"
   },
   {
    "duration": 37,
    "start_time": "2022-05-15T14:53:17.481Z"
   },
   {
    "duration": 39,
    "start_time": "2022-05-15T14:53:17.520Z"
   },
   {
    "duration": 297,
    "start_time": "2022-05-15T14:53:17.562Z"
   },
   {
    "duration": 14,
    "start_time": "2022-05-15T14:53:17.861Z"
   },
   {
    "duration": 253,
    "start_time": "2022-05-15T14:53:17.877Z"
   },
   {
    "duration": 23,
    "start_time": "2022-05-15T14:53:18.138Z"
   },
   {
    "duration": 302,
    "start_time": "2022-05-15T14:53:18.164Z"
   },
   {
    "duration": 10,
    "start_time": "2022-05-15T14:53:18.469Z"
   },
   {
    "duration": 13,
    "start_time": "2022-05-15T14:53:18.482Z"
   },
   {
    "duration": 266,
    "start_time": "2022-05-15T14:53:18.497Z"
   },
   {
    "duration": 12,
    "start_time": "2022-05-15T14:53:18.765Z"
   },
   {
    "duration": 272,
    "start_time": "2022-05-15T14:53:18.780Z"
   },
   {
    "duration": 35,
    "start_time": "2022-05-15T14:53:19.054Z"
   },
   {
    "duration": 283,
    "start_time": "2022-05-15T14:53:19.091Z"
   },
   {
    "duration": 219,
    "start_time": "2022-05-15T14:53:19.376Z"
   },
   {
    "duration": 339,
    "start_time": "2022-05-15T14:53:19.597Z"
   },
   {
    "duration": 208,
    "start_time": "2022-05-15T14:53:19.939Z"
   },
   {
    "duration": 230,
    "start_time": "2022-05-15T14:53:20.149Z"
   },
   {
    "duration": 246,
    "start_time": "2022-05-15T14:53:20.382Z"
   },
   {
    "duration": 296,
    "start_time": "2022-05-15T14:53:20.630Z"
   },
   {
    "duration": 44,
    "start_time": "2022-05-15T14:53:20.928Z"
   },
   {
    "duration": 35,
    "start_time": "2022-05-15T14:53:20.975Z"
   },
   {
    "duration": 378,
    "start_time": "2022-05-15T14:53:21.013Z"
   },
   {
    "duration": 28,
    "start_time": "2022-05-15T14:53:21.393Z"
   },
   {
    "duration": 232,
    "start_time": "2022-05-15T14:53:21.423Z"
   },
   {
    "duration": 229,
    "start_time": "2022-05-15T14:53:21.658Z"
   },
   {
    "duration": 228,
    "start_time": "2022-05-15T14:53:21.889Z"
   },
   {
    "duration": 221,
    "start_time": "2022-05-15T14:53:22.119Z"
   },
   {
    "duration": 963,
    "start_time": "2022-05-15T17:07:27.492Z"
   },
   {
    "duration": 824,
    "start_time": "2022-05-15T17:07:52.185Z"
   },
   {
    "duration": 33,
    "start_time": "2022-05-15T17:11:15.480Z"
   },
   {
    "duration": 832,
    "start_time": "2022-05-15T17:11:31.042Z"
   },
   {
    "duration": 105,
    "start_time": "2022-05-15T17:11:31.878Z"
   },
   {
    "duration": 48,
    "start_time": "2022-05-15T17:11:31.985Z"
   },
   {
    "duration": 32,
    "start_time": "2022-05-15T17:11:32.036Z"
   },
   {
    "duration": 5,
    "start_time": "2022-05-15T17:11:32.070Z"
   },
   {
    "duration": 10,
    "start_time": "2022-05-15T17:11:32.077Z"
   },
   {
    "duration": 15,
    "start_time": "2022-05-15T17:11:32.089Z"
   },
   {
    "duration": 46,
    "start_time": "2022-05-15T17:11:32.106Z"
   },
   {
    "duration": 9,
    "start_time": "2022-05-15T17:11:32.154Z"
   },
   {
    "duration": 9,
    "start_time": "2022-05-15T17:11:32.167Z"
   },
   {
    "duration": 10,
    "start_time": "2022-05-15T17:11:32.179Z"
   },
   {
    "duration": 6,
    "start_time": "2022-05-15T17:11:32.191Z"
   },
   {
    "duration": 57,
    "start_time": "2022-05-15T17:11:32.199Z"
   },
   {
    "duration": 6,
    "start_time": "2022-05-15T17:11:32.258Z"
   },
   {
    "duration": 14,
    "start_time": "2022-05-15T17:11:32.266Z"
   },
   {
    "duration": 7,
    "start_time": "2022-05-15T17:11:32.282Z"
   },
   {
    "duration": 16,
    "start_time": "2022-05-15T17:11:32.291Z"
   },
   {
    "duration": 51,
    "start_time": "2022-05-15T17:11:32.309Z"
   },
   {
    "duration": 7,
    "start_time": "2022-05-15T17:11:32.363Z"
   },
   {
    "duration": 10,
    "start_time": "2022-05-15T17:11:32.372Z"
   },
   {
    "duration": 71,
    "start_time": "2022-05-15T17:11:32.385Z"
   },
   {
    "duration": 498,
    "start_time": "2022-05-15T17:11:32.459Z"
   },
   {
    "duration": 37,
    "start_time": "2022-05-15T17:11:32.959Z"
   },
   {
    "duration": 11,
    "start_time": "2022-05-15T17:11:32.999Z"
   },
   {
    "duration": 259,
    "start_time": "2022-05-15T17:11:33.012Z"
   },
   {
    "duration": 12,
    "start_time": "2022-05-15T17:11:33.273Z"
   },
   {
    "duration": 277,
    "start_time": "2022-05-15T17:11:33.287Z"
   },
   {
    "duration": 11,
    "start_time": "2022-05-15T17:11:33.570Z"
   },
   {
    "duration": 237,
    "start_time": "2022-05-15T17:11:33.584Z"
   },
   {
    "duration": 8,
    "start_time": "2022-05-15T17:11:33.824Z"
   },
   {
    "duration": 11,
    "start_time": "2022-05-15T17:11:33.851Z"
   },
   {
    "duration": 233,
    "start_time": "2022-05-15T17:11:33.864Z"
   },
   {
    "duration": 11,
    "start_time": "2022-05-15T17:11:34.100Z"
   },
   {
    "duration": 245,
    "start_time": "2022-05-15T17:11:34.113Z"
   },
   {
    "duration": 38,
    "start_time": "2022-05-15T17:11:34.360Z"
   },
   {
    "duration": 306,
    "start_time": "2022-05-15T17:11:34.400Z"
   },
   {
    "duration": 226,
    "start_time": "2022-05-15T17:11:34.708Z"
   },
   {
    "duration": 332,
    "start_time": "2022-05-15T17:11:34.936Z"
   },
   {
    "duration": 212,
    "start_time": "2022-05-15T17:11:35.271Z"
   },
   {
    "duration": 229,
    "start_time": "2022-05-15T17:11:35.486Z"
   },
   {
    "duration": 322,
    "start_time": "2022-05-15T17:11:35.717Z"
   },
   {
    "duration": 236,
    "start_time": "2022-05-15T17:11:36.042Z"
   },
   {
    "duration": 36,
    "start_time": "2022-05-15T17:11:36.280Z"
   },
   {
    "duration": 59,
    "start_time": "2022-05-15T17:11:36.318Z"
   },
   {
    "duration": 311,
    "start_time": "2022-05-15T17:11:36.379Z"
   },
   {
    "duration": 33,
    "start_time": "2022-05-15T17:11:36.693Z"
   },
   {
    "duration": 232,
    "start_time": "2022-05-15T17:11:36.729Z"
   },
   {
    "duration": 226,
    "start_time": "2022-05-15T17:11:36.963Z"
   },
   {
    "duration": 211,
    "start_time": "2022-05-15T17:11:37.192Z"
   },
   {
    "duration": 226,
    "start_time": "2022-05-15T17:11:37.406Z"
   },
   {
    "duration": 968,
    "start_time": "2022-05-15T17:11:37.634Z"
   },
   {
    "duration": 1546,
    "start_time": "2022-05-15T17:17:14.943Z"
   },
   {
    "duration": 1646,
    "start_time": "2022-05-15T17:17:35.591Z"
   },
   {
    "duration": 915,
    "start_time": "2022-05-15T17:50:35.337Z"
   },
   {
    "duration": 108,
    "start_time": "2022-05-15T17:50:36.254Z"
   },
   {
    "duration": 50,
    "start_time": "2022-05-15T17:50:36.364Z"
   },
   {
    "duration": 42,
    "start_time": "2022-05-15T17:50:36.417Z"
   },
   {
    "duration": 6,
    "start_time": "2022-05-15T17:50:36.462Z"
   },
   {
    "duration": 7,
    "start_time": "2022-05-15T17:50:36.471Z"
   },
   {
    "duration": 14,
    "start_time": "2022-05-15T17:50:36.480Z"
   },
   {
    "duration": 7,
    "start_time": "2022-05-15T17:50:36.497Z"
   },
   {
    "duration": 55,
    "start_time": "2022-05-15T17:50:36.506Z"
   },
   {
    "duration": 10,
    "start_time": "2022-05-15T17:50:36.566Z"
   },
   {
    "duration": 9,
    "start_time": "2022-05-15T17:50:36.578Z"
   },
   {
    "duration": 8,
    "start_time": "2022-05-15T17:50:36.589Z"
   },
   {
    "duration": 10,
    "start_time": "2022-05-15T17:50:36.599Z"
   },
   {
    "duration": 43,
    "start_time": "2022-05-15T17:50:36.611Z"
   },
   {
    "duration": 12,
    "start_time": "2022-05-15T17:50:36.656Z"
   },
   {
    "duration": 8,
    "start_time": "2022-05-15T17:50:36.670Z"
   },
   {
    "duration": 17,
    "start_time": "2022-05-15T17:50:36.681Z"
   },
   {
    "duration": 57,
    "start_time": "2022-05-15T17:50:36.700Z"
   },
   {
    "duration": 8,
    "start_time": "2022-05-15T17:50:36.759Z"
   },
   {
    "duration": 12,
    "start_time": "2022-05-15T17:50:36.769Z"
   },
   {
    "duration": 79,
    "start_time": "2022-05-15T17:50:36.783Z"
   },
   {
    "duration": 494,
    "start_time": "2022-05-15T17:50:36.865Z"
   },
   {
    "duration": 37,
    "start_time": "2022-05-15T17:50:37.361Z"
   },
   {
    "duration": 11,
    "start_time": "2022-05-15T17:50:37.400Z"
   },
   {
    "duration": 262,
    "start_time": "2022-05-15T17:50:37.413Z"
   },
   {
    "duration": 12,
    "start_time": "2022-05-15T17:50:37.677Z"
   },
   {
    "duration": 278,
    "start_time": "2022-05-15T17:50:37.691Z"
   },
   {
    "duration": 10,
    "start_time": "2022-05-15T17:50:37.975Z"
   },
   {
    "duration": 237,
    "start_time": "2022-05-15T17:50:37.988Z"
   },
   {
    "duration": 8,
    "start_time": "2022-05-15T17:50:38.227Z"
   },
   {
    "duration": 12,
    "start_time": "2022-05-15T17:50:38.251Z"
   },
   {
    "duration": 236,
    "start_time": "2022-05-15T17:50:38.265Z"
   },
   {
    "duration": 12,
    "start_time": "2022-05-15T17:50:38.503Z"
   },
   {
    "duration": 259,
    "start_time": "2022-05-15T17:50:38.517Z"
   },
   {
    "duration": 38,
    "start_time": "2022-05-15T17:50:38.778Z"
   },
   {
    "duration": 292,
    "start_time": "2022-05-15T17:50:38.819Z"
   },
   {
    "duration": 222,
    "start_time": "2022-05-15T17:50:39.113Z"
   },
   {
    "duration": 332,
    "start_time": "2022-05-15T17:50:39.337Z"
   },
   {
    "duration": 212,
    "start_time": "2022-05-15T17:50:39.672Z"
   },
   {
    "duration": 237,
    "start_time": "2022-05-15T17:50:39.887Z"
   },
   {
    "duration": 233,
    "start_time": "2022-05-15T17:50:40.127Z"
   },
   {
    "duration": 236,
    "start_time": "2022-05-15T17:50:40.362Z"
   },
   {
    "duration": 37,
    "start_time": "2022-05-15T17:50:40.600Z"
   },
   {
    "duration": 37,
    "start_time": "2022-05-15T17:50:40.652Z"
   },
   {
    "duration": 323,
    "start_time": "2022-05-15T17:50:40.691Z"
   },
   {
    "duration": 50,
    "start_time": "2022-05-15T17:50:41.017Z"
   },
   {
    "duration": 231,
    "start_time": "2022-05-15T17:50:41.069Z"
   },
   {
    "duration": 234,
    "start_time": "2022-05-15T17:50:41.302Z"
   },
   {
    "duration": 211,
    "start_time": "2022-05-15T17:50:41.538Z"
   },
   {
    "duration": 232,
    "start_time": "2022-05-15T17:50:41.752Z"
   },
   {
    "duration": 1590,
    "start_time": "2022-05-15T17:50:41.986Z"
   },
   {
    "duration": 1775,
    "start_time": "2022-05-16T14:38:42.793Z"
   },
   {
    "duration": 164,
    "start_time": "2022-05-16T14:38:44.572Z"
   },
   {
    "duration": 97,
    "start_time": "2022-05-16T14:38:44.739Z"
   },
   {
    "duration": 33,
    "start_time": "2022-05-16T14:38:46.039Z"
   },
   {
    "duration": 7,
    "start_time": "2022-05-16T14:38:50.309Z"
   },
   {
    "duration": 6,
    "start_time": "2022-05-16T14:38:50.443Z"
   },
   {
    "duration": 13,
    "start_time": "2022-05-16T14:38:51.737Z"
   },
   {
    "duration": 9,
    "start_time": "2022-05-16T14:38:57.172Z"
   },
   {
    "duration": 11,
    "start_time": "2022-05-16T14:38:59.601Z"
   },
   {
    "duration": 12,
    "start_time": "2022-05-16T14:39:00.432Z"
   },
   {
    "duration": 10,
    "start_time": "2022-05-16T14:39:59.573Z"
   },
   {
    "duration": 6,
    "start_time": "2022-05-16T14:40:00.937Z"
   },
   {
    "duration": 7,
    "start_time": "2022-05-16T14:40:39.506Z"
   },
   {
    "duration": 17,
    "start_time": "2022-05-16T14:40:39.943Z"
   },
   {
    "duration": 9,
    "start_time": "2022-05-16T14:42:02.242Z"
   },
   {
    "duration": 24,
    "start_time": "2022-05-16T14:42:06.153Z"
   },
   {
    "duration": 214,
    "start_time": "2022-05-16T14:42:06.532Z"
   },
   {
    "duration": 10,
    "start_time": "2022-05-16T14:42:10.582Z"
   },
   {
    "duration": 33,
    "start_time": "2022-05-16T14:42:10.954Z"
   },
   {
    "duration": 33,
    "start_time": "2022-05-16T14:42:11.540Z"
   },
   {
    "duration": 8,
    "start_time": "2022-05-16T14:42:18.480Z"
   },
   {
    "duration": 7,
    "start_time": "2022-05-16T14:42:18.657Z"
   },
   {
    "duration": 14,
    "start_time": "2022-05-16T14:42:19.004Z"
   },
   {
    "duration": 8,
    "start_time": "2022-05-16T14:42:19.508Z"
   },
   {
    "duration": 7,
    "start_time": "2022-05-16T14:42:19.850Z"
   },
   {
    "duration": 9,
    "start_time": "2022-05-16T14:42:20.509Z"
   },
   {
    "duration": 6,
    "start_time": "2022-05-16T14:42:20.978Z"
   },
   {
    "duration": 6,
    "start_time": "2022-05-16T14:42:21.329Z"
   },
   {
    "duration": 13,
    "start_time": "2022-05-16T14:42:21.669Z"
   },
   {
    "duration": 6,
    "start_time": "2022-05-16T14:42:22.185Z"
   },
   {
    "duration": 12,
    "start_time": "2022-05-16T14:42:22.548Z"
   },
   {
    "duration": 8,
    "start_time": "2022-05-16T14:42:23.365Z"
   },
   {
    "duration": 19,
    "start_time": "2022-05-16T14:42:24.339Z"
   },
   {
    "duration": 10,
    "start_time": "2022-05-16T14:42:24.688Z"
   },
   {
    "duration": 8,
    "start_time": "2022-05-16T14:42:26.361Z"
   },
   {
    "duration": 10,
    "start_time": "2022-05-16T14:43:02.621Z"
   },
   {
    "duration": 49,
    "start_time": "2022-05-16T14:43:03.413Z"
   },
   {
    "duration": 553,
    "start_time": "2022-05-16T14:43:05.254Z"
   },
   {
    "duration": 38,
    "start_time": "2022-05-16T14:43:08.008Z"
   },
   {
    "duration": 12,
    "start_time": "2022-05-16T14:43:11.504Z"
   },
   {
    "duration": 233,
    "start_time": "2022-05-16T14:43:11.769Z"
   },
   {
    "duration": 12,
    "start_time": "2022-05-16T14:43:13.339Z"
   },
   {
    "duration": 223,
    "start_time": "2022-05-16T14:43:13.587Z"
   },
   {
    "duration": 12,
    "start_time": "2022-05-16T14:43:16.026Z"
   },
   {
    "duration": 222,
    "start_time": "2022-05-16T14:43:16.178Z"
   },
   {
    "duration": 8,
    "start_time": "2022-05-16T14:43:16.965Z"
   },
   {
    "duration": 13,
    "start_time": "2022-05-16T14:43:17.744Z"
   },
   {
    "duration": 231,
    "start_time": "2022-05-16T14:43:17.946Z"
   },
   {
    "duration": 12,
    "start_time": "2022-05-16T14:43:23.796Z"
   },
   {
    "duration": 369,
    "start_time": "2022-05-16T14:43:24.280Z"
   },
   {
    "duration": 300,
    "start_time": "2022-05-16T14:44:18.540Z"
   },
   {
    "duration": 399,
    "start_time": "2022-05-16T14:44:20.215Z"
   },
   {
    "duration": 312,
    "start_time": "2022-05-16T14:44:22.061Z"
   },
   {
    "duration": 469,
    "start_time": "2022-05-16T14:44:54.682Z"
   },
   {
    "duration": 228,
    "start_time": "2022-05-16T14:44:56.899Z"
   },
   {
    "duration": 41,
    "start_time": "2022-05-16T14:45:27.813Z"
   },
   {
    "duration": 286,
    "start_time": "2022-05-16T14:46:48.583Z"
   },
   {
    "duration": 232,
    "start_time": "2022-05-16T14:46:49.903Z"
   },
   {
    "duration": 338,
    "start_time": "2022-05-16T14:46:50.395Z"
   },
   {
    "duration": 219,
    "start_time": "2022-05-16T14:46:54.490Z"
   },
   {
    "duration": 224,
    "start_time": "2022-05-16T14:46:55.293Z"
   },
   {
    "duration": 238,
    "start_time": "2022-05-16T14:46:56.968Z"
   },
   {
    "duration": 242,
    "start_time": "2022-05-16T14:46:58.525Z"
   },
   {
    "duration": 56,
    "start_time": "2022-05-16T14:49:08.337Z"
   },
   {
    "duration": 247,
    "start_time": "2022-05-16T14:49:09.277Z"
   },
   {
    "duration": 37,
    "start_time": "2022-05-16T14:49:13.119Z"
   },
   {
    "duration": 216,
    "start_time": "2022-05-16T14:49:23.654Z"
   },
   {
    "duration": 301,
    "start_time": "2022-05-16T14:49:24.189Z"
   },
   {
    "duration": 313,
    "start_time": "2022-05-16T14:49:24.693Z"
   },
   {
    "duration": 374,
    "start_time": "2022-05-16T14:49:25.250Z"
   },
   {
    "duration": 1858,
    "start_time": "2022-05-16T14:50:17.156Z"
   },
   {
    "duration": 163,
    "start_time": "2022-05-16T14:50:54.257Z"
   },
   {
    "duration": 882,
    "start_time": "2022-05-17T07:23:23.248Z"
   },
   {
    "duration": 91,
    "start_time": "2022-05-17T07:23:24.132Z"
   },
   {
    "duration": 45,
    "start_time": "2022-05-17T07:23:24.225Z"
   },
   {
    "duration": 19,
    "start_time": "2022-05-17T07:23:24.273Z"
   },
   {
    "duration": 6,
    "start_time": "2022-05-17T07:23:24.294Z"
   },
   {
    "duration": 6,
    "start_time": "2022-05-17T07:23:24.302Z"
   },
   {
    "duration": 13,
    "start_time": "2022-05-17T07:23:24.310Z"
   },
   {
    "duration": 9,
    "start_time": "2022-05-17T07:23:24.357Z"
   },
   {
    "duration": 5,
    "start_time": "2022-05-17T07:23:24.368Z"
   },
   {
    "duration": 8,
    "start_time": "2022-05-17T07:23:24.376Z"
   },
   {
    "duration": 8,
    "start_time": "2022-05-17T07:23:24.385Z"
   },
   {
    "duration": 10,
    "start_time": "2022-05-17T07:23:24.394Z"
   },
   {
    "duration": 6,
    "start_time": "2022-05-17T07:23:24.406Z"
   },
   {
    "duration": 44,
    "start_time": "2022-05-17T07:23:24.413Z"
   },
   {
    "duration": 5,
    "start_time": "2022-05-17T07:23:24.459Z"
   },
   {
    "duration": 19,
    "start_time": "2022-05-17T07:23:24.465Z"
   },
   {
    "duration": 16,
    "start_time": "2022-05-17T07:23:24.485Z"
   },
   {
    "duration": 4,
    "start_time": "2022-05-17T07:23:24.503Z"
   },
   {
    "duration": 10,
    "start_time": "2022-05-17T07:23:24.509Z"
   },
   {
    "duration": 53,
    "start_time": "2022-05-17T07:23:24.521Z"
   },
   {
    "duration": 302,
    "start_time": "2022-05-17T07:23:24.576Z"
   },
   {
    "duration": 25,
    "start_time": "2022-05-17T07:23:24.880Z"
   },
   {
    "duration": 10,
    "start_time": "2022-05-17T07:23:24.908Z"
   },
   {
    "duration": 185,
    "start_time": "2022-05-17T07:23:24.920Z"
   },
   {
    "duration": 10,
    "start_time": "2022-05-17T07:23:25.108Z"
   },
   {
    "duration": 215,
    "start_time": "2022-05-17T07:23:25.119Z"
   },
   {
    "duration": 22,
    "start_time": "2022-05-17T07:23:25.337Z"
   },
   {
    "duration": 157,
    "start_time": "2022-05-17T07:23:25.364Z"
   },
   {
    "duration": 6,
    "start_time": "2022-05-17T07:23:25.523Z"
   },
   {
    "duration": 13,
    "start_time": "2022-05-17T07:23:25.531Z"
   },
   {
    "duration": 162,
    "start_time": "2022-05-17T07:23:25.557Z"
   },
   {
    "duration": 10,
    "start_time": "2022-05-17T07:23:25.722Z"
   },
   {
    "duration": 159,
    "start_time": "2022-05-17T07:23:25.733Z"
   },
   {
    "duration": 28,
    "start_time": "2022-05-17T07:23:25.895Z"
   },
   {
    "duration": 213,
    "start_time": "2022-05-17T07:23:25.925Z"
   },
   {
    "duration": 161,
    "start_time": "2022-05-17T07:23:26.140Z"
   },
   {
    "duration": 234,
    "start_time": "2022-05-17T07:23:26.303Z"
   },
   {
    "duration": 145,
    "start_time": "2022-05-17T07:23:26.539Z"
   },
   {
    "duration": 164,
    "start_time": "2022-05-17T07:23:26.686Z"
   },
   {
    "duration": 160,
    "start_time": "2022-05-17T07:23:26.857Z"
   },
   {
    "duration": 164,
    "start_time": "2022-05-17T07:23:27.019Z"
   },
   {
    "duration": 105,
    "start_time": "2022-05-17T07:23:27.185Z"
   },
   {
    "duration": 28,
    "start_time": "2022-05-17T07:23:27.292Z"
   },
   {
    "duration": 184,
    "start_time": "2022-05-17T07:23:27.322Z"
   },
   {
    "duration": 25,
    "start_time": "2022-05-17T07:23:27.508Z"
   },
   {
    "duration": 168,
    "start_time": "2022-05-17T07:23:27.534Z"
   },
   {
    "duration": 147,
    "start_time": "2022-05-17T07:23:27.704Z"
   },
   {
    "duration": 143,
    "start_time": "2022-05-17T07:23:27.857Z"
   },
   {
    "duration": 160,
    "start_time": "2022-05-17T07:23:28.002Z"
   },
   {
    "duration": 1063,
    "start_time": "2022-05-17T07:23:28.165Z"
   },
   {
    "duration": 250,
    "start_time": "2022-05-17T07:27:08.880Z"
   },
   {
    "duration": 347,
    "start_time": "2022-05-17T07:30:39.258Z"
   },
   {
    "duration": 193,
    "start_time": "2022-05-17T07:31:25.754Z"
   },
   {
    "duration": 156,
    "start_time": "2022-05-17T07:31:31.098Z"
   },
   {
    "duration": 136,
    "start_time": "2022-05-17T07:31:36.836Z"
   },
   {
    "duration": 244,
    "start_time": "2022-05-17T07:33:22.960Z"
   },
   {
    "duration": 249,
    "start_time": "2022-05-17T07:33:33.926Z"
   },
   {
    "duration": 241,
    "start_time": "2022-05-17T07:34:26.799Z"
   },
   {
    "duration": 234,
    "start_time": "2022-05-17T07:36:34.253Z"
   },
   {
    "duration": 262,
    "start_time": "2022-05-17T07:47:00.376Z"
   },
   {
    "duration": 188,
    "start_time": "2022-05-17T07:47:43.424Z"
   },
   {
    "duration": 765,
    "start_time": "2022-05-17T07:58:00.714Z"
   },
   {
    "duration": 99,
    "start_time": "2022-05-17T07:58:01.482Z"
   },
   {
    "duration": 37,
    "start_time": "2022-05-17T07:58:01.583Z"
   },
   {
    "duration": 17,
    "start_time": "2022-05-17T07:58:01.623Z"
   },
   {
    "duration": 8,
    "start_time": "2022-05-17T07:58:01.656Z"
   },
   {
    "duration": 28,
    "start_time": "2022-05-17T07:58:01.666Z"
   },
   {
    "duration": 27,
    "start_time": "2022-05-17T07:58:01.696Z"
   },
   {
    "duration": 11,
    "start_time": "2022-05-17T07:58:01.725Z"
   },
   {
    "duration": 17,
    "start_time": "2022-05-17T07:58:01.737Z"
   },
   {
    "duration": 33,
    "start_time": "2022-05-17T07:58:01.757Z"
   },
   {
    "duration": 21,
    "start_time": "2022-05-17T07:58:01.792Z"
   },
   {
    "duration": 35,
    "start_time": "2022-05-17T07:58:01.815Z"
   },
   {
    "duration": 21,
    "start_time": "2022-05-17T07:58:01.852Z"
   },
   {
    "duration": 7,
    "start_time": "2022-05-17T07:58:01.875Z"
   },
   {
    "duration": 29,
    "start_time": "2022-05-17T07:58:01.884Z"
   },
   {
    "duration": 14,
    "start_time": "2022-05-17T07:58:01.915Z"
   },
   {
    "duration": 7,
    "start_time": "2022-05-17T07:58:01.931Z"
   },
   {
    "duration": 21,
    "start_time": "2022-05-17T07:58:01.940Z"
   },
   {
    "duration": 43,
    "start_time": "2022-05-17T07:58:01.963Z"
   },
   {
    "duration": 324,
    "start_time": "2022-05-17T07:58:02.008Z"
   },
   {
    "duration": 33,
    "start_time": "2022-05-17T07:58:02.334Z"
   },
   {
    "duration": 10,
    "start_time": "2022-05-17T07:58:02.368Z"
   },
   {
    "duration": 354,
    "start_time": "2022-05-17T07:58:02.380Z"
   },
   {
    "duration": 9,
    "start_time": "2022-05-17T07:58:02.736Z"
   },
   {
    "duration": 284,
    "start_time": "2022-05-17T07:58:02.757Z"
   },
   {
    "duration": 15,
    "start_time": "2022-05-17T07:58:03.043Z"
   },
   {
    "duration": 167,
    "start_time": "2022-05-17T07:58:03.059Z"
   },
   {
    "duration": 8,
    "start_time": "2022-05-17T07:58:03.231Z"
   },
   {
    "duration": 23,
    "start_time": "2022-05-17T07:58:03.240Z"
   },
   {
    "duration": 174,
    "start_time": "2022-05-17T07:58:03.265Z"
   },
   {
    "duration": 20,
    "start_time": "2022-05-17T07:58:03.441Z"
   },
   {
    "duration": 204,
    "start_time": "2022-05-17T07:58:03.463Z"
   },
   {
    "duration": 28,
    "start_time": "2022-05-17T07:58:03.669Z"
   },
   {
    "duration": 208,
    "start_time": "2022-05-17T07:58:03.699Z"
   },
   {
    "duration": 160,
    "start_time": "2022-05-17T07:58:03.909Z"
   },
   {
    "duration": 254,
    "start_time": "2022-05-17T07:58:04.071Z"
   },
   {
    "duration": 156,
    "start_time": "2022-05-17T07:58:04.327Z"
   },
   {
    "duration": 171,
    "start_time": "2022-05-17T07:58:04.485Z"
   },
   {
    "duration": 236,
    "start_time": "2022-05-17T07:58:04.658Z"
   },
   {
    "duration": 195,
    "start_time": "2022-05-17T07:58:04.895Z"
   },
   {
    "duration": 29,
    "start_time": "2022-05-17T07:58:05.092Z"
   },
   {
    "duration": 44,
    "start_time": "2022-05-17T07:58:05.123Z"
   },
   {
    "duration": 180,
    "start_time": "2022-05-17T07:58:05.169Z"
   },
   {
    "duration": 29,
    "start_time": "2022-05-17T07:58:05.351Z"
   },
   {
    "duration": 166,
    "start_time": "2022-05-17T07:58:05.382Z"
   },
   {
    "duration": 153,
    "start_time": "2022-05-17T07:58:05.550Z"
   },
   {
    "duration": 147,
    "start_time": "2022-05-17T07:58:05.705Z"
   },
   {
    "duration": 171,
    "start_time": "2022-05-17T07:58:05.857Z"
   },
   {
    "duration": 1154,
    "start_time": "2022-05-17T07:58:06.029Z"
   },
   {
    "duration": 468,
    "start_time": "2022-05-17T08:01:44.253Z"
   },
   {
    "duration": 204,
    "start_time": "2022-05-17T08:02:42.421Z"
   },
   {
    "duration": 288,
    "start_time": "2022-05-17T08:02:51.486Z"
   },
   {
    "duration": 280,
    "start_time": "2022-05-17T08:03:07.170Z"
   },
   {
    "duration": 24,
    "start_time": "2022-05-17T09:11:29.065Z"
   },
   {
    "duration": 26,
    "start_time": "2022-05-17T09:11:53.214Z"
   },
   {
    "duration": 262,
    "start_time": "2022-05-17T09:13:24.221Z"
   },
   {
    "duration": 25,
    "start_time": "2022-05-17T09:14:14.152Z"
   },
   {
    "duration": 771,
    "start_time": "2022-05-17T09:15:52.429Z"
   },
   {
    "duration": 97,
    "start_time": "2022-05-17T09:15:53.202Z"
   },
   {
    "duration": 36,
    "start_time": "2022-05-17T09:15:53.300Z"
   },
   {
    "duration": 28,
    "start_time": "2022-05-17T09:15:53.338Z"
   },
   {
    "duration": 6,
    "start_time": "2022-05-17T09:15:53.368Z"
   },
   {
    "duration": 11,
    "start_time": "2022-05-17T09:15:53.376Z"
   },
   {
    "duration": 18,
    "start_time": "2022-05-17T09:15:53.389Z"
   },
   {
    "duration": 10,
    "start_time": "2022-05-17T09:15:53.409Z"
   },
   {
    "duration": 12,
    "start_time": "2022-05-17T09:15:53.421Z"
   },
   {
    "duration": 13,
    "start_time": "2022-05-17T09:15:53.436Z"
   },
   {
    "duration": 8,
    "start_time": "2022-05-17T09:15:53.451Z"
   },
   {
    "duration": 15,
    "start_time": "2022-05-17T09:15:53.461Z"
   },
   {
    "duration": 13,
    "start_time": "2022-05-17T09:15:53.478Z"
   },
   {
    "duration": 10,
    "start_time": "2022-05-17T09:15:53.492Z"
   },
   {
    "duration": 15,
    "start_time": "2022-05-17T09:15:53.503Z"
   },
   {
    "duration": 12,
    "start_time": "2022-05-17T09:15:53.520Z"
   },
   {
    "duration": 24,
    "start_time": "2022-05-17T09:15:53.533Z"
   },
   {
    "duration": 8,
    "start_time": "2022-05-17T09:15:53.559Z"
   },
   {
    "duration": 38,
    "start_time": "2022-05-17T09:15:53.569Z"
   },
   {
    "duration": 318,
    "start_time": "2022-05-17T09:15:53.609Z"
   },
   {
    "duration": 31,
    "start_time": "2022-05-17T09:15:53.928Z"
   },
   {
    "duration": 9,
    "start_time": "2022-05-17T09:15:53.960Z"
   },
   {
    "duration": 330,
    "start_time": "2022-05-17T09:15:53.971Z"
   },
   {
    "duration": 9,
    "start_time": "2022-05-17T09:15:54.303Z"
   },
   {
    "duration": 275,
    "start_time": "2022-05-17T09:15:54.313Z"
   },
   {
    "duration": 9,
    "start_time": "2022-05-17T09:15:54.590Z"
   },
   {
    "duration": 158,
    "start_time": "2022-05-17T09:15:54.600Z"
   },
   {
    "duration": 6,
    "start_time": "2022-05-17T09:15:54.762Z"
   },
   {
    "duration": 28,
    "start_time": "2022-05-17T09:15:54.769Z"
   },
   {
    "duration": 168,
    "start_time": "2022-05-17T09:15:54.799Z"
   },
   {
    "duration": 13,
    "start_time": "2022-05-17T09:15:54.969Z"
   },
   {
    "duration": 292,
    "start_time": "2022-05-17T09:15:54.984Z"
   },
   {
    "duration": 194,
    "start_time": "2022-05-17T09:15:55.277Z"
   },
   {
    "duration": 29,
    "start_time": "2022-05-17T09:15:55.473Z"
   },
   {
    "duration": 224,
    "start_time": "2022-05-17T09:15:55.504Z"
   },
   {
    "duration": 180,
    "start_time": "2022-05-17T09:15:55.731Z"
   },
   {
    "duration": 240,
    "start_time": "2022-05-17T09:15:55.913Z"
   },
   {
    "duration": 229,
    "start_time": "2022-05-17T09:15:56.155Z"
   },
   {
    "duration": 182,
    "start_time": "2022-05-17T09:15:56.386Z"
   },
   {
    "duration": 181,
    "start_time": "2022-05-17T09:15:56.571Z"
   },
   {
    "duration": 170,
    "start_time": "2022-05-17T09:15:56.757Z"
   },
   {
    "duration": 37,
    "start_time": "2022-05-17T09:15:56.929Z"
   },
   {
    "duration": 34,
    "start_time": "2022-05-17T09:15:56.968Z"
   },
   {
    "duration": 183,
    "start_time": "2022-05-17T09:15:57.004Z"
   },
   {
    "duration": 24,
    "start_time": "2022-05-17T09:15:57.189Z"
   },
   {
    "duration": 174,
    "start_time": "2022-05-17T09:15:57.215Z"
   },
   {
    "duration": 156,
    "start_time": "2022-05-17T09:15:57.391Z"
   },
   {
    "duration": 145,
    "start_time": "2022-05-17T09:15:57.549Z"
   },
   {
    "duration": 165,
    "start_time": "2022-05-17T09:15:57.696Z"
   },
   {
    "duration": 1202,
    "start_time": "2022-05-17T09:15:57.863Z"
   },
   {
    "duration": 217,
    "start_time": "2022-05-17T09:25:33.273Z"
   },
   {
    "duration": 165,
    "start_time": "2022-05-17T09:26:11.144Z"
   },
   {
    "duration": 209,
    "start_time": "2022-05-17T09:26:35.117Z"
   },
   {
    "duration": 207,
    "start_time": "2022-05-17T09:26:55.886Z"
   },
   {
    "duration": 207,
    "start_time": "2022-05-17T09:27:11.351Z"
   },
   {
    "duration": 246,
    "start_time": "2022-05-17T09:27:35.977Z"
   },
   {
    "duration": 206,
    "start_time": "2022-05-17T09:27:51.990Z"
   },
   {
    "duration": 4,
    "start_time": "2022-05-17T09:29:27.321Z"
   },
   {
    "duration": 223,
    "start_time": "2022-05-17T09:30:35.621Z"
   },
   {
    "duration": 198,
    "start_time": "2022-05-17T09:30:47.535Z"
   },
   {
    "duration": 198,
    "start_time": "2022-05-17T09:31:40.574Z"
   },
   {
    "duration": 167,
    "start_time": "2022-05-17T09:32:00.657Z"
   },
   {
    "duration": 217,
    "start_time": "2022-05-17T09:34:11.584Z"
   },
   {
    "duration": 1349,
    "start_time": "2022-05-17T09:36:12.929Z"
   },
   {
    "duration": 83,
    "start_time": "2022-05-17T09:36:14.280Z"
   },
   {
    "duration": 34,
    "start_time": "2022-05-17T09:36:14.365Z"
   },
   {
    "duration": 15,
    "start_time": "2022-05-17T09:36:14.401Z"
   },
   {
    "duration": 18,
    "start_time": "2022-05-17T09:36:14.417Z"
   },
   {
    "duration": 19,
    "start_time": "2022-05-17T09:36:14.437Z"
   },
   {
    "duration": 38,
    "start_time": "2022-05-17T09:36:14.459Z"
   },
   {
    "duration": 9,
    "start_time": "2022-05-17T09:36:14.500Z"
   },
   {
    "duration": 17,
    "start_time": "2022-05-17T09:36:14.511Z"
   },
   {
    "duration": 16,
    "start_time": "2022-05-17T09:36:14.533Z"
   },
   {
    "duration": 11,
    "start_time": "2022-05-17T09:36:14.551Z"
   },
   {
    "duration": 37,
    "start_time": "2022-05-17T09:36:14.563Z"
   },
   {
    "duration": 33,
    "start_time": "2022-05-17T09:36:14.602Z"
   },
   {
    "duration": 19,
    "start_time": "2022-05-17T09:36:14.637Z"
   },
   {
    "duration": 25,
    "start_time": "2022-05-17T09:36:14.657Z"
   },
   {
    "duration": 29,
    "start_time": "2022-05-17T09:36:14.683Z"
   },
   {
    "duration": 9,
    "start_time": "2022-05-17T09:36:14.714Z"
   },
   {
    "duration": 23,
    "start_time": "2022-05-17T09:36:14.724Z"
   },
   {
    "duration": 40,
    "start_time": "2022-05-17T09:36:14.748Z"
   },
   {
    "duration": 320,
    "start_time": "2022-05-17T09:36:14.790Z"
   },
   {
    "duration": 27,
    "start_time": "2022-05-17T09:36:15.112Z"
   },
   {
    "duration": 20,
    "start_time": "2022-05-17T09:36:15.140Z"
   },
   {
    "duration": 297,
    "start_time": "2022-05-17T09:36:15.162Z"
   },
   {
    "duration": 10,
    "start_time": "2022-05-17T09:36:15.461Z"
   },
   {
    "duration": 280,
    "start_time": "2022-05-17T09:36:15.473Z"
   },
   {
    "duration": 9,
    "start_time": "2022-05-17T09:36:15.756Z"
   },
   {
    "duration": 169,
    "start_time": "2022-05-17T09:36:15.767Z"
   },
   {
    "duration": 5,
    "start_time": "2022-05-17T09:36:15.939Z"
   },
   {
    "duration": 35,
    "start_time": "2022-05-17T09:36:15.946Z"
   },
   {
    "duration": 216,
    "start_time": "2022-05-17T09:36:15.982Z"
   },
   {
    "duration": 9,
    "start_time": "2022-05-17T09:36:16.200Z"
   },
   {
    "duration": 263,
    "start_time": "2022-05-17T09:36:16.211Z"
   },
   {
    "duration": 187,
    "start_time": "2022-05-17T09:36:16.475Z"
   },
   {
    "duration": 27,
    "start_time": "2022-05-17T09:36:16.663Z"
   },
   {
    "duration": 222,
    "start_time": "2022-05-17T09:36:16.691Z"
   },
   {
    "duration": 164,
    "start_time": "2022-05-17T09:36:16.915Z"
   },
   {
    "duration": 229,
    "start_time": "2022-05-17T09:36:17.080Z"
   },
   {
    "duration": 149,
    "start_time": "2022-05-17T09:36:17.311Z"
   },
   {
    "duration": 173,
    "start_time": "2022-05-17T09:36:17.461Z"
   },
   {
    "duration": 169,
    "start_time": "2022-05-17T09:36:17.635Z"
   },
   {
    "duration": 158,
    "start_time": "2022-05-17T09:36:17.806Z"
   },
   {
    "duration": 25,
    "start_time": "2022-05-17T09:36:17.965Z"
   },
   {
    "duration": 35,
    "start_time": "2022-05-17T09:36:17.992Z"
   },
   {
    "duration": 261,
    "start_time": "2022-05-17T09:36:18.029Z"
   },
   {
    "duration": 25,
    "start_time": "2022-05-17T09:36:18.291Z"
   },
   {
    "duration": 156,
    "start_time": "2022-05-17T09:36:18.317Z"
   },
   {
    "duration": 156,
    "start_time": "2022-05-17T09:36:18.475Z"
   },
   {
    "duration": 133,
    "start_time": "2022-05-17T09:36:18.633Z"
   },
   {
    "duration": 163,
    "start_time": "2022-05-17T09:36:18.767Z"
   },
   {
    "duration": 1086,
    "start_time": "2022-05-17T09:36:18.932Z"
   },
   {
    "duration": 104,
    "start_time": "2022-05-17T09:39:43.727Z"
   },
   {
    "duration": 10301,
    "start_time": "2022-05-17T09:41:03.686Z"
   },
   {
    "duration": 9372,
    "start_time": "2022-05-17T10:04:38.329Z"
   },
   {
    "duration": 243,
    "start_time": "2022-05-17T10:21:58.789Z"
   },
   {
    "duration": 2216,
    "start_time": "2022-05-17T10:28:57.194Z"
   },
   {
    "duration": 160,
    "start_time": "2022-05-17T10:29:14.341Z"
   },
   {
    "duration": 157,
    "start_time": "2022-05-17T10:30:00.511Z"
   },
   {
    "duration": 9390,
    "start_time": "2022-05-17T10:33:02.966Z"
   },
   {
    "duration": 23,
    "start_time": "2022-05-17T10:41:29.964Z"
   },
   {
    "duration": 1292,
    "start_time": "2022-05-17T10:41:47.064Z"
   },
   {
    "duration": 1573,
    "start_time": "2022-05-17T10:41:48.358Z"
   },
   {
    "duration": 37,
    "start_time": "2022-05-17T10:41:49.933Z"
   },
   {
    "duration": 16,
    "start_time": "2022-05-17T10:41:49.973Z"
   },
   {
    "duration": 5,
    "start_time": "2022-05-17T10:41:49.991Z"
   },
   {
    "duration": 11,
    "start_time": "2022-05-17T10:41:49.997Z"
   },
   {
    "duration": 15,
    "start_time": "2022-05-17T10:41:50.010Z"
   },
   {
    "duration": 30,
    "start_time": "2022-05-17T10:41:50.027Z"
   },
   {
    "duration": 4,
    "start_time": "2022-05-17T10:41:50.059Z"
   },
   {
    "duration": 17,
    "start_time": "2022-05-17T10:41:50.066Z"
   },
   {
    "duration": 16,
    "start_time": "2022-05-17T10:41:50.085Z"
   },
   {
    "duration": 17,
    "start_time": "2022-05-17T10:41:50.103Z"
   },
   {
    "duration": 18,
    "start_time": "2022-05-17T10:41:50.122Z"
   },
   {
    "duration": 8,
    "start_time": "2022-05-17T10:41:50.142Z"
   },
   {
    "duration": 17,
    "start_time": "2022-05-17T10:41:50.152Z"
   },
   {
    "duration": 18,
    "start_time": "2022-05-17T10:41:50.171Z"
   },
   {
    "duration": 5,
    "start_time": "2022-05-17T10:41:50.191Z"
   },
   {
    "duration": 15,
    "start_time": "2022-05-17T10:41:50.198Z"
   },
   {
    "duration": 42,
    "start_time": "2022-05-17T10:41:50.215Z"
   },
   {
    "duration": 336,
    "start_time": "2022-05-17T10:41:50.259Z"
   },
   {
    "duration": 25,
    "start_time": "2022-05-17T10:41:50.597Z"
   },
   {
    "duration": 8,
    "start_time": "2022-05-17T10:41:50.624Z"
   },
   {
    "duration": 331,
    "start_time": "2022-05-17T10:41:50.634Z"
   },
   {
    "duration": 9,
    "start_time": "2022-05-17T10:41:50.967Z"
   },
   {
    "duration": 271,
    "start_time": "2022-05-17T10:41:50.978Z"
   },
   {
    "duration": 9,
    "start_time": "2022-05-17T10:41:51.256Z"
   },
   {
    "duration": 161,
    "start_time": "2022-05-17T10:41:51.266Z"
   },
   {
    "duration": 6,
    "start_time": "2022-05-17T10:41:51.431Z"
   },
   {
    "duration": 25,
    "start_time": "2022-05-17T10:41:51.439Z"
   },
   {
    "duration": 232,
    "start_time": "2022-05-17T10:41:51.466Z"
   },
   {
    "duration": 10,
    "start_time": "2022-05-17T10:41:51.700Z"
   },
   {
    "duration": 271,
    "start_time": "2022-05-17T10:41:51.712Z"
   },
   {
    "duration": 194,
    "start_time": "2022-05-17T10:41:51.985Z"
   },
   {
    "duration": 32,
    "start_time": "2022-05-17T10:41:52.181Z"
   },
   {
    "duration": 235,
    "start_time": "2022-05-17T10:41:52.215Z"
   },
   {
    "duration": 175,
    "start_time": "2022-05-17T10:41:52.457Z"
   },
   {
    "duration": 255,
    "start_time": "2022-05-17T10:41:52.634Z"
   },
   {
    "duration": 163,
    "start_time": "2022-05-17T10:41:52.891Z"
   },
   {
    "duration": 185,
    "start_time": "2022-05-17T10:41:53.057Z"
   },
   {
    "duration": 184,
    "start_time": "2022-05-17T10:41:53.244Z"
   },
   {
    "duration": 163,
    "start_time": "2022-05-17T10:41:53.430Z"
   },
   {
    "duration": 8988,
    "start_time": "2022-05-17T10:41:53.595Z"
   },
   {
    "duration": 30,
    "start_time": "2022-05-17T10:42:02.585Z"
   },
   {
    "duration": 44,
    "start_time": "2022-05-17T10:42:02.617Z"
   },
   {
    "duration": 194,
    "start_time": "2022-05-17T10:42:02.662Z"
   },
   {
    "duration": 28,
    "start_time": "2022-05-17T10:42:02.858Z"
   },
   {
    "duration": 179,
    "start_time": "2022-05-17T10:42:02.888Z"
   },
   {
    "duration": 170,
    "start_time": "2022-05-17T10:42:03.068Z"
   },
   {
    "duration": 165,
    "start_time": "2022-05-17T10:42:03.240Z"
   },
   {
    "duration": 152,
    "start_time": "2022-05-17T10:42:03.407Z"
   },
   {
    "duration": 1095,
    "start_time": "2022-05-17T10:42:03.561Z"
   },
   {
    "duration": 506,
    "start_time": "2022-05-17T10:43:04.320Z"
   },
   {
    "duration": 266,
    "start_time": "2022-05-17T10:43:10.597Z"
   },
   {
    "duration": 158,
    "start_time": "2022-05-17T10:51:52.986Z"
   },
   {
    "duration": 1288,
    "start_time": "2022-05-17T11:16:07.173Z"
   },
   {
    "duration": 93,
    "start_time": "2022-05-17T11:16:08.463Z"
   },
   {
    "duration": 39,
    "start_time": "2022-05-17T11:16:08.558Z"
   },
   {
    "duration": 17,
    "start_time": "2022-05-17T11:16:08.599Z"
   },
   {
    "duration": 9,
    "start_time": "2022-05-17T11:16:08.619Z"
   },
   {
    "duration": 28,
    "start_time": "2022-05-17T11:16:08.630Z"
   },
   {
    "duration": 13,
    "start_time": "2022-05-17T11:16:08.659Z"
   },
   {
    "duration": 9,
    "start_time": "2022-05-17T11:16:08.674Z"
   },
   {
    "duration": 19,
    "start_time": "2022-05-17T11:16:08.684Z"
   },
   {
    "duration": 22,
    "start_time": "2022-05-17T11:16:08.705Z"
   },
   {
    "duration": 22,
    "start_time": "2022-05-17T11:16:08.729Z"
   },
   {
    "duration": 24,
    "start_time": "2022-05-17T11:16:08.752Z"
   },
   {
    "duration": 14,
    "start_time": "2022-05-17T11:16:08.778Z"
   },
   {
    "duration": 6,
    "start_time": "2022-05-17T11:16:08.797Z"
   },
   {
    "duration": 14,
    "start_time": "2022-05-17T11:16:08.805Z"
   },
   {
    "duration": 23,
    "start_time": "2022-05-17T11:16:08.821Z"
   },
   {
    "duration": 11,
    "start_time": "2022-05-17T11:16:08.846Z"
   },
   {
    "duration": 9,
    "start_time": "2022-05-17T11:16:08.860Z"
   },
   {
    "duration": 36,
    "start_time": "2022-05-17T11:16:08.871Z"
   },
   {
    "duration": 359,
    "start_time": "2022-05-17T11:16:08.908Z"
   },
   {
    "duration": 27,
    "start_time": "2022-05-17T11:16:09.269Z"
   },
   {
    "duration": 9,
    "start_time": "2022-05-17T11:16:09.298Z"
   },
   {
    "duration": 300,
    "start_time": "2022-05-17T11:16:09.309Z"
   },
   {
    "duration": 9,
    "start_time": "2022-05-17T11:16:09.611Z"
   },
   {
    "duration": 278,
    "start_time": "2022-05-17T11:16:09.622Z"
   },
   {
    "duration": 9,
    "start_time": "2022-05-17T11:16:09.902Z"
   },
   {
    "duration": 168,
    "start_time": "2022-05-17T11:16:09.913Z"
   },
   {
    "duration": 6,
    "start_time": "2022-05-17T11:16:10.083Z"
   },
   {
    "duration": 13,
    "start_time": "2022-05-17T11:16:10.091Z"
   },
   {
    "duration": 248,
    "start_time": "2022-05-17T11:16:10.106Z"
   },
   {
    "duration": 11,
    "start_time": "2022-05-17T11:16:10.357Z"
   },
   {
    "duration": 279,
    "start_time": "2022-05-17T11:16:10.370Z"
   },
   {
    "duration": 196,
    "start_time": "2022-05-17T11:16:10.656Z"
   },
   {
    "duration": 30,
    "start_time": "2022-05-17T11:16:10.856Z"
   },
   {
    "duration": 233,
    "start_time": "2022-05-17T11:16:10.889Z"
   },
   {
    "duration": 174,
    "start_time": "2022-05-17T11:16:11.124Z"
   },
   {
    "duration": 248,
    "start_time": "2022-05-17T11:16:11.301Z"
   },
   {
    "duration": 153,
    "start_time": "2022-05-17T11:16:11.551Z"
   },
   {
    "duration": 176,
    "start_time": "2022-05-17T11:16:11.706Z"
   },
   {
    "duration": 165,
    "start_time": "2022-05-17T11:16:11.883Z"
   },
   {
    "duration": 165,
    "start_time": "2022-05-17T11:16:12.058Z"
   },
   {
    "duration": 9315,
    "start_time": "2022-05-17T11:16:12.225Z"
   },
   {
    "duration": 33,
    "start_time": "2022-05-17T11:16:21.542Z"
   },
   {
    "duration": 26,
    "start_time": "2022-05-17T11:16:21.577Z"
   },
   {
    "duration": 204,
    "start_time": "2022-05-17T11:16:21.605Z"
   },
   {
    "duration": 26,
    "start_time": "2022-05-17T11:16:21.811Z"
   },
   {
    "duration": 282,
    "start_time": "2022-05-17T11:16:21.839Z"
   },
   {
    "duration": 291,
    "start_time": "2022-05-17T11:16:22.123Z"
   },
   {
    "duration": 162,
    "start_time": "2022-05-17T11:16:22.416Z"
   },
   {
    "duration": 160,
    "start_time": "2022-05-17T11:16:22.579Z"
   },
   {
    "duration": 1132,
    "start_time": "2022-05-17T11:16:22.741Z"
   }
  ],
  "kernelspec": {
   "display_name": "Python 3 (ipykernel)",
   "language": "python",
   "name": "python3"
  },
  "language_info": {
   "codemirror_mode": {
    "name": "ipython",
    "version": 3
   },
   "file_extension": ".py",
   "mimetype": "text/x-python",
   "name": "python",
   "nbconvert_exporter": "python",
   "pygments_lexer": "ipython3",
   "version": "3.9.7"
  },
  "toc": {
   "base_numbering": 1,
   "nav_menu": {},
   "number_sections": true,
   "sideBar": true,
   "skip_h1_title": true,
   "title_cell": "Содержание",
   "title_sidebar": "Contents",
   "toc_cell": true,
   "toc_position": {
    "height": "calc(100% - 180px)",
    "left": "10px",
    "top": "150px",
    "width": "299.391px"
   },
   "toc_section_display": true,
   "toc_window_display": true
  }
 },
 "nbformat": 4,
 "nbformat_minor": 4
}
