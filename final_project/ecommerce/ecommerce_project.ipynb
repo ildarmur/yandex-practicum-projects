{
 "cells": [
  {
   "cell_type": "markdown",
   "metadata": {},
   "source": [
    "# Выявление профилей потребления клиентов интернет-магазина"
   ]
  },
  {
   "cell_type": "markdown",
   "metadata": {},
   "source": [
    "Цель - подготовить персонализированные предложения для клиентов для увеличения выручки. Заказчик - менеджер, отвечающий за пользовательский опыт. На основе анализа нужно предложить решения по персонализированным предложениям для повышения выручки."
   ]
  },
  {
   "cell_type": "markdown",
   "metadata": {},
   "source": [
    "**Задачи:**\n",
    "\n",
    "- Провести исследовательский анализ данных;\n",
    "- Сегментировать покупателей на основе истории их покупок;\n",
    "- Сформулировать и проверить статистические гипотезы."
   ]
  },
  {
   "cell_type": "markdown",
   "metadata": {},
   "source": [
    "**Описание данных:**\n",
    "\n",
    "Датасет описывает транзакции интернет-магазина товаров для дома и быта «Пока все ещё тут».\n",
    "\n",
    "Колонки в  *ecommerce_dataset.csv* :\n",
    "\n",
    "- `date` — дата заказа;\n",
    "- `customer_id` — идентификатор покупателя;\n",
    "- `order_id` — идентификатор заказа;\n",
    "- `product` — наименование товара;\n",
    "- `quantity` — количество товара в заказе;\n",
    "- `price` — цена товара."
   ]
  },
  {
   "cell_type": "markdown",
   "metadata": {},
   "source": [
    "## Предобработка данных"
   ]
  },
  {
   "cell_type": "code",
   "execution_count": 1,
   "metadata": {},
   "outputs": [],
   "source": [
    "import pandas as pd\n",
    "import os\n",
    "from matplotlib import pyplot as plt\n",
    "from datetime import datetime\n",
    "import numpy as np\n",
    "import scipy.stats as st\n",
    "import math as mth\n",
    "import seaborn as sns\n",
    "import plotly.express as px\n",
    "from plotly import graph_objects as go\n",
    "from textwrap import fill\n",
    "\n",
    "from pymystem3 import Mystem\n",
    "import nltk\n",
    "\n",
    "pd.set_option('display.max_colwidth', None)"
   ]
  },
  {
   "cell_type": "code",
   "execution_count": 2,
   "metadata": {},
   "outputs": [],
   "source": [
    "def read_file(file_name):\n",
    "    path1 = os.path.join('/datasets', file_name)\n",
    "    path2 = os.path.join(file_name)\n",
    "    if os.path.exists(path1):\n",
    "        df = pd.read_csv(path1)\n",
    "        return df\n",
    "    elif os.path.exists(path2):\n",
    "        df = pd.read_csv(path2,)\n",
    "        return df\n",
    "    else:\n",
    "        print('File is not found')"
   ]
  },
  {
   "cell_type": "code",
   "execution_count": 3,
   "metadata": {},
   "outputs": [],
   "source": [
    "def initial_analysis(df):\n",
    "    df.info(),\n",
    "    display(df.head(10)),\n",
    "    display(df.describe())"
   ]
  },
  {
   "cell_type": "code",
   "execution_count": 4,
   "metadata": {},
   "outputs": [],
   "source": [
    "df = read_file('/datasets/ecommerce_dataset.csv')"
   ]
  },
  {
   "cell_type": "code",
   "execution_count": 5,
   "metadata": {},
   "outputs": [
    {
     "name": "stdout",
     "output_type": "stream",
     "text": [
      "<class 'pandas.core.frame.DataFrame'>\n",
      "RangeIndex: 6737 entries, 0 to 6736\n",
      "Data columns (total 6 columns):\n",
      " #   Column       Non-Null Count  Dtype  \n",
      "---  ------       --------------  -----  \n",
      " 0   date         6737 non-null   int64  \n",
      " 1   customer_id  6737 non-null   object \n",
      " 2   order_id     6737 non-null   int64  \n",
      " 3   product      6737 non-null   object \n",
      " 4   quantity     6737 non-null   int64  \n",
      " 5   price        6737 non-null   float64\n",
      "dtypes: float64(1), int64(3), object(2)\n",
      "memory usage: 315.9+ KB\n"
     ]
    },
    {
     "data": {
      "text/html": [
       "<div>\n",
       "<style scoped>\n",
       "    .dataframe tbody tr th:only-of-type {\n",
       "        vertical-align: middle;\n",
       "    }\n",
       "\n",
       "    .dataframe tbody tr th {\n",
       "        vertical-align: top;\n",
       "    }\n",
       "\n",
       "    .dataframe thead th {\n",
       "        text-align: right;\n",
       "    }\n",
       "</style>\n",
       "<table border=\"1\" class=\"dataframe\">\n",
       "  <thead>\n",
       "    <tr style=\"text-align: right;\">\n",
       "      <th></th>\n",
       "      <th>date</th>\n",
       "      <th>customer_id</th>\n",
       "      <th>order_id</th>\n",
       "      <th>product</th>\n",
       "      <th>quantity</th>\n",
       "      <th>price</th>\n",
       "    </tr>\n",
       "  </thead>\n",
       "  <tbody>\n",
       "    <tr>\n",
       "      <th>0</th>\n",
       "      <td>2018100100</td>\n",
       "      <td>ee47d746-6d2f-4d3c-9622-c31412542920</td>\n",
       "      <td>68477</td>\n",
       "      <td>Комнатное растение в горшке Алое Вера, d12, h30</td>\n",
       "      <td>1</td>\n",
       "      <td>142.0</td>\n",
       "    </tr>\n",
       "    <tr>\n",
       "      <th>1</th>\n",
       "      <td>2018100100</td>\n",
       "      <td>ee47d746-6d2f-4d3c-9622-c31412542920</td>\n",
       "      <td>68477</td>\n",
       "      <td>Комнатное растение в горшке Кофе Арабика, d12, h25</td>\n",
       "      <td>1</td>\n",
       "      <td>194.0</td>\n",
       "    </tr>\n",
       "    <tr>\n",
       "      <th>2</th>\n",
       "      <td>2018100100</td>\n",
       "      <td>ee47d746-6d2f-4d3c-9622-c31412542920</td>\n",
       "      <td>68477</td>\n",
       "      <td>Радермахера d-12 см h-20 см</td>\n",
       "      <td>1</td>\n",
       "      <td>112.0</td>\n",
       "    </tr>\n",
       "    <tr>\n",
       "      <th>3</th>\n",
       "      <td>2018100100</td>\n",
       "      <td>ee47d746-6d2f-4d3c-9622-c31412542920</td>\n",
       "      <td>68477</td>\n",
       "      <td>Хризолидокарпус Лутесценс d-9 см</td>\n",
       "      <td>1</td>\n",
       "      <td>179.0</td>\n",
       "    </tr>\n",
       "    <tr>\n",
       "      <th>4</th>\n",
       "      <td>2018100100</td>\n",
       "      <td>ee47d746-6d2f-4d3c-9622-c31412542920</td>\n",
       "      <td>68477</td>\n",
       "      <td>Циперус Зумула d-12 см h-25 см</td>\n",
       "      <td>1</td>\n",
       "      <td>112.0</td>\n",
       "    </tr>\n",
       "    <tr>\n",
       "      <th>5</th>\n",
       "      <td>2018100100</td>\n",
       "      <td>ee47d746-6d2f-4d3c-9622-c31412542920</td>\n",
       "      <td>68477</td>\n",
       "      <td>Шеффлера Лузеана d-9 см</td>\n",
       "      <td>1</td>\n",
       "      <td>164.0</td>\n",
       "    </tr>\n",
       "    <tr>\n",
       "      <th>6</th>\n",
       "      <td>2018100100</td>\n",
       "      <td>ee47d746-6d2f-4d3c-9622-c31412542920</td>\n",
       "      <td>68477</td>\n",
       "      <td>Юкка нитчатая d-12 см h-25-35 см</td>\n",
       "      <td>1</td>\n",
       "      <td>134.0</td>\n",
       "    </tr>\n",
       "    <tr>\n",
       "      <th>7</th>\n",
       "      <td>2018100108</td>\n",
       "      <td>375e0724-f033-4c76-b579-84969cf38ee2</td>\n",
       "      <td>68479</td>\n",
       "      <td>Настенная сушилка для белья Gimi Brio Super 100</td>\n",
       "      <td>1</td>\n",
       "      <td>824.0</td>\n",
       "    </tr>\n",
       "    <tr>\n",
       "      <th>8</th>\n",
       "      <td>2018100108</td>\n",
       "      <td>6644e5b4-9934-4863-9778-aaa125207701</td>\n",
       "      <td>68478</td>\n",
       "      <td>Таз пластмассовый 21,0 л круглый \"Водолей\" С614, 1404056</td>\n",
       "      <td>1</td>\n",
       "      <td>269.0</td>\n",
       "    </tr>\n",
       "    <tr>\n",
       "      <th>9</th>\n",
       "      <td>2018100109</td>\n",
       "      <td>c971fb21-d54c-4134-938f-16b62ee86d3b</td>\n",
       "      <td>68480</td>\n",
       "      <td>Чехол для гладильной доски Colombo Persia Beige 130х50 см из хлопка 5379</td>\n",
       "      <td>1</td>\n",
       "      <td>674.0</td>\n",
       "    </tr>\n",
       "  </tbody>\n",
       "</table>\n",
       "</div>"
      ],
      "text/plain": [
       "         date                           customer_id  order_id  \\\n",
       "0  2018100100  ee47d746-6d2f-4d3c-9622-c31412542920     68477   \n",
       "1  2018100100  ee47d746-6d2f-4d3c-9622-c31412542920     68477   \n",
       "2  2018100100  ee47d746-6d2f-4d3c-9622-c31412542920     68477   \n",
       "3  2018100100  ee47d746-6d2f-4d3c-9622-c31412542920     68477   \n",
       "4  2018100100  ee47d746-6d2f-4d3c-9622-c31412542920     68477   \n",
       "5  2018100100  ee47d746-6d2f-4d3c-9622-c31412542920     68477   \n",
       "6  2018100100  ee47d746-6d2f-4d3c-9622-c31412542920     68477   \n",
       "7  2018100108  375e0724-f033-4c76-b579-84969cf38ee2     68479   \n",
       "8  2018100108  6644e5b4-9934-4863-9778-aaa125207701     68478   \n",
       "9  2018100109  c971fb21-d54c-4134-938f-16b62ee86d3b     68480   \n",
       "\n",
       "                                                                    product  \\\n",
       "0                           Комнатное растение в горшке Алое Вера, d12, h30   \n",
       "1                        Комнатное растение в горшке Кофе Арабика, d12, h25   \n",
       "2                                               Радермахера d-12 см h-20 см   \n",
       "3                                          Хризолидокарпус Лутесценс d-9 см   \n",
       "4                                            Циперус Зумула d-12 см h-25 см   \n",
       "5                                                   Шеффлера Лузеана d-9 см   \n",
       "6                                          Юкка нитчатая d-12 см h-25-35 см   \n",
       "7                           Настенная сушилка для белья Gimi Brio Super 100   \n",
       "8                  Таз пластмассовый 21,0 л круглый \"Водолей\" С614, 1404056   \n",
       "9  Чехол для гладильной доски Colombo Persia Beige 130х50 см из хлопка 5379   \n",
       "\n",
       "   quantity  price  \n",
       "0         1  142.0  \n",
       "1         1  194.0  \n",
       "2         1  112.0  \n",
       "3         1  179.0  \n",
       "4         1  112.0  \n",
       "5         1  164.0  \n",
       "6         1  134.0  \n",
       "7         1  824.0  \n",
       "8         1  269.0  \n",
       "9         1  674.0  "
      ]
     },
     "metadata": {},
     "output_type": "display_data"
    },
    {
     "data": {
      "text/html": [
       "<div>\n",
       "<style scoped>\n",
       "    .dataframe tbody tr th:only-of-type {\n",
       "        vertical-align: middle;\n",
       "    }\n",
       "\n",
       "    .dataframe tbody tr th {\n",
       "        vertical-align: top;\n",
       "    }\n",
       "\n",
       "    .dataframe thead th {\n",
       "        text-align: right;\n",
       "    }\n",
       "</style>\n",
       "<table border=\"1\" class=\"dataframe\">\n",
       "  <thead>\n",
       "    <tr style=\"text-align: right;\">\n",
       "      <th></th>\n",
       "      <th>date</th>\n",
       "      <th>order_id</th>\n",
       "      <th>quantity</th>\n",
       "      <th>price</th>\n",
       "    </tr>\n",
       "  </thead>\n",
       "  <tbody>\n",
       "    <tr>\n",
       "      <th>count</th>\n",
       "      <td>6.737000e+03</td>\n",
       "      <td>6737.000000</td>\n",
       "      <td>6737.000000</td>\n",
       "      <td>6737.000000</td>\n",
       "    </tr>\n",
       "    <tr>\n",
       "      <th>mean</th>\n",
       "      <td>2.018855e+09</td>\n",
       "      <td>43128.948345</td>\n",
       "      <td>2.501559</td>\n",
       "      <td>462.028499</td>\n",
       "    </tr>\n",
       "    <tr>\n",
       "      <th>std</th>\n",
       "      <td>3.855185e+05</td>\n",
       "      <td>27899.414662</td>\n",
       "      <td>15.266478</td>\n",
       "      <td>871.296064</td>\n",
       "    </tr>\n",
       "    <tr>\n",
       "      <th>min</th>\n",
       "      <td>2.018100e+09</td>\n",
       "      <td>12624.000000</td>\n",
       "      <td>1.000000</td>\n",
       "      <td>9.000000</td>\n",
       "    </tr>\n",
       "    <tr>\n",
       "      <th>25%</th>\n",
       "      <td>2.019020e+09</td>\n",
       "      <td>14827.000000</td>\n",
       "      <td>1.000000</td>\n",
       "      <td>101.000000</td>\n",
       "    </tr>\n",
       "    <tr>\n",
       "      <th>50%</th>\n",
       "      <td>2.019050e+09</td>\n",
       "      <td>68503.000000</td>\n",
       "      <td>1.000000</td>\n",
       "      <td>135.000000</td>\n",
       "    </tr>\n",
       "    <tr>\n",
       "      <th>75%</th>\n",
       "      <td>2.019061e+09</td>\n",
       "      <td>70504.000000</td>\n",
       "      <td>1.000000</td>\n",
       "      <td>398.000000</td>\n",
       "    </tr>\n",
       "    <tr>\n",
       "      <th>max</th>\n",
       "      <td>2.019103e+09</td>\n",
       "      <td>73164.000000</td>\n",
       "      <td>1000.000000</td>\n",
       "      <td>14917.000000</td>\n",
       "    </tr>\n",
       "  </tbody>\n",
       "</table>\n",
       "</div>"
      ],
      "text/plain": [
       "               date      order_id     quantity         price\n",
       "count  6.737000e+03   6737.000000  6737.000000   6737.000000\n",
       "mean   2.018855e+09  43128.948345     2.501559    462.028499\n",
       "std    3.855185e+05  27899.414662    15.266478    871.296064\n",
       "min    2.018100e+09  12624.000000     1.000000      9.000000\n",
       "25%    2.019020e+09  14827.000000     1.000000    101.000000\n",
       "50%    2.019050e+09  68503.000000     1.000000    135.000000\n",
       "75%    2.019061e+09  70504.000000     1.000000    398.000000\n",
       "max    2.019103e+09  73164.000000  1000.000000  14917.000000"
      ]
     },
     "metadata": {},
     "output_type": "display_data"
    }
   ],
   "source": [
    "initial_analysis(df)"
   ]
  },
  {
   "cell_type": "code",
   "execution_count": 6,
   "metadata": {},
   "outputs": [
    {
     "data": {
      "text/plain": [
       "0"
      ]
     },
     "execution_count": 6,
     "metadata": {},
     "output_type": "execute_result"
    }
   ],
   "source": [
    "# проверяем наличие дубликатов\n",
    "df.duplicated().sum()"
   ]
  },
  {
   "cell_type": "code",
   "execution_count": 7,
   "metadata": {
    "scrolled": false
   },
   "outputs": [],
   "source": [
    "# преобразование данных о времени\n",
    "df['date'] = pd.to_datetime(df['date'], format='%Y%m%d%H')"
   ]
  },
  {
   "cell_type": "code",
   "execution_count": 8,
   "metadata": {
    "scrolled": true
   },
   "outputs": [
    {
     "data": {
      "text/html": [
       "<div>\n",
       "<style scoped>\n",
       "    .dataframe tbody tr th:only-of-type {\n",
       "        vertical-align: middle;\n",
       "    }\n",
       "\n",
       "    .dataframe tbody tr th {\n",
       "        vertical-align: top;\n",
       "    }\n",
       "\n",
       "    .dataframe thead th {\n",
       "        text-align: right;\n",
       "    }\n",
       "</style>\n",
       "<table border=\"1\" class=\"dataframe\">\n",
       "  <thead>\n",
       "    <tr style=\"text-align: right;\">\n",
       "      <th></th>\n",
       "      <th>date</th>\n",
       "      <th>customer_id</th>\n",
       "      <th>order_id</th>\n",
       "      <th>product</th>\n",
       "      <th>quantity</th>\n",
       "      <th>price</th>\n",
       "    </tr>\n",
       "  </thead>\n",
       "  <tbody>\n",
       "    <tr>\n",
       "      <th>5456</th>\n",
       "      <td>2019-06-18 15:00:00</td>\n",
       "      <td>312e9a3e-5fca-43ff-a6a1-892d2b2d5ba6</td>\n",
       "      <td>71743</td>\n",
       "      <td>Вантуз с деревянной ручкой d14 см красный, Burstenmann, 0522/0000</td>\n",
       "      <td>1000</td>\n",
       "      <td>675.0</td>\n",
       "    </tr>\n",
       "    <tr>\n",
       "      <th>5071</th>\n",
       "      <td>2019-06-11 07:00:00</td>\n",
       "      <td>146cd9bf-a95c-4afb-915b-5f6684b17444</td>\n",
       "      <td>71668</td>\n",
       "      <td>Вешалки мягкие для деликатных вещей 3 шт шоколад</td>\n",
       "      <td>334</td>\n",
       "      <td>148.0</td>\n",
       "    </tr>\n",
       "    <tr>\n",
       "      <th>3961</th>\n",
       "      <td>2019-05-20 21:00:00</td>\n",
       "      <td>5d189e88-d4d6-4eac-ab43-fa65a3c4d106</td>\n",
       "      <td>71478</td>\n",
       "      <td>Муляж ЯБЛОКО 9 см красное</td>\n",
       "      <td>300</td>\n",
       "      <td>51.0</td>\n",
       "    </tr>\n",
       "    <tr>\n",
       "      <th>1158</th>\n",
       "      <td>2018-12-10 14:00:00</td>\n",
       "      <td>a984c5b7-ff7e-4647-b84e-ef0b85a2762d</td>\n",
       "      <td>69289</td>\n",
       "      <td>Ручка-скоба РС-100 белая *Трибатрон*, 1108035</td>\n",
       "      <td>200</td>\n",
       "      <td>29.0</td>\n",
       "    </tr>\n",
       "    <tr>\n",
       "      <th>568</th>\n",
       "      <td>2018-11-01 08:00:00</td>\n",
       "      <td>aa42dc38-780f-4b50-9a65-83b6fa64e766</td>\n",
       "      <td>68815</td>\n",
       "      <td>Муляж ЯБЛОКО 9 см красное</td>\n",
       "      <td>170</td>\n",
       "      <td>51.0</td>\n",
       "    </tr>\n",
       "  </tbody>\n",
       "</table>\n",
       "</div>"
      ],
      "text/plain": [
       "                    date                           customer_id  order_id  \\\n",
       "5456 2019-06-18 15:00:00  312e9a3e-5fca-43ff-a6a1-892d2b2d5ba6     71743   \n",
       "5071 2019-06-11 07:00:00  146cd9bf-a95c-4afb-915b-5f6684b17444     71668   \n",
       "3961 2019-05-20 21:00:00  5d189e88-d4d6-4eac-ab43-fa65a3c4d106     71478   \n",
       "1158 2018-12-10 14:00:00  a984c5b7-ff7e-4647-b84e-ef0b85a2762d     69289   \n",
       "568  2018-11-01 08:00:00  aa42dc38-780f-4b50-9a65-83b6fa64e766     68815   \n",
       "\n",
       "                                                                product  \\\n",
       "5456  Вантуз с деревянной ручкой d14 см красный, Burstenmann, 0522/0000   \n",
       "5071                   Вешалки мягкие для деликатных вещей 3 шт шоколад   \n",
       "3961                                          Муляж ЯБЛОКО 9 см красное   \n",
       "1158                      Ручка-скоба РС-100 белая *Трибатрон*, 1108035   \n",
       "568                                           Муляж ЯБЛОКО 9 см красное   \n",
       "\n",
       "      quantity  price  \n",
       "5456      1000  675.0  \n",
       "5071       334  148.0  \n",
       "3961       300   51.0  \n",
       "1158       200   29.0  \n",
       "568        170   51.0  "
      ]
     },
     "execution_count": 8,
     "metadata": {},
     "output_type": "execute_result"
    }
   ],
   "source": [
    "# смотрим на самые большие покупки\n",
    "df.sort_values(by='quantity', ascending=False).head(5)"
   ]
  },
  {
   "cell_type": "markdown",
   "metadata": {},
   "source": [
    "**Проверим, все ли заказы являются уникальными**"
   ]
  },
  {
   "cell_type": "code",
   "execution_count": 9,
   "metadata": {},
   "outputs": [
    {
     "data": {
      "text/html": [
       "<div>\n",
       "<style scoped>\n",
       "    .dataframe tbody tr th:only-of-type {\n",
       "        vertical-align: middle;\n",
       "    }\n",
       "\n",
       "    .dataframe tbody tr th {\n",
       "        vertical-align: top;\n",
       "    }\n",
       "\n",
       "    .dataframe thead th {\n",
       "        text-align: right;\n",
       "    }\n",
       "</style>\n",
       "<table border=\"1\" class=\"dataframe\">\n",
       "  <thead>\n",
       "    <tr style=\"text-align: right;\">\n",
       "      <th></th>\n",
       "      <th>order_id</th>\n",
       "      <th>customers</th>\n",
       "      <th>date</th>\n",
       "    </tr>\n",
       "  </thead>\n",
       "  <tbody>\n",
       "    <tr>\n",
       "      <th>2610</th>\n",
       "      <td>72845</td>\n",
       "      <td>4</td>\n",
       "      <td>4</td>\n",
       "    </tr>\n",
       "    <tr>\n",
       "      <th>1914</th>\n",
       "      <td>71480</td>\n",
       "      <td>3</td>\n",
       "      <td>3</td>\n",
       "    </tr>\n",
       "    <tr>\n",
       "      <th>902</th>\n",
       "      <td>69485</td>\n",
       "      <td>3</td>\n",
       "      <td>3</td>\n",
       "    </tr>\n",
       "    <tr>\n",
       "      <th>817</th>\n",
       "      <td>69310</td>\n",
       "      <td>2</td>\n",
       "      <td>4</td>\n",
       "    </tr>\n",
       "    <tr>\n",
       "      <th>1066</th>\n",
       "      <td>69833</td>\n",
       "      <td>2</td>\n",
       "      <td>2</td>\n",
       "    </tr>\n",
       "  </tbody>\n",
       "</table>\n",
       "</div>"
      ],
      "text/plain": [
       "      order_id  customers  date\n",
       "2610     72845          4     4\n",
       "1914     71480          3     3\n",
       "902      69485          3     3\n",
       "817      69310          2     4\n",
       "1066     69833          2     2"
      ]
     },
     "execution_count": 9,
     "metadata": {},
     "output_type": "execute_result"
    }
   ],
   "source": [
    "# строим таблицу с уникальными заказами, числом покупателей и количеством оформлений заказа\n",
    "orders = (\n",
    "    df.groupby('order_id')\n",
    "    .agg({'customer_id': 'nunique', 'date': 'nunique'})\n",
    "    .rename(columns={'customer_id': 'customers'})\n",
    "    .reset_index()\n",
    ")\n",
    "\n",
    "orders.sort_values(by='customers', ascending=False).head()"
   ]
  },
  {
   "cell_type": "markdown",
   "metadata": {},
   "source": [
    "У заказов с одинаковым id может быть несколько покупателей и оформлен он может быть в разные даты. Скорее всего здесь имеет место техническая ошибка, в результате которой неверно генерируется id у некоторых заказов. Проверим количество таких заказов."
   ]
  },
  {
   "cell_type": "code",
   "execution_count": 10,
   "metadata": {
    "scrolled": false
   },
   "outputs": [
    {
     "data": {
      "text/plain": [
       "'Количество сомнительных заказов:'"
      ]
     },
     "metadata": {},
     "output_type": "display_data"
    },
    {
     "data": {
      "text/plain": [
       "285"
      ]
     },
     "metadata": {},
     "output_type": "display_data"
    }
   ],
   "source": [
    "bad_orders = orders.query('customers > 1 or date > 1')['order_id']\n",
    "\n",
    "display('Количество сомнительных заказов:', len(bad_orders))"
   ]
  },
  {
   "cell_type": "markdown",
   "metadata": {},
   "source": [
    "Удалим дублирующиеся заказы, оставив последний по дате заказ."
   ]
  },
  {
   "cell_type": "code",
   "execution_count": 11,
   "metadata": {
    "scrolled": true
   },
   "outputs": [],
   "source": [
    "# получаем пары \"номер заказа\" - \"последняя дата оформления\" \n",
    "good_orders = (df.query('order_id in @bad_orders')\n",
    "    .sort_values(by=['order_id', 'date'])\n",
    "    .groupby(['order_id'])\n",
    "    .agg({'date': 'last'})\n",
    "    .astype(str)\n",
    ")\n",
    "\n",
    "# преобразуем в словарь\n",
    "good_orders = dict(zip(list(good_orders.index), list(good_orders['date'])))"
   ]
  },
  {
   "cell_type": "code",
   "execution_count": 12,
   "metadata": {},
   "outputs": [
    {
     "data": {
      "text/plain": [
       "1956"
      ]
     },
     "execution_count": 12,
     "metadata": {},
     "output_type": "execute_result"
    }
   ],
   "source": [
    "# получаем список индексов дублирующихся заказов \n",
    "index_names = []\n",
    "for o, d in good_orders.items():\n",
    "    index_names.extend(df[(df['order_id'] == o) & (df['date'] != d)].index)\n",
    "        \n",
    "len(index_names)"
   ]
  },
  {
   "cell_type": "code",
   "execution_count": 13,
   "metadata": {},
   "outputs": [],
   "source": [
    "# удаляем дубликаты\n",
    "df.drop(index_names, inplace = True)"
   ]
  },
  {
   "cell_type": "code",
   "execution_count": 14,
   "metadata": {
    "scrolled": true
   },
   "outputs": [
    {
     "data": {
      "text/html": [
       "<div>\n",
       "<style scoped>\n",
       "    .dataframe tbody tr th:only-of-type {\n",
       "        vertical-align: middle;\n",
       "    }\n",
       "\n",
       "    .dataframe tbody tr th {\n",
       "        vertical-align: top;\n",
       "    }\n",
       "\n",
       "    .dataframe thead th {\n",
       "        text-align: right;\n",
       "    }\n",
       "</style>\n",
       "<table border=\"1\" class=\"dataframe\">\n",
       "  <thead>\n",
       "    <tr style=\"text-align: right;\">\n",
       "      <th></th>\n",
       "      <th>order_id</th>\n",
       "      <th>customers</th>\n",
       "      <th>date</th>\n",
       "    </tr>\n",
       "  </thead>\n",
       "  <tbody>\n",
       "    <tr>\n",
       "      <th>1956</th>\n",
       "      <td>71571</td>\n",
       "      <td>2</td>\n",
       "      <td>1</td>\n",
       "    </tr>\n",
       "    <tr>\n",
       "      <th>0</th>\n",
       "      <td>12624</td>\n",
       "      <td>1</td>\n",
       "      <td>1</td>\n",
       "    </tr>\n",
       "    <tr>\n",
       "      <th>1859</th>\n",
       "      <td>71347</td>\n",
       "      <td>1</td>\n",
       "      <td>1</td>\n",
       "    </tr>\n",
       "    <tr>\n",
       "      <th>1851</th>\n",
       "      <td>71330</td>\n",
       "      <td>1</td>\n",
       "      <td>1</td>\n",
       "    </tr>\n",
       "    <tr>\n",
       "      <th>1852</th>\n",
       "      <td>71331</td>\n",
       "      <td>1</td>\n",
       "      <td>1</td>\n",
       "    </tr>\n",
       "  </tbody>\n",
       "</table>\n",
       "</div>"
      ],
      "text/plain": [
       "      order_id  customers  date\n",
       "1956     71571          2     1\n",
       "0        12624          1     1\n",
       "1859     71347          1     1\n",
       "1851     71330          1     1\n",
       "1852     71331          1     1"
      ]
     },
     "execution_count": 14,
     "metadata": {},
     "output_type": "execute_result"
    }
   ],
   "source": [
    "# снова проверяем наличие дубликатов заказов\n",
    "orders = (\n",
    "    df.groupby('order_id')\n",
    "    .agg({'customer_id': 'nunique', 'date': 'nunique'})\n",
    "    .rename(columns={'customer_id': 'customers'})\n",
    "    .reset_index()\n",
    ")\n",
    "\n",
    "orders.sort_values(by='customers', ascending=False).head()"
   ]
  },
  {
   "cell_type": "code",
   "execution_count": 15,
   "metadata": {
    "scrolled": false
   },
   "outputs": [
    {
     "data": {
      "text/html": [
       "<div>\n",
       "<style scoped>\n",
       "    .dataframe tbody tr th:only-of-type {\n",
       "        vertical-align: middle;\n",
       "    }\n",
       "\n",
       "    .dataframe tbody tr th {\n",
       "        vertical-align: top;\n",
       "    }\n",
       "\n",
       "    .dataframe thead th {\n",
       "        text-align: right;\n",
       "    }\n",
       "</style>\n",
       "<table border=\"1\" class=\"dataframe\">\n",
       "  <thead>\n",
       "    <tr style=\"text-align: right;\">\n",
       "      <th></th>\n",
       "      <th>date</th>\n",
       "      <th>customer_id</th>\n",
       "      <th>order_id</th>\n",
       "      <th>product</th>\n",
       "      <th>quantity</th>\n",
       "      <th>price</th>\n",
       "    </tr>\n",
       "  </thead>\n",
       "  <tbody>\n",
       "    <tr>\n",
       "      <th>4297</th>\n",
       "      <td>2019-06-02 10:00:00</td>\n",
       "      <td>f1222eaa-d09d-4bff-ab4e-bea6fe3f68a8</td>\n",
       "      <td>71571</td>\n",
       "      <td>Бегония Элатиор, цвет в ассортименте</td>\n",
       "      <td>1</td>\n",
       "      <td>187.0</td>\n",
       "    </tr>\n",
       "    <tr>\n",
       "      <th>4298</th>\n",
       "      <td>2019-06-02 10:00:00</td>\n",
       "      <td>95872093-2887-4ce8-8468-19234990e7d7</td>\n",
       "      <td>71571</td>\n",
       "      <td>Бегония Элатиор, цвет в ассортименте</td>\n",
       "      <td>1</td>\n",
       "      <td>187.0</td>\n",
       "    </tr>\n",
       "  </tbody>\n",
       "</table>\n",
       "</div>"
      ],
      "text/plain": [
       "                    date                           customer_id  order_id  \\\n",
       "4297 2019-06-02 10:00:00  f1222eaa-d09d-4bff-ab4e-bea6fe3f68a8     71571   \n",
       "4298 2019-06-02 10:00:00  95872093-2887-4ce8-8468-19234990e7d7     71571   \n",
       "\n",
       "                                   product  quantity  price  \n",
       "4297  Бегония Элатиор, цвет в ассортименте         1  187.0  \n",
       "4298  Бегония Элатиор, цвет в ассортименте         1  187.0  "
      ]
     },
     "execution_count": 15,
     "metadata": {},
     "output_type": "execute_result"
    }
   ],
   "source": [
    "df.query('order_id == 71571')"
   ]
  },
  {
   "cell_type": "markdown",
   "metadata": {},
   "source": [
    "Осталось два заказа с одинаковыми датами. Удалим один из заказов."
   ]
  },
  {
   "cell_type": "code",
   "execution_count": 16,
   "metadata": {},
   "outputs": [],
   "source": [
    "df = df.query('customer_id != \"f1222eaa-d09d-4bff-ab4e-bea6fe3f68a8\"')"
   ]
  },
  {
   "cell_type": "markdown",
   "metadata": {},
   "source": [
    "**Выводы**\n",
    "\n",
    "Всего 6 колонок, 6737 строк. По типу данных 4 числовых и 2 текстовых колонки. Пропущенные значения отсутствуют. Тип данных в колонке date приведен к datetime.  \n",
    "\n",
    "- В колонке с количеством товаров в заказе минимум - 1, максимум - 1000, среднее - 2.5.\n",
    "- В колонке с ценой заказа минимум - 9, максимум - 14917, среднее - 462.\n",
    "\n",
    "В колонке с количеством товаров в заказе обнаружен выброс - заказ с id 71743 на 1000 вантузов. По информации от тимлида выяснили, что это тестовый заказ. В дальнейшем анализе можно от него избавиться.\n",
    "\n",
    "Обнаружено большое количество заказов с дублирующимися id. Дубликаты удалены."
   ]
  },
  {
   "cell_type": "markdown",
   "metadata": {},
   "source": [
    "## Исследовательский анализ данных"
   ]
  },
  {
   "cell_type": "markdown",
   "metadata": {},
   "source": [
    "### Профили покупателей"
   ]
  },
  {
   "cell_type": "code",
   "execution_count": 17,
   "metadata": {
    "scrolled": false
   },
   "outputs": [],
   "source": [
    "# удаляем тестовый заказ\n",
    "df = df.query('order_id != 71743')\n",
    "\n",
    "# посчитаем выручку\n",
    "df['revenue'] = df['quantity'] * df['price']\n",
    "\n",
    "# строим таблицу с уникальными покупателями, числом заказов и выручкой\n",
    "customers = (\n",
    "    df.groupby('customer_id')\n",
    "    .agg({'order_id': 'nunique', 'revenue': 'sum'})\n",
    "    .rename(columns={'order_id': 'orders'})\n",
    "    .reset_index()\n",
    ")"
   ]
  },
  {
   "cell_type": "code",
   "execution_count": 18,
   "metadata": {},
   "outputs": [
    {
     "data": {
      "image/png": "[encoded data removed]",
      "text/plain": [
       "<Figure size 432x288 with 1 Axes>"
      ]
     },
     "metadata": {
      "needs_background": "light"
     },
     "output_type": "display_data"
    }
   ],
   "source": [
    "# построим график выручки\n",
    "x_values = pd.Series(range(0,len(customers['revenue'])))\n",
    "plt.scatter(x_values, customers['revenue'])\n",
    "\n",
    "plt.ylabel('Стоимость заказов')\n",
    "plt.title('Стоимости заказов', fontsize=14)\n",
    "plt.show()"
   ]
  },
  {
   "cell_type": "code",
   "execution_count": 19,
   "metadata": {},
   "outputs": [
    {
     "data": {
      "text/plain": [
       "array([4139.  , 8754.01])"
      ]
     },
     "execution_count": 19,
     "metadata": {},
     "output_type": "execute_result"
    }
   ],
   "source": [
    "# рассчитаем 95 и 99 перцентили суммарной выручки на пользователя\n",
    "np.percentile(customers['revenue'], [95, 99])"
   ]
  },
  {
   "cell_type": "code",
   "execution_count": 20,
   "metadata": {
    "scrolled": true
   },
   "outputs": [
    {
     "data": {
      "text/plain": [
       "'2018-10-01T00:00:00'"
      ]
     },
     "metadata": {},
     "output_type": "display_data"
    },
    {
     "data": {
      "text/plain": [
       "'2019-10-31T16:00:00'"
      ]
     },
     "execution_count": 20,
     "metadata": {},
     "output_type": "execute_result"
    }
   ],
   "source": [
    "# узнаем мин. и макс. дату покупки\n",
    "display(df['date'].min().isoformat())\n",
    "df['date'].max().isoformat()"
   ]
  },
  {
   "cell_type": "code",
   "execution_count": 21,
   "metadata": {
    "scrolled": false
   },
   "outputs": [
    {
     "data": {
      "text/plain": [
       "<seaborn.axisgrid.FacetGrid at 0x7ff02a7d1970>"
      ]
     },
     "execution_count": 21,
     "metadata": {},
     "output_type": "execute_result"
    },
    {
     "data": {
      "image/png": "[encoded data removed]",
      "text/plain": [
       "<Figure size 1080x360 with 1 Axes>"
      ]
     },
     "metadata": {
      "needs_background": "light"
     },
     "output_type": "display_data"
    }
   ],
   "source": [
    "# построим график количества заказанных товаров  за всё время \n",
    "sns.displot(df, x='date', kind='kde', aspect=3/1)"
   ]
  },
  {
   "cell_type": "markdown",
   "metadata": {},
   "source": [
    "### Основные метрики"
   ]
  },
  {
   "cell_type": "code",
   "execution_count": 22,
   "metadata": {
    "scrolled": true
   },
   "outputs": [
    {
     "data": {
      "text/plain": [
       "'Количество покупателей:'"
      ]
     },
     "metadata": {},
     "output_type": "display_data"
    },
    {
     "data": {
      "text/plain": [
       "2420"
      ]
     },
     "metadata": {},
     "output_type": "display_data"
    },
    {
     "data": {
      "text/plain": [
       "'Количество заказов:'"
      ]
     },
     "metadata": {},
     "output_type": "display_data"
    },
    {
     "data": {
      "text/plain": [
       "2783"
      ]
     },
     "metadata": {},
     "output_type": "display_data"
    },
    {
     "data": {
      "text/plain": [
       "'Суммарная выручка:'"
      ]
     },
     "metadata": {},
     "output_type": "display_data"
    },
    {
     "data": {
      "text/plain": [
       "3413503.0"
      ]
     },
     "metadata": {},
     "output_type": "display_data"
    },
    {
     "data": {
      "text/plain": [
       "'Средний чек:'"
      ]
     },
     "metadata": {},
     "output_type": "display_data"
    },
    {
     "data": {
      "text/plain": [
       "1226.5551563061445"
      ]
     },
     "metadata": {},
     "output_type": "display_data"
    },
    {
     "data": {
      "text/plain": [
       "'Средняя выручка с покупателя:'"
      ]
     },
     "metadata": {},
     "output_type": "display_data"
    },
    {
     "data": {
      "text/plain": [
       "1410.5384297520661"
      ]
     },
     "metadata": {},
     "output_type": "display_data"
    }
   ],
   "source": [
    "# посчитаем количество покупателей, заказов, средний чек, суммарную выручку и среднюю выручку с покупателя\n",
    "\n",
    "display('Количество покупателей:', len(customers),\n",
    "        'Количество заказов:', customers['orders'].sum(),\n",
    "        'Суммарная выручка:', customers['revenue'].sum(),\n",
    "        'Средний чек:', customers['revenue'].sum() / customers['orders'].sum(),\n",
    "        'Средняя выручка с покупателя:', customers['revenue'].mean()\n",
    ")"
   ]
  },
  {
   "cell_type": "code",
   "execution_count": 23,
   "metadata": {
    "scrolled": true
   },
   "outputs": [],
   "source": [
    "# посмотрим на самые популярные товары\n",
    "products_prof = (\n",
    "    df.groupby('product')\n",
    "    .agg({'product': 'count', 'revenue': 'sum'})\n",
    "    .rename(columns={'product': 'count'})\n",
    "    .reset_index()\n",
    ")\n",
    "\n",
    "products_top_count = products_prof.sort_values(by='count', ascending=False).head(10)\n",
    "products_top_rev = products_prof.sort_values(by='revenue', ascending=False).head(10)"
   ]
  },
  {
   "cell_type": "code",
   "execution_count": 24,
   "metadata": {},
   "outputs": [
    {
     "data": {
      "text/html": [
       "<div>\n",
       "<style scoped>\n",
       "    .dataframe tbody tr th:only-of-type {\n",
       "        vertical-align: middle;\n",
       "    }\n",
       "\n",
       "    .dataframe tbody tr th {\n",
       "        vertical-align: top;\n",
       "    }\n",
       "\n",
       "    .dataframe thead th {\n",
       "        text-align: right;\n",
       "    }\n",
       "</style>\n",
       "<table border=\"1\" class=\"dataframe\">\n",
       "  <thead>\n",
       "    <tr style=\"text-align: right;\">\n",
       "      <th></th>\n",
       "      <th>product</th>\n",
       "      <th>count</th>\n",
       "      <th>revenue</th>\n",
       "    </tr>\n",
       "  </thead>\n",
       "  <tbody>\n",
       "    <tr>\n",
       "      <th>1034</th>\n",
       "      <td>Пеларгония розебудная Red Pandora укорененный черенок</td>\n",
       "      <td>65</td>\n",
       "      <td>10923.0</td>\n",
       "    </tr>\n",
       "    <tr>\n",
       "      <th>1032</th>\n",
       "      <td>Пеларгония розебудная Prins Nikolai укорененный черенок</td>\n",
       "      <td>55</td>\n",
       "      <td>8358.0</td>\n",
       "    </tr>\n",
       "    <tr>\n",
       "      <th>1009</th>\n",
       "      <td>Пеларгония зональная диам. 12 см сиреневый полумахровый</td>\n",
       "      <td>52</td>\n",
       "      <td>10780.0</td>\n",
       "    </tr>\n",
       "    <tr>\n",
       "      <th>1609</th>\n",
       "      <td>Сумка-тележка 2-х колесная Gimi Argo синяя</td>\n",
       "      <td>47</td>\n",
       "      <td>50405.0</td>\n",
       "    </tr>\n",
       "    <tr>\n",
       "      <th>1031</th>\n",
       "      <td>Пеларгония розебудная Mary укорененный черенок</td>\n",
       "      <td>39</td>\n",
       "      <td>6336.0</td>\n",
       "    </tr>\n",
       "    <tr>\n",
       "      <th>1033</th>\n",
       "      <td>Пеларгония розебудная Queen Ingrid укорененный черенок</td>\n",
       "      <td>30</td>\n",
       "      <td>5175.0</td>\n",
       "    </tr>\n",
       "    <tr>\n",
       "      <th>1030</th>\n",
       "      <td>Пеларгония розебудная Margaretha укорененный черенок</td>\n",
       "      <td>29</td>\n",
       "      <td>6078.0</td>\n",
       "    </tr>\n",
       "    <tr>\n",
       "      <th>987</th>\n",
       "      <td>Пеларгония зональная Ринго Вайт d-7 см h-10 см укорененный черенок</td>\n",
       "      <td>24</td>\n",
       "      <td>1998.0</td>\n",
       "    </tr>\n",
       "    <tr>\n",
       "      <th>1017</th>\n",
       "      <td>Пеларгония зональная махровая лососевая</td>\n",
       "      <td>24</td>\n",
       "      <td>6537.0</td>\n",
       "    </tr>\n",
       "    <tr>\n",
       "      <th>990</th>\n",
       "      <td>Пеларгония зональная диам. 12 см коралловая полумахровая</td>\n",
       "      <td>24</td>\n",
       "      <td>4658.0</td>\n",
       "    </tr>\n",
       "  </tbody>\n",
       "</table>\n",
       "</div>"
      ],
      "text/plain": [
       "                                                                 product  \\\n",
       "1034               Пеларгония розебудная Red Pandora укорененный черенок   \n",
       "1032             Пеларгония розебудная Prins Nikolai укорененный черенок   \n",
       "1009             Пеларгония зональная диам. 12 см сиреневый полумахровый   \n",
       "1609                          Сумка-тележка 2-х колесная Gimi Argo синяя   \n",
       "1031                      Пеларгония розебудная Mary укорененный черенок   \n",
       "1033              Пеларгония розебудная Queen Ingrid укорененный черенок   \n",
       "1030                Пеларгония розебудная Margaretha укорененный черенок   \n",
       "987   Пеларгония зональная Ринго Вайт d-7 см h-10 см укорененный черенок   \n",
       "1017                             Пеларгония зональная махровая лососевая   \n",
       "990             Пеларгония зональная диам. 12 см коралловая полумахровая   \n",
       "\n",
       "      count  revenue  \n",
       "1034     65  10923.0  \n",
       "1032     55   8358.0  \n",
       "1009     52  10780.0  \n",
       "1609     47  50405.0  \n",
       "1031     39   6336.0  \n",
       "1033     30   5175.0  \n",
       "1030     29   6078.0  \n",
       "987      24   1998.0  \n",
       "1017     24   6537.0  \n",
       "990      24   4658.0  "
      ]
     },
     "execution_count": 24,
     "metadata": {},
     "output_type": "execute_result"
    }
   ],
   "source": [
    "products_top_count"
   ]
  },
  {
   "cell_type": "code",
   "execution_count": 25,
   "metadata": {},
   "outputs": [
    {
     "data": {
      "image/png": "[encoded data removed]",
      "text/plain": [
       "<Figure size 1080x360 with 1 Axes>"
      ]
     },
     "metadata": {
      "needs_background": "light"
     },
     "output_type": "display_data"
    }
   ],
   "source": [
    "plt.figure(figsize=(15, 5))\n",
    "\n",
    "f = sns.barplot(data=products_top_rev, x=[fill(l, 12) for l in products_top_rev['product']], y='revenue')\n",
    "sns.despine()\n",
    "f.set_title('Товары с самой высокой выручкой')\n",
    "f.set_xlabel('Товар')\n",
    "f.set_ylabel('Суммарная выручка')\n",
    "\n",
    "plt.show()"
   ]
  },
  {
   "cell_type": "markdown",
   "metadata": {},
   "source": [
    "**Выводы**\n",
    "\n",
    "- Количество покупателей: 2420\n",
    "- Количество заказов: 2783\n",
    "- Суммарная выручка: 3413503\n",
    "- Средний чек: 1226\n",
    "- Средняя выручка с покупателя: 1410\n",
    "\n",
    "Анализ профилей покупателей показал наличие аномально высоких сумм выручки у некоторых покупателей. Вероятно это не ошибки, а крупные покупатели, которые генерируют большую выручку и которых следует выделить в отдельный сегмент. Расчет перцентилей по выручке показал, что не более 5 % покупателей потратили более 4139, и не более 1 % покупателей потратили более 8754. В качестве границы выберем выручку более 9000.\n",
    "\n",
    "Анализ распределения заказов по датам показал наличие роста числа заказов в период с мая по июнь. Возможно это связано с покупкой сезонных товаров.\n",
    "\n",
    "Самые продаваемые товары - цветы. Товары с самой большой выручкой - простынь, сумка-тележка и вешалки."
   ]
  },
  {
   "cell_type": "markdown",
   "metadata": {},
   "source": [
    "## Сегментация покупателей"
   ]
  },
  {
   "cell_type": "markdown",
   "metadata": {},
   "source": [
    "### Выделение аномальных покупателей"
   ]
  },
  {
   "cell_type": "code",
   "execution_count": 26,
   "metadata": {},
   "outputs": [],
   "source": [
    "big_custs_id = customers.query('revenue > 9000')['customer_id']\n",
    "big_custs = df.query('customer_id in @big_custs_id')"
   ]
  },
  {
   "cell_type": "code",
   "execution_count": 27,
   "metadata": {
    "scrolled": false
   },
   "outputs": [
    {
     "data": {
      "text/plain": [
       "<seaborn.axisgrid.FacetGrid at 0x7ff02a6d5820>"
      ]
     },
     "execution_count": 27,
     "metadata": {},
     "output_type": "execute_result"
    },
    {
     "data": {
      "image/png": "[encoded data removed]",
      "text/plain": [
       "<Figure size 1080x360 with 1 Axes>"
      ]
     },
     "metadata": {
      "needs_background": "light"
     },
     "output_type": "display_data"
    }
   ],
   "source": [
    "sns.displot(big_custs, x='date', aspect=3/1)"
   ]
  },
  {
   "cell_type": "markdown",
   "metadata": {},
   "source": [
    "Аномальные покупатели делают покупки только в определенный сезон, тогда как остальные совершают покупки более равномерно."
   ]
  },
  {
   "cell_type": "markdown",
   "metadata": {},
   "source": [
    "### Сегментрование товаров по категориям"
   ]
  },
  {
   "cell_type": "code",
   "execution_count": 28,
   "metadata": {
    "scrolled": true
   },
   "outputs": [
    {
     "data": {
      "text/html": [
       "<div>\n",
       "<style scoped>\n",
       "    .dataframe tbody tr th:only-of-type {\n",
       "        vertical-align: middle;\n",
       "    }\n",
       "\n",
       "    .dataframe tbody tr th {\n",
       "        vertical-align: top;\n",
       "    }\n",
       "\n",
       "    .dataframe thead th {\n",
       "        text-align: right;\n",
       "    }\n",
       "</style>\n",
       "<table border=\"1\" class=\"dataframe\">\n",
       "  <thead>\n",
       "    <tr style=\"text-align: right;\">\n",
       "      <th></th>\n",
       "      <th>date</th>\n",
       "      <th>customer_id</th>\n",
       "      <th>order_id</th>\n",
       "      <th>product</th>\n",
       "      <th>quantity</th>\n",
       "      <th>price</th>\n",
       "      <th>revenue</th>\n",
       "      <th>product_1</th>\n",
       "    </tr>\n",
       "  </thead>\n",
       "  <tbody>\n",
       "    <tr>\n",
       "      <th>0</th>\n",
       "      <td>2018-10-01</td>\n",
       "      <td>ee47d746-6d2f-4d3c-9622-c31412542920</td>\n",
       "      <td>68477</td>\n",
       "      <td>Комнатное растение в горшке Алое Вера, d12, h30</td>\n",
       "      <td>1</td>\n",
       "      <td>142.0</td>\n",
       "      <td>142.0</td>\n",
       "      <td>Комнатное</td>\n",
       "    </tr>\n",
       "    <tr>\n",
       "      <th>1</th>\n",
       "      <td>2018-10-01</td>\n",
       "      <td>ee47d746-6d2f-4d3c-9622-c31412542920</td>\n",
       "      <td>68477</td>\n",
       "      <td>Комнатное растение в горшке Кофе Арабика, d12, h25</td>\n",
       "      <td>1</td>\n",
       "      <td>194.0</td>\n",
       "      <td>194.0</td>\n",
       "      <td>Комнатное</td>\n",
       "    </tr>\n",
       "    <tr>\n",
       "      <th>2</th>\n",
       "      <td>2018-10-01</td>\n",
       "      <td>ee47d746-6d2f-4d3c-9622-c31412542920</td>\n",
       "      <td>68477</td>\n",
       "      <td>Радермахера d-12 см h-20 см</td>\n",
       "      <td>1</td>\n",
       "      <td>112.0</td>\n",
       "      <td>112.0</td>\n",
       "      <td>Радермахера</td>\n",
       "    </tr>\n",
       "    <tr>\n",
       "      <th>3</th>\n",
       "      <td>2018-10-01</td>\n",
       "      <td>ee47d746-6d2f-4d3c-9622-c31412542920</td>\n",
       "      <td>68477</td>\n",
       "      <td>Хризолидокарпус Лутесценс d-9 см</td>\n",
       "      <td>1</td>\n",
       "      <td>179.0</td>\n",
       "      <td>179.0</td>\n",
       "      <td>Хризолидокарпус</td>\n",
       "    </tr>\n",
       "    <tr>\n",
       "      <th>4</th>\n",
       "      <td>2018-10-01</td>\n",
       "      <td>ee47d746-6d2f-4d3c-9622-c31412542920</td>\n",
       "      <td>68477</td>\n",
       "      <td>Циперус Зумула d-12 см h-25 см</td>\n",
       "      <td>1</td>\n",
       "      <td>112.0</td>\n",
       "      <td>112.0</td>\n",
       "      <td>Циперус</td>\n",
       "    </tr>\n",
       "  </tbody>\n",
       "</table>\n",
       "</div>"
      ],
      "text/plain": [
       "        date                           customer_id  order_id  \\\n",
       "0 2018-10-01  ee47d746-6d2f-4d3c-9622-c31412542920     68477   \n",
       "1 2018-10-01  ee47d746-6d2f-4d3c-9622-c31412542920     68477   \n",
       "2 2018-10-01  ee47d746-6d2f-4d3c-9622-c31412542920     68477   \n",
       "3 2018-10-01  ee47d746-6d2f-4d3c-9622-c31412542920     68477   \n",
       "4 2018-10-01  ee47d746-6d2f-4d3c-9622-c31412542920     68477   \n",
       "\n",
       "                                              product  quantity  price  \\\n",
       "0     Комнатное растение в горшке Алое Вера, d12, h30         1  142.0   \n",
       "1  Комнатное растение в горшке Кофе Арабика, d12, h25         1  194.0   \n",
       "2                         Радермахера d-12 см h-20 см         1  112.0   \n",
       "3                    Хризолидокарпус Лутесценс d-9 см         1  179.0   \n",
       "4                      Циперус Зумула d-12 см h-25 см         1  112.0   \n",
       "\n",
       "   revenue        product_1  \n",
       "0    142.0        Комнатное  \n",
       "1    194.0        Комнатное  \n",
       "2    112.0      Радермахера  \n",
       "3    179.0  Хризолидокарпус  \n",
       "4    112.0          Циперус  "
      ]
     },
     "execution_count": 28,
     "metadata": {},
     "output_type": "execute_result"
    }
   ],
   "source": [
    "# выделим названия товаров в отдельную колонку\n",
    "df[['product_1', 'product_2', 'product_3']] = df['product'].str.split(' ', 2, expand=True)\n",
    "df = df.drop(['product_2', 'product_3'], axis=1)\n",
    "df.head()"
   ]
  },
  {
   "cell_type": "code",
   "execution_count": 29,
   "metadata": {
    "scrolled": true
   },
   "outputs": [
    {
     "data": {
      "text/plain": [
       "Index(['Сумка-тележка', 'Сушилка', 'Гладильная', 'Пеларгония', 'Коврик',\n",
       "       'Тележка', 'Штора', 'Набор', 'Муляж', 'Стремянка',\n",
       "       ...\n",
       "       'Мантоварка-пароварка', 'Щетка-утюжок', 'Вилка', 'Утюг', 'Нетканые',\n",
       "       'Фал', 'Вербена', 'Лобелия', 'Стакан', 'Двуспальное'],\n",
       "      dtype='object', name='product_1', length=150)"
      ]
     },
     "execution_count": 29,
     "metadata": {},
     "output_type": "execute_result"
    }
   ],
   "source": [
    "df.groupby('product_1').agg({'revenue': 'sum'}).sort_values(by='revenue', ascending=False).head(150).index"
   ]
  },
  {
   "cell_type": "code",
   "execution_count": 30,
   "metadata": {
    "scrolled": true
   },
   "outputs": [
    {
     "data": {
      "text/plain": [
       "сад и огород       2023\n",
       "товары для дома    1468\n",
       "текстиль            339\n",
       "посуда              257\n",
       "Name: product_type, dtype: int64"
      ]
     },
     "execution_count": 30,
     "metadata": {},
     "output_type": "execute_result"
    }
   ],
   "source": [
    "# распределим 150 наиболее прибыльных товаров по 4 категориям\n",
    "\n",
    "products = [\n",
    "    ('Сумка-тележка', 'товары для дома'),\n",
    "    ('Сушилка', 'товары для дома'),\n",
    "    ('Гладильная', 'товары для дома'),\n",
    "    ('Пеларгония', 'сад и огород'),\n",
    "    ('Коврик', 'текстиль'),\n",
    "    ('Тележка', 'товары для дома'),\n",
    "    ('Штора', 'текстиль'),\n",
    "    ('Набор', 'посуда'),\n",
    "    ('Муляж', 'товары для дома'),\n",
    "    ('Стремянка', 'товары для дома'),\n",
    "    ('Скатерть', 'текстиль'),\n",
    "    ('Рассада', 'сад и огород'),\n",
    "    ('Полки', 'товары для дома'),\n",
    "    ('Чехол', 'текстиль'), \n",
    "    ('Простынь', 'текстиль'),\n",
    "    ('Вешалки', 'товары для дома'), \n",
    "    ('Вешалка', 'товары для дома'), \n",
    "    ('Урна', 'товары для дома'),\n",
    "    ('Тарелка', 'посуда'),\n",
    "    ('Таз', 'товары для дома'),\n",
    "    ('Петуния', 'сад и огород'),\n",
    "    ('Корзина', 'товары для дома'),\n",
    "    ('Салфетка', 'текстиль'), \n",
    "    ('Мусорный', 'товары для дома'),\n",
    "    ('Одеяло', 'текстиль'),\n",
    "    ('Подвесное', 'товары для дома'), \n",
    "    ('Веник', 'товары для дома'), \n",
    "    ('Спатифиллум', 'сад и огород'), \n",
    "    ('Швабра', 'товары для дома'), \n",
    "    ('Щетка', 'товары для дома'),\n",
    "    ('Роза', 'сад и огород'), \n",
    "    ('Герань', 'сад и огород'),\n",
    "    ('Стремянки', 'товары для дома'),\n",
    "    ('Ведро', 'товары для дома'), \n",
    "    ('Лестница-стремянка', 'товары для дома'),\n",
    "    ('Новогоднее', 'товары для дома'),\n",
    "    ('Чайник', 'посуда'), \n",
    "    ('Контейнер', 'товары для дома'), \n",
    "    ('Наматрацник', 'текстиль'), \n",
    "    ('Покрывало', 'текстиль'),\n",
    "    ('Однолетнее', 'сад и огород'),\n",
    "    ('Искусственный', 'товары для дома'), \n",
    "    ('Эвкалипт', 'сад и огород'),\n",
    "    ('Карниз', 'товары для дома'), \n",
    "    ('Декоративная', 'товары для дома'),\n",
    "    ('Комплект постельного', 'текстиль'),\n",
    "    ('Комплект для', 'товары для дома'), \n",
    "    ('Комплект махровых', 'текстиль'),\n",
    "    ('Банка', 'посуда'), \n",
    "    ('томата', 'сад и огород'),\n",
    "    ('Сиденье', 'товары для дома'),\n",
    "    ('Tepмокружка', 'посуда'),\n",
    "    ('Корыто', 'товары для дома'),\n",
    "    ('Кружка', 'посуда'),\n",
    "    ('Весы',  'товары для дома'),\n",
    "    ('Цветок', 'сад и огород'),\n",
    "    ('Кастрюля', 'посуда'), \n",
    "    ('Ковер', 'текстиль'), \n",
    "    ('Сковорода', 'посуда'), \n",
    "    ('Чайный', 'посуда'),\n",
    "    ('Штанга', 'товары для дома'),\n",
    "    ('Щетка-сметка', 'товары для дома'),\n",
    "    ('Ёрш', 'товары для дома'),\n",
    "    ('Урна-пепельница', 'товары для дома'), \n",
    "    ('Кофр', 'товары для дома'),\n",
    "    ('Автоматическая', 'товары для дома'),\n",
    "    ('Нож', 'посуда'), \n",
    "    ('Крючок', 'товары для дома'), \n",
    "    ('Емкость', 'посуда'),\n",
    "    ('Антуриум', 'сад и огород'),\n",
    "    ('Салатник', 'посуда'),\n",
    "    ('Ручка-скоба', 'товары для дома'), \n",
    "    ('Модульная', 'товары для дома'),\n",
    "    ('Пружина', 'товары для дома'),\n",
    "    ('Паста', 'товары для дома'),\n",
    "    ('Стремянка-табурет', 'товары для дома'),\n",
    "    ('Вешалка-стойка', 'товары для дома'),\n",
    "    ('Ерш', 'товары для дома'),\n",
    "    ('Полка', 'товары для дома'), \n",
    "    ('Крепеж', 'товары для дома'), \n",
    "    ('Комод', 'товары для дома'), \n",
    "    ('Ткань', 'текстиль'),\n",
    "    ('Подарочный', 'товары для дома'),\n",
    "    ('Сумка', 'товары для дома'),\n",
    "    ('Калибрахоа', 'сад и огород'),\n",
    "    ('Покрытие', 'товары для дома'),\n",
    "    ('Перчатки', 'товары для дома'),\n",
    "    ('Гортензия', 'сад и огород'),\n",
    "    ('Ковш', 'посуда'), \n",
    "    ('Стеллаж', 'товары для дома'), \n",
    "    ('Подрукавник', 'товары для дома'),\n",
    "    ('Этажерка', 'товары для дома'),\n",
    "    ('Шпингалет', 'товары для дома'),\n",
    "    ('Складная', 'товары для дома'),\n",
    "    ('Пылесос', 'товары для дома'),\n",
    "    ('Термокружка', 'посуда'),\n",
    "    ('Мединилла', 'сад и огород'),\n",
    "    ('Циперус', 'сад и огород'),\n",
    "    ('Настенная', 'товары для дома'),\n",
    "    ('Афеляндра', 'сад и огород'),\n",
    "    ('Газания', 'сад и огород'),\n",
    "    ('Бегония', 'сад и огород'),\n",
    "    ('Бакопа', 'сад и огород'), \n",
    "    ('Лоток', 'посуда'),  \n",
    "    ('Петля', 'товары для дома'), \n",
    "    ('Комнатное', 'сад и огород'),\n",
    "    ('Бак ', 'товары для дома'), \n",
    "    ('Плед', 'текстиль'),\n",
    "    ('Универсальный', 'посуда'),  \n",
    "    ('Простыня', 'текстиль'), \n",
    "    ('Эпипремнум', 'сад и огород'), \n",
    "    ('Тимьян', 'сад и огород'), \n",
    "    ('Вешалка-плечики', 'товары для дома'),\n",
    "    ('Доска', 'посуда'), \n",
    "    ('Хлебница', 'посуда'), \n",
    "    ('Сметка', 'товары для дома'),\n",
    "    ('Плечики', 'товары для дома'), \n",
    "    ('Соковарка', 'посуда'), \n",
    "    ('Пуансеттия', 'сад и огород'),\n",
    "    ('Измельчитель',  'посуда'),\n",
    "    ('Фиалка', 'сад и огород'), \n",
    "    ('Окномойка', 'товары для дома'),\n",
    "    ('Термос', 'посуда'), \n",
    "    ('Ложка', 'посуда'),  \n",
    "    ('Примула', 'сад и огород'),\n",
    "    ('Корзинка', 'посуда'), \n",
    "    ('Цитрофортунелла', 'сад и огород'),\n",
    "    ('Наматрасник', 'текстиль'),\n",
    "    ('Дендробиум', 'сад и огород'), \n",
    "    ('Фуксия', 'сад и огород'),\n",
    "    ('Котел', 'посуда'), \n",
    "    ('Фаленопсис', 'сад и огород'), \n",
    "    ('Цикламен', 'сад и огород'), \n",
    "    ('Насадка', 'товары для дома'), \n",
    "    ('Столовый', 'посуда'), \n",
    "    ('Коробка', 'товары для дома'),\n",
    "    ('Ящик', 'товары для дома'), \n",
    "    ('Миксер', 'посуда'), \n",
    "    ('Подставка', 'товары для дома'), \n",
    "    ('Эхинокактус', 'сад и огород'),\n",
    "    ('Искусственная', 'товары для дома'),\n",
    "    ('Гвоздика', 'сад и огород'),\n",
    "    ('Мантоварка-пароварка', 'посуда'), \n",
    "    ('Щетка-утюжок', 'товары для дома'),\n",
    "    ('Вилка', 'посуда'),  \n",
    "    ('Утюг', 'товары для дома'),\n",
    "    ('Нетканые', 'текстиль'), \n",
    "    ('Фал ', 'товары для дома'),\n",
    "    ('Вербена', 'сад и огород'), \n",
    "    ('Лобелия', 'сад и огород'),\n",
    "    ('Стакан', 'посуда'), \n",
    "]\n",
    "\n",
    "for p in products:\n",
    "    df.loc[df['product'].str.contains(p[0]), 'product_type'] = p[1]\n",
    "    \n",
    "df['product_type'].value_counts()"
   ]
  },
  {
   "cell_type": "code",
   "execution_count": 31,
   "metadata": {
    "scrolled": true
   },
   "outputs": [
    {
     "data": {
      "text/plain": [
       "'Всего уникальных товаров:'"
      ]
     },
     "metadata": {},
     "output_type": "display_data"
    },
    {
     "data": {
      "text/plain": [
       "2332"
      ]
     },
     "metadata": {},
     "output_type": "display_data"
    },
    {
     "data": {
      "text/plain": [
       "'Доля товаров без категории:'"
      ]
     },
     "metadata": {},
     "output_type": "display_data"
    },
    {
     "data": {
      "text/plain": [
       "22.341337907375642"
      ]
     },
     "metadata": {},
     "output_type": "display_data"
    },
    {
     "data": {
      "text/plain": [
       "'Доля выручки товаров без категории:'"
      ]
     },
     "metadata": {},
     "output_type": "display_data"
    },
    {
     "data": {
      "text/plain": [
       "4.731034365576946"
      ]
     },
     "metadata": {},
     "output_type": "display_data"
    }
   ],
   "source": [
    "# посчитаем, сколько товаров остались без категории\n",
    "\n",
    "products = df.groupby('product').agg({'product_type': 'first', 'revenue': 'sum'})\n",
    "display('Всего уникальных товаров:', len(products),\n",
    "        'Доля товаров без категории:', products['product_type'].isna().sum() / len(products) * 100,\n",
    "        'Доля выручки товаров без категории:', products[products['product_type'].isna()]['revenue'].sum() / products['revenue'].sum() * 100\n",
    ")"
   ]
  },
  {
   "cell_type": "markdown",
   "metadata": {},
   "source": [
    "### Анализ сегментов"
   ]
  },
  {
   "cell_type": "code",
   "execution_count": 32,
   "metadata": {
    "scrolled": true
   },
   "outputs": [
    {
     "data": {
      "text/plain": [
       "'Количество покупателей категории сад и огород'"
      ]
     },
     "metadata": {},
     "output_type": "display_data"
    },
    {
     "data": {
      "text/plain": [
       "550"
      ]
     },
     "metadata": {},
     "output_type": "display_data"
    },
    {
     "data": {
      "text/plain": [
       "'Количество покупателей категории товары для дома'"
      ]
     },
     "metadata": {},
     "output_type": "display_data"
    },
    {
     "data": {
      "text/plain": [
       "1169"
      ]
     },
     "metadata": {},
     "output_type": "display_data"
    },
    {
     "data": {
      "text/plain": [
       "'Количество покупателей категории текстиль'"
      ]
     },
     "metadata": {},
     "output_type": "display_data"
    },
    {
     "data": {
      "text/plain": [
       "279"
      ]
     },
     "metadata": {},
     "output_type": "display_data"
    },
    {
     "data": {
      "text/plain": [
       "'Количество покупателей категории посуда'"
      ]
     },
     "metadata": {},
     "output_type": "display_data"
    },
    {
     "data": {
      "text/plain": [
       "196"
      ]
     },
     "metadata": {},
     "output_type": "display_data"
    }
   ],
   "source": [
    "# разделим датасет на части, по сегментам покупок\n",
    "\n",
    "df_garden = df.query('product_type == \"сад и огород\"')\n",
    "df_house = df.query('product_type == \"товары для дома\"')\n",
    "df_textile = df.query('product_type == \"текстиль\"')\n",
    "df_dishes = df.query('product_type == \"посуда\"')\n",
    "\n",
    "# подсчитаем объемы полученных выборок\n",
    "display(\n",
    "    'Количество покупателей категории сад и огород', df_garden['customer_id'].nunique(),\n",
    "    'Количество покупателей категории товары для дома', df_house['customer_id'].nunique(),\n",
    "    'Количество покупателей категории текстиль', df_textile['customer_id'].nunique(),\n",
    "    'Количество покупателей категории посуда', df_dishes['customer_id'].nunique(),\n",
    ")"
   ]
  },
  {
   "cell_type": "code",
   "execution_count": 33,
   "metadata": {
    "scrolled": true
   },
   "outputs": [
    {
     "data": {
      "text/html": [
       "<div>\n",
       "<style scoped>\n",
       "    .dataframe tbody tr th:only-of-type {\n",
       "        vertical-align: middle;\n",
       "    }\n",
       "\n",
       "    .dataframe tbody tr th {\n",
       "        vertical-align: top;\n",
       "    }\n",
       "\n",
       "    .dataframe thead th {\n",
       "        text-align: right;\n",
       "    }\n",
       "</style>\n",
       "<table border=\"1\" class=\"dataframe\">\n",
       "  <thead>\n",
       "    <tr style=\"text-align: right;\">\n",
       "      <th></th>\n",
       "      <th>product_type</th>\n",
       "      <th>customers</th>\n",
       "      <th>orders</th>\n",
       "      <th>revenue</th>\n",
       "      <th>avg</th>\n",
       "      <th>freq</th>\n",
       "    </tr>\n",
       "  </thead>\n",
       "  <tbody>\n",
       "    <tr>\n",
       "      <th>0</th>\n",
       "      <td>посуда</td>\n",
       "      <td>196</td>\n",
       "      <td>212</td>\n",
       "      <td>257175.0</td>\n",
       "      <td>1213.089623</td>\n",
       "      <td>1.081633</td>\n",
       "    </tr>\n",
       "    <tr>\n",
       "      <th>1</th>\n",
       "      <td>сад и огород</td>\n",
       "      <td>550</td>\n",
       "      <td>629</td>\n",
       "      <td>420109.0</td>\n",
       "      <td>667.899841</td>\n",
       "      <td>1.143636</td>\n",
       "    </tr>\n",
       "    <tr>\n",
       "      <th>2</th>\n",
       "      <td>текстиль</td>\n",
       "      <td>279</td>\n",
       "      <td>319</td>\n",
       "      <td>494352.0</td>\n",
       "      <td>1549.692790</td>\n",
       "      <td>1.143369</td>\n",
       "    </tr>\n",
       "    <tr>\n",
       "      <th>3</th>\n",
       "      <td>товары для дома</td>\n",
       "      <td>1169</td>\n",
       "      <td>1334</td>\n",
       "      <td>2080373.0</td>\n",
       "      <td>1559.500000</td>\n",
       "      <td>1.141146</td>\n",
       "    </tr>\n",
       "  </tbody>\n",
       "</table>\n",
       "</div>"
      ],
      "text/plain": [
       "      product_type  customers  orders    revenue          avg      freq\n",
       "0           посуда        196     212   257175.0  1213.089623  1.081633\n",
       "1     сад и огород        550     629   420109.0   667.899841  1.143636\n",
       "2         текстиль        279     319   494352.0  1549.692790  1.143369\n",
       "3  товары для дома       1169    1334  2080373.0  1559.500000  1.141146"
      ]
     },
     "execution_count": 33,
     "metadata": {},
     "output_type": "execute_result"
    }
   ],
   "source": [
    "# подсчитаем суммарную выручку, средний чек и частоту покупок по категориям\n",
    "\n",
    "prod = (\n",
    "    df.groupby('product_type')\n",
    "    .agg({'customer_id': 'nunique', 'order_id': 'nunique', 'revenue': 'sum'})\n",
    "    .rename(columns={'order_id': 'orders', 'customer_id': 'customers'})\n",
    "    .reset_index()\n",
    ")\n",
    "\n",
    "prod['avg'] = prod['revenue'] / prod['orders']\n",
    "prod['freq'] = prod['orders'] / prod['customers']\n",
    "\n",
    "prod"
   ]
  },
  {
   "cell_type": "code",
   "execution_count": 34,
   "metadata": {},
   "outputs": [
    {
     "data": {
      "image/png": "[encoded data removed]",
      "text/plain": [
       "<Figure size 432x288 with 1 Axes>"
      ]
     },
     "metadata": {
      "needs_background": "light"
     },
     "output_type": "display_data"
    }
   ],
   "source": [
    "# построим график суммарной выручки по категориям\n",
    "\n",
    "f = sns.barplot(data=prod, x='product_type', y='revenue')\n",
    "sns.despine()\n",
    "f.set_title('Суммарная выручка по категориям')\n",
    "f.set_ylabel('Суммарная выручка')\n",
    "f.set_xlabel('Категория')\n",
    "plt.show()"
   ]
  },
  {
   "cell_type": "code",
   "execution_count": 35,
   "metadata": {
    "scrolled": false
   },
   "outputs": [
    {
     "data": {
      "image/png": "[encoded data removed]",
      "text/plain": [
       "<Figure size 432x288 with 1 Axes>"
      ]
     },
     "metadata": {
      "needs_background": "light"
     },
     "output_type": "display_data"
    }
   ],
   "source": [
    "# построим график среднего чека по категориям\n",
    "\n",
    "\n",
    "f = sns.barplot(data=prod, x='product_type', y='avg')\n",
    "sns.despine()\n",
    "f.set_title('Средний чек по категориям')\n",
    "f.set_ylabel('Средний чек')\n",
    "f.set_xlabel('Категория')\n",
    "plt.show()"
   ]
  },
  {
   "cell_type": "code",
   "execution_count": 36,
   "metadata": {
    "scrolled": false
   },
   "outputs": [
    {
     "data": {
      "image/png": "[encoded data removed]",
      "text/plain": [
       "<Figure size 432x288 with 1 Axes>"
      ]
     },
     "metadata": {
      "needs_background": "light"
     },
     "output_type": "display_data"
    }
   ],
   "source": [
    "# построим график частоты покупок по категориям\n",
    "\n",
    "f = sns.barplot(data=prod, x='product_type', y='freq')\n",
    "sns.despine()\n",
    "f.set_title('Частота покупок по категориям')\n",
    "f.set_ylabel('Частота покупок')\n",
    "f.set_xlabel('Категория')\n",
    "plt.show()"
   ]
  },
  {
   "cell_type": "code",
   "execution_count": 37,
   "metadata": {
    "scrolled": false
   },
   "outputs": [
    {
     "data": {
      "image/png": "[encoded data removed]",
      "text/plain": [
       "<Figure size 846x360 with 1 Axes>"
      ]
     },
     "metadata": {
      "needs_background": "light"
     },
     "output_type": "display_data"
    }
   ],
   "source": [
    "# построим график количества заказанных товаров по категориям\n",
    "f = sns.displot(df, x='date', hue='product_type', aspect=2/1)\n",
    "f.set_axis_labels('Дата', 'Количество товаров')\n",
    "f.legend.set_title('Категории')\n",
    "plt.show()"
   ]
  },
  {
   "cell_type": "markdown",
   "metadata": {},
   "source": [
    "**Выводы**\n",
    "\n",
    "- Проведена сегментация товаров на 4 категории: сад и огород, товары для дома, текстиль, посуда. Остались нераспределенными около 22% товаров, которые составляют менее 5% выручки.\n",
    "\n",
    "- По количеству покупателей, суммарной выручке и среднему чеку лидирует категория \"товары для дома\".\n",
    "\n",
    "- Частота покупок примерно одинаковая для всех, незначительно отстает \"посуда\".\n",
    "\n",
    "- Наибольшее количество товаров заказывают в категории \"сад и огород\" в летний сезон.\n"
   ]
  },
  {
   "cell_type": "markdown",
   "metadata": {},
   "source": [
    "## Проверка гипотез"
   ]
  },
  {
   "cell_type": "markdown",
   "metadata": {},
   "source": [
    "### Cредняя цена заказов покупателей в категориях \"Сад и огород\" и \"Товары для дома\" различается\n",
    "\n",
    "Сформулируем гипотезу. За нулевую гипотезу примем утверждение о том, что средняя цена заказов покупателей «Сад и огород» равна средней цене заказов «Товары для дома». Альтернативной гипотезой будет утверждение о том, что средние цены в категориях не равны. Будем использовать специальный метод для проверки гипотезы о равенстве среднего двух генеральных совокупностей по взятым из них выборкам `ttest_ind`. Так как мы знаем, что выборки разного размера (1237 против 726 покупок), укажем в параметре `equal_var` значение `False`. Критический уровень статистической значимости установим в 5 %."
   ]
  },
  {
   "cell_type": "code",
   "execution_count": 38,
   "metadata": {
    "scrolled": true
   },
   "outputs": [
    {
     "data": {
      "text/plain": [
       "'Средняя цена заказов покупателей «Сад и огород»:'"
      ]
     },
     "metadata": {},
     "output_type": "display_data"
    },
    {
     "data": {
      "text/plain": [
       "207.66633712308453"
      ]
     },
     "metadata": {},
     "output_type": "display_data"
    },
    {
     "data": {
      "text/plain": [
       "'Средняя цена заказов покупателей «Товары для дома»:'"
      ]
     },
     "metadata": {},
     "output_type": "display_data"
    },
    {
     "data": {
      "text/plain": [
       "1417.1478201634877"
      ]
     },
     "metadata": {},
     "output_type": "display_data"
    },
    {
     "data": {
      "text/plain": [
       "'p-значение:'"
      ]
     },
     "metadata": {},
     "output_type": "display_data"
    },
    {
     "data": {
      "text/plain": [
       "4.374185142425154e-80"
      ]
     },
     "metadata": {},
     "output_type": "display_data"
    },
    {
     "data": {
      "text/plain": [
       "'Отвергаем нулевую гипотезу'"
      ]
     },
     "metadata": {},
     "output_type": "display_data"
    }
   ],
   "source": [
    "alpha = 0.05 # критический уровень статистической значимости\n",
    "# если p-value окажется меньше него - отвергнем гипотезу\n",
    "\n",
    "results = st.ttest_ind(\n",
    "    df_garden['revenue'], \n",
    "    df_house['revenue'], equal_var=False)\n",
    "\n",
    "display('Средняя цена заказов покупателей «Сад и огород»:',  df_garden['revenue'].mean())\n",
    "display('Средняя цена заказов покупателей «Товары для дома»:',  df_house['revenue'].mean())\n",
    "display('p-значение:', results.pvalue)\n",
    "\n",
    "if results.pvalue < alpha:\n",
    "    display(\"Отвергаем нулевую гипотезу\")\n",
    "else:\n",
    "    display(\"Не получилось отвергнуть нулевую гипотезу\") "
   ]
  },
  {
   "cell_type": "markdown",
   "metadata": {},
   "source": [
    "**Вывод**\n",
    "\n",
    "Так как нулевая гипотеза отвергнута, мы принимаем альтернативную гипотезу -  средняя цена заказов покупателей «Сад и огород» и «Товары для дома» различается. Сильное различие в средних подсказывает, в какую стророну направлено различие - среднее «Товары для дома» больше."
   ]
  },
  {
   "cell_type": "markdown",
   "metadata": {},
   "source": [
    "### Cредняя частота заказов покупателей в категориях \"Сад и огород\" и \"Товары для дома\" различается\n",
    "\n",
    "Сформулируем гипотезу. За нулевую гипотезу примем утверждение о том, что средняя частота заказов покупателей «Сад и огород» равна средней частоте заказов «Товары для дома». Альтернативной гипотезой будет утверждение о том, что средние частоты в категориях не равны. Параметры проверки аналогичны предыдущим."
   ]
  },
  {
   "cell_type": "code",
   "execution_count": 39,
   "metadata": {},
   "outputs": [],
   "source": [
    "# готовим выборки\n",
    "garden_customers = (\n",
    "    df_garden.groupby('customer_id')\n",
    "    .agg({'order_id': 'nunique'})\n",
    "    .rename(columns={'order_id': 'orders'})\n",
    "    .reset_index()\n",
    ")\n",
    "\n",
    "house_customers = (\n",
    "    df_house.groupby('customer_id')\n",
    "    .agg({'order_id': 'nunique'})\n",
    "    .rename(columns={'order_id': 'orders'})\n",
    "    .reset_index()\n",
    ")"
   ]
  },
  {
   "cell_type": "code",
   "execution_count": 40,
   "metadata": {
    "scrolled": true
   },
   "outputs": [
    {
     "data": {
      "text/plain": [
       "'Средняя частота заказов покупателей «Сад и огород»:'"
      ]
     },
     "metadata": {},
     "output_type": "display_data"
    },
    {
     "data": {
      "text/plain": [
       "1.1436363636363636"
      ]
     },
     "metadata": {},
     "output_type": "display_data"
    },
    {
     "data": {
      "text/plain": [
       "'Средняя частота заказов покупателей «Товары для дома»:'"
      ]
     },
     "metadata": {},
     "output_type": "display_data"
    },
    {
     "data": {
      "text/plain": [
       "1.1411462788708298"
      ]
     },
     "metadata": {},
     "output_type": "display_data"
    },
    {
     "data": {
      "text/plain": [
       "'p-значение:'"
      ]
     },
     "metadata": {},
     "output_type": "display_data"
    },
    {
     "data": {
      "text/plain": [
       "0.9721889137816904"
      ]
     },
     "metadata": {},
     "output_type": "display_data"
    },
    {
     "data": {
      "text/plain": [
       "'Не получилось отвергнуть нулевую гипотезу'"
      ]
     },
     "metadata": {},
     "output_type": "display_data"
    }
   ],
   "source": [
    "alpha = 0.05 # критический уровень статистической значимости\n",
    "# если p-value окажется меньше него - отвергнем гипотезу\n",
    "\n",
    "results = st.ttest_ind(\n",
    "    garden_customers['orders'], \n",
    "    house_customers['orders'], equal_var=False)\n",
    "\n",
    "display('Средняя частота заказов покупателей «Сад и огород»:',  garden_customers['orders'].mean())\n",
    "display('Средняя частота заказов покупателей «Товары для дома»:',  house_customers['orders'].mean())\n",
    "display('p-значение:', results.pvalue)\n",
    "\n",
    "if results.pvalue < alpha:\n",
    "    display(\"Отвергаем нулевую гипотезу\")\n",
    "else:\n",
    "    display(\"Не получилось отвергнуть нулевую гипотезу\") "
   ]
  },
  {
   "cell_type": "markdown",
   "metadata": {},
   "source": [
    "**Вывод**\n",
    "\n",
    "Нулевая гипотеза не отвергнута, средняя частота заказов покупателей «Сад и огород» не имеет статистически значимой разницы со  средней частотой заказов «Товары для дома»."
   ]
  },
  {
   "cell_type": "markdown",
   "metadata": {},
   "source": [
    "### Cредний чек заказов покупателей в категории \"Сад и огород\" в зимний и летний период различается\n",
    "\n",
    "Сформулируем гипотезу. За нулевую гипотезу примем утверждение о том, что средняя цена заказов покупателей «Сад и огород» в зимний период равна средней цене заказов в летний период. Альтернативной гипотезой будет утверждение о том, что средние цены в разные периоды не равны. За зимний период возьмем 5 месяцев с октября 2018 по февраль 2019, за летний период - 5 месяцев с марта 2019 по июль 2019. Будем использовать специальный метод для проверки гипотезы о равенстве среднего двух генеральных совокупностей по взятым из них выборкам `ttest_ind`. Так как мы знаем, что выборки разного размера, укажем в параметре `equal_var` значение `False`. Критический уровень статистической значимости установим в 5 %."
   ]
  },
  {
   "cell_type": "code",
   "execution_count": 41,
   "metadata": {},
   "outputs": [
    {
     "data": {
      "text/plain": [
       "'other'"
      ]
     },
     "execution_count": 41,
     "metadata": {},
     "output_type": "execute_result"
    }
   ],
   "source": [
    "# объявим функцию для определения периода\n",
    "def season_detection(date):\n",
    "    if date < pd.Timestamp('2019-03-01 00:00:00'):\n",
    "        return 'winter'\n",
    "    if pd.Timestamp('2019-03-01 00:00:00') < date < pd.Timestamp('2019-08-01 00:00:00'):\n",
    "        return 'summer'\n",
    "    return 'other'\n",
    "\n",
    "season_detection(pd.Timestamp('2019-09-01 00:00:00'))"
   ]
  },
  {
   "cell_type": "code",
   "execution_count": 42,
   "metadata": {
    "scrolled": false
   },
   "outputs": [
    {
     "name": "stderr",
     "output_type": "stream",
     "text": [
      "/tmp/ipykernel_145/1134009872.py:2: SettingWithCopyWarning: \n",
      "A value is trying to be set on a copy of a slice from a DataFrame.\n",
      "Try using .loc[row_indexer,col_indexer] = value instead\n",
      "\n",
      "See the caveats in the documentation: https://pandas.pydata.org/pandas-docs/stable/user_guide/indexing.html#returning-a-view-versus-a-copy\n",
      "  df_garden['season'] = df_garden['date'].apply(season_detection)\n"
     ]
    }
   ],
   "source": [
    "# добавляем информацию о периоде\n",
    "df_garden['season'] = df_garden['date'].apply(season_detection)"
   ]
  },
  {
   "cell_type": "code",
   "execution_count": 43,
   "metadata": {
    "scrolled": false
   },
   "outputs": [
    {
     "data": {
      "text/html": [
       "<div>\n",
       "<style scoped>\n",
       "    .dataframe tbody tr th:only-of-type {\n",
       "        vertical-align: middle;\n",
       "    }\n",
       "\n",
       "    .dataframe tbody tr th {\n",
       "        vertical-align: top;\n",
       "    }\n",
       "\n",
       "    .dataframe thead th {\n",
       "        text-align: right;\n",
       "    }\n",
       "</style>\n",
       "<table border=\"1\" class=\"dataframe\">\n",
       "  <thead>\n",
       "    <tr style=\"text-align: right;\">\n",
       "      <th></th>\n",
       "      <th>customer_id</th>\n",
       "      <th>season</th>\n",
       "      <th>orders</th>\n",
       "      <th>revenue</th>\n",
       "      <th>avg_bill</th>\n",
       "    </tr>\n",
       "  </thead>\n",
       "  <tbody>\n",
       "    <tr>\n",
       "      <th>402</th>\n",
       "      <td>b7b865ab-0735-407f-8d0c-31f74d2806cc</td>\n",
       "      <td>summer</td>\n",
       "      <td>4</td>\n",
       "      <td>2862.0</td>\n",
       "      <td>715.5</td>\n",
       "    </tr>\n",
       "    <tr>\n",
       "      <th>434</th>\n",
       "      <td>c971fb21-d54c-4134-938f-16b62ee86d3b</td>\n",
       "      <td>summer</td>\n",
       "      <td>2</td>\n",
       "      <td>804.0</td>\n",
       "      <td>402.0</td>\n",
       "    </tr>\n",
       "    <tr>\n",
       "      <th>508</th>\n",
       "      <td>eb6521ae-56e3-4a72-9ea2-e9c69701ff3f</td>\n",
       "      <td>summer</td>\n",
       "      <td>1</td>\n",
       "      <td>698.0</td>\n",
       "      <td>698.0</td>\n",
       "    </tr>\n",
       "  </tbody>\n",
       "</table>\n",
       "</div>"
      ],
      "text/plain": [
       "                              customer_id  season  orders  revenue  avg_bill\n",
       "402  b7b865ab-0735-407f-8d0c-31f74d2806cc  summer       4   2862.0     715.5\n",
       "434  c971fb21-d54c-4134-938f-16b62ee86d3b  summer       2    804.0     402.0\n",
       "508  eb6521ae-56e3-4a72-9ea2-e9c69701ff3f  summer       1    698.0     698.0"
      ]
     },
     "execution_count": 43,
     "metadata": {},
     "output_type": "execute_result"
    }
   ],
   "source": [
    "# группируем данные по покупателям и периодам\n",
    "df_garden_seasons = (\n",
    "    df_garden.groupby(by=['customer_id', 'season'], dropna=False)\n",
    "    .agg({'order_id': 'nunique', 'revenue': 'sum'})\n",
    "    .rename(columns={'order_id': 'orders'})\n",
    "    .reset_index()\n",
    ")\n",
    "\n",
    "df_garden_seasons['avg_bill'] = df_garden_seasons['revenue'] / df_garden_seasons['orders']\n",
    "\n",
    "# выделяем зимних покупателей\n",
    "garden_winter = df_garden_seasons.query('season == \"winter\"')\n",
    "winter = list(garden_winter['customer_id'])\n",
    "\n",
    "# выделяем летних покупателей\n",
    "garden_summer = df_garden_seasons.query('season == \"summer\"')\n",
    "\n",
    "# проверяем пересечения между выборками\n",
    "garden_summer.query('customer_id in @winter')"
   ]
  },
  {
   "cell_type": "markdown",
   "metadata": {},
   "source": [
    "Всего 3 покупателя делали покупки и летом и зимой, удалим их."
   ]
  },
  {
   "cell_type": "code",
   "execution_count": 44,
   "metadata": {},
   "outputs": [],
   "source": [
    "all_seasons_cust = [\n",
    "    'b7b865ab-0735-407f-8d0c-31f74d2806cc',\n",
    "    'c971fb21-d54c-4134-938f-16b62ee86d3b',\n",
    "    'eb6521ae-56e3-4a72-9ea2-e9c69701ff3f'\n",
    "]\n",
    "\n",
    "garden_winter = garden_winter.query('customer_id not in @all_seasons_cust')\n",
    "garden_summer = garden_summer.query('customer_id not in @all_seasons_cust')"
   ]
  },
  {
   "cell_type": "code",
   "execution_count": 45,
   "metadata": {
    "scrolled": true
   },
   "outputs": [
    {
     "data": {
      "text/plain": [
       "'Средняя цена заказов зимних покупателей «Сад и огород»:'"
      ]
     },
     "metadata": {},
     "output_type": "display_data"
    },
    {
     "data": {
      "text/plain": [
       "609.3807947019867"
      ]
     },
     "metadata": {},
     "output_type": "display_data"
    },
    {
     "data": {
      "text/plain": [
       "'Средняя цена заказов летних покупателей «Сад и огород»:'"
      ]
     },
     "metadata": {},
     "output_type": "display_data"
    },
    {
     "data": {
      "text/plain": [
       "793.2483108108108"
      ]
     },
     "metadata": {},
     "output_type": "display_data"
    },
    {
     "data": {
      "text/plain": [
       "'p-значение:'"
      ]
     },
     "metadata": {},
     "output_type": "display_data"
    },
    {
     "data": {
      "text/plain": [
       "0.05646475273191859"
      ]
     },
     "metadata": {},
     "output_type": "display_data"
    },
    {
     "data": {
      "text/plain": [
       "'Не получилось отвергнуть нулевую гипотезу'"
      ]
     },
     "metadata": {},
     "output_type": "display_data"
    }
   ],
   "source": [
    "alpha = 0.05 # критический уровень статистической значимости\n",
    "# если p-value окажется меньше него - отвергнем гипотезу\n",
    "\n",
    "results = st.ttest_ind(\n",
    "    garden_winter['avg_bill'], \n",
    "    garden_summer['avg_bill'], equal_var=False)\n",
    "\n",
    "display('Средняя цена заказов зимних покупателей «Сад и огород»:',  garden_winter['avg_bill'].mean())\n",
    "display('Средняя цена заказов летних покупателей «Сад и огород»:',  garden_summer['avg_bill'].mean())\n",
    "display('p-значение:', results.pvalue)\n",
    "\n",
    "if results.pvalue < alpha:\n",
    "    display(\"Отвергаем нулевую гипотезу\")\n",
    "else:\n",
    "    display(\"Не получилось отвергнуть нулевую гипотезу\") "
   ]
  },
  {
   "cell_type": "markdown",
   "metadata": {},
   "source": [
    "**Вывод**\n",
    "\n",
    "Нулевая гипотеза не отвергнута - средняя цена заказов покупателей «Сад и огород» в зимний период не имеет статистически значимого различия со средней ценой заказов в летний период."
   ]
  },
  {
   "cell_type": "markdown",
   "metadata": {},
   "source": [
    "### Cредняя частота заказов покупателей в категории \"Сад и огород\" в зимний и летний период различается\n",
    "\n",
    "Сформулируем гипотезу. За нулевую гипотезу примем утверждение о том, что средняя частота заказов покупателей «Сад и огород» зимний период равна средней частоте заказов в летний период. Альтернативной гипотезой будет утверждение о том, что средние частоты в периодах не равны. Параметры проверки аналогичны предыдущим."
   ]
  },
  {
   "cell_type": "code",
   "execution_count": 46,
   "metadata": {},
   "outputs": [
    {
     "data": {
      "text/plain": [
       "'Средняя частота заказов зимних покупателей «Сад и огород»:'"
      ]
     },
     "metadata": {},
     "output_type": "display_data"
    },
    {
     "data": {
      "text/plain": [
       "1.0728476821192052"
      ]
     },
     "metadata": {},
     "output_type": "display_data"
    },
    {
     "data": {
      "text/plain": [
       "'Средняя частота заказов летних покупателей «Сад и огород»:'"
      ]
     },
     "metadata": {},
     "output_type": "display_data"
    },
    {
     "data": {
      "text/plain": [
       "1.1114864864864864"
      ]
     },
     "metadata": {},
     "output_type": "display_data"
    },
    {
     "data": {
      "text/plain": [
       "'p-значение:'"
      ]
     },
     "metadata": {},
     "output_type": "display_data"
    },
    {
     "data": {
      "text/plain": [
       "0.24543285595368367"
      ]
     },
     "metadata": {},
     "output_type": "display_data"
    },
    {
     "data": {
      "text/plain": [
       "'Не получилось отвергнуть нулевую гипотезу'"
      ]
     },
     "metadata": {},
     "output_type": "display_data"
    }
   ],
   "source": [
    "alpha = 0.05 # критический уровень статистической значимости\n",
    "# если p-value окажется меньше него - отвергнем гипотезу\n",
    "\n",
    "results = st.ttest_ind(\n",
    "    garden_winter['orders'], \n",
    "    garden_summer['orders'], equal_var=False)\n",
    "\n",
    "display('Средняя частота заказов зимних покупателей «Сад и огород»:',  garden_winter['orders'].mean())\n",
    "display('Средняя частота заказов летних покупателей «Сад и огород»:',  garden_summer['orders'].mean())\n",
    "display('p-значение:', results.pvalue)\n",
    "\n",
    "if results.pvalue < alpha:\n",
    "    display(\"Отвергаем нулевую гипотезу\")\n",
    "else:\n",
    "    display(\"Не получилось отвергнуть нулевую гипотезу\") "
   ]
  },
  {
   "cell_type": "markdown",
   "metadata": {},
   "source": [
    "**Вывод**\n",
    "\n",
    "Нулевая гипотеза не отвергнута - средняя частота заказов покупателей «Сад и огород» в зимний период не имеет статистически значимого различия со средней частотой заказов в летний период."
   ]
  },
  {
   "cell_type": "markdown",
   "metadata": {},
   "source": [
    "## Подготовка персонализированных предложений"
   ]
  },
  {
   "cell_type": "markdown",
   "metadata": {},
   "source": [
    "### Крупные покупатели\n",
    "Посмотрим, что заказывают крупные покупатели "
   ]
  },
  {
   "cell_type": "code",
   "execution_count": 47,
   "metadata": {
    "scrolled": true
   },
   "outputs": [
    {
     "data": {
      "text/html": [
       "<div>\n",
       "<style scoped>\n",
       "    .dataframe tbody tr th:only-of-type {\n",
       "        vertical-align: middle;\n",
       "    }\n",
       "\n",
       "    .dataframe tbody tr th {\n",
       "        vertical-align: top;\n",
       "    }\n",
       "\n",
       "    .dataframe thead th {\n",
       "        text-align: right;\n",
       "    }\n",
       "</style>\n",
       "<table border=\"1\" class=\"dataframe\">\n",
       "  <thead>\n",
       "    <tr style=\"text-align: right;\">\n",
       "      <th></th>\n",
       "      <th>product_type</th>\n",
       "      <th>customers</th>\n",
       "      <th>orders</th>\n",
       "      <th>revenue</th>\n",
       "    </tr>\n",
       "  </thead>\n",
       "  <tbody>\n",
       "    <tr>\n",
       "      <th>0</th>\n",
       "      <td>посуда</td>\n",
       "      <td>5</td>\n",
       "      <td>12</td>\n",
       "      <td>45552.0</td>\n",
       "    </tr>\n",
       "    <tr>\n",
       "      <th>1</th>\n",
       "      <td>сад и огород</td>\n",
       "      <td>4</td>\n",
       "      <td>17</td>\n",
       "      <td>17642.0</td>\n",
       "    </tr>\n",
       "    <tr>\n",
       "      <th>2</th>\n",
       "      <td>текстиль</td>\n",
       "      <td>7</td>\n",
       "      <td>39</td>\n",
       "      <td>152057.0</td>\n",
       "    </tr>\n",
       "    <tr>\n",
       "      <th>3</th>\n",
       "      <td>товары для дома</td>\n",
       "      <td>19</td>\n",
       "      <td>131</td>\n",
       "      <td>425154.0</td>\n",
       "    </tr>\n",
       "  </tbody>\n",
       "</table>\n",
       "</div>"
      ],
      "text/plain": [
       "      product_type  customers  orders   revenue\n",
       "0           посуда          5      12   45552.0\n",
       "1     сад и огород          4      17   17642.0\n",
       "2         текстиль          7      39  152057.0\n",
       "3  товары для дома         19     131  425154.0"
      ]
     },
     "execution_count": 47,
     "metadata": {},
     "output_type": "execute_result"
    }
   ],
   "source": [
    "big_custs = df.query('customer_id in @big_custs_id')\n",
    "\n",
    "big_prod = (\n",
    "    big_custs.groupby('product_type')\n",
    "    .agg({'customer_id': 'nunique', 'order_id': 'nunique', 'revenue': 'sum'})\n",
    "    .rename(columns={'order_id': 'orders', 'customer_id': 'customers'})\n",
    "    .reset_index()\n",
    ")\n",
    "\n",
    "big_prod"
   ]
  },
  {
   "cell_type": "code",
   "execution_count": 48,
   "metadata": {},
   "outputs": [
    {
     "data": {
      "image/png": "[encoded data removed]",
      "text/plain": [
       "<Figure size 1080x360 with 1 Axes>"
      ]
     },
     "metadata": {
      "needs_background": "light"
     },
     "output_type": "display_data"
    }
   ],
   "source": [
    "big_prods_top_q = big_custs.sort_values(by='quantity', ascending=False).head(10)\n",
    "\n",
    "plt.figure(figsize=(15, 5))\n",
    "\n",
    "f = sns.barplot(data=big_prods_top_q, x=[fill(l, 12) for l in big_prods_top_q['product']], y='quantity')\n",
    "sns.despine()\n",
    "f.set_title('Самое большое количество товаров в заказе (сегмент крупных покупателей)')\n",
    "f.set_xlabel('Товар')\n",
    "f.set_ylabel('Количество')\n",
    "\n",
    "plt.show()"
   ]
  },
  {
   "cell_type": "markdown",
   "metadata": {},
   "source": [
    "Как мы видим, крупные покупатели заказывают в больших количествах такие товары как вешалки и тележки, что говорит о том, что скорее всего они приобретаются для дальнейшей перепродажи. Такие покупатели приносят большой доход, поэтому нужно стараться их удерживать и привлекать новых. В качестве персонального предлложения для этого сегмента можно давать скидку при покупке определенного количества товара. Например, скидка 10% при покупке более 5 тележек.  "
   ]
  },
  {
   "cell_type": "markdown",
   "metadata": {},
   "source": [
    "### Летние и зимние покупатели в категории \"сад и огород\" \n",
    "\n",
    "Проверим их различия."
   ]
  },
  {
   "cell_type": "code",
   "execution_count": 49,
   "metadata": {},
   "outputs": [
    {
     "data": {
      "image/png": "[encoded data removed]",
      "text/plain": [
       "<Figure size 797.125x360 with 1 Axes>"
      ]
     },
     "metadata": {
      "needs_background": "light"
     },
     "output_type": "display_data"
    }
   ],
   "source": [
    "# построим график количества заказанных товаров по категориям\n",
    "f = sns.displot(df_garden, x='date', hue='season', aspect=2/1)\n",
    "f.set_axis_labels('Дата', 'Количество товаров')\n",
    "f.legend.set_title('Категории')\n",
    "plt.show()"
   ]
  },
  {
   "cell_type": "code",
   "execution_count": 50,
   "metadata": {
    "scrolled": false
   },
   "outputs": [],
   "source": [
    "seasonal = (\n",
    "    df_garden.query('season != \"other\"')\n",
    "    .groupby('season')\n",
    "    .agg({'customer_id': 'nunique', 'order_id': 'nunique', 'revenue': 'sum'})\n",
    "    .rename(columns={'order_id': 'orders', 'customer_id': 'customers'})\n",
    "    .reset_index()\n",
    ")"
   ]
  },
  {
   "cell_type": "code",
   "execution_count": 51,
   "metadata": {},
   "outputs": [
    {
     "data": {
      "image/png": "[encoded data removed]",
      "text/plain": [
       "<Figure size 1080x360 with 3 Axes>"
      ]
     },
     "metadata": {
      "needs_background": "light"
     },
     "output_type": "display_data"
    }
   ],
   "source": [
    "plt.figure(figsize=(15, 5))\n",
    "\n",
    "for i, col in enumerate(['customers', 'orders', 'revenue']):\n",
    "    sns.barplot(\n",
    "        data=seasonal,\n",
    "        x='season',\n",
    "        y=col,\n",
    "        ax=plt.subplot(1, 3, i + 1)\n",
    "    )\n",
    "\n",
    "plt.tight_layout()\n",
    "plt.show() "
   ]
  },
  {
   "cell_type": "markdown",
   "metadata": {},
   "source": [
    "В летний период наблюдается наплыв покупателей, их количество вырастает в два раза. При этом мы уже выяснили, что средний чек и частота покупок не зависят от сезона и остаются стабильными. Необходимо повышать средний чек у летних покупателей. Например, проводить распродажи в летний сезон, давать скидку при покупке нескольких товаров. "
   ]
  },
  {
   "cell_type": "markdown",
   "metadata": {},
   "source": [
    "## Общий вывод"
   ]
  },
  {
   "cell_type": "markdown",
   "metadata": {},
   "source": [
    "По результатам исследования можно сделать следующие выводы:\n",
    "\n",
    "- Количество покупателей: 2420\n",
    "- Количество заказов: 2783\n",
    "- Суммарная выручка: 3413503\n",
    "- Средний чек: 1226\n",
    "- Средняя выручка с покупателя: 1410\n",
    "- Анализ распределения заказов по датам показал наличие роста числа заказанных товаров в период с мая по июнь. Это связано с покупкой сезонных товаров в категории сад и огород.\n",
    "- Самые продаваемые товары - цветы. \n",
    "- Товары с самой большой выручкой - простынь, сумка-тележка и вешалки.\n",
    "- Проведена сегментация товаров на 4 категории: сад и огород, товары для дома, текстиль, посуда.\n",
    "- По количеству покупателей и суммарной выручке лидирует категория \"товары для дома\".\n",
    "- Самый низкий средний чек в категории «сад и огород».\n",
    "- Частота покупок у всех категорий примерно одинакова.\n",
    "- Средняя цена заказов покупателей в категории «Товары для дома» больше, чем  в категории «Сад и огород»\n",
    "- Средняя цена и частота заказов покупателей категории «Сад и огород» в зимний и летний период не имеют статистической значимого различия.\n",
    "\n",
    "В качестве персонального предлложения для сегмента крупных покупателей можно давать скидку при покупке больших объемов товара. Например, скидка 10% при покупке более 5 тележек. \n",
    "\n",
    "Необходимо повышать средний чек у летних покупателей, проводить распродажи в летний сезон, давать скидку при покупке нескольких товаров. "
   ]
  },
  {
   "cell_type": "markdown",
   "metadata": {},
   "source": [
    "Презентация: <https://drive.google.com/file/d/1-f9k6Z_f4p9_l3v0ygMuopxfurDJqDOI/view?usp=sharing>"
   ]
  }
 ],
 "metadata": {
  "ExecuteTimeLog": [
   {
    "duration": 1461,
    "start_time": "2022-10-14T11:15:29.391Z"
   },
   {
    "duration": 4,
    "start_time": "2022-10-14T11:16:00.643Z"
   },
   {
    "duration": 3,
    "start_time": "2022-10-14T11:16:29.050Z"
   },
   {
    "duration": 58,
    "start_time": "2022-10-14T11:17:43.914Z"
   },
   {
    "duration": 45,
    "start_time": "2022-10-14T11:17:54.861Z"
   },
   {
    "duration": 1422,
    "start_time": "2022-10-15T12:38:13.921Z"
   },
   {
    "duration": 4,
    "start_time": "2022-10-15T12:38:15.346Z"
   },
   {
    "duration": 6,
    "start_time": "2022-10-15T12:38:15.351Z"
   },
   {
    "duration": 59,
    "start_time": "2022-10-15T12:38:15.358Z"
   },
   {
    "duration": 37,
    "start_time": "2022-10-15T12:38:15.419Z"
   },
   {
    "duration": 9,
    "start_time": "2022-10-15T12:40:01.281Z"
   },
   {
    "duration": 994,
    "start_time": "2022-10-15T12:43:01.816Z"
   },
   {
    "duration": 20,
    "start_time": "2022-10-15T12:43:11.824Z"
   },
   {
    "duration": 9,
    "start_time": "2022-10-15T12:43:43.549Z"
   },
   {
    "duration": 13,
    "start_time": "2022-10-15T12:43:48.412Z"
   },
   {
    "duration": 19,
    "start_time": "2022-10-15T12:52:11.412Z"
   },
   {
    "duration": 1356,
    "start_time": "2022-10-15T12:52:45.330Z"
   },
   {
    "duration": 4,
    "start_time": "2022-10-15T12:52:46.688Z"
   },
   {
    "duration": 9,
    "start_time": "2022-10-15T12:52:46.694Z"
   },
   {
    "duration": 51,
    "start_time": "2022-10-15T12:52:46.705Z"
   },
   {
    "duration": 42,
    "start_time": "2022-10-15T12:52:46.757Z"
   },
   {
    "duration": 11,
    "start_time": "2022-10-15T12:52:46.801Z"
   },
   {
    "duration": 24,
    "start_time": "2022-10-15T12:52:46.834Z"
   },
   {
    "duration": 14,
    "start_time": "2022-10-15T12:53:26.585Z"
   },
   {
    "duration": 16,
    "start_time": "2022-10-15T12:54:30.469Z"
   },
   {
    "duration": 6,
    "start_time": "2022-10-15T12:59:28.934Z"
   },
   {
    "duration": 929,
    "start_time": "2022-10-15T13:23:08.766Z"
   },
   {
    "duration": 7,
    "start_time": "2022-10-15T13:23:28.970Z"
   },
   {
    "duration": 8,
    "start_time": "2022-10-15T13:25:38.286Z"
   },
   {
    "duration": 18,
    "start_time": "2022-10-15T13:27:02.090Z"
   },
   {
    "duration": 503,
    "start_time": "2022-10-15T13:27:08.394Z"
   },
   {
    "duration": 402,
    "start_time": "2022-10-15T13:27:27.854Z"
   },
   {
    "duration": 493,
    "start_time": "2022-10-15T13:27:36.574Z"
   },
   {
    "duration": 383,
    "start_time": "2022-10-15T13:27:45.531Z"
   },
   {
    "duration": 1340,
    "start_time": "2022-10-17T11:34:32.787Z"
   },
   {
    "duration": 5,
    "start_time": "2022-10-17T11:34:34.129Z"
   },
   {
    "duration": 6,
    "start_time": "2022-10-17T11:34:34.136Z"
   },
   {
    "duration": 71,
    "start_time": "2022-10-17T11:34:34.144Z"
   },
   {
    "duration": 40,
    "start_time": "2022-10-17T11:34:34.217Z"
   },
   {
    "duration": 8,
    "start_time": "2022-10-17T11:34:34.259Z"
   },
   {
    "duration": 17,
    "start_time": "2022-10-17T11:34:34.269Z"
   },
   {
    "duration": 6,
    "start_time": "2022-10-17T11:34:34.288Z"
   },
   {
    "duration": 8,
    "start_time": "2022-10-17T11:34:34.295Z"
   },
   {
    "duration": 473,
    "start_time": "2022-10-17T11:34:34.333Z"
   },
   {
    "duration": 12,
    "start_time": "2022-10-17T12:19:49.434Z"
   },
   {
    "duration": 12,
    "start_time": "2022-10-17T12:20:44.539Z"
   },
   {
    "duration": 12,
    "start_time": "2022-10-17T12:22:02.183Z"
   },
   {
    "duration": 15,
    "start_time": "2022-10-17T12:33:44.715Z"
   },
   {
    "duration": 7,
    "start_time": "2022-10-17T12:34:11.812Z"
   },
   {
    "duration": 349,
    "start_time": "2022-10-17T12:34:20.657Z"
   },
   {
    "duration": 25,
    "start_time": "2022-10-17T12:40:47.076Z"
   },
   {
    "duration": 8,
    "start_time": "2022-10-17T12:41:33.827Z"
   },
   {
    "duration": 8,
    "start_time": "2022-10-17T12:41:53.323Z"
   },
   {
    "duration": 1413,
    "start_time": "2022-10-18T06:12:36.188Z"
   },
   {
    "duration": 4,
    "start_time": "2022-10-18T06:12:37.603Z"
   },
   {
    "duration": 6,
    "start_time": "2022-10-18T06:12:37.608Z"
   },
   {
    "duration": 61,
    "start_time": "2022-10-18T06:12:37.616Z"
   },
   {
    "duration": 40,
    "start_time": "2022-10-18T06:12:37.678Z"
   },
   {
    "duration": 11,
    "start_time": "2022-10-18T06:12:37.719Z"
   },
   {
    "duration": 19,
    "start_time": "2022-10-18T06:12:37.736Z"
   },
   {
    "duration": 12,
    "start_time": "2022-10-18T06:12:37.756Z"
   },
   {
    "duration": 12,
    "start_time": "2022-10-18T06:12:37.769Z"
   },
   {
    "duration": 28,
    "start_time": "2022-10-18T06:12:37.783Z"
   },
   {
    "duration": 8,
    "start_time": "2022-10-18T06:12:37.812Z"
   },
   {
    "duration": 7,
    "start_time": "2022-10-18T06:12:37.821Z"
   },
   {
    "duration": 518,
    "start_time": "2022-10-18T06:12:37.829Z"
   },
   {
    "duration": 13,
    "start_time": "2022-10-18T06:43:25.204Z"
   },
   {
    "duration": 10,
    "start_time": "2022-10-18T06:43:44.329Z"
   },
   {
    "duration": 5,
    "start_time": "2022-10-18T06:44:30.805Z"
   },
   {
    "duration": 8,
    "start_time": "2022-10-18T06:47:59.597Z"
   },
   {
    "duration": 10,
    "start_time": "2022-10-18T06:57:53.965Z"
   },
   {
    "duration": 11,
    "start_time": "2022-10-18T06:57:55.244Z"
   },
   {
    "duration": 13,
    "start_time": "2022-10-18T07:15:04.606Z"
   },
   {
    "duration": 17,
    "start_time": "2022-10-18T07:17:27.070Z"
   },
   {
    "duration": 16,
    "start_time": "2022-10-18T07:20:02.357Z"
   },
   {
    "duration": 18,
    "start_time": "2022-10-18T07:26:00.454Z"
   },
   {
    "duration": 15,
    "start_time": "2022-10-18T07:27:05.630Z"
   },
   {
    "duration": 283,
    "start_time": "2022-10-18T09:26:28.051Z"
   },
   {
    "duration": 8648,
    "start_time": "2022-10-18T09:27:11.251Z"
   },
   {
    "duration": 1296,
    "start_time": "2022-10-18T09:27:26.724Z"
   },
   {
    "duration": 1279,
    "start_time": "2022-10-18T09:33:34.967Z"
   },
   {
    "duration": 130,
    "start_time": "2022-10-18T09:33:59.551Z"
   },
   {
    "duration": 120,
    "start_time": "2022-10-18T09:35:58.059Z"
   },
   {
    "duration": 87,
    "start_time": "2022-10-18T09:36:28.575Z"
   },
   {
    "duration": 15,
    "start_time": "2022-10-18T09:38:13.995Z"
   },
   {
    "duration": 12,
    "start_time": "2022-10-18T09:38:25.671Z"
   },
   {
    "duration": 11,
    "start_time": "2022-10-18T09:42:03.587Z"
   },
   {
    "duration": 9,
    "start_time": "2022-10-18T09:42:35.507Z"
   },
   {
    "duration": 1253,
    "start_time": "2022-10-18T11:01:15.612Z"
   },
   {
    "duration": 3,
    "start_time": "2022-10-18T11:01:16.867Z"
   },
   {
    "duration": 7,
    "start_time": "2022-10-18T11:01:16.871Z"
   },
   {
    "duration": 179,
    "start_time": "2022-10-18T11:01:16.880Z"
   },
   {
    "duration": 36,
    "start_time": "2022-10-18T11:01:17.060Z"
   },
   {
    "duration": 8,
    "start_time": "2022-10-18T11:01:17.097Z"
   },
   {
    "duration": 9,
    "start_time": "2022-10-18T11:01:17.107Z"
   },
   {
    "duration": 12,
    "start_time": "2022-10-18T11:01:17.117Z"
   },
   {
    "duration": 9,
    "start_time": "2022-10-18T11:01:17.130Z"
   },
   {
    "duration": 7,
    "start_time": "2022-10-18T11:01:17.141Z"
   },
   {
    "duration": 14,
    "start_time": "2022-10-18T11:01:17.149Z"
   },
   {
    "duration": 48,
    "start_time": "2022-10-18T11:01:17.165Z"
   },
   {
    "duration": 8,
    "start_time": "2022-10-18T11:01:17.214Z"
   },
   {
    "duration": 7,
    "start_time": "2022-10-18T11:01:17.223Z"
   },
   {
    "duration": 8,
    "start_time": "2022-10-18T11:01:17.231Z"
   },
   {
    "duration": 5,
    "start_time": "2022-10-18T11:01:17.240Z"
   },
   {
    "duration": 512,
    "start_time": "2022-10-18T11:01:17.247Z"
   },
   {
    "duration": 119,
    "start_time": "2022-10-18T12:16:12.459Z"
   },
   {
    "duration": 16,
    "start_time": "2022-10-18T12:16:33.119Z"
   },
   {
    "duration": 21,
    "start_time": "2022-10-18T12:23:46.296Z"
   },
   {
    "duration": 384,
    "start_time": "2022-10-18T12:31:05.111Z"
   },
   {
    "duration": 401,
    "start_time": "2022-10-18T12:31:19.617Z"
   },
   {
    "duration": 356,
    "start_time": "2022-10-18T12:31:42.836Z"
   },
   {
    "duration": 327,
    "start_time": "2022-10-18T12:31:55.256Z"
   },
   {
    "duration": 342,
    "start_time": "2022-10-18T12:32:00.916Z"
   },
   {
    "duration": 436,
    "start_time": "2022-10-18T12:32:28.028Z"
   },
   {
    "duration": 350,
    "start_time": "2022-10-18T12:39:55.923Z"
   },
   {
    "duration": 1388,
    "start_time": "2022-10-18T16:07:55.542Z"
   },
   {
    "duration": 3,
    "start_time": "2022-10-18T16:07:56.932Z"
   },
   {
    "duration": 17,
    "start_time": "2022-10-18T16:07:56.937Z"
   },
   {
    "duration": 82,
    "start_time": "2022-10-18T16:07:56.956Z"
   },
   {
    "duration": 46,
    "start_time": "2022-10-18T16:07:57.040Z"
   },
   {
    "duration": 9,
    "start_time": "2022-10-18T16:07:57.088Z"
   },
   {
    "duration": 35,
    "start_time": "2022-10-18T16:07:57.098Z"
   },
   {
    "duration": 32,
    "start_time": "2022-10-18T16:07:57.135Z"
   },
   {
    "duration": 14,
    "start_time": "2022-10-18T16:07:57.169Z"
   },
   {
    "duration": 36,
    "start_time": "2022-10-18T16:07:57.186Z"
   },
   {
    "duration": 25,
    "start_time": "2022-10-18T16:07:57.223Z"
   },
   {
    "duration": 35,
    "start_time": "2022-10-18T16:07:57.249Z"
   },
   {
    "duration": 24,
    "start_time": "2022-10-18T16:07:57.286Z"
   },
   {
    "duration": 9,
    "start_time": "2022-10-18T16:07:57.312Z"
   },
   {
    "duration": 10,
    "start_time": "2022-10-18T16:07:57.323Z"
   },
   {
    "duration": 7,
    "start_time": "2022-10-18T16:07:57.334Z"
   },
   {
    "duration": 563,
    "start_time": "2022-10-18T16:07:57.342Z"
   },
   {
    "duration": 161,
    "start_time": "2022-10-18T16:09:32.946Z"
   },
   {
    "duration": 171,
    "start_time": "2022-10-18T16:22:25.783Z"
   },
   {
    "duration": 1431,
    "start_time": "2022-10-19T09:18:28.601Z"
   },
   {
    "duration": 3,
    "start_time": "2022-10-19T09:18:30.035Z"
   },
   {
    "duration": 33,
    "start_time": "2022-10-19T09:18:30.040Z"
   },
   {
    "duration": 214,
    "start_time": "2022-10-19T09:18:30.075Z"
   },
   {
    "duration": 40,
    "start_time": "2022-10-19T09:18:30.292Z"
   },
   {
    "duration": 25,
    "start_time": "2022-10-19T09:18:30.334Z"
   },
   {
    "duration": 42,
    "start_time": "2022-10-19T09:18:30.361Z"
   },
   {
    "duration": 35,
    "start_time": "2022-10-19T09:18:30.405Z"
   },
   {
    "duration": 24,
    "start_time": "2022-10-19T09:18:30.441Z"
   },
   {
    "duration": 48,
    "start_time": "2022-10-19T09:18:30.466Z"
   },
   {
    "duration": 35,
    "start_time": "2022-10-19T09:18:30.516Z"
   },
   {
    "duration": 49,
    "start_time": "2022-10-19T09:18:30.552Z"
   },
   {
    "duration": 44,
    "start_time": "2022-10-19T09:18:30.603Z"
   },
   {
    "duration": 33,
    "start_time": "2022-10-19T09:18:30.650Z"
   },
   {
    "duration": 48,
    "start_time": "2022-10-19T09:18:30.685Z"
   },
   {
    "duration": 22,
    "start_time": "2022-10-19T09:18:30.734Z"
   },
   {
    "duration": 555,
    "start_time": "2022-10-19T09:18:30.758Z"
   },
   {
    "duration": 9,
    "start_time": "2022-10-19T14:26:00.774Z"
   },
   {
    "duration": 17,
    "start_time": "2022-10-19T14:26:02.258Z"
   },
   {
    "duration": 12,
    "start_time": "2022-10-19T14:28:27.329Z"
   },
   {
    "duration": 8,
    "start_time": "2022-10-19T14:28:55.253Z"
   },
   {
    "duration": 9,
    "start_time": "2022-10-19T14:29:53.262Z"
   },
   {
    "duration": 13,
    "start_time": "2022-10-19T14:37:35.091Z"
   },
   {
    "duration": 20,
    "start_time": "2022-10-19T14:38:32.134Z"
   },
   {
    "duration": 14,
    "start_time": "2022-10-19T14:39:53.566Z"
   },
   {
    "duration": 127,
    "start_time": "2022-10-19T15:00:20.794Z"
   },
   {
    "duration": 10,
    "start_time": "2022-10-19T15:00:37.325Z"
   },
   {
    "duration": 7,
    "start_time": "2022-10-19T15:01:23.650Z"
   },
   {
    "duration": 7,
    "start_time": "2022-10-19T15:01:40.709Z"
   },
   {
    "duration": 6,
    "start_time": "2022-10-19T15:02:25.570Z"
   },
   {
    "duration": 9,
    "start_time": "2022-10-19T15:05:14.006Z"
   },
   {
    "duration": 21,
    "start_time": "2022-10-19T15:05:15.167Z"
   },
   {
    "duration": 10,
    "start_time": "2022-10-19T15:05:42.718Z"
   },
   {
    "duration": 9,
    "start_time": "2022-10-19T15:07:02.133Z"
   },
   {
    "duration": 9,
    "start_time": "2022-10-19T15:07:55.054Z"
   },
   {
    "duration": 10,
    "start_time": "2022-10-19T15:08:09.094Z"
   },
   {
    "duration": 16,
    "start_time": "2022-10-19T15:14:09.514Z"
   },
   {
    "duration": 17,
    "start_time": "2022-10-19T15:16:24.994Z"
   },
   {
    "duration": 180,
    "start_time": "2022-10-19T16:16:15.525Z"
   },
   {
    "duration": 1475,
    "start_time": "2022-10-20T09:54:14.442Z"
   },
   {
    "duration": 4,
    "start_time": "2022-10-20T09:54:15.919Z"
   },
   {
    "duration": 5,
    "start_time": "2022-10-20T09:54:15.925Z"
   },
   {
    "duration": 199,
    "start_time": "2022-10-20T09:54:15.932Z"
   },
   {
    "duration": 44,
    "start_time": "2022-10-20T09:54:16.133Z"
   },
   {
    "duration": 11,
    "start_time": "2022-10-20T09:54:16.179Z"
   },
   {
    "duration": 16,
    "start_time": "2022-10-20T09:54:16.192Z"
   },
   {
    "duration": 16,
    "start_time": "2022-10-20T09:54:16.211Z"
   },
   {
    "duration": 7,
    "start_time": "2022-10-20T09:54:16.229Z"
   },
   {
    "duration": 18,
    "start_time": "2022-10-20T09:54:16.239Z"
   },
   {
    "duration": 39,
    "start_time": "2022-10-20T09:54:16.259Z"
   },
   {
    "duration": 20,
    "start_time": "2022-10-20T09:54:16.300Z"
   },
   {
    "duration": 8,
    "start_time": "2022-10-20T09:54:16.322Z"
   },
   {
    "duration": 16,
    "start_time": "2022-10-20T09:54:16.332Z"
   },
   {
    "duration": 48,
    "start_time": "2022-10-20T09:54:16.351Z"
   },
   {
    "duration": 12,
    "start_time": "2022-10-20T09:54:16.401Z"
   },
   {
    "duration": 19,
    "start_time": "2022-10-20T09:54:16.414Z"
   },
   {
    "duration": 18,
    "start_time": "2022-10-20T09:54:16.435Z"
   },
   {
    "duration": 46,
    "start_time": "2022-10-20T09:54:16.454Z"
   },
   {
    "duration": 21,
    "start_time": "2022-10-20T09:54:16.502Z"
   },
   {
    "duration": 12,
    "start_time": "2022-10-20T09:54:16.524Z"
   },
   {
    "duration": 7,
    "start_time": "2022-10-20T09:54:16.538Z"
   },
   {
    "duration": 618,
    "start_time": "2022-10-20T09:54:16.547Z"
   },
   {
    "duration": 201,
    "start_time": "2022-10-20T09:54:17.167Z"
   },
   {
    "duration": 6,
    "start_time": "2022-10-20T10:02:47.113Z"
   },
   {
    "duration": 375,
    "start_time": "2022-10-20T10:05:58.578Z"
   },
   {
    "duration": 627,
    "start_time": "2022-10-20T10:06:49.736Z"
   },
   {
    "duration": 8,
    "start_time": "2022-10-20T10:07:54.043Z"
   },
   {
    "duration": 394,
    "start_time": "2022-10-20T10:08:13.539Z"
   },
   {
    "duration": 190,
    "start_time": "2022-10-20T10:10:30.513Z"
   },
   {
    "duration": 1486,
    "start_time": "2022-11-02T10:45:08.581Z"
   },
   {
    "duration": 4,
    "start_time": "2022-11-02T10:45:10.069Z"
   },
   {
    "duration": 7,
    "start_time": "2022-11-02T10:45:10.075Z"
   },
   {
    "duration": 85,
    "start_time": "2022-11-02T10:45:10.085Z"
   },
   {
    "duration": 44,
    "start_time": "2022-11-02T10:45:10.172Z"
   },
   {
    "duration": 10,
    "start_time": "2022-11-02T10:45:10.217Z"
   },
   {
    "duration": 15,
    "start_time": "2022-11-02T10:45:10.229Z"
   },
   {
    "duration": 17,
    "start_time": "2022-11-02T10:45:10.246Z"
   },
   {
    "duration": 8,
    "start_time": "2022-11-02T10:45:10.265Z"
   },
   {
    "duration": 57,
    "start_time": "2022-11-02T10:45:10.277Z"
   },
   {
    "duration": 12,
    "start_time": "2022-11-02T10:45:10.336Z"
   },
   {
    "duration": 25,
    "start_time": "2022-11-02T10:45:10.351Z"
   },
   {
    "duration": 12,
    "start_time": "2022-11-02T10:45:10.378Z"
   },
   {
    "duration": 15,
    "start_time": "2022-11-02T10:45:10.424Z"
   },
   {
    "duration": 17,
    "start_time": "2022-11-02T10:45:10.440Z"
   },
   {
    "duration": 10,
    "start_time": "2022-11-02T10:45:10.459Z"
   },
   {
    "duration": 18,
    "start_time": "2022-11-02T10:45:10.471Z"
   },
   {
    "duration": 18,
    "start_time": "2022-11-02T10:45:10.524Z"
   },
   {
    "duration": 10,
    "start_time": "2022-11-02T10:45:10.544Z"
   },
   {
    "duration": 10,
    "start_time": "2022-11-02T10:45:10.556Z"
   },
   {
    "duration": 10,
    "start_time": "2022-11-02T10:45:10.568Z"
   },
   {
    "duration": 45,
    "start_time": "2022-11-02T10:45:10.580Z"
   },
   {
    "duration": 544,
    "start_time": "2022-11-02T10:45:10.627Z"
   },
   {
    "duration": 242,
    "start_time": "2022-11-02T10:45:11.173Z"
   },
   {
    "duration": 11,
    "start_time": "2022-11-02T10:45:11.417Z"
   },
   {
    "duration": 674,
    "start_time": "2022-11-02T10:45:11.431Z"
   },
   {
    "duration": 513,
    "start_time": "2022-11-02T10:45:12.106Z"
   },
   {
    "duration": 234,
    "start_time": "2022-11-02T10:45:12.625Z"
   },
   {
    "duration": 13,
    "start_time": "2022-11-02T10:57:56.691Z"
   },
   {
    "duration": 13,
    "start_time": "2022-11-02T10:58:36.138Z"
   },
   {
    "duration": 15,
    "start_time": "2022-11-02T11:17:50.816Z"
   },
   {
    "duration": 6,
    "start_time": "2022-11-02T11:48:13.737Z"
   },
   {
    "duration": 158,
    "start_time": "2022-11-02T11:58:07.376Z"
   },
   {
    "duration": 11,
    "start_time": "2022-11-02T12:02:58.192Z"
   },
   {
    "duration": 658,
    "start_time": "2022-11-02T12:02:59.256Z"
   },
   {
    "duration": 392,
    "start_time": "2022-11-02T12:03:09.414Z"
   },
   {
    "duration": 113,
    "start_time": "2022-11-02T12:05:34.337Z"
   },
   {
    "duration": 315,
    "start_time": "2022-11-02T12:05:41.703Z"
   },
   {
    "duration": 199,
    "start_time": "2022-11-02T12:06:22.752Z"
   },
   {
    "duration": 10,
    "start_time": "2022-11-02T12:14:41.067Z"
   },
   {
    "duration": 1286,
    "start_time": "2022-11-02T12:15:07.157Z"
   },
   {
    "duration": 5,
    "start_time": "2022-11-02T12:15:08.445Z"
   },
   {
    "duration": 21,
    "start_time": "2022-11-02T12:15:08.451Z"
   },
   {
    "duration": 53,
    "start_time": "2022-11-02T12:15:08.474Z"
   },
   {
    "duration": 43,
    "start_time": "2022-11-02T12:15:08.530Z"
   },
   {
    "duration": 11,
    "start_time": "2022-11-02T12:15:08.575Z"
   },
   {
    "duration": 16,
    "start_time": "2022-11-02T12:15:08.587Z"
   },
   {
    "duration": 21,
    "start_time": "2022-11-02T12:15:08.624Z"
   },
   {
    "duration": 12,
    "start_time": "2022-11-02T12:15:08.647Z"
   },
   {
    "duration": 34,
    "start_time": "2022-11-02T12:15:08.660Z"
   },
   {
    "duration": 24,
    "start_time": "2022-11-02T12:15:08.696Z"
   },
   {
    "duration": 46,
    "start_time": "2022-11-02T12:15:08.722Z"
   },
   {
    "duration": 15,
    "start_time": "2022-11-02T12:15:08.769Z"
   },
   {
    "duration": 20,
    "start_time": "2022-11-02T12:15:08.787Z"
   },
   {
    "duration": 24,
    "start_time": "2022-11-02T12:15:08.809Z"
   },
   {
    "duration": 22,
    "start_time": "2022-11-02T12:15:08.836Z"
   },
   {
    "duration": 31,
    "start_time": "2022-11-02T12:15:08.860Z"
   },
   {
    "duration": 33,
    "start_time": "2022-11-02T12:15:08.893Z"
   },
   {
    "duration": 18,
    "start_time": "2022-11-02T12:15:08.927Z"
   },
   {
    "duration": 9,
    "start_time": "2022-11-02T12:15:08.946Z"
   },
   {
    "duration": 180,
    "start_time": "2022-11-02T12:15:08.957Z"
   },
   {
    "duration": 5,
    "start_time": "2022-11-02T12:15:09.139Z"
   },
   {
    "duration": 11,
    "start_time": "2022-11-02T12:15:09.145Z"
   },
   {
    "duration": 558,
    "start_time": "2022-11-02T12:15:09.158Z"
   },
   {
    "duration": 13,
    "start_time": "2022-11-02T12:15:09.717Z"
   },
   {
    "duration": 709,
    "start_time": "2022-11-02T12:15:09.732Z"
   },
   {
    "duration": 484,
    "start_time": "2022-11-02T12:15:10.443Z"
   },
   {
    "duration": 4,
    "start_time": "2022-11-02T12:15:10.929Z"
   },
   {
    "duration": 1540,
    "start_time": "2022-11-02T12:15:10.935Z"
   },
   {
    "duration": 27,
    "start_time": "2022-11-02T12:15:12.477Z"
   },
   {
    "duration": 25,
    "start_time": "2022-11-02T12:25:04.707Z"
   },
   {
    "duration": 21,
    "start_time": "2022-11-02T12:25:19.298Z"
   },
   {
    "duration": 24,
    "start_time": "2022-11-02T12:26:29.840Z"
   },
   {
    "duration": 22,
    "start_time": "2022-11-02T12:36:03.646Z"
   },
   {
    "duration": 1504,
    "start_time": "2022-11-02T15:31:52.464Z"
   },
   {
    "duration": 4,
    "start_time": "2022-11-02T15:31:53.970Z"
   },
   {
    "duration": 10,
    "start_time": "2022-11-02T15:31:53.975Z"
   },
   {
    "duration": 100,
    "start_time": "2022-11-02T15:31:53.988Z"
   },
   {
    "duration": 48,
    "start_time": "2022-11-02T15:31:54.090Z"
   },
   {
    "duration": 9,
    "start_time": "2022-11-02T15:31:54.140Z"
   },
   {
    "duration": 11,
    "start_time": "2022-11-02T15:31:54.151Z"
   },
   {
    "duration": 18,
    "start_time": "2022-11-02T15:31:54.164Z"
   },
   {
    "duration": 11,
    "start_time": "2022-11-02T15:31:54.184Z"
   },
   {
    "duration": 42,
    "start_time": "2022-11-02T15:31:54.199Z"
   },
   {
    "duration": 10,
    "start_time": "2022-11-02T15:31:54.242Z"
   },
   {
    "duration": 23,
    "start_time": "2022-11-02T15:31:54.253Z"
   },
   {
    "duration": 52,
    "start_time": "2022-11-02T15:31:54.277Z"
   },
   {
    "duration": 16,
    "start_time": "2022-11-02T15:31:54.330Z"
   },
   {
    "duration": 16,
    "start_time": "2022-11-02T15:31:54.348Z"
   },
   {
    "duration": 14,
    "start_time": "2022-11-02T15:31:54.366Z"
   },
   {
    "duration": 48,
    "start_time": "2022-11-02T15:31:54.382Z"
   },
   {
    "duration": 18,
    "start_time": "2022-11-02T15:31:54.431Z"
   },
   {
    "duration": 20,
    "start_time": "2022-11-02T15:31:54.451Z"
   },
   {
    "duration": 12,
    "start_time": "2022-11-02T15:31:54.473Z"
   },
   {
    "duration": 210,
    "start_time": "2022-11-02T15:31:54.486Z"
   },
   {
    "duration": 5,
    "start_time": "2022-11-02T15:31:54.698Z"
   },
   {
    "duration": 20,
    "start_time": "2022-11-02T15:31:54.705Z"
   },
   {
    "duration": 520,
    "start_time": "2022-11-02T15:31:54.726Z"
   },
   {
    "duration": 11,
    "start_time": "2022-11-02T15:31:55.248Z"
   },
   {
    "duration": 717,
    "start_time": "2022-11-02T15:31:55.261Z"
   },
   {
    "duration": 480,
    "start_time": "2022-11-02T15:31:55.980Z"
   },
   {
    "duration": 4,
    "start_time": "2022-11-02T15:31:56.463Z"
   },
   {
    "duration": 1407,
    "start_time": "2022-11-02T15:31:56.469Z"
   },
   {
    "duration": 26,
    "start_time": "2022-11-02T15:31:57.878Z"
   },
   {
    "duration": 40,
    "start_time": "2022-11-02T15:31:57.906Z"
   },
   {
    "duration": 5,
    "start_time": "2022-11-02T15:51:07.558Z"
   },
   {
    "duration": 113,
    "start_time": "2022-11-02T16:04:31.479Z"
   },
   {
    "duration": 17,
    "start_time": "2022-11-02T16:22:28.264Z"
   },
   {
    "duration": 25,
    "start_time": "2022-11-02T16:22:35.588Z"
   },
   {
    "duration": 21,
    "start_time": "2022-11-02T16:23:34.979Z"
   },
   {
    "duration": 21,
    "start_time": "2022-11-02T16:23:57.100Z"
   },
   {
    "duration": 21,
    "start_time": "2022-11-02T16:24:20.760Z"
   },
   {
    "duration": 1856,
    "start_time": "2022-11-02T17:17:24.146Z"
   },
   {
    "duration": 4,
    "start_time": "2022-11-02T17:17:26.004Z"
   },
   {
    "duration": 4,
    "start_time": "2022-11-02T17:17:26.010Z"
   },
   {
    "duration": 45,
    "start_time": "2022-11-02T17:17:26.023Z"
   },
   {
    "duration": 42,
    "start_time": "2022-11-02T17:17:26.069Z"
   },
   {
    "duration": 11,
    "start_time": "2022-11-02T17:17:26.113Z"
   },
   {
    "duration": 15,
    "start_time": "2022-11-02T17:17:26.126Z"
   },
   {
    "duration": 15,
    "start_time": "2022-11-02T17:17:26.143Z"
   },
   {
    "duration": 7,
    "start_time": "2022-11-02T17:17:26.160Z"
   },
   {
    "duration": 54,
    "start_time": "2022-11-02T17:17:26.170Z"
   },
   {
    "duration": 10,
    "start_time": "2022-11-02T17:17:26.226Z"
   },
   {
    "duration": 20,
    "start_time": "2022-11-02T17:17:26.238Z"
   },
   {
    "duration": 10,
    "start_time": "2022-11-02T17:17:26.260Z"
   },
   {
    "duration": 15,
    "start_time": "2022-11-02T17:17:26.271Z"
   },
   {
    "duration": 47,
    "start_time": "2022-11-02T17:17:26.287Z"
   },
   {
    "duration": 14,
    "start_time": "2022-11-02T17:17:26.336Z"
   },
   {
    "duration": 15,
    "start_time": "2022-11-02T17:17:26.351Z"
   },
   {
    "duration": 21,
    "start_time": "2022-11-02T17:17:26.367Z"
   },
   {
    "duration": 20,
    "start_time": "2022-11-02T17:17:26.423Z"
   },
   {
    "duration": 9,
    "start_time": "2022-11-02T17:17:26.445Z"
   },
   {
    "duration": 182,
    "start_time": "2022-11-02T17:17:26.456Z"
   },
   {
    "duration": 6,
    "start_time": "2022-11-02T17:17:26.639Z"
   },
   {
    "duration": 7,
    "start_time": "2022-11-02T17:17:26.647Z"
   },
   {
    "duration": 545,
    "start_time": "2022-11-02T17:17:26.656Z"
   },
   {
    "duration": 21,
    "start_time": "2022-11-02T17:17:27.203Z"
   },
   {
    "duration": 711,
    "start_time": "2022-11-02T17:17:27.226Z"
   },
   {
    "duration": 419,
    "start_time": "2022-11-02T17:17:27.940Z"
   },
   {
    "duration": 5,
    "start_time": "2022-11-02T17:17:28.362Z"
   },
   {
    "duration": 1584,
    "start_time": "2022-11-02T17:17:28.370Z"
   },
   {
    "duration": 170,
    "start_time": "2022-11-02T17:17:29.957Z"
   },
   {
    "duration": 0,
    "start_time": "2022-11-02T17:17:30.130Z"
   },
   {
    "duration": 47,
    "start_time": "2022-11-02T17:18:49.042Z"
   },
   {
    "duration": 1430,
    "start_time": "2022-11-02T17:32:15.567Z"
   },
   {
    "duration": 24,
    "start_time": "2022-11-02T17:39:59.547Z"
   },
   {
    "duration": 35,
    "start_time": "2022-11-02T17:40:15.462Z"
   },
   {
    "duration": 23,
    "start_time": "2022-11-02T18:00:54.906Z"
   },
   {
    "duration": 23,
    "start_time": "2022-11-02T18:05:26.050Z"
   },
   {
    "duration": 25,
    "start_time": "2022-11-02T18:05:35.905Z"
   },
   {
    "duration": 21,
    "start_time": "2022-11-02T18:06:43.698Z"
   },
   {
    "duration": 22,
    "start_time": "2022-11-02T18:07:00.810Z"
   },
   {
    "duration": 32,
    "start_time": "2022-11-02T18:07:50.658Z"
   },
   {
    "duration": 23,
    "start_time": "2022-11-02T18:08:06.574Z"
   },
   {
    "duration": 37,
    "start_time": "2022-11-02T18:08:28.449Z"
   },
   {
    "duration": 28,
    "start_time": "2022-11-02T18:08:46.325Z"
   },
   {
    "duration": 28,
    "start_time": "2022-11-02T18:09:18.942Z"
   },
   {
    "duration": 32,
    "start_time": "2022-11-02T18:09:39.969Z"
   },
   {
    "duration": 23,
    "start_time": "2022-11-02T18:10:12.613Z"
   },
   {
    "duration": 23,
    "start_time": "2022-11-02T18:20:23.894Z"
   },
   {
    "duration": 26,
    "start_time": "2022-11-02T18:24:04.954Z"
   },
   {
    "duration": 7,
    "start_time": "2022-11-02T18:24:32.466Z"
   },
   {
    "duration": 9,
    "start_time": "2022-11-02T18:24:39.227Z"
   },
   {
    "duration": 15,
    "start_time": "2022-11-02T18:25:40.474Z"
   },
   {
    "duration": 13,
    "start_time": "2022-11-02T18:27:25.727Z"
   },
   {
    "duration": 25,
    "start_time": "2022-11-02T18:28:07.363Z"
   },
   {
    "duration": 22,
    "start_time": "2022-11-02T18:29:31.127Z"
   },
   {
    "duration": 71,
    "start_time": "2022-11-02T18:34:05.902Z"
   },
   {
    "duration": 2030,
    "start_time": "2022-11-03T06:50:05.993Z"
   },
   {
    "duration": 4,
    "start_time": "2022-11-03T06:50:08.026Z"
   },
   {
    "duration": 17,
    "start_time": "2022-11-03T06:50:08.032Z"
   },
   {
    "duration": 194,
    "start_time": "2022-11-03T06:50:08.056Z"
   },
   {
    "duration": 39,
    "start_time": "2022-11-03T06:50:08.252Z"
   },
   {
    "duration": 9,
    "start_time": "2022-11-03T06:50:08.293Z"
   },
   {
    "duration": 11,
    "start_time": "2022-11-03T06:50:08.303Z"
   },
   {
    "duration": 34,
    "start_time": "2022-11-03T06:50:08.315Z"
   },
   {
    "duration": 8,
    "start_time": "2022-11-03T06:50:08.355Z"
   },
   {
    "duration": 20,
    "start_time": "2022-11-03T06:50:08.366Z"
   },
   {
    "duration": 10,
    "start_time": "2022-11-03T06:50:08.388Z"
   },
   {
    "duration": 62,
    "start_time": "2022-11-03T06:50:08.399Z"
   },
   {
    "duration": 9,
    "start_time": "2022-11-03T06:50:08.463Z"
   },
   {
    "duration": 13,
    "start_time": "2022-11-03T06:50:08.474Z"
   },
   {
    "duration": 11,
    "start_time": "2022-11-03T06:50:08.489Z"
   },
   {
    "duration": 48,
    "start_time": "2022-11-03T06:50:08.502Z"
   },
   {
    "duration": 28,
    "start_time": "2022-11-03T06:50:08.555Z"
   },
   {
    "duration": 19,
    "start_time": "2022-11-03T06:50:08.585Z"
   },
   {
    "duration": 50,
    "start_time": "2022-11-03T06:50:08.605Z"
   },
   {
    "duration": 23,
    "start_time": "2022-11-03T06:50:08.657Z"
   },
   {
    "duration": 154,
    "start_time": "2022-11-03T06:50:08.681Z"
   },
   {
    "duration": 12,
    "start_time": "2022-11-03T06:50:08.837Z"
   },
   {
    "duration": 28,
    "start_time": "2022-11-03T06:50:08.852Z"
   },
   {
    "duration": 530,
    "start_time": "2022-11-03T06:50:08.881Z"
   },
   {
    "duration": 11,
    "start_time": "2022-11-03T06:50:09.413Z"
   },
   {
    "duration": 675,
    "start_time": "2022-11-03T06:50:09.426Z"
   },
   {
    "duration": 442,
    "start_time": "2022-11-03T06:50:10.103Z"
   },
   {
    "duration": 12,
    "start_time": "2022-11-03T06:50:10.556Z"
   },
   {
    "duration": 1750,
    "start_time": "2022-11-03T06:50:10.570Z"
   },
   {
    "duration": 33,
    "start_time": "2022-11-03T06:50:12.322Z"
   },
   {
    "duration": 982,
    "start_time": "2022-11-03T06:50:12.357Z"
   },
   {
    "duration": 25,
    "start_time": "2022-11-03T07:01:10.091Z"
   },
   {
    "duration": 13,
    "start_time": "2022-11-03T07:02:02.413Z"
   },
   {
    "duration": 34,
    "start_time": "2022-11-03T07:02:17.419Z"
   },
   {
    "duration": 26,
    "start_time": "2022-11-03T07:03:29.038Z"
   },
   {
    "duration": 22,
    "start_time": "2022-11-03T07:03:56.067Z"
   },
   {
    "duration": 23,
    "start_time": "2022-11-03T07:04:06.654Z"
   },
   {
    "duration": 20,
    "start_time": "2022-11-03T07:05:10.094Z"
   },
   {
    "duration": 21,
    "start_time": "2022-11-03T07:06:00.248Z"
   },
   {
    "duration": 21,
    "start_time": "2022-11-03T07:06:36.772Z"
   },
   {
    "duration": 20,
    "start_time": "2022-11-03T07:06:45.558Z"
   },
   {
    "duration": 35,
    "start_time": "2022-11-03T07:07:25.122Z"
   },
   {
    "duration": 22,
    "start_time": "2022-11-03T07:09:22.823Z"
   },
   {
    "duration": 119,
    "start_time": "2022-11-03T07:12:30.446Z"
   },
   {
    "duration": 17,
    "start_time": "2022-11-03T07:33:42.383Z"
   },
   {
    "duration": 16,
    "start_time": "2022-11-03T07:34:41.137Z"
   },
   {
    "duration": 195,
    "start_time": "2022-11-03T07:35:04.227Z"
   },
   {
    "duration": 164,
    "start_time": "2022-11-03T07:35:25.755Z"
   },
   {
    "duration": 7,
    "start_time": "2022-11-03T07:35:29.808Z"
   },
   {
    "duration": 174,
    "start_time": "2022-11-03T07:40:19.316Z"
   },
   {
    "duration": 11,
    "start_time": "2022-11-03T07:41:32.062Z"
   },
   {
    "duration": 5,
    "start_time": "2022-11-03T07:41:43.120Z"
   },
   {
    "duration": 13,
    "start_time": "2022-11-03T07:59:26.411Z"
   },
   {
    "duration": 14,
    "start_time": "2022-11-03T07:59:47.597Z"
   },
   {
    "duration": 11,
    "start_time": "2022-11-03T08:00:47.927Z"
   },
   {
    "duration": 13,
    "start_time": "2022-11-03T08:01:41.558Z"
   },
   {
    "duration": 49,
    "start_time": "2022-11-03T09:46:10.975Z"
   },
   {
    "duration": 46,
    "start_time": "2022-11-03T09:47:00.092Z"
   },
   {
    "duration": 13,
    "start_time": "2022-11-03T09:53:47.196Z"
   },
   {
    "duration": 11,
    "start_time": "2022-11-03T09:54:16.395Z"
   },
   {
    "duration": 12,
    "start_time": "2022-11-03T09:56:54.293Z"
   },
   {
    "duration": 13,
    "start_time": "2022-11-03T09:57:00.919Z"
   },
   {
    "duration": 18,
    "start_time": "2022-11-03T09:57:06.987Z"
   },
   {
    "duration": 13,
    "start_time": "2022-11-03T09:57:24.673Z"
   },
   {
    "duration": 20,
    "start_time": "2022-11-03T09:58:00.433Z"
   },
   {
    "duration": 15,
    "start_time": "2022-11-03T09:58:01.166Z"
   },
   {
    "duration": 9,
    "start_time": "2022-11-03T10:00:21.102Z"
   },
   {
    "duration": 8,
    "start_time": "2022-11-03T10:00:50.985Z"
   },
   {
    "duration": 11,
    "start_time": "2022-11-03T10:02:47.636Z"
   },
   {
    "duration": 9,
    "start_time": "2022-11-03T10:02:56.086Z"
   },
   {
    "duration": 11,
    "start_time": "2022-11-03T10:08:27.321Z"
   },
   {
    "duration": 9,
    "start_time": "2022-11-03T10:08:43.326Z"
   },
   {
    "duration": 11,
    "start_time": "2022-11-03T10:09:04.199Z"
   },
   {
    "duration": 9,
    "start_time": "2022-11-03T10:09:09.708Z"
   },
   {
    "duration": 12,
    "start_time": "2022-11-03T10:13:27.452Z"
   },
   {
    "duration": 13,
    "start_time": "2022-11-03T10:13:56.671Z"
   },
   {
    "duration": 8,
    "start_time": "2022-11-03T10:14:15.633Z"
   },
   {
    "duration": 8,
    "start_time": "2022-11-03T10:16:20.954Z"
   },
   {
    "duration": 7,
    "start_time": "2022-11-03T10:18:03.067Z"
   },
   {
    "duration": 10,
    "start_time": "2022-11-03T10:18:56.023Z"
   },
   {
    "duration": 15,
    "start_time": "2022-11-03T10:23:06.693Z"
   },
   {
    "duration": 23,
    "start_time": "2022-11-03T11:02:48.394Z"
   },
   {
    "duration": 6,
    "start_time": "2022-11-03T11:04:02.263Z"
   },
   {
    "duration": 8,
    "start_time": "2022-11-03T11:04:32.113Z"
   },
   {
    "duration": 1793,
    "start_time": "2022-11-03T11:30:04.532Z"
   },
   {
    "duration": 4,
    "start_time": "2022-11-03T11:30:06.327Z"
   },
   {
    "duration": 8,
    "start_time": "2022-11-03T11:30:06.333Z"
   },
   {
    "duration": 50,
    "start_time": "2022-11-03T11:30:06.343Z"
   },
   {
    "duration": 44,
    "start_time": "2022-11-03T11:30:06.395Z"
   },
   {
    "duration": 10,
    "start_time": "2022-11-03T11:30:06.441Z"
   },
   {
    "duration": 11,
    "start_time": "2022-11-03T11:30:06.452Z"
   },
   {
    "duration": 13,
    "start_time": "2022-11-03T11:30:06.465Z"
   },
   {
    "duration": 7,
    "start_time": "2022-11-03T11:30:06.479Z"
   },
   {
    "duration": 59,
    "start_time": "2022-11-03T11:30:06.488Z"
   },
   {
    "duration": 10,
    "start_time": "2022-11-03T11:30:06.549Z"
   },
   {
    "duration": 22,
    "start_time": "2022-11-03T11:30:06.560Z"
   },
   {
    "duration": 9,
    "start_time": "2022-11-03T11:30:06.584Z"
   },
   {
    "duration": 46,
    "start_time": "2022-11-03T11:30:06.594Z"
   },
   {
    "duration": 14,
    "start_time": "2022-11-03T11:30:06.642Z"
   },
   {
    "duration": 16,
    "start_time": "2022-11-03T11:30:06.658Z"
   },
   {
    "duration": 20,
    "start_time": "2022-11-03T11:30:06.676Z"
   },
   {
    "duration": 50,
    "start_time": "2022-11-03T11:30:06.698Z"
   },
   {
    "duration": 19,
    "start_time": "2022-11-03T11:30:06.751Z"
   },
   {
    "duration": 9,
    "start_time": "2022-11-03T11:30:06.771Z"
   },
   {
    "duration": 186,
    "start_time": "2022-11-03T11:30:06.782Z"
   },
   {
    "duration": 5,
    "start_time": "2022-11-03T11:30:06.970Z"
   },
   {
    "duration": 12,
    "start_time": "2022-11-03T11:30:06.977Z"
   },
   {
    "duration": 617,
    "start_time": "2022-11-03T11:30:06.991Z"
   },
   {
    "duration": 11,
    "start_time": "2022-11-03T11:30:07.611Z"
   },
   {
    "duration": 691,
    "start_time": "2022-11-03T11:30:07.623Z"
   },
   {
    "duration": 429,
    "start_time": "2022-11-03T11:30:08.316Z"
   },
   {
    "duration": 4,
    "start_time": "2022-11-03T11:30:08.748Z"
   },
   {
    "duration": 1448,
    "start_time": "2022-11-03T11:30:08.753Z"
   },
   {
    "duration": 40,
    "start_time": "2022-11-03T11:30:10.204Z"
   },
   {
    "duration": 279,
    "start_time": "2022-11-03T11:30:10.246Z"
   },
   {
    "duration": 20,
    "start_time": "2022-11-03T11:30:10.527Z"
   },
   {
    "duration": 23,
    "start_time": "2022-11-03T11:30:10.549Z"
   },
   {
    "duration": 16,
    "start_time": "2022-11-03T11:30:10.574Z"
   },
   {
    "duration": 15,
    "start_time": "2022-11-03T11:30:10.591Z"
   },
   {
    "duration": 35,
    "start_time": "2022-11-03T11:30:10.608Z"
   },
   {
    "duration": 22,
    "start_time": "2022-11-03T11:30:10.645Z"
   },
   {
    "duration": 9,
    "start_time": "2022-11-03T11:30:10.669Z"
   },
   {
    "duration": 244,
    "start_time": "2022-11-03T11:30:10.680Z"
   },
   {
    "duration": 12,
    "start_time": "2022-11-03T11:31:19.560Z"
   },
   {
    "duration": 11,
    "start_time": "2022-11-03T11:38:30.217Z"
   },
   {
    "duration": 1977,
    "start_time": "2022-11-03T14:07:52.869Z"
   },
   {
    "duration": 4,
    "start_time": "2022-11-03T14:07:54.848Z"
   },
   {
    "duration": 4,
    "start_time": "2022-11-03T14:07:54.854Z"
   },
   {
    "duration": 93,
    "start_time": "2022-11-03T14:07:54.861Z"
   },
   {
    "duration": 42,
    "start_time": "2022-11-03T14:07:54.956Z"
   },
   {
    "duration": 10,
    "start_time": "2022-11-03T14:07:55.000Z"
   },
   {
    "duration": 21,
    "start_time": "2022-11-03T14:07:55.011Z"
   },
   {
    "duration": 18,
    "start_time": "2022-11-03T14:07:55.034Z"
   },
   {
    "duration": 7,
    "start_time": "2022-11-03T14:07:55.054Z"
   },
   {
    "duration": 19,
    "start_time": "2022-11-03T14:07:55.064Z"
   },
   {
    "duration": 44,
    "start_time": "2022-11-03T14:07:55.084Z"
   },
   {
    "duration": 22,
    "start_time": "2022-11-03T14:07:55.130Z"
   },
   {
    "duration": 10,
    "start_time": "2022-11-03T14:07:55.154Z"
   },
   {
    "duration": 19,
    "start_time": "2022-11-03T14:07:55.165Z"
   },
   {
    "duration": 41,
    "start_time": "2022-11-03T14:07:55.186Z"
   },
   {
    "duration": 17,
    "start_time": "2022-11-03T14:07:55.229Z"
   },
   {
    "duration": 15,
    "start_time": "2022-11-03T14:07:55.248Z"
   },
   {
    "duration": 17,
    "start_time": "2022-11-03T14:07:55.265Z"
   },
   {
    "duration": 51,
    "start_time": "2022-11-03T14:07:55.284Z"
   },
   {
    "duration": 10,
    "start_time": "2022-11-03T14:07:55.337Z"
   },
   {
    "duration": 182,
    "start_time": "2022-11-03T14:07:55.349Z"
   },
   {
    "duration": 5,
    "start_time": "2022-11-03T14:07:55.533Z"
   },
   {
    "duration": 7,
    "start_time": "2022-11-03T14:07:55.540Z"
   },
   {
    "duration": 589,
    "start_time": "2022-11-03T14:07:55.549Z"
   },
   {
    "duration": 11,
    "start_time": "2022-11-03T14:07:56.140Z"
   },
   {
    "duration": 652,
    "start_time": "2022-11-03T14:07:56.152Z"
   },
   {
    "duration": 406,
    "start_time": "2022-11-03T14:07:56.806Z"
   },
   {
    "duration": 110,
    "start_time": "2022-11-03T14:07:57.223Z"
   },
   {
    "duration": 13,
    "start_time": "2022-11-03T14:07:57.335Z"
   },
   {
    "duration": 9,
    "start_time": "2022-11-03T14:07:57.350Z"
   },
   {
    "duration": 8,
    "start_time": "2022-11-03T14:07:57.361Z"
   },
   {
    "duration": 22,
    "start_time": "2022-11-03T14:07:57.370Z"
   },
   {
    "duration": 34,
    "start_time": "2022-11-03T14:07:57.394Z"
   },
   {
    "duration": 219,
    "start_time": "2022-11-03T14:07:57.430Z"
   },
   {
    "duration": 12,
    "start_time": "2022-11-03T14:07:57.651Z"
   },
   {
    "duration": 22,
    "start_time": "2022-11-03T14:57:42.636Z"
   },
   {
    "duration": 1863,
    "start_time": "2022-11-03T16:13:31.633Z"
   },
   {
    "duration": 4,
    "start_time": "2022-11-03T16:13:33.498Z"
   },
   {
    "duration": 15,
    "start_time": "2022-11-03T16:13:33.504Z"
   },
   {
    "duration": 70,
    "start_time": "2022-11-03T16:13:33.524Z"
   },
   {
    "duration": 44,
    "start_time": "2022-11-03T16:13:33.596Z"
   },
   {
    "duration": 10,
    "start_time": "2022-11-03T16:13:33.642Z"
   },
   {
    "duration": 12,
    "start_time": "2022-11-03T16:13:33.654Z"
   },
   {
    "duration": 16,
    "start_time": "2022-11-03T16:13:33.668Z"
   },
   {
    "duration": 41,
    "start_time": "2022-11-03T16:13:33.685Z"
   },
   {
    "duration": 11,
    "start_time": "2022-11-03T16:13:33.729Z"
   },
   {
    "duration": 1326,
    "start_time": "2022-11-03T16:13:33.742Z"
   },
   {
    "duration": 0,
    "start_time": "2022-11-03T16:13:35.071Z"
   },
   {
    "duration": 0,
    "start_time": "2022-11-03T16:13:35.072Z"
   },
   {
    "duration": 0,
    "start_time": "2022-11-03T16:13:35.073Z"
   },
   {
    "duration": 0,
    "start_time": "2022-11-03T16:13:35.075Z"
   },
   {
    "duration": 0,
    "start_time": "2022-11-03T16:13:35.076Z"
   },
   {
    "duration": 0,
    "start_time": "2022-11-03T16:13:35.077Z"
   },
   {
    "duration": 0,
    "start_time": "2022-11-03T16:13:35.078Z"
   },
   {
    "duration": 0,
    "start_time": "2022-11-03T16:13:35.079Z"
   },
   {
    "duration": 0,
    "start_time": "2022-11-03T16:13:35.081Z"
   },
   {
    "duration": 0,
    "start_time": "2022-11-03T16:13:35.082Z"
   },
   {
    "duration": 0,
    "start_time": "2022-11-03T16:13:35.084Z"
   },
   {
    "duration": 0,
    "start_time": "2022-11-03T16:13:35.085Z"
   },
   {
    "duration": 0,
    "start_time": "2022-11-03T16:13:35.086Z"
   },
   {
    "duration": 0,
    "start_time": "2022-11-03T16:13:35.087Z"
   },
   {
    "duration": 0,
    "start_time": "2022-11-03T16:13:35.088Z"
   },
   {
    "duration": 0,
    "start_time": "2022-11-03T16:13:35.089Z"
   },
   {
    "duration": 0,
    "start_time": "2022-11-03T16:13:35.090Z"
   },
   {
    "duration": 0,
    "start_time": "2022-11-03T16:13:35.091Z"
   },
   {
    "duration": 10,
    "start_time": "2022-11-03T16:14:27.097Z"
   },
   {
    "duration": 23,
    "start_time": "2022-11-03T16:15:42.699Z"
   },
   {
    "duration": 17,
    "start_time": "2022-11-03T16:16:00.665Z"
   },
   {
    "duration": 10,
    "start_time": "2022-11-03T16:16:08.213Z"
   },
   {
    "duration": 173,
    "start_time": "2022-11-03T16:16:47.817Z"
   },
   {
    "duration": 6,
    "start_time": "2022-11-03T16:16:50.238Z"
   },
   {
    "duration": 7,
    "start_time": "2022-11-03T16:16:52.801Z"
   },
   {
    "duration": 490,
    "start_time": "2022-11-03T16:16:53.973Z"
   },
   {
    "duration": 18,
    "start_time": "2022-11-03T16:28:21.872Z"
   },
   {
    "duration": 1837,
    "start_time": "2022-11-03T16:31:51.794Z"
   },
   {
    "duration": 3,
    "start_time": "2022-11-03T16:31:53.633Z"
   },
   {
    "duration": 5,
    "start_time": "2022-11-03T16:31:53.638Z"
   },
   {
    "duration": 50,
    "start_time": "2022-11-03T16:31:53.645Z"
   },
   {
    "duration": 42,
    "start_time": "2022-11-03T16:31:53.697Z"
   },
   {
    "duration": 9,
    "start_time": "2022-11-03T16:31:53.740Z"
   },
   {
    "duration": 12,
    "start_time": "2022-11-03T16:31:53.750Z"
   },
   {
    "duration": 14,
    "start_time": "2022-11-03T16:31:53.763Z"
   },
   {
    "duration": 9,
    "start_time": "2022-11-03T16:31:53.778Z"
   },
   {
    "duration": 8,
    "start_time": "2022-11-03T16:31:53.790Z"
   },
   {
    "duration": 10,
    "start_time": "2022-11-03T16:31:53.824Z"
   },
   {
    "duration": 20,
    "start_time": "2022-11-03T16:31:53.836Z"
   },
   {
    "duration": 15,
    "start_time": "2022-11-03T16:31:53.858Z"
   },
   {
    "duration": 10,
    "start_time": "2022-11-03T16:31:53.874Z"
   },
   {
    "duration": 196,
    "start_time": "2022-11-03T16:31:53.885Z"
   },
   {
    "duration": 6,
    "start_time": "2022-11-03T16:31:54.083Z"
   },
   {
    "duration": 7,
    "start_time": "2022-11-03T16:31:54.091Z"
   },
   {
    "duration": 496,
    "start_time": "2022-11-03T16:31:54.100Z"
   },
   {
    "duration": 31,
    "start_time": "2022-11-03T16:31:54.597Z"
   },
   {
    "duration": 13,
    "start_time": "2022-11-03T16:31:54.630Z"
   },
   {
    "duration": 672,
    "start_time": "2022-11-03T16:31:54.644Z"
   },
   {
    "duration": 413,
    "start_time": "2022-11-03T16:31:55.319Z"
   },
   {
    "duration": 131,
    "start_time": "2022-11-03T16:31:55.734Z"
   },
   {
    "duration": 8,
    "start_time": "2022-11-03T16:31:55.866Z"
   },
   {
    "duration": 15,
    "start_time": "2022-11-03T16:31:55.875Z"
   },
   {
    "duration": 34,
    "start_time": "2022-11-03T16:31:55.891Z"
   },
   {
    "duration": 221,
    "start_time": "2022-11-03T16:31:55.926Z"
   },
   {
    "duration": 11,
    "start_time": "2022-11-03T16:31:56.150Z"
   },
   {
    "duration": 151,
    "start_time": "2022-11-03T16:31:56.163Z"
   },
   {
    "duration": 2750,
    "start_time": "2022-11-04T08:35:57.945Z"
   },
   {
    "duration": 4,
    "start_time": "2022-11-04T08:36:00.697Z"
   },
   {
    "duration": 34,
    "start_time": "2022-11-04T08:36:00.702Z"
   },
   {
    "duration": 463,
    "start_time": "2022-11-04T08:36:00.739Z"
   },
   {
    "duration": 41,
    "start_time": "2022-11-04T08:36:01.204Z"
   },
   {
    "duration": 24,
    "start_time": "2022-11-04T08:36:01.246Z"
   },
   {
    "duration": 18,
    "start_time": "2022-11-04T08:36:01.271Z"
   },
   {
    "duration": 19,
    "start_time": "2022-11-04T08:36:01.291Z"
   },
   {
    "duration": 9,
    "start_time": "2022-11-04T08:36:01.311Z"
   },
   {
    "duration": 8,
    "start_time": "2022-11-04T08:36:01.323Z"
   },
   {
    "duration": 14,
    "start_time": "2022-11-04T08:36:01.333Z"
   },
   {
    "duration": 22,
    "start_time": "2022-11-04T08:36:01.349Z"
   },
   {
    "duration": 22,
    "start_time": "2022-11-04T08:36:01.373Z"
   },
   {
    "duration": 8,
    "start_time": "2022-11-04T08:36:01.397Z"
   },
   {
    "duration": 173,
    "start_time": "2022-11-04T08:36:01.407Z"
   },
   {
    "duration": 6,
    "start_time": "2022-11-04T08:36:01.582Z"
   },
   {
    "duration": 12,
    "start_time": "2022-11-04T08:36:01.590Z"
   },
   {
    "duration": 555,
    "start_time": "2022-11-04T08:36:01.604Z"
   },
   {
    "duration": 17,
    "start_time": "2022-11-04T08:36:02.161Z"
   },
   {
    "duration": 14,
    "start_time": "2022-11-04T08:36:02.180Z"
   },
   {
    "duration": 688,
    "start_time": "2022-11-04T08:36:02.195Z"
   },
   {
    "duration": 411,
    "start_time": "2022-11-04T08:36:02.885Z"
   },
   {
    "duration": 125,
    "start_time": "2022-11-04T08:36:03.298Z"
   },
   {
    "duration": 14,
    "start_time": "2022-11-04T08:36:03.424Z"
   },
   {
    "duration": 14,
    "start_time": "2022-11-04T08:36:03.439Z"
   },
   {
    "duration": 7,
    "start_time": "2022-11-04T08:36:03.455Z"
   },
   {
    "duration": 252,
    "start_time": "2022-11-04T08:36:03.463Z"
   },
   {
    "duration": 18,
    "start_time": "2022-11-04T08:36:03.718Z"
   },
   {
    "duration": 2,
    "start_time": "2022-11-04T08:36:03.738Z"
   },
   {
    "duration": 139,
    "start_time": "2022-11-04T08:36:03.742Z"
   },
   {
    "duration": 28,
    "start_time": "2022-11-04T09:56:09.739Z"
   },
   {
    "duration": 12,
    "start_time": "2022-11-04T10:11:25.150Z"
   },
   {
    "duration": 11,
    "start_time": "2022-11-04T10:12:31.475Z"
   },
   {
    "duration": 14,
    "start_time": "2022-11-04T10:13:21.079Z"
   },
   {
    "duration": 13,
    "start_time": "2022-11-04T10:14:04.243Z"
   },
   {
    "duration": 481,
    "start_time": "2022-11-04T10:16:47.135Z"
   },
   {
    "duration": 1760,
    "start_time": "2022-11-04T10:25:32.755Z"
   },
   {
    "duration": 2076,
    "start_time": "2022-11-04T10:25:48.402Z"
   },
   {
    "duration": 4417,
    "start_time": "2022-11-04T10:38:13.729Z"
   },
   {
    "duration": 4723,
    "start_time": "2022-11-04T10:38:49.215Z"
   },
   {
    "duration": 218,
    "start_time": "2022-11-04T10:39:26.235Z"
   },
   {
    "duration": 4411,
    "start_time": "2022-11-04T10:39:46.050Z"
   },
   {
    "duration": 156,
    "start_time": "2022-11-04T10:54:43.231Z"
   },
   {
    "duration": 9,
    "start_time": "2022-11-04T11:14:58.063Z"
   },
   {
    "duration": 4,
    "start_time": "2022-11-04T12:37:44.553Z"
   },
   {
    "duration": 14,
    "start_time": "2022-11-04T12:43:39.140Z"
   },
   {
    "duration": 13,
    "start_time": "2022-11-04T12:44:06.837Z"
   },
   {
    "duration": 15,
    "start_time": "2022-11-04T12:44:29.360Z"
   },
   {
    "duration": 15,
    "start_time": "2022-11-04T12:44:40.081Z"
   },
   {
    "duration": 19,
    "start_time": "2022-11-04T12:44:53.924Z"
   },
   {
    "duration": 15,
    "start_time": "2022-11-04T12:45:12.332Z"
   },
   {
    "duration": 19,
    "start_time": "2022-11-04T12:45:37.997Z"
   },
   {
    "duration": 4,
    "start_time": "2022-11-04T12:47:08.549Z"
   },
   {
    "duration": 16,
    "start_time": "2022-11-04T12:47:28.548Z"
   },
   {
    "duration": 149,
    "start_time": "2022-11-04T12:47:45.057Z"
   },
   {
    "duration": 26,
    "start_time": "2022-11-04T13:07:20.397Z"
   },
   {
    "duration": 149,
    "start_time": "2022-11-04T13:09:48.457Z"
   },
   {
    "duration": 128,
    "start_time": "2022-11-04T13:10:48.561Z"
   },
   {
    "duration": 142,
    "start_time": "2022-11-04T13:12:48.001Z"
   },
   {
    "duration": 15,
    "start_time": "2022-11-04T13:13:22.873Z"
   },
   {
    "duration": 139,
    "start_time": "2022-11-04T13:16:15.325Z"
   },
   {
    "duration": 886,
    "start_time": "2022-11-04T13:20:40.481Z"
   },
   {
    "duration": 203,
    "start_time": "2022-11-04T13:33:36.265Z"
   },
   {
    "duration": 159,
    "start_time": "2022-11-04T13:34:32.520Z"
   },
   {
    "duration": 142,
    "start_time": "2022-11-04T13:34:59.509Z"
   },
   {
    "duration": 133,
    "start_time": "2022-11-04T13:35:16.893Z"
   },
   {
    "duration": 159,
    "start_time": "2022-11-04T13:36:12.189Z"
   },
   {
    "duration": 17,
    "start_time": "2022-11-04T13:42:30.393Z"
   },
   {
    "duration": 18,
    "start_time": "2022-11-04T13:48:02.825Z"
   },
   {
    "duration": 21,
    "start_time": "2022-11-04T13:50:02.389Z"
   },
   {
    "duration": 20,
    "start_time": "2022-11-04T13:54:35.985Z"
   },
   {
    "duration": 13,
    "start_time": "2022-11-04T13:56:01.065Z"
   },
   {
    "duration": 13,
    "start_time": "2022-11-04T13:56:13.150Z"
   },
   {
    "duration": 15,
    "start_time": "2022-11-04T13:56:23.985Z"
   },
   {
    "duration": 18,
    "start_time": "2022-11-04T13:57:37.857Z"
   },
   {
    "duration": 12,
    "start_time": "2022-11-04T13:57:56.385Z"
   },
   {
    "duration": 249,
    "start_time": "2022-11-04T13:58:22.830Z"
   },
   {
    "duration": 230,
    "start_time": "2022-11-04T13:59:13.605Z"
   },
   {
    "duration": 270,
    "start_time": "2022-11-04T14:00:50.621Z"
   },
   {
    "duration": 366,
    "start_time": "2022-11-04T14:04:26.761Z"
   },
   {
    "duration": 20,
    "start_time": "2022-11-04T14:12:41.194Z"
   },
   {
    "duration": 13,
    "start_time": "2022-11-04T14:13:24.379Z"
   },
   {
    "duration": 14,
    "start_time": "2022-11-04T14:13:44.937Z"
   },
   {
    "duration": 8,
    "start_time": "2022-11-04T14:19:19.097Z"
   },
   {
    "duration": 7,
    "start_time": "2022-11-04T14:19:32.365Z"
   },
   {
    "duration": 8,
    "start_time": "2022-11-04T14:19:39.777Z"
   },
   {
    "duration": 8,
    "start_time": "2022-11-04T14:19:53.981Z"
   },
   {
    "duration": 17,
    "start_time": "2022-11-04T14:35:55.486Z"
   },
   {
    "duration": 7,
    "start_time": "2022-11-04T14:41:53.877Z"
   },
   {
    "duration": 19,
    "start_time": "2022-11-04T14:57:50.334Z"
   },
   {
    "duration": 13,
    "start_time": "2022-11-04T15:02:58.870Z"
   },
   {
    "duration": 21,
    "start_time": "2022-11-04T15:13:50.026Z"
   },
   {
    "duration": 21,
    "start_time": "2022-11-04T15:15:29.882Z"
   },
   {
    "duration": 20,
    "start_time": "2022-11-04T15:17:17.778Z"
   },
   {
    "duration": 44,
    "start_time": "2022-11-04T15:58:23.535Z"
   },
   {
    "duration": 5,
    "start_time": "2022-11-04T16:03:29.826Z"
   },
   {
    "duration": 5,
    "start_time": "2022-11-04T16:03:41.059Z"
   },
   {
    "duration": 5,
    "start_time": "2022-11-04T16:03:47.475Z"
   },
   {
    "duration": 190,
    "start_time": "2022-11-04T16:04:49.903Z"
   },
   {
    "duration": 11,
    "start_time": "2022-11-04T16:17:36.351Z"
   },
   {
    "duration": 4,
    "start_time": "2022-11-04T16:18:34.155Z"
   },
   {
    "duration": 14,
    "start_time": "2022-11-04T16:19:01.355Z"
   },
   {
    "duration": 5,
    "start_time": "2022-11-04T16:19:12.771Z"
   },
   {
    "duration": 29,
    "start_time": "2022-11-04T16:19:19.159Z"
   },
   {
    "duration": 44,
    "start_time": "2022-11-04T16:19:38.723Z"
   },
   {
    "duration": 1715,
    "start_time": "2022-11-04T16:20:14.999Z"
   },
   {
    "duration": 4,
    "start_time": "2022-11-04T16:20:16.716Z"
   },
   {
    "duration": 11,
    "start_time": "2022-11-04T16:20:16.722Z"
   },
   {
    "duration": 46,
    "start_time": "2022-11-04T16:20:16.736Z"
   },
   {
    "duration": 38,
    "start_time": "2022-11-04T16:20:16.783Z"
   },
   {
    "duration": 9,
    "start_time": "2022-11-04T16:20:16.823Z"
   },
   {
    "duration": 11,
    "start_time": "2022-11-04T16:20:16.833Z"
   },
   {
    "duration": 12,
    "start_time": "2022-11-04T16:20:16.846Z"
   },
   {
    "duration": 8,
    "start_time": "2022-11-04T16:20:16.860Z"
   },
   {
    "duration": 7,
    "start_time": "2022-11-04T16:20:16.871Z"
   },
   {
    "duration": 9,
    "start_time": "2022-11-04T16:20:16.879Z"
   },
   {
    "duration": 51,
    "start_time": "2022-11-04T16:20:16.889Z"
   },
   {
    "duration": 13,
    "start_time": "2022-11-04T16:20:16.942Z"
   },
   {
    "duration": 7,
    "start_time": "2022-11-04T16:20:16.956Z"
   },
   {
    "duration": 164,
    "start_time": "2022-11-04T16:20:16.965Z"
   },
   {
    "duration": 5,
    "start_time": "2022-11-04T16:20:17.132Z"
   },
   {
    "duration": 11,
    "start_time": "2022-11-04T16:20:17.139Z"
   },
   {
    "duration": 449,
    "start_time": "2022-11-04T16:20:17.152Z"
   },
   {
    "duration": 32,
    "start_time": "2022-11-04T16:20:17.604Z"
   },
   {
    "duration": 11,
    "start_time": "2022-11-04T16:20:17.638Z"
   },
   {
    "duration": 8,
    "start_time": "2022-11-04T16:20:17.650Z"
   },
   {
    "duration": 291,
    "start_time": "2022-11-04T16:20:17.660Z"
   },
   {
    "duration": 8,
    "start_time": "2022-11-04T16:20:17.953Z"
   },
   {
    "duration": 660,
    "start_time": "2022-11-04T16:20:17.962Z"
   },
   {
    "duration": 33,
    "start_time": "2022-11-04T16:20:18.624Z"
   },
   {
    "duration": 6,
    "start_time": "2022-11-04T16:20:18.659Z"
   },
   {
    "duration": 303,
    "start_time": "2022-11-04T16:20:18.667Z"
   },
   {
    "duration": 13,
    "start_time": "2022-11-04T16:20:18.973Z"
   },
   {
    "duration": 52,
    "start_time": "2022-11-04T16:20:18.987Z"
   },
   {
    "duration": 154,
    "start_time": "2022-11-04T16:20:19.041Z"
   },
   {
    "duration": 143,
    "start_time": "2022-11-04T16:20:19.197Z"
   },
   {
    "duration": 129,
    "start_time": "2022-11-04T16:20:19.341Z"
   },
   {
    "duration": 888,
    "start_time": "2022-11-04T16:20:19.472Z"
   },
   {
    "duration": 14,
    "start_time": "2022-11-04T16:20:20.361Z"
   },
   {
    "duration": 11,
    "start_time": "2022-11-04T16:20:20.377Z"
   },
   {
    "duration": 43,
    "start_time": "2022-11-04T16:20:20.390Z"
   },
   {
    "duration": 5,
    "start_time": "2022-11-04T16:20:20.435Z"
   },
   {
    "duration": 33,
    "start_time": "2022-11-04T16:20:20.441Z"
   },
   {
    "duration": 22,
    "start_time": "2022-11-04T16:20:28.787Z"
   },
   {
    "duration": 308,
    "start_time": "2022-11-04T16:20:58.690Z"
   },
   {
    "duration": 19,
    "start_time": "2022-11-04T16:21:27.164Z"
   },
   {
    "duration": 17,
    "start_time": "2022-11-04T16:22:43.003Z"
   },
   {
    "duration": 11,
    "start_time": "2022-11-04T16:24:15.911Z"
   },
   {
    "duration": 8,
    "start_time": "2022-11-04T16:24:20.134Z"
   },
   {
    "duration": 14,
    "start_time": "2022-11-04T16:24:23.347Z"
   },
   {
    "duration": 13,
    "start_time": "2022-11-04T16:24:43.975Z"
   },
   {
    "duration": 9,
    "start_time": "2022-11-04T16:29:10.024Z"
   },
   {
    "duration": 18,
    "start_time": "2022-11-04T16:29:12.507Z"
   },
   {
    "duration": 18,
    "start_time": "2022-11-04T16:29:13.989Z"
   },
   {
    "duration": 660,
    "start_time": "2022-11-04T16:40:12.135Z"
   },
   {
    "duration": 10,
    "start_time": "2022-11-04T16:40:32.856Z"
   },
   {
    "duration": 23,
    "start_time": "2022-11-04T16:40:45.872Z"
   },
   {
    "duration": 5,
    "start_time": "2022-11-04T16:41:05.875Z"
   },
   {
    "duration": 6,
    "start_time": "2022-11-04T16:41:12.440Z"
   },
   {
    "duration": 15,
    "start_time": "2022-11-04T16:43:35.956Z"
   },
   {
    "duration": 6,
    "start_time": "2022-11-04T16:43:55.555Z"
   },
   {
    "duration": 13,
    "start_time": "2022-11-04T16:43:57.024Z"
   },
   {
    "duration": 8,
    "start_time": "2022-11-04T16:44:04.144Z"
   },
   {
    "duration": 8,
    "start_time": "2022-11-04T16:44:18.111Z"
   },
   {
    "duration": 7,
    "start_time": "2022-11-04T16:46:17.803Z"
   },
   {
    "duration": 13,
    "start_time": "2022-11-04T16:46:28.185Z"
   },
   {
    "duration": 17,
    "start_time": "2022-11-04T16:49:31.800Z"
   },
   {
    "duration": 14,
    "start_time": "2022-11-04T16:49:45.260Z"
   },
   {
    "duration": 15,
    "start_time": "2022-11-04T16:50:09.175Z"
   },
   {
    "duration": 10,
    "start_time": "2022-11-04T16:51:16.248Z"
   },
   {
    "duration": 8,
    "start_time": "2022-11-04T16:51:30.728Z"
   },
   {
    "duration": 5,
    "start_time": "2022-11-04T16:51:42.684Z"
   },
   {
    "duration": 46,
    "start_time": "2022-11-04T16:52:09.888Z"
   },
   {
    "duration": 13,
    "start_time": "2022-11-04T16:52:23.975Z"
   },
   {
    "duration": 22,
    "start_time": "2022-11-04T17:04:57.580Z"
   },
   {
    "duration": 15,
    "start_time": "2022-11-04T17:08:49.721Z"
   },
   {
    "duration": 22,
    "start_time": "2022-11-04T17:15:02.708Z"
   },
   {
    "duration": 13,
    "start_time": "2022-11-04T17:18:07.044Z"
   },
   {
    "duration": 1690,
    "start_time": "2022-11-04T17:19:54.890Z"
   },
   {
    "duration": 4,
    "start_time": "2022-11-04T17:19:56.582Z"
   },
   {
    "duration": 11,
    "start_time": "2022-11-04T17:19:56.587Z"
   },
   {
    "duration": 48,
    "start_time": "2022-11-04T17:19:56.600Z"
   },
   {
    "duration": 42,
    "start_time": "2022-11-04T17:19:56.650Z"
   },
   {
    "duration": 10,
    "start_time": "2022-11-04T17:19:56.694Z"
   },
   {
    "duration": 33,
    "start_time": "2022-11-04T17:19:56.705Z"
   },
   {
    "duration": 14,
    "start_time": "2022-11-04T17:19:56.739Z"
   },
   {
    "duration": 8,
    "start_time": "2022-11-04T17:19:56.755Z"
   },
   {
    "duration": 7,
    "start_time": "2022-11-04T17:19:56.766Z"
   },
   {
    "duration": 8,
    "start_time": "2022-11-04T17:19:56.774Z"
   },
   {
    "duration": 17,
    "start_time": "2022-11-04T17:19:56.784Z"
   },
   {
    "duration": 15,
    "start_time": "2022-11-04T17:19:56.834Z"
   },
   {
    "duration": 8,
    "start_time": "2022-11-04T17:19:56.851Z"
   },
   {
    "duration": 179,
    "start_time": "2022-11-04T17:19:56.861Z"
   },
   {
    "duration": 5,
    "start_time": "2022-11-04T17:19:57.041Z"
   },
   {
    "duration": 8,
    "start_time": "2022-11-04T17:19:57.048Z"
   },
   {
    "duration": 453,
    "start_time": "2022-11-04T17:19:57.057Z"
   },
   {
    "duration": 30,
    "start_time": "2022-11-04T17:19:57.512Z"
   },
   {
    "duration": 12,
    "start_time": "2022-11-04T17:19:57.544Z"
   },
   {
    "duration": 8,
    "start_time": "2022-11-04T17:19:57.558Z"
   },
   {
    "duration": 300,
    "start_time": "2022-11-04T17:19:57.568Z"
   },
   {
    "duration": 9,
    "start_time": "2022-11-04T17:19:57.870Z"
   },
   {
    "duration": 696,
    "start_time": "2022-11-04T17:19:57.880Z"
   },
   {
    "duration": 30,
    "start_time": "2022-11-04T17:19:58.577Z"
   },
   {
    "duration": 7,
    "start_time": "2022-11-04T17:19:58.609Z"
   },
   {
    "duration": 220,
    "start_time": "2022-11-04T17:19:58.634Z"
   },
   {
    "duration": 15,
    "start_time": "2022-11-04T17:19:58.857Z"
   },
   {
    "duration": 24,
    "start_time": "2022-11-04T17:19:58.874Z"
   },
   {
    "duration": 268,
    "start_time": "2022-11-04T17:19:58.900Z"
   },
   {
    "duration": 157,
    "start_time": "2022-11-04T17:19:59.170Z"
   },
   {
    "duration": 131,
    "start_time": "2022-11-04T17:19:59.329Z"
   },
   {
    "duration": 894,
    "start_time": "2022-11-04T17:19:59.461Z"
   },
   {
    "duration": 14,
    "start_time": "2022-11-04T17:20:00.357Z"
   },
   {
    "duration": 12,
    "start_time": "2022-11-04T17:20:00.373Z"
   },
   {
    "duration": 28,
    "start_time": "2022-11-04T17:20:00.387Z"
   },
   {
    "duration": 11,
    "start_time": "2022-11-04T17:20:00.434Z"
   },
   {
    "duration": 51,
    "start_time": "2022-11-04T17:20:00.447Z"
   },
   {
    "duration": 42,
    "start_time": "2022-11-04T17:20:00.499Z"
   },
   {
    "duration": 14,
    "start_time": "2022-11-04T17:20:00.542Z"
   },
   {
    "duration": 22,
    "start_time": "2022-11-04T17:20:00.558Z"
   },
   {
    "duration": 260,
    "start_time": "2022-11-04T18:06:33.318Z"
   },
   {
    "duration": 309,
    "start_time": "2022-11-04T18:07:58.876Z"
   },
   {
    "duration": 136,
    "start_time": "2022-11-04T18:09:49.755Z"
   },
   {
    "duration": 27,
    "start_time": "2022-11-04T18:29:20.995Z"
   },
   {
    "duration": 19,
    "start_time": "2022-11-04T18:31:30.908Z"
   },
   {
    "duration": 11,
    "start_time": "2022-11-04T18:32:48.831Z"
   },
   {
    "duration": 18,
    "start_time": "2022-11-04T18:33:07.189Z"
   },
   {
    "duration": 16,
    "start_time": "2022-11-04T18:33:42.619Z"
   },
   {
    "duration": 19,
    "start_time": "2022-11-04T18:35:14.147Z"
   },
   {
    "duration": 1703,
    "start_time": "2022-11-04T18:51:22.151Z"
   },
   {
    "duration": 4,
    "start_time": "2022-11-04T18:51:23.856Z"
   },
   {
    "duration": 6,
    "start_time": "2022-11-04T18:51:23.862Z"
   },
   {
    "duration": 50,
    "start_time": "2022-11-04T18:51:23.870Z"
   },
   {
    "duration": 38,
    "start_time": "2022-11-04T18:51:23.921Z"
   },
   {
    "duration": 8,
    "start_time": "2022-11-04T18:51:23.961Z"
   },
   {
    "duration": 10,
    "start_time": "2022-11-04T18:51:23.971Z"
   },
   {
    "duration": 15,
    "start_time": "2022-11-04T18:51:23.982Z"
   },
   {
    "duration": 35,
    "start_time": "2022-11-04T18:51:23.999Z"
   },
   {
    "duration": 9,
    "start_time": "2022-11-04T18:51:24.038Z"
   },
   {
    "duration": 18,
    "start_time": "2022-11-04T18:51:24.049Z"
   },
   {
    "duration": 18,
    "start_time": "2022-11-04T18:51:24.069Z"
   },
   {
    "duration": 15,
    "start_time": "2022-11-04T18:51:24.089Z"
   },
   {
    "duration": 35,
    "start_time": "2022-11-04T18:51:24.106Z"
   },
   {
    "duration": 167,
    "start_time": "2022-11-04T18:51:24.143Z"
   },
   {
    "duration": 5,
    "start_time": "2022-11-04T18:51:24.312Z"
   },
   {
    "duration": 18,
    "start_time": "2022-11-04T18:51:24.318Z"
   },
   {
    "duration": 436,
    "start_time": "2022-11-04T18:51:24.338Z"
   },
   {
    "duration": 17,
    "start_time": "2022-11-04T18:51:24.776Z"
   },
   {
    "duration": 41,
    "start_time": "2022-11-04T18:51:24.794Z"
   },
   {
    "duration": 8,
    "start_time": "2022-11-04T18:51:24.837Z"
   },
   {
    "duration": 296,
    "start_time": "2022-11-04T18:51:24.847Z"
   },
   {
    "duration": 8,
    "start_time": "2022-11-04T18:51:25.144Z"
   },
   {
    "duration": 620,
    "start_time": "2022-11-04T18:51:25.154Z"
   },
   {
    "duration": 33,
    "start_time": "2022-11-04T18:51:25.776Z"
   },
   {
    "duration": 25,
    "start_time": "2022-11-04T18:51:25.811Z"
   },
   {
    "duration": 323,
    "start_time": "2022-11-04T18:51:25.838Z"
   },
   {
    "duration": 19,
    "start_time": "2022-11-04T18:51:26.165Z"
   },
   {
    "duration": 54,
    "start_time": "2022-11-04T18:51:26.185Z"
   },
   {
    "duration": 205,
    "start_time": "2022-11-04T18:51:26.241Z"
   },
   {
    "duration": 160,
    "start_time": "2022-11-04T18:51:26.449Z"
   },
   {
    "duration": 131,
    "start_time": "2022-11-04T18:51:26.611Z"
   },
   {
    "duration": 835,
    "start_time": "2022-11-04T18:51:26.743Z"
   },
   {
    "duration": 12,
    "start_time": "2022-11-04T18:51:27.580Z"
   },
   {
    "duration": 11,
    "start_time": "2022-11-04T18:51:27.594Z"
   },
   {
    "duration": 37,
    "start_time": "2022-11-04T18:51:27.607Z"
   },
   {
    "duration": 5,
    "start_time": "2022-11-04T18:51:27.645Z"
   },
   {
    "duration": 31,
    "start_time": "2022-11-04T18:51:27.651Z"
   },
   {
    "duration": 49,
    "start_time": "2022-11-04T18:51:27.684Z"
   },
   {
    "duration": 13,
    "start_time": "2022-11-04T18:51:27.735Z"
   },
   {
    "duration": 13,
    "start_time": "2022-11-04T18:51:27.750Z"
   },
   {
    "duration": 16,
    "start_time": "2022-11-04T18:51:27.765Z"
   },
   {
    "duration": 58,
    "start_time": "2022-11-04T18:51:27.784Z"
   },
   {
    "duration": 123,
    "start_time": "2022-11-04T20:02:46.850Z"
   },
   {
    "duration": 143,
    "start_time": "2022-11-04T20:03:17.478Z"
   },
   {
    "duration": 391,
    "start_time": "2022-11-04T20:03:41.474Z"
   },
   {
    "duration": 8,
    "start_time": "2022-11-04T20:03:58.586Z"
   },
   {
    "duration": 138,
    "start_time": "2022-11-04T20:04:41.882Z"
   },
   {
    "duration": 144,
    "start_time": "2022-11-04T20:05:28.983Z"
   },
   {
    "duration": 143,
    "start_time": "2022-11-04T20:07:16.734Z"
   },
   {
    "duration": 134,
    "start_time": "2022-11-04T20:08:08.819Z"
   },
   {
    "duration": 133,
    "start_time": "2022-11-04T20:09:41.019Z"
   },
   {
    "duration": 238,
    "start_time": "2022-11-04T20:11:15.562Z"
   },
   {
    "duration": 870,
    "start_time": "2022-11-04T20:21:51.947Z"
   },
   {
    "duration": 864,
    "start_time": "2022-11-04T20:22:19.543Z"
   },
   {
    "duration": 974,
    "start_time": "2022-11-04T20:23:20.719Z"
   },
   {
    "duration": 942,
    "start_time": "2022-11-04T20:23:55.916Z"
   },
   {
    "duration": 888,
    "start_time": "2022-11-04T20:26:48.786Z"
   },
   {
    "duration": 1022,
    "start_time": "2022-11-04T20:26:59.118Z"
   },
   {
    "duration": 916,
    "start_time": "2022-11-04T20:27:21.394Z"
   },
   {
    "duration": 842,
    "start_time": "2022-11-04T20:27:31.063Z"
   },
   {
    "duration": 965,
    "start_time": "2022-11-04T20:27:36.591Z"
   },
   {
    "duration": 6,
    "start_time": "2022-11-04T20:35:20.083Z"
   },
   {
    "duration": 7,
    "start_time": "2022-11-04T20:35:44.146Z"
   },
   {
    "duration": 7,
    "start_time": "2022-11-04T20:38:34.335Z"
   },
   {
    "duration": 3155,
    "start_time": "2022-11-06T15:00:42.587Z"
   },
   {
    "duration": 6,
    "start_time": "2022-11-06T15:00:45.744Z"
   },
   {
    "duration": 30,
    "start_time": "2022-11-06T15:00:45.751Z"
   },
   {
    "duration": 153,
    "start_time": "2022-11-06T15:00:45.783Z"
   },
   {
    "duration": 44,
    "start_time": "2022-11-06T15:00:45.938Z"
   },
   {
    "duration": 10,
    "start_time": "2022-11-06T15:00:45.984Z"
   },
   {
    "duration": 51,
    "start_time": "2022-11-06T15:00:45.996Z"
   },
   {
    "duration": 22,
    "start_time": "2022-11-06T15:00:46.048Z"
   },
   {
    "duration": 42,
    "start_time": "2022-11-06T15:00:46.072Z"
   },
   {
    "duration": 30,
    "start_time": "2022-11-06T15:00:46.117Z"
   },
   {
    "duration": 26,
    "start_time": "2022-11-06T15:00:46.149Z"
   },
   {
    "duration": 61,
    "start_time": "2022-11-06T15:00:46.177Z"
   },
   {
    "duration": 74,
    "start_time": "2022-11-06T15:00:46.240Z"
   },
   {
    "duration": 46,
    "start_time": "2022-11-06T15:00:46.316Z"
   },
   {
    "duration": 189,
    "start_time": "2022-11-06T15:00:46.364Z"
   },
   {
    "duration": 5,
    "start_time": "2022-11-06T15:00:46.555Z"
   },
   {
    "duration": 43,
    "start_time": "2022-11-06T15:00:46.562Z"
   },
   {
    "duration": 601,
    "start_time": "2022-11-06T15:00:46.607Z"
   },
   {
    "duration": 29,
    "start_time": "2022-11-06T15:00:47.210Z"
   },
   {
    "duration": 35,
    "start_time": "2022-11-06T15:00:47.240Z"
   },
   {
    "duration": 39,
    "start_time": "2022-11-06T15:00:47.276Z"
   },
   {
    "duration": 335,
    "start_time": "2022-11-06T15:00:47.317Z"
   },
   {
    "duration": 9,
    "start_time": "2022-11-06T15:00:47.655Z"
   },
   {
    "duration": 836,
    "start_time": "2022-11-06T15:00:47.666Z"
   },
   {
    "duration": 59,
    "start_time": "2022-11-06T15:00:48.505Z"
   },
   {
    "duration": 9,
    "start_time": "2022-11-06T15:00:48.566Z"
   },
   {
    "duration": 380,
    "start_time": "2022-11-06T15:00:48.577Z"
   },
   {
    "duration": 15,
    "start_time": "2022-11-06T15:00:48.960Z"
   },
   {
    "duration": 56,
    "start_time": "2022-11-06T15:00:48.976Z"
   },
   {
    "duration": 182,
    "start_time": "2022-11-06T15:00:49.034Z"
   },
   {
    "duration": 171,
    "start_time": "2022-11-06T15:00:49.218Z"
   },
   {
    "duration": 153,
    "start_time": "2022-11-06T15:00:49.391Z"
   },
   {
    "duration": 932,
    "start_time": "2022-11-06T15:00:49.546Z"
   },
   {
    "duration": 14,
    "start_time": "2022-11-06T15:00:50.480Z"
   },
   {
    "duration": 42,
    "start_time": "2022-11-06T15:00:50.496Z"
   },
   {
    "duration": 17,
    "start_time": "2022-11-06T15:00:50.540Z"
   },
   {
    "duration": 27,
    "start_time": "2022-11-06T15:00:50.559Z"
   },
   {
    "duration": 45,
    "start_time": "2022-11-06T15:00:50.588Z"
   },
   {
    "duration": 55,
    "start_time": "2022-11-06T15:00:50.634Z"
   },
   {
    "duration": 21,
    "start_time": "2022-11-06T15:00:50.691Z"
   },
   {
    "duration": 53,
    "start_time": "2022-11-06T15:00:50.714Z"
   },
   {
    "duration": 49,
    "start_time": "2022-11-06T15:00:50.769Z"
   },
   {
    "duration": 20,
    "start_time": "2022-11-06T15:00:50.820Z"
   },
   {
    "duration": 6,
    "start_time": "2022-11-06T15:03:06.980Z"
   },
   {
    "duration": 91,
    "start_time": "2022-11-06T15:10:41.030Z"
   },
   {
    "duration": 171,
    "start_time": "2022-11-06T15:10:53.988Z"
   },
   {
    "duration": 20,
    "start_time": "2022-11-06T15:11:57.300Z"
   },
   {
    "duration": 24,
    "start_time": "2022-11-06T15:13:03.829Z"
   },
   {
    "duration": 19,
    "start_time": "2022-11-06T15:13:24.912Z"
   },
   {
    "duration": 23,
    "start_time": "2022-11-06T15:17:16.292Z"
   },
   {
    "duration": 31,
    "start_time": "2022-11-06T15:17:32.656Z"
   },
   {
    "duration": 20,
    "start_time": "2022-11-06T15:19:34.224Z"
   },
   {
    "duration": 21,
    "start_time": "2022-11-06T15:29:00.065Z"
   },
   {
    "duration": 12,
    "start_time": "2022-11-06T15:29:25.356Z"
   },
   {
    "duration": 4,
    "start_time": "2022-11-06T15:29:31.820Z"
   },
   {
    "duration": 23,
    "start_time": "2022-11-06T15:40:04.326Z"
   },
   {
    "duration": 13,
    "start_time": "2022-11-06T15:40:20.229Z"
   },
   {
    "duration": 134758,
    "start_time": "2022-11-06T15:44:44.619Z"
   },
   {
    "duration": 13,
    "start_time": "2022-11-06T15:47:12.187Z"
   },
   {
    "duration": 25,
    "start_time": "2022-11-06T16:23:23.977Z"
   },
   {
    "duration": 17,
    "start_time": "2022-11-06T17:07:02.871Z"
   },
   {
    "duration": 21,
    "start_time": "2022-11-06T17:08:09.992Z"
   },
   {
    "duration": 27,
    "start_time": "2022-11-06T17:09:59.361Z"
   },
   {
    "duration": 41,
    "start_time": "2022-11-06T17:10:51.822Z"
   },
   {
    "duration": 28,
    "start_time": "2022-11-06T17:12:56.614Z"
   },
   {
    "duration": 61,
    "start_time": "2022-11-06T17:15:22.515Z"
   },
   {
    "duration": 14,
    "start_time": "2022-11-06T17:17:09.762Z"
   },
   {
    "duration": 43,
    "start_time": "2022-11-06T17:20:42.673Z"
   },
   {
    "duration": 39,
    "start_time": "2022-11-06T17:24:06.975Z"
   },
   {
    "duration": 14,
    "start_time": "2022-11-06T17:24:21.911Z"
   },
   {
    "duration": 13,
    "start_time": "2022-11-06T17:26:40.271Z"
   },
   {
    "duration": 3,
    "start_time": "2022-11-06T17:27:30.727Z"
   },
   {
    "duration": 25,
    "start_time": "2022-11-06T17:27:35.567Z"
   },
   {
    "duration": 18,
    "start_time": "2022-11-06T17:28:43.883Z"
   },
   {
    "duration": 13,
    "start_time": "2022-11-06T17:29:48.140Z"
   },
   {
    "duration": 18,
    "start_time": "2022-11-06T17:30:05.759Z"
   },
   {
    "duration": 4,
    "start_time": "2022-11-06T17:30:37.595Z"
   },
   {
    "duration": 4,
    "start_time": "2022-11-06T17:31:27.160Z"
   },
   {
    "duration": 4,
    "start_time": "2022-11-06T17:31:28.231Z"
   },
   {
    "duration": 8,
    "start_time": "2022-11-06T17:34:12.086Z"
   },
   {
    "duration": 18,
    "start_time": "2022-11-06T17:40:26.592Z"
   },
   {
    "duration": 20,
    "start_time": "2022-11-06T17:42:41.755Z"
   },
   {
    "duration": 25,
    "start_time": "2022-11-06T17:42:48.059Z"
   },
   {
    "duration": 17,
    "start_time": "2022-11-06T17:43:54.703Z"
   },
   {
    "duration": 47,
    "start_time": "2022-11-06T17:44:08.167Z"
   },
   {
    "duration": 14,
    "start_time": "2022-11-06T17:44:24.855Z"
   },
   {
    "duration": 18,
    "start_time": "2022-11-06T17:48:29.580Z"
   },
   {
    "duration": 1147,
    "start_time": "2022-11-06T17:49:05.251Z"
   },
   {
    "duration": 17,
    "start_time": "2022-11-06T17:49:24.355Z"
   },
   {
    "duration": 19,
    "start_time": "2022-11-06T17:49:40.751Z"
   },
   {
    "duration": 15,
    "start_time": "2022-11-06T17:49:55.471Z"
   },
   {
    "duration": 18,
    "start_time": "2022-11-06T17:50:54.600Z"
   },
   {
    "duration": 228,
    "start_time": "2022-11-06T17:51:14.603Z"
   },
   {
    "duration": 30,
    "start_time": "2022-11-06T17:51:32.043Z"
   },
   {
    "duration": 247,
    "start_time": "2022-11-06T17:56:13.664Z"
   },
   {
    "duration": 223,
    "start_time": "2022-11-06T17:56:30.111Z"
   },
   {
    "duration": 20,
    "start_time": "2022-11-06T17:58:54.292Z"
   },
   {
    "duration": 8,
    "start_time": "2022-11-06T18:01:01.343Z"
   },
   {
    "duration": 12,
    "start_time": "2022-11-06T18:01:42.040Z"
   },
   {
    "duration": 2369,
    "start_time": "2022-11-06T18:02:52.004Z"
   },
   {
    "duration": 4,
    "start_time": "2022-11-06T18:02:54.375Z"
   },
   {
    "duration": 5,
    "start_time": "2022-11-06T18:02:54.381Z"
   },
   {
    "duration": 94,
    "start_time": "2022-11-06T18:02:54.387Z"
   },
   {
    "duration": 41,
    "start_time": "2022-11-06T18:02:54.483Z"
   },
   {
    "duration": 9,
    "start_time": "2022-11-06T18:02:54.526Z"
   },
   {
    "duration": 16,
    "start_time": "2022-11-06T18:02:54.537Z"
   },
   {
    "duration": 16,
    "start_time": "2022-11-06T18:02:54.554Z"
   },
   {
    "duration": 9,
    "start_time": "2022-11-06T18:02:54.571Z"
   },
   {
    "duration": 9,
    "start_time": "2022-11-06T18:02:54.583Z"
   },
   {
    "duration": 42,
    "start_time": "2022-11-06T18:02:54.594Z"
   },
   {
    "duration": 12,
    "start_time": "2022-11-06T18:02:54.638Z"
   },
   {
    "duration": 241,
    "start_time": "2022-11-06T18:02:54.652Z"
   },
   {
    "duration": 5,
    "start_time": "2022-11-06T18:02:54.895Z"
   },
   {
    "duration": 153,
    "start_time": "2022-11-06T18:02:54.902Z"
   },
   {
    "duration": 0,
    "start_time": "2022-11-06T18:02:55.059Z"
   },
   {
    "duration": 0,
    "start_time": "2022-11-06T18:02:55.060Z"
   },
   {
    "duration": 0,
    "start_time": "2022-11-06T18:02:55.062Z"
   },
   {
    "duration": 0,
    "start_time": "2022-11-06T18:02:55.063Z"
   },
   {
    "duration": 0,
    "start_time": "2022-11-06T18:02:55.065Z"
   },
   {
    "duration": 0,
    "start_time": "2022-11-06T18:02:55.066Z"
   },
   {
    "duration": 0,
    "start_time": "2022-11-06T18:02:55.067Z"
   },
   {
    "duration": 0,
    "start_time": "2022-11-06T18:02:55.068Z"
   },
   {
    "duration": 0,
    "start_time": "2022-11-06T18:02:55.069Z"
   },
   {
    "duration": 0,
    "start_time": "2022-11-06T18:02:55.070Z"
   },
   {
    "duration": 0,
    "start_time": "2022-11-06T18:02:55.072Z"
   },
   {
    "duration": 0,
    "start_time": "2022-11-06T18:02:55.073Z"
   },
   {
    "duration": 0,
    "start_time": "2022-11-06T18:02:55.074Z"
   },
   {
    "duration": 0,
    "start_time": "2022-11-06T18:02:55.075Z"
   },
   {
    "duration": 0,
    "start_time": "2022-11-06T18:02:55.077Z"
   },
   {
    "duration": 0,
    "start_time": "2022-11-06T18:02:55.078Z"
   },
   {
    "duration": 0,
    "start_time": "2022-11-06T18:02:55.079Z"
   },
   {
    "duration": 0,
    "start_time": "2022-11-06T18:02:55.079Z"
   },
   {
    "duration": 0,
    "start_time": "2022-11-06T18:02:55.080Z"
   },
   {
    "duration": 0,
    "start_time": "2022-11-06T18:02:55.081Z"
   },
   {
    "duration": 0,
    "start_time": "2022-11-06T18:02:55.082Z"
   },
   {
    "duration": 0,
    "start_time": "2022-11-06T18:02:55.083Z"
   },
   {
    "duration": 0,
    "start_time": "2022-11-06T18:02:55.131Z"
   },
   {
    "duration": 0,
    "start_time": "2022-11-06T18:02:55.132Z"
   },
   {
    "duration": 0,
    "start_time": "2022-11-06T18:02:55.134Z"
   },
   {
    "duration": 0,
    "start_time": "2022-11-06T18:02:55.135Z"
   },
   {
    "duration": 0,
    "start_time": "2022-11-06T18:02:55.137Z"
   },
   {
    "duration": 0,
    "start_time": "2022-11-06T18:02:55.138Z"
   },
   {
    "duration": 0,
    "start_time": "2022-11-06T18:02:55.139Z"
   },
   {
    "duration": 0,
    "start_time": "2022-11-06T18:02:55.140Z"
   },
   {
    "duration": 0,
    "start_time": "2022-11-06T18:02:55.141Z"
   },
   {
    "duration": 3,
    "start_time": "2022-11-06T18:03:30.053Z"
   },
   {
    "duration": 11,
    "start_time": "2022-11-06T18:03:40.956Z"
   },
   {
    "duration": 1815,
    "start_time": "2022-11-06T18:04:29.376Z"
   },
   {
    "duration": 5,
    "start_time": "2022-11-06T18:04:31.194Z"
   },
   {
    "duration": 66,
    "start_time": "2022-11-06T18:04:31.202Z"
   },
   {
    "duration": 54,
    "start_time": "2022-11-06T18:04:31.270Z"
   },
   {
    "duration": 45,
    "start_time": "2022-11-06T18:04:31.327Z"
   },
   {
    "duration": 10,
    "start_time": "2022-11-06T18:04:31.374Z"
   },
   {
    "duration": 18,
    "start_time": "2022-11-06T18:04:31.386Z"
   },
   {
    "duration": 38,
    "start_time": "2022-11-06T18:04:31.406Z"
   },
   {
    "duration": 24,
    "start_time": "2022-11-06T18:04:31.446Z"
   },
   {
    "duration": 21,
    "start_time": "2022-11-06T18:04:31.472Z"
   },
   {
    "duration": 20,
    "start_time": "2022-11-06T18:04:31.495Z"
   },
   {
    "duration": 16,
    "start_time": "2022-11-06T18:04:31.517Z"
   },
   {
    "duration": 242,
    "start_time": "2022-11-06T18:04:31.535Z"
   },
   {
    "duration": 6,
    "start_time": "2022-11-06T18:04:31.781Z"
   },
   {
    "duration": 19,
    "start_time": "2022-11-06T18:04:31.788Z"
   },
   {
    "duration": 38,
    "start_time": "2022-11-06T18:04:31.809Z"
   },
   {
    "duration": 18,
    "start_time": "2022-11-06T18:04:31.849Z"
   },
   {
    "duration": 10,
    "start_time": "2022-11-06T18:04:31.868Z"
   },
   {
    "duration": 202,
    "start_time": "2022-11-06T18:04:31.880Z"
   },
   {
    "duration": 5,
    "start_time": "2022-11-06T18:04:32.084Z"
   },
   {
    "duration": 107,
    "start_time": "2022-11-06T18:04:32.092Z"
   },
   {
    "duration": 511,
    "start_time": "2022-11-06T18:04:32.201Z"
   },
   {
    "duration": 27,
    "start_time": "2022-11-06T18:04:32.715Z"
   },
   {
    "duration": 25,
    "start_time": "2022-11-06T18:04:32.743Z"
   },
   {
    "duration": 24,
    "start_time": "2022-11-06T18:04:32.770Z"
   },
   {
    "duration": 322,
    "start_time": "2022-11-06T18:04:32.795Z"
   },
   {
    "duration": 15,
    "start_time": "2022-11-06T18:04:33.119Z"
   },
   {
    "duration": 429,
    "start_time": "2022-11-06T18:04:33.136Z"
   },
   {
    "duration": 29,
    "start_time": "2022-11-06T18:04:33.567Z"
   },
   {
    "duration": 15,
    "start_time": "2022-11-06T18:04:33.598Z"
   },
   {
    "duration": 181,
    "start_time": "2022-11-06T18:04:33.631Z"
   },
   {
    "duration": 24,
    "start_time": "2022-11-06T18:04:33.815Z"
   },
   {
    "duration": 27,
    "start_time": "2022-11-06T18:04:33.841Z"
   },
   {
    "duration": 195,
    "start_time": "2022-11-06T18:04:33.870Z"
   },
   {
    "duration": 172,
    "start_time": "2022-11-06T18:04:34.066Z"
   },
   {
    "duration": 156,
    "start_time": "2022-11-06T18:04:34.240Z"
   },
   {
    "duration": 1008,
    "start_time": "2022-11-06T18:04:34.398Z"
   },
   {
    "duration": 27,
    "start_time": "2022-11-06T18:04:35.409Z"
   },
   {
    "duration": 15,
    "start_time": "2022-11-06T18:04:35.438Z"
   },
   {
    "duration": 14,
    "start_time": "2022-11-06T18:04:35.455Z"
   },
   {
    "duration": 5,
    "start_time": "2022-11-06T18:04:35.473Z"
   },
   {
    "duration": 60,
    "start_time": "2022-11-06T18:04:35.480Z"
   },
   {
    "duration": 24,
    "start_time": "2022-11-06T18:04:35.542Z"
   },
   {
    "duration": 14,
    "start_time": "2022-11-06T18:04:35.567Z"
   },
   {
    "duration": 14,
    "start_time": "2022-11-06T18:04:35.584Z"
   },
   {
    "duration": 19,
    "start_time": "2022-11-06T18:04:35.633Z"
   },
   {
    "duration": 18,
    "start_time": "2022-11-06T18:04:35.654Z"
   },
   {
    "duration": 10,
    "start_time": "2022-11-06T18:06:02.864Z"
   },
   {
    "duration": 10,
    "start_time": "2022-11-06T18:06:06.763Z"
   },
   {
    "duration": 11,
    "start_time": "2022-11-06T18:06:56.851Z"
   },
   {
    "duration": 11,
    "start_time": "2022-11-06T18:07:10.272Z"
   },
   {
    "duration": 11,
    "start_time": "2022-11-06T18:07:42.156Z"
   },
   {
    "duration": 21,
    "start_time": "2022-11-06T18:07:55.066Z"
   },
   {
    "duration": 9,
    "start_time": "2022-11-06T18:09:32.564Z"
   },
   {
    "duration": 6,
    "start_time": "2022-11-06T18:19:36.409Z"
   },
   {
    "duration": 1820,
    "start_time": "2022-11-06T18:19:55.420Z"
   },
   {
    "duration": 5,
    "start_time": "2022-11-06T18:19:57.242Z"
   },
   {
    "duration": 8,
    "start_time": "2022-11-06T18:19:57.249Z"
   },
   {
    "duration": 49,
    "start_time": "2022-11-06T18:19:57.259Z"
   },
   {
    "duration": 50,
    "start_time": "2022-11-06T18:19:57.311Z"
   },
   {
    "duration": 9,
    "start_time": "2022-11-06T18:19:57.362Z"
   },
   {
    "duration": 11,
    "start_time": "2022-11-06T18:19:57.373Z"
   },
   {
    "duration": 14,
    "start_time": "2022-11-06T18:19:57.386Z"
   },
   {
    "duration": 40,
    "start_time": "2022-11-06T18:19:57.402Z"
   },
   {
    "duration": 10,
    "start_time": "2022-11-06T18:19:57.445Z"
   },
   {
    "duration": 11,
    "start_time": "2022-11-06T18:19:57.457Z"
   },
   {
    "duration": 258,
    "start_time": "2022-11-06T18:19:57.470Z"
   },
   {
    "duration": 5,
    "start_time": "2022-11-06T18:19:57.732Z"
   },
   {
    "duration": 23,
    "start_time": "2022-11-06T18:19:57.740Z"
   },
   {
    "duration": 14,
    "start_time": "2022-11-06T18:19:57.765Z"
   },
   {
    "duration": 11,
    "start_time": "2022-11-06T18:19:57.780Z"
   },
   {
    "duration": 51,
    "start_time": "2022-11-06T18:19:57.793Z"
   },
   {
    "duration": 20,
    "start_time": "2022-11-06T18:19:57.846Z"
   },
   {
    "duration": 11,
    "start_time": "2022-11-06T18:19:57.868Z"
   },
   {
    "duration": 238,
    "start_time": "2022-11-06T18:19:57.882Z"
   },
   {
    "duration": 10,
    "start_time": "2022-11-06T18:19:58.122Z"
   },
   {
    "duration": 8,
    "start_time": "2022-11-06T18:19:58.134Z"
   },
   {
    "duration": 471,
    "start_time": "2022-11-06T18:19:58.144Z"
   },
   {
    "duration": 27,
    "start_time": "2022-11-06T18:19:58.617Z"
   },
   {
    "duration": 14,
    "start_time": "2022-11-06T18:19:58.646Z"
   },
   {
    "duration": 9,
    "start_time": "2022-11-06T18:19:58.662Z"
   },
   {
    "duration": 327,
    "start_time": "2022-11-06T18:19:58.673Z"
   },
   {
    "duration": 8,
    "start_time": "2022-11-06T18:19:59.002Z"
   },
   {
    "duration": 395,
    "start_time": "2022-11-06T18:19:59.012Z"
   },
   {
    "duration": 33,
    "start_time": "2022-11-06T18:19:59.409Z"
   },
   {
    "duration": 7,
    "start_time": "2022-11-06T18:19:59.444Z"
   },
   {
    "duration": 242,
    "start_time": "2022-11-06T18:19:59.453Z"
   },
   {
    "duration": 16,
    "start_time": "2022-11-06T18:19:59.697Z"
   },
   {
    "duration": 39,
    "start_time": "2022-11-06T18:19:59.715Z"
   },
   {
    "duration": 188,
    "start_time": "2022-11-06T18:19:59.756Z"
   },
   {
    "duration": 199,
    "start_time": "2022-11-06T18:19:59.946Z"
   },
   {
    "duration": 159,
    "start_time": "2022-11-06T18:20:00.147Z"
   },
   {
    "duration": 993,
    "start_time": "2022-11-06T18:20:00.308Z"
   },
   {
    "duration": 34,
    "start_time": "2022-11-06T18:20:01.303Z"
   },
   {
    "duration": 13,
    "start_time": "2022-11-06T18:20:01.339Z"
   },
   {
    "duration": 19,
    "start_time": "2022-11-06T18:20:01.357Z"
   },
   {
    "duration": 25,
    "start_time": "2022-11-06T18:20:01.378Z"
   },
   {
    "duration": 31,
    "start_time": "2022-11-06T18:20:01.434Z"
   },
   {
    "duration": 59,
    "start_time": "2022-11-06T18:20:01.468Z"
   },
   {
    "duration": 20,
    "start_time": "2022-11-06T18:20:01.529Z"
   },
   {
    "duration": 17,
    "start_time": "2022-11-06T18:20:01.551Z"
   },
   {
    "duration": 34,
    "start_time": "2022-11-06T18:20:01.571Z"
   },
   {
    "duration": 40,
    "start_time": "2022-11-06T18:20:01.633Z"
   },
   {
    "duration": 11,
    "start_time": "2022-11-06T18:38:18.559Z"
   },
   {
    "duration": 10,
    "start_time": "2022-11-06T18:38:50.627Z"
   },
   {
    "duration": 15,
    "start_time": "2022-11-06T18:43:36.047Z"
   },
   {
    "duration": 14,
    "start_time": "2022-11-06T18:44:28.696Z"
   },
   {
    "duration": 13,
    "start_time": "2022-11-06T18:44:56.278Z"
   },
   {
    "duration": 11,
    "start_time": "2022-11-06T18:44:57.116Z"
   },
   {
    "duration": 16,
    "start_time": "2022-11-06T18:45:46.050Z"
   },
   {
    "duration": 11,
    "start_time": "2022-11-06T18:45:47.100Z"
   },
   {
    "duration": 13,
    "start_time": "2022-11-06T18:46:36.705Z"
   },
   {
    "duration": 17,
    "start_time": "2022-11-06T18:47:20.049Z"
   },
   {
    "duration": 16,
    "start_time": "2022-11-06T18:52:47.210Z"
   },
   {
    "duration": 9,
    "start_time": "2022-11-06T18:57:20.197Z"
   },
   {
    "duration": 449,
    "start_time": "2022-11-06T18:57:21.118Z"
   },
   {
    "duration": 17,
    "start_time": "2022-11-06T19:09:10.259Z"
   },
   {
    "duration": 10,
    "start_time": "2022-11-06T19:11:17.748Z"
   },
   {
    "duration": 16,
    "start_time": "2022-11-06T19:11:32.383Z"
   },
   {
    "duration": 16,
    "start_time": "2022-11-06T19:13:16.751Z"
   },
   {
    "duration": 6,
    "start_time": "2022-11-06T19:15:58.959Z"
   },
   {
    "duration": 9,
    "start_time": "2022-11-06T19:17:17.111Z"
   },
   {
    "duration": 22,
    "start_time": "2022-11-06T19:19:58.700Z"
   },
   {
    "duration": 11,
    "start_time": "2022-11-06T19:20:12.944Z"
   },
   {
    "duration": 10,
    "start_time": "2022-11-06T19:22:32.163Z"
   },
   {
    "duration": 16,
    "start_time": "2022-11-06T19:41:24.952Z"
   },
   {
    "duration": 25,
    "start_time": "2022-11-06T19:45:23.413Z"
   },
   {
    "duration": 20,
    "start_time": "2022-11-06T19:46:28.049Z"
   },
   {
    "duration": 14,
    "start_time": "2022-11-06T19:46:54.673Z"
   },
   {
    "duration": 15,
    "start_time": "2022-11-06T19:47:23.677Z"
   },
   {
    "duration": 18,
    "start_time": "2022-11-06T19:47:55.369Z"
   },
   {
    "duration": 17,
    "start_time": "2022-11-06T19:49:11.004Z"
   },
   {
    "duration": 15,
    "start_time": "2022-11-06T19:49:44.107Z"
   },
   {
    "duration": 21,
    "start_time": "2022-11-06T19:50:07.271Z"
   },
   {
    "duration": 28,
    "start_time": "2022-11-06T19:52:08.675Z"
   },
   {
    "duration": 23,
    "start_time": "2022-11-06T19:52:45.279Z"
   },
   {
    "duration": 277,
    "start_time": "2022-11-06T19:59:09.718Z"
   },
   {
    "duration": 16,
    "start_time": "2022-11-06T20:00:08.113Z"
   },
   {
    "duration": 74,
    "start_time": "2022-11-06T20:04:11.782Z"
   },
   {
    "duration": 12,
    "start_time": "2022-11-06T20:04:27.272Z"
   },
   {
    "duration": 29,
    "start_time": "2022-11-06T20:04:59.644Z"
   },
   {
    "duration": 152,
    "start_time": "2022-11-06T20:05:47.116Z"
   },
   {
    "duration": 24,
    "start_time": "2022-11-06T20:06:13.180Z"
   },
   {
    "duration": 2111,
    "start_time": "2022-11-06T20:08:26.303Z"
   },
   {
    "duration": 6,
    "start_time": "2022-11-06T20:08:28.416Z"
   },
   {
    "duration": 20,
    "start_time": "2022-11-06T20:08:28.424Z"
   },
   {
    "duration": 54,
    "start_time": "2022-11-06T20:08:28.451Z"
   },
   {
    "duration": 53,
    "start_time": "2022-11-06T20:08:28.507Z"
   },
   {
    "duration": 10,
    "start_time": "2022-11-06T20:08:28.562Z"
   },
   {
    "duration": 13,
    "start_time": "2022-11-06T20:08:28.574Z"
   },
   {
    "duration": 25,
    "start_time": "2022-11-06T20:08:28.589Z"
   },
   {
    "duration": 37,
    "start_time": "2022-11-06T20:08:28.617Z"
   },
   {
    "duration": 21,
    "start_time": "2022-11-06T20:08:28.657Z"
   },
   {
    "duration": 25,
    "start_time": "2022-11-06T20:08:28.680Z"
   },
   {
    "duration": 273,
    "start_time": "2022-11-06T20:08:28.707Z"
   },
   {
    "duration": 5,
    "start_time": "2022-11-06T20:08:28.982Z"
   },
   {
    "duration": 19,
    "start_time": "2022-11-06T20:08:28.988Z"
   },
   {
    "duration": 19,
    "start_time": "2022-11-06T20:08:29.036Z"
   },
   {
    "duration": 7,
    "start_time": "2022-11-06T20:08:29.056Z"
   },
   {
    "duration": 29,
    "start_time": "2022-11-06T20:08:29.065Z"
   },
   {
    "duration": 176,
    "start_time": "2022-11-06T20:08:29.097Z"
   },
   {
    "duration": 5,
    "start_time": "2022-11-06T20:08:29.275Z"
   },
   {
    "duration": 9,
    "start_time": "2022-11-06T20:08:29.282Z"
   },
   {
    "duration": 642,
    "start_time": "2022-11-06T20:08:29.293Z"
   },
   {
    "duration": 24,
    "start_time": "2022-11-06T20:08:29.937Z"
   },
   {
    "duration": 14,
    "start_time": "2022-11-06T20:08:29.963Z"
   },
   {
    "duration": 10,
    "start_time": "2022-11-06T20:08:29.979Z"
   },
   {
    "duration": 368,
    "start_time": "2022-11-06T20:08:29.990Z"
   },
   {
    "duration": 9,
    "start_time": "2022-11-06T20:08:30.360Z"
   },
   {
    "duration": 512,
    "start_time": "2022-11-06T20:08:30.372Z"
   },
   {
    "duration": 57,
    "start_time": "2022-11-06T20:08:30.890Z"
   },
   {
    "duration": 14,
    "start_time": "2022-11-06T20:08:30.949Z"
   },
   {
    "duration": 56,
    "start_time": "2022-11-06T20:08:30.966Z"
   },
   {
    "duration": 430,
    "start_time": "2022-11-06T20:08:31.025Z"
   },
   {
    "duration": 24,
    "start_time": "2022-11-06T20:08:31.457Z"
   },
   {
    "duration": 53,
    "start_time": "2022-11-06T20:08:31.482Z"
   },
   {
    "duration": 213,
    "start_time": "2022-11-06T20:08:31.539Z"
   },
   {
    "duration": 188,
    "start_time": "2022-11-06T20:08:31.755Z"
   },
   {
    "duration": 170,
    "start_time": "2022-11-06T20:08:31.945Z"
   },
   {
    "duration": 1067,
    "start_time": "2022-11-06T20:08:32.117Z"
   },
   {
    "duration": 18,
    "start_time": "2022-11-06T20:08:33.186Z"
   },
   {
    "duration": 59,
    "start_time": "2022-11-06T20:08:33.206Z"
   },
   {
    "duration": 49,
    "start_time": "2022-11-06T20:08:33.267Z"
   },
   {
    "duration": 10,
    "start_time": "2022-11-06T20:08:33.318Z"
   },
   {
    "duration": 60,
    "start_time": "2022-11-06T20:08:33.329Z"
   },
   {
    "duration": 60,
    "start_time": "2022-11-06T20:08:33.392Z"
   },
   {
    "duration": 26,
    "start_time": "2022-11-06T20:08:33.456Z"
   },
   {
    "duration": 34,
    "start_time": "2022-11-06T20:08:33.484Z"
   },
   {
    "duration": 48,
    "start_time": "2022-11-06T20:08:33.521Z"
   },
   {
    "duration": 21,
    "start_time": "2022-11-06T20:08:33.571Z"
   },
   {
    "duration": 166,
    "start_time": "2022-11-06T20:15:09.168Z"
   },
   {
    "duration": 11,
    "start_time": "2022-11-06T20:21:27.089Z"
   },
   {
    "duration": 146,
    "start_time": "2022-11-06T20:22:12.902Z"
   },
   {
    "duration": 154,
    "start_time": "2022-11-06T20:22:35.257Z"
   },
   {
    "duration": 144,
    "start_time": "2022-11-06T20:23:01.750Z"
   },
   {
    "duration": 14,
    "start_time": "2022-11-06T20:24:57.854Z"
   },
   {
    "duration": 11,
    "start_time": "2022-11-06T20:25:44.761Z"
   },
   {
    "duration": 13,
    "start_time": "2022-11-06T20:25:51.333Z"
   },
   {
    "duration": 8,
    "start_time": "2022-11-06T20:26:32.766Z"
   },
   {
    "duration": 10,
    "start_time": "2022-11-06T20:26:50.681Z"
   },
   {
    "duration": 10,
    "start_time": "2022-11-06T20:26:58.931Z"
   },
   {
    "duration": 10,
    "start_time": "2022-11-06T20:28:35.817Z"
   },
   {
    "duration": 77,
    "start_time": "2022-11-06T20:32:15.990Z"
   },
   {
    "duration": 30,
    "start_time": "2022-11-06T20:32:20.558Z"
   },
   {
    "duration": 18,
    "start_time": "2022-11-06T20:32:39.342Z"
   },
   {
    "duration": 16,
    "start_time": "2022-11-06T20:33:45.502Z"
   },
   {
    "duration": 16,
    "start_time": "2022-11-06T20:33:58.657Z"
   },
   {
    "duration": 16,
    "start_time": "2022-11-06T20:36:20.177Z"
   },
   {
    "duration": 20,
    "start_time": "2022-11-06T20:37:02.985Z"
   },
   {
    "duration": 15,
    "start_time": "2022-11-06T20:37:34.929Z"
   },
   {
    "duration": 21,
    "start_time": "2022-11-06T20:37:46.249Z"
   },
   {
    "duration": 434,
    "start_time": "2022-11-06T20:39:50.661Z"
   },
   {
    "duration": 20,
    "start_time": "2022-11-06T20:39:59.505Z"
   },
   {
    "duration": 11,
    "start_time": "2022-11-06T20:40:23.321Z"
   },
   {
    "duration": 146,
    "start_time": "2022-11-06T20:45:04.926Z"
   },
   {
    "duration": 286,
    "start_time": "2022-11-06T20:48:09.779Z"
   },
   {
    "duration": 160,
    "start_time": "2022-11-06T20:49:07.691Z"
   },
   {
    "duration": 20,
    "start_time": "2022-11-06T20:49:32.829Z"
   },
   {
    "duration": 14,
    "start_time": "2022-11-06T20:56:36.174Z"
   },
   {
    "duration": 14,
    "start_time": "2022-11-06T20:56:39.212Z"
   },
   {
    "duration": 13,
    "start_time": "2022-11-06T21:04:26.150Z"
   },
   {
    "duration": 1884,
    "start_time": "2022-11-06T21:04:41.651Z"
   },
   {
    "duration": 4,
    "start_time": "2022-11-06T21:04:43.538Z"
   },
   {
    "duration": 6,
    "start_time": "2022-11-06T21:04:43.543Z"
   },
   {
    "duration": 52,
    "start_time": "2022-11-06T21:04:43.551Z"
   },
   {
    "duration": 48,
    "start_time": "2022-11-06T21:04:43.604Z"
   },
   {
    "duration": 10,
    "start_time": "2022-11-06T21:04:43.653Z"
   },
   {
    "duration": 11,
    "start_time": "2022-11-06T21:04:43.665Z"
   },
   {
    "duration": 14,
    "start_time": "2022-11-06T21:04:43.677Z"
   },
   {
    "duration": 41,
    "start_time": "2022-11-06T21:04:43.692Z"
   },
   {
    "duration": 10,
    "start_time": "2022-11-06T21:04:43.736Z"
   },
   {
    "duration": 13,
    "start_time": "2022-11-06T21:04:43.747Z"
   },
   {
    "duration": 242,
    "start_time": "2022-11-06T21:04:43.762Z"
   },
   {
    "duration": 5,
    "start_time": "2022-11-06T21:04:44.007Z"
   },
   {
    "duration": 33,
    "start_time": "2022-11-06T21:04:44.014Z"
   },
   {
    "duration": 13,
    "start_time": "2022-11-06T21:04:44.049Z"
   },
   {
    "duration": 7,
    "start_time": "2022-11-06T21:04:44.064Z"
   },
   {
    "duration": 15,
    "start_time": "2022-11-06T21:04:44.073Z"
   },
   {
    "duration": 181,
    "start_time": "2022-11-06T21:04:44.090Z"
   },
   {
    "duration": 6,
    "start_time": "2022-11-06T21:04:44.273Z"
   },
   {
    "duration": 9,
    "start_time": "2022-11-06T21:04:44.280Z"
   },
   {
    "duration": 497,
    "start_time": "2022-11-06T21:04:44.291Z"
   },
   {
    "duration": 16,
    "start_time": "2022-11-06T21:04:44.790Z"
   },
   {
    "duration": 17,
    "start_time": "2022-11-06T21:04:44.833Z"
   },
   {
    "duration": 12,
    "start_time": "2022-11-06T21:04:44.852Z"
   },
   {
    "duration": 308,
    "start_time": "2022-11-06T21:04:44.865Z"
   },
   {
    "duration": 9,
    "start_time": "2022-11-06T21:04:45.175Z"
   },
   {
    "duration": 416,
    "start_time": "2022-11-06T21:04:45.185Z"
   },
   {
    "duration": 34,
    "start_time": "2022-11-06T21:04:45.605Z"
   },
   {
    "duration": 13,
    "start_time": "2022-11-06T21:04:45.641Z"
   },
   {
    "duration": 453,
    "start_time": "2022-11-06T21:04:45.656Z"
   },
   {
    "duration": 28,
    "start_time": "2022-11-06T21:04:46.110Z"
   },
   {
    "duration": 24,
    "start_time": "2022-11-06T21:04:46.140Z"
   },
   {
    "duration": 173,
    "start_time": "2022-11-06T21:04:46.165Z"
   },
   {
    "duration": 0,
    "start_time": "2022-11-06T21:04:46.339Z"
   },
   {
    "duration": 0,
    "start_time": "2022-11-06T21:04:46.341Z"
   },
   {
    "duration": 0,
    "start_time": "2022-11-06T21:04:46.342Z"
   },
   {
    "duration": 0,
    "start_time": "2022-11-06T21:04:46.343Z"
   },
   {
    "duration": 0,
    "start_time": "2022-11-06T21:04:46.344Z"
   },
   {
    "duration": 0,
    "start_time": "2022-11-06T21:04:46.345Z"
   },
   {
    "duration": 0,
    "start_time": "2022-11-06T21:04:46.347Z"
   },
   {
    "duration": 0,
    "start_time": "2022-11-06T21:04:46.348Z"
   },
   {
    "duration": 0,
    "start_time": "2022-11-06T21:04:46.350Z"
   },
   {
    "duration": 0,
    "start_time": "2022-11-06T21:04:46.351Z"
   },
   {
    "duration": 0,
    "start_time": "2022-11-06T21:04:46.353Z"
   },
   {
    "duration": 0,
    "start_time": "2022-11-06T21:04:46.354Z"
   },
   {
    "duration": 0,
    "start_time": "2022-11-06T21:04:46.356Z"
   },
   {
    "duration": 1,
    "start_time": "2022-11-06T21:04:46.357Z"
   },
   {
    "duration": 0,
    "start_time": "2022-11-06T21:04:46.359Z"
   },
   {
    "duration": 1908,
    "start_time": "2022-11-06T21:06:40.166Z"
   },
   {
    "duration": 5,
    "start_time": "2022-11-06T21:06:42.077Z"
   },
   {
    "duration": 26,
    "start_time": "2022-11-06T21:06:42.083Z"
   },
   {
    "duration": 62,
    "start_time": "2022-11-06T21:06:42.112Z"
   },
   {
    "duration": 44,
    "start_time": "2022-11-06T21:06:42.176Z"
   },
   {
    "duration": 12,
    "start_time": "2022-11-06T21:06:42.222Z"
   },
   {
    "duration": 16,
    "start_time": "2022-11-06T21:06:42.237Z"
   },
   {
    "duration": 13,
    "start_time": "2022-11-06T21:06:42.255Z"
   },
   {
    "duration": 18,
    "start_time": "2022-11-06T21:06:42.270Z"
   },
   {
    "duration": 11,
    "start_time": "2022-11-06T21:06:42.291Z"
   },
   {
    "duration": 12,
    "start_time": "2022-11-06T21:06:42.333Z"
   },
   {
    "duration": 236,
    "start_time": "2022-11-06T21:06:42.347Z"
   },
   {
    "duration": 4,
    "start_time": "2022-11-06T21:06:42.585Z"
   },
   {
    "duration": 17,
    "start_time": "2022-11-06T21:06:42.591Z"
   },
   {
    "duration": 28,
    "start_time": "2022-11-06T21:06:42.610Z"
   },
   {
    "duration": 13,
    "start_time": "2022-11-06T21:06:42.640Z"
   },
   {
    "duration": 15,
    "start_time": "2022-11-06T21:06:42.655Z"
   },
   {
    "duration": 195,
    "start_time": "2022-11-06T21:06:42.672Z"
   },
   {
    "duration": 6,
    "start_time": "2022-11-06T21:06:42.869Z"
   },
   {
    "duration": 9,
    "start_time": "2022-11-06T21:06:42.876Z"
   },
   {
    "duration": 541,
    "start_time": "2022-11-06T21:06:42.887Z"
   },
   {
    "duration": 16,
    "start_time": "2022-11-06T21:06:43.432Z"
   },
   {
    "duration": 44,
    "start_time": "2022-11-06T21:06:43.449Z"
   },
   {
    "duration": 25,
    "start_time": "2022-11-06T21:06:43.495Z"
   },
   {
    "duration": 328,
    "start_time": "2022-11-06T21:06:43.522Z"
   },
   {
    "duration": 9,
    "start_time": "2022-11-06T21:06:43.853Z"
   },
   {
    "duration": 431,
    "start_time": "2022-11-06T21:06:43.864Z"
   },
   {
    "duration": 40,
    "start_time": "2022-11-06T21:06:44.300Z"
   },
   {
    "duration": 10,
    "start_time": "2022-11-06T21:06:44.342Z"
   },
   {
    "duration": 467,
    "start_time": "2022-11-06T21:06:44.354Z"
   },
   {
    "duration": 22,
    "start_time": "2022-11-06T21:06:44.823Z"
   },
   {
    "duration": 30,
    "start_time": "2022-11-06T21:06:44.847Z"
   },
   {
    "duration": 55,
    "start_time": "2022-11-06T21:06:44.879Z"
   },
   {
    "duration": 165,
    "start_time": "2022-11-06T21:06:44.936Z"
   },
   {
    "duration": 149,
    "start_time": "2022-11-06T21:06:45.102Z"
   },
   {
    "duration": 144,
    "start_time": "2022-11-06T21:06:45.253Z"
   },
   {
    "duration": 955,
    "start_time": "2022-11-06T21:06:45.399Z"
   },
   {
    "duration": 14,
    "start_time": "2022-11-06T21:06:46.356Z"
   },
   {
    "duration": 12,
    "start_time": "2022-11-06T21:06:46.372Z"
   },
   {
    "duration": 51,
    "start_time": "2022-11-06T21:06:46.385Z"
   },
   {
    "duration": 6,
    "start_time": "2022-11-06T21:06:46.438Z"
   },
   {
    "duration": 34,
    "start_time": "2022-11-06T21:06:46.445Z"
   },
   {
    "duration": 31,
    "start_time": "2022-11-06T21:06:46.481Z"
   },
   {
    "duration": 20,
    "start_time": "2022-11-06T21:06:46.514Z"
   },
   {
    "duration": 18,
    "start_time": "2022-11-06T21:06:46.536Z"
   },
   {
    "duration": 15,
    "start_time": "2022-11-06T21:06:46.556Z"
   },
   {
    "duration": 59,
    "start_time": "2022-11-06T21:06:46.573Z"
   },
   {
    "duration": 18,
    "start_time": "2022-11-06T21:06:46.634Z"
   },
   {
    "duration": 38,
    "start_time": "2022-11-06T21:11:42.361Z"
   },
   {
    "duration": 11,
    "start_time": "2022-11-06T21:11:45.267Z"
   },
   {
    "duration": 15,
    "start_time": "2022-11-06T21:11:49.840Z"
   },
   {
    "duration": 884,
    "start_time": "2022-11-06T21:16:47.695Z"
   },
   {
    "duration": 1830,
    "start_time": "2022-11-07T04:29:53.413Z"
   },
   {
    "duration": 4,
    "start_time": "2022-11-07T04:29:55.245Z"
   },
   {
    "duration": 12,
    "start_time": "2022-11-07T04:29:55.250Z"
   },
   {
    "duration": 187,
    "start_time": "2022-11-07T04:29:55.264Z"
   },
   {
    "duration": 37,
    "start_time": "2022-11-07T04:29:55.453Z"
   },
   {
    "duration": 9,
    "start_time": "2022-11-07T04:29:55.491Z"
   },
   {
    "duration": 11,
    "start_time": "2022-11-07T04:29:55.502Z"
   },
   {
    "duration": 10,
    "start_time": "2022-11-07T04:29:55.514Z"
   },
   {
    "duration": 12,
    "start_time": "2022-11-07T04:29:55.526Z"
   },
   {
    "duration": 9,
    "start_time": "2022-11-07T04:29:55.540Z"
   },
   {
    "duration": 10,
    "start_time": "2022-11-07T04:29:55.550Z"
   },
   {
    "duration": 206,
    "start_time": "2022-11-07T04:29:55.561Z"
   },
   {
    "duration": 3,
    "start_time": "2022-11-07T04:29:55.769Z"
   },
   {
    "duration": 16,
    "start_time": "2022-11-07T04:29:55.774Z"
   },
   {
    "duration": 24,
    "start_time": "2022-11-07T04:29:55.791Z"
   },
   {
    "duration": 12,
    "start_time": "2022-11-07T04:29:55.817Z"
   },
   {
    "duration": 13,
    "start_time": "2022-11-07T04:29:55.831Z"
   },
   {
    "duration": 140,
    "start_time": "2022-11-07T04:29:55.845Z"
   },
   {
    "duration": 4,
    "start_time": "2022-11-07T04:29:55.987Z"
   },
   {
    "duration": 19,
    "start_time": "2022-11-07T04:29:55.993Z"
   },
   {
    "duration": 486,
    "start_time": "2022-11-07T04:29:56.013Z"
   },
   {
    "duration": 22,
    "start_time": "2022-11-07T04:29:56.501Z"
   },
   {
    "duration": 16,
    "start_time": "2022-11-07T04:29:56.525Z"
   },
   {
    "duration": 11,
    "start_time": "2022-11-07T04:29:56.545Z"
   },
   {
    "duration": 293,
    "start_time": "2022-11-07T04:29:56.558Z"
   },
   {
    "duration": 7,
    "start_time": "2022-11-07T04:29:56.852Z"
   },
   {
    "duration": 367,
    "start_time": "2022-11-07T04:29:56.860Z"
   },
   {
    "duration": 27,
    "start_time": "2022-11-07T04:29:57.230Z"
   },
   {
    "duration": 20,
    "start_time": "2022-11-07T04:29:57.258Z"
   },
   {
    "duration": 415,
    "start_time": "2022-11-07T04:29:57.280Z"
   },
   {
    "duration": 25,
    "start_time": "2022-11-07T04:29:57.696Z"
   },
   {
    "duration": 22,
    "start_time": "2022-11-07T04:29:57.723Z"
   },
   {
    "duration": 16,
    "start_time": "2022-11-07T04:29:57.747Z"
   },
   {
    "duration": 166,
    "start_time": "2022-11-07T04:29:57.765Z"
   },
   {
    "duration": 131,
    "start_time": "2022-11-07T04:29:57.933Z"
   },
   {
    "duration": 129,
    "start_time": "2022-11-07T04:29:58.066Z"
   },
   {
    "duration": 785,
    "start_time": "2022-11-07T04:29:58.197Z"
   },
   {
    "duration": 28,
    "start_time": "2022-11-07T04:29:58.983Z"
   },
   {
    "duration": 11,
    "start_time": "2022-11-07T04:29:59.012Z"
   },
   {
    "duration": 11,
    "start_time": "2022-11-07T04:29:59.024Z"
   },
   {
    "duration": 4,
    "start_time": "2022-11-07T04:29:59.037Z"
   },
   {
    "duration": 22,
    "start_time": "2022-11-07T04:29:59.042Z"
   },
   {
    "duration": 55,
    "start_time": "2022-11-07T04:29:59.065Z"
   },
   {
    "duration": 6,
    "start_time": "2022-11-07T04:29:59.122Z"
   },
   {
    "duration": 14,
    "start_time": "2022-11-07T04:29:59.130Z"
   },
   {
    "duration": 14,
    "start_time": "2022-11-07T04:29:59.146Z"
   },
   {
    "duration": 55,
    "start_time": "2022-11-07T04:29:59.162Z"
   },
   {
    "duration": 14,
    "start_time": "2022-11-07T04:29:59.219Z"
   },
   {
    "duration": 19,
    "start_time": "2022-11-07T04:30:26.806Z"
   },
   {
    "duration": 17,
    "start_time": "2022-11-07T04:31:41.443Z"
   },
   {
    "duration": 15,
    "start_time": "2022-11-07T04:31:53.514Z"
   },
   {
    "duration": 18,
    "start_time": "2022-11-07T04:34:29.058Z"
   },
   {
    "duration": 16,
    "start_time": "2022-11-07T04:35:06.230Z"
   },
   {
    "duration": 23,
    "start_time": "2022-11-07T04:35:41.338Z"
   },
   {
    "duration": 1658,
    "start_time": "2022-11-07T04:37:58.780Z"
   },
   {
    "duration": 4,
    "start_time": "2022-11-07T04:38:00.440Z"
   },
   {
    "duration": 13,
    "start_time": "2022-11-07T04:38:00.445Z"
   },
   {
    "duration": 71,
    "start_time": "2022-11-07T04:38:00.460Z"
   },
   {
    "duration": 36,
    "start_time": "2022-11-07T04:38:00.533Z"
   },
   {
    "duration": 9,
    "start_time": "2022-11-07T04:38:00.570Z"
   },
   {
    "duration": 11,
    "start_time": "2022-11-07T04:38:00.580Z"
   },
   {
    "duration": 14,
    "start_time": "2022-11-07T04:38:00.608Z"
   },
   {
    "duration": 13,
    "start_time": "2022-11-07T04:38:00.624Z"
   },
   {
    "duration": 32,
    "start_time": "2022-11-07T04:38:00.639Z"
   },
   {
    "duration": 10,
    "start_time": "2022-11-07T04:38:00.673Z"
   },
   {
    "duration": 194,
    "start_time": "2022-11-07T04:38:00.684Z"
   },
   {
    "duration": 4,
    "start_time": "2022-11-07T04:38:00.879Z"
   },
   {
    "duration": 26,
    "start_time": "2022-11-07T04:38:00.884Z"
   },
   {
    "duration": 12,
    "start_time": "2022-11-07T04:38:00.912Z"
   },
   {
    "duration": 17,
    "start_time": "2022-11-07T04:38:00.925Z"
   },
   {
    "duration": 16,
    "start_time": "2022-11-07T04:38:00.943Z"
   },
   {
    "duration": 157,
    "start_time": "2022-11-07T04:38:00.960Z"
   },
   {
    "duration": 5,
    "start_time": "2022-11-07T04:38:01.119Z"
   },
   {
    "duration": 16,
    "start_time": "2022-11-07T04:38:01.125Z"
   },
   {
    "duration": 430,
    "start_time": "2022-11-07T04:38:01.143Z"
   },
   {
    "duration": 35,
    "start_time": "2022-11-07T04:38:01.575Z"
   },
   {
    "duration": 13,
    "start_time": "2022-11-07T04:38:01.612Z"
   },
   {
    "duration": 9,
    "start_time": "2022-11-07T04:38:01.627Z"
   },
   {
    "duration": 285,
    "start_time": "2022-11-07T04:38:01.638Z"
   },
   {
    "duration": 8,
    "start_time": "2022-11-07T04:38:01.925Z"
   },
   {
    "duration": 325,
    "start_time": "2022-11-07T04:38:01.935Z"
   },
   {
    "duration": 23,
    "start_time": "2022-11-07T04:38:02.265Z"
   },
   {
    "duration": 22,
    "start_time": "2022-11-07T04:38:02.290Z"
   },
   {
    "duration": 396,
    "start_time": "2022-11-07T04:38:02.314Z"
   },
   {
    "duration": 19,
    "start_time": "2022-11-07T04:38:02.711Z"
   },
   {
    "duration": 23,
    "start_time": "2022-11-07T04:38:02.732Z"
   },
   {
    "duration": 54,
    "start_time": "2022-11-07T04:38:02.757Z"
   },
   {
    "duration": 138,
    "start_time": "2022-11-07T04:38:02.813Z"
   },
   {
    "duration": 122,
    "start_time": "2022-11-07T04:38:02.953Z"
   },
   {
    "duration": 120,
    "start_time": "2022-11-07T04:38:03.077Z"
   },
   {
    "duration": 787,
    "start_time": "2022-11-07T04:38:03.199Z"
   },
   {
    "duration": 26,
    "start_time": "2022-11-07T04:38:03.988Z"
   },
   {
    "duration": 10,
    "start_time": "2022-11-07T04:38:04.016Z"
   },
   {
    "duration": 12,
    "start_time": "2022-11-07T04:38:04.027Z"
   },
   {
    "duration": 4,
    "start_time": "2022-11-07T04:38:04.040Z"
   },
   {
    "duration": 22,
    "start_time": "2022-11-07T04:38:04.046Z"
   },
   {
    "duration": 57,
    "start_time": "2022-11-07T04:38:04.069Z"
   },
   {
    "duration": 6,
    "start_time": "2022-11-07T04:38:04.127Z"
   },
   {
    "duration": 11,
    "start_time": "2022-11-07T04:38:04.134Z"
   },
   {
    "duration": 10,
    "start_time": "2022-11-07T04:38:04.147Z"
   },
   {
    "duration": 50,
    "start_time": "2022-11-07T04:38:04.158Z"
   },
   {
    "duration": 23,
    "start_time": "2022-11-07T04:38:04.210Z"
   },
   {
    "duration": 16,
    "start_time": "2022-11-07T04:38:04.235Z"
   },
   {
    "duration": 15,
    "start_time": "2022-11-07T04:38:04.253Z"
   },
   {
    "duration": 16,
    "start_time": "2022-11-07T04:54:43.804Z"
   },
   {
    "duration": 15,
    "start_time": "2022-11-07T05:18:23.452Z"
   },
   {
    "duration": 162,
    "start_time": "2022-11-07T05:25:42.522Z"
   },
   {
    "duration": 7,
    "start_time": "2022-11-07T05:25:47.919Z"
   },
   {
    "duration": 297,
    "start_time": "2022-11-07T05:25:49.604Z"
   },
   {
    "duration": 258,
    "start_time": "2022-11-07T05:26:23.039Z"
   },
   {
    "duration": 275,
    "start_time": "2022-11-07T05:27:05.178Z"
   },
   {
    "duration": 260,
    "start_time": "2022-11-07T05:28:22.142Z"
   },
   {
    "duration": 19,
    "start_time": "2022-11-07T05:33:51.007Z"
   },
   {
    "duration": 16,
    "start_time": "2022-11-07T05:35:13.612Z"
   },
   {
    "duration": 16,
    "start_time": "2022-11-07T05:35:21.833Z"
   },
   {
    "duration": 259,
    "start_time": "2022-11-07T06:08:22.216Z"
   },
   {
    "duration": 706,
    "start_time": "2022-11-07T06:11:01.576Z"
   },
   {
    "duration": 12,
    "start_time": "2022-11-07T06:14:56.349Z"
   },
   {
    "duration": 17,
    "start_time": "2022-11-07T06:37:32.496Z"
   },
   {
    "duration": 1697,
    "start_time": "2022-11-07T07:05:05.058Z"
   },
   {
    "duration": 3,
    "start_time": "2022-11-07T07:05:06.757Z"
   },
   {
    "duration": 13,
    "start_time": "2022-11-07T07:05:06.761Z"
   },
   {
    "duration": 58,
    "start_time": "2022-11-07T07:05:06.776Z"
   },
   {
    "duration": 35,
    "start_time": "2022-11-07T07:05:06.836Z"
   },
   {
    "duration": 8,
    "start_time": "2022-11-07T07:05:06.872Z"
   },
   {
    "duration": 35,
    "start_time": "2022-11-07T07:05:06.881Z"
   },
   {
    "duration": 12,
    "start_time": "2022-11-07T07:05:06.918Z"
   },
   {
    "duration": 13,
    "start_time": "2022-11-07T07:05:06.931Z"
   },
   {
    "duration": 9,
    "start_time": "2022-11-07T07:05:06.946Z"
   },
   {
    "duration": 10,
    "start_time": "2022-11-07T07:05:06.956Z"
   },
   {
    "duration": 233,
    "start_time": "2022-11-07T07:05:06.968Z"
   },
   {
    "duration": 8,
    "start_time": "2022-11-07T07:05:07.203Z"
   },
   {
    "duration": 15,
    "start_time": "2022-11-07T07:05:07.213Z"
   },
   {
    "duration": 10,
    "start_time": "2022-11-07T07:05:07.229Z"
   },
   {
    "duration": 7,
    "start_time": "2022-11-07T07:05:07.241Z"
   },
   {
    "duration": 16,
    "start_time": "2022-11-07T07:05:07.251Z"
   },
   {
    "duration": 169,
    "start_time": "2022-11-07T07:05:07.269Z"
   },
   {
    "duration": 4,
    "start_time": "2022-11-07T07:05:07.440Z"
   },
   {
    "duration": 14,
    "start_time": "2022-11-07T07:05:07.445Z"
   },
   {
    "duration": 489,
    "start_time": "2022-11-07T07:05:07.460Z"
   },
   {
    "duration": 18,
    "start_time": "2022-11-07T07:05:07.951Z"
   },
   {
    "duration": 41,
    "start_time": "2022-11-07T07:05:07.971Z"
   },
   {
    "duration": 9,
    "start_time": "2022-11-07T07:05:08.014Z"
   },
   {
    "duration": 303,
    "start_time": "2022-11-07T07:05:08.025Z"
   },
   {
    "duration": 8,
    "start_time": "2022-11-07T07:05:08.330Z"
   },
   {
    "duration": 348,
    "start_time": "2022-11-07T07:05:08.340Z"
   },
   {
    "duration": 29,
    "start_time": "2022-11-07T07:05:08.692Z"
   },
   {
    "duration": 17,
    "start_time": "2022-11-07T07:05:08.723Z"
   },
   {
    "duration": 429,
    "start_time": "2022-11-07T07:05:08.742Z"
   },
   {
    "duration": 15,
    "start_time": "2022-11-07T07:05:09.173Z"
   },
   {
    "duration": 35,
    "start_time": "2022-11-07T07:05:09.190Z"
   },
   {
    "duration": 18,
    "start_time": "2022-11-07T07:05:09.226Z"
   },
   {
    "duration": 152,
    "start_time": "2022-11-07T07:05:09.246Z"
   },
   {
    "duration": 133,
    "start_time": "2022-11-07T07:05:09.400Z"
   },
   {
    "duration": 125,
    "start_time": "2022-11-07T07:05:09.535Z"
   },
   {
    "duration": 836,
    "start_time": "2022-11-07T07:05:09.662Z"
   },
   {
    "duration": 19,
    "start_time": "2022-11-07T07:05:10.500Z"
   },
   {
    "duration": 11,
    "start_time": "2022-11-07T07:05:10.520Z"
   },
   {
    "duration": 12,
    "start_time": "2022-11-07T07:05:10.533Z"
   },
   {
    "duration": 5,
    "start_time": "2022-11-07T07:05:10.546Z"
   },
   {
    "duration": 61,
    "start_time": "2022-11-07T07:05:10.552Z"
   },
   {
    "duration": 21,
    "start_time": "2022-11-07T07:05:10.615Z"
   },
   {
    "duration": 5,
    "start_time": "2022-11-07T07:05:10.638Z"
   },
   {
    "duration": 13,
    "start_time": "2022-11-07T07:05:10.645Z"
   },
   {
    "duration": 14,
    "start_time": "2022-11-07T07:05:10.659Z"
   },
   {
    "duration": 16,
    "start_time": "2022-11-07T07:05:10.710Z"
   },
   {
    "duration": 302,
    "start_time": "2022-11-07T07:05:10.728Z"
   },
   {
    "duration": 667,
    "start_time": "2022-11-07T07:05:11.032Z"
   },
   {
    "duration": 23,
    "start_time": "2022-11-07T07:05:11.701Z"
   },
   {
    "duration": 12,
    "start_time": "2022-11-07T07:25:34.045Z"
   },
   {
    "duration": 16,
    "start_time": "2022-11-07T07:25:41.338Z"
   },
   {
    "duration": 96,
    "start_time": "2022-11-07T07:29:40.642Z"
   },
   {
    "duration": 97,
    "start_time": "2022-11-07T07:30:00.634Z"
   },
   {
    "duration": 94,
    "start_time": "2022-11-07T07:32:35.769Z"
   },
   {
    "duration": 54,
    "start_time": "2022-11-07T07:53:27.272Z"
   },
   {
    "duration": 343,
    "start_time": "2022-11-07T07:53:49.710Z"
   },
   {
    "duration": 107,
    "start_time": "2022-11-07T07:54:12.781Z"
   },
   {
    "duration": 119,
    "start_time": "2022-11-07T07:54:56.013Z"
   },
   {
    "duration": 203,
    "start_time": "2022-11-07T07:55:07.461Z"
   },
   {
    "duration": 414,
    "start_time": "2022-11-07T07:55:23.322Z"
   },
   {
    "duration": 1703,
    "start_time": "2022-11-07T07:59:48.989Z"
   },
   {
    "duration": 4,
    "start_time": "2022-11-07T07:59:50.694Z"
   },
   {
    "duration": 9,
    "start_time": "2022-11-07T07:59:50.700Z"
   },
   {
    "duration": 46,
    "start_time": "2022-11-07T07:59:50.711Z"
   },
   {
    "duration": 38,
    "start_time": "2022-11-07T07:59:50.759Z"
   },
   {
    "duration": 11,
    "start_time": "2022-11-07T07:59:50.798Z"
   },
   {
    "duration": 11,
    "start_time": "2022-11-07T07:59:50.811Z"
   },
   {
    "duration": 12,
    "start_time": "2022-11-07T07:59:50.823Z"
   },
   {
    "duration": 173,
    "start_time": "2022-11-07T07:59:50.837Z"
   },
   {
    "duration": 10,
    "start_time": "2022-11-07T07:59:51.012Z"
   },
   {
    "duration": 13,
    "start_time": "2022-11-07T07:59:51.023Z"
   },
   {
    "duration": 225,
    "start_time": "2022-11-07T07:59:51.038Z"
   },
   {
    "duration": 4,
    "start_time": "2022-11-07T07:59:51.265Z"
   },
   {
    "duration": 19,
    "start_time": "2022-11-07T07:59:51.271Z"
   },
   {
    "duration": 26,
    "start_time": "2022-11-07T07:59:51.292Z"
   },
   {
    "duration": 6,
    "start_time": "2022-11-07T07:59:51.320Z"
   },
   {
    "duration": 13,
    "start_time": "2022-11-07T07:59:51.328Z"
   },
   {
    "duration": 162,
    "start_time": "2022-11-07T07:59:51.344Z"
   },
   {
    "duration": 6,
    "start_time": "2022-11-07T07:59:51.509Z"
   },
   {
    "duration": 13,
    "start_time": "2022-11-07T07:59:51.517Z"
   },
   {
    "duration": 416,
    "start_time": "2022-11-07T07:59:51.532Z"
   },
   {
    "duration": 13,
    "start_time": "2022-11-07T07:59:51.950Z"
   },
   {
    "duration": 11,
    "start_time": "2022-11-07T07:59:51.965Z"
   },
   {
    "duration": 33,
    "start_time": "2022-11-07T07:59:51.978Z"
   },
   {
    "duration": 278,
    "start_time": "2022-11-07T07:59:52.013Z"
   },
   {
    "duration": 8,
    "start_time": "2022-11-07T07:59:52.293Z"
   },
   {
    "duration": 341,
    "start_time": "2022-11-07T07:59:52.309Z"
   },
   {
    "duration": 24,
    "start_time": "2022-11-07T07:59:52.654Z"
   },
   {
    "duration": 14,
    "start_time": "2022-11-07T07:59:52.680Z"
   },
   {
    "duration": 428,
    "start_time": "2022-11-07T07:59:52.696Z"
   },
   {
    "duration": 16,
    "start_time": "2022-11-07T07:59:53.125Z"
   },
   {
    "duration": 19,
    "start_time": "2022-11-07T07:59:53.143Z"
   },
   {
    "duration": 51,
    "start_time": "2022-11-07T07:59:53.164Z"
   },
   {
    "duration": 138,
    "start_time": "2022-11-07T07:59:53.216Z"
   },
   {
    "duration": 133,
    "start_time": "2022-11-07T07:59:53.356Z"
   },
   {
    "duration": 124,
    "start_time": "2022-11-07T07:59:53.491Z"
   },
   {
    "duration": 830,
    "start_time": "2022-11-07T07:59:53.617Z"
   },
   {
    "duration": 18,
    "start_time": "2022-11-07T07:59:54.450Z"
   },
   {
    "duration": 40,
    "start_time": "2022-11-07T07:59:54.470Z"
   },
   {
    "duration": 15,
    "start_time": "2022-11-07T07:59:54.512Z"
   },
   {
    "duration": 11,
    "start_time": "2022-11-07T07:59:54.528Z"
   },
   {
    "duration": 34,
    "start_time": "2022-11-07T07:59:54.542Z"
   },
   {
    "duration": 54,
    "start_time": "2022-11-07T07:59:54.578Z"
   },
   {
    "duration": 10,
    "start_time": "2022-11-07T07:59:54.634Z"
   },
   {
    "duration": 22,
    "start_time": "2022-11-07T07:59:54.646Z"
   },
   {
    "duration": 46,
    "start_time": "2022-11-07T07:59:54.669Z"
   },
   {
    "duration": 18,
    "start_time": "2022-11-07T07:59:54.717Z"
   },
   {
    "duration": 287,
    "start_time": "2022-11-07T07:59:54.737Z"
   },
   {
    "duration": 677,
    "start_time": "2022-11-07T07:59:55.025Z"
   },
   {
    "duration": 12,
    "start_time": "2022-11-07T07:59:55.704Z"
   },
   {
    "duration": 455,
    "start_time": "2022-11-07T07:59:55.717Z"
   }
  ],
  "kernelspec": {
   "display_name": "Python 3 (ipykernel)",
   "language": "python",
   "name": "python3"
  },
  "language_info": {
   "codemirror_mode": {
    "name": "ipython",
    "version": 3
   },
   "file_extension": ".py",
   "mimetype": "text/x-python",
   "name": "python",
   "nbconvert_exporter": "python",
   "pygments_lexer": "ipython3",
   "version": "3.9.7"
  },
  "toc": {
   "base_numbering": 1,
   "nav_menu": {},
   "number_sections": true,
   "sideBar": true,
   "skip_h1_title": true,
   "title_cell": "Table of Contents",
   "title_sidebar": "Contents",
   "toc_cell": false,
   "toc_position": {
    "height": "calc(100% - 180px)",
    "left": "10px",
    "top": "150px",
    "width": "366.188px"
   },
   "toc_section_display": true,
   "toc_window_display": true
  }
 },
 "nbformat": 4,
 "nbformat_minor": 2
}
