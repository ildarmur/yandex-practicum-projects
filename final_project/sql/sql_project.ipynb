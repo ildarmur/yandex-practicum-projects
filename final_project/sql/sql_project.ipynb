{
 "cells": [
  {
   "cell_type": "markdown",
   "metadata": {},
   "source": [
    "# Анализ базы данных сервиса для чтения книг"
   ]
  },
  {
   "cell_type": "markdown",
   "metadata": {},
   "source": [
    "**Цель**\n",
    "\n",
    "Сформулировать ценностное предложение для нового продукта, на основе анализа информации о книгах, издательствах, авторах и пользовательских обзорах книг.\n",
    "\n",
    "**Задачи**\n",
    "\n",
    "- Посчитать, сколько книг вышло после 1 января 2000 года;\n",
    "- Для каждой книги посчитать количество обзоров и среднюю оценку;\n",
    "- Определить издательство, которое выпустило наибольшее число книг толще 50 страниц (за исключением брошюр);\n",
    "- Определить автора с самой высокой средней оценкой книг (учесть только книги с 50 и более оценками);\n",
    "- Посчитать среднее количество обзоров от пользователей, которые поставили больше 50 оценок.\n"
   ]
  },
  {
   "cell_type": "code",
   "execution_count": 1,
   "metadata": {},
   "outputs": [],
   "source": [
    "import pandas as pd\n",
    "from sqlalchemy import create_engine"
   ]
  },
  {
   "cell_type": "code",
   "execution_count": 2,
   "metadata": {},
   "outputs": [],
   "source": [
    "# устанавливаем параметры\n",
    "db_config = {'user': 'praktikum_student', # имя пользователя\n",
    "'pwd': 'Sdf4$2;d-d30pp', # пароль\n",
    "'host': 'rc1b-wcoijxj3yxfsf3fs.mdb.yandexcloud.net',\n",
    "'port': 6432, # порт подключения\n",
    "'db': 'data-analyst-final-project-db'} # название базы данных\n",
    "connection_string = 'postgresql://{}:{}@{}:{}/{}'.format(db_config['user'],\n",
    " db_config['pwd'],\n",
    " db_config['host'],\n",
    " db_config['port'],\n",
    " db_config['db'])\n",
    "\n",
    "# сохраняем коннектор\n",
    "engine = create_engine(connection_string, connect_args={'sslmode':'require'})"
   ]
  },
  {
   "cell_type": "markdown",
   "metadata": {},
   "source": [
    "Выведем первые строки всех таблиц"
   ]
  },
  {
   "cell_type": "code",
   "execution_count": 3,
   "metadata": {},
   "outputs": [
    {
     "data": {
      "text/html": [
       "<div>\n",
       "<style scoped>\n",
       "    .dataframe tbody tr th:only-of-type {\n",
       "        vertical-align: middle;\n",
       "    }\n",
       "\n",
       "    .dataframe tbody tr th {\n",
       "        vertical-align: top;\n",
       "    }\n",
       "\n",
       "    .dataframe thead th {\n",
       "        text-align: right;\n",
       "    }\n",
       "</style>\n",
       "<table border=\"1\" class=\"dataframe\">\n",
       "  <thead>\n",
       "    <tr style=\"text-align: right;\">\n",
       "      <th></th>\n",
       "      <th>book_id</th>\n",
       "      <th>author_id</th>\n",
       "      <th>title</th>\n",
       "      <th>num_pages</th>\n",
       "      <th>publication_date</th>\n",
       "      <th>publisher_id</th>\n",
       "    </tr>\n",
       "  </thead>\n",
       "  <tbody>\n",
       "    <tr>\n",
       "      <th>0</th>\n",
       "      <td>1</td>\n",
       "      <td>546</td>\n",
       "      <td>'Salem's Lot</td>\n",
       "      <td>594</td>\n",
       "      <td>2005-11-01</td>\n",
       "      <td>93</td>\n",
       "    </tr>\n",
       "    <tr>\n",
       "      <th>1</th>\n",
       "      <td>2</td>\n",
       "      <td>465</td>\n",
       "      <td>1 000 Places to See Before You Die</td>\n",
       "      <td>992</td>\n",
       "      <td>2003-05-22</td>\n",
       "      <td>336</td>\n",
       "    </tr>\n",
       "    <tr>\n",
       "      <th>2</th>\n",
       "      <td>3</td>\n",
       "      <td>407</td>\n",
       "      <td>13 Little Blue Envelopes (Little Blue Envelope...</td>\n",
       "      <td>322</td>\n",
       "      <td>2010-12-21</td>\n",
       "      <td>135</td>\n",
       "    </tr>\n",
       "    <tr>\n",
       "      <th>3</th>\n",
       "      <td>4</td>\n",
       "      <td>82</td>\n",
       "      <td>1491: New Revelations of the Americas Before C...</td>\n",
       "      <td>541</td>\n",
       "      <td>2006-10-10</td>\n",
       "      <td>309</td>\n",
       "    </tr>\n",
       "    <tr>\n",
       "      <th>4</th>\n",
       "      <td>5</td>\n",
       "      <td>125</td>\n",
       "      <td>1776</td>\n",
       "      <td>386</td>\n",
       "      <td>2006-07-04</td>\n",
       "      <td>268</td>\n",
       "    </tr>\n",
       "  </tbody>\n",
       "</table>\n",
       "</div>"
      ],
      "text/plain": [
       "   book_id  author_id                                              title  \\\n",
       "0        1        546                                       'Salem's Lot   \n",
       "1        2        465                 1 000 Places to See Before You Die   \n",
       "2        3        407  13 Little Blue Envelopes (Little Blue Envelope...   \n",
       "3        4         82  1491: New Revelations of the Americas Before C...   \n",
       "4        5        125                                               1776   \n",
       "\n",
       "   num_pages publication_date  publisher_id  \n",
       "0        594       2005-11-01            93  \n",
       "1        992       2003-05-22           336  \n",
       "2        322       2010-12-21           135  \n",
       "3        541       2006-10-10           309  \n",
       "4        386       2006-07-04           268  "
      ]
     },
     "execution_count": 3,
     "metadata": {},
     "output_type": "execute_result"
    }
   ],
   "source": [
    "query = '''\n",
    "    SELECT *\n",
    "    FROM books\n",
    "    LIMIT 5;\n",
    "'''\n",
    "\n",
    "pd.io.sql.read_sql(query, con = engine)"
   ]
  },
  {
   "cell_type": "code",
   "execution_count": 4,
   "metadata": {
    "scrolled": true
   },
   "outputs": [
    {
     "data": {
      "text/html": [
       "<div>\n",
       "<style scoped>\n",
       "    .dataframe tbody tr th:only-of-type {\n",
       "        vertical-align: middle;\n",
       "    }\n",
       "\n",
       "    .dataframe tbody tr th {\n",
       "        vertical-align: top;\n",
       "    }\n",
       "\n",
       "    .dataframe thead th {\n",
       "        text-align: right;\n",
       "    }\n",
       "</style>\n",
       "<table border=\"1\" class=\"dataframe\">\n",
       "  <thead>\n",
       "    <tr style=\"text-align: right;\">\n",
       "      <th></th>\n",
       "      <th>author_id</th>\n",
       "      <th>author</th>\n",
       "    </tr>\n",
       "  </thead>\n",
       "  <tbody>\n",
       "    <tr>\n",
       "      <th>0</th>\n",
       "      <td>1</td>\n",
       "      <td>A.S. Byatt</td>\n",
       "    </tr>\n",
       "    <tr>\n",
       "      <th>1</th>\n",
       "      <td>2</td>\n",
       "      <td>Aesop/Laura Harris/Laura Gibbs</td>\n",
       "    </tr>\n",
       "    <tr>\n",
       "      <th>2</th>\n",
       "      <td>3</td>\n",
       "      <td>Agatha Christie</td>\n",
       "    </tr>\n",
       "    <tr>\n",
       "      <th>3</th>\n",
       "      <td>4</td>\n",
       "      <td>Alan Brennert</td>\n",
       "    </tr>\n",
       "    <tr>\n",
       "      <th>4</th>\n",
       "      <td>5</td>\n",
       "      <td>Alan Moore/David   Lloyd</td>\n",
       "    </tr>\n",
       "  </tbody>\n",
       "</table>\n",
       "</div>"
      ],
      "text/plain": [
       "   author_id                          author\n",
       "0          1                      A.S. Byatt\n",
       "1          2  Aesop/Laura Harris/Laura Gibbs\n",
       "2          3                 Agatha Christie\n",
       "3          4                   Alan Brennert\n",
       "4          5        Alan Moore/David   Lloyd"
      ]
     },
     "execution_count": 4,
     "metadata": {},
     "output_type": "execute_result"
    }
   ],
   "source": [
    "query = '''\n",
    "    SELECT *\n",
    "    FROM authors\n",
    "    LIMIT 5;\n",
    "'''\n",
    "\n",
    "pd.io.sql.read_sql(query, con = engine)"
   ]
  },
  {
   "cell_type": "code",
   "execution_count": 5,
   "metadata": {
    "scrolled": true
   },
   "outputs": [
    {
     "data": {
      "text/html": [
       "<div>\n",
       "<style scoped>\n",
       "    .dataframe tbody tr th:only-of-type {\n",
       "        vertical-align: middle;\n",
       "    }\n",
       "\n",
       "    .dataframe tbody tr th {\n",
       "        vertical-align: top;\n",
       "    }\n",
       "\n",
       "    .dataframe thead th {\n",
       "        text-align: right;\n",
       "    }\n",
       "</style>\n",
       "<table border=\"1\" class=\"dataframe\">\n",
       "  <thead>\n",
       "    <tr style=\"text-align: right;\">\n",
       "      <th></th>\n",
       "      <th>rating_id</th>\n",
       "      <th>book_id</th>\n",
       "      <th>username</th>\n",
       "      <th>rating</th>\n",
       "    </tr>\n",
       "  </thead>\n",
       "  <tbody>\n",
       "    <tr>\n",
       "      <th>0</th>\n",
       "      <td>1</td>\n",
       "      <td>1</td>\n",
       "      <td>ryanfranco</td>\n",
       "      <td>4</td>\n",
       "    </tr>\n",
       "    <tr>\n",
       "      <th>1</th>\n",
       "      <td>2</td>\n",
       "      <td>1</td>\n",
       "      <td>grantpatricia</td>\n",
       "      <td>2</td>\n",
       "    </tr>\n",
       "    <tr>\n",
       "      <th>2</th>\n",
       "      <td>3</td>\n",
       "      <td>1</td>\n",
       "      <td>brandtandrea</td>\n",
       "      <td>5</td>\n",
       "    </tr>\n",
       "    <tr>\n",
       "      <th>3</th>\n",
       "      <td>4</td>\n",
       "      <td>2</td>\n",
       "      <td>lorichen</td>\n",
       "      <td>3</td>\n",
       "    </tr>\n",
       "    <tr>\n",
       "      <th>4</th>\n",
       "      <td>5</td>\n",
       "      <td>2</td>\n",
       "      <td>mariokeller</td>\n",
       "      <td>2</td>\n",
       "    </tr>\n",
       "  </tbody>\n",
       "</table>\n",
       "</div>"
      ],
      "text/plain": [
       "   rating_id  book_id       username  rating\n",
       "0          1        1     ryanfranco       4\n",
       "1          2        1  grantpatricia       2\n",
       "2          3        1   brandtandrea       5\n",
       "3          4        2       lorichen       3\n",
       "4          5        2    mariokeller       2"
      ]
     },
     "execution_count": 5,
     "metadata": {},
     "output_type": "execute_result"
    }
   ],
   "source": [
    "query = '''\n",
    "    SELECT *\n",
    "    FROM ratings\n",
    "    LIMIT 5;\n",
    "'''\n",
    "\n",
    "pd.io.sql.read_sql(query, con = engine)"
   ]
  },
  {
   "cell_type": "code",
   "execution_count": 6,
   "metadata": {
    "scrolled": true
   },
   "outputs": [
    {
     "data": {
      "text/html": [
       "<div>\n",
       "<style scoped>\n",
       "    .dataframe tbody tr th:only-of-type {\n",
       "        vertical-align: middle;\n",
       "    }\n",
       "\n",
       "    .dataframe tbody tr th {\n",
       "        vertical-align: top;\n",
       "    }\n",
       "\n",
       "    .dataframe thead th {\n",
       "        text-align: right;\n",
       "    }\n",
       "</style>\n",
       "<table border=\"1\" class=\"dataframe\">\n",
       "  <thead>\n",
       "    <tr style=\"text-align: right;\">\n",
       "      <th></th>\n",
       "      <th>review_id</th>\n",
       "      <th>book_id</th>\n",
       "      <th>username</th>\n",
       "      <th>text</th>\n",
       "    </tr>\n",
       "  </thead>\n",
       "  <tbody>\n",
       "    <tr>\n",
       "      <th>0</th>\n",
       "      <td>1</td>\n",
       "      <td>1</td>\n",
       "      <td>brandtandrea</td>\n",
       "      <td>Mention society tell send professor analysis. ...</td>\n",
       "    </tr>\n",
       "    <tr>\n",
       "      <th>1</th>\n",
       "      <td>2</td>\n",
       "      <td>1</td>\n",
       "      <td>ryanfranco</td>\n",
       "      <td>Foot glass pretty audience hit themselves. Amo...</td>\n",
       "    </tr>\n",
       "    <tr>\n",
       "      <th>2</th>\n",
       "      <td>3</td>\n",
       "      <td>2</td>\n",
       "      <td>lorichen</td>\n",
       "      <td>Listen treat keep worry. Miss husband tax but ...</td>\n",
       "    </tr>\n",
       "    <tr>\n",
       "      <th>3</th>\n",
       "      <td>4</td>\n",
       "      <td>3</td>\n",
       "      <td>johnsonamanda</td>\n",
       "      <td>Finally month interesting blue could nature cu...</td>\n",
       "    </tr>\n",
       "    <tr>\n",
       "      <th>4</th>\n",
       "      <td>5</td>\n",
       "      <td>3</td>\n",
       "      <td>scotttamara</td>\n",
       "      <td>Nation purpose heavy give wait song will. List...</td>\n",
       "    </tr>\n",
       "  </tbody>\n",
       "</table>\n",
       "</div>"
      ],
      "text/plain": [
       "   review_id  book_id       username  \\\n",
       "0          1        1   brandtandrea   \n",
       "1          2        1     ryanfranco   \n",
       "2          3        2       lorichen   \n",
       "3          4        3  johnsonamanda   \n",
       "4          5        3    scotttamara   \n",
       "\n",
       "                                                text  \n",
       "0  Mention society tell send professor analysis. ...  \n",
       "1  Foot glass pretty audience hit themselves. Amo...  \n",
       "2  Listen treat keep worry. Miss husband tax but ...  \n",
       "3  Finally month interesting blue could nature cu...  \n",
       "4  Nation purpose heavy give wait song will. List...  "
      ]
     },
     "execution_count": 6,
     "metadata": {},
     "output_type": "execute_result"
    }
   ],
   "source": [
    "query = '''\n",
    "    SELECT *\n",
    "    FROM reviews\n",
    "    LIMIT 5;\n",
    "'''\n",
    "\n",
    "pd.io.sql.read_sql(query, con = engine)"
   ]
  },
  {
   "cell_type": "code",
   "execution_count": 7,
   "metadata": {},
   "outputs": [
    {
     "data": {
      "text/html": [
       "<div>\n",
       "<style scoped>\n",
       "    .dataframe tbody tr th:only-of-type {\n",
       "        vertical-align: middle;\n",
       "    }\n",
       "\n",
       "    .dataframe tbody tr th {\n",
       "        vertical-align: top;\n",
       "    }\n",
       "\n",
       "    .dataframe thead th {\n",
       "        text-align: right;\n",
       "    }\n",
       "</style>\n",
       "<table border=\"1\" class=\"dataframe\">\n",
       "  <thead>\n",
       "    <tr style=\"text-align: right;\">\n",
       "      <th></th>\n",
       "      <th>publisher_id</th>\n",
       "      <th>publisher</th>\n",
       "    </tr>\n",
       "  </thead>\n",
       "  <tbody>\n",
       "    <tr>\n",
       "      <th>0</th>\n",
       "      <td>1</td>\n",
       "      <td>Ace</td>\n",
       "    </tr>\n",
       "    <tr>\n",
       "      <th>1</th>\n",
       "      <td>2</td>\n",
       "      <td>Ace Book</td>\n",
       "    </tr>\n",
       "    <tr>\n",
       "      <th>2</th>\n",
       "      <td>3</td>\n",
       "      <td>Ace Books</td>\n",
       "    </tr>\n",
       "    <tr>\n",
       "      <th>3</th>\n",
       "      <td>4</td>\n",
       "      <td>Ace Hardcover</td>\n",
       "    </tr>\n",
       "    <tr>\n",
       "      <th>4</th>\n",
       "      <td>5</td>\n",
       "      <td>Addison Wesley Publishing Company</td>\n",
       "    </tr>\n",
       "  </tbody>\n",
       "</table>\n",
       "</div>"
      ],
      "text/plain": [
       "   publisher_id                          publisher\n",
       "0             1                                Ace\n",
       "1             2                           Ace Book\n",
       "2             3                          Ace Books\n",
       "3             4                      Ace Hardcover\n",
       "4             5  Addison Wesley Publishing Company"
      ]
     },
     "execution_count": 7,
     "metadata": {},
     "output_type": "execute_result"
    }
   ],
   "source": [
    "query = '''\n",
    "    SELECT *\n",
    "    FROM publishers\n",
    "    LIMIT 5;\n",
    "'''\n",
    "\n",
    "pd.io.sql.read_sql(query, con = engine)"
   ]
  },
  {
   "cell_type": "markdown",
   "metadata": {},
   "source": [
    "##  Количество книг, вышедших после 1 января 2000 года"
   ]
  },
  {
   "cell_type": "code",
   "execution_count": 8,
   "metadata": {},
   "outputs": [
    {
     "data": {
      "text/html": [
       "<div>\n",
       "<style scoped>\n",
       "    .dataframe tbody tr th:only-of-type {\n",
       "        vertical-align: middle;\n",
       "    }\n",
       "\n",
       "    .dataframe tbody tr th {\n",
       "        vertical-align: top;\n",
       "    }\n",
       "\n",
       "    .dataframe thead th {\n",
       "        text-align: right;\n",
       "    }\n",
       "</style>\n",
       "<table border=\"1\" class=\"dataframe\">\n",
       "  <thead>\n",
       "    <tr style=\"text-align: right;\">\n",
       "      <th></th>\n",
       "      <th>count</th>\n",
       "    </tr>\n",
       "  </thead>\n",
       "  <tbody>\n",
       "    <tr>\n",
       "      <th>0</th>\n",
       "      <td>819</td>\n",
       "    </tr>\n",
       "  </tbody>\n",
       "</table>\n",
       "</div>"
      ],
      "text/plain": [
       "   count\n",
       "0    819"
      ]
     },
     "execution_count": 8,
     "metadata": {},
     "output_type": "execute_result"
    }
   ],
   "source": [
    "query = '''\n",
    "    SELECT COUNT(book_id)\n",
    "    FROM books\n",
    "    WHERE publication_date > '2000-01-01';\n",
    "'''\n",
    "\n",
    "pd.io.sql.read_sql(query, con = engine)"
   ]
  },
  {
   "cell_type": "markdown",
   "metadata": {},
   "source": [
    "После 1 января 2000 года вышло 819 книг."
   ]
  },
  {
   "cell_type": "markdown",
   "metadata": {},
   "source": [
    "## Количество обзоров и средняя оценка каждой книги"
   ]
  },
  {
   "cell_type": "code",
   "execution_count": 18,
   "metadata": {
    "scrolled": false
   },
   "outputs": [
    {
     "data": {
      "text/html": [
       "<div>\n",
       "<style scoped>\n",
       "    .dataframe tbody tr th:only-of-type {\n",
       "        vertical-align: middle;\n",
       "    }\n",
       "\n",
       "    .dataframe tbody tr th {\n",
       "        vertical-align: top;\n",
       "    }\n",
       "\n",
       "    .dataframe thead th {\n",
       "        text-align: right;\n",
       "    }\n",
       "</style>\n",
       "<table border=\"1\" class=\"dataframe\">\n",
       "  <thead>\n",
       "    <tr style=\"text-align: right;\">\n",
       "      <th></th>\n",
       "      <th>book_id</th>\n",
       "      <th>title</th>\n",
       "      <th>count</th>\n",
       "      <th>avg</th>\n",
       "    </tr>\n",
       "  </thead>\n",
       "  <tbody>\n",
       "    <tr>\n",
       "      <th>0</th>\n",
       "      <td>1</td>\n",
       "      <td>'Salem's Lot</td>\n",
       "      <td>2</td>\n",
       "      <td>3.666667</td>\n",
       "    </tr>\n",
       "    <tr>\n",
       "      <th>1</th>\n",
       "      <td>2</td>\n",
       "      <td>1 000 Places to See Before You Die</td>\n",
       "      <td>1</td>\n",
       "      <td>2.500000</td>\n",
       "    </tr>\n",
       "    <tr>\n",
       "      <th>2</th>\n",
       "      <td>3</td>\n",
       "      <td>13 Little Blue Envelopes (Little Blue Envelope...</td>\n",
       "      <td>3</td>\n",
       "      <td>4.666667</td>\n",
       "    </tr>\n",
       "    <tr>\n",
       "      <th>3</th>\n",
       "      <td>4</td>\n",
       "      <td>1491: New Revelations of the Americas Before C...</td>\n",
       "      <td>2</td>\n",
       "      <td>4.500000</td>\n",
       "    </tr>\n",
       "    <tr>\n",
       "      <th>4</th>\n",
       "      <td>5</td>\n",
       "      <td>1776</td>\n",
       "      <td>4</td>\n",
       "      <td>4.000000</td>\n",
       "    </tr>\n",
       "    <tr>\n",
       "      <th>...</th>\n",
       "      <td>...</td>\n",
       "      <td>...</td>\n",
       "      <td>...</td>\n",
       "      <td>...</td>\n",
       "    </tr>\n",
       "    <tr>\n",
       "      <th>995</th>\n",
       "      <td>996</td>\n",
       "      <td>Wyrd Sisters (Discworld  #6; Witches #2)</td>\n",
       "      <td>3</td>\n",
       "      <td>3.666667</td>\n",
       "    </tr>\n",
       "    <tr>\n",
       "      <th>996</th>\n",
       "      <td>997</td>\n",
       "      <td>Xenocide (Ender's Saga  #3)</td>\n",
       "      <td>3</td>\n",
       "      <td>3.400000</td>\n",
       "    </tr>\n",
       "    <tr>\n",
       "      <th>997</th>\n",
       "      <td>998</td>\n",
       "      <td>Year of Wonders</td>\n",
       "      <td>4</td>\n",
       "      <td>3.200000</td>\n",
       "    </tr>\n",
       "    <tr>\n",
       "      <th>998</th>\n",
       "      <td>999</td>\n",
       "      <td>You Suck (A Love Story  #2)</td>\n",
       "      <td>2</td>\n",
       "      <td>4.500000</td>\n",
       "    </tr>\n",
       "    <tr>\n",
       "      <th>999</th>\n",
       "      <td>1000</td>\n",
       "      <td>Zen and the Art of Motorcycle Maintenance: An ...</td>\n",
       "      <td>4</td>\n",
       "      <td>3.833333</td>\n",
       "    </tr>\n",
       "  </tbody>\n",
       "</table>\n",
       "<p>1000 rows × 4 columns</p>\n",
       "</div>"
      ],
      "text/plain": [
       "     book_id                                              title  count  \\\n",
       "0          1                                       'Salem's Lot      2   \n",
       "1          2                 1 000 Places to See Before You Die      1   \n",
       "2          3  13 Little Blue Envelopes (Little Blue Envelope...      3   \n",
       "3          4  1491: New Revelations of the Americas Before C...      2   \n",
       "4          5                                               1776      4   \n",
       "..       ...                                                ...    ...   \n",
       "995      996           Wyrd Sisters (Discworld  #6; Witches #2)      3   \n",
       "996      997                        Xenocide (Ender's Saga  #3)      3   \n",
       "997      998                                    Year of Wonders      4   \n",
       "998      999                        You Suck (A Love Story  #2)      2   \n",
       "999     1000  Zen and the Art of Motorcycle Maintenance: An ...      4   \n",
       "\n",
       "          avg  \n",
       "0    3.666667  \n",
       "1    2.500000  \n",
       "2    4.666667  \n",
       "3    4.500000  \n",
       "4    4.000000  \n",
       "..        ...  \n",
       "995  3.666667  \n",
       "996  3.400000  \n",
       "997  3.200000  \n",
       "998  4.500000  \n",
       "999  3.833333  \n",
       "\n",
       "[1000 rows x 4 columns]"
      ]
     },
     "execution_count": 18,
     "metadata": {},
     "output_type": "execute_result"
    }
   ],
   "source": [
    "query = '''\n",
    "    SELECT b.book_id,\n",
    "           b.title,\n",
    "           COUNT(DISTINCT re.review_id),\n",
    "           AVG(ra.rating)\n",
    "    FROM reviews AS re\n",
    "    FULL JOIN ratings AS ra ON re.book_id=ra.book_id\n",
    "    RIGHT JOIN books AS b ON re.book_id=b.book_id\n",
    "    GROUP BY b.book_id;\n",
    "'''\n",
    "\n",
    "pd.io.sql.read_sql(query, con = engine)"
   ]
  },
  {
   "cell_type": "markdown",
   "metadata": {},
   "source": [
    "Всего в базе 1000 книг."
   ]
  },
  {
   "cell_type": "markdown",
   "metadata": {},
   "source": [
    "##  Издательство с наибольшим числом книг толще 50 страниц"
   ]
  },
  {
   "cell_type": "code",
   "execution_count": null,
   "metadata": {},
   "outputs": [],
   "source": [
    "query = '''\n",
    "    SELECT p.publisher,\n",
    "           COUNT(b.book_id)\n",
    "    FROM books AS b\n",
    "    JOIN publishers AS p ON b.publisher_id=p.publisher_id\n",
    "    WHERE b.num_pages > 50\n",
    "    GROUP BY p.publisher_id\n",
    "    ORDER BY COUNT(b.book_id) DESC\n",
    "    LIMIT 1;\n",
    "'''\n",
    "\n",
    "pd.io.sql.read_sql(query, con = engine)"
   ]
  },
  {
   "cell_type": "markdown",
   "metadata": {},
   "source": [
    "Издательство с наибольшим числом книг толще 50 страниц - Penguin Books c 42 книгами."
   ]
  },
  {
   "cell_type": "markdown",
   "metadata": {},
   "source": [
    "##  Автор с самой высокой средней оценкой книг (учитывая только книги с 50 и более оценками)"
   ]
  },
  {
   "cell_type": "code",
   "execution_count": null,
   "metadata": {},
   "outputs": [],
   "source": [
    "query = '''\n",
    "    SELECT a.author,\n",
    "           AVG(r.rating)\n",
    "    FROM authors AS a\n",
    "    JOIN books AS bo ON a.author_id=bo.author_id\n",
    "    JOIN ratings AS r ON bo.book_id=r.book_id\n",
    "    WHERE bo.book_id IN (SELECT b.book_id\n",
    "                        FROM books AS b\n",
    "                        JOIN ratings AS r ON b.book_id=r.book_id\n",
    "                        GROUP BY b.book_id\n",
    "                        HAVING COUNT(r.rating_id) >= 50)\n",
    "    GROUP BY a.author_id\n",
    "    ORDER BY AVG(r.rating) DESC\n",
    "    LIMIT 1;\n",
    "'''\n",
    "\n",
    "pd.io.sql.read_sql(query, con = engine)"
   ]
  },
  {
   "cell_type": "markdown",
   "metadata": {},
   "source": [
    "Автор с самой высокой средней оценкой книг - J.K. Rowling/Mary GrandPré"
   ]
  },
  {
   "cell_type": "markdown",
   "metadata": {},
   "source": [
    "## Среднее количество обзоров от пользователей, которые поставили больше 50 оценок"
   ]
  },
  {
   "cell_type": "code",
   "execution_count": null,
   "metadata": {},
   "outputs": [],
   "source": [
    "query = '''\n",
    "WITH\n",
    "r AS (SELECT COUNT(review_id) AS reviews_count\n",
    "      FROM reviews\n",
    "      WHERE username IN (SELECT username\n",
    "                         FROM ratings\n",
    "                         GROUP BY username\n",
    "                         HAVING COUNT(rating_id) > 50)\n",
    "      GROUP BY username)\n",
    "SELECT AVG(reviews_count)\n",
    "FROM r;\n",
    "'''\n",
    "\n",
    "pd.io.sql.read_sql(query, con = engine)"
   ]
  },
  {
   "cell_type": "markdown",
   "metadata": {},
   "source": [
    "Среднее количество обзоров от пользователей, которые поставили больше 50 оценок - 24.3"
   ]
  }
 ],
 "metadata": {
  "ExecuteTimeLog": [
   {
    "duration": 623,
    "start_time": "2022-11-14T05:57:56.784Z"
   },
   {
    "duration": 3,
    "start_time": "2022-11-14T06:00:44.935Z"
   },
   {
    "duration": 5078,
    "start_time": "2022-11-14T06:00:46.686Z"
   },
   {
    "duration": 333,
    "start_time": "2022-11-14T06:02:27.068Z"
   },
   {
    "duration": 76,
    "start_time": "2022-11-14T06:17:45.047Z"
   },
   {
    "duration": 114,
    "start_time": "2022-11-14T06:36:45.352Z"
   },
   {
    "duration": 90,
    "start_time": "2022-11-14T06:38:54.098Z"
   },
   {
    "duration": 85,
    "start_time": "2022-11-14T06:39:23.947Z"
   },
   {
    "duration": 149,
    "start_time": "2022-11-14T06:49:38.560Z"
   },
   {
    "duration": 84,
    "start_time": "2022-11-14T06:53:14.157Z"
   },
   {
    "duration": 299,
    "start_time": "2022-11-14T06:57:12.823Z"
   },
   {
    "duration": 300,
    "start_time": "2022-11-14T06:58:07.545Z"
   },
   {
    "duration": 86,
    "start_time": "2022-11-14T06:59:00.643Z"
   },
   {
    "duration": 121,
    "start_time": "2022-11-14T07:04:00.204Z"
   },
   {
    "duration": 171,
    "start_time": "2022-11-14T07:14:37.790Z"
   },
   {
    "duration": 78,
    "start_time": "2022-11-14T07:14:53.015Z"
   },
   {
    "duration": 83,
    "start_time": "2022-11-14T07:15:08.765Z"
   },
   {
    "duration": 79,
    "start_time": "2022-11-14T07:15:21.821Z"
   },
   {
    "duration": 87,
    "start_time": "2022-11-14T07:42:54.463Z"
   },
   {
    "duration": 81,
    "start_time": "2022-11-14T07:43:25.735Z"
   },
   {
    "duration": 87,
    "start_time": "2022-11-14T07:45:53.295Z"
   },
   {
    "duration": 85,
    "start_time": "2022-11-14T07:46:00.459Z"
   },
   {
    "duration": 82,
    "start_time": "2022-11-14T07:46:13.492Z"
   },
   {
    "duration": 184,
    "start_time": "2022-11-14T11:28:25.970Z"
   },
   {
    "duration": 136,
    "start_time": "2022-11-14T11:28:38.278Z"
   },
   {
    "duration": 78,
    "start_time": "2022-11-14T11:29:41.404Z"
   },
   {
    "duration": 136,
    "start_time": "2022-11-14T12:48:22.375Z"
   },
   {
    "duration": 139,
    "start_time": "2022-11-14T12:49:02.148Z"
   },
   {
    "duration": 554,
    "start_time": "2022-11-14T15:03:55.074Z"
   },
   {
    "duration": 5372,
    "start_time": "2022-11-14T15:03:55.630Z"
   },
   {
    "duration": 330,
    "start_time": "2022-11-14T15:04:01.004Z"
   },
   {
    "duration": 121,
    "start_time": "2022-11-14T15:04:01.336Z"
   },
   {
    "duration": 76,
    "start_time": "2022-11-14T15:04:01.458Z"
   },
   {
    "duration": 210,
    "start_time": "2022-11-14T15:04:01.535Z"
   },
   {
    "duration": 0,
    "start_time": "2022-11-14T15:04:01.746Z"
   },
   {
    "duration": 0,
    "start_time": "2022-11-14T15:04:01.748Z"
   },
   {
    "duration": 76,
    "start_time": "2022-11-14T15:04:34.329Z"
   },
   {
    "duration": 128,
    "start_time": "2022-11-14T15:09:28.921Z"
   },
   {
    "duration": 132,
    "start_time": "2022-11-14T15:09:57.626Z"
   },
   {
    "duration": 76,
    "start_time": "2022-11-14T15:10:09.494Z"
   },
   {
    "duration": 76,
    "start_time": "2022-11-14T15:12:22.422Z"
   },
   {
    "duration": 81,
    "start_time": "2022-11-14T15:17:01.917Z"
   },
   {
    "duration": 89,
    "start_time": "2022-11-14T15:19:49.044Z"
   },
   {
    "duration": 74,
    "start_time": "2022-11-14T15:22:24.137Z"
   },
   {
    "duration": 131,
    "start_time": "2022-11-14T15:22:58.077Z"
   },
   {
    "duration": 73,
    "start_time": "2022-11-14T15:32:05.952Z"
   },
   {
    "duration": 72,
    "start_time": "2022-11-14T15:32:35.403Z"
   },
   {
    "duration": 76,
    "start_time": "2022-11-14T15:33:12.255Z"
   },
   {
    "duration": 4,
    "start_time": "2022-11-14T15:38:39.996Z"
   },
   {
    "duration": 7,
    "start_time": "2022-11-14T15:38:53.752Z"
   },
   {
    "duration": 134,
    "start_time": "2022-11-14T15:39:09.304Z"
   },
   {
    "duration": 78,
    "start_time": "2022-11-14T15:49:33.616Z"
   },
   {
    "duration": 71,
    "start_time": "2022-11-14T15:50:02.293Z"
   },
   {
    "duration": 73,
    "start_time": "2022-11-14T15:50:18.905Z"
   },
   {
    "duration": 73,
    "start_time": "2022-11-14T15:50:40.713Z"
   },
   {
    "duration": 72,
    "start_time": "2022-11-14T15:51:02.796Z"
   },
   {
    "duration": 105,
    "start_time": "2022-11-14T15:52:19.328Z"
   },
   {
    "duration": 103,
    "start_time": "2022-11-14T15:53:20.773Z"
   },
   {
    "duration": 568,
    "start_time": "2022-11-15T04:18:30.619Z"
   },
   {
    "duration": 4965,
    "start_time": "2022-11-15T04:18:31.189Z"
   },
   {
    "duration": 265,
    "start_time": "2022-11-15T04:18:36.156Z"
   },
   {
    "duration": 74,
    "start_time": "2022-11-15T04:18:36.422Z"
   },
   {
    "duration": 76,
    "start_time": "2022-11-15T04:18:36.498Z"
   },
   {
    "duration": 75,
    "start_time": "2022-11-15T04:18:36.575Z"
   },
   {
    "duration": 75,
    "start_time": "2022-11-15T04:18:36.652Z"
   },
   {
    "duration": 74,
    "start_time": "2022-11-15T04:18:36.729Z"
   },
   {
    "duration": 112,
    "start_time": "2022-11-15T04:18:36.804Z"
   },
   {
    "duration": 45,
    "start_time": "2022-11-15T04:18:36.917Z"
   },
   {
    "duration": 0,
    "start_time": "2022-11-15T04:18:36.963Z"
   },
   {
    "duration": 0,
    "start_time": "2022-11-15T04:18:36.965Z"
   },
   {
    "duration": 0,
    "start_time": "2022-11-15T04:18:36.966Z"
   },
   {
    "duration": 119,
    "start_time": "2022-11-15T04:21:42.019Z"
   },
   {
    "duration": 230,
    "start_time": "2022-11-15T04:22:33.483Z"
   },
   {
    "duration": 127,
    "start_time": "2022-11-15T04:23:02.102Z"
   },
   {
    "duration": 126,
    "start_time": "2022-11-15T04:24:38.219Z"
   },
   {
    "duration": 74,
    "start_time": "2022-11-15T04:24:45.097Z"
   },
   {
    "duration": 130,
    "start_time": "2022-11-15T04:25:12.905Z"
   },
   {
    "duration": 115,
    "start_time": "2022-11-15T04:25:17.007Z"
   },
   {
    "duration": 105,
    "start_time": "2022-11-15T04:28:39.865Z"
   }
  ],
  "kernelspec": {
   "display_name": "Python 3 (ipykernel)",
   "language": "python",
   "name": "python3"
  },
  "language_info": {
   "codemirror_mode": {
    "name": "ipython",
    "version": 3
   },
   "file_extension": ".py",
   "mimetype": "text/x-python",
   "name": "python",
   "nbconvert_exporter": "python",
   "pygments_lexer": "ipython3",
   "version": "3.9.7"
  },
  "toc": {
   "base_numbering": 1,
   "nav_menu": {},
   "number_sections": true,
   "sideBar": true,
   "skip_h1_title": true,
   "title_cell": "Table of Contents",
   "title_sidebar": "Contents",
   "toc_cell": false,
   "toc_position": {},
   "toc_section_display": true,
   "toc_window_display": false
  }
 },
 "nbformat": 4,
 "nbformat_minor": 2
}
